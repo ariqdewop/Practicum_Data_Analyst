{
  "cells": [
    {
      "cell_type": "markdown",
      "metadata": {
        "id": "J81aqITK9mq4"
      },
      "source": [
        "# Daftar Isi\n",
        "\n",
        "- [Daftar Isi](#daftar_isi)\n",
        "- [Pendahuluan](#pendahuluan)\n",
        "- [Pengantar Proyek](#pengantar_proyek)\n",
        "- [Tujuan Proyek](#tujuan_proyek)\n",
        "- [Tahapan Proyek](#tahapan_proyek)\n",
        "- [Memuat seluruh Library dan Membaca filenya](#1)\n",
        "    - [Memuat seluruh Library](#11)\n",
        "    - [Memuat seluruh data untuk masing-masing tabel dan membaca serta menganalisanya](#12)\n",
        "        - [Tabel marketing](#121)\n",
        "        - [Tabel user](#122)\n",
        "        - [Tabel tindakan pengguna atau suatu peristiwa](#123)\n",
        "        - [Tabel group user](#124)\n",
        "- [Pra-Pemrosesan Data](#2)\n",
        "    - [Melihat dan memperbaiki nilai yang hilang](#21)\n",
        "    - [Mengatasi untuk tipe data](#22)\n",
        "- [Analisis Data Eksplorasi](#3)\n",
        "    - [Pelajari konversi di berbagai tahapan corong](#31)\n",
        "    - [Jumlah peristiwa per pengguna di seluruh sampel](#32)\n",
        "    - [Mengidentifikasi pengguna yang berada di kedua sampel](#33)\n",
        "    - [Distribusian jumlah peristiwa berdasarkan hari](#34)\n",
        "    - [Ciri-ciri khusus pada data](#35)\n",
        "- [Evaluasi hasil A/B testing](#4)\n",
        "    - [Apa yang bisa Anda katakan tentang hasil A/B testing?](#41)\n",
        "        - [Melihat Kelompok A dan B Berdasarkan wilayah](#411)\n",
        "        - [Melihat Kelompok A dan B Berdasarkan Device](#412)\n",
        "        - [Melihat Kelompok A dan B Berdasarkan Konversi Kejadian/Peristiwa](#413)\n",
        "        - [Melihat Kelompok A dan B Berdasarkan Promo](#414)\n",
        "        - [Melihat Kelompok A dan B Berdasarkan Hasil Penjualannya](#415)\n",
        "    - [Gunakan uji z atau z-test untuk menguji perbedaan statistik di antara proporsinya](#42)\n",
        "- [Kesimpulan](#5)"
      ]
    },
    {
      "cell_type": "markdown",
      "metadata": {
        "id": "UDxM_89Q9mq6"
      },
      "source": [
        "# Pendahuluan\n",
        "\n",
        "Setiap kali kita melakukan penelitian, kita memerlukan analisa secara menyeluruh dengan seksama. Untuk membuat keputusan yang tepat, sebuah bisnis harus dapat memahami apakah analisa yang dibuatnya benar atau tidak.\n",
        "\n",
        "Dalam proyek ini diminta untuk melakukan test A/B untuk `recommender_system_test` (menguji perubahan terkait pengenalan sistem rekomendasi yang telah ditingkatkan)"
      ]
    },
    {
      "cell_type": "markdown",
      "metadata": {
        "id": "CRnkWTFb9mq7"
      },
      "source": [
        "# Pengantar Proyek\n",
        "\n",
        "Anda telah menerima sebuah tugas analitik dari suatu toko daring internasional. Pendahulu Anda gagal untuk menyelesaikan tugas ini: dia sempat menjalankan A/B testing sebelum akhirnya berhenti dari pekerjaannya (demi beternak ayam di kampung). Dia hanya meninggalkan spesifikasi teknis dan hasil dari eksperimen yang dilakukannya.\n",
        "\n",
        "Adapun deskripsi teknis untuk A/B testing ini dari karyawan pendahulu, yaitu:\n",
        "\n",
        "- Nama eksperimen: recommender_system_test\n",
        "- Kelompok: А (kontrol), B (corong pembayaran yang baru)\n",
        "- Tanggal dimulainya eksperimen: 07-12-2020\n",
        "- Tanggal saat mereka berhenti menerima pengguna baru: 21-12-2020\n",
        "- Tanggal berakhirnya eksperimen: 01-01-2021\n",
        "- Audiens: 15% pengguna baru dari kawasan Uni Eropa\n",
        "- Tujuan eksperimen: menguji perubahan terkait pengenalan sistem rekomendasi yang telah ditingkatkan\n",
        "- Hasil yang diharapkan: dalam kurun waktu 14 hari setelah pendaftaran, para pengguna menunjukkan peningkatan dalam hal konversi ke tayangan halaman produk (peristiwa atau event product_page), aktivitas penambahan item ke keranjang belanja (product_cart), dan pembelian (purchase). Pada setiap tahapan corong product_page → product_cart → purchase, minimal akan ada peningkatan sebesar 10%\n",
        "- Jumlah peserta eksperimen yang diharapkan: 6.000"
      ]
    },
    {
      "cell_type": "markdown",
      "metadata": {
        "id": "xwo4-K6J9mrF"
      },
      "source": [
        "# Tujuan Proyek\n",
        "\n",
        "Untuk meningkatkan pembayaran dengan perubahan terkait pengenalan sistem rekomendasi yang telah ditingkatkan."
      ]
    },
    {
      "cell_type": "markdown",
      "metadata": {
        "id": "qjxSAvkj9mrF"
      },
      "source": [
        "# Tahapan Proyek\n",
        "\n",
        "Ada empat file yang akan dianalisa, yaitu:\n",
        "\n",
        "- `ab_project_marketing_events_us.csv` — kalender event pemasaran untuk tahun 2020\n",
        "    - `name` — nama event pemasaran\n",
        "    - `regions` — kawasan tempat kampanye iklan akan berlangsung\n",
        "    - `start_dt` — tanggal awal kampanye\n",
        "    - `finish_dt` — tanggal akhir kampanye\n",
        "    \n",
        "    \n",
        "- `final_ab_new_users_upd_us.csv` — semua pengguna yang mendaftar di toko daring dari tanggal 7 sampai 21 Desember 2020\n",
        "    - `user_id` — id user\n",
        "    - `first_date` — tanggal pendaftaran (sign up)\n",
        "    - `region` — asal negara user\n",
        "    - `device` — perangkat yang digunakan untuk mendaftar\n",
        "    \n",
        "    \n",
        "- `final_ab_events_upd_us.csv` — semua peristiwa dari pengguna baru sepanjang periode 7 Desember 2020 sampai 1 Januari 2021\n",
        "    - `user_id` — id user\n",
        "    - `event_dt` — tanggal dan waktu peristiwa\n",
        "    - `event_name` — nama jenis peristiwa\n",
        "    - `details` — data tambahan terkait peristiwa tersebut (misalnya, jumlah total pesanan dalam USD untuk peristiwa `purchase`)\n",
        "    \n",
        "    \n",
        "- `final_ab_participants_upd_us.csv` — tabel yang berisi daftar peserta eksperimen\n",
        "    - `user_id` — id user\n",
        "    - `ab_test` — nama eksperimen\n",
        "    - `group` — kelompok eksperimen pengguna berasal\n",
        "    \n",
        "    \n",
        "Lalu melakukan pra-pemrosesan data sebelum dianalisa, setelah itu maka akan langsung di analisa beberap poin, yaitu:\n",
        "- Pelajari konversi di berbagai tahapan corong.\n",
        "- Menganalisa jumlah peristiwa per pengguna terdistribusi secara merata di seluruh sampel atau tidak\n",
        "- Menganalisa pengguna yang berada di kedua sampel\n",
        "- Menganalisa pendistribusian jumlah peristiwa berdasarkan hari\n",
        "- Menganalisa memiliki ciri-ciri khusus yang harus dipertimbangkan sebelum memulai A/B testing\n",
        "- Menganalisa tentang hasil A/B testing\n",
        "- Uji A/B testingnya\n",
        "- Membuat kesimpulan dari Analisa Data Eksplorasi dan Uji A/B testingnya"
      ]
    },
    {
      "cell_type": "markdown",
      "metadata": {
        "id": "cY703nXF9mrI"
      },
      "source": [
        "## Memuat seluruh Library dan Membaca filenya"
      ]
    },
    {
      "cell_type": "markdown",
      "metadata": {
        "id": "_YOfZur69mrI"
      },
      "source": [
        "### Memuat seluruh Library\n",
        "\n",
        "Sebelum memulai analisa, diperlukan library yang hanya dibutuhkan untuk analisa kali ini."
      ]
    },
    {
      "cell_type": "code",
      "execution_count": null,
      "metadata": {
        "id": "OHg6chr29mrJ"
      },
      "outputs": [],
      "source": [
        "# Membuat semua Libary\n",
        "import pandas as pd, numpy as np\n",
        "# Memuat Data Visualisasi\n",
        "import matplotlib.pyplot as plt, seaborn as sns\n",
        "# Membuat Uji Statistik\n",
        "import scipy.stats as st\n",
        "import math\n",
        "# Menyembunyikan warning\n",
        "import warnings"
      ]
    },
    {
      "cell_type": "code",
      "execution_count": null,
      "metadata": {
        "id": "NcW78OqV9mrL"
      },
      "outputs": [],
      "source": [
        "# Membuat set kolom untuk kolom bisa dibaca jika panjang\n",
        "pd.set_option('display.max_columns', 100)\n",
        "# Membuat warning untuk di abaikan dan disembunyikan\n",
        "warnings.filterwarnings('ignore')"
      ]
    },
    {
      "cell_type": "markdown",
      "metadata": {
        "id": "p3GtlH0a9mrN"
      },
      "source": [
        "### Memuat seluruh data untuk masing-masing tabel dan membaca serta menganalisanya."
      ]
    },
    {
      "cell_type": "markdown",
      "metadata": {
        "id": "mV1gWog09mrN"
      },
      "source": [
        "#### Tabel marketing"
      ]
    },
    {
      "cell_type": "code",
      "execution_count": null,
      "metadata": {
        "id": "jiqGah8R9mrO"
      },
      "outputs": [],
      "source": [
        "# Memuat file tabel marketing_event\n",
        "df_marketing_event = pd.read_csv('/datasets/ab_project_marketing_events_us.csv')"
      ]
    },
    {
      "cell_type": "code",
      "execution_count": null,
      "metadata": {
        "id": "MrWfwpbt9mrP",
        "outputId": "aa690855-3a20-464b-dab0-85fb36a693bf"
      },
      "outputs": [
        {
          "data": {
            "text/html": [
              "<div>\n",
              "<style scoped>\n",
              "    .dataframe tbody tr th:only-of-type {\n",
              "        vertical-align: middle;\n",
              "    }\n",
              "\n",
              "    .dataframe tbody tr th {\n",
              "        vertical-align: top;\n",
              "    }\n",
              "\n",
              "    .dataframe thead th {\n",
              "        text-align: right;\n",
              "    }\n",
              "</style>\n",
              "<table border=\"1\" class=\"dataframe\">\n",
              "  <thead>\n",
              "    <tr style=\"text-align: right;\">\n",
              "      <th></th>\n",
              "      <th>name</th>\n",
              "      <th>regions</th>\n",
              "      <th>start_dt</th>\n",
              "      <th>finish_dt</th>\n",
              "    </tr>\n",
              "  </thead>\n",
              "  <tbody>\n",
              "    <tr>\n",
              "      <th>0</th>\n",
              "      <td>Christmas&amp;New Year Promo</td>\n",
              "      <td>EU, N.America</td>\n",
              "      <td>2020-12-25</td>\n",
              "      <td>2021-01-03</td>\n",
              "    </tr>\n",
              "    <tr>\n",
              "      <th>1</th>\n",
              "      <td>St. Valentine's Day Giveaway</td>\n",
              "      <td>EU, CIS, APAC, N.America</td>\n",
              "      <td>2020-02-14</td>\n",
              "      <td>2020-02-16</td>\n",
              "    </tr>\n",
              "    <tr>\n",
              "      <th>2</th>\n",
              "      <td>St. Patric's Day Promo</td>\n",
              "      <td>EU, N.America</td>\n",
              "      <td>2020-03-17</td>\n",
              "      <td>2020-03-19</td>\n",
              "    </tr>\n",
              "    <tr>\n",
              "      <th>3</th>\n",
              "      <td>Easter Promo</td>\n",
              "      <td>EU, CIS, APAC, N.America</td>\n",
              "      <td>2020-04-12</td>\n",
              "      <td>2020-04-19</td>\n",
              "    </tr>\n",
              "    <tr>\n",
              "      <th>4</th>\n",
              "      <td>4th of July Promo</td>\n",
              "      <td>N.America</td>\n",
              "      <td>2020-07-04</td>\n",
              "      <td>2020-07-11</td>\n",
              "    </tr>\n",
              "  </tbody>\n",
              "</table>\n",
              "</div>"
            ],
            "text/plain": [
              "                           name                   regions    start_dt  \\\n",
              "0      Christmas&New Year Promo             EU, N.America  2020-12-25   \n",
              "1  St. Valentine's Day Giveaway  EU, CIS, APAC, N.America  2020-02-14   \n",
              "2        St. Patric's Day Promo             EU, N.America  2020-03-17   \n",
              "3                  Easter Promo  EU, CIS, APAC, N.America  2020-04-12   \n",
              "4             4th of July Promo                 N.America  2020-07-04   \n",
              "\n",
              "    finish_dt  \n",
              "0  2021-01-03  \n",
              "1  2020-02-16  \n",
              "2  2020-03-19  \n",
              "3  2020-04-19  \n",
              "4  2020-07-11  "
            ]
          },
          "execution_count": 4,
          "metadata": {},
          "output_type": "execute_result"
        }
      ],
      "source": [
        "# Melihat tabelnya\n",
        "df_marketing_event.head()"
      ]
    },
    {
      "cell_type": "markdown",
      "metadata": {
        "id": "rNzP7f8m9mrR"
      },
      "source": [
        "**Deskripsi Data**\n",
        "\n",
        "Tabel marketing_event:\n",
        "\n",
        "- `name` — nama event pemasaran\n",
        "- `regions` — kawasan tempat kampanye iklan akan berlangsung\n",
        "- `start_dt` — tanggal awal kampanye\n",
        "- `finish_dt` — tanggal akhir kampanye"
      ]
    },
    {
      "cell_type": "code",
      "execution_count": null,
      "metadata": {
        "id": "L2FS05Yj9mrT",
        "outputId": "09acfc5c-0573-4d4c-8339-1120726ba535"
      },
      "outputs": [
        {
          "name": "stdout",
          "output_type": "stream",
          "text": [
            "<class 'pandas.core.frame.DataFrame'>\n",
            "RangeIndex: 14 entries, 0 to 13\n",
            "Data columns (total 4 columns):\n",
            " #   Column     Non-Null Count  Dtype \n",
            "---  ------     --------------  ----- \n",
            " 0   name       14 non-null     object\n",
            " 1   regions    14 non-null     object\n",
            " 2   start_dt   14 non-null     object\n",
            " 3   finish_dt  14 non-null     object\n",
            "dtypes: object(4)\n",
            "memory usage: 576.0+ bytes\n"
          ]
        }
      ],
      "source": [
        "# Melihat informasi keseluruhan pada tabel marketing_event\n",
        "df_marketing_event.info()"
      ]
    },
    {
      "cell_type": "code",
      "execution_count": null,
      "metadata": {
        "id": "SokvaqfT9mrT",
        "outputId": "064160ce-aefe-4d6e-9142-c0a095e47514"
      },
      "outputs": [
        {
          "data": {
            "text/plain": [
              "name         0\n",
              "regions      0\n",
              "start_dt     0\n",
              "finish_dt    0\n",
              "dtype: int64"
            ]
          },
          "execution_count": 6,
          "metadata": {},
          "output_type": "execute_result"
        }
      ],
      "source": [
        "# Melihat nilai yang hilang pada tabel marketing_event\n",
        "df_marketing_event.isna().sum()"
      ]
    },
    {
      "cell_type": "code",
      "execution_count": null,
      "metadata": {
        "id": "QRGsY1Os9mrU",
        "outputId": "4d99253d-bf58-4131-d0ab-ab8a17d0706c"
      },
      "outputs": [
        {
          "data": {
            "text/plain": [
              "0"
            ]
          },
          "execution_count": 7,
          "metadata": {},
          "output_type": "execute_result"
        }
      ],
      "source": [
        "# Melihat nilai yang duplikasi pada tabel marketing_event\n",
        "df_marketing_event.duplicated().sum()"
      ]
    },
    {
      "cell_type": "code",
      "execution_count": null,
      "metadata": {
        "id": "eFnqrllI9mrV",
        "outputId": "f37177fc-420d-4193-af13-8fe5f08af66b"
      },
      "outputs": [
        {
          "data": {
            "text/plain": [
              "(14, 4)"
            ]
          },
          "execution_count": 8,
          "metadata": {},
          "output_type": "execute_result"
        }
      ],
      "source": [
        "# Melihat jumlah baris dan kolom pada tabel marketing_event\n",
        "df_marketing_event.shape"
      ]
    },
    {
      "cell_type": "markdown",
      "metadata": {
        "id": "Pts2QEfs9mrW"
      },
      "source": [
        "Setelah melihat dan menganalisa tabel marketing_event, maka didapatkan beberapa kesimpulan untuk tabel ini, yaitu:\n",
        "\n",
        "- Tidak mempunyai masalah untuk nilai yang hilang\n",
        "- Tidak mempunyai masalah untuk nilai yang duplikasi\n",
        "- Tidak mempunyai masalah untuk nama kolomnya\n",
        "- Mempunyai masalah untuk tipe data `start_dt` dan `finish_dt` yang perlu di konversi menjadi waktu"
      ]
    },
    {
      "cell_type": "markdown",
      "metadata": {
        "id": "WIoaG6tZ9mrY"
      },
      "source": [
        "#### Tabel user"
      ]
    },
    {
      "cell_type": "code",
      "execution_count": null,
      "metadata": {
        "id": "-GtLzjSA9mrY"
      },
      "outputs": [],
      "source": [
        "# Memuat file tabel ab_user\n",
        "df_ab_user = pd.read_csv('/datasets/final_ab_new_users_upd_us.csv')"
      ]
    },
    {
      "cell_type": "code",
      "execution_count": null,
      "metadata": {
        "id": "bDdPN_DW9mrY",
        "outputId": "822d6bd6-47cf-4f70-a132-543fe89c8b69"
      },
      "outputs": [
        {
          "data": {
            "text/html": [
              "<div>\n",
              "<style scoped>\n",
              "    .dataframe tbody tr th:only-of-type {\n",
              "        vertical-align: middle;\n",
              "    }\n",
              "\n",
              "    .dataframe tbody tr th {\n",
              "        vertical-align: top;\n",
              "    }\n",
              "\n",
              "    .dataframe thead th {\n",
              "        text-align: right;\n",
              "    }\n",
              "</style>\n",
              "<table border=\"1\" class=\"dataframe\">\n",
              "  <thead>\n",
              "    <tr style=\"text-align: right;\">\n",
              "      <th></th>\n",
              "      <th>user_id</th>\n",
              "      <th>first_date</th>\n",
              "      <th>region</th>\n",
              "      <th>device</th>\n",
              "    </tr>\n",
              "  </thead>\n",
              "  <tbody>\n",
              "    <tr>\n",
              "      <th>0</th>\n",
              "      <td>D72A72121175D8BE</td>\n",
              "      <td>2020-12-07</td>\n",
              "      <td>EU</td>\n",
              "      <td>PC</td>\n",
              "    </tr>\n",
              "    <tr>\n",
              "      <th>1</th>\n",
              "      <td>F1C668619DFE6E65</td>\n",
              "      <td>2020-12-07</td>\n",
              "      <td>N.America</td>\n",
              "      <td>Android</td>\n",
              "    </tr>\n",
              "    <tr>\n",
              "      <th>2</th>\n",
              "      <td>2E1BF1D4C37EA01F</td>\n",
              "      <td>2020-12-07</td>\n",
              "      <td>EU</td>\n",
              "      <td>PC</td>\n",
              "    </tr>\n",
              "    <tr>\n",
              "      <th>3</th>\n",
              "      <td>50734A22C0C63768</td>\n",
              "      <td>2020-12-07</td>\n",
              "      <td>EU</td>\n",
              "      <td>iPhone</td>\n",
              "    </tr>\n",
              "    <tr>\n",
              "      <th>4</th>\n",
              "      <td>E1BDDCE0DAFA2679</td>\n",
              "      <td>2020-12-07</td>\n",
              "      <td>N.America</td>\n",
              "      <td>iPhone</td>\n",
              "    </tr>\n",
              "  </tbody>\n",
              "</table>\n",
              "</div>"
            ],
            "text/plain": [
              "            user_id  first_date     region   device\n",
              "0  D72A72121175D8BE  2020-12-07         EU       PC\n",
              "1  F1C668619DFE6E65  2020-12-07  N.America  Android\n",
              "2  2E1BF1D4C37EA01F  2020-12-07         EU       PC\n",
              "3  50734A22C0C63768  2020-12-07         EU   iPhone\n",
              "4  E1BDDCE0DAFA2679  2020-12-07  N.America   iPhone"
            ]
          },
          "execution_count": 10,
          "metadata": {},
          "output_type": "execute_result"
        }
      ],
      "source": [
        "# Melihat tabelnya \n",
        "df_ab_user.head()"
      ]
    },
    {
      "cell_type": "markdown",
      "metadata": {
        "id": "xPQGCdG09mrZ"
      },
      "source": [
        "**Deskripsi Data**\n",
        "\n",
        "Tabel ab_user:\n",
        "\n",
        "- `user_id` — id user\n",
        "- `first_date` — tanggal pendaftaran (sign up)\n",
        "- `region` — asal negara user\n",
        "- `device` — perangkat yang digunakan untuk mendaftar"
      ]
    },
    {
      "cell_type": "code",
      "execution_count": null,
      "metadata": {
        "id": "ZUYZtVJo9mrZ",
        "outputId": "b155836b-0916-44b9-dd46-2d5ce799e1a7"
      },
      "outputs": [
        {
          "name": "stdout",
          "output_type": "stream",
          "text": [
            "<class 'pandas.core.frame.DataFrame'>\n",
            "RangeIndex: 58703 entries, 0 to 58702\n",
            "Data columns (total 4 columns):\n",
            " #   Column      Non-Null Count  Dtype \n",
            "---  ------      --------------  ----- \n",
            " 0   user_id     58703 non-null  object\n",
            " 1   first_date  58703 non-null  object\n",
            " 2   region      58703 non-null  object\n",
            " 3   device      58703 non-null  object\n",
            "dtypes: object(4)\n",
            "memory usage: 1.8+ MB\n"
          ]
        }
      ],
      "source": [
        "# Melihat informasi keseluruhan pada tabel ab_user\n",
        "df_ab_user.info()"
      ]
    },
    {
      "cell_type": "code",
      "execution_count": null,
      "metadata": {
        "id": "-r3AQZZF9mra",
        "outputId": "02040d2f-c42d-4d33-ac2a-6717d693b970"
      },
      "outputs": [
        {
          "data": {
            "text/plain": [
              "user_id       0\n",
              "first_date    0\n",
              "region        0\n",
              "device        0\n",
              "dtype: int64"
            ]
          },
          "execution_count": 12,
          "metadata": {},
          "output_type": "execute_result"
        }
      ],
      "source": [
        "# Melihat nilai yang hilang pada tabel ab_user\n",
        "df_ab_user.isna().sum()"
      ]
    },
    {
      "cell_type": "code",
      "execution_count": null,
      "metadata": {
        "id": "Q7ILUxT99mrb",
        "outputId": "86657bfc-017a-4445-8b4c-c8d2a03c4922"
      },
      "outputs": [
        {
          "data": {
            "text/plain": [
              "0"
            ]
          },
          "execution_count": 13,
          "metadata": {},
          "output_type": "execute_result"
        }
      ],
      "source": [
        "# Melihat nilai yang duplikasi pada tabel ab_user\n",
        "df_ab_user.duplicated().sum()"
      ]
    },
    {
      "cell_type": "code",
      "execution_count": null,
      "metadata": {
        "id": "AnWLEDBs9mrb",
        "outputId": "a753c954-f7fe-4116-935c-31f0571315ca"
      },
      "outputs": [
        {
          "data": {
            "text/plain": [
              "(58703, 4)"
            ]
          },
          "execution_count": 14,
          "metadata": {},
          "output_type": "execute_result"
        }
      ],
      "source": [
        "# Melihat jumlah baris dan kolom pada tabel ab_user\n",
        "df_ab_user.shape"
      ]
    },
    {
      "cell_type": "markdown",
      "metadata": {
        "id": "d8TnLoaq9mrc"
      },
      "source": [
        "Setelah melihat dan menganalisa tabel ab_user, maka didapatkan beberapa kesimpulan untuk tabel ini, yaitu:\n",
        "\n",
        "- Tidak mempunyai masalah untuk nilai yang hilang\n",
        "- Tidak mempunyai masalah untuk nilai yang duplikasi\n",
        "- Tidak mempunyai masalah untuk nama kolomnya\n",
        "- Tidak mempunyai masalah untuk tipe data "
      ]
    },
    {
      "cell_type": "markdown",
      "metadata": {
        "id": "sfcLhpk89mrd"
      },
      "source": [
        "####  Tabel tindakan pengguna atau suatu peristiwa"
      ]
    },
    {
      "cell_type": "code",
      "execution_count": null,
      "metadata": {
        "id": "aBPTY_K69mrd"
      },
      "outputs": [],
      "source": [
        "# Memuat file tabel log_event\n",
        "df_log_event = pd.read_csv('/datasets/final_ab_events_upd_us.csv')"
      ]
    },
    {
      "cell_type": "code",
      "execution_count": null,
      "metadata": {
        "id": "GHky1KvV9mrd",
        "outputId": "4df41968-d792-4d89-9aec-818e3bb06520"
      },
      "outputs": [
        {
          "data": {
            "text/html": [
              "<div>\n",
              "<style scoped>\n",
              "    .dataframe tbody tr th:only-of-type {\n",
              "        vertical-align: middle;\n",
              "    }\n",
              "\n",
              "    .dataframe tbody tr th {\n",
              "        vertical-align: top;\n",
              "    }\n",
              "\n",
              "    .dataframe thead th {\n",
              "        text-align: right;\n",
              "    }\n",
              "</style>\n",
              "<table border=\"1\" class=\"dataframe\">\n",
              "  <thead>\n",
              "    <tr style=\"text-align: right;\">\n",
              "      <th></th>\n",
              "      <th>user_id</th>\n",
              "      <th>event_dt</th>\n",
              "      <th>event_name</th>\n",
              "      <th>details</th>\n",
              "    </tr>\n",
              "  </thead>\n",
              "  <tbody>\n",
              "    <tr>\n",
              "      <th>0</th>\n",
              "      <td>E1BDDCE0DAFA2679</td>\n",
              "      <td>2020-12-07 20:22:03</td>\n",
              "      <td>purchase</td>\n",
              "      <td>99.99</td>\n",
              "    </tr>\n",
              "    <tr>\n",
              "      <th>1</th>\n",
              "      <td>7B6452F081F49504</td>\n",
              "      <td>2020-12-07 09:22:53</td>\n",
              "      <td>purchase</td>\n",
              "      <td>9.99</td>\n",
              "    </tr>\n",
              "    <tr>\n",
              "      <th>2</th>\n",
              "      <td>9CD9F34546DF254C</td>\n",
              "      <td>2020-12-07 12:59:29</td>\n",
              "      <td>purchase</td>\n",
              "      <td>4.99</td>\n",
              "    </tr>\n",
              "    <tr>\n",
              "      <th>3</th>\n",
              "      <td>96F27A054B191457</td>\n",
              "      <td>2020-12-07 04:02:40</td>\n",
              "      <td>purchase</td>\n",
              "      <td>4.99</td>\n",
              "    </tr>\n",
              "    <tr>\n",
              "      <th>4</th>\n",
              "      <td>1FD7660FDF94CA1F</td>\n",
              "      <td>2020-12-07 10:15:09</td>\n",
              "      <td>purchase</td>\n",
              "      <td>4.99</td>\n",
              "    </tr>\n",
              "  </tbody>\n",
              "</table>\n",
              "</div>"
            ],
            "text/plain": [
              "            user_id             event_dt event_name  details\n",
              "0  E1BDDCE0DAFA2679  2020-12-07 20:22:03   purchase    99.99\n",
              "1  7B6452F081F49504  2020-12-07 09:22:53   purchase     9.99\n",
              "2  9CD9F34546DF254C  2020-12-07 12:59:29   purchase     4.99\n",
              "3  96F27A054B191457  2020-12-07 04:02:40   purchase     4.99\n",
              "4  1FD7660FDF94CA1F  2020-12-07 10:15:09   purchase     4.99"
            ]
          },
          "execution_count": 16,
          "metadata": {},
          "output_type": "execute_result"
        }
      ],
      "source": [
        "# Melihat tabelnya\n",
        "df_log_event.head()"
      ]
    },
    {
      "cell_type": "markdown",
      "metadata": {
        "id": "JEk1MpsE9mre"
      },
      "source": [
        "**Deskripsi Data**\n",
        "\n",
        "Tabel log_event:\n",
        "\n",
        "- `user_id` — id user\n",
        "- `event_dt` — tanggal dan waktu peristiwa\n",
        "- `event_name` — nama jenis peristiwa\n",
        "- `details` — data tambahan terkait peristiwa tersebut (misalnya, jumlah total pesanan dalam USD untuk peristiwa `purchase`)"
      ]
    },
    {
      "cell_type": "code",
      "execution_count": null,
      "metadata": {
        "id": "CNzghhVp9mre",
        "outputId": "7b6d0c87-346d-4615-fa50-cd5be034a046"
      },
      "outputs": [
        {
          "name": "stdout",
          "output_type": "stream",
          "text": [
            "<class 'pandas.core.frame.DataFrame'>\n",
            "RangeIndex: 423761 entries, 0 to 423760\n",
            "Data columns (total 4 columns):\n",
            " #   Column      Non-Null Count   Dtype  \n",
            "---  ------      --------------   -----  \n",
            " 0   user_id     423761 non-null  object \n",
            " 1   event_dt    423761 non-null  object \n",
            " 2   event_name  423761 non-null  object \n",
            " 3   details     60314 non-null   float64\n",
            "dtypes: float64(1), object(3)\n",
            "memory usage: 12.9+ MB\n"
          ]
        }
      ],
      "source": [
        "# Melihat informasi keseluruhan pada tabel log_event\n",
        "df_log_event.info()"
      ]
    },
    {
      "cell_type": "code",
      "execution_count": null,
      "metadata": {
        "id": "mhTMF5Ig9mrf",
        "outputId": "f501a100-5344-4e2f-b370-6277893754f8"
      },
      "outputs": [
        {
          "data": {
            "text/plain": [
              "user_id            0\n",
              "event_dt           0\n",
              "event_name         0\n",
              "details       363447\n",
              "dtype: int64"
            ]
          },
          "execution_count": 18,
          "metadata": {},
          "output_type": "execute_result"
        }
      ],
      "source": [
        "# Melihat nilai yang hilang pada tabel log_event\n",
        "df_log_event.isna().sum()"
      ]
    },
    {
      "cell_type": "code",
      "execution_count": null,
      "metadata": {
        "id": "3d5K4Yfl9mrf",
        "outputId": "9472c25a-5956-4064-a7d1-b2594c4ee778"
      },
      "outputs": [
        {
          "data": {
            "text/plain": [
              "0"
            ]
          },
          "execution_count": 19,
          "metadata": {},
          "output_type": "execute_result"
        }
      ],
      "source": [
        "# Melihat nilai yang duplikasi pada tabel log_event\n",
        "df_log_event.duplicated().sum()"
      ]
    },
    {
      "cell_type": "code",
      "execution_count": null,
      "metadata": {
        "id": "M4IDpnu79mrg",
        "outputId": "1c489a3c-e9f3-47b5-d45a-e58cecb9b821"
      },
      "outputs": [
        {
          "data": {
            "text/plain": [
              "(423761, 4)"
            ]
          },
          "execution_count": 20,
          "metadata": {},
          "output_type": "execute_result"
        }
      ],
      "source": [
        "# Melihat jumlah baris dan kolom pada tabel log_event\n",
        "df_log_event.shape"
      ]
    },
    {
      "cell_type": "markdown",
      "metadata": {
        "id": "8JHF3RHj9mrg"
      },
      "source": [
        "Setelah melihat dan menganalisa tabel log_event, maka didapatkan beberapa kesimpulan untuk tabel ini, yaitu:\n",
        "\n",
        "- Mempunyai masalah untuk nilai yang hilang\n",
        "- Mempunyai masalah untuk nilai yang duplikasi\n",
        "- Mempunyai masalah untuk tipe data `event_dt` yang perlu di konversi menjadi waktu \n",
        "- Tidak mempunyai masalah untuk nama kolomnya"
      ]
    },
    {
      "cell_type": "markdown",
      "metadata": {
        "id": "PXWnYDmM9mrh"
      },
      "source": [
        "Untuk masalah nilai hilang dan duplikasi perlu analisa lebih lanjut di `Pra-Pemrosesan data`, karena untuk melihat apakah masalah itu benar atau tidak."
      ]
    },
    {
      "cell_type": "markdown",
      "metadata": {
        "id": "2lcWhH5u9mrh"
      },
      "source": [
        "#### Tabel group user"
      ]
    },
    {
      "cell_type": "code",
      "execution_count": null,
      "metadata": {
        "id": "WZxouSFu9mri"
      },
      "outputs": [],
      "source": [
        "# Memuat file tabel group_ab_user\n",
        "df_group_ab_user = pd.read_csv('/datasets/final_ab_participants_upd_us.csv')"
      ]
    },
    {
      "cell_type": "code",
      "execution_count": null,
      "metadata": {
        "id": "8zZTMgWr9mri",
        "outputId": "435fe3e8-6f9e-41ae-befb-25426190d065"
      },
      "outputs": [
        {
          "data": {
            "text/html": [
              "<div>\n",
              "<style scoped>\n",
              "    .dataframe tbody tr th:only-of-type {\n",
              "        vertical-align: middle;\n",
              "    }\n",
              "\n",
              "    .dataframe tbody tr th {\n",
              "        vertical-align: top;\n",
              "    }\n",
              "\n",
              "    .dataframe thead th {\n",
              "        text-align: right;\n",
              "    }\n",
              "</style>\n",
              "<table border=\"1\" class=\"dataframe\">\n",
              "  <thead>\n",
              "    <tr style=\"text-align: right;\">\n",
              "      <th></th>\n",
              "      <th>user_id</th>\n",
              "      <th>group</th>\n",
              "      <th>ab_test</th>\n",
              "    </tr>\n",
              "  </thead>\n",
              "  <tbody>\n",
              "    <tr>\n",
              "      <th>0</th>\n",
              "      <td>D1ABA3E2887B6A73</td>\n",
              "      <td>A</td>\n",
              "      <td>recommender_system_test</td>\n",
              "    </tr>\n",
              "    <tr>\n",
              "      <th>1</th>\n",
              "      <td>A7A3664BD6242119</td>\n",
              "      <td>A</td>\n",
              "      <td>recommender_system_test</td>\n",
              "    </tr>\n",
              "    <tr>\n",
              "      <th>2</th>\n",
              "      <td>DABC14FDDFADD29E</td>\n",
              "      <td>A</td>\n",
              "      <td>recommender_system_test</td>\n",
              "    </tr>\n",
              "    <tr>\n",
              "      <th>3</th>\n",
              "      <td>04988C5DF189632E</td>\n",
              "      <td>A</td>\n",
              "      <td>recommender_system_test</td>\n",
              "    </tr>\n",
              "    <tr>\n",
              "      <th>4</th>\n",
              "      <td>4FF2998A348C484F</td>\n",
              "      <td>A</td>\n",
              "      <td>recommender_system_test</td>\n",
              "    </tr>\n",
              "  </tbody>\n",
              "</table>\n",
              "</div>"
            ],
            "text/plain": [
              "            user_id group                  ab_test\n",
              "0  D1ABA3E2887B6A73     A  recommender_system_test\n",
              "1  A7A3664BD6242119     A  recommender_system_test\n",
              "2  DABC14FDDFADD29E     A  recommender_system_test\n",
              "3  04988C5DF189632E     A  recommender_system_test\n",
              "4  4FF2998A348C484F     A  recommender_system_test"
            ]
          },
          "execution_count": 22,
          "metadata": {},
          "output_type": "execute_result"
        }
      ],
      "source": [
        "# Melihat tabelnya\n",
        "df_group_ab_user.head()"
      ]
    },
    {
      "cell_type": "markdown",
      "metadata": {
        "id": "Pdk_JZJJ9mri"
      },
      "source": [
        "**Deskripsi Data**\n",
        "\n",
        "Tabel group_ab_user:\n",
        "\n",
        "- `user_id` — id user\n",
        "- `ab_test` — nama eksperimen\n",
        "- `group` — kelompok eksperimen pengguna berasal"
      ]
    },
    {
      "cell_type": "code",
      "execution_count": null,
      "metadata": {
        "id": "bnAy6sTi9mrj",
        "outputId": "398793d3-16ec-4476-baac-c71129553ac8"
      },
      "outputs": [
        {
          "name": "stdout",
          "output_type": "stream",
          "text": [
            "<class 'pandas.core.frame.DataFrame'>\n",
            "RangeIndex: 14525 entries, 0 to 14524\n",
            "Data columns (total 3 columns):\n",
            " #   Column   Non-Null Count  Dtype \n",
            "---  ------   --------------  ----- \n",
            " 0   user_id  14525 non-null  object\n",
            " 1   group    14525 non-null  object\n",
            " 2   ab_test  14525 non-null  object\n",
            "dtypes: object(3)\n",
            "memory usage: 340.6+ KB\n"
          ]
        }
      ],
      "source": [
        "# Melihat informasi keseluruhan pada tabel group_ab_user\n",
        "df_group_ab_user.info()"
      ]
    },
    {
      "cell_type": "code",
      "execution_count": null,
      "metadata": {
        "id": "HSLKrvbG9mrj",
        "outputId": "bdaecb46-b6f3-40ab-a8e0-1ff8e6939271"
      },
      "outputs": [
        {
          "data": {
            "text/plain": [
              "user_id    0\n",
              "group      0\n",
              "ab_test    0\n",
              "dtype: int64"
            ]
          },
          "execution_count": 24,
          "metadata": {},
          "output_type": "execute_result"
        }
      ],
      "source": [
        "# Melihat nilai yang hilang pada tabel group_ab_user\n",
        "df_group_ab_user.isna().sum()"
      ]
    },
    {
      "cell_type": "code",
      "execution_count": null,
      "metadata": {
        "id": "C-iD1UQ-9mrk",
        "outputId": "46b82af8-10c2-431a-e6a6-d3429059bbe7"
      },
      "outputs": [
        {
          "data": {
            "text/plain": [
              "0"
            ]
          },
          "execution_count": 25,
          "metadata": {},
          "output_type": "execute_result"
        }
      ],
      "source": [
        "# Melihat nilai yang duplikasi pada tabel group_ab_user\n",
        "df_group_ab_user.duplicated().sum()"
      ]
    },
    {
      "cell_type": "code",
      "execution_count": null,
      "metadata": {
        "id": "a3XrLDmp9mrl",
        "outputId": "070c08b6-839d-4410-fe4a-838c750f5523"
      },
      "outputs": [
        {
          "data": {
            "text/plain": [
              "(14525, 3)"
            ]
          },
          "execution_count": 26,
          "metadata": {},
          "output_type": "execute_result"
        }
      ],
      "source": [
        "# Melihat jumlah baris dan kolom pada tabel group_ab_user\n",
        "df_group_ab_user.shape"
      ]
    },
    {
      "cell_type": "markdown",
      "metadata": {
        "id": "lMGE0rGc9mrm"
      },
      "source": [
        "Setelah melihat dan menganalisa tabel group_ab_user, maka didapatkan beberapa kesimpulan untuk tabel ini, yaitu:\n",
        "\n",
        "- Tidak mempunyai masalah untuk nilai yang hilang\n",
        "- Tidak mempunyai masalah untuk nilai yang duplikasi\n",
        "- Tidak mempunyai masalah untuk tipe data\n",
        "- Tidak mempunyai masalah untuk nama kolomnya"
      ]
    },
    {
      "cell_type": "markdown",
      "metadata": {
        "id": "Bx0jsBJD9mrn"
      },
      "source": [
        "## Pra-Pemrosesan Data"
      ]
    },
    {
      "cell_type": "markdown",
      "metadata": {
        "id": "moWsWXMv9mro"
      },
      "source": [
        "### Melihat dan memperbaiki nilai yang hilang"
      ]
    },
    {
      "cell_type": "markdown",
      "metadata": {
        "id": "9T8LBBXA9mro"
      },
      "source": [
        "Pada tabel tindakan pengguna atau suatu peristiwa, bahwa ada nilai yang hilang pada kolom `details`. Sebaiknya analisa dahulu untuk kolom `details` itu mempunyai hubungan dengan kolom lain dan hubungannya seperti apa."
      ]
    },
    {
      "cell_type": "code",
      "execution_count": null,
      "metadata": {
        "id": "Y0dY3V_V9mro",
        "outputId": "ebd1a8a1-2379-4bed-bf50-6d1cdb545ebb"
      },
      "outputs": [
        {
          "data": {
            "text/html": [
              "<div>\n",
              "<style scoped>\n",
              "    .dataframe tbody tr th:only-of-type {\n",
              "        vertical-align: middle;\n",
              "    }\n",
              "\n",
              "    .dataframe tbody tr th {\n",
              "        vertical-align: top;\n",
              "    }\n",
              "\n",
              "    .dataframe thead th {\n",
              "        text-align: right;\n",
              "    }\n",
              "</style>\n",
              "<table border=\"1\" class=\"dataframe\">\n",
              "  <thead>\n",
              "    <tr style=\"text-align: right;\">\n",
              "      <th></th>\n",
              "      <th>user_id</th>\n",
              "      <th>event_dt</th>\n",
              "      <th>event_name</th>\n",
              "      <th>details</th>\n",
              "    </tr>\n",
              "  </thead>\n",
              "  <tbody>\n",
              "    <tr>\n",
              "      <th>60314</th>\n",
              "      <td>2E1BF1D4C37EA01F</td>\n",
              "      <td>2020-12-07 09:05:47</td>\n",
              "      <td>product_cart</td>\n",
              "      <td>NaN</td>\n",
              "    </tr>\n",
              "    <tr>\n",
              "      <th>60315</th>\n",
              "      <td>50734A22C0C63768</td>\n",
              "      <td>2020-12-07 13:24:03</td>\n",
              "      <td>product_cart</td>\n",
              "      <td>NaN</td>\n",
              "    </tr>\n",
              "    <tr>\n",
              "      <th>60316</th>\n",
              "      <td>5EB159DA9DC94DBA</td>\n",
              "      <td>2020-12-07 22:54:02</td>\n",
              "      <td>product_cart</td>\n",
              "      <td>NaN</td>\n",
              "    </tr>\n",
              "    <tr>\n",
              "      <th>60317</th>\n",
              "      <td>084A22B980BA8169</td>\n",
              "      <td>2020-12-07 15:25:55</td>\n",
              "      <td>product_cart</td>\n",
              "      <td>NaN</td>\n",
              "    </tr>\n",
              "    <tr>\n",
              "      <th>60318</th>\n",
              "      <td>0FC21E6F8FAA8DEC</td>\n",
              "      <td>2020-12-07 06:56:27</td>\n",
              "      <td>product_cart</td>\n",
              "      <td>NaN</td>\n",
              "    </tr>\n",
              "    <tr>\n",
              "      <th>...</th>\n",
              "      <td>...</td>\n",
              "      <td>...</td>\n",
              "      <td>...</td>\n",
              "      <td>...</td>\n",
              "    </tr>\n",
              "    <tr>\n",
              "      <th>423756</th>\n",
              "      <td>245E85F65C358E08</td>\n",
              "      <td>2020-12-30 19:35:55</td>\n",
              "      <td>login</td>\n",
              "      <td>NaN</td>\n",
              "    </tr>\n",
              "    <tr>\n",
              "      <th>423757</th>\n",
              "      <td>9385A108F5A0A7A7</td>\n",
              "      <td>2020-12-30 10:54:15</td>\n",
              "      <td>login</td>\n",
              "      <td>NaN</td>\n",
              "    </tr>\n",
              "    <tr>\n",
              "      <th>423758</th>\n",
              "      <td>DB650B7559AC6EAC</td>\n",
              "      <td>2020-12-30 10:59:09</td>\n",
              "      <td>login</td>\n",
              "      <td>NaN</td>\n",
              "    </tr>\n",
              "    <tr>\n",
              "      <th>423759</th>\n",
              "      <td>F80C9BDDEA02E53C</td>\n",
              "      <td>2020-12-30 09:53:39</td>\n",
              "      <td>login</td>\n",
              "      <td>NaN</td>\n",
              "    </tr>\n",
              "    <tr>\n",
              "      <th>423760</th>\n",
              "      <td>7AEC61159B672CC5</td>\n",
              "      <td>2020-12-30 11:36:13</td>\n",
              "      <td>login</td>\n",
              "      <td>NaN</td>\n",
              "    </tr>\n",
              "  </tbody>\n",
              "</table>\n",
              "<p>363447 rows × 4 columns</p>\n",
              "</div>"
            ],
            "text/plain": [
              "                 user_id             event_dt    event_name  details\n",
              "60314   2E1BF1D4C37EA01F  2020-12-07 09:05:47  product_cart      NaN\n",
              "60315   50734A22C0C63768  2020-12-07 13:24:03  product_cart      NaN\n",
              "60316   5EB159DA9DC94DBA  2020-12-07 22:54:02  product_cart      NaN\n",
              "60317   084A22B980BA8169  2020-12-07 15:25:55  product_cart      NaN\n",
              "60318   0FC21E6F8FAA8DEC  2020-12-07 06:56:27  product_cart      NaN\n",
              "...                  ...                  ...           ...      ...\n",
              "423756  245E85F65C358E08  2020-12-30 19:35:55         login      NaN\n",
              "423757  9385A108F5A0A7A7  2020-12-30 10:54:15         login      NaN\n",
              "423758  DB650B7559AC6EAC  2020-12-30 10:59:09         login      NaN\n",
              "423759  F80C9BDDEA02E53C  2020-12-30 09:53:39         login      NaN\n",
              "423760  7AEC61159B672CC5  2020-12-30 11:36:13         login      NaN\n",
              "\n",
              "[363447 rows x 4 columns]"
            ]
          },
          "execution_count": 27,
          "metadata": {},
          "output_type": "execute_result"
        }
      ],
      "source": [
        "# Melihat nilai yang hilang \n",
        "df_log_event.loc[df_log_event['details'].isna()]"
      ]
    },
    {
      "cell_type": "markdown",
      "metadata": {
        "id": "cKjRihA-9mrp"
      },
      "source": [
        "Setelah dilihat secara sekilas untuk tabel ini, bahwa nilai hilang tersebut kemungkinan mempunyai hubungan terhadap dengan kolom `event_name`. Sebaiknya periksa untuk distribusi value untuk yang dimana nilai pada kolom `details` hilang dan yang tidak."
      ]
    },
    {
      "cell_type": "code",
      "execution_count": null,
      "metadata": {
        "id": "EH28cMD_9mrp",
        "outputId": "11394c76-afff-4eed-b642-2868d31bd285"
      },
      "outputs": [
        {
          "data": {
            "text/plain": [
              "array(['login', 'product_cart', 'product_page'], dtype=object)"
            ]
          },
          "execution_count": 28,
          "metadata": {},
          "output_type": "execute_result"
        }
      ],
      "source": [
        "# Melihat distribusi value untuk dimana nilai value pada kolom details hilang\n",
        "df_log_event.loc[df_log_event['details'].isna()]['event_name'].sort_values().unique()"
      ]
    },
    {
      "cell_type": "code",
      "execution_count": null,
      "metadata": {
        "id": "pq5BfqMc9mrq",
        "outputId": "ffeb37c8-bdac-4fd2-aa1e-408b60400f18"
      },
      "outputs": [
        {
          "data": {
            "text/plain": [
              "array(['purchase'], dtype=object)"
            ]
          },
          "execution_count": 29,
          "metadata": {},
          "output_type": "execute_result"
        }
      ],
      "source": [
        "# Melihat distribusi value untuk dimana nilai value pada kolom details tidak hilang\n",
        "df_log_event.loc[~df_log_event['details'].isna()]['event_name'].sort_values().unique()"
      ]
    },
    {
      "cell_type": "markdown",
      "metadata": {
        "id": "x--pyurs9mrr"
      },
      "source": [
        "Setelah dilihat bahwa value pada kolom `details` adalah informasi tambahan untuk para pengguna yang sudah melaukan pembayaran berupa jumlah harga (`USD`) untuk melakukan pembelian. Jadi, ini tidak bisa dikatan nilai hilang untuk dimana kegiatan selain `purchase` karena selain `purchase` kegiatan para pengguna tidak akan memberikan informasi tambahan. Solusi terbaik adalah untuk mengganti nilai hilang menjadi 0."
      ]
    },
    {
      "cell_type": "code",
      "execution_count": null,
      "metadata": {
        "id": "kskCch3W9mrr"
      },
      "outputs": [],
      "source": [
        "# Menghapus kolom details di tabel log_event\n",
        "df_log_event = df_log_event.fillna(0)"
      ]
    },
    {
      "cell_type": "code",
      "execution_count": null,
      "metadata": {
        "id": "suQqRHv49mrs",
        "outputId": "aeb73367-55c0-42b8-c305-68bc649adcfe"
      },
      "outputs": [
        {
          "data": {
            "text/plain": [
              "user_id       0\n",
              "event_dt      0\n",
              "event_name    0\n",
              "details       0\n",
              "dtype: int64"
            ]
          },
          "execution_count": 31,
          "metadata": {},
          "output_type": "execute_result"
        }
      ],
      "source": [
        "# Melihat kembali jumlah nilai yang hilang setelah memperbaiki tabelnya\n",
        "df_log_event.isna().sum()"
      ]
    },
    {
      "cell_type": "code",
      "execution_count": null,
      "metadata": {
        "id": "bpYYUTsx9mrt",
        "outputId": "b1f29359-c5ce-4bb8-b158-c2ff7acbcd82"
      },
      "outputs": [
        {
          "data": {
            "text/html": [
              "<div>\n",
              "<style scoped>\n",
              "    .dataframe tbody tr th:only-of-type {\n",
              "        vertical-align: middle;\n",
              "    }\n",
              "\n",
              "    .dataframe tbody tr th {\n",
              "        vertical-align: top;\n",
              "    }\n",
              "\n",
              "    .dataframe thead th {\n",
              "        text-align: right;\n",
              "    }\n",
              "</style>\n",
              "<table border=\"1\" class=\"dataframe\">\n",
              "  <thead>\n",
              "    <tr style=\"text-align: right;\">\n",
              "      <th></th>\n",
              "      <th>user_id</th>\n",
              "      <th>event_dt</th>\n",
              "      <th>event_name</th>\n",
              "      <th>details</th>\n",
              "    </tr>\n",
              "  </thead>\n",
              "  <tbody>\n",
              "  </tbody>\n",
              "</table>\n",
              "</div>"
            ],
            "text/plain": [
              "Empty DataFrame\n",
              "Columns: [user_id, event_dt, event_name, details]\n",
              "Index: []"
            ]
          },
          "execution_count": 32,
          "metadata": {},
          "output_type": "execute_result"
        }
      ],
      "source": [
        "# Melihat hasilnya dengan nilai yang hilang pada kolom details\n",
        "df_log_event.loc[df_log_event['details'].isna()]"
      ]
    },
    {
      "cell_type": "markdown",
      "metadata": {
        "id": "qkG_BuGy9mrt"
      },
      "source": [
        "Kolom `details` untuk tabel log_event sudah lebih baik, dan tabel tersebut bisa untuk analisa pada proses selanjutnya."
      ]
    },
    {
      "cell_type": "markdown",
      "metadata": {
        "id": "l_Cf1CHy9mru"
      },
      "source": [
        "### Mengatasi untuk tipe data"
      ]
    },
    {
      "cell_type": "markdown",
      "metadata": {
        "id": "llX_08RG9mru"
      },
      "source": [
        "Bahwa untuk masing-masing tabel yang mempunyai masalah tipe data hanyalah masalah tanggal & waktu, jadi akan diubah disini semua tabel yang mempunyai masalah tersebut."
      ]
    },
    {
      "cell_type": "code",
      "execution_count": null,
      "metadata": {
        "id": "07LFyuBx9mrv"
      },
      "outputs": [],
      "source": [
        "# Mengubah tipe data waktu & tanggal pada tabel marketing_event\n",
        "df_marketing_event['finish_dt'] = pd.to_datetime(df_marketing_event['finish_dt'])\n",
        "df_marketing_event['start_dt'] = pd.to_datetime(df_marketing_event['start_dt'])"
      ]
    },
    {
      "cell_type": "code",
      "execution_count": null,
      "metadata": {
        "id": "JodZbgGn9mrw"
      },
      "outputs": [],
      "source": [
        "# Mengubah tipe data waktu & tanggal pada tabel ab_user\n",
        "df_ab_user['first_date'] = pd.to_datetime(df_ab_user['first_date'])"
      ]
    },
    {
      "cell_type": "code",
      "execution_count": null,
      "metadata": {
        "id": "xJ6DOziq9mrx"
      },
      "outputs": [],
      "source": [
        "# Mengubah tipe data waktu & tanggal pada tabel log_event\n",
        "df_log_event['event_dt'] = pd.to_datetime(df_log_event['event_dt'] )"
      ]
    },
    {
      "cell_type": "code",
      "execution_count": null,
      "metadata": {
        "id": "__sgfR7E9mry",
        "outputId": "3fe36ca0-ebc8-494a-bec8-bea8e3ecbf72"
      },
      "outputs": [
        {
          "data": {
            "text/plain": [
              "name                 object\n",
              "regions              object\n",
              "start_dt     datetime64[ns]\n",
              "finish_dt    datetime64[ns]\n",
              "dtype: object"
            ]
          },
          "execution_count": 36,
          "metadata": {},
          "output_type": "execute_result"
        }
      ],
      "source": [
        "# Melihat tipe data pada tabel marketing_event\n",
        "df_marketing_event.dtypes"
      ]
    },
    {
      "cell_type": "code",
      "execution_count": null,
      "metadata": {
        "id": "IqhKl5me9mrz",
        "outputId": "67dd4a5f-966c-4c14-b5a5-964d65708ee0"
      },
      "outputs": [
        {
          "data": {
            "text/plain": [
              "user_id               object\n",
              "first_date    datetime64[ns]\n",
              "region                object\n",
              "device                object\n",
              "dtype: object"
            ]
          },
          "execution_count": 37,
          "metadata": {},
          "output_type": "execute_result"
        }
      ],
      "source": [
        "# Melihat tipe data pada tabel ab_user\n",
        "df_ab_user.dtypes"
      ]
    },
    {
      "cell_type": "code",
      "execution_count": null,
      "metadata": {
        "id": "9jZYyhsb9mr0",
        "outputId": "6d007b23-d61c-47d9-d023-6bfcb6791a4d"
      },
      "outputs": [
        {
          "data": {
            "text/plain": [
              "user_id               object\n",
              "event_dt      datetime64[ns]\n",
              "event_name            object\n",
              "details              float64\n",
              "dtype: object"
            ]
          },
          "execution_count": 38,
          "metadata": {},
          "output_type": "execute_result"
        }
      ],
      "source": [
        "# Melihat tipe data pada tabel log_event\n",
        "df_log_event.dtypes"
      ]
    },
    {
      "cell_type": "markdown",
      "metadata": {
        "id": "semMR1p69mr1"
      },
      "source": [
        "Semua tipe data sudah terlihat sesuai pada tabel masing-masing."
      ]
    },
    {
      "cell_type": "markdown",
      "metadata": {
        "id": "PfnzyGTT9mr1"
      },
      "source": [
        "Setelah tahap Pra-Pemrosesan data sudah selesai, maka semua tabel siap untuk proses analisis data eksplorasi dan uji hipotesis."
      ]
    },
    {
      "cell_type": "markdown",
      "metadata": {
        "id": "ya3lxjZB9mr2"
      },
      "source": [
        "## Analisis Data Eksplorasi"
      ]
    },
    {
      "cell_type": "markdown",
      "metadata": {
        "id": "AcDbVhCF9mr3"
      },
      "source": [
        "- Pelajari konversi di berbagai tahapan corong.\n",
        "- Apakah jumlah peristiwa per pengguna terdistribusi secara merata di seluruh sampel?\n",
        "- Apakah ada pengguna yang berada di kedua sampel?\n",
        "- Bagaimana pendistribusian jumlah peristiwa berdasarkan hari?\n",
        "- Apakah data Anda memiliki ciri-ciri khusus yang harus dipertimbangkan sebelum memulai A/B testing?"
      ]
    },
    {
      "cell_type": "markdown",
      "metadata": {
        "id": "Q8DmBPQ99mr3"
      },
      "source": [
        "Setelah melihat pertanyaan-pertanyaan yang diajukan pada sebelumnya, perlu untuk menggabungkan beberapa tabel. Karena tidak ada ketentuan khusus untuk setiap pertanyaan yang dimana akan lebih membuat lebih efisien untuk alur eksplorasinya tanpa perlu kerja dua kali dan mudah dipahami untuk proses analisanya dan melihat dan menganalisa tabel tersebut untuk `Deskripsi Teknis`."
      ]
    },
    {
      "cell_type": "markdown",
      "metadata": {
        "id": "OBgOPFgZ9mr4"
      },
      "source": [
        "**Deskripsi Teknis**\n",
        "\n",
        "- Nama eksperimen: recommender_system_test\n",
        "- Kelompok: А (kontrol), B (corong pembayaran yang baru)\n",
        "- Tanggal dimulainya eksperimen: 07-12-2020\n",
        "- Tanggal saat mereka berhenti menerima pengguna baru: 21-12-2020\n",
        "- Tanggal berakhirnya eksperimen: 01-01-2021\n",
        "- Audiens: 15% pengguna baru dari kawasan Uni Eropa\n",
        "- Tujuan eksperimen: menguji perubahan terkait pengenalan sistem rekomendasi yang telah ditingkatkan\n",
        "- Hasil yang diharapkan: dalam kurun waktu 14 hari setelah pendaftaran, para pengguna menunjukkan peningkatan dalam hal konversi ke tayangan halaman produk (peristiwa atau event `product_page`), aktivitas penambahan item ke keranjang belanja (`product_cart`), dan pembelian (`purchase`). Pada setiap tahapan corong `product_page` → `product_cart` → `purchase`, minimal akan ada peningkatan sebesar 10%\n",
        "- Jumlah peserta eksperimen yang diharapkan: 6.000"
      ]
    },
    {
      "cell_type": "code",
      "execution_count": null,
      "metadata": {
        "id": "suYlmSh49mr6"
      },
      "outputs": [],
      "source": [
        "# Menggabungkan tabel-tabel yang diinginkan\n",
        "# Menggabungkan tabel ab_user dengan log_event\n",
        "df_user_event = pd.merge(df_ab_user, df_log_event, on = 'user_id')"
      ]
    },
    {
      "cell_type": "code",
      "execution_count": null,
      "metadata": {
        "id": "0QgNMV6t9mr6"
      },
      "outputs": [],
      "source": [
        "# Menggabungkan tabel-tabel yang diinginkan\n",
        "# Menggabungkan tabel user_event dengan group_ab_user\n",
        "df_final = pd.merge(df_user_event, df_group_ab_user, on = 'user_id')"
      ]
    },
    {
      "cell_type": "code",
      "execution_count": null,
      "metadata": {
        "id": "8qSK5Xfj9mr7",
        "outputId": "ea3e23a8-406a-49a2-ccb8-ce3e6a99f23b"
      },
      "outputs": [
        {
          "data": {
            "text/html": [
              "<div>\n",
              "<style scoped>\n",
              "    .dataframe tbody tr th:only-of-type {\n",
              "        vertical-align: middle;\n",
              "    }\n",
              "\n",
              "    .dataframe tbody tr th {\n",
              "        vertical-align: top;\n",
              "    }\n",
              "\n",
              "    .dataframe thead th {\n",
              "        text-align: right;\n",
              "    }\n",
              "</style>\n",
              "<table border=\"1\" class=\"dataframe\">\n",
              "  <thead>\n",
              "    <tr style=\"text-align: right;\">\n",
              "      <th></th>\n",
              "      <th>user_id</th>\n",
              "      <th>first_date</th>\n",
              "      <th>region</th>\n",
              "      <th>device</th>\n",
              "      <th>event_dt</th>\n",
              "      <th>event_name</th>\n",
              "      <th>details</th>\n",
              "      <th>group</th>\n",
              "      <th>ab_test</th>\n",
              "    </tr>\n",
              "  </thead>\n",
              "  <tbody>\n",
              "    <tr>\n",
              "      <th>0</th>\n",
              "      <td>D72A72121175D8BE</td>\n",
              "      <td>2020-12-07</td>\n",
              "      <td>EU</td>\n",
              "      <td>PC</td>\n",
              "      <td>2020-12-07 21:52:10</td>\n",
              "      <td>product_page</td>\n",
              "      <td>0.0</td>\n",
              "      <td>A</td>\n",
              "      <td>recommender_system_test</td>\n",
              "    </tr>\n",
              "    <tr>\n",
              "      <th>1</th>\n",
              "      <td>D72A72121175D8BE</td>\n",
              "      <td>2020-12-07</td>\n",
              "      <td>EU</td>\n",
              "      <td>PC</td>\n",
              "      <td>2020-12-07 21:52:07</td>\n",
              "      <td>login</td>\n",
              "      <td>0.0</td>\n",
              "      <td>A</td>\n",
              "      <td>recommender_system_test</td>\n",
              "    </tr>\n",
              "    <tr>\n",
              "      <th>2</th>\n",
              "      <td>2E1BF1D4C37EA01F</td>\n",
              "      <td>2020-12-07</td>\n",
              "      <td>EU</td>\n",
              "      <td>PC</td>\n",
              "      <td>2020-12-07 09:05:47</td>\n",
              "      <td>product_cart</td>\n",
              "      <td>0.0</td>\n",
              "      <td>A</td>\n",
              "      <td>interface_eu_test</td>\n",
              "    </tr>\n",
              "    <tr>\n",
              "      <th>3</th>\n",
              "      <td>2E1BF1D4C37EA01F</td>\n",
              "      <td>2020-12-07</td>\n",
              "      <td>EU</td>\n",
              "      <td>PC</td>\n",
              "      <td>2020-12-10 04:13:53</td>\n",
              "      <td>product_cart</td>\n",
              "      <td>0.0</td>\n",
              "      <td>A</td>\n",
              "      <td>interface_eu_test</td>\n",
              "    </tr>\n",
              "    <tr>\n",
              "      <th>4</th>\n",
              "      <td>2E1BF1D4C37EA01F</td>\n",
              "      <td>2020-12-07</td>\n",
              "      <td>EU</td>\n",
              "      <td>PC</td>\n",
              "      <td>2020-12-12 17:54:57</td>\n",
              "      <td>product_cart</td>\n",
              "      <td>0.0</td>\n",
              "      <td>A</td>\n",
              "      <td>interface_eu_test</td>\n",
              "    </tr>\n",
              "  </tbody>\n",
              "</table>\n",
              "</div>"
            ],
            "text/plain": [
              "            user_id first_date region device            event_dt  \\\n",
              "0  D72A72121175D8BE 2020-12-07     EU     PC 2020-12-07 21:52:10   \n",
              "1  D72A72121175D8BE 2020-12-07     EU     PC 2020-12-07 21:52:07   \n",
              "2  2E1BF1D4C37EA01F 2020-12-07     EU     PC 2020-12-07 09:05:47   \n",
              "3  2E1BF1D4C37EA01F 2020-12-07     EU     PC 2020-12-10 04:13:53   \n",
              "4  2E1BF1D4C37EA01F 2020-12-07     EU     PC 2020-12-12 17:54:57   \n",
              "\n",
              "     event_name  details group                  ab_test  \n",
              "0  product_page      0.0     A  recommender_system_test  \n",
              "1         login      0.0     A  recommender_system_test  \n",
              "2  product_cart      0.0     A        interface_eu_test  \n",
              "3  product_cart      0.0     A        interface_eu_test  \n",
              "4  product_cart      0.0     A        interface_eu_test  "
            ]
          },
          "execution_count": 41,
          "metadata": {},
          "output_type": "execute_result"
        }
      ],
      "source": [
        "# Melihat tabel final\n",
        "df_final.head()"
      ]
    },
    {
      "cell_type": "code",
      "execution_count": null,
      "metadata": {
        "id": "XbIYG1xr9mr7",
        "outputId": "862195c3-3dc3-42c0-cf4b-35243dc78c28"
      },
      "outputs": [
        {
          "name": "stdout",
          "output_type": "stream",
          "text": [
            "<class 'pandas.core.frame.DataFrame'>\n",
            "Int64Index: 102838 entries, 0 to 102837\n",
            "Data columns (total 9 columns):\n",
            " #   Column      Non-Null Count   Dtype         \n",
            "---  ------      --------------   -----         \n",
            " 0   user_id     102838 non-null  object        \n",
            " 1   first_date  102838 non-null  datetime64[ns]\n",
            " 2   region      102838 non-null  object        \n",
            " 3   device      102838 non-null  object        \n",
            " 4   event_dt    102838 non-null  datetime64[ns]\n",
            " 5   event_name  102838 non-null  object        \n",
            " 6   details     102838 non-null  float64       \n",
            " 7   group       102838 non-null  object        \n",
            " 8   ab_test     102838 non-null  object        \n",
            "dtypes: datetime64[ns](2), float64(1), object(6)\n",
            "memory usage: 7.8+ MB\n"
          ]
        }
      ],
      "source": [
        "# Melihat informasi keseluruhan pada tabel final \n",
        "df_final.info()"
      ]
    },
    {
      "cell_type": "markdown",
      "metadata": {
        "id": "BScfGPUA9mr8"
      },
      "source": [
        "Alasan penggabungan dengan merge, karena hanya untuk mendeteksi pengguna yang menjadi uji eksperimen tersebut. Artinya, ada kemungkinan pengguna yang tidak termasuk eksperimen tersebut meskipun ada aktivitas yang sesuai dengan waktu eksperimen berlangsung."
      ]
    },
    {
      "cell_type": "markdown",
      "metadata": {
        "id": "GJcVfLDB9mr9"
      },
      "source": [
        "Karena yang diminta untuk A/B test hanya `recommender_system_test`, maka selain test itu akan tidak di masukan pada tabel ini."
      ]
    },
    {
      "cell_type": "code",
      "execution_count": null,
      "metadata": {
        "id": "QHkT0Db09mr9"
      },
      "outputs": [],
      "source": [
        "# Membuat tabel untuk recommender_system_test pada A/B test-nya\n",
        "df_final = df_final.query('ab_test == \"recommender_system_test\"')"
      ]
    },
    {
      "cell_type": "code",
      "execution_count": null,
      "metadata": {
        "id": "Nl1D_wgN9mr9",
        "outputId": "0eeeb88e-e0bf-4b94-e453-6e4cb6b648ef"
      },
      "outputs": [
        {
          "data": {
            "text/html": [
              "<div>\n",
              "<style scoped>\n",
              "    .dataframe tbody tr th:only-of-type {\n",
              "        vertical-align: middle;\n",
              "    }\n",
              "\n",
              "    .dataframe tbody tr th {\n",
              "        vertical-align: top;\n",
              "    }\n",
              "\n",
              "    .dataframe thead th {\n",
              "        text-align: right;\n",
              "    }\n",
              "</style>\n",
              "<table border=\"1\" class=\"dataframe\">\n",
              "  <thead>\n",
              "    <tr style=\"text-align: right;\">\n",
              "      <th></th>\n",
              "      <th>user_id</th>\n",
              "      <th>first_date</th>\n",
              "      <th>region</th>\n",
              "      <th>device</th>\n",
              "      <th>event_dt</th>\n",
              "      <th>event_name</th>\n",
              "      <th>details</th>\n",
              "      <th>group</th>\n",
              "      <th>ab_test</th>\n",
              "    </tr>\n",
              "  </thead>\n",
              "  <tbody>\n",
              "    <tr>\n",
              "      <th>0</th>\n",
              "      <td>D72A72121175D8BE</td>\n",
              "      <td>2020-12-07</td>\n",
              "      <td>EU</td>\n",
              "      <td>PC</td>\n",
              "      <td>2020-12-07 21:52:10</td>\n",
              "      <td>product_page</td>\n",
              "      <td>0.0</td>\n",
              "      <td>A</td>\n",
              "      <td>recommender_system_test</td>\n",
              "    </tr>\n",
              "    <tr>\n",
              "      <th>1</th>\n",
              "      <td>D72A72121175D8BE</td>\n",
              "      <td>2020-12-07</td>\n",
              "      <td>EU</td>\n",
              "      <td>PC</td>\n",
              "      <td>2020-12-07 21:52:07</td>\n",
              "      <td>login</td>\n",
              "      <td>0.0</td>\n",
              "      <td>A</td>\n",
              "      <td>recommender_system_test</td>\n",
              "    </tr>\n",
              "    <tr>\n",
              "      <th>42</th>\n",
              "      <td>DD4352CDCF8C3D57</td>\n",
              "      <td>2020-12-07</td>\n",
              "      <td>EU</td>\n",
              "      <td>Android</td>\n",
              "      <td>2020-12-07 15:32:54</td>\n",
              "      <td>product_page</td>\n",
              "      <td>0.0</td>\n",
              "      <td>B</td>\n",
              "      <td>recommender_system_test</td>\n",
              "    </tr>\n",
              "    <tr>\n",
              "      <th>44</th>\n",
              "      <td>DD4352CDCF8C3D57</td>\n",
              "      <td>2020-12-07</td>\n",
              "      <td>EU</td>\n",
              "      <td>Android</td>\n",
              "      <td>2020-12-08 08:29:31</td>\n",
              "      <td>product_page</td>\n",
              "      <td>0.0</td>\n",
              "      <td>B</td>\n",
              "      <td>recommender_system_test</td>\n",
              "    </tr>\n",
              "    <tr>\n",
              "      <th>46</th>\n",
              "      <td>DD4352CDCF8C3D57</td>\n",
              "      <td>2020-12-07</td>\n",
              "      <td>EU</td>\n",
              "      <td>Android</td>\n",
              "      <td>2020-12-10 18:18:27</td>\n",
              "      <td>product_page</td>\n",
              "      <td>0.0</td>\n",
              "      <td>B</td>\n",
              "      <td>recommender_system_test</td>\n",
              "    </tr>\n",
              "  </tbody>\n",
              "</table>\n",
              "</div>"
            ],
            "text/plain": [
              "             user_id first_date region   device            event_dt  \\\n",
              "0   D72A72121175D8BE 2020-12-07     EU       PC 2020-12-07 21:52:10   \n",
              "1   D72A72121175D8BE 2020-12-07     EU       PC 2020-12-07 21:52:07   \n",
              "42  DD4352CDCF8C3D57 2020-12-07     EU  Android 2020-12-07 15:32:54   \n",
              "44  DD4352CDCF8C3D57 2020-12-07     EU  Android 2020-12-08 08:29:31   \n",
              "46  DD4352CDCF8C3D57 2020-12-07     EU  Android 2020-12-10 18:18:27   \n",
              "\n",
              "      event_name  details group                  ab_test  \n",
              "0   product_page      0.0     A  recommender_system_test  \n",
              "1          login      0.0     A  recommender_system_test  \n",
              "42  product_page      0.0     B  recommender_system_test  \n",
              "44  product_page      0.0     B  recommender_system_test  \n",
              "46  product_page      0.0     B  recommender_system_test  "
            ]
          },
          "execution_count": 44,
          "metadata": {},
          "output_type": "execute_result"
        }
      ],
      "source": [
        "# Melihat hasilnya\n",
        "df_final.head()"
      ]
    },
    {
      "cell_type": "code",
      "execution_count": null,
      "metadata": {
        "id": "hIlHLLaM9mr-",
        "outputId": "b74d9d32-c8c6-4816-d087-1ba5796043d7"
      },
      "outputs": [
        {
          "data": {
            "text/plain": [
              "array(['EU', 'APAC', 'CIS', 'N.America'], dtype=object)"
            ]
          },
          "execution_count": 45,
          "metadata": {},
          "output_type": "execute_result"
        }
      ],
      "source": [
        "# Melihat masing-masing negara untuk A/B test\n",
        "df_final['region'].unique()"
      ]
    },
    {
      "cell_type": "code",
      "execution_count": null,
      "metadata": {
        "id": "z8o3YpOG9msA",
        "outputId": "2c6b16ef-78f6-46ca-e9c0-31eb29f843c1"
      },
      "outputs": [
        {
          "data": {
            "text/plain": [
              "3675"
            ]
          },
          "execution_count": 46,
          "metadata": {},
          "output_type": "execute_result"
        }
      ],
      "source": [
        "# Melihat jumlah total pesesrta yang ikut dalam A/B Test \n",
        "df_final['user_id'].nunique()"
      ]
    },
    {
      "cell_type": "code",
      "execution_count": null,
      "metadata": {
        "id": "vYdjPPmW9msC",
        "outputId": "7b4c109e-08ac-4054-a062-7b2ea374ecf4"
      },
      "outputs": [
        {
          "data": {
            "text/plain": [
              "23909"
            ]
          },
          "execution_count": 137,
          "metadata": {},
          "output_type": "execute_result"
        }
      ],
      "source": [
        "# Melihat jumlah kejadian dalam A/B Test \n",
        "df_final['user_id'].value_counts().sum()"
      ]
    },
    {
      "cell_type": "markdown",
      "metadata": {
        "id": "AoiWOhpL9msD"
      },
      "source": [
        "Ternyata untuk peserta eksperimen A/B test recommender_system_test atau menguji perubahan terkait pengenalan sistem rekomendasi yang telah ditingkatkan tidak memenuhi harapannya yang di perkirakan sebesar 6000 pengguna ternyata hanya 3675 pengguna saja yang di ikutkan."
      ]
    },
    {
      "cell_type": "code",
      "execution_count": null,
      "metadata": {
        "id": "iM8ZuvH49msD"
      },
      "outputs": [],
      "source": [
        "# Melihat total peserta dari berbagai kawasan\n",
        "user_count_region = df_final.pivot_table(index = 'region',\n",
        "                                  values = 'user_id',\n",
        "                                  aggfunc = 'nunique').reset_index()"
      ]
    },
    {
      "cell_type": "code",
      "execution_count": null,
      "metadata": {
        "id": "z3u_KtB59msE",
        "outputId": "708d02ee-0b3a-4e91-a558-8072fbfd5955"
      },
      "outputs": [
        {
          "data": {
            "text/html": [
              "<div>\n",
              "<style scoped>\n",
              "    .dataframe tbody tr th:only-of-type {\n",
              "        vertical-align: middle;\n",
              "    }\n",
              "\n",
              "    .dataframe tbody tr th {\n",
              "        vertical-align: top;\n",
              "    }\n",
              "\n",
              "    .dataframe thead th {\n",
              "        text-align: right;\n",
              "    }\n",
              "</style>\n",
              "<table border=\"1\" class=\"dataframe\">\n",
              "  <thead>\n",
              "    <tr style=\"text-align: right;\">\n",
              "      <th></th>\n",
              "      <th>region</th>\n",
              "      <th>user_id</th>\n",
              "      <th>percentage</th>\n",
              "    </tr>\n",
              "  </thead>\n",
              "  <tbody>\n",
              "    <tr>\n",
              "      <th>2</th>\n",
              "      <td>EU</td>\n",
              "      <td>3481</td>\n",
              "      <td>94.72</td>\n",
              "    </tr>\n",
              "    <tr>\n",
              "      <th>3</th>\n",
              "      <td>N.America</td>\n",
              "      <td>119</td>\n",
              "      <td>3.24</td>\n",
              "    </tr>\n",
              "    <tr>\n",
              "      <th>0</th>\n",
              "      <td>APAC</td>\n",
              "      <td>45</td>\n",
              "      <td>1.22</td>\n",
              "    </tr>\n",
              "    <tr>\n",
              "      <th>1</th>\n",
              "      <td>CIS</td>\n",
              "      <td>30</td>\n",
              "      <td>0.82</td>\n",
              "    </tr>\n",
              "  </tbody>\n",
              "</table>\n",
              "</div>"
            ],
            "text/plain": [
              "      region  user_id  percentage\n",
              "2         EU     3481       94.72\n",
              "3  N.America      119        3.24\n",
              "0       APAC       45        1.22\n",
              "1        CIS       30        0.82"
            ]
          },
          "execution_count": 48,
          "metadata": {},
          "output_type": "execute_result"
        }
      ],
      "source": [
        "# Melihat total persen peserta dari berbagai kawasan\n",
        "user_count_region['percentage'] = ((user_count_region['user_id'] / \n",
        "                                   user_count_region['user_id'].sum()) * 100 ).round(2)\n",
        "user_count_region.sort_values('percentage', ascending = False)"
      ]
    },
    {
      "cell_type": "markdown",
      "metadata": {
        "id": "2R7DMFmH9msF"
      },
      "source": [
        "Untuk peserta baru dari kawasan atau daerah eropa / EU di eksperimen ini mencapai sebesar 94.72%. Hal itu melampaui dari harapannya yang dimana 15%."
      ]
    },
    {
      "cell_type": "code",
      "execution_count": null,
      "metadata": {
        "id": "th9QroQk9msF",
        "outputId": "967f087a-1352-499e-d07a-4d3939c05321"
      },
      "outputs": [
        {
          "data": {
            "text/html": [
              "<div>\n",
              "<style scoped>\n",
              "    .dataframe tbody tr th:only-of-type {\n",
              "        vertical-align: middle;\n",
              "    }\n",
              "\n",
              "    .dataframe tbody tr th {\n",
              "        vertical-align: top;\n",
              "    }\n",
              "\n",
              "    .dataframe thead th {\n",
              "        text-align: right;\n",
              "    }\n",
              "</style>\n",
              "<table border=\"1\" class=\"dataframe\">\n",
              "  <thead>\n",
              "    <tr style=\"text-align: right;\">\n",
              "      <th></th>\n",
              "      <th>details</th>\n",
              "    </tr>\n",
              "  </thead>\n",
              "  <tbody>\n",
              "    <tr>\n",
              "      <th>count</th>\n",
              "      <td>23909.000000</td>\n",
              "    </tr>\n",
              "    <tr>\n",
              "      <th>mean</th>\n",
              "      <td>3.078042</td>\n",
              "    </tr>\n",
              "    <tr>\n",
              "      <th>std</th>\n",
              "      <td>26.798087</td>\n",
              "    </tr>\n",
              "    <tr>\n",
              "      <th>min</th>\n",
              "      <td>0.000000</td>\n",
              "    </tr>\n",
              "    <tr>\n",
              "      <th>25%</th>\n",
              "      <td>0.000000</td>\n",
              "    </tr>\n",
              "    <tr>\n",
              "      <th>50%</th>\n",
              "      <td>0.000000</td>\n",
              "    </tr>\n",
              "    <tr>\n",
              "      <th>75%</th>\n",
              "      <td>0.000000</td>\n",
              "    </tr>\n",
              "    <tr>\n",
              "      <th>max</th>\n",
              "      <td>499.990000</td>\n",
              "    </tr>\n",
              "  </tbody>\n",
              "</table>\n",
              "</div>"
            ],
            "text/plain": [
              "            details\n",
              "count  23909.000000\n",
              "mean       3.078042\n",
              "std       26.798087\n",
              "min        0.000000\n",
              "25%        0.000000\n",
              "50%        0.000000\n",
              "75%        0.000000\n",
              "max      499.990000"
            ]
          },
          "execution_count": 49,
          "metadata": {},
          "output_type": "execute_result"
        }
      ],
      "source": [
        "# Melihat informasi distribusi tabel df_final\n",
        "df_final.describe()"
      ]
    },
    {
      "cell_type": "markdown",
      "metadata": {
        "id": "5QMLje319msG"
      },
      "source": [
        "Dari melihat tabel ini bahwa semua data untuk memulai A/B sudah sesuai dengan pernyataan, seperti:\n",
        "\n",
        "- Tanggal dimulainya eksperimen (untuk peserta yang mendaftar baru(`first_date`) dan memulai aktivitasnya(`event_dt`)): 07-12-2020\n",
        "- Tanggal saat mereka berhenti menerima pengguna baru(untuk tanggal peserta yang mendaftar baru(`first_date`)): 21-12-2020\n",
        "- Tanggal berakhirnya eksperimen (`event_dt`): 30-12-2020 (satu hari sebelum 01-01-2021)"
      ]
    },
    {
      "cell_type": "code",
      "execution_count": null,
      "metadata": {
        "id": "PRiAl4pZ9msH",
        "outputId": "fd73067c-ef8c-408a-816e-eb1b857321c0"
      },
      "outputs": [
        {
          "data": {
            "text/plain": [
              "array(['A', 'B'], dtype=object)"
            ]
          },
          "execution_count": 50,
          "metadata": {},
          "output_type": "execute_result"
        }
      ],
      "source": [
        "# Meliaht jenis grupnya\n",
        "df_final['group'].unique()"
      ]
    },
    {
      "cell_type": "markdown",
      "metadata": {
        "id": "R8DB7EQt9msH"
      },
      "source": [
        "Untuk grup, bahwa ada dua dan sesuai dengan deskriptif teknis, yaitu grup `A` dan grup `B`."
      ]
    },
    {
      "cell_type": "markdown",
      "metadata": {
        "id": "aGCcDrg89msI"
      },
      "source": [
        "Ada satu hal lagi yang perlu dilakukan sebelum memulai eksplorasi dari pertanyaan-pertanyaan diatas, yaitu untuk membuat kolom baru untuk konversi hari dari `event_dt`. Alasannya selain untuk analisa distribusi dalam bentuk hari, juga untuk membuat kolom baru terkait pengaruh promo `Christmas&New Year Promo` yang dilakukan di wilayan `EU & N.America` terhadap aktivitas berlangsung."
      ]
    },
    {
      "cell_type": "code",
      "execution_count": null,
      "metadata": {
        "id": "XYS_lT8b9msI"
      },
      "outputs": [],
      "source": [
        "# Mengekstrak hari untuk kolom even_dt dan membuat kolom baru\n",
        "df_final['event_date'] = df_final['event_dt'].dt.date\n",
        "df_final['event_date'] = pd.to_datetime(df_final['event_date'])"
      ]
    },
    {
      "cell_type": "code",
      "execution_count": null,
      "metadata": {
        "id": "99hNMLoR9msJ",
        "outputId": "0864d20f-5d85-4037-f8f6-1ba39190239c"
      },
      "outputs": [
        {
          "data": {
            "text/plain": [
              "user_id               object\n",
              "first_date    datetime64[ns]\n",
              "region                object\n",
              "device                object\n",
              "event_dt      datetime64[ns]\n",
              "event_name            object\n",
              "details              float64\n",
              "group                 object\n",
              "ab_test               object\n",
              "event_date    datetime64[ns]\n",
              "dtype: object"
            ]
          },
          "execution_count": 52,
          "metadata": {},
          "output_type": "execute_result"
        }
      ],
      "source": [
        "# Melihat tipe data\n",
        "df_final.dtypes"
      ]
    },
    {
      "cell_type": "code",
      "execution_count": null,
      "metadata": {
        "id": "mU7PDmS-9msJ",
        "outputId": "6d3750ab-921d-446e-ae0c-46f82cea9029"
      },
      "outputs": [
        {
          "data": {
            "text/html": [
              "<div>\n",
              "<style scoped>\n",
              "    .dataframe tbody tr th:only-of-type {\n",
              "        vertical-align: middle;\n",
              "    }\n",
              "\n",
              "    .dataframe tbody tr th {\n",
              "        vertical-align: top;\n",
              "    }\n",
              "\n",
              "    .dataframe thead th {\n",
              "        text-align: right;\n",
              "    }\n",
              "</style>\n",
              "<table border=\"1\" class=\"dataframe\">\n",
              "  <thead>\n",
              "    <tr style=\"text-align: right;\">\n",
              "      <th></th>\n",
              "      <th>user_id</th>\n",
              "      <th>first_date</th>\n",
              "      <th>region</th>\n",
              "      <th>device</th>\n",
              "      <th>event_dt</th>\n",
              "      <th>event_name</th>\n",
              "      <th>details</th>\n",
              "      <th>group</th>\n",
              "      <th>ab_test</th>\n",
              "      <th>event_date</th>\n",
              "    </tr>\n",
              "  </thead>\n",
              "  <tbody>\n",
              "    <tr>\n",
              "      <th>52</th>\n",
              "      <td>DD4352CDCF8C3D57</td>\n",
              "      <td>2020-12-07</td>\n",
              "      <td>EU</td>\n",
              "      <td>Android</td>\n",
              "      <td>2020-12-30 12:42:57</td>\n",
              "      <td>product_page</td>\n",
              "      <td>0.0</td>\n",
              "      <td>B</td>\n",
              "      <td>recommender_system_test</td>\n",
              "      <td>2020-12-30</td>\n",
              "    </tr>\n",
              "    <tr>\n",
              "      <th>64</th>\n",
              "      <td>DD4352CDCF8C3D57</td>\n",
              "      <td>2020-12-07</td>\n",
              "      <td>EU</td>\n",
              "      <td>Android</td>\n",
              "      <td>2020-12-30 12:42:56</td>\n",
              "      <td>login</td>\n",
              "      <td>0.0</td>\n",
              "      <td>B</td>\n",
              "      <td>recommender_system_test</td>\n",
              "      <td>2020-12-30</td>\n",
              "    </tr>\n",
              "    <tr>\n",
              "      <th>372</th>\n",
              "      <td>75845C83258FBF73</td>\n",
              "      <td>2020-12-07</td>\n",
              "      <td>EU</td>\n",
              "      <td>Android</td>\n",
              "      <td>2020-12-30 06:42:52</td>\n",
              "      <td>product_cart</td>\n",
              "      <td>0.0</td>\n",
              "      <td>B</td>\n",
              "      <td>recommender_system_test</td>\n",
              "      <td>2020-12-30</td>\n",
              "    </tr>\n",
              "    <tr>\n",
              "      <th>376</th>\n",
              "      <td>75845C83258FBF73</td>\n",
              "      <td>2020-12-07</td>\n",
              "      <td>EU</td>\n",
              "      <td>Android</td>\n",
              "      <td>2020-12-30 06:42:52</td>\n",
              "      <td>login</td>\n",
              "      <td>0.0</td>\n",
              "      <td>B</td>\n",
              "      <td>recommender_system_test</td>\n",
              "      <td>2020-12-30</td>\n",
              "    </tr>\n",
              "    <tr>\n",
              "      <th>436</th>\n",
              "      <td>6A581C74EF4D5F44</td>\n",
              "      <td>2020-12-07</td>\n",
              "      <td>EU</td>\n",
              "      <td>iPhone</td>\n",
              "      <td>2020-12-29 21:46:48</td>\n",
              "      <td>login</td>\n",
              "      <td>0.0</td>\n",
              "      <td>B</td>\n",
              "      <td>recommender_system_test</td>\n",
              "      <td>2020-12-29</td>\n",
              "    </tr>\n",
              "  </tbody>\n",
              "</table>\n",
              "</div>"
            ],
            "text/plain": [
              "              user_id first_date region   device            event_dt  \\\n",
              "52   DD4352CDCF8C3D57 2020-12-07     EU  Android 2020-12-30 12:42:57   \n",
              "64   DD4352CDCF8C3D57 2020-12-07     EU  Android 2020-12-30 12:42:56   \n",
              "372  75845C83258FBF73 2020-12-07     EU  Android 2020-12-30 06:42:52   \n",
              "376  75845C83258FBF73 2020-12-07     EU  Android 2020-12-30 06:42:52   \n",
              "436  6A581C74EF4D5F44 2020-12-07     EU   iPhone 2020-12-29 21:46:48   \n",
              "\n",
              "       event_name  details group                  ab_test event_date  \n",
              "52   product_page      0.0     B  recommender_system_test 2020-12-30  \n",
              "64          login      0.0     B  recommender_system_test 2020-12-30  \n",
              "372  product_cart      0.0     B  recommender_system_test 2020-12-30  \n",
              "376         login      0.0     B  recommender_system_test 2020-12-30  \n",
              "436         login      0.0     B  recommender_system_test 2020-12-29  "
            ]
          },
          "execution_count": 53,
          "metadata": {},
          "output_type": "execute_result"
        }
      ],
      "source": [
        "# Memfilter untuk region dan tanggal mendapatkan Christmas & New Year Promo\n",
        "christmas_newyear_promo= df_final.loc[((df_final['region'] == 'EU') \n",
        "                                       | (df_final['region'] == 'N.America')) \n",
        "                                      & ((df_final['event_date'] >= '2020-12-25') \n",
        "                                         & (df_final['event_date'] <= '2021-01-03'))]\n",
        "christmas_newyear_promo.head()"
      ]
    },
    {
      "cell_type": "code",
      "execution_count": null,
      "metadata": {
        "id": "tDBtsemh9msK"
      },
      "outputs": [],
      "source": [
        "# Membuat kolom baru untuk mengidentifikasi Christmas & New Year Promo\n",
        "christmas_newyear_promo['promo'] = 'Christmas & New Year Promo'"
      ]
    },
    {
      "cell_type": "code",
      "execution_count": null,
      "metadata": {
        "id": "hALipYQL9msL",
        "outputId": "54be6d00-78a5-4627-8035-a12461064fb3"
      },
      "outputs": [
        {
          "data": {
            "text/html": [
              "<div>\n",
              "<style scoped>\n",
              "    .dataframe tbody tr th:only-of-type {\n",
              "        vertical-align: middle;\n",
              "    }\n",
              "\n",
              "    .dataframe tbody tr th {\n",
              "        vertical-align: top;\n",
              "    }\n",
              "\n",
              "    .dataframe thead th {\n",
              "        text-align: right;\n",
              "    }\n",
              "</style>\n",
              "<table border=\"1\" class=\"dataframe\">\n",
              "  <thead>\n",
              "    <tr style=\"text-align: right;\">\n",
              "      <th></th>\n",
              "      <th>user_id</th>\n",
              "      <th>first_date</th>\n",
              "      <th>region</th>\n",
              "      <th>device</th>\n",
              "      <th>event_dt</th>\n",
              "      <th>event_name</th>\n",
              "      <th>details</th>\n",
              "      <th>group</th>\n",
              "      <th>ab_test</th>\n",
              "      <th>event_date</th>\n",
              "      <th>promo</th>\n",
              "    </tr>\n",
              "  </thead>\n",
              "  <tbody>\n",
              "    <tr>\n",
              "      <th>52</th>\n",
              "      <td>DD4352CDCF8C3D57</td>\n",
              "      <td>2020-12-07</td>\n",
              "      <td>EU</td>\n",
              "      <td>Android</td>\n",
              "      <td>2020-12-30 12:42:57</td>\n",
              "      <td>product_page</td>\n",
              "      <td>0.00</td>\n",
              "      <td>B</td>\n",
              "      <td>recommender_system_test</td>\n",
              "      <td>2020-12-30</td>\n",
              "      <td>Christmas &amp; New Year Promo</td>\n",
              "    </tr>\n",
              "    <tr>\n",
              "      <th>64</th>\n",
              "      <td>DD4352CDCF8C3D57</td>\n",
              "      <td>2020-12-07</td>\n",
              "      <td>EU</td>\n",
              "      <td>Android</td>\n",
              "      <td>2020-12-30 12:42:56</td>\n",
              "      <td>login</td>\n",
              "      <td>0.00</td>\n",
              "      <td>B</td>\n",
              "      <td>recommender_system_test</td>\n",
              "      <td>2020-12-30</td>\n",
              "      <td>Christmas &amp; New Year Promo</td>\n",
              "    </tr>\n",
              "    <tr>\n",
              "      <th>372</th>\n",
              "      <td>75845C83258FBF73</td>\n",
              "      <td>2020-12-07</td>\n",
              "      <td>EU</td>\n",
              "      <td>Android</td>\n",
              "      <td>2020-12-30 06:42:52</td>\n",
              "      <td>product_cart</td>\n",
              "      <td>0.00</td>\n",
              "      <td>B</td>\n",
              "      <td>recommender_system_test</td>\n",
              "      <td>2020-12-30</td>\n",
              "      <td>Christmas &amp; New Year Promo</td>\n",
              "    </tr>\n",
              "    <tr>\n",
              "      <th>376</th>\n",
              "      <td>75845C83258FBF73</td>\n",
              "      <td>2020-12-07</td>\n",
              "      <td>EU</td>\n",
              "      <td>Android</td>\n",
              "      <td>2020-12-30 06:42:52</td>\n",
              "      <td>login</td>\n",
              "      <td>0.00</td>\n",
              "      <td>B</td>\n",
              "      <td>recommender_system_test</td>\n",
              "      <td>2020-12-30</td>\n",
              "      <td>Christmas &amp; New Year Promo</td>\n",
              "    </tr>\n",
              "    <tr>\n",
              "      <th>436</th>\n",
              "      <td>6A581C74EF4D5F44</td>\n",
              "      <td>2020-12-07</td>\n",
              "      <td>EU</td>\n",
              "      <td>iPhone</td>\n",
              "      <td>2020-12-29 21:46:48</td>\n",
              "      <td>login</td>\n",
              "      <td>0.00</td>\n",
              "      <td>B</td>\n",
              "      <td>recommender_system_test</td>\n",
              "      <td>2020-12-29</td>\n",
              "      <td>Christmas &amp; New Year Promo</td>\n",
              "    </tr>\n",
              "    <tr>\n",
              "      <th>...</th>\n",
              "      <td>...</td>\n",
              "      <td>...</td>\n",
              "      <td>...</td>\n",
              "      <td>...</td>\n",
              "      <td>...</td>\n",
              "      <td>...</td>\n",
              "      <td>...</td>\n",
              "      <td>...</td>\n",
              "      <td>...</td>\n",
              "      <td>...</td>\n",
              "      <td>...</td>\n",
              "    </tr>\n",
              "    <tr>\n",
              "      <th>102631</th>\n",
              "      <td>553BAE96C6EB6240</td>\n",
              "      <td>2020-12-20</td>\n",
              "      <td>EU</td>\n",
              "      <td>Android</td>\n",
              "      <td>2020-12-29 14:09:14</td>\n",
              "      <td>login</td>\n",
              "      <td>0.00</td>\n",
              "      <td>A</td>\n",
              "      <td>recommender_system_test</td>\n",
              "      <td>2020-12-29</td>\n",
              "      <td>Christmas &amp; New Year Promo</td>\n",
              "    </tr>\n",
              "    <tr>\n",
              "      <th>102796</th>\n",
              "      <td>574ACBC674BC385D</td>\n",
              "      <td>2020-12-20</td>\n",
              "      <td>EU</td>\n",
              "      <td>Mac</td>\n",
              "      <td>2020-12-26 04:55:27</td>\n",
              "      <td>purchase</td>\n",
              "      <td>4.99</td>\n",
              "      <td>A</td>\n",
              "      <td>recommender_system_test</td>\n",
              "      <td>2020-12-26</td>\n",
              "      <td>Christmas &amp; New Year Promo</td>\n",
              "    </tr>\n",
              "    <tr>\n",
              "      <th>102798</th>\n",
              "      <td>574ACBC674BC385D</td>\n",
              "      <td>2020-12-20</td>\n",
              "      <td>EU</td>\n",
              "      <td>Mac</td>\n",
              "      <td>2020-12-26 04:55:29</td>\n",
              "      <td>product_cart</td>\n",
              "      <td>0.00</td>\n",
              "      <td>A</td>\n",
              "      <td>recommender_system_test</td>\n",
              "      <td>2020-12-26</td>\n",
              "      <td>Christmas &amp; New Year Promo</td>\n",
              "    </tr>\n",
              "    <tr>\n",
              "      <th>102800</th>\n",
              "      <td>574ACBC674BC385D</td>\n",
              "      <td>2020-12-20</td>\n",
              "      <td>EU</td>\n",
              "      <td>Mac</td>\n",
              "      <td>2020-12-26 04:55:28</td>\n",
              "      <td>product_page</td>\n",
              "      <td>0.00</td>\n",
              "      <td>A</td>\n",
              "      <td>recommender_system_test</td>\n",
              "      <td>2020-12-26</td>\n",
              "      <td>Christmas &amp; New Year Promo</td>\n",
              "    </tr>\n",
              "    <tr>\n",
              "      <th>102802</th>\n",
              "      <td>574ACBC674BC385D</td>\n",
              "      <td>2020-12-20</td>\n",
              "      <td>EU</td>\n",
              "      <td>Mac</td>\n",
              "      <td>2020-12-26 04:55:27</td>\n",
              "      <td>login</td>\n",
              "      <td>0.00</td>\n",
              "      <td>A</td>\n",
              "      <td>recommender_system_test</td>\n",
              "      <td>2020-12-26</td>\n",
              "      <td>Christmas &amp; New Year Promo</td>\n",
              "    </tr>\n",
              "  </tbody>\n",
              "</table>\n",
              "<p>2494 rows × 11 columns</p>\n",
              "</div>"
            ],
            "text/plain": [
              "                 user_id first_date region   device            event_dt  \\\n",
              "52      DD4352CDCF8C3D57 2020-12-07     EU  Android 2020-12-30 12:42:57   \n",
              "64      DD4352CDCF8C3D57 2020-12-07     EU  Android 2020-12-30 12:42:56   \n",
              "372     75845C83258FBF73 2020-12-07     EU  Android 2020-12-30 06:42:52   \n",
              "376     75845C83258FBF73 2020-12-07     EU  Android 2020-12-30 06:42:52   \n",
              "436     6A581C74EF4D5F44 2020-12-07     EU   iPhone 2020-12-29 21:46:48   \n",
              "...                  ...        ...    ...      ...                 ...   \n",
              "102631  553BAE96C6EB6240 2020-12-20     EU  Android 2020-12-29 14:09:14   \n",
              "102796  574ACBC674BC385D 2020-12-20     EU      Mac 2020-12-26 04:55:27   \n",
              "102798  574ACBC674BC385D 2020-12-20     EU      Mac 2020-12-26 04:55:29   \n",
              "102800  574ACBC674BC385D 2020-12-20     EU      Mac 2020-12-26 04:55:28   \n",
              "102802  574ACBC674BC385D 2020-12-20     EU      Mac 2020-12-26 04:55:27   \n",
              "\n",
              "          event_name  details group                  ab_test event_date  \\\n",
              "52      product_page     0.00     B  recommender_system_test 2020-12-30   \n",
              "64             login     0.00     B  recommender_system_test 2020-12-30   \n",
              "372     product_cart     0.00     B  recommender_system_test 2020-12-30   \n",
              "376            login     0.00     B  recommender_system_test 2020-12-30   \n",
              "436            login     0.00     B  recommender_system_test 2020-12-29   \n",
              "...              ...      ...   ...                      ...        ...   \n",
              "102631         login     0.00     A  recommender_system_test 2020-12-29   \n",
              "102796      purchase     4.99     A  recommender_system_test 2020-12-26   \n",
              "102798  product_cart     0.00     A  recommender_system_test 2020-12-26   \n",
              "102800  product_page     0.00     A  recommender_system_test 2020-12-26   \n",
              "102802         login     0.00     A  recommender_system_test 2020-12-26   \n",
              "\n",
              "                             promo  \n",
              "52      Christmas & New Year Promo  \n",
              "64      Christmas & New Year Promo  \n",
              "372     Christmas & New Year Promo  \n",
              "376     Christmas & New Year Promo  \n",
              "436     Christmas & New Year Promo  \n",
              "...                            ...  \n",
              "102631  Christmas & New Year Promo  \n",
              "102796  Christmas & New Year Promo  \n",
              "102798  Christmas & New Year Promo  \n",
              "102800  Christmas & New Year Promo  \n",
              "102802  Christmas & New Year Promo  \n",
              "\n",
              "[2494 rows x 11 columns]"
            ]
          },
          "execution_count": 55,
          "metadata": {},
          "output_type": "execute_result"
        }
      ],
      "source": [
        "# Melihat hasilnya\n",
        "christmas_newyear_promo"
      ]
    },
    {
      "cell_type": "code",
      "execution_count": null,
      "metadata": {
        "id": "GDO2cNwp9msM",
        "outputId": "f0cc4a31-1fa4-4980-9071-1f0649d7bde5"
      },
      "outputs": [
        {
          "data": {
            "text/plain": [
              "(2494, 11)"
            ]
          },
          "execution_count": 56,
          "metadata": {},
          "output_type": "execute_result"
        }
      ],
      "source": [
        "# Melihat baris tabel yang mendapatkan promo Christmas & New Year Promo\n",
        "christmas_newyear_promo.shape"
      ]
    },
    {
      "cell_type": "code",
      "execution_count": null,
      "metadata": {
        "id": "162waJMG9msN",
        "outputId": "8a44cc3b-6b2e-4355-ff1c-bc1b052f4c61"
      },
      "outputs": [
        {
          "data": {
            "text/html": [
              "<div>\n",
              "<style scoped>\n",
              "    .dataframe tbody tr th:only-of-type {\n",
              "        vertical-align: middle;\n",
              "    }\n",
              "\n",
              "    .dataframe tbody tr th {\n",
              "        vertical-align: top;\n",
              "    }\n",
              "\n",
              "    .dataframe thead th {\n",
              "        text-align: right;\n",
              "    }\n",
              "</style>\n",
              "<table border=\"1\" class=\"dataframe\">\n",
              "  <thead>\n",
              "    <tr style=\"text-align: right;\">\n",
              "      <th></th>\n",
              "      <th>user_id</th>\n",
              "      <th>promo</th>\n",
              "    </tr>\n",
              "  </thead>\n",
              "  <tbody>\n",
              "    <tr>\n",
              "      <th>52</th>\n",
              "      <td>DD4352CDCF8C3D57</td>\n",
              "      <td>Christmas &amp; New Year Promo</td>\n",
              "    </tr>\n",
              "    <tr>\n",
              "      <th>64</th>\n",
              "      <td>DD4352CDCF8C3D57</td>\n",
              "      <td>Christmas &amp; New Year Promo</td>\n",
              "    </tr>\n",
              "    <tr>\n",
              "      <th>372</th>\n",
              "      <td>75845C83258FBF73</td>\n",
              "      <td>Christmas &amp; New Year Promo</td>\n",
              "    </tr>\n",
              "    <tr>\n",
              "      <th>376</th>\n",
              "      <td>75845C83258FBF73</td>\n",
              "      <td>Christmas &amp; New Year Promo</td>\n",
              "    </tr>\n",
              "    <tr>\n",
              "      <th>436</th>\n",
              "      <td>6A581C74EF4D5F44</td>\n",
              "      <td>Christmas &amp; New Year Promo</td>\n",
              "    </tr>\n",
              "    <tr>\n",
              "      <th>...</th>\n",
              "      <td>...</td>\n",
              "      <td>...</td>\n",
              "    </tr>\n",
              "    <tr>\n",
              "      <th>102631</th>\n",
              "      <td>553BAE96C6EB6240</td>\n",
              "      <td>Christmas &amp; New Year Promo</td>\n",
              "    </tr>\n",
              "    <tr>\n",
              "      <th>102796</th>\n",
              "      <td>574ACBC674BC385D</td>\n",
              "      <td>Christmas &amp; New Year Promo</td>\n",
              "    </tr>\n",
              "    <tr>\n",
              "      <th>102798</th>\n",
              "      <td>574ACBC674BC385D</td>\n",
              "      <td>Christmas &amp; New Year Promo</td>\n",
              "    </tr>\n",
              "    <tr>\n",
              "      <th>102800</th>\n",
              "      <td>574ACBC674BC385D</td>\n",
              "      <td>Christmas &amp; New Year Promo</td>\n",
              "    </tr>\n",
              "    <tr>\n",
              "      <th>102802</th>\n",
              "      <td>574ACBC674BC385D</td>\n",
              "      <td>Christmas &amp; New Year Promo</td>\n",
              "    </tr>\n",
              "  </tbody>\n",
              "</table>\n",
              "<p>2494 rows × 2 columns</p>\n",
              "</div>"
            ],
            "text/plain": [
              "                 user_id                       promo\n",
              "52      DD4352CDCF8C3D57  Christmas & New Year Promo\n",
              "64      DD4352CDCF8C3D57  Christmas & New Year Promo\n",
              "372     75845C83258FBF73  Christmas & New Year Promo\n",
              "376     75845C83258FBF73  Christmas & New Year Promo\n",
              "436     6A581C74EF4D5F44  Christmas & New Year Promo\n",
              "...                  ...                         ...\n",
              "102631  553BAE96C6EB6240  Christmas & New Year Promo\n",
              "102796  574ACBC674BC385D  Christmas & New Year Promo\n",
              "102798  574ACBC674BC385D  Christmas & New Year Promo\n",
              "102800  574ACBC674BC385D  Christmas & New Year Promo\n",
              "102802  574ACBC674BC385D  Christmas & New Year Promo\n",
              "\n",
              "[2494 rows x 2 columns]"
            ]
          },
          "execution_count": 57,
          "metadata": {},
          "output_type": "execute_result"
        }
      ],
      "source": [
        "# Melakukan seleksi kolom user id dan promo\n",
        "christmas_newyear_promo = christmas_newyear_promo[['user_id', 'promo']]\n",
        "christmas_newyear_promo"
      ]
    },
    {
      "cell_type": "code",
      "execution_count": null,
      "metadata": {
        "id": "SPouYDyK9msO",
        "outputId": "c8d84f6c-415b-4349-9a96-bd67b19f55eb"
      },
      "outputs": [
        {
          "data": {
            "text/plain": [
              "(23909, 10)"
            ]
          },
          "execution_count": 58,
          "metadata": {},
          "output_type": "execute_result"
        }
      ],
      "source": [
        "# Melihat jumlah baris di tabel df_final\n",
        "df_final.shape"
      ]
    },
    {
      "cell_type": "markdown",
      "metadata": {
        "id": "Qa-KD4ZM9msO"
      },
      "source": [
        "Rencananya, akan digabungkan tabel pengguna yang mendapatkan Christmas & New Year Promo dengan tabel utama."
      ]
    },
    {
      "cell_type": "code",
      "execution_count": null,
      "metadata": {
        "id": "yFK6wdn79msP"
      },
      "outputs": [],
      "source": [
        "# Menggabungkan tabel utama dan tabel Christmas & New Year Promo\n",
        "df_final = df_final.merge(christmas_newyear_promo, on = 'user_id', how = 'left')"
      ]
    },
    {
      "cell_type": "code",
      "execution_count": null,
      "metadata": {
        "id": "CT8Krtbw9msP",
        "outputId": "552c7dec-13ff-41bf-8ea3-4986aca42a81"
      },
      "outputs": [
        {
          "data": {
            "text/html": [
              "<div>\n",
              "<style scoped>\n",
              "    .dataframe tbody tr th:only-of-type {\n",
              "        vertical-align: middle;\n",
              "    }\n",
              "\n",
              "    .dataframe tbody tr th {\n",
              "        vertical-align: top;\n",
              "    }\n",
              "\n",
              "    .dataframe thead th {\n",
              "        text-align: right;\n",
              "    }\n",
              "</style>\n",
              "<table border=\"1\" class=\"dataframe\">\n",
              "  <thead>\n",
              "    <tr style=\"text-align: right;\">\n",
              "      <th></th>\n",
              "      <th>user_id</th>\n",
              "      <th>first_date</th>\n",
              "      <th>region</th>\n",
              "      <th>device</th>\n",
              "      <th>event_dt</th>\n",
              "      <th>event_name</th>\n",
              "      <th>details</th>\n",
              "      <th>group</th>\n",
              "      <th>ab_test</th>\n",
              "      <th>event_date</th>\n",
              "      <th>promo</th>\n",
              "    </tr>\n",
              "  </thead>\n",
              "  <tbody>\n",
              "    <tr>\n",
              "      <th>0</th>\n",
              "      <td>D72A72121175D8BE</td>\n",
              "      <td>2020-12-07</td>\n",
              "      <td>EU</td>\n",
              "      <td>PC</td>\n",
              "      <td>2020-12-07 21:52:10</td>\n",
              "      <td>product_page</td>\n",
              "      <td>0.0</td>\n",
              "      <td>A</td>\n",
              "      <td>recommender_system_test</td>\n",
              "      <td>2020-12-07</td>\n",
              "      <td>NaN</td>\n",
              "    </tr>\n",
              "    <tr>\n",
              "      <th>1</th>\n",
              "      <td>D72A72121175D8BE</td>\n",
              "      <td>2020-12-07</td>\n",
              "      <td>EU</td>\n",
              "      <td>PC</td>\n",
              "      <td>2020-12-07 21:52:07</td>\n",
              "      <td>login</td>\n",
              "      <td>0.0</td>\n",
              "      <td>A</td>\n",
              "      <td>recommender_system_test</td>\n",
              "      <td>2020-12-07</td>\n",
              "      <td>NaN</td>\n",
              "    </tr>\n",
              "    <tr>\n",
              "      <th>2</th>\n",
              "      <td>DD4352CDCF8C3D57</td>\n",
              "      <td>2020-12-07</td>\n",
              "      <td>EU</td>\n",
              "      <td>Android</td>\n",
              "      <td>2020-12-07 15:32:54</td>\n",
              "      <td>product_page</td>\n",
              "      <td>0.0</td>\n",
              "      <td>B</td>\n",
              "      <td>recommender_system_test</td>\n",
              "      <td>2020-12-07</td>\n",
              "      <td>Christmas &amp; New Year Promo</td>\n",
              "    </tr>\n",
              "    <tr>\n",
              "      <th>3</th>\n",
              "      <td>DD4352CDCF8C3D57</td>\n",
              "      <td>2020-12-07</td>\n",
              "      <td>EU</td>\n",
              "      <td>Android</td>\n",
              "      <td>2020-12-07 15:32:54</td>\n",
              "      <td>product_page</td>\n",
              "      <td>0.0</td>\n",
              "      <td>B</td>\n",
              "      <td>recommender_system_test</td>\n",
              "      <td>2020-12-07</td>\n",
              "      <td>Christmas &amp; New Year Promo</td>\n",
              "    </tr>\n",
              "    <tr>\n",
              "      <th>4</th>\n",
              "      <td>DD4352CDCF8C3D57</td>\n",
              "      <td>2020-12-07</td>\n",
              "      <td>EU</td>\n",
              "      <td>Android</td>\n",
              "      <td>2020-12-08 08:29:31</td>\n",
              "      <td>product_page</td>\n",
              "      <td>0.0</td>\n",
              "      <td>B</td>\n",
              "      <td>recommender_system_test</td>\n",
              "      <td>2020-12-08</td>\n",
              "      <td>Christmas &amp; New Year Promo</td>\n",
              "    </tr>\n",
              "    <tr>\n",
              "      <th>...</th>\n",
              "      <td>...</td>\n",
              "      <td>...</td>\n",
              "      <td>...</td>\n",
              "      <td>...</td>\n",
              "      <td>...</td>\n",
              "      <td>...</td>\n",
              "      <td>...</td>\n",
              "      <td>...</td>\n",
              "      <td>...</td>\n",
              "      <td>...</td>\n",
              "      <td>...</td>\n",
              "    </tr>\n",
              "    <tr>\n",
              "      <th>39192</th>\n",
              "      <td>0416B34D35C8C8B8</td>\n",
              "      <td>2020-12-20</td>\n",
              "      <td>EU</td>\n",
              "      <td>Android</td>\n",
              "      <td>2020-12-21 22:28:29</td>\n",
              "      <td>product_page</td>\n",
              "      <td>0.0</td>\n",
              "      <td>A</td>\n",
              "      <td>recommender_system_test</td>\n",
              "      <td>2020-12-21</td>\n",
              "      <td>NaN</td>\n",
              "    </tr>\n",
              "    <tr>\n",
              "      <th>39193</th>\n",
              "      <td>0416B34D35C8C8B8</td>\n",
              "      <td>2020-12-20</td>\n",
              "      <td>EU</td>\n",
              "      <td>Android</td>\n",
              "      <td>2020-12-24 09:12:51</td>\n",
              "      <td>product_page</td>\n",
              "      <td>0.0</td>\n",
              "      <td>A</td>\n",
              "      <td>recommender_system_test</td>\n",
              "      <td>2020-12-24</td>\n",
              "      <td>NaN</td>\n",
              "    </tr>\n",
              "    <tr>\n",
              "      <th>39194</th>\n",
              "      <td>0416B34D35C8C8B8</td>\n",
              "      <td>2020-12-20</td>\n",
              "      <td>EU</td>\n",
              "      <td>Android</td>\n",
              "      <td>2020-12-20 20:58:25</td>\n",
              "      <td>login</td>\n",
              "      <td>0.0</td>\n",
              "      <td>A</td>\n",
              "      <td>recommender_system_test</td>\n",
              "      <td>2020-12-20</td>\n",
              "      <td>NaN</td>\n",
              "    </tr>\n",
              "    <tr>\n",
              "      <th>39195</th>\n",
              "      <td>0416B34D35C8C8B8</td>\n",
              "      <td>2020-12-20</td>\n",
              "      <td>EU</td>\n",
              "      <td>Android</td>\n",
              "      <td>2020-12-21 22:28:29</td>\n",
              "      <td>login</td>\n",
              "      <td>0.0</td>\n",
              "      <td>A</td>\n",
              "      <td>recommender_system_test</td>\n",
              "      <td>2020-12-21</td>\n",
              "      <td>NaN</td>\n",
              "    </tr>\n",
              "    <tr>\n",
              "      <th>39196</th>\n",
              "      <td>0416B34D35C8C8B8</td>\n",
              "      <td>2020-12-20</td>\n",
              "      <td>EU</td>\n",
              "      <td>Android</td>\n",
              "      <td>2020-12-24 09:12:49</td>\n",
              "      <td>login</td>\n",
              "      <td>0.0</td>\n",
              "      <td>A</td>\n",
              "      <td>recommender_system_test</td>\n",
              "      <td>2020-12-24</td>\n",
              "      <td>NaN</td>\n",
              "    </tr>\n",
              "  </tbody>\n",
              "</table>\n",
              "<p>39197 rows × 11 columns</p>\n",
              "</div>"
            ],
            "text/plain": [
              "                user_id first_date region   device            event_dt  \\\n",
              "0      D72A72121175D8BE 2020-12-07     EU       PC 2020-12-07 21:52:10   \n",
              "1      D72A72121175D8BE 2020-12-07     EU       PC 2020-12-07 21:52:07   \n",
              "2      DD4352CDCF8C3D57 2020-12-07     EU  Android 2020-12-07 15:32:54   \n",
              "3      DD4352CDCF8C3D57 2020-12-07     EU  Android 2020-12-07 15:32:54   \n",
              "4      DD4352CDCF8C3D57 2020-12-07     EU  Android 2020-12-08 08:29:31   \n",
              "...                 ...        ...    ...      ...                 ...   \n",
              "39192  0416B34D35C8C8B8 2020-12-20     EU  Android 2020-12-21 22:28:29   \n",
              "39193  0416B34D35C8C8B8 2020-12-20     EU  Android 2020-12-24 09:12:51   \n",
              "39194  0416B34D35C8C8B8 2020-12-20     EU  Android 2020-12-20 20:58:25   \n",
              "39195  0416B34D35C8C8B8 2020-12-20     EU  Android 2020-12-21 22:28:29   \n",
              "39196  0416B34D35C8C8B8 2020-12-20     EU  Android 2020-12-24 09:12:49   \n",
              "\n",
              "         event_name  details group                  ab_test event_date  \\\n",
              "0      product_page      0.0     A  recommender_system_test 2020-12-07   \n",
              "1             login      0.0     A  recommender_system_test 2020-12-07   \n",
              "2      product_page      0.0     B  recommender_system_test 2020-12-07   \n",
              "3      product_page      0.0     B  recommender_system_test 2020-12-07   \n",
              "4      product_page      0.0     B  recommender_system_test 2020-12-08   \n",
              "...             ...      ...   ...                      ...        ...   \n",
              "39192  product_page      0.0     A  recommender_system_test 2020-12-21   \n",
              "39193  product_page      0.0     A  recommender_system_test 2020-12-24   \n",
              "39194         login      0.0     A  recommender_system_test 2020-12-20   \n",
              "39195         login      0.0     A  recommender_system_test 2020-12-21   \n",
              "39196         login      0.0     A  recommender_system_test 2020-12-24   \n",
              "\n",
              "                            promo  \n",
              "0                             NaN  \n",
              "1                             NaN  \n",
              "2      Christmas & New Year Promo  \n",
              "3      Christmas & New Year Promo  \n",
              "4      Christmas & New Year Promo  \n",
              "...                           ...  \n",
              "39192                         NaN  \n",
              "39193                         NaN  \n",
              "39194                         NaN  \n",
              "39195                         NaN  \n",
              "39196                         NaN  \n",
              "\n",
              "[39197 rows x 11 columns]"
            ]
          },
          "execution_count": 60,
          "metadata": {},
          "output_type": "execute_result"
        }
      ],
      "source": [
        "# Melihat hasilnya\n",
        "df_final"
      ]
    },
    {
      "cell_type": "markdown",
      "metadata": {
        "id": "OZmoauHN9msQ"
      },
      "source": [
        "Sepertinya terjadi penambahan baris secara tidak langsung dari 23909 baris menjadi 39197 baris yang dimana kelebihan 15288 baris, maka perlu melihat untuk tabel yang mempunyai nilai hilang dan duplikasi agar tau langkah selanjutnya harus diapakan."
      ]
    },
    {
      "cell_type": "code",
      "execution_count": null,
      "metadata": {
        "id": "A2c7Mhh69msR",
        "outputId": "e673d48f-f17b-4235-85dd-3840a41797fd"
      },
      "outputs": [
        {
          "data": {
            "text/plain": [
              "user_id           0\n",
              "first_date        0\n",
              "region            0\n",
              "device            0\n",
              "event_dt          0\n",
              "event_name        0\n",
              "details           0\n",
              "group             0\n",
              "ab_test           0\n",
              "event_date        0\n",
              "promo         15934\n",
              "dtype: int64"
            ]
          },
          "execution_count": 61,
          "metadata": {},
          "output_type": "execute_result"
        }
      ],
      "source": [
        "# Melihat nilai hilang\n",
        "df_final.isna().sum()"
      ]
    },
    {
      "cell_type": "code",
      "execution_count": null,
      "metadata": {
        "id": "UnelVruK9msR",
        "outputId": "9c05159b-6d36-4e98-dea7-859713ca5dbc"
      },
      "outputs": [
        {
          "data": {
            "text/plain": [
              "15288"
            ]
          },
          "execution_count": 62,
          "metadata": {},
          "output_type": "execute_result"
        }
      ],
      "source": [
        "# Melihat jumlah baris duplikasi\n",
        "df_final.duplicated().sum()"
      ]
    },
    {
      "cell_type": "markdown",
      "metadata": {
        "id": "X7RvXNMR9msS"
      },
      "source": [
        "Karena lebih masuk logika baris menjadi duplikasi dibanding nilai hilang sebaiknya men-drop nilai duplikasinya saja, karena langkah selanjutnya mengganti nilai hilang menjadi `Non-Promo` untuk pengguna yang tidak mendapatkan `Christmas & New Year Promo`."
      ]
    },
    {
      "cell_type": "code",
      "execution_count": null,
      "metadata": {
        "id": "CIFoVIDT9msS"
      },
      "outputs": [],
      "source": [
        "# Menghilangkan nilai duplikasi\n",
        "df_final = df_final.drop_duplicates()"
      ]
    },
    {
      "cell_type": "code",
      "execution_count": null,
      "metadata": {
        "id": "rCUHGVs69msT",
        "outputId": "c4fd7b25-0589-4deb-9b1c-a8f319bc617b"
      },
      "outputs": [
        {
          "data": {
            "text/html": [
              "<div>\n",
              "<style scoped>\n",
              "    .dataframe tbody tr th:only-of-type {\n",
              "        vertical-align: middle;\n",
              "    }\n",
              "\n",
              "    .dataframe tbody tr th {\n",
              "        vertical-align: top;\n",
              "    }\n",
              "\n",
              "    .dataframe thead th {\n",
              "        text-align: right;\n",
              "    }\n",
              "</style>\n",
              "<table border=\"1\" class=\"dataframe\">\n",
              "  <thead>\n",
              "    <tr style=\"text-align: right;\">\n",
              "      <th></th>\n",
              "      <th>user_id</th>\n",
              "      <th>first_date</th>\n",
              "      <th>region</th>\n",
              "      <th>device</th>\n",
              "      <th>event_dt</th>\n",
              "      <th>event_name</th>\n",
              "      <th>details</th>\n",
              "      <th>group</th>\n",
              "      <th>ab_test</th>\n",
              "      <th>event_date</th>\n",
              "      <th>promo</th>\n",
              "    </tr>\n",
              "  </thead>\n",
              "  <tbody>\n",
              "    <tr>\n",
              "      <th>0</th>\n",
              "      <td>D72A72121175D8BE</td>\n",
              "      <td>2020-12-07</td>\n",
              "      <td>EU</td>\n",
              "      <td>PC</td>\n",
              "      <td>2020-12-07 21:52:10</td>\n",
              "      <td>product_page</td>\n",
              "      <td>0.0</td>\n",
              "      <td>A</td>\n",
              "      <td>recommender_system_test</td>\n",
              "      <td>2020-12-07</td>\n",
              "      <td>NaN</td>\n",
              "    </tr>\n",
              "    <tr>\n",
              "      <th>1</th>\n",
              "      <td>D72A72121175D8BE</td>\n",
              "      <td>2020-12-07</td>\n",
              "      <td>EU</td>\n",
              "      <td>PC</td>\n",
              "      <td>2020-12-07 21:52:07</td>\n",
              "      <td>login</td>\n",
              "      <td>0.0</td>\n",
              "      <td>A</td>\n",
              "      <td>recommender_system_test</td>\n",
              "      <td>2020-12-07</td>\n",
              "      <td>NaN</td>\n",
              "    </tr>\n",
              "    <tr>\n",
              "      <th>2</th>\n",
              "      <td>DD4352CDCF8C3D57</td>\n",
              "      <td>2020-12-07</td>\n",
              "      <td>EU</td>\n",
              "      <td>Android</td>\n",
              "      <td>2020-12-07 15:32:54</td>\n",
              "      <td>product_page</td>\n",
              "      <td>0.0</td>\n",
              "      <td>B</td>\n",
              "      <td>recommender_system_test</td>\n",
              "      <td>2020-12-07</td>\n",
              "      <td>Christmas &amp; New Year Promo</td>\n",
              "    </tr>\n",
              "    <tr>\n",
              "      <th>4</th>\n",
              "      <td>DD4352CDCF8C3D57</td>\n",
              "      <td>2020-12-07</td>\n",
              "      <td>EU</td>\n",
              "      <td>Android</td>\n",
              "      <td>2020-12-08 08:29:31</td>\n",
              "      <td>product_page</td>\n",
              "      <td>0.0</td>\n",
              "      <td>B</td>\n",
              "      <td>recommender_system_test</td>\n",
              "      <td>2020-12-08</td>\n",
              "      <td>Christmas &amp; New Year Promo</td>\n",
              "    </tr>\n",
              "    <tr>\n",
              "      <th>6</th>\n",
              "      <td>DD4352CDCF8C3D57</td>\n",
              "      <td>2020-12-07</td>\n",
              "      <td>EU</td>\n",
              "      <td>Android</td>\n",
              "      <td>2020-12-10 18:18:27</td>\n",
              "      <td>product_page</td>\n",
              "      <td>0.0</td>\n",
              "      <td>B</td>\n",
              "      <td>recommender_system_test</td>\n",
              "      <td>2020-12-10</td>\n",
              "      <td>Christmas &amp; New Year Promo</td>\n",
              "    </tr>\n",
              "    <tr>\n",
              "      <th>...</th>\n",
              "      <td>...</td>\n",
              "      <td>...</td>\n",
              "      <td>...</td>\n",
              "      <td>...</td>\n",
              "      <td>...</td>\n",
              "      <td>...</td>\n",
              "      <td>...</td>\n",
              "      <td>...</td>\n",
              "      <td>...</td>\n",
              "      <td>...</td>\n",
              "      <td>...</td>\n",
              "    </tr>\n",
              "    <tr>\n",
              "      <th>39192</th>\n",
              "      <td>0416B34D35C8C8B8</td>\n",
              "      <td>2020-12-20</td>\n",
              "      <td>EU</td>\n",
              "      <td>Android</td>\n",
              "      <td>2020-12-21 22:28:29</td>\n",
              "      <td>product_page</td>\n",
              "      <td>0.0</td>\n",
              "      <td>A</td>\n",
              "      <td>recommender_system_test</td>\n",
              "      <td>2020-12-21</td>\n",
              "      <td>NaN</td>\n",
              "    </tr>\n",
              "    <tr>\n",
              "      <th>39193</th>\n",
              "      <td>0416B34D35C8C8B8</td>\n",
              "      <td>2020-12-20</td>\n",
              "      <td>EU</td>\n",
              "      <td>Android</td>\n",
              "      <td>2020-12-24 09:12:51</td>\n",
              "      <td>product_page</td>\n",
              "      <td>0.0</td>\n",
              "      <td>A</td>\n",
              "      <td>recommender_system_test</td>\n",
              "      <td>2020-12-24</td>\n",
              "      <td>NaN</td>\n",
              "    </tr>\n",
              "    <tr>\n",
              "      <th>39194</th>\n",
              "      <td>0416B34D35C8C8B8</td>\n",
              "      <td>2020-12-20</td>\n",
              "      <td>EU</td>\n",
              "      <td>Android</td>\n",
              "      <td>2020-12-20 20:58:25</td>\n",
              "      <td>login</td>\n",
              "      <td>0.0</td>\n",
              "      <td>A</td>\n",
              "      <td>recommender_system_test</td>\n",
              "      <td>2020-12-20</td>\n",
              "      <td>NaN</td>\n",
              "    </tr>\n",
              "    <tr>\n",
              "      <th>39195</th>\n",
              "      <td>0416B34D35C8C8B8</td>\n",
              "      <td>2020-12-20</td>\n",
              "      <td>EU</td>\n",
              "      <td>Android</td>\n",
              "      <td>2020-12-21 22:28:29</td>\n",
              "      <td>login</td>\n",
              "      <td>0.0</td>\n",
              "      <td>A</td>\n",
              "      <td>recommender_system_test</td>\n",
              "      <td>2020-12-21</td>\n",
              "      <td>NaN</td>\n",
              "    </tr>\n",
              "    <tr>\n",
              "      <th>39196</th>\n",
              "      <td>0416B34D35C8C8B8</td>\n",
              "      <td>2020-12-20</td>\n",
              "      <td>EU</td>\n",
              "      <td>Android</td>\n",
              "      <td>2020-12-24 09:12:49</td>\n",
              "      <td>login</td>\n",
              "      <td>0.0</td>\n",
              "      <td>A</td>\n",
              "      <td>recommender_system_test</td>\n",
              "      <td>2020-12-24</td>\n",
              "      <td>NaN</td>\n",
              "    </tr>\n",
              "  </tbody>\n",
              "</table>\n",
              "<p>23909 rows × 11 columns</p>\n",
              "</div>"
            ],
            "text/plain": [
              "                user_id first_date region   device            event_dt  \\\n",
              "0      D72A72121175D8BE 2020-12-07     EU       PC 2020-12-07 21:52:10   \n",
              "1      D72A72121175D8BE 2020-12-07     EU       PC 2020-12-07 21:52:07   \n",
              "2      DD4352CDCF8C3D57 2020-12-07     EU  Android 2020-12-07 15:32:54   \n",
              "4      DD4352CDCF8C3D57 2020-12-07     EU  Android 2020-12-08 08:29:31   \n",
              "6      DD4352CDCF8C3D57 2020-12-07     EU  Android 2020-12-10 18:18:27   \n",
              "...                 ...        ...    ...      ...                 ...   \n",
              "39192  0416B34D35C8C8B8 2020-12-20     EU  Android 2020-12-21 22:28:29   \n",
              "39193  0416B34D35C8C8B8 2020-12-20     EU  Android 2020-12-24 09:12:51   \n",
              "39194  0416B34D35C8C8B8 2020-12-20     EU  Android 2020-12-20 20:58:25   \n",
              "39195  0416B34D35C8C8B8 2020-12-20     EU  Android 2020-12-21 22:28:29   \n",
              "39196  0416B34D35C8C8B8 2020-12-20     EU  Android 2020-12-24 09:12:49   \n",
              "\n",
              "         event_name  details group                  ab_test event_date  \\\n",
              "0      product_page      0.0     A  recommender_system_test 2020-12-07   \n",
              "1             login      0.0     A  recommender_system_test 2020-12-07   \n",
              "2      product_page      0.0     B  recommender_system_test 2020-12-07   \n",
              "4      product_page      0.0     B  recommender_system_test 2020-12-08   \n",
              "6      product_page      0.0     B  recommender_system_test 2020-12-10   \n",
              "...             ...      ...   ...                      ...        ...   \n",
              "39192  product_page      0.0     A  recommender_system_test 2020-12-21   \n",
              "39193  product_page      0.0     A  recommender_system_test 2020-12-24   \n",
              "39194         login      0.0     A  recommender_system_test 2020-12-20   \n",
              "39195         login      0.0     A  recommender_system_test 2020-12-21   \n",
              "39196         login      0.0     A  recommender_system_test 2020-12-24   \n",
              "\n",
              "                            promo  \n",
              "0                             NaN  \n",
              "1                             NaN  \n",
              "2      Christmas & New Year Promo  \n",
              "4      Christmas & New Year Promo  \n",
              "6      Christmas & New Year Promo  \n",
              "...                           ...  \n",
              "39192                         NaN  \n",
              "39193                         NaN  \n",
              "39194                         NaN  \n",
              "39195                         NaN  \n",
              "39196                         NaN  \n",
              "\n",
              "[23909 rows x 11 columns]"
            ]
          },
          "execution_count": 64,
          "metadata": {},
          "output_type": "execute_result"
        }
      ],
      "source": [
        "# Melihat hasilnya\n",
        "df_final"
      ]
    },
    {
      "cell_type": "markdown",
      "metadata": {
        "id": "Ijcb4_ns9msU"
      },
      "source": [
        "Jumlah baris kembali lagi dari 39197 baris menjadi 23909 baris, artinya 15288 baris sudah berhasil di perbaiki."
      ]
    },
    {
      "cell_type": "code",
      "execution_count": null,
      "metadata": {
        "id": "s1hTaI9M9msU"
      },
      "outputs": [],
      "source": [
        "# Mengisi nilai hilang pada tabel promo dengan identifikasi Non-Promo\n",
        "df_final = df_final.fillna(value = 'Non-Promo')"
      ]
    },
    {
      "cell_type": "code",
      "execution_count": null,
      "metadata": {
        "id": "bpAePvAJ9msU",
        "outputId": "800898e9-28f7-4783-afa6-50e2ec5fc817"
      },
      "outputs": [
        {
          "data": {
            "text/html": [
              "<div>\n",
              "<style scoped>\n",
              "    .dataframe tbody tr th:only-of-type {\n",
              "        vertical-align: middle;\n",
              "    }\n",
              "\n",
              "    .dataframe tbody tr th {\n",
              "        vertical-align: top;\n",
              "    }\n",
              "\n",
              "    .dataframe thead th {\n",
              "        text-align: right;\n",
              "    }\n",
              "</style>\n",
              "<table border=\"1\" class=\"dataframe\">\n",
              "  <thead>\n",
              "    <tr style=\"text-align: right;\">\n",
              "      <th></th>\n",
              "      <th>user_id</th>\n",
              "      <th>first_date</th>\n",
              "      <th>region</th>\n",
              "      <th>device</th>\n",
              "      <th>event_dt</th>\n",
              "      <th>event_name</th>\n",
              "      <th>details</th>\n",
              "      <th>group</th>\n",
              "      <th>ab_test</th>\n",
              "      <th>event_date</th>\n",
              "      <th>promo</th>\n",
              "    </tr>\n",
              "  </thead>\n",
              "  <tbody>\n",
              "    <tr>\n",
              "      <th>0</th>\n",
              "      <td>D72A72121175D8BE</td>\n",
              "      <td>2020-12-07</td>\n",
              "      <td>EU</td>\n",
              "      <td>PC</td>\n",
              "      <td>2020-12-07 21:52:10</td>\n",
              "      <td>product_page</td>\n",
              "      <td>0.0</td>\n",
              "      <td>A</td>\n",
              "      <td>recommender_system_test</td>\n",
              "      <td>2020-12-07</td>\n",
              "      <td>Non-Promo</td>\n",
              "    </tr>\n",
              "    <tr>\n",
              "      <th>1</th>\n",
              "      <td>D72A72121175D8BE</td>\n",
              "      <td>2020-12-07</td>\n",
              "      <td>EU</td>\n",
              "      <td>PC</td>\n",
              "      <td>2020-12-07 21:52:07</td>\n",
              "      <td>login</td>\n",
              "      <td>0.0</td>\n",
              "      <td>A</td>\n",
              "      <td>recommender_system_test</td>\n",
              "      <td>2020-12-07</td>\n",
              "      <td>Non-Promo</td>\n",
              "    </tr>\n",
              "    <tr>\n",
              "      <th>2</th>\n",
              "      <td>DD4352CDCF8C3D57</td>\n",
              "      <td>2020-12-07</td>\n",
              "      <td>EU</td>\n",
              "      <td>Android</td>\n",
              "      <td>2020-12-07 15:32:54</td>\n",
              "      <td>product_page</td>\n",
              "      <td>0.0</td>\n",
              "      <td>B</td>\n",
              "      <td>recommender_system_test</td>\n",
              "      <td>2020-12-07</td>\n",
              "      <td>Christmas &amp; New Year Promo</td>\n",
              "    </tr>\n",
              "    <tr>\n",
              "      <th>4</th>\n",
              "      <td>DD4352CDCF8C3D57</td>\n",
              "      <td>2020-12-07</td>\n",
              "      <td>EU</td>\n",
              "      <td>Android</td>\n",
              "      <td>2020-12-08 08:29:31</td>\n",
              "      <td>product_page</td>\n",
              "      <td>0.0</td>\n",
              "      <td>B</td>\n",
              "      <td>recommender_system_test</td>\n",
              "      <td>2020-12-08</td>\n",
              "      <td>Christmas &amp; New Year Promo</td>\n",
              "    </tr>\n",
              "    <tr>\n",
              "      <th>6</th>\n",
              "      <td>DD4352CDCF8C3D57</td>\n",
              "      <td>2020-12-07</td>\n",
              "      <td>EU</td>\n",
              "      <td>Android</td>\n",
              "      <td>2020-12-10 18:18:27</td>\n",
              "      <td>product_page</td>\n",
              "      <td>0.0</td>\n",
              "      <td>B</td>\n",
              "      <td>recommender_system_test</td>\n",
              "      <td>2020-12-10</td>\n",
              "      <td>Christmas &amp; New Year Promo</td>\n",
              "    </tr>\n",
              "    <tr>\n",
              "      <th>...</th>\n",
              "      <td>...</td>\n",
              "      <td>...</td>\n",
              "      <td>...</td>\n",
              "      <td>...</td>\n",
              "      <td>...</td>\n",
              "      <td>...</td>\n",
              "      <td>...</td>\n",
              "      <td>...</td>\n",
              "      <td>...</td>\n",
              "      <td>...</td>\n",
              "      <td>...</td>\n",
              "    </tr>\n",
              "    <tr>\n",
              "      <th>39192</th>\n",
              "      <td>0416B34D35C8C8B8</td>\n",
              "      <td>2020-12-20</td>\n",
              "      <td>EU</td>\n",
              "      <td>Android</td>\n",
              "      <td>2020-12-21 22:28:29</td>\n",
              "      <td>product_page</td>\n",
              "      <td>0.0</td>\n",
              "      <td>A</td>\n",
              "      <td>recommender_system_test</td>\n",
              "      <td>2020-12-21</td>\n",
              "      <td>Non-Promo</td>\n",
              "    </tr>\n",
              "    <tr>\n",
              "      <th>39193</th>\n",
              "      <td>0416B34D35C8C8B8</td>\n",
              "      <td>2020-12-20</td>\n",
              "      <td>EU</td>\n",
              "      <td>Android</td>\n",
              "      <td>2020-12-24 09:12:51</td>\n",
              "      <td>product_page</td>\n",
              "      <td>0.0</td>\n",
              "      <td>A</td>\n",
              "      <td>recommender_system_test</td>\n",
              "      <td>2020-12-24</td>\n",
              "      <td>Non-Promo</td>\n",
              "    </tr>\n",
              "    <tr>\n",
              "      <th>39194</th>\n",
              "      <td>0416B34D35C8C8B8</td>\n",
              "      <td>2020-12-20</td>\n",
              "      <td>EU</td>\n",
              "      <td>Android</td>\n",
              "      <td>2020-12-20 20:58:25</td>\n",
              "      <td>login</td>\n",
              "      <td>0.0</td>\n",
              "      <td>A</td>\n",
              "      <td>recommender_system_test</td>\n",
              "      <td>2020-12-20</td>\n",
              "      <td>Non-Promo</td>\n",
              "    </tr>\n",
              "    <tr>\n",
              "      <th>39195</th>\n",
              "      <td>0416B34D35C8C8B8</td>\n",
              "      <td>2020-12-20</td>\n",
              "      <td>EU</td>\n",
              "      <td>Android</td>\n",
              "      <td>2020-12-21 22:28:29</td>\n",
              "      <td>login</td>\n",
              "      <td>0.0</td>\n",
              "      <td>A</td>\n",
              "      <td>recommender_system_test</td>\n",
              "      <td>2020-12-21</td>\n",
              "      <td>Non-Promo</td>\n",
              "    </tr>\n",
              "    <tr>\n",
              "      <th>39196</th>\n",
              "      <td>0416B34D35C8C8B8</td>\n",
              "      <td>2020-12-20</td>\n",
              "      <td>EU</td>\n",
              "      <td>Android</td>\n",
              "      <td>2020-12-24 09:12:49</td>\n",
              "      <td>login</td>\n",
              "      <td>0.0</td>\n",
              "      <td>A</td>\n",
              "      <td>recommender_system_test</td>\n",
              "      <td>2020-12-24</td>\n",
              "      <td>Non-Promo</td>\n",
              "    </tr>\n",
              "  </tbody>\n",
              "</table>\n",
              "<p>23909 rows × 11 columns</p>\n",
              "</div>"
            ],
            "text/plain": [
              "                user_id first_date region   device            event_dt  \\\n",
              "0      D72A72121175D8BE 2020-12-07     EU       PC 2020-12-07 21:52:10   \n",
              "1      D72A72121175D8BE 2020-12-07     EU       PC 2020-12-07 21:52:07   \n",
              "2      DD4352CDCF8C3D57 2020-12-07     EU  Android 2020-12-07 15:32:54   \n",
              "4      DD4352CDCF8C3D57 2020-12-07     EU  Android 2020-12-08 08:29:31   \n",
              "6      DD4352CDCF8C3D57 2020-12-07     EU  Android 2020-12-10 18:18:27   \n",
              "...                 ...        ...    ...      ...                 ...   \n",
              "39192  0416B34D35C8C8B8 2020-12-20     EU  Android 2020-12-21 22:28:29   \n",
              "39193  0416B34D35C8C8B8 2020-12-20     EU  Android 2020-12-24 09:12:51   \n",
              "39194  0416B34D35C8C8B8 2020-12-20     EU  Android 2020-12-20 20:58:25   \n",
              "39195  0416B34D35C8C8B8 2020-12-20     EU  Android 2020-12-21 22:28:29   \n",
              "39196  0416B34D35C8C8B8 2020-12-20     EU  Android 2020-12-24 09:12:49   \n",
              "\n",
              "         event_name  details group                  ab_test event_date  \\\n",
              "0      product_page      0.0     A  recommender_system_test 2020-12-07   \n",
              "1             login      0.0     A  recommender_system_test 2020-12-07   \n",
              "2      product_page      0.0     B  recommender_system_test 2020-12-07   \n",
              "4      product_page      0.0     B  recommender_system_test 2020-12-08   \n",
              "6      product_page      0.0     B  recommender_system_test 2020-12-10   \n",
              "...             ...      ...   ...                      ...        ...   \n",
              "39192  product_page      0.0     A  recommender_system_test 2020-12-21   \n",
              "39193  product_page      0.0     A  recommender_system_test 2020-12-24   \n",
              "39194         login      0.0     A  recommender_system_test 2020-12-20   \n",
              "39195         login      0.0     A  recommender_system_test 2020-12-21   \n",
              "39196         login      0.0     A  recommender_system_test 2020-12-24   \n",
              "\n",
              "                            promo  \n",
              "0                       Non-Promo  \n",
              "1                       Non-Promo  \n",
              "2      Christmas & New Year Promo  \n",
              "4      Christmas & New Year Promo  \n",
              "6      Christmas & New Year Promo  \n",
              "...                           ...  \n",
              "39192                   Non-Promo  \n",
              "39193                   Non-Promo  \n",
              "39194                   Non-Promo  \n",
              "39195                   Non-Promo  \n",
              "39196                   Non-Promo  \n",
              "\n",
              "[23909 rows x 11 columns]"
            ]
          },
          "execution_count": 66,
          "metadata": {},
          "output_type": "execute_result"
        }
      ],
      "source": [
        "# Melihat hasilnya\n",
        "df_final"
      ]
    },
    {
      "cell_type": "code",
      "execution_count": null,
      "metadata": {
        "id": "8s3OZdnj9msV",
        "outputId": "8a665db8-4f1a-4f87-88bd-38641b3ba8b8"
      },
      "outputs": [
        {
          "data": {
            "text/plain": [
              "user_id       0\n",
              "first_date    0\n",
              "region        0\n",
              "device        0\n",
              "event_dt      0\n",
              "event_name    0\n",
              "details       0\n",
              "group         0\n",
              "ab_test       0\n",
              "event_date    0\n",
              "promo         0\n",
              "dtype: int64"
            ]
          },
          "execution_count": 67,
          "metadata": {},
          "output_type": "execute_result"
        }
      ],
      "source": [
        "# Melihat nilai hilang kembali untuk crosscheck\n",
        "df_final.isna().sum()"
      ]
    },
    {
      "cell_type": "code",
      "execution_count": null,
      "metadata": {
        "id": "QdVM6Iff9msV",
        "outputId": "3811dfc6-5d23-47c8-8662-0119c82b4b8b"
      },
      "outputs": [
        {
          "data": {
            "text/plain": [
              "0"
            ]
          },
          "execution_count": 68,
          "metadata": {},
          "output_type": "execute_result"
        }
      ],
      "source": [
        "# Melihat jumlah baris duplikasi kembali untuk crosscheck\n",
        "df_final.duplicated().sum()"
      ]
    },
    {
      "cell_type": "markdown",
      "metadata": {
        "id": "QmhndwVM9msV"
      },
      "source": [
        "Masalah untuk `Christmas & New Year Promo` sudah selesai, saatnya untuk cek promo lainnya."
      ]
    },
    {
      "cell_type": "code",
      "execution_count": null,
      "metadata": {
        "id": "4vKtrbYR9msW",
        "outputId": "ecbe87b9-9086-4c78-a050-8a3ee25d79e3"
      },
      "outputs": [
        {
          "data": {
            "text/html": [
              "<div>\n",
              "<style scoped>\n",
              "    .dataframe tbody tr th:only-of-type {\n",
              "        vertical-align: middle;\n",
              "    }\n",
              "\n",
              "    .dataframe tbody tr th {\n",
              "        vertical-align: top;\n",
              "    }\n",
              "\n",
              "    .dataframe thead th {\n",
              "        text-align: right;\n",
              "    }\n",
              "</style>\n",
              "<table border=\"1\" class=\"dataframe\">\n",
              "  <thead>\n",
              "    <tr style=\"text-align: right;\">\n",
              "      <th></th>\n",
              "      <th>name</th>\n",
              "      <th>regions</th>\n",
              "      <th>start_dt</th>\n",
              "      <th>finish_dt</th>\n",
              "    </tr>\n",
              "  </thead>\n",
              "  <tbody>\n",
              "    <tr>\n",
              "      <th>0</th>\n",
              "      <td>Christmas&amp;New Year Promo</td>\n",
              "      <td>EU, N.America</td>\n",
              "      <td>2020-12-25</td>\n",
              "      <td>2021-01-03</td>\n",
              "    </tr>\n",
              "    <tr>\n",
              "      <th>1</th>\n",
              "      <td>St. Valentine's Day Giveaway</td>\n",
              "      <td>EU, CIS, APAC, N.America</td>\n",
              "      <td>2020-02-14</td>\n",
              "      <td>2020-02-16</td>\n",
              "    </tr>\n",
              "    <tr>\n",
              "      <th>2</th>\n",
              "      <td>St. Patric's Day Promo</td>\n",
              "      <td>EU, N.America</td>\n",
              "      <td>2020-03-17</td>\n",
              "      <td>2020-03-19</td>\n",
              "    </tr>\n",
              "    <tr>\n",
              "      <th>3</th>\n",
              "      <td>Easter Promo</td>\n",
              "      <td>EU, CIS, APAC, N.America</td>\n",
              "      <td>2020-04-12</td>\n",
              "      <td>2020-04-19</td>\n",
              "    </tr>\n",
              "    <tr>\n",
              "      <th>4</th>\n",
              "      <td>4th of July Promo</td>\n",
              "      <td>N.America</td>\n",
              "      <td>2020-07-04</td>\n",
              "      <td>2020-07-11</td>\n",
              "    </tr>\n",
              "    <tr>\n",
              "      <th>5</th>\n",
              "      <td>Black Friday Ads Campaign</td>\n",
              "      <td>EU, CIS, APAC, N.America</td>\n",
              "      <td>2020-11-26</td>\n",
              "      <td>2020-12-01</td>\n",
              "    </tr>\n",
              "    <tr>\n",
              "      <th>6</th>\n",
              "      <td>Chinese New Year Promo</td>\n",
              "      <td>APAC</td>\n",
              "      <td>2020-01-25</td>\n",
              "      <td>2020-02-07</td>\n",
              "    </tr>\n",
              "    <tr>\n",
              "      <th>7</th>\n",
              "      <td>Labor day (May 1st) Ads Campaign</td>\n",
              "      <td>EU, CIS, APAC</td>\n",
              "      <td>2020-05-01</td>\n",
              "      <td>2020-05-03</td>\n",
              "    </tr>\n",
              "    <tr>\n",
              "      <th>8</th>\n",
              "      <td>International Women's Day Promo</td>\n",
              "      <td>EU, CIS, APAC</td>\n",
              "      <td>2020-03-08</td>\n",
              "      <td>2020-03-10</td>\n",
              "    </tr>\n",
              "    <tr>\n",
              "      <th>9</th>\n",
              "      <td>Victory Day CIS (May 9th) Event</td>\n",
              "      <td>CIS</td>\n",
              "      <td>2020-05-09</td>\n",
              "      <td>2020-05-11</td>\n",
              "    </tr>\n",
              "    <tr>\n",
              "      <th>10</th>\n",
              "      <td>CIS New Year Gift Lottery</td>\n",
              "      <td>CIS</td>\n",
              "      <td>2020-12-30</td>\n",
              "      <td>2021-01-07</td>\n",
              "    </tr>\n",
              "    <tr>\n",
              "      <th>11</th>\n",
              "      <td>Dragon Boat Festival Giveaway</td>\n",
              "      <td>APAC</td>\n",
              "      <td>2020-06-25</td>\n",
              "      <td>2020-07-01</td>\n",
              "    </tr>\n",
              "    <tr>\n",
              "      <th>12</th>\n",
              "      <td>Single's Day Gift Promo</td>\n",
              "      <td>APAC</td>\n",
              "      <td>2020-11-11</td>\n",
              "      <td>2020-11-12</td>\n",
              "    </tr>\n",
              "    <tr>\n",
              "      <th>13</th>\n",
              "      <td>Chinese Moon Festival</td>\n",
              "      <td>APAC</td>\n",
              "      <td>2020-10-01</td>\n",
              "      <td>2020-10-07</td>\n",
              "    </tr>\n",
              "  </tbody>\n",
              "</table>\n",
              "</div>"
            ],
            "text/plain": [
              "                                name                   regions   start_dt  \\\n",
              "0           Christmas&New Year Promo             EU, N.America 2020-12-25   \n",
              "1       St. Valentine's Day Giveaway  EU, CIS, APAC, N.America 2020-02-14   \n",
              "2             St. Patric's Day Promo             EU, N.America 2020-03-17   \n",
              "3                       Easter Promo  EU, CIS, APAC, N.America 2020-04-12   \n",
              "4                  4th of July Promo                 N.America 2020-07-04   \n",
              "5          Black Friday Ads Campaign  EU, CIS, APAC, N.America 2020-11-26   \n",
              "6             Chinese New Year Promo                      APAC 2020-01-25   \n",
              "7   Labor day (May 1st) Ads Campaign             EU, CIS, APAC 2020-05-01   \n",
              "8    International Women's Day Promo             EU, CIS, APAC 2020-03-08   \n",
              "9    Victory Day CIS (May 9th) Event                       CIS 2020-05-09   \n",
              "10         CIS New Year Gift Lottery                       CIS 2020-12-30   \n",
              "11     Dragon Boat Festival Giveaway                      APAC 2020-06-25   \n",
              "12           Single's Day Gift Promo                      APAC 2020-11-11   \n",
              "13             Chinese Moon Festival                      APAC 2020-10-01   \n",
              "\n",
              "    finish_dt  \n",
              "0  2021-01-03  \n",
              "1  2020-02-16  \n",
              "2  2020-03-19  \n",
              "3  2020-04-19  \n",
              "4  2020-07-11  \n",
              "5  2020-12-01  \n",
              "6  2020-02-07  \n",
              "7  2020-05-03  \n",
              "8  2020-03-10  \n",
              "9  2020-05-11  \n",
              "10 2021-01-07  \n",
              "11 2020-07-01  \n",
              "12 2020-11-12  \n",
              "13 2020-10-07  "
            ]
          },
          "execution_count": 69,
          "metadata": {},
          "output_type": "execute_result"
        }
      ],
      "source": [
        "# Melihat dan mengidentifikasi promo\n",
        "df_marketing_event"
      ]
    },
    {
      "cell_type": "markdown",
      "metadata": {
        "id": "oph8ymld9msW"
      },
      "source": [
        "Seperinya masih ada promo `CIS New Year Gift Lottery` pada region `CIS` yang diadakan pada tanggal `2020-12-30` s/d `2021-01-07`, mari lihat untuk data detailnya."
      ]
    },
    {
      "cell_type": "code",
      "execution_count": null,
      "metadata": {
        "id": "AawV7Dd69msY",
        "outputId": "f394e789-d11d-4f8a-db2a-d12462bc381b"
      },
      "outputs": [
        {
          "data": {
            "text/html": [
              "<div>\n",
              "<style scoped>\n",
              "    .dataframe tbody tr th:only-of-type {\n",
              "        vertical-align: middle;\n",
              "    }\n",
              "\n",
              "    .dataframe tbody tr th {\n",
              "        vertical-align: top;\n",
              "    }\n",
              "\n",
              "    .dataframe thead th {\n",
              "        text-align: right;\n",
              "    }\n",
              "</style>\n",
              "<table border=\"1\" class=\"dataframe\">\n",
              "  <thead>\n",
              "    <tr style=\"text-align: right;\">\n",
              "      <th></th>\n",
              "      <th>user_id</th>\n",
              "      <th>first_date</th>\n",
              "      <th>region</th>\n",
              "      <th>device</th>\n",
              "      <th>event_dt</th>\n",
              "      <th>event_name</th>\n",
              "      <th>details</th>\n",
              "      <th>group</th>\n",
              "      <th>ab_test</th>\n",
              "      <th>event_date</th>\n",
              "      <th>promo</th>\n",
              "    </tr>\n",
              "  </thead>\n",
              "  <tbody>\n",
              "  </tbody>\n",
              "</table>\n",
              "</div>"
            ],
            "text/plain": [
              "Empty DataFrame\n",
              "Columns: [user_id, first_date, region, device, event_dt, event_name, details, group, ab_test, event_date, promo]\n",
              "Index: []"
            ]
          },
          "execution_count": 70,
          "metadata": {},
          "output_type": "execute_result"
        }
      ],
      "source": [
        "# Melihat dan mengidentifikasi pengguna yang mendapatkan CIS New Year Gift Lottery\n",
        "df_final.loc[(df_final['region'] == 'CIS') \n",
        "             & ((df_final['event_date'] >= '2020-12-30') \n",
        "                & (df_final['event_date'] <= '2021-01-07'))]"
      ]
    },
    {
      "cell_type": "code",
      "execution_count": null,
      "metadata": {
        "id": "P07d4mZU9msY",
        "outputId": "57a41bb1-326f-44f1-a068-331fc7167e5d"
      },
      "outputs": [
        {
          "data": {
            "text/html": [
              "<div>\n",
              "<style scoped>\n",
              "    .dataframe tbody tr th:only-of-type {\n",
              "        vertical-align: middle;\n",
              "    }\n",
              "\n",
              "    .dataframe tbody tr th {\n",
              "        vertical-align: top;\n",
              "    }\n",
              "\n",
              "    .dataframe thead th {\n",
              "        text-align: right;\n",
              "    }\n",
              "</style>\n",
              "<table border=\"1\" class=\"dataframe\">\n",
              "  <thead>\n",
              "    <tr style=\"text-align: right;\">\n",
              "      <th></th>\n",
              "      <th>details</th>\n",
              "    </tr>\n",
              "  </thead>\n",
              "  <tbody>\n",
              "    <tr>\n",
              "      <th>count</th>\n",
              "      <td>206.000000</td>\n",
              "    </tr>\n",
              "    <tr>\n",
              "      <th>mean</th>\n",
              "      <td>0.751942</td>\n",
              "    </tr>\n",
              "    <tr>\n",
              "      <th>std</th>\n",
              "      <td>7.072939</td>\n",
              "    </tr>\n",
              "    <tr>\n",
              "      <th>min</th>\n",
              "      <td>0.000000</td>\n",
              "    </tr>\n",
              "    <tr>\n",
              "      <th>25%</th>\n",
              "      <td>0.000000</td>\n",
              "    </tr>\n",
              "    <tr>\n",
              "      <th>50%</th>\n",
              "      <td>0.000000</td>\n",
              "    </tr>\n",
              "    <tr>\n",
              "      <th>75%</th>\n",
              "      <td>0.000000</td>\n",
              "    </tr>\n",
              "    <tr>\n",
              "      <th>max</th>\n",
              "      <td>99.990000</td>\n",
              "    </tr>\n",
              "  </tbody>\n",
              "</table>\n",
              "</div>"
            ],
            "text/plain": [
              "          details\n",
              "count  206.000000\n",
              "mean     0.751942\n",
              "std      7.072939\n",
              "min      0.000000\n",
              "25%      0.000000\n",
              "50%      0.000000\n",
              "75%      0.000000\n",
              "max     99.990000"
            ]
          },
          "execution_count": 71,
          "metadata": {},
          "output_type": "execute_result"
        }
      ],
      "source": [
        "df_final.loc[(df_final['region'] == 'CIS')].describe()"
      ]
    },
    {
      "cell_type": "markdown",
      "metadata": {
        "id": "KLBHRqnu9msZ"
      },
      "source": [
        "Sepertinya tidak ada aktivitas atau peristiwa untuk pengguna pada tanggal dan region tersebut, artinya tidak perlu ada tindakan untuk mengidentifikasi para pengguna tersebut."
      ]
    },
    {
      "cell_type": "markdown",
      "metadata": {
        "id": "ys_-hknv9msZ"
      },
      "source": [
        "### Pelajari konversi di berbagai tahapan corong."
      ]
    },
    {
      "cell_type": "code",
      "execution_count": null,
      "metadata": {
        "id": "r2dL95g49msZ",
        "outputId": "366c1411-8670-4b0e-af8e-15dca806a760"
      },
      "outputs": [
        {
          "data": {
            "text/plain": [
              "array(['product_page', 'login', 'purchase', 'product_cart'], dtype=object)"
            ]
          },
          "execution_count": 72,
          "metadata": {},
          "output_type": "execute_result"
        }
      ],
      "source": [
        "# Melihat kejadiannya\n",
        "df_final['event_name'].unique()"
      ]
    },
    {
      "cell_type": "markdown",
      "metadata": {
        "id": "aZsroWba9msa"
      },
      "source": [
        "Untuk kejadiannya akan di bikin 4 tahapan yang sudah diidentifikasikan dan diurutkan, yaitu:\n",
        "\n",
        "- Login\n",
        "- Product_page\n",
        "- Product_cart\n",
        "- Purchase"
      ]
    },
    {
      "cell_type": "code",
      "execution_count": null,
      "metadata": {
        "id": "zb0keJg19msa",
        "outputId": "5c82c4c2-a24d-4bb8-a876-3878c537f34b"
      },
      "outputs": [
        {
          "data": {
            "text/html": [
              "<div>\n",
              "<style scoped>\n",
              "    .dataframe tbody tr th:only-of-type {\n",
              "        vertical-align: middle;\n",
              "    }\n",
              "\n",
              "    .dataframe tbody tr th {\n",
              "        vertical-align: top;\n",
              "    }\n",
              "\n",
              "    .dataframe thead th {\n",
              "        text-align: right;\n",
              "    }\n",
              "</style>\n",
              "<table border=\"1\" class=\"dataframe\">\n",
              "  <thead>\n",
              "    <tr style=\"text-align: right;\">\n",
              "      <th></th>\n",
              "      <th>event_name</th>\n",
              "      <th>user_id</th>\n",
              "      <th>percentage</th>\n",
              "    </tr>\n",
              "  </thead>\n",
              "  <tbody>\n",
              "    <tr>\n",
              "      <th>0</th>\n",
              "      <td>login</td>\n",
              "      <td>10837</td>\n",
              "      <td>NaN</td>\n",
              "    </tr>\n",
              "    <tr>\n",
              "      <th>1</th>\n",
              "      <td>product_page</td>\n",
              "      <td>6702</td>\n",
              "      <td>61.84</td>\n",
              "    </tr>\n",
              "    <tr>\n",
              "      <th>2</th>\n",
              "      <td>product_cart</td>\n",
              "      <td>3160</td>\n",
              "      <td>47.15</td>\n",
              "    </tr>\n",
              "    <tr>\n",
              "      <th>3</th>\n",
              "      <td>purchase</td>\n",
              "      <td>3210</td>\n",
              "      <td>101.58</td>\n",
              "    </tr>\n",
              "  </tbody>\n",
              "</table>\n",
              "</div>"
            ],
            "text/plain": [
              "     event_name  user_id  percentage\n",
              "0         login    10837         NaN\n",
              "1  product_page     6702       61.84\n",
              "2  product_cart     3160       47.15\n",
              "3      purchase     3210      101.58"
            ]
          },
          "execution_count": 73,
          "metadata": {},
          "output_type": "execute_result"
        }
      ],
      "source": [
        "# Membuat corong berdasarkan jumlah peristiwa\n",
        "event_count = df_final.pivot_table(index = 'event_name',\n",
        "                                  values = 'user_id',\n",
        "                                  aggfunc = 'count').sort_values('user_id', ascending = False)\n",
        "# Mengurutkan berdasarkan kejadian yang sudah ditentukan\n",
        "event_count = event_count.take([0, 1, 3, 2])\n",
        "# Membuat nilai persentase setiap corongnya \n",
        "event_count['percentage'] = ((event_count / event_count.shift()) * 100).round(2)\n",
        "# Mereset index\n",
        "event_count = event_count.reset_index()\n",
        "# Melihat hasilnya\n",
        "event_count"
      ]
    },
    {
      "cell_type": "code",
      "execution_count": null,
      "metadata": {
        "id": "f0Zqv_vE9msb",
        "outputId": "b21fb46d-7648-4d6e-d7cf-72199c2c4f38"
      },
      "outputs": [
        {
          "data": {
            "text/html": [
              "<div>\n",
              "<style scoped>\n",
              "    .dataframe tbody tr th:only-of-type {\n",
              "        vertical-align: middle;\n",
              "    }\n",
              "\n",
              "    .dataframe tbody tr th {\n",
              "        vertical-align: top;\n",
              "    }\n",
              "\n",
              "    .dataframe thead th {\n",
              "        text-align: right;\n",
              "    }\n",
              "</style>\n",
              "<table border=\"1\" class=\"dataframe\">\n",
              "  <thead>\n",
              "    <tr style=\"text-align: right;\">\n",
              "      <th></th>\n",
              "      <th>event_name</th>\n",
              "      <th>user_id</th>\n",
              "      <th>percentage</th>\n",
              "    </tr>\n",
              "  </thead>\n",
              "  <tbody>\n",
              "    <tr>\n",
              "      <th>0</th>\n",
              "      <td>login</td>\n",
              "      <td>3674</td>\n",
              "      <td>NaN</td>\n",
              "    </tr>\n",
              "    <tr>\n",
              "      <th>1</th>\n",
              "      <td>product_page</td>\n",
              "      <td>2303</td>\n",
              "      <td>62.68</td>\n",
              "    </tr>\n",
              "    <tr>\n",
              "      <th>2</th>\n",
              "      <td>product_cart</td>\n",
              "      <td>1079</td>\n",
              "      <td>46.85</td>\n",
              "    </tr>\n",
              "    <tr>\n",
              "      <th>3</th>\n",
              "      <td>purchase</td>\n",
              "      <td>1128</td>\n",
              "      <td>104.54</td>\n",
              "    </tr>\n",
              "  </tbody>\n",
              "</table>\n",
              "</div>"
            ],
            "text/plain": [
              "     event_name  user_id  percentage\n",
              "0         login     3674         NaN\n",
              "1  product_page     2303       62.68\n",
              "2  product_cart     1079       46.85\n",
              "3      purchase     1128      104.54"
            ]
          },
          "execution_count": 74,
          "metadata": {},
          "output_type": "execute_result"
        }
      ],
      "source": [
        "# Membuat corong berdasarkan jumlah pengguna\n",
        "event_user = df_final.pivot_table(index = 'event_name',\n",
        "                                  values = 'user_id',\n",
        "                                  aggfunc = 'nunique').sort_values('user_id', ascending = False)\n",
        "# Mengurutkan berdasarkan kejadian yang sudah ditentukan\n",
        "event_user = event_user.take([0, 1, 3, 2])\n",
        "# Membuat nilai persentase setiap corongnya \n",
        "event_user['percentage'] = ((event_user / event_user.shift()) * 100).round(2)\n",
        "# Mereset index\n",
        "event_user = event_user.reset_index()\n",
        "# Melihat hasilnya\n",
        "event_user"
      ]
    },
    {
      "cell_type": "markdown",
      "metadata": {
        "id": "ULyrc6Jz9msb"
      },
      "source": [
        "Baik corong untuk jumlah total kejadian dan corong untuk jumlah total pengguna tidak seperti di harapkan untuk peningkatan setiap corongnya minimal 10%. Bahkan untuk dari `product_page` ke `product_cart` mengalami penurunan baik jumlah total kejadian dan corong untuk jumlah total pengguna. untuk `product_cart` ke `puchase` bahwa ada peningkatan tahapan corong, tetapi hanya sedikit saja. Untuk jumlah total kejadian hanya 1.58% dan untuk jumlah total pengguna hanya 4.54%."
      ]
    },
    {
      "cell_type": "markdown",
      "metadata": {
        "id": "amuUJslK9msc"
      },
      "source": [
        "### Jumlah peristiwa per pengguna di seluruh sampel"
      ]
    },
    {
      "cell_type": "code",
      "execution_count": null,
      "metadata": {
        "id": "_4xgDB9j9msd"
      },
      "outputs": [],
      "source": [
        "# Memfilter pengguna berdasarkan sampel grup A dan B\n",
        "event_user_sample_a = df_final.query('group == \"A\"')\n",
        "event_user_sample_b = df_final.query('group == \"B\"')"
      ]
    },
    {
      "cell_type": "code",
      "execution_count": null,
      "metadata": {
        "id": "drh8N1xj9msd",
        "outputId": "b7e775ef-da84-4717-db63-313ad0452872"
      },
      "outputs": [
        {
          "data": {
            "text/plain": [
              "array(['product_page', 'login', 'purchase', 'product_cart'], dtype=object)"
            ]
          },
          "execution_count": 76,
          "metadata": {},
          "output_type": "execute_result"
        }
      ],
      "source": [
        "# Melihat kejadiannya sampel grup A\n",
        "event_user_sample_a['event_name'].unique()"
      ]
    },
    {
      "cell_type": "code",
      "execution_count": null,
      "metadata": {
        "id": "rXYRlHWd9mse",
        "outputId": "1fdf5aaa-05f0-47ff-ecbc-9668669c1828"
      },
      "outputs": [
        {
          "data": {
            "text/plain": [
              "array(['product_page', 'login', 'product_cart', 'purchase'], dtype=object)"
            ]
          },
          "execution_count": 77,
          "metadata": {},
          "output_type": "execute_result"
        }
      ],
      "source": [
        "# Melihat kejadiannya sampel grup B\n",
        "event_user_sample_b['event_name'].unique()"
      ]
    },
    {
      "cell_type": "markdown",
      "metadata": {
        "id": "lqOQ12tA9mse"
      },
      "source": [
        "Untuk kejadiannya akan di bikin 4 tahapan baik dari sampe grup `A` dan `B` yang sudah diidentifikasikan dan diurutkan, yaitu:\n",
        "\n",
        "- Login\n",
        "- Product_page\n",
        "- Product_cart\n",
        "- Purchase"
      ]
    },
    {
      "cell_type": "code",
      "execution_count": null,
      "metadata": {
        "id": "puQPQwNc9mse",
        "outputId": "4fdff93b-b36e-4d90-be10-a5ba0751acc9"
      },
      "outputs": [
        {
          "data": {
            "text/html": [
              "<div>\n",
              "<style scoped>\n",
              "    .dataframe tbody tr th:only-of-type {\n",
              "        vertical-align: middle;\n",
              "    }\n",
              "\n",
              "    .dataframe tbody tr th {\n",
              "        vertical-align: top;\n",
              "    }\n",
              "\n",
              "    .dataframe thead th {\n",
              "        text-align: right;\n",
              "    }\n",
              "</style>\n",
              "<table border=\"1\" class=\"dataframe\">\n",
              "  <thead>\n",
              "    <tr style=\"text-align: right;\">\n",
              "      <th></th>\n",
              "      <th>event_name</th>\n",
              "      <th>user_id</th>\n",
              "      <th>percentage</th>\n",
              "    </tr>\n",
              "  </thead>\n",
              "  <tbody>\n",
              "    <tr>\n",
              "      <th>0</th>\n",
              "      <td>login</td>\n",
              "      <td>2747</td>\n",
              "      <td>NaN</td>\n",
              "    </tr>\n",
              "    <tr>\n",
              "      <th>1</th>\n",
              "      <td>product_page</td>\n",
              "      <td>1780</td>\n",
              "      <td>64.80</td>\n",
              "    </tr>\n",
              "    <tr>\n",
              "      <th>2</th>\n",
              "      <td>product_cart</td>\n",
              "      <td>824</td>\n",
              "      <td>46.29</td>\n",
              "    </tr>\n",
              "    <tr>\n",
              "      <th>3</th>\n",
              "      <td>purchase</td>\n",
              "      <td>872</td>\n",
              "      <td>105.83</td>\n",
              "    </tr>\n",
              "  </tbody>\n",
              "</table>\n",
              "</div>"
            ],
            "text/plain": [
              "     event_name  user_id  percentage\n",
              "0         login     2747         NaN\n",
              "1  product_page     1780       64.80\n",
              "2  product_cart      824       46.29\n",
              "3      purchase      872      105.83"
            ]
          },
          "execution_count": 78,
          "metadata": {},
          "output_type": "execute_result"
        }
      ],
      "source": [
        "# Membuat corong berdasarkan jumlah pengguna sampel grup A\n",
        "event_user_group_a = event_user_sample_a.pivot_table(index = 'event_name',\n",
        "                                                     values = 'user_id', \n",
        "                                                     aggfunc = 'nunique').sort_values('user_id', ascending = False)\n",
        "# Mengurutkan berdasarkan kejadian yang sudah ditentukan\n",
        "event_user_group_a = event_user_group_a.take([0, 1, 3, 2])\n",
        "# Membuat nilai persentase setiap corongnya \n",
        "event_user_group_a['percentage'] = ((event_user_group_a / event_user_group_a.shift()) * 100).round(2)\n",
        "# Mereset index\n",
        "event_user_group_a = event_user_group_a.reset_index()\n",
        "# Melihat hasilnya\n",
        "event_user_group_a"
      ]
    },
    {
      "cell_type": "markdown",
      "metadata": {
        "id": "wWiCBpz39msf"
      },
      "source": [
        "Untuk kelompok A bahwa pengguannya dari `login` menuju `product_page` hanya berkisaran 64.80%, dari `product_page` ke `product_cart` tidak sampa setengahnya yaitu 46.29%, dan `product_cart` ke `puchase` ternyata terjadi peningkatan sebesar 5.83% atau 48 pengguna dari 824 di `product_cart`."
      ]
    },
    {
      "cell_type": "code",
      "execution_count": null,
      "metadata": {
        "id": "hrjvS4cy9msg",
        "outputId": "2663015b-7d8a-44b5-d5c1-a336257112ad"
      },
      "outputs": [
        {
          "data": {
            "text/html": [
              "<div>\n",
              "<style scoped>\n",
              "    .dataframe tbody tr th:only-of-type {\n",
              "        vertical-align: middle;\n",
              "    }\n",
              "\n",
              "    .dataframe tbody tr th {\n",
              "        vertical-align: top;\n",
              "    }\n",
              "\n",
              "    .dataframe thead th {\n",
              "        text-align: right;\n",
              "    }\n",
              "</style>\n",
              "<table border=\"1\" class=\"dataframe\">\n",
              "  <thead>\n",
              "    <tr style=\"text-align: right;\">\n",
              "      <th></th>\n",
              "      <th>event_name</th>\n",
              "      <th>user_id</th>\n",
              "      <th>percentage</th>\n",
              "    </tr>\n",
              "  </thead>\n",
              "  <tbody>\n",
              "    <tr>\n",
              "      <th>0</th>\n",
              "      <td>login</td>\n",
              "      <td>927</td>\n",
              "      <td>NaN</td>\n",
              "    </tr>\n",
              "    <tr>\n",
              "      <th>1</th>\n",
              "      <td>product_page</td>\n",
              "      <td>523</td>\n",
              "      <td>56.42</td>\n",
              "    </tr>\n",
              "    <tr>\n",
              "      <th>2</th>\n",
              "      <td>product_cart</td>\n",
              "      <td>255</td>\n",
              "      <td>48.76</td>\n",
              "    </tr>\n",
              "    <tr>\n",
              "      <th>3</th>\n",
              "      <td>purchase</td>\n",
              "      <td>256</td>\n",
              "      <td>100.39</td>\n",
              "    </tr>\n",
              "  </tbody>\n",
              "</table>\n",
              "</div>"
            ],
            "text/plain": [
              "     event_name  user_id  percentage\n",
              "0         login      927         NaN\n",
              "1  product_page      523       56.42\n",
              "2  product_cart      255       48.76\n",
              "3      purchase      256      100.39"
            ]
          },
          "execution_count": 79,
          "metadata": {},
          "output_type": "execute_result"
        }
      ],
      "source": [
        "# Membuat corong berdasarkan jumlah pengguna sampel grup B\n",
        "event_user_group_b = event_user_sample_b.pivot_table(index = 'event_name',\n",
        "                                                     values = 'user_id', \n",
        "                                                     aggfunc = 'nunique').sort_values('user_id', ascending = False)\n",
        "# Mengurutkan berdasarkan kejadian yang sudah ditentukan\n",
        "event_user_group_b = event_user_group_b.take([0, 1, 3, 2])\n",
        "# Membuat nilai persentase setiap corongnya \n",
        "event_user_group_b['percentage'] = ((event_user_group_b / event_user_group_b.shift()) * 100).round(2)\n",
        "# Mereset index\n",
        "event_user_group_b = event_user_group_b.reset_index()\n",
        "# Melihat hasilnya\n",
        "event_user_group_b"
      ]
    },
    {
      "cell_type": "markdown",
      "metadata": {
        "id": "_OhWuGme9msg"
      },
      "source": [
        "Untuk kelompok B bahwa pengguannya dari `login` menuju `product_page` hanya berkisaran 56.42%, dari `product_page` ke `product_cart` tidak sampa setengahnya yaitu 48.76%, dan `product_cart` ke `puchase` ternyata terjadi peningkatan sebesar 1 pengguna saja dari 255 di `product_cart`."
      ]
    },
    {
      "cell_type": "markdown",
      "metadata": {
        "id": "IAzllbgO9msh"
      },
      "source": [
        "Kesimpulan:\n",
        "\n",
        "Bahwa distribusi peristiwa per-pengguna antara kelompok A dan kelompok B tidaklah rata, terjadi ketimpangan yang dimana pengguna kelompok A lebih banyak ketimbang kelompok B dan hal itu bisa langsung terlihat jelas jika membandinkannya.  "
      ]
    },
    {
      "cell_type": "markdown",
      "metadata": {
        "id": "SG3G8jd39msi"
      },
      "source": [
        "### Mengidentifikasi pengguna yang berada di kedua sampel"
      ]
    },
    {
      "cell_type": "code",
      "execution_count": null,
      "metadata": {
        "id": "Sdgkswhf9msi",
        "outputId": "8ea4ee23-89a0-48ac-f880-ee559ff54315"
      },
      "outputs": [
        {
          "data": {
            "text/html": [
              "<div>\n",
              "<style scoped>\n",
              "    .dataframe tbody tr th:only-of-type {\n",
              "        vertical-align: middle;\n",
              "    }\n",
              "\n",
              "    .dataframe tbody tr th {\n",
              "        vertical-align: top;\n",
              "    }\n",
              "\n",
              "    .dataframe thead th {\n",
              "        text-align: right;\n",
              "    }\n",
              "</style>\n",
              "<table border=\"1\" class=\"dataframe\">\n",
              "  <thead>\n",
              "    <tr style=\"text-align: right;\">\n",
              "      <th></th>\n",
              "      <th>user_id</th>\n",
              "      <th>first_date</th>\n",
              "      <th>region</th>\n",
              "      <th>device</th>\n",
              "      <th>event_dt</th>\n",
              "      <th>event_name</th>\n",
              "      <th>details</th>\n",
              "      <th>group</th>\n",
              "      <th>ab_test</th>\n",
              "      <th>event_date</th>\n",
              "      <th>promo</th>\n",
              "    </tr>\n",
              "  </thead>\n",
              "  <tbody>\n",
              "  </tbody>\n",
              "</table>\n",
              "</div>"
            ],
            "text/plain": [
              "Empty DataFrame\n",
              "Columns: [user_id, first_date, region, device, event_dt, event_name, details, group, ab_test, event_date, promo]\n",
              "Index: []"
            ]
          },
          "execution_count": 80,
          "metadata": {},
          "output_type": "execute_result"
        }
      ],
      "source": [
        "# Mengidentifikasi pengguna yang berada di grup A dan B sekaligus (metode .loc)\n",
        "df_final.loc[(df_final['group'] == 'A') & (df_final['group'] == 'B')]"
      ]
    },
    {
      "cell_type": "code",
      "execution_count": null,
      "metadata": {
        "id": "VbFT1zkA9msj",
        "outputId": "3f8cf006-2e13-4a2c-9ad3-e54b8424af5e"
      },
      "outputs": [
        {
          "data": {
            "text/html": [
              "<div>\n",
              "<style scoped>\n",
              "    .dataframe tbody tr th:only-of-type {\n",
              "        vertical-align: middle;\n",
              "    }\n",
              "\n",
              "    .dataframe tbody tr th {\n",
              "        vertical-align: top;\n",
              "    }\n",
              "\n",
              "    .dataframe thead th {\n",
              "        text-align: right;\n",
              "    }\n",
              "</style>\n",
              "<table border=\"1\" class=\"dataframe\">\n",
              "  <thead>\n",
              "    <tr style=\"text-align: right;\">\n",
              "      <th></th>\n",
              "      <th>user_id</th>\n",
              "      <th>first_date</th>\n",
              "      <th>region</th>\n",
              "      <th>device</th>\n",
              "      <th>event_dt</th>\n",
              "      <th>event_name</th>\n",
              "      <th>details</th>\n",
              "      <th>group</th>\n",
              "      <th>ab_test</th>\n",
              "      <th>event_date</th>\n",
              "      <th>promo</th>\n",
              "    </tr>\n",
              "  </thead>\n",
              "  <tbody>\n",
              "  </tbody>\n",
              "</table>\n",
              "</div>"
            ],
            "text/plain": [
              "Empty DataFrame\n",
              "Columns: [user_id, first_date, region, device, event_dt, event_name, details, group, ab_test, event_date, promo]\n",
              "Index: []"
            ]
          },
          "execution_count": 81,
          "metadata": {},
          "output_type": "execute_result"
        }
      ],
      "source": [
        "# Mengidentifikasi pengguna yang berada di grup A dan B sekaligus (metode .query())\n",
        "df_final.query('group == \"A\" & group == \"B\"')"
      ]
    },
    {
      "cell_type": "markdown",
      "metadata": {
        "id": "Gqxdg43c9msj"
      },
      "source": [
        "Kesimpulan:\n",
        "\n",
        "Tidak ada pengguna satupun yang berada di dua kelompok sekaligus, artinya data tersebut akan aman dari bias saat pengujian nanti."
      ]
    },
    {
      "cell_type": "markdown",
      "metadata": {
        "id": "JZJeR0Mn9msk"
      },
      "source": [
        "### Distribusian jumlah peristiwa berdasarkan hari"
      ]
    },
    {
      "cell_type": "markdown",
      "metadata": {
        "id": "I62bogwB9msk"
      },
      "source": [
        "Dalam melihat distribusi peristiwa berdasarkan hari, saya lebih memilih untuk melihat dengan satu chart untuk bisa membandingkan distribusi semua peristiwa. Maka nanti tabel di filter untuk di agregasi dan di hasilnya akan digabungkan."
      ]
    },
    {
      "cell_type": "code",
      "execution_count": null,
      "metadata": {
        "id": "vLahjxG39msl",
        "outputId": "a84d28aa-3037-4689-8caa-526cb2080a19"
      },
      "outputs": [
        {
          "data": {
            "text/plain": [
              "array(['product_page', 'login', 'purchase', 'product_cart'], dtype=object)"
            ]
          },
          "execution_count": 82,
          "metadata": {},
          "output_type": "execute_result"
        }
      ],
      "source": [
        "# Melihat peristiwanya\n",
        "df_final['event_name'].unique()"
      ]
    },
    {
      "cell_type": "markdown",
      "metadata": {
        "id": "IwBqjULb9msl"
      },
      "source": [
        "Untuk kejadiannya akan di bikin 4 tahapan yang sudah diidentifikasikan dan diurutkan, yaitu:\n",
        "\n",
        "- Login\n",
        "- Product_page\n",
        "- Product_cart\n",
        "- Purchase"
      ]
    },
    {
      "cell_type": "code",
      "execution_count": null,
      "metadata": {
        "id": "S7Vscq7g9msl",
        "outputId": "cabbe402-84be-46d0-9327-81cd58a6ca20"
      },
      "outputs": [
        {
          "data": {
            "text/html": [
              "<div>\n",
              "<style scoped>\n",
              "    .dataframe tbody tr th:only-of-type {\n",
              "        vertical-align: middle;\n",
              "    }\n",
              "\n",
              "    .dataframe tbody tr th {\n",
              "        vertical-align: top;\n",
              "    }\n",
              "\n",
              "    .dataframe thead th {\n",
              "        text-align: right;\n",
              "    }\n",
              "</style>\n",
              "<table border=\"1\" class=\"dataframe\">\n",
              "  <thead>\n",
              "    <tr style=\"text-align: right;\">\n",
              "      <th></th>\n",
              "      <th>user_id</th>\n",
              "      <th>first_date</th>\n",
              "      <th>region</th>\n",
              "      <th>device</th>\n",
              "      <th>event_dt</th>\n",
              "      <th>event_name</th>\n",
              "      <th>details</th>\n",
              "      <th>group</th>\n",
              "      <th>ab_test</th>\n",
              "      <th>event_date</th>\n",
              "      <th>promo</th>\n",
              "    </tr>\n",
              "  </thead>\n",
              "  <tbody>\n",
              "    <tr>\n",
              "      <th>1</th>\n",
              "      <td>D72A72121175D8BE</td>\n",
              "      <td>2020-12-07</td>\n",
              "      <td>EU</td>\n",
              "      <td>PC</td>\n",
              "      <td>2020-12-07 21:52:07</td>\n",
              "      <td>login</td>\n",
              "      <td>0.0</td>\n",
              "      <td>A</td>\n",
              "      <td>recommender_system_test</td>\n",
              "      <td>2020-12-07</td>\n",
              "      <td>Non-Promo</td>\n",
              "    </tr>\n",
              "    <tr>\n",
              "      <th>14</th>\n",
              "      <td>DD4352CDCF8C3D57</td>\n",
              "      <td>2020-12-07</td>\n",
              "      <td>EU</td>\n",
              "      <td>Android</td>\n",
              "      <td>2020-12-07 15:32:53</td>\n",
              "      <td>login</td>\n",
              "      <td>0.0</td>\n",
              "      <td>B</td>\n",
              "      <td>recommender_system_test</td>\n",
              "      <td>2020-12-07</td>\n",
              "      <td>Christmas &amp; New Year Promo</td>\n",
              "    </tr>\n",
              "    <tr>\n",
              "      <th>16</th>\n",
              "      <td>DD4352CDCF8C3D57</td>\n",
              "      <td>2020-12-07</td>\n",
              "      <td>EU</td>\n",
              "      <td>Android</td>\n",
              "      <td>2020-12-08 08:29:27</td>\n",
              "      <td>login</td>\n",
              "      <td>0.0</td>\n",
              "      <td>B</td>\n",
              "      <td>recommender_system_test</td>\n",
              "      <td>2020-12-08</td>\n",
              "      <td>Christmas &amp; New Year Promo</td>\n",
              "    </tr>\n",
              "    <tr>\n",
              "      <th>18</th>\n",
              "      <td>DD4352CDCF8C3D57</td>\n",
              "      <td>2020-12-07</td>\n",
              "      <td>EU</td>\n",
              "      <td>Android</td>\n",
              "      <td>2020-12-10 18:18:24</td>\n",
              "      <td>login</td>\n",
              "      <td>0.0</td>\n",
              "      <td>B</td>\n",
              "      <td>recommender_system_test</td>\n",
              "      <td>2020-12-10</td>\n",
              "      <td>Christmas &amp; New Year Promo</td>\n",
              "    </tr>\n",
              "    <tr>\n",
              "      <th>20</th>\n",
              "      <td>DD4352CDCF8C3D57</td>\n",
              "      <td>2020-12-07</td>\n",
              "      <td>EU</td>\n",
              "      <td>Android</td>\n",
              "      <td>2020-12-16 20:35:47</td>\n",
              "      <td>login</td>\n",
              "      <td>0.0</td>\n",
              "      <td>B</td>\n",
              "      <td>recommender_system_test</td>\n",
              "      <td>2020-12-16</td>\n",
              "      <td>Christmas &amp; New Year Promo</td>\n",
              "    </tr>\n",
              "  </tbody>\n",
              "</table>\n",
              "</div>"
            ],
            "text/plain": [
              "             user_id first_date region   device            event_dt  \\\n",
              "1   D72A72121175D8BE 2020-12-07     EU       PC 2020-12-07 21:52:07   \n",
              "14  DD4352CDCF8C3D57 2020-12-07     EU  Android 2020-12-07 15:32:53   \n",
              "16  DD4352CDCF8C3D57 2020-12-07     EU  Android 2020-12-08 08:29:27   \n",
              "18  DD4352CDCF8C3D57 2020-12-07     EU  Android 2020-12-10 18:18:24   \n",
              "20  DD4352CDCF8C3D57 2020-12-07     EU  Android 2020-12-16 20:35:47   \n",
              "\n",
              "   event_name  details group                  ab_test event_date  \\\n",
              "1       login      0.0     A  recommender_system_test 2020-12-07   \n",
              "14      login      0.0     B  recommender_system_test 2020-12-07   \n",
              "16      login      0.0     B  recommender_system_test 2020-12-08   \n",
              "18      login      0.0     B  recommender_system_test 2020-12-10   \n",
              "20      login      0.0     B  recommender_system_test 2020-12-16   \n",
              "\n",
              "                         promo  \n",
              "1                    Non-Promo  \n",
              "14  Christmas & New Year Promo  \n",
              "16  Christmas & New Year Promo  \n",
              "18  Christmas & New Year Promo  \n",
              "20  Christmas & New Year Promo  "
            ]
          },
          "execution_count": 83,
          "metadata": {},
          "output_type": "execute_result"
        }
      ],
      "source": [
        "# Memfilter untuk peristiwa login\n",
        "df_login = df_final.query('event_name == \"login\"')\n",
        "df_login.head()"
      ]
    },
    {
      "cell_type": "code",
      "execution_count": null,
      "metadata": {
        "id": "MusXa4L_9msm",
        "outputId": "051a04df-d367-4a3a-90b1-9bcf0eb3d7bb"
      },
      "outputs": [
        {
          "data": {
            "text/html": [
              "<div>\n",
              "<style scoped>\n",
              "    .dataframe tbody tr th:only-of-type {\n",
              "        vertical-align: middle;\n",
              "    }\n",
              "\n",
              "    .dataframe tbody tr th {\n",
              "        vertical-align: top;\n",
              "    }\n",
              "\n",
              "    .dataframe thead th {\n",
              "        text-align: right;\n",
              "    }\n",
              "</style>\n",
              "<table border=\"1\" class=\"dataframe\">\n",
              "  <thead>\n",
              "    <tr style=\"text-align: right;\">\n",
              "      <th></th>\n",
              "      <th>date</th>\n",
              "      <th>login_count</th>\n",
              "    </tr>\n",
              "  </thead>\n",
              "  <tbody>\n",
              "    <tr>\n",
              "      <th>0</th>\n",
              "      <td>2020-12-07</td>\n",
              "      <td>319</td>\n",
              "    </tr>\n",
              "    <tr>\n",
              "      <th>1</th>\n",
              "      <td>2020-12-08</td>\n",
              "      <td>278</td>\n",
              "    </tr>\n",
              "    <tr>\n",
              "      <th>2</th>\n",
              "      <td>2020-12-09</td>\n",
              "      <td>350</td>\n",
              "    </tr>\n",
              "    <tr>\n",
              "      <th>3</th>\n",
              "      <td>2020-12-10</td>\n",
              "      <td>296</td>\n",
              "    </tr>\n",
              "    <tr>\n",
              "      <th>4</th>\n",
              "      <td>2020-12-11</td>\n",
              "      <td>274</td>\n",
              "    </tr>\n",
              "    <tr>\n",
              "      <th>5</th>\n",
              "      <td>2020-12-12</td>\n",
              "      <td>280</td>\n",
              "    </tr>\n",
              "    <tr>\n",
              "      <th>6</th>\n",
              "      <td>2020-12-13</td>\n",
              "      <td>251</td>\n",
              "    </tr>\n",
              "    <tr>\n",
              "      <th>7</th>\n",
              "      <td>2020-12-14</td>\n",
              "      <td>619</td>\n",
              "    </tr>\n",
              "    <tr>\n",
              "      <th>8</th>\n",
              "      <td>2020-12-15</td>\n",
              "      <td>589</td>\n",
              "    </tr>\n",
              "    <tr>\n",
              "      <th>9</th>\n",
              "      <td>2020-12-16</td>\n",
              "      <td>643</td>\n",
              "    </tr>\n",
              "    <tr>\n",
              "      <th>10</th>\n",
              "      <td>2020-12-17</td>\n",
              "      <td>677</td>\n",
              "    </tr>\n",
              "    <tr>\n",
              "      <th>11</th>\n",
              "      <td>2020-12-18</td>\n",
              "      <td>708</td>\n",
              "    </tr>\n",
              "    <tr>\n",
              "      <th>12</th>\n",
              "      <td>2020-12-19</td>\n",
              "      <td>798</td>\n",
              "    </tr>\n",
              "    <tr>\n",
              "      <th>13</th>\n",
              "      <td>2020-12-20</td>\n",
              "      <td>830</td>\n",
              "    </tr>\n",
              "    <tr>\n",
              "      <th>14</th>\n",
              "      <td>2020-12-21</td>\n",
              "      <td>1089</td>\n",
              "    </tr>\n",
              "    <tr>\n",
              "      <th>15</th>\n",
              "      <td>2020-12-22</td>\n",
              "      <td>688</td>\n",
              "    </tr>\n",
              "    <tr>\n",
              "      <th>16</th>\n",
              "      <td>2020-12-23</td>\n",
              "      <td>551</td>\n",
              "    </tr>\n",
              "    <tr>\n",
              "      <th>17</th>\n",
              "      <td>2020-12-24</td>\n",
              "      <td>453</td>\n",
              "    </tr>\n",
              "    <tr>\n",
              "      <th>18</th>\n",
              "      <td>2020-12-26</td>\n",
              "      <td>323</td>\n",
              "    </tr>\n",
              "    <tr>\n",
              "      <th>19</th>\n",
              "      <td>2020-12-27</td>\n",
              "      <td>308</td>\n",
              "    </tr>\n",
              "    <tr>\n",
              "      <th>20</th>\n",
              "      <td>2020-12-28</td>\n",
              "      <td>272</td>\n",
              "    </tr>\n",
              "    <tr>\n",
              "      <th>21</th>\n",
              "      <td>2020-12-29</td>\n",
              "      <td>239</td>\n",
              "    </tr>\n",
              "    <tr>\n",
              "      <th>22</th>\n",
              "      <td>2020-12-30</td>\n",
              "      <td>2</td>\n",
              "    </tr>\n",
              "  </tbody>\n",
              "</table>\n",
              "</div>"
            ],
            "text/plain": [
              "         date  login_count\n",
              "0  2020-12-07          319\n",
              "1  2020-12-08          278\n",
              "2  2020-12-09          350\n",
              "3  2020-12-10          296\n",
              "4  2020-12-11          274\n",
              "5  2020-12-12          280\n",
              "6  2020-12-13          251\n",
              "7  2020-12-14          619\n",
              "8  2020-12-15          589\n",
              "9  2020-12-16          643\n",
              "10 2020-12-17          677\n",
              "11 2020-12-18          708\n",
              "12 2020-12-19          798\n",
              "13 2020-12-20          830\n",
              "14 2020-12-21         1089\n",
              "15 2020-12-22          688\n",
              "16 2020-12-23          551\n",
              "17 2020-12-24          453\n",
              "18 2020-12-26          323\n",
              "19 2020-12-27          308\n",
              "20 2020-12-28          272\n",
              "21 2020-12-29          239\n",
              "22 2020-12-30            2"
            ]
          },
          "execution_count": 84,
          "metadata": {},
          "output_type": "execute_result"
        }
      ],
      "source": [
        "# Menghitung peristiwanya dalam harian\n",
        "login_per_day = df_login.groupby('event_date').agg({'event_name' : 'count'}).reset_index()\n",
        "login_per_day.columns = ['date', 'login_count']\n",
        "login_per_day"
      ]
    },
    {
      "cell_type": "code",
      "execution_count": null,
      "metadata": {
        "id": "W38WzJEv9msm",
        "outputId": "71442236-e271-44ea-f8ca-52ba802c24bc"
      },
      "outputs": [
        {
          "data": {
            "text/html": [
              "<div>\n",
              "<style scoped>\n",
              "    .dataframe tbody tr th:only-of-type {\n",
              "        vertical-align: middle;\n",
              "    }\n",
              "\n",
              "    .dataframe tbody tr th {\n",
              "        vertical-align: top;\n",
              "    }\n",
              "\n",
              "    .dataframe thead th {\n",
              "        text-align: right;\n",
              "    }\n",
              "</style>\n",
              "<table border=\"1\" class=\"dataframe\">\n",
              "  <thead>\n",
              "    <tr style=\"text-align: right;\">\n",
              "      <th></th>\n",
              "      <th>user_id</th>\n",
              "      <th>first_date</th>\n",
              "      <th>region</th>\n",
              "      <th>device</th>\n",
              "      <th>event_dt</th>\n",
              "      <th>event_name</th>\n",
              "      <th>details</th>\n",
              "      <th>group</th>\n",
              "      <th>ab_test</th>\n",
              "      <th>event_date</th>\n",
              "      <th>promo</th>\n",
              "    </tr>\n",
              "  </thead>\n",
              "  <tbody>\n",
              "    <tr>\n",
              "      <th>0</th>\n",
              "      <td>D72A72121175D8BE</td>\n",
              "      <td>2020-12-07</td>\n",
              "      <td>EU</td>\n",
              "      <td>PC</td>\n",
              "      <td>2020-12-07 21:52:10</td>\n",
              "      <td>product_page</td>\n",
              "      <td>0.0</td>\n",
              "      <td>A</td>\n",
              "      <td>recommender_system_test</td>\n",
              "      <td>2020-12-07</td>\n",
              "      <td>Non-Promo</td>\n",
              "    </tr>\n",
              "    <tr>\n",
              "      <th>2</th>\n",
              "      <td>DD4352CDCF8C3D57</td>\n",
              "      <td>2020-12-07</td>\n",
              "      <td>EU</td>\n",
              "      <td>Android</td>\n",
              "      <td>2020-12-07 15:32:54</td>\n",
              "      <td>product_page</td>\n",
              "      <td>0.0</td>\n",
              "      <td>B</td>\n",
              "      <td>recommender_system_test</td>\n",
              "      <td>2020-12-07</td>\n",
              "      <td>Christmas &amp; New Year Promo</td>\n",
              "    </tr>\n",
              "    <tr>\n",
              "      <th>4</th>\n",
              "      <td>DD4352CDCF8C3D57</td>\n",
              "      <td>2020-12-07</td>\n",
              "      <td>EU</td>\n",
              "      <td>Android</td>\n",
              "      <td>2020-12-08 08:29:31</td>\n",
              "      <td>product_page</td>\n",
              "      <td>0.0</td>\n",
              "      <td>B</td>\n",
              "      <td>recommender_system_test</td>\n",
              "      <td>2020-12-08</td>\n",
              "      <td>Christmas &amp; New Year Promo</td>\n",
              "    </tr>\n",
              "    <tr>\n",
              "      <th>6</th>\n",
              "      <td>DD4352CDCF8C3D57</td>\n",
              "      <td>2020-12-07</td>\n",
              "      <td>EU</td>\n",
              "      <td>Android</td>\n",
              "      <td>2020-12-10 18:18:27</td>\n",
              "      <td>product_page</td>\n",
              "      <td>0.0</td>\n",
              "      <td>B</td>\n",
              "      <td>recommender_system_test</td>\n",
              "      <td>2020-12-10</td>\n",
              "      <td>Christmas &amp; New Year Promo</td>\n",
              "    </tr>\n",
              "    <tr>\n",
              "      <th>8</th>\n",
              "      <td>DD4352CDCF8C3D57</td>\n",
              "      <td>2020-12-07</td>\n",
              "      <td>EU</td>\n",
              "      <td>Android</td>\n",
              "      <td>2020-12-16 20:35:48</td>\n",
              "      <td>product_page</td>\n",
              "      <td>0.0</td>\n",
              "      <td>B</td>\n",
              "      <td>recommender_system_test</td>\n",
              "      <td>2020-12-16</td>\n",
              "      <td>Christmas &amp; New Year Promo</td>\n",
              "    </tr>\n",
              "  </tbody>\n",
              "</table>\n",
              "</div>"
            ],
            "text/plain": [
              "            user_id first_date region   device            event_dt  \\\n",
              "0  D72A72121175D8BE 2020-12-07     EU       PC 2020-12-07 21:52:10   \n",
              "2  DD4352CDCF8C3D57 2020-12-07     EU  Android 2020-12-07 15:32:54   \n",
              "4  DD4352CDCF8C3D57 2020-12-07     EU  Android 2020-12-08 08:29:31   \n",
              "6  DD4352CDCF8C3D57 2020-12-07     EU  Android 2020-12-10 18:18:27   \n",
              "8  DD4352CDCF8C3D57 2020-12-07     EU  Android 2020-12-16 20:35:48   \n",
              "\n",
              "     event_name  details group                  ab_test event_date  \\\n",
              "0  product_page      0.0     A  recommender_system_test 2020-12-07   \n",
              "2  product_page      0.0     B  recommender_system_test 2020-12-07   \n",
              "4  product_page      0.0     B  recommender_system_test 2020-12-08   \n",
              "6  product_page      0.0     B  recommender_system_test 2020-12-10   \n",
              "8  product_page      0.0     B  recommender_system_test 2020-12-16   \n",
              "\n",
              "                        promo  \n",
              "0                   Non-Promo  \n",
              "2  Christmas & New Year Promo  \n",
              "4  Christmas & New Year Promo  \n",
              "6  Christmas & New Year Promo  \n",
              "8  Christmas & New Year Promo  "
            ]
          },
          "execution_count": 85,
          "metadata": {},
          "output_type": "execute_result"
        }
      ],
      "source": [
        "# Memfilter untuk peristiwa product_page\n",
        "df_product_page = df_final.query('event_name == \"product_page\"')\n",
        "df_product_page.head()"
      ]
    },
    {
      "cell_type": "code",
      "execution_count": null,
      "metadata": {
        "id": "InRCioCr9msm",
        "outputId": "004b3dd0-f5b0-4198-9664-290e35ccb9a9"
      },
      "outputs": [
        {
          "data": {
            "text/html": [
              "<div>\n",
              "<style scoped>\n",
              "    .dataframe tbody tr th:only-of-type {\n",
              "        vertical-align: middle;\n",
              "    }\n",
              "\n",
              "    .dataframe tbody tr th {\n",
              "        vertical-align: top;\n",
              "    }\n",
              "\n",
              "    .dataframe thead th {\n",
              "        text-align: right;\n",
              "    }\n",
              "</style>\n",
              "<table border=\"1\" class=\"dataframe\">\n",
              "  <thead>\n",
              "    <tr style=\"text-align: right;\">\n",
              "      <th></th>\n",
              "      <th>date</th>\n",
              "      <th>product_page_count</th>\n",
              "    </tr>\n",
              "  </thead>\n",
              "  <tbody>\n",
              "    <tr>\n",
              "      <th>0</th>\n",
              "      <td>2020-12-07</td>\n",
              "      <td>204</td>\n",
              "    </tr>\n",
              "    <tr>\n",
              "      <th>1</th>\n",
              "      <td>2020-12-08</td>\n",
              "      <td>172</td>\n",
              "    </tr>\n",
              "    <tr>\n",
              "      <th>2</th>\n",
              "      <td>2020-12-09</td>\n",
              "      <td>212</td>\n",
              "    </tr>\n",
              "    <tr>\n",
              "      <th>3</th>\n",
              "      <td>2020-12-10</td>\n",
              "      <td>166</td>\n",
              "    </tr>\n",
              "    <tr>\n",
              "      <th>4</th>\n",
              "      <td>2020-12-11</td>\n",
              "      <td>148</td>\n",
              "    </tr>\n",
              "    <tr>\n",
              "      <th>5</th>\n",
              "      <td>2020-12-12</td>\n",
              "      <td>147</td>\n",
              "    </tr>\n",
              "    <tr>\n",
              "      <th>6</th>\n",
              "      <td>2020-12-13</td>\n",
              "      <td>139</td>\n",
              "    </tr>\n",
              "    <tr>\n",
              "      <th>7</th>\n",
              "      <td>2020-12-14</td>\n",
              "      <td>375</td>\n",
              "    </tr>\n",
              "    <tr>\n",
              "      <th>8</th>\n",
              "      <td>2020-12-15</td>\n",
              "      <td>358</td>\n",
              "    </tr>\n",
              "    <tr>\n",
              "      <th>9</th>\n",
              "      <td>2020-12-16</td>\n",
              "      <td>402</td>\n",
              "    </tr>\n",
              "    <tr>\n",
              "      <th>10</th>\n",
              "      <td>2020-12-17</td>\n",
              "      <td>425</td>\n",
              "    </tr>\n",
              "    <tr>\n",
              "      <th>11</th>\n",
              "      <td>2020-12-18</td>\n",
              "      <td>455</td>\n",
              "    </tr>\n",
              "    <tr>\n",
              "      <th>12</th>\n",
              "      <td>2020-12-19</td>\n",
              "      <td>508</td>\n",
              "    </tr>\n",
              "    <tr>\n",
              "      <th>13</th>\n",
              "      <td>2020-12-20</td>\n",
              "      <td>515</td>\n",
              "    </tr>\n",
              "    <tr>\n",
              "      <th>14</th>\n",
              "      <td>2020-12-21</td>\n",
              "      <td>691</td>\n",
              "    </tr>\n",
              "    <tr>\n",
              "      <th>15</th>\n",
              "      <td>2020-12-22</td>\n",
              "      <td>427</td>\n",
              "    </tr>\n",
              "    <tr>\n",
              "      <th>16</th>\n",
              "      <td>2020-12-23</td>\n",
              "      <td>337</td>\n",
              "    </tr>\n",
              "    <tr>\n",
              "      <th>17</th>\n",
              "      <td>2020-12-24</td>\n",
              "      <td>297</td>\n",
              "    </tr>\n",
              "    <tr>\n",
              "      <th>18</th>\n",
              "      <td>2020-12-26</td>\n",
              "      <td>213</td>\n",
              "    </tr>\n",
              "    <tr>\n",
              "      <th>19</th>\n",
              "      <td>2020-12-27</td>\n",
              "      <td>188</td>\n",
              "    </tr>\n",
              "    <tr>\n",
              "      <th>20</th>\n",
              "      <td>2020-12-28</td>\n",
              "      <td>170</td>\n",
              "    </tr>\n",
              "    <tr>\n",
              "      <th>21</th>\n",
              "      <td>2020-12-29</td>\n",
              "      <td>152</td>\n",
              "    </tr>\n",
              "    <tr>\n",
              "      <th>22</th>\n",
              "      <td>2020-12-30</td>\n",
              "      <td>1</td>\n",
              "    </tr>\n",
              "  </tbody>\n",
              "</table>\n",
              "</div>"
            ],
            "text/plain": [
              "         date  product_page_count\n",
              "0  2020-12-07                 204\n",
              "1  2020-12-08                 172\n",
              "2  2020-12-09                 212\n",
              "3  2020-12-10                 166\n",
              "4  2020-12-11                 148\n",
              "5  2020-12-12                 147\n",
              "6  2020-12-13                 139\n",
              "7  2020-12-14                 375\n",
              "8  2020-12-15                 358\n",
              "9  2020-12-16                 402\n",
              "10 2020-12-17                 425\n",
              "11 2020-12-18                 455\n",
              "12 2020-12-19                 508\n",
              "13 2020-12-20                 515\n",
              "14 2020-12-21                 691\n",
              "15 2020-12-22                 427\n",
              "16 2020-12-23                 337\n",
              "17 2020-12-24                 297\n",
              "18 2020-12-26                 213\n",
              "19 2020-12-27                 188\n",
              "20 2020-12-28                 170\n",
              "21 2020-12-29                 152\n",
              "22 2020-12-30                   1"
            ]
          },
          "execution_count": 86,
          "metadata": {},
          "output_type": "execute_result"
        }
      ],
      "source": [
        "# Menghitung peristiwanya dalam harian\n",
        "product_page_per_day = df_product_page.groupby('event_date').agg({'event_name' : 'count'}).reset_index()\n",
        "product_page_per_day.columns = ['date', 'product_page_count']\n",
        "product_page_per_day"
      ]
    },
    {
      "cell_type": "code",
      "execution_count": null,
      "metadata": {
        "id": "4EjlMm_Z9msn",
        "outputId": "1f063ab4-6681-433a-a144-bb1e0fe224fe"
      },
      "outputs": [
        {
          "data": {
            "text/html": [
              "<div>\n",
              "<style scoped>\n",
              "    .dataframe tbody tr th:only-of-type {\n",
              "        vertical-align: middle;\n",
              "    }\n",
              "\n",
              "    .dataframe tbody tr th {\n",
              "        vertical-align: top;\n",
              "    }\n",
              "\n",
              "    .dataframe thead th {\n",
              "        text-align: right;\n",
              "    }\n",
              "</style>\n",
              "<table border=\"1\" class=\"dataframe\">\n",
              "  <thead>\n",
              "    <tr style=\"text-align: right;\">\n",
              "      <th></th>\n",
              "      <th>date</th>\n",
              "      <th>login_count</th>\n",
              "      <th>product_page_count</th>\n",
              "    </tr>\n",
              "  </thead>\n",
              "  <tbody>\n",
              "    <tr>\n",
              "      <th>0</th>\n",
              "      <td>2020-12-07</td>\n",
              "      <td>319</td>\n",
              "      <td>204</td>\n",
              "    </tr>\n",
              "    <tr>\n",
              "      <th>1</th>\n",
              "      <td>2020-12-08</td>\n",
              "      <td>278</td>\n",
              "      <td>172</td>\n",
              "    </tr>\n",
              "    <tr>\n",
              "      <th>2</th>\n",
              "      <td>2020-12-09</td>\n",
              "      <td>350</td>\n",
              "      <td>212</td>\n",
              "    </tr>\n",
              "    <tr>\n",
              "      <th>3</th>\n",
              "      <td>2020-12-10</td>\n",
              "      <td>296</td>\n",
              "      <td>166</td>\n",
              "    </tr>\n",
              "    <tr>\n",
              "      <th>4</th>\n",
              "      <td>2020-12-11</td>\n",
              "      <td>274</td>\n",
              "      <td>148</td>\n",
              "    </tr>\n",
              "    <tr>\n",
              "      <th>5</th>\n",
              "      <td>2020-12-12</td>\n",
              "      <td>280</td>\n",
              "      <td>147</td>\n",
              "    </tr>\n",
              "    <tr>\n",
              "      <th>6</th>\n",
              "      <td>2020-12-13</td>\n",
              "      <td>251</td>\n",
              "      <td>139</td>\n",
              "    </tr>\n",
              "    <tr>\n",
              "      <th>7</th>\n",
              "      <td>2020-12-14</td>\n",
              "      <td>619</td>\n",
              "      <td>375</td>\n",
              "    </tr>\n",
              "    <tr>\n",
              "      <th>8</th>\n",
              "      <td>2020-12-15</td>\n",
              "      <td>589</td>\n",
              "      <td>358</td>\n",
              "    </tr>\n",
              "    <tr>\n",
              "      <th>9</th>\n",
              "      <td>2020-12-16</td>\n",
              "      <td>643</td>\n",
              "      <td>402</td>\n",
              "    </tr>\n",
              "    <tr>\n",
              "      <th>10</th>\n",
              "      <td>2020-12-17</td>\n",
              "      <td>677</td>\n",
              "      <td>425</td>\n",
              "    </tr>\n",
              "    <tr>\n",
              "      <th>11</th>\n",
              "      <td>2020-12-18</td>\n",
              "      <td>708</td>\n",
              "      <td>455</td>\n",
              "    </tr>\n",
              "    <tr>\n",
              "      <th>12</th>\n",
              "      <td>2020-12-19</td>\n",
              "      <td>798</td>\n",
              "      <td>508</td>\n",
              "    </tr>\n",
              "    <tr>\n",
              "      <th>13</th>\n",
              "      <td>2020-12-20</td>\n",
              "      <td>830</td>\n",
              "      <td>515</td>\n",
              "    </tr>\n",
              "    <tr>\n",
              "      <th>14</th>\n",
              "      <td>2020-12-21</td>\n",
              "      <td>1089</td>\n",
              "      <td>691</td>\n",
              "    </tr>\n",
              "    <tr>\n",
              "      <th>15</th>\n",
              "      <td>2020-12-22</td>\n",
              "      <td>688</td>\n",
              "      <td>427</td>\n",
              "    </tr>\n",
              "    <tr>\n",
              "      <th>16</th>\n",
              "      <td>2020-12-23</td>\n",
              "      <td>551</td>\n",
              "      <td>337</td>\n",
              "    </tr>\n",
              "    <tr>\n",
              "      <th>17</th>\n",
              "      <td>2020-12-24</td>\n",
              "      <td>453</td>\n",
              "      <td>297</td>\n",
              "    </tr>\n",
              "    <tr>\n",
              "      <th>18</th>\n",
              "      <td>2020-12-26</td>\n",
              "      <td>323</td>\n",
              "      <td>213</td>\n",
              "    </tr>\n",
              "    <tr>\n",
              "      <th>19</th>\n",
              "      <td>2020-12-27</td>\n",
              "      <td>308</td>\n",
              "      <td>188</td>\n",
              "    </tr>\n",
              "    <tr>\n",
              "      <th>20</th>\n",
              "      <td>2020-12-28</td>\n",
              "      <td>272</td>\n",
              "      <td>170</td>\n",
              "    </tr>\n",
              "    <tr>\n",
              "      <th>21</th>\n",
              "      <td>2020-12-29</td>\n",
              "      <td>239</td>\n",
              "      <td>152</td>\n",
              "    </tr>\n",
              "    <tr>\n",
              "      <th>22</th>\n",
              "      <td>2020-12-30</td>\n",
              "      <td>2</td>\n",
              "      <td>1</td>\n",
              "    </tr>\n",
              "  </tbody>\n",
              "</table>\n",
              "</div>"
            ],
            "text/plain": [
              "         date  login_count  product_page_count\n",
              "0  2020-12-07          319                 204\n",
              "1  2020-12-08          278                 172\n",
              "2  2020-12-09          350                 212\n",
              "3  2020-12-10          296                 166\n",
              "4  2020-12-11          274                 148\n",
              "5  2020-12-12          280                 147\n",
              "6  2020-12-13          251                 139\n",
              "7  2020-12-14          619                 375\n",
              "8  2020-12-15          589                 358\n",
              "9  2020-12-16          643                 402\n",
              "10 2020-12-17          677                 425\n",
              "11 2020-12-18          708                 455\n",
              "12 2020-12-19          798                 508\n",
              "13 2020-12-20          830                 515\n",
              "14 2020-12-21         1089                 691\n",
              "15 2020-12-22          688                 427\n",
              "16 2020-12-23          551                 337\n",
              "17 2020-12-24          453                 297\n",
              "18 2020-12-26          323                 213\n",
              "19 2020-12-27          308                 188\n",
              "20 2020-12-28          272                 170\n",
              "21 2020-12-29          239                 152\n",
              "22 2020-12-30            2                   1"
            ]
          },
          "execution_count": 87,
          "metadata": {},
          "output_type": "execute_result"
        }
      ],
      "source": [
        "# Menggabungkan tabelnya dari tabel sebelumnya\n",
        "x1 = login_per_day.merge(product_page_per_day, on = 'date', how = 'left')\n",
        "x1"
      ]
    },
    {
      "cell_type": "code",
      "execution_count": null,
      "metadata": {
        "id": "IYVbjlZ09msn",
        "outputId": "d564cc42-f14e-4c95-db5b-cb448bb3f049"
      },
      "outputs": [
        {
          "data": {
            "text/html": [
              "<div>\n",
              "<style scoped>\n",
              "    .dataframe tbody tr th:only-of-type {\n",
              "        vertical-align: middle;\n",
              "    }\n",
              "\n",
              "    .dataframe tbody tr th {\n",
              "        vertical-align: top;\n",
              "    }\n",
              "\n",
              "    .dataframe thead th {\n",
              "        text-align: right;\n",
              "    }\n",
              "</style>\n",
              "<table border=\"1\" class=\"dataframe\">\n",
              "  <thead>\n",
              "    <tr style=\"text-align: right;\">\n",
              "      <th></th>\n",
              "      <th>user_id</th>\n",
              "      <th>first_date</th>\n",
              "      <th>region</th>\n",
              "      <th>device</th>\n",
              "      <th>event_dt</th>\n",
              "      <th>event_name</th>\n",
              "      <th>details</th>\n",
              "      <th>group</th>\n",
              "      <th>ab_test</th>\n",
              "      <th>event_date</th>\n",
              "      <th>promo</th>\n",
              "    </tr>\n",
              "  </thead>\n",
              "  <tbody>\n",
              "    <tr>\n",
              "      <th>28</th>\n",
              "      <td>831887FE7F2D6CBA</td>\n",
              "      <td>2020-12-07</td>\n",
              "      <td>EU</td>\n",
              "      <td>Android</td>\n",
              "      <td>2020-12-07 06:50:30</td>\n",
              "      <td>product_cart</td>\n",
              "      <td>0.0</td>\n",
              "      <td>A</td>\n",
              "      <td>recommender_system_test</td>\n",
              "      <td>2020-12-07</td>\n",
              "      <td>Non-Promo</td>\n",
              "    </tr>\n",
              "    <tr>\n",
              "      <th>29</th>\n",
              "      <td>831887FE7F2D6CBA</td>\n",
              "      <td>2020-12-07</td>\n",
              "      <td>EU</td>\n",
              "      <td>Android</td>\n",
              "      <td>2020-12-08 10:52:27</td>\n",
              "      <td>product_cart</td>\n",
              "      <td>0.0</td>\n",
              "      <td>A</td>\n",
              "      <td>recommender_system_test</td>\n",
              "      <td>2020-12-08</td>\n",
              "      <td>Non-Promo</td>\n",
              "    </tr>\n",
              "    <tr>\n",
              "      <th>30</th>\n",
              "      <td>831887FE7F2D6CBA</td>\n",
              "      <td>2020-12-07</td>\n",
              "      <td>EU</td>\n",
              "      <td>Android</td>\n",
              "      <td>2020-12-09 02:19:17</td>\n",
              "      <td>product_cart</td>\n",
              "      <td>0.0</td>\n",
              "      <td>A</td>\n",
              "      <td>recommender_system_test</td>\n",
              "      <td>2020-12-09</td>\n",
              "      <td>Non-Promo</td>\n",
              "    </tr>\n",
              "    <tr>\n",
              "      <th>46</th>\n",
              "      <td>7D1BFB181017EB46</td>\n",
              "      <td>2020-12-07</td>\n",
              "      <td>CIS</td>\n",
              "      <td>PC</td>\n",
              "      <td>2020-12-07 15:50:23</td>\n",
              "      <td>product_cart</td>\n",
              "      <td>0.0</td>\n",
              "      <td>B</td>\n",
              "      <td>recommender_system_test</td>\n",
              "      <td>2020-12-07</td>\n",
              "      <td>Non-Promo</td>\n",
              "    </tr>\n",
              "    <tr>\n",
              "      <th>47</th>\n",
              "      <td>7D1BFB181017EB46</td>\n",
              "      <td>2020-12-07</td>\n",
              "      <td>CIS</td>\n",
              "      <td>PC</td>\n",
              "      <td>2020-12-09 03:35:08</td>\n",
              "      <td>product_cart</td>\n",
              "      <td>0.0</td>\n",
              "      <td>B</td>\n",
              "      <td>recommender_system_test</td>\n",
              "      <td>2020-12-09</td>\n",
              "      <td>Non-Promo</td>\n",
              "    </tr>\n",
              "  </tbody>\n",
              "</table>\n",
              "</div>"
            ],
            "text/plain": [
              "             user_id first_date region   device            event_dt  \\\n",
              "28  831887FE7F2D6CBA 2020-12-07     EU  Android 2020-12-07 06:50:30   \n",
              "29  831887FE7F2D6CBA 2020-12-07     EU  Android 2020-12-08 10:52:27   \n",
              "30  831887FE7F2D6CBA 2020-12-07     EU  Android 2020-12-09 02:19:17   \n",
              "46  7D1BFB181017EB46 2020-12-07    CIS       PC 2020-12-07 15:50:23   \n",
              "47  7D1BFB181017EB46 2020-12-07    CIS       PC 2020-12-09 03:35:08   \n",
              "\n",
              "      event_name  details group                  ab_test event_date      promo  \n",
              "28  product_cart      0.0     A  recommender_system_test 2020-12-07  Non-Promo  \n",
              "29  product_cart      0.0     A  recommender_system_test 2020-12-08  Non-Promo  \n",
              "30  product_cart      0.0     A  recommender_system_test 2020-12-09  Non-Promo  \n",
              "46  product_cart      0.0     B  recommender_system_test 2020-12-07  Non-Promo  \n",
              "47  product_cart      0.0     B  recommender_system_test 2020-12-09  Non-Promo  "
            ]
          },
          "execution_count": 88,
          "metadata": {},
          "output_type": "execute_result"
        }
      ],
      "source": [
        "# Memfilter untuk peristiwa product_cart\n",
        "df_product_cart = df_final.query('event_name == \"product_cart\"')\n",
        "df_product_cart.head()"
      ]
    },
    {
      "cell_type": "code",
      "execution_count": null,
      "metadata": {
        "id": "tGCaIerX9mso",
        "outputId": "841cff85-4510-4b5f-f71a-d0e6a5e918fb"
      },
      "outputs": [
        {
          "data": {
            "text/html": [
              "<div>\n",
              "<style scoped>\n",
              "    .dataframe tbody tr th:only-of-type {\n",
              "        vertical-align: middle;\n",
              "    }\n",
              "\n",
              "    .dataframe tbody tr th {\n",
              "        vertical-align: top;\n",
              "    }\n",
              "\n",
              "    .dataframe thead th {\n",
              "        text-align: right;\n",
              "    }\n",
              "</style>\n",
              "<table border=\"1\" class=\"dataframe\">\n",
              "  <thead>\n",
              "    <tr style=\"text-align: right;\">\n",
              "      <th></th>\n",
              "      <th>date</th>\n",
              "      <th>product_cart_count</th>\n",
              "    </tr>\n",
              "  </thead>\n",
              "  <tbody>\n",
              "    <tr>\n",
              "      <th>0</th>\n",
              "      <td>2020-12-07</td>\n",
              "      <td>81</td>\n",
              "    </tr>\n",
              "    <tr>\n",
              "      <th>1</th>\n",
              "      <td>2020-12-08</td>\n",
              "      <td>71</td>\n",
              "    </tr>\n",
              "    <tr>\n",
              "      <th>2</th>\n",
              "      <td>2020-12-09</td>\n",
              "      <td>93</td>\n",
              "    </tr>\n",
              "    <tr>\n",
              "      <th>3</th>\n",
              "      <td>2020-12-10</td>\n",
              "      <td>79</td>\n",
              "    </tr>\n",
              "    <tr>\n",
              "      <th>4</th>\n",
              "      <td>2020-12-11</td>\n",
              "      <td>62</td>\n",
              "    </tr>\n",
              "    <tr>\n",
              "      <th>5</th>\n",
              "      <td>2020-12-12</td>\n",
              "      <td>68</td>\n",
              "    </tr>\n",
              "    <tr>\n",
              "      <th>6</th>\n",
              "      <td>2020-12-13</td>\n",
              "      <td>52</td>\n",
              "    </tr>\n",
              "    <tr>\n",
              "      <th>7</th>\n",
              "      <td>2020-12-14</td>\n",
              "      <td>183</td>\n",
              "    </tr>\n",
              "    <tr>\n",
              "      <th>8</th>\n",
              "      <td>2020-12-15</td>\n",
              "      <td>191</td>\n",
              "    </tr>\n",
              "    <tr>\n",
              "      <th>9</th>\n",
              "      <td>2020-12-16</td>\n",
              "      <td>205</td>\n",
              "    </tr>\n",
              "    <tr>\n",
              "      <th>10</th>\n",
              "      <td>2020-12-17</td>\n",
              "      <td>236</td>\n",
              "    </tr>\n",
              "    <tr>\n",
              "      <th>11</th>\n",
              "      <td>2020-12-18</td>\n",
              "      <td>219</td>\n",
              "    </tr>\n",
              "    <tr>\n",
              "      <th>12</th>\n",
              "      <td>2020-12-19</td>\n",
              "      <td>256</td>\n",
              "    </tr>\n",
              "    <tr>\n",
              "      <th>13</th>\n",
              "      <td>2020-12-20</td>\n",
              "      <td>245</td>\n",
              "    </tr>\n",
              "    <tr>\n",
              "      <th>14</th>\n",
              "      <td>2020-12-21</td>\n",
              "      <td>310</td>\n",
              "    </tr>\n",
              "    <tr>\n",
              "      <th>15</th>\n",
              "      <td>2020-12-22</td>\n",
              "      <td>191</td>\n",
              "    </tr>\n",
              "    <tr>\n",
              "      <th>16</th>\n",
              "      <td>2020-12-23</td>\n",
              "      <td>151</td>\n",
              "    </tr>\n",
              "    <tr>\n",
              "      <th>17</th>\n",
              "      <td>2020-12-24</td>\n",
              "      <td>147</td>\n",
              "    </tr>\n",
              "    <tr>\n",
              "      <th>18</th>\n",
              "      <td>2020-12-26</td>\n",
              "      <td>89</td>\n",
              "    </tr>\n",
              "    <tr>\n",
              "      <th>19</th>\n",
              "      <td>2020-12-27</td>\n",
              "      <td>89</td>\n",
              "    </tr>\n",
              "    <tr>\n",
              "      <th>20</th>\n",
              "      <td>2020-12-28</td>\n",
              "      <td>80</td>\n",
              "    </tr>\n",
              "    <tr>\n",
              "      <th>21</th>\n",
              "      <td>2020-12-29</td>\n",
              "      <td>61</td>\n",
              "    </tr>\n",
              "    <tr>\n",
              "      <th>22</th>\n",
              "      <td>2020-12-30</td>\n",
              "      <td>1</td>\n",
              "    </tr>\n",
              "  </tbody>\n",
              "</table>\n",
              "</div>"
            ],
            "text/plain": [
              "         date  product_cart_count\n",
              "0  2020-12-07                  81\n",
              "1  2020-12-08                  71\n",
              "2  2020-12-09                  93\n",
              "3  2020-12-10                  79\n",
              "4  2020-12-11                  62\n",
              "5  2020-12-12                  68\n",
              "6  2020-12-13                  52\n",
              "7  2020-12-14                 183\n",
              "8  2020-12-15                 191\n",
              "9  2020-12-16                 205\n",
              "10 2020-12-17                 236\n",
              "11 2020-12-18                 219\n",
              "12 2020-12-19                 256\n",
              "13 2020-12-20                 245\n",
              "14 2020-12-21                 310\n",
              "15 2020-12-22                 191\n",
              "16 2020-12-23                 151\n",
              "17 2020-12-24                 147\n",
              "18 2020-12-26                  89\n",
              "19 2020-12-27                  89\n",
              "20 2020-12-28                  80\n",
              "21 2020-12-29                  61\n",
              "22 2020-12-30                   1"
            ]
          },
          "execution_count": 89,
          "metadata": {},
          "output_type": "execute_result"
        }
      ],
      "source": [
        "# Menghitung peristiwanya dalam harian\n",
        "product_cart_per_day = df_product_cart.groupby('event_date').agg({'event_name' : 'count'}).reset_index()\n",
        "product_cart_per_day.columns = ['date', 'product_cart_count']\n",
        "product_cart_per_day"
      ]
    },
    {
      "cell_type": "code",
      "execution_count": null,
      "metadata": {
        "id": "VFXWv7EX9mso",
        "outputId": "4d938c22-54d8-4313-aa61-64e213efa9d9"
      },
      "outputs": [
        {
          "data": {
            "text/html": [
              "<div>\n",
              "<style scoped>\n",
              "    .dataframe tbody tr th:only-of-type {\n",
              "        vertical-align: middle;\n",
              "    }\n",
              "\n",
              "    .dataframe tbody tr th {\n",
              "        vertical-align: top;\n",
              "    }\n",
              "\n",
              "    .dataframe thead th {\n",
              "        text-align: right;\n",
              "    }\n",
              "</style>\n",
              "<table border=\"1\" class=\"dataframe\">\n",
              "  <thead>\n",
              "    <tr style=\"text-align: right;\">\n",
              "      <th></th>\n",
              "      <th>date</th>\n",
              "      <th>login_count</th>\n",
              "      <th>product_page_count</th>\n",
              "      <th>product_cart_count</th>\n",
              "    </tr>\n",
              "  </thead>\n",
              "  <tbody>\n",
              "    <tr>\n",
              "      <th>0</th>\n",
              "      <td>2020-12-07</td>\n",
              "      <td>319</td>\n",
              "      <td>204</td>\n",
              "      <td>81</td>\n",
              "    </tr>\n",
              "    <tr>\n",
              "      <th>1</th>\n",
              "      <td>2020-12-08</td>\n",
              "      <td>278</td>\n",
              "      <td>172</td>\n",
              "      <td>71</td>\n",
              "    </tr>\n",
              "    <tr>\n",
              "      <th>2</th>\n",
              "      <td>2020-12-09</td>\n",
              "      <td>350</td>\n",
              "      <td>212</td>\n",
              "      <td>93</td>\n",
              "    </tr>\n",
              "    <tr>\n",
              "      <th>3</th>\n",
              "      <td>2020-12-10</td>\n",
              "      <td>296</td>\n",
              "      <td>166</td>\n",
              "      <td>79</td>\n",
              "    </tr>\n",
              "    <tr>\n",
              "      <th>4</th>\n",
              "      <td>2020-12-11</td>\n",
              "      <td>274</td>\n",
              "      <td>148</td>\n",
              "      <td>62</td>\n",
              "    </tr>\n",
              "    <tr>\n",
              "      <th>5</th>\n",
              "      <td>2020-12-12</td>\n",
              "      <td>280</td>\n",
              "      <td>147</td>\n",
              "      <td>68</td>\n",
              "    </tr>\n",
              "    <tr>\n",
              "      <th>6</th>\n",
              "      <td>2020-12-13</td>\n",
              "      <td>251</td>\n",
              "      <td>139</td>\n",
              "      <td>52</td>\n",
              "    </tr>\n",
              "    <tr>\n",
              "      <th>7</th>\n",
              "      <td>2020-12-14</td>\n",
              "      <td>619</td>\n",
              "      <td>375</td>\n",
              "      <td>183</td>\n",
              "    </tr>\n",
              "    <tr>\n",
              "      <th>8</th>\n",
              "      <td>2020-12-15</td>\n",
              "      <td>589</td>\n",
              "      <td>358</td>\n",
              "      <td>191</td>\n",
              "    </tr>\n",
              "    <tr>\n",
              "      <th>9</th>\n",
              "      <td>2020-12-16</td>\n",
              "      <td>643</td>\n",
              "      <td>402</td>\n",
              "      <td>205</td>\n",
              "    </tr>\n",
              "    <tr>\n",
              "      <th>10</th>\n",
              "      <td>2020-12-17</td>\n",
              "      <td>677</td>\n",
              "      <td>425</td>\n",
              "      <td>236</td>\n",
              "    </tr>\n",
              "    <tr>\n",
              "      <th>11</th>\n",
              "      <td>2020-12-18</td>\n",
              "      <td>708</td>\n",
              "      <td>455</td>\n",
              "      <td>219</td>\n",
              "    </tr>\n",
              "    <tr>\n",
              "      <th>12</th>\n",
              "      <td>2020-12-19</td>\n",
              "      <td>798</td>\n",
              "      <td>508</td>\n",
              "      <td>256</td>\n",
              "    </tr>\n",
              "    <tr>\n",
              "      <th>13</th>\n",
              "      <td>2020-12-20</td>\n",
              "      <td>830</td>\n",
              "      <td>515</td>\n",
              "      <td>245</td>\n",
              "    </tr>\n",
              "    <tr>\n",
              "      <th>14</th>\n",
              "      <td>2020-12-21</td>\n",
              "      <td>1089</td>\n",
              "      <td>691</td>\n",
              "      <td>310</td>\n",
              "    </tr>\n",
              "    <tr>\n",
              "      <th>15</th>\n",
              "      <td>2020-12-22</td>\n",
              "      <td>688</td>\n",
              "      <td>427</td>\n",
              "      <td>191</td>\n",
              "    </tr>\n",
              "    <tr>\n",
              "      <th>16</th>\n",
              "      <td>2020-12-23</td>\n",
              "      <td>551</td>\n",
              "      <td>337</td>\n",
              "      <td>151</td>\n",
              "    </tr>\n",
              "    <tr>\n",
              "      <th>17</th>\n",
              "      <td>2020-12-24</td>\n",
              "      <td>453</td>\n",
              "      <td>297</td>\n",
              "      <td>147</td>\n",
              "    </tr>\n",
              "    <tr>\n",
              "      <th>18</th>\n",
              "      <td>2020-12-26</td>\n",
              "      <td>323</td>\n",
              "      <td>213</td>\n",
              "      <td>89</td>\n",
              "    </tr>\n",
              "    <tr>\n",
              "      <th>19</th>\n",
              "      <td>2020-12-27</td>\n",
              "      <td>308</td>\n",
              "      <td>188</td>\n",
              "      <td>89</td>\n",
              "    </tr>\n",
              "    <tr>\n",
              "      <th>20</th>\n",
              "      <td>2020-12-28</td>\n",
              "      <td>272</td>\n",
              "      <td>170</td>\n",
              "      <td>80</td>\n",
              "    </tr>\n",
              "    <tr>\n",
              "      <th>21</th>\n",
              "      <td>2020-12-29</td>\n",
              "      <td>239</td>\n",
              "      <td>152</td>\n",
              "      <td>61</td>\n",
              "    </tr>\n",
              "    <tr>\n",
              "      <th>22</th>\n",
              "      <td>2020-12-30</td>\n",
              "      <td>2</td>\n",
              "      <td>1</td>\n",
              "      <td>1</td>\n",
              "    </tr>\n",
              "  </tbody>\n",
              "</table>\n",
              "</div>"
            ],
            "text/plain": [
              "         date  login_count  product_page_count  product_cart_count\n",
              "0  2020-12-07          319                 204                  81\n",
              "1  2020-12-08          278                 172                  71\n",
              "2  2020-12-09          350                 212                  93\n",
              "3  2020-12-10          296                 166                  79\n",
              "4  2020-12-11          274                 148                  62\n",
              "5  2020-12-12          280                 147                  68\n",
              "6  2020-12-13          251                 139                  52\n",
              "7  2020-12-14          619                 375                 183\n",
              "8  2020-12-15          589                 358                 191\n",
              "9  2020-12-16          643                 402                 205\n",
              "10 2020-12-17          677                 425                 236\n",
              "11 2020-12-18          708                 455                 219\n",
              "12 2020-12-19          798                 508                 256\n",
              "13 2020-12-20          830                 515                 245\n",
              "14 2020-12-21         1089                 691                 310\n",
              "15 2020-12-22          688                 427                 191\n",
              "16 2020-12-23          551                 337                 151\n",
              "17 2020-12-24          453                 297                 147\n",
              "18 2020-12-26          323                 213                  89\n",
              "19 2020-12-27          308                 188                  89\n",
              "20 2020-12-28          272                 170                  80\n",
              "21 2020-12-29          239                 152                  61\n",
              "22 2020-12-30            2                   1                   1"
            ]
          },
          "execution_count": 90,
          "metadata": {},
          "output_type": "execute_result"
        }
      ],
      "source": [
        "# Menggabungkan tabelnya dari tabel sebelumnya\n",
        "x2 = x1.merge(product_cart_per_day, on = 'date', how = 'left')\n",
        "x2"
      ]
    },
    {
      "cell_type": "code",
      "execution_count": null,
      "metadata": {
        "id": "8HKrXG0K9msp",
        "outputId": "a9536fbd-35ba-4238-fc71-4cb18ca178c1"
      },
      "outputs": [
        {
          "data": {
            "text/html": [
              "<div>\n",
              "<style scoped>\n",
              "    .dataframe tbody tr th:only-of-type {\n",
              "        vertical-align: middle;\n",
              "    }\n",
              "\n",
              "    .dataframe tbody tr th {\n",
              "        vertical-align: top;\n",
              "    }\n",
              "\n",
              "    .dataframe thead th {\n",
              "        text-align: right;\n",
              "    }\n",
              "</style>\n",
              "<table border=\"1\" class=\"dataframe\">\n",
              "  <thead>\n",
              "    <tr style=\"text-align: right;\">\n",
              "      <th></th>\n",
              "      <th>user_id</th>\n",
              "      <th>first_date</th>\n",
              "      <th>region</th>\n",
              "      <th>device</th>\n",
              "      <th>event_dt</th>\n",
              "      <th>event_name</th>\n",
              "      <th>details</th>\n",
              "      <th>group</th>\n",
              "      <th>ab_test</th>\n",
              "      <th>event_date</th>\n",
              "      <th>promo</th>\n",
              "    </tr>\n",
              "  </thead>\n",
              "  <tbody>\n",
              "    <tr>\n",
              "      <th>26</th>\n",
              "      <td>831887FE7F2D6CBA</td>\n",
              "      <td>2020-12-07</td>\n",
              "      <td>EU</td>\n",
              "      <td>Android</td>\n",
              "      <td>2020-12-07 06:50:29</td>\n",
              "      <td>purchase</td>\n",
              "      <td>4.99</td>\n",
              "      <td>A</td>\n",
              "      <td>recommender_system_test</td>\n",
              "      <td>2020-12-07</td>\n",
              "      <td>Non-Promo</td>\n",
              "    </tr>\n",
              "    <tr>\n",
              "      <th>27</th>\n",
              "      <td>831887FE7F2D6CBA</td>\n",
              "      <td>2020-12-07</td>\n",
              "      <td>EU</td>\n",
              "      <td>Android</td>\n",
              "      <td>2020-12-09 02:19:17</td>\n",
              "      <td>purchase</td>\n",
              "      <td>99.99</td>\n",
              "      <td>A</td>\n",
              "      <td>recommender_system_test</td>\n",
              "      <td>2020-12-09</td>\n",
              "      <td>Non-Promo</td>\n",
              "    </tr>\n",
              "    <tr>\n",
              "      <th>61</th>\n",
              "      <td>3C5DD0288AC4FE23</td>\n",
              "      <td>2020-12-07</td>\n",
              "      <td>EU</td>\n",
              "      <td>PC</td>\n",
              "      <td>2020-12-07 19:42:40</td>\n",
              "      <td>purchase</td>\n",
              "      <td>4.99</td>\n",
              "      <td>A</td>\n",
              "      <td>recommender_system_test</td>\n",
              "      <td>2020-12-07</td>\n",
              "      <td>Non-Promo</td>\n",
              "    </tr>\n",
              "    <tr>\n",
              "      <th>103</th>\n",
              "      <td>49EA242586C87836</td>\n",
              "      <td>2020-12-07</td>\n",
              "      <td>EU</td>\n",
              "      <td>iPhone</td>\n",
              "      <td>2020-12-07 06:31:24</td>\n",
              "      <td>purchase</td>\n",
              "      <td>99.99</td>\n",
              "      <td>B</td>\n",
              "      <td>recommender_system_test</td>\n",
              "      <td>2020-12-07</td>\n",
              "      <td>Non-Promo</td>\n",
              "    </tr>\n",
              "    <tr>\n",
              "      <th>104</th>\n",
              "      <td>49EA242586C87836</td>\n",
              "      <td>2020-12-07</td>\n",
              "      <td>EU</td>\n",
              "      <td>iPhone</td>\n",
              "      <td>2020-12-09 15:39:47</td>\n",
              "      <td>purchase</td>\n",
              "      <td>9.99</td>\n",
              "      <td>B</td>\n",
              "      <td>recommender_system_test</td>\n",
              "      <td>2020-12-09</td>\n",
              "      <td>Non-Promo</td>\n",
              "    </tr>\n",
              "  </tbody>\n",
              "</table>\n",
              "</div>"
            ],
            "text/plain": [
              "              user_id first_date region   device            event_dt  \\\n",
              "26   831887FE7F2D6CBA 2020-12-07     EU  Android 2020-12-07 06:50:29   \n",
              "27   831887FE7F2D6CBA 2020-12-07     EU  Android 2020-12-09 02:19:17   \n",
              "61   3C5DD0288AC4FE23 2020-12-07     EU       PC 2020-12-07 19:42:40   \n",
              "103  49EA242586C87836 2020-12-07     EU   iPhone 2020-12-07 06:31:24   \n",
              "104  49EA242586C87836 2020-12-07     EU   iPhone 2020-12-09 15:39:47   \n",
              "\n",
              "    event_name  details group                  ab_test event_date      promo  \n",
              "26    purchase     4.99     A  recommender_system_test 2020-12-07  Non-Promo  \n",
              "27    purchase    99.99     A  recommender_system_test 2020-12-09  Non-Promo  \n",
              "61    purchase     4.99     A  recommender_system_test 2020-12-07  Non-Promo  \n",
              "103   purchase    99.99     B  recommender_system_test 2020-12-07  Non-Promo  \n",
              "104   purchase     9.99     B  recommender_system_test 2020-12-09  Non-Promo  "
            ]
          },
          "execution_count": 91,
          "metadata": {},
          "output_type": "execute_result"
        }
      ],
      "source": [
        "# Memfilter untuk peristiwa purchase\n",
        "df_purchase = df_final.query('event_name == \"purchase\"')\n",
        "df_purchase.head()"
      ]
    },
    {
      "cell_type": "code",
      "execution_count": null,
      "metadata": {
        "id": "v0J2sWeH9msq",
        "outputId": "a5ec5b71-9da7-4206-f84e-e1d385794c91"
      },
      "outputs": [
        {
          "data": {
            "text/html": [
              "<div>\n",
              "<style scoped>\n",
              "    .dataframe tbody tr th:only-of-type {\n",
              "        vertical-align: middle;\n",
              "    }\n",
              "\n",
              "    .dataframe tbody tr th {\n",
              "        vertical-align: top;\n",
              "    }\n",
              "\n",
              "    .dataframe thead th {\n",
              "        text-align: right;\n",
              "    }\n",
              "</style>\n",
              "<table border=\"1\" class=\"dataframe\">\n",
              "  <thead>\n",
              "    <tr style=\"text-align: right;\">\n",
              "      <th></th>\n",
              "      <th>date</th>\n",
              "      <th>purchase_count</th>\n",
              "    </tr>\n",
              "  </thead>\n",
              "  <tbody>\n",
              "    <tr>\n",
              "      <th>0</th>\n",
              "      <td>2020-12-07</td>\n",
              "      <td>105</td>\n",
              "    </tr>\n",
              "    <tr>\n",
              "      <th>1</th>\n",
              "      <td>2020-12-08</td>\n",
              "      <td>72</td>\n",
              "    </tr>\n",
              "    <tr>\n",
              "      <th>2</th>\n",
              "      <td>2020-12-09</td>\n",
              "      <td>91</td>\n",
              "    </tr>\n",
              "    <tr>\n",
              "      <th>3</th>\n",
              "      <td>2020-12-10</td>\n",
              "      <td>72</td>\n",
              "    </tr>\n",
              "    <tr>\n",
              "      <th>4</th>\n",
              "      <td>2020-12-11</td>\n",
              "      <td>58</td>\n",
              "    </tr>\n",
              "    <tr>\n",
              "      <th>5</th>\n",
              "      <td>2020-12-12</td>\n",
              "      <td>63</td>\n",
              "    </tr>\n",
              "    <tr>\n",
              "      <th>6</th>\n",
              "      <td>2020-12-13</td>\n",
              "      <td>62</td>\n",
              "    </tr>\n",
              "    <tr>\n",
              "      <th>7</th>\n",
              "      <td>2020-12-14</td>\n",
              "      <td>178</td>\n",
              "    </tr>\n",
              "    <tr>\n",
              "      <th>8</th>\n",
              "      <td>2020-12-15</td>\n",
              "      <td>178</td>\n",
              "    </tr>\n",
              "    <tr>\n",
              "      <th>9</th>\n",
              "      <td>2020-12-16</td>\n",
              "      <td>204</td>\n",
              "    </tr>\n",
              "    <tr>\n",
              "      <th>10</th>\n",
              "      <td>2020-12-17</td>\n",
              "      <td>210</td>\n",
              "    </tr>\n",
              "    <tr>\n",
              "      <th>11</th>\n",
              "      <td>2020-12-18</td>\n",
              "      <td>202</td>\n",
              "    </tr>\n",
              "    <tr>\n",
              "      <th>12</th>\n",
              "      <td>2020-12-19</td>\n",
              "      <td>248</td>\n",
              "    </tr>\n",
              "    <tr>\n",
              "      <th>13</th>\n",
              "      <td>2020-12-20</td>\n",
              "      <td>258</td>\n",
              "    </tr>\n",
              "    <tr>\n",
              "      <th>14</th>\n",
              "      <td>2020-12-21</td>\n",
              "      <td>351</td>\n",
              "    </tr>\n",
              "    <tr>\n",
              "      <th>15</th>\n",
              "      <td>2020-12-22</td>\n",
              "      <td>200</td>\n",
              "    </tr>\n",
              "    <tr>\n",
              "      <th>16</th>\n",
              "      <td>2020-12-23</td>\n",
              "      <td>162</td>\n",
              "    </tr>\n",
              "    <tr>\n",
              "      <th>17</th>\n",
              "      <td>2020-12-24</td>\n",
              "      <td>145</td>\n",
              "    </tr>\n",
              "    <tr>\n",
              "      <th>18</th>\n",
              "      <td>2020-12-26</td>\n",
              "      <td>108</td>\n",
              "    </tr>\n",
              "    <tr>\n",
              "      <th>19</th>\n",
              "      <td>2020-12-27</td>\n",
              "      <td>106</td>\n",
              "    </tr>\n",
              "    <tr>\n",
              "      <th>20</th>\n",
              "      <td>2020-12-28</td>\n",
              "      <td>81</td>\n",
              "    </tr>\n",
              "    <tr>\n",
              "      <th>21</th>\n",
              "      <td>2020-12-29</td>\n",
              "      <td>56</td>\n",
              "    </tr>\n",
              "  </tbody>\n",
              "</table>\n",
              "</div>"
            ],
            "text/plain": [
              "         date  purchase_count\n",
              "0  2020-12-07             105\n",
              "1  2020-12-08              72\n",
              "2  2020-12-09              91\n",
              "3  2020-12-10              72\n",
              "4  2020-12-11              58\n",
              "5  2020-12-12              63\n",
              "6  2020-12-13              62\n",
              "7  2020-12-14             178\n",
              "8  2020-12-15             178\n",
              "9  2020-12-16             204\n",
              "10 2020-12-17             210\n",
              "11 2020-12-18             202\n",
              "12 2020-12-19             248\n",
              "13 2020-12-20             258\n",
              "14 2020-12-21             351\n",
              "15 2020-12-22             200\n",
              "16 2020-12-23             162\n",
              "17 2020-12-24             145\n",
              "18 2020-12-26             108\n",
              "19 2020-12-27             106\n",
              "20 2020-12-28              81\n",
              "21 2020-12-29              56"
            ]
          },
          "execution_count": 92,
          "metadata": {},
          "output_type": "execute_result"
        }
      ],
      "source": [
        "# Menghitung peristiwanya dalam harian\n",
        "purchase_per_day = df_purchase.groupby('event_date').agg({'event_name' : 'count'}).reset_index()\n",
        "purchase_per_day.columns = ['date', 'purchase_count']\n",
        "purchase_per_day"
      ]
    },
    {
      "cell_type": "code",
      "execution_count": null,
      "metadata": {
        "id": "ikElrj_W9msq",
        "outputId": "5ed9080b-383d-4e8c-f0a5-a7951ed34e34"
      },
      "outputs": [
        {
          "data": {
            "text/html": [
              "<div>\n",
              "<style scoped>\n",
              "    .dataframe tbody tr th:only-of-type {\n",
              "        vertical-align: middle;\n",
              "    }\n",
              "\n",
              "    .dataframe tbody tr th {\n",
              "        vertical-align: top;\n",
              "    }\n",
              "\n",
              "    .dataframe thead th {\n",
              "        text-align: right;\n",
              "    }\n",
              "</style>\n",
              "<table border=\"1\" class=\"dataframe\">\n",
              "  <thead>\n",
              "    <tr style=\"text-align: right;\">\n",
              "      <th></th>\n",
              "      <th>date</th>\n",
              "      <th>login_count</th>\n",
              "      <th>product_page_count</th>\n",
              "      <th>product_cart_count</th>\n",
              "      <th>purchase_count</th>\n",
              "    </tr>\n",
              "  </thead>\n",
              "  <tbody>\n",
              "    <tr>\n",
              "      <th>0</th>\n",
              "      <td>2020-12-07</td>\n",
              "      <td>319</td>\n",
              "      <td>204</td>\n",
              "      <td>81</td>\n",
              "      <td>105.0</td>\n",
              "    </tr>\n",
              "    <tr>\n",
              "      <th>1</th>\n",
              "      <td>2020-12-08</td>\n",
              "      <td>278</td>\n",
              "      <td>172</td>\n",
              "      <td>71</td>\n",
              "      <td>72.0</td>\n",
              "    </tr>\n",
              "    <tr>\n",
              "      <th>2</th>\n",
              "      <td>2020-12-09</td>\n",
              "      <td>350</td>\n",
              "      <td>212</td>\n",
              "      <td>93</td>\n",
              "      <td>91.0</td>\n",
              "    </tr>\n",
              "    <tr>\n",
              "      <th>3</th>\n",
              "      <td>2020-12-10</td>\n",
              "      <td>296</td>\n",
              "      <td>166</td>\n",
              "      <td>79</td>\n",
              "      <td>72.0</td>\n",
              "    </tr>\n",
              "    <tr>\n",
              "      <th>4</th>\n",
              "      <td>2020-12-11</td>\n",
              "      <td>274</td>\n",
              "      <td>148</td>\n",
              "      <td>62</td>\n",
              "      <td>58.0</td>\n",
              "    </tr>\n",
              "    <tr>\n",
              "      <th>5</th>\n",
              "      <td>2020-12-12</td>\n",
              "      <td>280</td>\n",
              "      <td>147</td>\n",
              "      <td>68</td>\n",
              "      <td>63.0</td>\n",
              "    </tr>\n",
              "    <tr>\n",
              "      <th>6</th>\n",
              "      <td>2020-12-13</td>\n",
              "      <td>251</td>\n",
              "      <td>139</td>\n",
              "      <td>52</td>\n",
              "      <td>62.0</td>\n",
              "    </tr>\n",
              "    <tr>\n",
              "      <th>7</th>\n",
              "      <td>2020-12-14</td>\n",
              "      <td>619</td>\n",
              "      <td>375</td>\n",
              "      <td>183</td>\n",
              "      <td>178.0</td>\n",
              "    </tr>\n",
              "    <tr>\n",
              "      <th>8</th>\n",
              "      <td>2020-12-15</td>\n",
              "      <td>589</td>\n",
              "      <td>358</td>\n",
              "      <td>191</td>\n",
              "      <td>178.0</td>\n",
              "    </tr>\n",
              "    <tr>\n",
              "      <th>9</th>\n",
              "      <td>2020-12-16</td>\n",
              "      <td>643</td>\n",
              "      <td>402</td>\n",
              "      <td>205</td>\n",
              "      <td>204.0</td>\n",
              "    </tr>\n",
              "    <tr>\n",
              "      <th>10</th>\n",
              "      <td>2020-12-17</td>\n",
              "      <td>677</td>\n",
              "      <td>425</td>\n",
              "      <td>236</td>\n",
              "      <td>210.0</td>\n",
              "    </tr>\n",
              "    <tr>\n",
              "      <th>11</th>\n",
              "      <td>2020-12-18</td>\n",
              "      <td>708</td>\n",
              "      <td>455</td>\n",
              "      <td>219</td>\n",
              "      <td>202.0</td>\n",
              "    </tr>\n",
              "    <tr>\n",
              "      <th>12</th>\n",
              "      <td>2020-12-19</td>\n",
              "      <td>798</td>\n",
              "      <td>508</td>\n",
              "      <td>256</td>\n",
              "      <td>248.0</td>\n",
              "    </tr>\n",
              "    <tr>\n",
              "      <th>13</th>\n",
              "      <td>2020-12-20</td>\n",
              "      <td>830</td>\n",
              "      <td>515</td>\n",
              "      <td>245</td>\n",
              "      <td>258.0</td>\n",
              "    </tr>\n",
              "    <tr>\n",
              "      <th>14</th>\n",
              "      <td>2020-12-21</td>\n",
              "      <td>1089</td>\n",
              "      <td>691</td>\n",
              "      <td>310</td>\n",
              "      <td>351.0</td>\n",
              "    </tr>\n",
              "    <tr>\n",
              "      <th>15</th>\n",
              "      <td>2020-12-22</td>\n",
              "      <td>688</td>\n",
              "      <td>427</td>\n",
              "      <td>191</td>\n",
              "      <td>200.0</td>\n",
              "    </tr>\n",
              "    <tr>\n",
              "      <th>16</th>\n",
              "      <td>2020-12-23</td>\n",
              "      <td>551</td>\n",
              "      <td>337</td>\n",
              "      <td>151</td>\n",
              "      <td>162.0</td>\n",
              "    </tr>\n",
              "    <tr>\n",
              "      <th>17</th>\n",
              "      <td>2020-12-24</td>\n",
              "      <td>453</td>\n",
              "      <td>297</td>\n",
              "      <td>147</td>\n",
              "      <td>145.0</td>\n",
              "    </tr>\n",
              "    <tr>\n",
              "      <th>18</th>\n",
              "      <td>2020-12-26</td>\n",
              "      <td>323</td>\n",
              "      <td>213</td>\n",
              "      <td>89</td>\n",
              "      <td>108.0</td>\n",
              "    </tr>\n",
              "    <tr>\n",
              "      <th>19</th>\n",
              "      <td>2020-12-27</td>\n",
              "      <td>308</td>\n",
              "      <td>188</td>\n",
              "      <td>89</td>\n",
              "      <td>106.0</td>\n",
              "    </tr>\n",
              "    <tr>\n",
              "      <th>20</th>\n",
              "      <td>2020-12-28</td>\n",
              "      <td>272</td>\n",
              "      <td>170</td>\n",
              "      <td>80</td>\n",
              "      <td>81.0</td>\n",
              "    </tr>\n",
              "    <tr>\n",
              "      <th>21</th>\n",
              "      <td>2020-12-29</td>\n",
              "      <td>239</td>\n",
              "      <td>152</td>\n",
              "      <td>61</td>\n",
              "      <td>56.0</td>\n",
              "    </tr>\n",
              "    <tr>\n",
              "      <th>22</th>\n",
              "      <td>2020-12-30</td>\n",
              "      <td>2</td>\n",
              "      <td>1</td>\n",
              "      <td>1</td>\n",
              "      <td>NaN</td>\n",
              "    </tr>\n",
              "  </tbody>\n",
              "</table>\n",
              "</div>"
            ],
            "text/plain": [
              "         date  login_count  product_page_count  product_cart_count  \\\n",
              "0  2020-12-07          319                 204                  81   \n",
              "1  2020-12-08          278                 172                  71   \n",
              "2  2020-12-09          350                 212                  93   \n",
              "3  2020-12-10          296                 166                  79   \n",
              "4  2020-12-11          274                 148                  62   \n",
              "5  2020-12-12          280                 147                  68   \n",
              "6  2020-12-13          251                 139                  52   \n",
              "7  2020-12-14          619                 375                 183   \n",
              "8  2020-12-15          589                 358                 191   \n",
              "9  2020-12-16          643                 402                 205   \n",
              "10 2020-12-17          677                 425                 236   \n",
              "11 2020-12-18          708                 455                 219   \n",
              "12 2020-12-19          798                 508                 256   \n",
              "13 2020-12-20          830                 515                 245   \n",
              "14 2020-12-21         1089                 691                 310   \n",
              "15 2020-12-22          688                 427                 191   \n",
              "16 2020-12-23          551                 337                 151   \n",
              "17 2020-12-24          453                 297                 147   \n",
              "18 2020-12-26          323                 213                  89   \n",
              "19 2020-12-27          308                 188                  89   \n",
              "20 2020-12-28          272                 170                  80   \n",
              "21 2020-12-29          239                 152                  61   \n",
              "22 2020-12-30            2                   1                   1   \n",
              "\n",
              "    purchase_count  \n",
              "0            105.0  \n",
              "1             72.0  \n",
              "2             91.0  \n",
              "3             72.0  \n",
              "4             58.0  \n",
              "5             63.0  \n",
              "6             62.0  \n",
              "7            178.0  \n",
              "8            178.0  \n",
              "9            204.0  \n",
              "10           210.0  \n",
              "11           202.0  \n",
              "12           248.0  \n",
              "13           258.0  \n",
              "14           351.0  \n",
              "15           200.0  \n",
              "16           162.0  \n",
              "17           145.0  \n",
              "18           108.0  \n",
              "19           106.0  \n",
              "20            81.0  \n",
              "21            56.0  \n",
              "22             NaN  "
            ]
          },
          "execution_count": 93,
          "metadata": {},
          "output_type": "execute_result"
        }
      ],
      "source": [
        "# Menggabungkan tabelnya dari tabel sebelumnya\n",
        "count_event_per_day = x2.merge(purchase_per_day, on = 'date', how = 'left')\n",
        "count_event_per_day"
      ]
    },
    {
      "cell_type": "code",
      "execution_count": null,
      "metadata": {
        "id": "qHDWkZDs9msr"
      },
      "outputs": [],
      "source": [
        "# Mengganti nilai NaN menjadi 0\n",
        "count_event_per_day = count_event_per_day.fillna(0)"
      ]
    },
    {
      "cell_type": "markdown",
      "metadata": {
        "id": "xY3jyLK39mss"
      },
      "source": [
        "Fungsinya agar nanti terbaca saat pembuatan chartnya."
      ]
    },
    {
      "cell_type": "code",
      "execution_count": null,
      "metadata": {
        "id": "5e4qhkjb9mst",
        "outputId": "86e110c6-9b17-47c8-edf4-c68608cfe008"
      },
      "outputs": [
        {
          "data": {
            "image/png": "[encoded data removed]",
            "text/plain": [
              "<Figure size 1080x504 with 1 Axes>"
            ]
          },
          "metadata": {
            "needs_background": "light"
          },
          "output_type": "display_data"
        }
      ],
      "source": [
        "# Membuat linechart untuk menghitung semua peristiwa berdasarkan harian\n",
        "count_event_per_day.plot(x= 'date', kind='line', figsize=(15,7))\n",
        "\n",
        "plt.xlabel('Tanggal')\n",
        "plt.ylabel('Jumlah Peristiwa')\n",
        "plt.title('Jumlah Peristiwa Per-hari')\n",
        "plt.show()"
      ]
    },
    {
      "cell_type": "markdown",
      "metadata": {
        "id": "ZCZgvdvq9msu"
      },
      "source": [
        "Kesimpulan:\n",
        "\n",
        "Frekuensi untuk semua peristiwa mulai meningkat mulai pada tanggal `2020-12-13` s/d `2020-12-21` yang menjadi puncaknya untuk peristiwa dan tanggal selanjutnya yaitu `2020-12-21` s/d `2020-12-30` terus mengalami penurunan. Artinya, bahwa para pengguna melakukan aktivitas pada aplikasi sebelum merayakan Natal dan Tahun Baru agar membuat persiapan dengan melihat dan membeli berbagai kebutuhan agar saat waktu Natal dan Tahun Baru berlangsung mereka tinggal merayakannya dengan barang/persiapan yang mereka beli."
      ]
    },
    {
      "cell_type": "markdown",
      "metadata": {
        "id": "tkpSkZH29msu"
      },
      "source": [
        "### Ciri-ciri khusus pada data"
      ]
    },
    {
      "cell_type": "markdown",
      "metadata": {
        "id": "7Y9OWr659msv"
      },
      "source": [
        "Untuk melihat ciri-ciri khusus pada data, akan menganalisis melalui dari nilai valuenya per kolom."
      ]
    },
    {
      "cell_type": "markdown",
      "metadata": {
        "id": "VwknswAh9msv"
      },
      "source": [
        "Value yang akan dilihat yaitu dari kolom:\n",
        "\n",
        "- Device\n",
        "- Region\n",
        "- Promo\n",
        "- Event\n",
        "- User\n",
        "\n",
        "\n",
        "untuk `ab_test` tidak perlu dijelaskan karena salah satu poin utamanya yaitu menguji perubahan terkait pengenalan sistem rekomendasi yang telah ditingkatkan. "
      ]
    },
    {
      "cell_type": "code",
      "execution_count": null,
      "metadata": {
        "id": "eCIEpofP9msv",
        "outputId": "87c45270-75ef-4ef2-c5d6-4e5fda09f003"
      },
      "outputs": [
        {
          "data": {
            "text/html": [
              "<div>\n",
              "<style scoped>\n",
              "    .dataframe tbody tr th:only-of-type {\n",
              "        vertical-align: middle;\n",
              "    }\n",
              "\n",
              "    .dataframe tbody tr th {\n",
              "        vertical-align: top;\n",
              "    }\n",
              "\n",
              "    .dataframe thead th {\n",
              "        text-align: right;\n",
              "    }\n",
              "</style>\n",
              "<table border=\"1\" class=\"dataframe\">\n",
              "  <thead>\n",
              "    <tr style=\"text-align: right;\">\n",
              "      <th></th>\n",
              "      <th>user_id</th>\n",
              "    </tr>\n",
              "    <tr>\n",
              "      <th>device</th>\n",
              "      <th></th>\n",
              "    </tr>\n",
              "  </thead>\n",
              "  <tbody>\n",
              "    <tr>\n",
              "      <th>Android</th>\n",
              "      <td>10441</td>\n",
              "    </tr>\n",
              "    <tr>\n",
              "      <th>PC</th>\n",
              "      <td>6122</td>\n",
              "    </tr>\n",
              "    <tr>\n",
              "      <th>iPhone</th>\n",
              "      <td>5028</td>\n",
              "    </tr>\n",
              "    <tr>\n",
              "      <th>Mac</th>\n",
              "      <td>2318</td>\n",
              "    </tr>\n",
              "  </tbody>\n",
              "</table>\n",
              "</div>"
            ],
            "text/plain": [
              "         user_id\n",
              "device          \n",
              "Android    10441\n",
              "PC          6122\n",
              "iPhone      5028\n",
              "Mac         2318"
            ]
          },
          "execution_count": 96,
          "metadata": {},
          "output_type": "execute_result"
        }
      ],
      "source": [
        "# Melihat total jumlah aktifitas berdasarkan device/perangkat\n",
        "df_final.groupby('device').agg({'user_id' : 'count'}).sort_values('user_id', ascending=False)"
      ]
    },
    {
      "cell_type": "code",
      "execution_count": null,
      "metadata": {
        "id": "2hvkGvVz9msw",
        "outputId": "0f887b6f-653f-43ac-e26c-8c6a6cff6902"
      },
      "outputs": [
        {
          "data": {
            "text/html": [
              "<div>\n",
              "<style scoped>\n",
              "    .dataframe tbody tr th:only-of-type {\n",
              "        vertical-align: middle;\n",
              "    }\n",
              "\n",
              "    .dataframe tbody tr th {\n",
              "        vertical-align: top;\n",
              "    }\n",
              "\n",
              "    .dataframe thead th {\n",
              "        text-align: right;\n",
              "    }\n",
              "</style>\n",
              "<table border=\"1\" class=\"dataframe\">\n",
              "  <thead>\n",
              "    <tr style=\"text-align: right;\">\n",
              "      <th></th>\n",
              "      <th>user_id</th>\n",
              "    </tr>\n",
              "    <tr>\n",
              "      <th>device</th>\n",
              "      <th></th>\n",
              "    </tr>\n",
              "  </thead>\n",
              "  <tbody>\n",
              "    <tr>\n",
              "      <th>Android</th>\n",
              "      <td>1625</td>\n",
              "    </tr>\n",
              "    <tr>\n",
              "      <th>PC</th>\n",
              "      <td>953</td>\n",
              "    </tr>\n",
              "    <tr>\n",
              "      <th>iPhone</th>\n",
              "      <td>751</td>\n",
              "    </tr>\n",
              "    <tr>\n",
              "      <th>Mac</th>\n",
              "      <td>346</td>\n",
              "    </tr>\n",
              "  </tbody>\n",
              "</table>\n",
              "</div>"
            ],
            "text/plain": [
              "         user_id\n",
              "device          \n",
              "Android     1625\n",
              "PC           953\n",
              "iPhone       751\n",
              "Mac          346"
            ]
          },
          "execution_count": 97,
          "metadata": {},
          "output_type": "execute_result"
        }
      ],
      "source": [
        "# Melihat total jumlah pengguna berdasarkan device/perangkat\n",
        "df_final.groupby('device').agg({'user_id' : 'nunique'}).sort_values('user_id', ascending=False)"
      ]
    },
    {
      "cell_type": "code",
      "execution_count": null,
      "metadata": {
        "id": "VKOgqsgQ9msx",
        "outputId": "2b2c67a2-8833-4c3e-c520-083fed02e398"
      },
      "outputs": [
        {
          "data": {
            "text/html": [
              "<div>\n",
              "<style scoped>\n",
              "    .dataframe tbody tr th:only-of-type {\n",
              "        vertical-align: middle;\n",
              "    }\n",
              "\n",
              "    .dataframe tbody tr th {\n",
              "        vertical-align: top;\n",
              "    }\n",
              "\n",
              "    .dataframe thead th {\n",
              "        text-align: right;\n",
              "    }\n",
              "</style>\n",
              "<table border=\"1\" class=\"dataframe\">\n",
              "  <thead>\n",
              "    <tr style=\"text-align: right;\">\n",
              "      <th></th>\n",
              "      <th>user_id</th>\n",
              "    </tr>\n",
              "    <tr>\n",
              "      <th>region</th>\n",
              "      <th></th>\n",
              "    </tr>\n",
              "  </thead>\n",
              "  <tbody>\n",
              "    <tr>\n",
              "      <th>EU</th>\n",
              "      <td>22674</td>\n",
              "    </tr>\n",
              "    <tr>\n",
              "      <th>N.America</th>\n",
              "      <td>804</td>\n",
              "    </tr>\n",
              "    <tr>\n",
              "      <th>APAC</th>\n",
              "      <td>225</td>\n",
              "    </tr>\n",
              "    <tr>\n",
              "      <th>CIS</th>\n",
              "      <td>206</td>\n",
              "    </tr>\n",
              "  </tbody>\n",
              "</table>\n",
              "</div>"
            ],
            "text/plain": [
              "           user_id\n",
              "region            \n",
              "EU           22674\n",
              "N.America      804\n",
              "APAC           225\n",
              "CIS            206"
            ]
          },
          "execution_count": 98,
          "metadata": {},
          "output_type": "execute_result"
        }
      ],
      "source": [
        "# Melihat total jumlah aktifitas berdasarkan region\n",
        "df_final.groupby('region').agg({'user_id' : 'count'}).sort_values('user_id', ascending=False)"
      ]
    },
    {
      "cell_type": "code",
      "execution_count": null,
      "metadata": {
        "id": "fvZIwQNj9msy",
        "outputId": "e12d7ed9-32eb-423a-e1cb-4398ad97197c"
      },
      "outputs": [
        {
          "data": {
            "text/html": [
              "<div>\n",
              "<style scoped>\n",
              "    .dataframe tbody tr th:only-of-type {\n",
              "        vertical-align: middle;\n",
              "    }\n",
              "\n",
              "    .dataframe tbody tr th {\n",
              "        vertical-align: top;\n",
              "    }\n",
              "\n",
              "    .dataframe thead th {\n",
              "        text-align: right;\n",
              "    }\n",
              "</style>\n",
              "<table border=\"1\" class=\"dataframe\">\n",
              "  <thead>\n",
              "    <tr style=\"text-align: right;\">\n",
              "      <th></th>\n",
              "      <th>user_id</th>\n",
              "    </tr>\n",
              "    <tr>\n",
              "      <th>region</th>\n",
              "      <th></th>\n",
              "    </tr>\n",
              "  </thead>\n",
              "  <tbody>\n",
              "    <tr>\n",
              "      <th>EU</th>\n",
              "      <td>3481</td>\n",
              "    </tr>\n",
              "    <tr>\n",
              "      <th>N.America</th>\n",
              "      <td>119</td>\n",
              "    </tr>\n",
              "    <tr>\n",
              "      <th>APAC</th>\n",
              "      <td>45</td>\n",
              "    </tr>\n",
              "    <tr>\n",
              "      <th>CIS</th>\n",
              "      <td>30</td>\n",
              "    </tr>\n",
              "  </tbody>\n",
              "</table>\n",
              "</div>"
            ],
            "text/plain": [
              "           user_id\n",
              "region            \n",
              "EU            3481\n",
              "N.America      119\n",
              "APAC            45\n",
              "CIS             30"
            ]
          },
          "execution_count": 99,
          "metadata": {},
          "output_type": "execute_result"
        }
      ],
      "source": [
        "# Melihat total jumlah pengguna berdasarkan device/perangkat\n",
        "df_final.groupby('region').agg({'user_id' : 'nunique'}).sort_values('user_id', ascending=False)"
      ]
    },
    {
      "cell_type": "code",
      "execution_count": null,
      "metadata": {
        "id": "0A1EnYTa9msy",
        "outputId": "791de50a-fc25-4973-b592-8d84e25b4fca"
      },
      "outputs": [
        {
          "data": {
            "text/html": [
              "<div>\n",
              "<style scoped>\n",
              "    .dataframe tbody tr th:only-of-type {\n",
              "        vertical-align: middle;\n",
              "    }\n",
              "\n",
              "    .dataframe tbody tr th {\n",
              "        vertical-align: top;\n",
              "    }\n",
              "\n",
              "    .dataframe thead th {\n",
              "        text-align: right;\n",
              "    }\n",
              "</style>\n",
              "<table border=\"1\" class=\"dataframe\">\n",
              "  <thead>\n",
              "    <tr style=\"text-align: right;\">\n",
              "      <th></th>\n",
              "      <th>user_id</th>\n",
              "    </tr>\n",
              "    <tr>\n",
              "      <th>promo</th>\n",
              "      <th></th>\n",
              "    </tr>\n",
              "  </thead>\n",
              "  <tbody>\n",
              "    <tr>\n",
              "      <th>Non-Promo</th>\n",
              "      <td>15934</td>\n",
              "    </tr>\n",
              "    <tr>\n",
              "      <th>Christmas &amp; New Year Promo</th>\n",
              "      <td>7975</td>\n",
              "    </tr>\n",
              "  </tbody>\n",
              "</table>\n",
              "</div>"
            ],
            "text/plain": [
              "                            user_id\n",
              "promo                              \n",
              "Non-Promo                     15934\n",
              "Christmas & New Year Promo     7975"
            ]
          },
          "execution_count": 100,
          "metadata": {},
          "output_type": "execute_result"
        }
      ],
      "source": [
        "# Melihat aktivitas yang dalam mendapatkan promo dan tidak mendapatkan promo\n",
        "df_final.groupby('promo').agg({'user_id' : 'count'}).sort_values('user_id', ascending=False)"
      ]
    },
    {
      "cell_type": "code",
      "execution_count": null,
      "metadata": {
        "id": "8ea1oIUp9msy",
        "outputId": "4efe7810-0042-4ff8-fdf4-8f2c99834e79"
      },
      "outputs": [
        {
          "data": {
            "text/html": [
              "<div>\n",
              "<style scoped>\n",
              "    .dataframe tbody tr th:only-of-type {\n",
              "        vertical-align: middle;\n",
              "    }\n",
              "\n",
              "    .dataframe tbody tr th {\n",
              "        vertical-align: top;\n",
              "    }\n",
              "\n",
              "    .dataframe thead th {\n",
              "        text-align: right;\n",
              "    }\n",
              "</style>\n",
              "<table border=\"1\" class=\"dataframe\">\n",
              "  <thead>\n",
              "    <tr style=\"text-align: right;\">\n",
              "      <th></th>\n",
              "      <th>user_id</th>\n",
              "    </tr>\n",
              "    <tr>\n",
              "      <th>promo</th>\n",
              "      <th></th>\n",
              "    </tr>\n",
              "  </thead>\n",
              "  <tbody>\n",
              "    <tr>\n",
              "      <th>Non-Promo</th>\n",
              "      <td>2683</td>\n",
              "    </tr>\n",
              "    <tr>\n",
              "      <th>Christmas &amp; New Year Promo</th>\n",
              "      <td>992</td>\n",
              "    </tr>\n",
              "  </tbody>\n",
              "</table>\n",
              "</div>"
            ],
            "text/plain": [
              "                            user_id\n",
              "promo                              \n",
              "Non-Promo                      2683\n",
              "Christmas & New Year Promo      992"
            ]
          },
          "execution_count": 101,
          "metadata": {},
          "output_type": "execute_result"
        }
      ],
      "source": [
        "# Melihat pengguna yang mendapatkan promo dan tidak mendapatkan promo\n",
        "df_final.groupby('promo').agg({'user_id' : 'nunique'}).sort_values('user_id', ascending=False)"
      ]
    },
    {
      "cell_type": "code",
      "execution_count": null,
      "metadata": {
        "id": "K4as2zvd9msz",
        "outputId": "245df2bf-c6f2-423c-a139-6d4197438ed2"
      },
      "outputs": [
        {
          "data": {
            "text/html": [
              "<div>\n",
              "<style scoped>\n",
              "    .dataframe tbody tr th:only-of-type {\n",
              "        vertical-align: middle;\n",
              "    }\n",
              "\n",
              "    .dataframe tbody tr th {\n",
              "        vertical-align: top;\n",
              "    }\n",
              "\n",
              "    .dataframe thead th {\n",
              "        text-align: right;\n",
              "    }\n",
              "</style>\n",
              "<table border=\"1\" class=\"dataframe\">\n",
              "  <thead>\n",
              "    <tr style=\"text-align: right;\">\n",
              "      <th></th>\n",
              "      <th>user_id</th>\n",
              "    </tr>\n",
              "    <tr>\n",
              "      <th>event_name</th>\n",
              "      <th></th>\n",
              "    </tr>\n",
              "  </thead>\n",
              "  <tbody>\n",
              "    <tr>\n",
              "      <th>login</th>\n",
              "      <td>10837</td>\n",
              "    </tr>\n",
              "    <tr>\n",
              "      <th>product_page</th>\n",
              "      <td>6702</td>\n",
              "    </tr>\n",
              "    <tr>\n",
              "      <th>purchase</th>\n",
              "      <td>3210</td>\n",
              "    </tr>\n",
              "    <tr>\n",
              "      <th>product_cart</th>\n",
              "      <td>3160</td>\n",
              "    </tr>\n",
              "  </tbody>\n",
              "</table>\n",
              "</div>"
            ],
            "text/plain": [
              "              user_id\n",
              "event_name           \n",
              "login           10837\n",
              "product_page     6702\n",
              "purchase         3210\n",
              "product_cart     3160"
            ]
          },
          "execution_count": 102,
          "metadata": {},
          "output_type": "execute_result"
        }
      ],
      "source": [
        "# Melihat jumlah aktivitas di kolom kejadian/peristiwa\n",
        "df_final.groupby('event_name').agg({'user_id' : 'count'}).sort_values('user_id', ascending=False)"
      ]
    },
    {
      "cell_type": "code",
      "execution_count": null,
      "metadata": {
        "id": "-iGAwDMl9msz",
        "outputId": "6796eac7-f292-4b93-94c6-fcd56651beff"
      },
      "outputs": [
        {
          "data": {
            "text/html": [
              "<div>\n",
              "<style scoped>\n",
              "    .dataframe tbody tr th:only-of-type {\n",
              "        vertical-align: middle;\n",
              "    }\n",
              "\n",
              "    .dataframe tbody tr th {\n",
              "        vertical-align: top;\n",
              "    }\n",
              "\n",
              "    .dataframe thead th {\n",
              "        text-align: right;\n",
              "    }\n",
              "</style>\n",
              "<table border=\"1\" class=\"dataframe\">\n",
              "  <thead>\n",
              "    <tr style=\"text-align: right;\">\n",
              "      <th></th>\n",
              "      <th>user_id</th>\n",
              "    </tr>\n",
              "    <tr>\n",
              "      <th>event_name</th>\n",
              "      <th></th>\n",
              "    </tr>\n",
              "  </thead>\n",
              "  <tbody>\n",
              "    <tr>\n",
              "      <th>login</th>\n",
              "      <td>3674</td>\n",
              "    </tr>\n",
              "    <tr>\n",
              "      <th>product_page</th>\n",
              "      <td>2303</td>\n",
              "    </tr>\n",
              "    <tr>\n",
              "      <th>purchase</th>\n",
              "      <td>1128</td>\n",
              "    </tr>\n",
              "    <tr>\n",
              "      <th>product_cart</th>\n",
              "      <td>1079</td>\n",
              "    </tr>\n",
              "  </tbody>\n",
              "</table>\n",
              "</div>"
            ],
            "text/plain": [
              "              user_id\n",
              "event_name           \n",
              "login            3674\n",
              "product_page     2303\n",
              "purchase         1128\n",
              "product_cart     1079"
            ]
          },
          "execution_count": 103,
          "metadata": {},
          "output_type": "execute_result"
        }
      ],
      "source": [
        "# Melihat jumlah pengguna di kolom kejadian/peristiwa\n",
        "df_final.groupby('event_name').agg({'user_id' : 'nunique'}).sort_values('user_id', ascending=False)"
      ]
    },
    {
      "cell_type": "code",
      "execution_count": null,
      "metadata": {
        "id": "Gve5JSxG9ms0",
        "outputId": "0e55baa5-5b99-41be-e577-16c97de5d83d"
      },
      "outputs": [
        {
          "name": "stdout",
          "output_type": "stream",
          "text": [
            "Total jumlah pengguna : 3675\n"
          ]
        }
      ],
      "source": [
        "# Melihat total jumlah pengguna\n",
        "print('Total jumlah pengguna :', df_final['user_id'].nunique())"
      ]
    },
    {
      "cell_type": "markdown",
      "metadata": {
        "id": "FBg54jWN9ms1"
      },
      "source": [
        "Kesimpulan:\n",
        "\n",
        "Dengan jumlah partisipan yang kurang dari harapan yaitu 3675 pengguna, bahwa untuk perangkat/device yang mereka gunakan ditempati posisi pertama oleh andriod 1625 pengguna, lalu pc dengan 953 pengguna, dan produk Apple yaitu iphone dengan 751 pengguna dan mac 346 pengguna. Untuk region bahwa sepertinya tabel ini memiliki sebagian besar data pengguna dari EU (Uni Eropa), dan wilayah lain seperti N.Amerika (Amerika Utara), APAC (Asia Pasifik), dan CIS (Persemakmuran Negara-Negara Merdeka) yang meruapakan wilayah Rusia hanya sangat sedikit untuk pengguna yang mengikuti eksperimen ini.\n",
        "\n",
        "Untuk promo hanya ada promo `Christmas & New Year Promo` dengan 992 pengguna yang mendapatkan promo karena terbatas untuk region dan waktunya dan pengguna yang `Non-Promo` ada 2683 pengguna. Untuk kejadiannya bahwa jumlah kejadiannya dimana ada login sebanyak 10837 kali, halaman produk 6702 kali, halaman keranjang 3160, dan halaman pembayaran 3210 kali. Untuk penggunanya bahwa sebanyak 3674 pengguna yang login, 2303 pengguna yang melihat halaman produk, 1079 pengguna yang yang melakukan kontak dengan halaman kranjang, dan 1128 pengguna yang sukses melakukan pembelian setelah membeli produknya."
      ]
    },
    {
      "cell_type": "markdown",
      "metadata": {
        "id": "uhBXY8IE9ms3"
      },
      "source": [
        "## Evaluasi hasil A/B testing"
      ]
    },
    {
      "cell_type": "markdown",
      "metadata": {
        "id": "lIRAzHu19ms3"
      },
      "source": [
        "- Apa yang bisa Anda katakan tentang hasil A/B testing?\n",
        "- Gunakan uji z atau z-test untuk menguji perbedaan statistik di antara proporsinya."
      ]
    },
    {
      "cell_type": "markdown",
      "metadata": {
        "id": "-0L01hXd9ms3"
      },
      "source": [
        "### Apa yang bisa Anda katakan tentang hasil A/B testing?"
      ]
    },
    {
      "cell_type": "markdown",
      "metadata": {
        "id": "F5uZ29ot9ms3"
      },
      "source": [
        "Untuk Melihat hasil A/B akan dilihat beberapa kolom berdasarkan kelompok A dan B, adapun kolomnya, yaitu:\n",
        "\n",
        "- Region\n",
        "- Device\n",
        "- Event\n",
        "- Promo\n",
        "- Total Revenue (Details)"
      ]
    },
    {
      "cell_type": "markdown",
      "metadata": {
        "id": "Efu3sA9h9ms8"
      },
      "source": [
        "#### Melihat Kelompok A dan B Berdasarkan wilayah"
      ]
    },
    {
      "cell_type": "code",
      "execution_count": null,
      "metadata": {
        "id": "DyGEde3A9ms8",
        "outputId": "d248a091-3e24-40ca-b9a2-6abdcbb508df"
      },
      "outputs": [
        {
          "data": {
            "text/html": [
              "<div>\n",
              "<style scoped>\n",
              "    .dataframe tbody tr th:only-of-type {\n",
              "        vertical-align: middle;\n",
              "    }\n",
              "\n",
              "    .dataframe tbody tr th {\n",
              "        vertical-align: top;\n",
              "    }\n",
              "\n",
              "    .dataframe thead th {\n",
              "        text-align: right;\n",
              "    }\n",
              "</style>\n",
              "<table border=\"1\" class=\"dataframe\">\n",
              "  <thead>\n",
              "    <tr style=\"text-align: right;\">\n",
              "      <th></th>\n",
              "      <th>region</th>\n",
              "      <th>group</th>\n",
              "      <th>count_event</th>\n",
              "    </tr>\n",
              "  </thead>\n",
              "  <tbody>\n",
              "    <tr>\n",
              "      <th>0</th>\n",
              "      <td>APAC</td>\n",
              "      <td>A</td>\n",
              "      <td>153</td>\n",
              "    </tr>\n",
              "    <tr>\n",
              "      <th>1</th>\n",
              "      <td>APAC</td>\n",
              "      <td>B</td>\n",
              "      <td>72</td>\n",
              "    </tr>\n",
              "    <tr>\n",
              "      <th>2</th>\n",
              "      <td>CIS</td>\n",
              "      <td>A</td>\n",
              "      <td>125</td>\n",
              "    </tr>\n",
              "    <tr>\n",
              "      <th>3</th>\n",
              "      <td>CIS</td>\n",
              "      <td>B</td>\n",
              "      <td>81</td>\n",
              "    </tr>\n",
              "    <tr>\n",
              "      <th>4</th>\n",
              "      <td>EU</td>\n",
              "      <td>A</td>\n",
              "      <td>17670</td>\n",
              "    </tr>\n",
              "    <tr>\n",
              "      <th>5</th>\n",
              "      <td>EU</td>\n",
              "      <td>B</td>\n",
              "      <td>5004</td>\n",
              "    </tr>\n",
              "    <tr>\n",
              "      <th>6</th>\n",
              "      <td>N.America</td>\n",
              "      <td>A</td>\n",
              "      <td>679</td>\n",
              "    </tr>\n",
              "    <tr>\n",
              "      <th>7</th>\n",
              "      <td>N.America</td>\n",
              "      <td>B</td>\n",
              "      <td>125</td>\n",
              "    </tr>\n",
              "  </tbody>\n",
              "</table>\n",
              "</div>"
            ],
            "text/plain": [
              "      region group  count_event\n",
              "0       APAC     A          153\n",
              "1       APAC     B           72\n",
              "2        CIS     A          125\n",
              "3        CIS     B           81\n",
              "4         EU     A        17670\n",
              "5         EU     B         5004\n",
              "6  N.America     A          679\n",
              "7  N.America     B          125"
            ]
          },
          "execution_count": 105,
          "metadata": {},
          "output_type": "execute_result"
        }
      ],
      "source": [
        "# Melihat jumlah total kejadian di berdsarkan wilayah untuk kelompok A dan kelompok B\n",
        "count_region = df_final.groupby(['region', 'group']).agg({'user_id' : 'count'}).reset_index()\n",
        "count_region.columns = ['region', 'group', 'count_event']\n",
        "count_region"
      ]
    },
    {
      "cell_type": "code",
      "execution_count": null,
      "metadata": {
        "id": "Xffw469F9ms9",
        "outputId": "980ccd34-26ce-4b65-fdc1-028e390fb4e2"
      },
      "outputs": [
        {
          "data": {
            "image/png": "[encoded data removed]",
            "text/plain": [
              "<Figure size 1080x504 with 1 Axes>"
            ]
          },
          "metadata": {
            "needs_background": "light"
          },
          "output_type": "display_data"
        }
      ],
      "source": [
        "# Membuat bar untuk membandingkan kejadian berdsarkan wilayah untuk kelompok A dan kelompok B\n",
        "\n",
        "# Membuat ukuran chartnya\n",
        "plt.figure(figsize=(15,7))\n",
        "# Membuat barnya\n",
        "ax = sns.barplot(x = count_region['region'], y = count_region['count_event'],\n",
        "                 hue = count_region['group'])\n",
        "# Membuat keterangan jumlah kejadian di atas bar\n",
        "for p in ax.patches:\n",
        "    ax.annotate(str(p.get_height().round()), (p.get_x() + 0.1, p.get_height() + 300))\n",
        "\n",
        "# Membuat title\n",
        "plt.title('Jumlah Semua Kejadian Berdasarkan Wilayah Untuk Kelompok A dan Kelompok B')\n",
        "# Mendeskripsikan sumbu x\n",
        "plt.xlabel('Wilayah')\n",
        "# Mendeskripsikan sumbu y\n",
        "plt.ylabel('Jumlah Semua Kejadian')\n",
        "# Menampilkan\n",
        "plt.show()"
      ]
    },
    {
      "cell_type": "markdown",
      "metadata": {
        "id": "QvQZWxxV9ms9"
      },
      "source": [
        "Kesimpulan:\n",
        "\n",
        "Bahwa dari semua kejadian di berbagai wilayah, EU (Uni Eropa) yang mempunyai aktivitas yang sangat tinggi baik kelompok A maupun kelompok B di banding wilayah lain seperti CIS, APAC, dan N.Amerika. Tetapi untuk perbandingan kelompok di wilayah EU sangat lah tinggi yang dimana kelompok A (kontrol) sangat tinggi dibanding kelompok B (kelompok uji pembayaran yang baru)."
      ]
    },
    {
      "cell_type": "code",
      "execution_count": null,
      "metadata": {
        "id": "0fTRd3nJ9ms-",
        "outputId": "5ce61f47-3764-4178-95c5-4f1eda6e5c0a"
      },
      "outputs": [
        {
          "data": {
            "text/html": [
              "<div>\n",
              "<style scoped>\n",
              "    .dataframe tbody tr th:only-of-type {\n",
              "        vertical-align: middle;\n",
              "    }\n",
              "\n",
              "    .dataframe tbody tr th {\n",
              "        vertical-align: top;\n",
              "    }\n",
              "\n",
              "    .dataframe thead th {\n",
              "        text-align: right;\n",
              "    }\n",
              "</style>\n",
              "<table border=\"1\" class=\"dataframe\">\n",
              "  <thead>\n",
              "    <tr style=\"text-align: right;\">\n",
              "      <th></th>\n",
              "      <th>region</th>\n",
              "      <th>group</th>\n",
              "      <th>count_user</th>\n",
              "    </tr>\n",
              "  </thead>\n",
              "  <tbody>\n",
              "    <tr>\n",
              "      <th>0</th>\n",
              "      <td>APAC</td>\n",
              "      <td>A</td>\n",
              "      <td>28</td>\n",
              "    </tr>\n",
              "    <tr>\n",
              "      <th>1</th>\n",
              "      <td>APAC</td>\n",
              "      <td>B</td>\n",
              "      <td>17</td>\n",
              "    </tr>\n",
              "    <tr>\n",
              "      <th>2</th>\n",
              "      <td>CIS</td>\n",
              "      <td>A</td>\n",
              "      <td>19</td>\n",
              "    </tr>\n",
              "    <tr>\n",
              "      <th>3</th>\n",
              "      <td>CIS</td>\n",
              "      <td>B</td>\n",
              "      <td>11</td>\n",
              "    </tr>\n",
              "    <tr>\n",
              "      <th>4</th>\n",
              "      <td>EU</td>\n",
              "      <td>A</td>\n",
              "      <td>2604</td>\n",
              "    </tr>\n",
              "    <tr>\n",
              "      <th>5</th>\n",
              "      <td>EU</td>\n",
              "      <td>B</td>\n",
              "      <td>877</td>\n",
              "    </tr>\n",
              "    <tr>\n",
              "      <th>6</th>\n",
              "      <td>N.America</td>\n",
              "      <td>A</td>\n",
              "      <td>96</td>\n",
              "    </tr>\n",
              "    <tr>\n",
              "      <th>7</th>\n",
              "      <td>N.America</td>\n",
              "      <td>B</td>\n",
              "      <td>23</td>\n",
              "    </tr>\n",
              "  </tbody>\n",
              "</table>\n",
              "</div>"
            ],
            "text/plain": [
              "      region group  count_user\n",
              "0       APAC     A          28\n",
              "1       APAC     B          17\n",
              "2        CIS     A          19\n",
              "3        CIS     B          11\n",
              "4         EU     A        2604\n",
              "5         EU     B         877\n",
              "6  N.America     A          96\n",
              "7  N.America     B          23"
            ]
          },
          "execution_count": 107,
          "metadata": {},
          "output_type": "execute_result"
        }
      ],
      "source": [
        "# Melihat jumlah pengguna berdsarkan wilayah untuk kelompok A dan kelompok B\n",
        "user_region = df_final.groupby(['region', 'group']).agg({'user_id' : 'nunique'}).reset_index()\n",
        "user_region.columns = ['region', 'group', 'count_user']\n",
        "user_region"
      ]
    },
    {
      "cell_type": "code",
      "execution_count": null,
      "metadata": {
        "id": "-kO_2hbe9ms-",
        "outputId": "5c7693b9-732e-491e-dab8-75b051acbdb5"
      },
      "outputs": [
        {
          "data": {
            "image/png": "[encoded data removed]",
            "text/plain": [
              "<Figure size 1080x504 with 1 Axes>"
            ]
          },
          "metadata": {
            "needs_background": "light"
          },
          "output_type": "display_data"
        }
      ],
      "source": [
        "# Membuat bar untuk membandingkan jumlah pengguna berdsarkan wilayah untuk kelompok A dan kelompok B\n",
        "\n",
        "# Membuat ukuran chartnya\n",
        "plt.figure(figsize=(15,7))\n",
        "# Membuat barnya\n",
        "ax = sns.barplot(x = user_region['region'], y = user_region['count_user'],\n",
        "                 hue = user_region['group'])\n",
        "# Membuat keterangan jumlah kejadian di atas bar\n",
        "for p in ax.patches:\n",
        "    ax.annotate(str(p.get_height().round()), (p.get_x() + 0.1, p.get_height() + 50))\n",
        "\n",
        "# Membuat title\n",
        "plt.title('Jumlah Pengguna Berdasarkan Wilayah Untuk Kelompok A dan Kelompok B')\n",
        "# Mendeskripsikan sumbu x\n",
        "plt.xlabel('Wilayah')\n",
        "# Mendeskripsikan sumbu y\n",
        "plt.ylabel('Jumlah Pengguna')\n",
        "# Menampilkan\n",
        "plt.show()"
      ]
    },
    {
      "cell_type": "markdown",
      "metadata": {
        "id": "fi5NpgVH9ms_"
      },
      "source": [
        "Kesimpulan:\n",
        "\n",
        "Bahwa dari semua pengguna di berbagai wilayah, EU (Uni Eropa) yang mempunyai aktivitas yang sangat tinggi baik kelompok A maupun kelompok B di banding wilayah lain seperti CIS, APAC, dan N.Amerika. Tetapi untuk perbandingan kelompok untuk pengguna di wilayah EU sangat lah tinggi yang dimana pengguna kelompok A (kontrol) sangat tinggi dibanding pengguna kelompok B (kelompok uji pembayaran yang baru)."
      ]
    },
    {
      "cell_type": "markdown",
      "metadata": {
        "id": "LtXfCUuS9mtA"
      },
      "source": [
        "#### Melihat Kelompok A dan B Berdasarkan Device"
      ]
    },
    {
      "cell_type": "code",
      "execution_count": null,
      "metadata": {
        "id": "ok9MMI5a9mtB",
        "outputId": "0669adbb-fb61-4829-ad46-6db3747142c1"
      },
      "outputs": [
        {
          "data": {
            "text/html": [
              "<div>\n",
              "<style scoped>\n",
              "    .dataframe tbody tr th:only-of-type {\n",
              "        vertical-align: middle;\n",
              "    }\n",
              "\n",
              "    .dataframe tbody tr th {\n",
              "        vertical-align: top;\n",
              "    }\n",
              "\n",
              "    .dataframe thead th {\n",
              "        text-align: right;\n",
              "    }\n",
              "</style>\n",
              "<table border=\"1\" class=\"dataframe\">\n",
              "  <thead>\n",
              "    <tr style=\"text-align: right;\">\n",
              "      <th></th>\n",
              "      <th>device</th>\n",
              "      <th>group</th>\n",
              "      <th>count_event</th>\n",
              "    </tr>\n",
              "  </thead>\n",
              "  <tbody>\n",
              "    <tr>\n",
              "      <th>0</th>\n",
              "      <td>Android</td>\n",
              "      <td>A</td>\n",
              "      <td>8011</td>\n",
              "    </tr>\n",
              "    <tr>\n",
              "      <th>1</th>\n",
              "      <td>Android</td>\n",
              "      <td>B</td>\n",
              "      <td>2430</td>\n",
              "    </tr>\n",
              "    <tr>\n",
              "      <th>2</th>\n",
              "      <td>Mac</td>\n",
              "      <td>A</td>\n",
              "      <td>1897</td>\n",
              "    </tr>\n",
              "    <tr>\n",
              "      <th>3</th>\n",
              "      <td>Mac</td>\n",
              "      <td>B</td>\n",
              "      <td>421</td>\n",
              "    </tr>\n",
              "    <tr>\n",
              "      <th>4</th>\n",
              "      <td>PC</td>\n",
              "      <td>A</td>\n",
              "      <td>4877</td>\n",
              "    </tr>\n",
              "    <tr>\n",
              "      <th>5</th>\n",
              "      <td>PC</td>\n",
              "      <td>B</td>\n",
              "      <td>1245</td>\n",
              "    </tr>\n",
              "    <tr>\n",
              "      <th>6</th>\n",
              "      <td>iPhone</td>\n",
              "      <td>A</td>\n",
              "      <td>3842</td>\n",
              "    </tr>\n",
              "    <tr>\n",
              "      <th>7</th>\n",
              "      <td>iPhone</td>\n",
              "      <td>B</td>\n",
              "      <td>1186</td>\n",
              "    </tr>\n",
              "  </tbody>\n",
              "</table>\n",
              "</div>"
            ],
            "text/plain": [
              "    device group  count_event\n",
              "0  Android     A         8011\n",
              "1  Android     B         2430\n",
              "2      Mac     A         1897\n",
              "3      Mac     B          421\n",
              "4       PC     A         4877\n",
              "5       PC     B         1245\n",
              "6   iPhone     A         3842\n",
              "7   iPhone     B         1186"
            ]
          },
          "execution_count": 123,
          "metadata": {},
          "output_type": "execute_result"
        }
      ],
      "source": [
        "# Melihat jumlah total kejadian di berdsarkan device untuk kelompok A dan kelompok B\n",
        "count_device = df_final.groupby(['device', 'group']).agg({'user_id' : 'count'}).reset_index()\n",
        "count_device.columns = ['device', 'group', 'count_event']\n",
        "count_device"
      ]
    },
    {
      "cell_type": "code",
      "execution_count": null,
      "metadata": {
        "id": "73fT02wT9mtC",
        "outputId": "185a8263-8007-4acf-8006-3f62ec356a41"
      },
      "outputs": [
        {
          "data": {
            "image/png": "[encoded data removed]",
            "text/plain": [
              "<Figure size 1080x504 with 1 Axes>"
            ]
          },
          "metadata": {
            "needs_background": "light"
          },
          "output_type": "display_data"
        }
      ],
      "source": [
        "# Membuat bar untuk membandingkan kejadian berdsarkan device untuk kelompok A dan kelompok B\n",
        "\n",
        "# Membuat ukuran chartnya\n",
        "plt.figure(figsize=(15,7))\n",
        "# Membuat barnya\n",
        "ax = sns.barplot(x = count_device['device'], y = count_device['count_event'],\n",
        "                 hue = count_device['group'])\n",
        "# Membuat keterangan jumlah kejadian di atas bar\n",
        "for p in ax.patches:\n",
        "    ax.annotate(str(p.get_height().round()), (p.get_x() + 0.1, p.get_height() + 300))\n",
        "\n",
        "# Membuat title\n",
        "plt.title('Jumlah Semua Kejadian Berdasarkan Device Untuk Kelompok A dan Kelompok B')\n",
        "# Mendeskripsikan sumbu x\n",
        "plt.xlabel('Device')\n",
        "# Mendeskripsikan sumbu y\n",
        "plt.ylabel('Jumlah Semua Kejadian')\n",
        "# Menampilkan\n",
        "plt.show()"
      ]
    },
    {
      "cell_type": "markdown",
      "metadata": {
        "id": "ut2NDEmm9mtD"
      },
      "source": [
        "Kesimpulan:\n",
        "\n",
        "Bahwa dari semua kejadian berdasarkan device, device Andriod yang mempunyai aktivitas yang sangat tinggi baik kelompok A maupun kelompok B, urutan kedua ditempati oleh device PC, ketiga oleh device iPhone, dan terakhir adalah pengguna device Mac. Tetapi untuk perbandingan kelompok untuk kejadian device Android sangat lah tinggi yang dimana pengguna kelompok A (kontrol) sangat tinggi dibanding kejadian kelompok B (kelompok uji pembayaran yang baru)."
      ]
    },
    {
      "cell_type": "code",
      "execution_count": null,
      "metadata": {
        "id": "CC0rlZNW9mtE",
        "outputId": "6865f356-b415-4109-b13b-e2c82c171192"
      },
      "outputs": [
        {
          "data": {
            "text/html": [
              "<div>\n",
              "<style scoped>\n",
              "    .dataframe tbody tr th:only-of-type {\n",
              "        vertical-align: middle;\n",
              "    }\n",
              "\n",
              "    .dataframe tbody tr th {\n",
              "        vertical-align: top;\n",
              "    }\n",
              "\n",
              "    .dataframe thead th {\n",
              "        text-align: right;\n",
              "    }\n",
              "</style>\n",
              "<table border=\"1\" class=\"dataframe\">\n",
              "  <thead>\n",
              "    <tr style=\"text-align: right;\">\n",
              "      <th></th>\n",
              "      <th>device</th>\n",
              "      <th>group</th>\n",
              "      <th>count_user</th>\n",
              "    </tr>\n",
              "  </thead>\n",
              "  <tbody>\n",
              "    <tr>\n",
              "      <th>0</th>\n",
              "      <td>Android</td>\n",
              "      <td>A</td>\n",
              "      <td>1197</td>\n",
              "    </tr>\n",
              "    <tr>\n",
              "      <th>1</th>\n",
              "      <td>Android</td>\n",
              "      <td>B</td>\n",
              "      <td>428</td>\n",
              "    </tr>\n",
              "    <tr>\n",
              "      <th>2</th>\n",
              "      <td>Mac</td>\n",
              "      <td>A</td>\n",
              "      <td>270</td>\n",
              "    </tr>\n",
              "    <tr>\n",
              "      <th>3</th>\n",
              "      <td>Mac</td>\n",
              "      <td>B</td>\n",
              "      <td>76</td>\n",
              "    </tr>\n",
              "    <tr>\n",
              "      <th>4</th>\n",
              "      <td>PC</td>\n",
              "      <td>A</td>\n",
              "      <td>726</td>\n",
              "    </tr>\n",
              "    <tr>\n",
              "      <th>5</th>\n",
              "      <td>PC</td>\n",
              "      <td>B</td>\n",
              "      <td>227</td>\n",
              "    </tr>\n",
              "    <tr>\n",
              "      <th>6</th>\n",
              "      <td>iPhone</td>\n",
              "      <td>A</td>\n",
              "      <td>554</td>\n",
              "    </tr>\n",
              "    <tr>\n",
              "      <th>7</th>\n",
              "      <td>iPhone</td>\n",
              "      <td>B</td>\n",
              "      <td>197</td>\n",
              "    </tr>\n",
              "  </tbody>\n",
              "</table>\n",
              "</div>"
            ],
            "text/plain": [
              "    device group  count_user\n",
              "0  Android     A        1197\n",
              "1  Android     B         428\n",
              "2      Mac     A         270\n",
              "3      Mac     B          76\n",
              "4       PC     A         726\n",
              "5       PC     B         227\n",
              "6   iPhone     A         554\n",
              "7   iPhone     B         197"
            ]
          },
          "execution_count": 125,
          "metadata": {},
          "output_type": "execute_result"
        }
      ],
      "source": [
        "# Melihat jumlah total pengguna di berdsarkan device untuk kelompok A dan kelompok B\n",
        "user_device = df_final.groupby(['device', 'group']).agg({'user_id' : 'nunique'}).reset_index()\n",
        "user_device.columns = ['device', 'group', 'count_user']\n",
        "user_device"
      ]
    },
    {
      "cell_type": "code",
      "execution_count": null,
      "metadata": {
        "id": "aS4f3r439mtF",
        "outputId": "ff9a039a-55f4-492e-df57-5a51a3ea5ce0"
      },
      "outputs": [
        {
          "data": {
            "image/png": "[encoded data removed]",
            "text/plain": [
              "<Figure size 1080x504 with 1 Axes>"
            ]
          },
          "metadata": {
            "needs_background": "light"
          },
          "output_type": "display_data"
        }
      ],
      "source": [
        "# Membuat bar untuk membandingkan kejadian berdsarkan device untuk kelompok A dan kelompok B\n",
        "\n",
        "# Membuat ukuran chartnya\n",
        "plt.figure(figsize=(15,7))\n",
        "# Membuat barnya\n",
        "ax = sns.barplot(x = user_device['device'], y = user_device['count_user'],\n",
        "                 hue = user_device['group'])\n",
        "# Membuat keterangan jumlah kejadian di atas bar\n",
        "for p in ax.patches:\n",
        "    ax.annotate(str(p.get_height().round()), (p.get_x() + 0.1, p.get_height() + 300))\n",
        "\n",
        "# Membuat title\n",
        "plt.title('Jumlah Total Pengguna Berdasarkan Device Untuk Kelompok A dan Kelompok B')\n",
        "# Mendeskripsikan sumbu x\n",
        "plt.xlabel('Device')\n",
        "# Mendeskripsikan sumbu y\n",
        "plt.ylabel('Jumlah Total Pengguna')\n",
        "# Menampilkan\n",
        "plt.show()"
      ]
    },
    {
      "cell_type": "markdown",
      "metadata": {
        "id": "2HUtHYCL9mtF"
      },
      "source": [
        "Kesimpulan:\n",
        "\n",
        "Bahwa dari semua pengguna berdasarkan device, device Andriod yang mempunyai aktivitas yang sangat tinggi baik kelompok A maupun kelompok B, urutan kedua ditempati oleh device PC, ketiga oleh device iPhone, dan terakhir adalah pengguna device Mac. Tetapi untuk perbandingan kelompok untuk pengguna device Android sangat lah tinggi yang dimana pengguna kelompok A (kontrol) sangat tinggi dibanding pengguna kelompok B (kelompok uji pembayaran yang baru)."
      ]
    },
    {
      "cell_type": "markdown",
      "metadata": {
        "id": "FszFzMIf9mtG"
      },
      "source": [
        "#### Melihat Kelompok A dan B Berdasarkan Konversi Kejadian/Peristiwa"
      ]
    },
    {
      "cell_type": "code",
      "execution_count": null,
      "metadata": {
        "id": "nyNQzG4f9mtH",
        "outputId": "f089526d-2c6e-42bd-89e9-b1c54bfdb939"
      },
      "outputs": [
        {
          "data": {
            "text/html": [
              "<div>\n",
              "<style scoped>\n",
              "    .dataframe tbody tr th:only-of-type {\n",
              "        vertical-align: middle;\n",
              "    }\n",
              "\n",
              "    .dataframe tbody tr th {\n",
              "        vertical-align: top;\n",
              "    }\n",
              "\n",
              "    .dataframe thead th {\n",
              "        text-align: right;\n",
              "    }\n",
              "</style>\n",
              "<table border=\"1\" class=\"dataframe\">\n",
              "  <thead>\n",
              "    <tr style=\"text-align: right;\">\n",
              "      <th></th>\n",
              "      <th>event_name</th>\n",
              "      <th>group</th>\n",
              "      <th>count_event</th>\n",
              "    </tr>\n",
              "  </thead>\n",
              "  <tbody>\n",
              "    <tr>\n",
              "      <th>0</th>\n",
              "      <td>login</td>\n",
              "      <td>A</td>\n",
              "      <td>8272</td>\n",
              "    </tr>\n",
              "    <tr>\n",
              "      <th>1</th>\n",
              "      <td>login</td>\n",
              "      <td>B</td>\n",
              "      <td>2565</td>\n",
              "    </tr>\n",
              "    <tr>\n",
              "      <th>2</th>\n",
              "      <td>product_cart</td>\n",
              "      <td>A</td>\n",
              "      <td>2482</td>\n",
              "    </tr>\n",
              "    <tr>\n",
              "      <th>3</th>\n",
              "      <td>product_cart</td>\n",
              "      <td>B</td>\n",
              "      <td>678</td>\n",
              "    </tr>\n",
              "    <tr>\n",
              "      <th>4</th>\n",
              "      <td>product_page</td>\n",
              "      <td>A</td>\n",
              "      <td>5328</td>\n",
              "    </tr>\n",
              "    <tr>\n",
              "      <th>5</th>\n",
              "      <td>product_page</td>\n",
              "      <td>B</td>\n",
              "      <td>1374</td>\n",
              "    </tr>\n",
              "    <tr>\n",
              "      <th>6</th>\n",
              "      <td>purchase</td>\n",
              "      <td>A</td>\n",
              "      <td>2545</td>\n",
              "    </tr>\n",
              "    <tr>\n",
              "      <th>7</th>\n",
              "      <td>purchase</td>\n",
              "      <td>B</td>\n",
              "      <td>665</td>\n",
              "    </tr>\n",
              "  </tbody>\n",
              "</table>\n",
              "</div>"
            ],
            "text/plain": [
              "     event_name group  count_event\n",
              "0         login     A         8272\n",
              "1         login     B         2565\n",
              "2  product_cart     A         2482\n",
              "3  product_cart     B          678\n",
              "4  product_page     A         5328\n",
              "5  product_page     B         1374\n",
              "6      purchase     A         2545\n",
              "7      purchase     B          665"
            ]
          },
          "execution_count": 115,
          "metadata": {},
          "output_type": "execute_result"
        }
      ],
      "source": [
        "# Melihat jumlah total kejadian berdsarkan Konversi Kejadian/Peristiwa untuk kelompok A dan kelompok B\n",
        "count_event = df_final.groupby(['event_name', 'group']).agg({'user_id' : 'count'}).reset_index()\n",
        "count_event.columns = ['event_name', 'group', 'count_event']\n",
        "count_event"
      ]
    },
    {
      "cell_type": "code",
      "execution_count": null,
      "metadata": {
        "id": "nIntSjDJ9mtH",
        "outputId": "9448e070-f0b4-4a93-b6a3-0fd8c71093af"
      },
      "outputs": [
        {
          "data": {
            "image/png": "[encoded data removed]",
            "text/plain": [
              "<Figure size 1080x504 with 1 Axes>"
            ]
          },
          "metadata": {
            "needs_background": "light"
          },
          "output_type": "display_data"
        }
      ],
      "source": [
        "# Membuat bar untuk membandingkan kejadian berdsarkan Konversi Kejadian/Peristiwa untuk kelompok A dan kelompok B\n",
        "\n",
        "# Membuat ukuran chartnya\n",
        "plt.figure(figsize=(15,7))\n",
        "# Membuat barnya\n",
        "ax = sns.barplot(x = count_event['event_name'], y = count_event['count_event'],\n",
        "                 hue = count_event['group'])\n",
        "# Membuat keterangan jumlah kejadian di atas bar\n",
        "for p in ax.patches:\n",
        "    ax.annotate(str(p.get_height().round()), (p.get_x() + 0.1, p.get_height() + 150))\n",
        "\n",
        "# Membuat title\n",
        "plt.title('Jumlah Semua Kejadian Berdasarkan Konversi Kejadian/Peristiwa Untuk Kelompok A dan Kelompok B')\n",
        "# Mendeskripsikan sumbu x\n",
        "plt.xlabel('Konversi Kejadian/Peristiwa')\n",
        "# Mendeskripsikan sumbu y\n",
        "plt.ylabel('Jumlah Semua Kejadian')\n",
        "# Menampilkan\n",
        "plt.show()"
      ]
    },
    {
      "cell_type": "markdown",
      "metadata": {
        "id": "uPhuOhuc9mtI"
      },
      "source": [
        "Kesimpulan:\n",
        "\n",
        "Untuk konversi setiap peristiwa/kejadian bahwa kelompok A jauh lebih banyak untuk aktivitasnya di banding kelompok B."
      ]
    },
    {
      "cell_type": "code",
      "execution_count": null,
      "metadata": {
        "id": "g9SUckkK9mtJ",
        "outputId": "a20d8520-53e9-40b4-e910-9d01df22a54b"
      },
      "outputs": [
        {
          "data": {
            "text/html": [
              "<div>\n",
              "<style scoped>\n",
              "    .dataframe tbody tr th:only-of-type {\n",
              "        vertical-align: middle;\n",
              "    }\n",
              "\n",
              "    .dataframe tbody tr th {\n",
              "        vertical-align: top;\n",
              "    }\n",
              "\n",
              "    .dataframe thead th {\n",
              "        text-align: right;\n",
              "    }\n",
              "</style>\n",
              "<table border=\"1\" class=\"dataframe\">\n",
              "  <thead>\n",
              "    <tr style=\"text-align: right;\">\n",
              "      <th></th>\n",
              "      <th>event_name</th>\n",
              "      <th>group</th>\n",
              "      <th>count_user</th>\n",
              "    </tr>\n",
              "  </thead>\n",
              "  <tbody>\n",
              "    <tr>\n",
              "      <th>0</th>\n",
              "      <td>login</td>\n",
              "      <td>A</td>\n",
              "      <td>2747</td>\n",
              "    </tr>\n",
              "    <tr>\n",
              "      <th>1</th>\n",
              "      <td>login</td>\n",
              "      <td>B</td>\n",
              "      <td>927</td>\n",
              "    </tr>\n",
              "    <tr>\n",
              "      <th>2</th>\n",
              "      <td>product_cart</td>\n",
              "      <td>A</td>\n",
              "      <td>824</td>\n",
              "    </tr>\n",
              "    <tr>\n",
              "      <th>3</th>\n",
              "      <td>product_cart</td>\n",
              "      <td>B</td>\n",
              "      <td>255</td>\n",
              "    </tr>\n",
              "    <tr>\n",
              "      <th>4</th>\n",
              "      <td>product_page</td>\n",
              "      <td>A</td>\n",
              "      <td>1780</td>\n",
              "    </tr>\n",
              "    <tr>\n",
              "      <th>5</th>\n",
              "      <td>product_page</td>\n",
              "      <td>B</td>\n",
              "      <td>523</td>\n",
              "    </tr>\n",
              "    <tr>\n",
              "      <th>6</th>\n",
              "      <td>purchase</td>\n",
              "      <td>A</td>\n",
              "      <td>872</td>\n",
              "    </tr>\n",
              "    <tr>\n",
              "      <th>7</th>\n",
              "      <td>purchase</td>\n",
              "      <td>B</td>\n",
              "      <td>256</td>\n",
              "    </tr>\n",
              "  </tbody>\n",
              "</table>\n",
              "</div>"
            ],
            "text/plain": [
              "     event_name group  count_user\n",
              "0         login     A        2747\n",
              "1         login     B         927\n",
              "2  product_cart     A         824\n",
              "3  product_cart     B         255\n",
              "4  product_page     A        1780\n",
              "5  product_page     B         523\n",
              "6      purchase     A         872\n",
              "7      purchase     B         256"
            ]
          },
          "execution_count": 117,
          "metadata": {},
          "output_type": "execute_result"
        }
      ],
      "source": [
        "# Melihat jumlah pengguna berdsarkan peristiwa funnel untuk kelompok A dan kelompok B\n",
        "user_event = df_final.groupby(['event_name', 'group']).agg({'user_id' : 'nunique'}).reset_index()\n",
        "user_event.columns = ['event_name', 'group', 'count_user']\n",
        "user_event"
      ]
    },
    {
      "cell_type": "code",
      "execution_count": null,
      "metadata": {
        "id": "6zTGKqWG9mtJ",
        "outputId": "c4d7bb81-734d-46e6-fbe1-edad8111df13"
      },
      "outputs": [
        {
          "data": {
            "image/png": "[encoded data removed]",
            "text/plain": [
              "<Figure size 1080x504 with 1 Axes>"
            ]
          },
          "metadata": {
            "needs_background": "light"
          },
          "output_type": "display_data"
        }
      ],
      "source": [
        "# Membuat bar untuk membandingkan jumlah pengguna berdsarkan Konversi Kejadian/Peristiwa untuk kelompok A dan kelompok B\n",
        "\n",
        "# Membuat ukuran chartnya\n",
        "plt.figure(figsize=(15,7))\n",
        "# Membuat barnya\n",
        "ax = sns.barplot(x = user_event['event_name'], y = user_event['count_user'],\n",
        "                 hue = user_event['group'])\n",
        "# Membuat keterangan jumlah kejadian di atas bar\n",
        "for p in ax.patches:\n",
        "    ax.annotate(str(p.get_height().round()), (p.get_x() + 0.1, p.get_height() + 50))\n",
        "\n",
        "# Membuat title\n",
        "plt.title('Jumlah Pengguna Berdasarkan Konversi Kejadian/Peristiwa Untuk Kelompok A dan Kelompok B')\n",
        "# Mendeskripsikan sumbu x\n",
        "plt.xlabel('Konversi Kejadian/Peristiwa')\n",
        "# Mendeskripsikan sumbu y\n",
        "plt.ylabel('Jumlah Pengguna')\n",
        "# Menampilkan\n",
        "plt.show()"
      ]
    },
    {
      "cell_type": "markdown",
      "metadata": {
        "id": "LyWqC4mP9mtJ"
      },
      "source": [
        "Kesimpulan:\n",
        "\n",
        "Untuk konversi setiap peristiwa/kejadian bahwa kelompok A jauh lebih banyak untuk penggunanya di banding kelompok B."
      ]
    },
    {
      "cell_type": "markdown",
      "metadata": {
        "id": "-iWeLiFs9mtK"
      },
      "source": [
        "#### Melihat Kelompok A dan B Berdasarkan Promo"
      ]
    },
    {
      "cell_type": "code",
      "execution_count": null,
      "metadata": {
        "id": "W_YAizpI9mtL",
        "outputId": "14e0bf61-1a9c-42ce-c5a6-4107bf536bdb"
      },
      "outputs": [
        {
          "data": {
            "text/html": [
              "<div>\n",
              "<style scoped>\n",
              "    .dataframe tbody tr th:only-of-type {\n",
              "        vertical-align: middle;\n",
              "    }\n",
              "\n",
              "    .dataframe tbody tr th {\n",
              "        vertical-align: top;\n",
              "    }\n",
              "\n",
              "    .dataframe thead th {\n",
              "        text-align: right;\n",
              "    }\n",
              "</style>\n",
              "<table border=\"1\" class=\"dataframe\">\n",
              "  <thead>\n",
              "    <tr style=\"text-align: right;\">\n",
              "      <th></th>\n",
              "      <th>promo</th>\n",
              "      <th>group</th>\n",
              "      <th>promo_user_count</th>\n",
              "    </tr>\n",
              "  </thead>\n",
              "  <tbody>\n",
              "    <tr>\n",
              "      <th>0</th>\n",
              "      <td>Christmas &amp; New Year Promo</td>\n",
              "      <td>A</td>\n",
              "      <td>809</td>\n",
              "    </tr>\n",
              "    <tr>\n",
              "      <th>1</th>\n",
              "      <td>Christmas &amp; New Year Promo</td>\n",
              "      <td>B</td>\n",
              "      <td>183</td>\n",
              "    </tr>\n",
              "    <tr>\n",
              "      <th>2</th>\n",
              "      <td>Non-Promo</td>\n",
              "      <td>A</td>\n",
              "      <td>1938</td>\n",
              "    </tr>\n",
              "    <tr>\n",
              "      <th>3</th>\n",
              "      <td>Non-Promo</td>\n",
              "      <td>B</td>\n",
              "      <td>745</td>\n",
              "    </tr>\n",
              "  </tbody>\n",
              "</table>\n",
              "</div>"
            ],
            "text/plain": [
              "                        promo group  promo_user_count\n",
              "0  Christmas & New Year Promo     A               809\n",
              "1  Christmas & New Year Promo     B               183\n",
              "2                   Non-Promo     A              1938\n",
              "3                   Non-Promo     B               745"
            ]
          },
          "execution_count": 119,
          "metadata": {},
          "output_type": "execute_result"
        }
      ],
      "source": [
        "# Melihat jumlah pengguna berdsarkan promo untuk kelompok A dan kelompok B \n",
        "promo_user_count = df_final.groupby(['promo', 'group']).agg({'user_id' : 'nunique'}).reset_index()\n",
        "promo_user_count.columns = ['promo', 'group', 'promo_user_count']\n",
        "promo_user_count"
      ]
    },
    {
      "cell_type": "code",
      "execution_count": null,
      "metadata": {
        "id": "Q_0caU959mtL",
        "outputId": "3f0231d1-0959-4b1b-c8ff-e8cffadec6c6"
      },
      "outputs": [
        {
          "data": {
            "image/png": "[encoded data removed]",
            "text/plain": [
              "<Figure size 1080x504 with 1 Axes>"
            ]
          },
          "metadata": {
            "needs_background": "light"
          },
          "output_type": "display_data"
        }
      ],
      "source": [
        "# Membuat bar untuk membandingkan jumlah pengguna berdsarkan promo untuk kelompok A dan kelompok B\n",
        "\n",
        "# Membuat ukuran chartnya\n",
        "plt.figure(figsize=(15,7))\n",
        "# Membuat barnya\n",
        "ax = sns.barplot(x = promo_user_count['promo'], y = promo_user_count['promo_user_count'],\n",
        "                 hue = promo_user_count['group'])\n",
        "# Membuat keterangan jumlah kejadian di atas bar\n",
        "for p in ax.patches:\n",
        "    ax.annotate(str(p.get_height().round()), (p.get_x() + 0.1, p.get_height() + 50))\n",
        "\n",
        "# Membuat title\n",
        "plt.title('Jumlah Pengguna Berdasarkan Promo Untuk Kelompok A dan Kelompok B')\n",
        "# Mendeskripsikan sumbu x\n",
        "plt.xlabel('Jenis Promo')\n",
        "# Mendeskripsikan sumbu y\n",
        "plt.ylabel('Jumlah Pengguna')\n",
        "# Menampilkan\n",
        "plt.show()"
      ]
    },
    {
      "cell_type": "markdown",
      "metadata": {
        "id": "o56si0mS9mtM"
      },
      "source": [
        "Kesimpulan:\n",
        "\n",
        "Untuk promo bahwa pengguna kelompok A jauh lebih banyak untuk pengguna di banding kelompok B."
      ]
    },
    {
      "cell_type": "markdown",
      "metadata": {
        "id": "nUNCjP3m9mtN"
      },
      "source": [
        "#### Melihat Kelompok A dan B Berdasarkan Hasil Penjualannya"
      ]
    },
    {
      "cell_type": "code",
      "execution_count": null,
      "metadata": {
        "id": "xdYNFQ5Q9mtN",
        "outputId": "9c56cbde-23c8-45dd-ccce-090b5971d531"
      },
      "outputs": [
        {
          "data": {
            "text/html": [
              "<div>\n",
              "<style scoped>\n",
              "    .dataframe tbody tr th:only-of-type {\n",
              "        vertical-align: middle;\n",
              "    }\n",
              "\n",
              "    .dataframe tbody tr th {\n",
              "        vertical-align: top;\n",
              "    }\n",
              "\n",
              "    .dataframe thead th {\n",
              "        text-align: right;\n",
              "    }\n",
              "</style>\n",
              "<table border=\"1\" class=\"dataframe\">\n",
              "  <thead>\n",
              "    <tr style=\"text-align: right;\">\n",
              "      <th></th>\n",
              "      <th>promo</th>\n",
              "      <th>total_revenue</th>\n",
              "    </tr>\n",
              "  </thead>\n",
              "  <tbody>\n",
              "    <tr>\n",
              "      <th>0</th>\n",
              "      <td>A</td>\n",
              "      <td>58489.55</td>\n",
              "    </tr>\n",
              "    <tr>\n",
              "      <th>1</th>\n",
              "      <td>B</td>\n",
              "      <td>15103.35</td>\n",
              "    </tr>\n",
              "  </tbody>\n",
              "</table>\n",
              "</div>"
            ],
            "text/plain": [
              "  promo  total_revenue\n",
              "0     A       58489.55\n",
              "1     B       15103.35"
            ]
          },
          "execution_count": 121,
          "metadata": {},
          "output_type": "execute_result"
        }
      ],
      "source": [
        "# Melihat hasil penjualan berdasarkan kelompok A dan kelompok B\n",
        "total_revenue_group = df_final.groupby('group').agg({'details' : 'sum'}).reset_index()\n",
        "total_revenue_group.columns = ['promo', 'total_revenue']\n",
        "total_revenue_group"
      ]
    },
    {
      "cell_type": "code",
      "execution_count": null,
      "metadata": {
        "id": "UQhu_0-G9mtO",
        "outputId": "f2d54d10-ada1-42d6-9830-fc7ce6495d5f"
      },
      "outputs": [
        {
          "data": {
            "image/png": "[encoded data removed]",
            "text/plain": [
              "<Figure size 1080x504 with 1 Axes>"
            ]
          },
          "metadata": {
            "needs_background": "light"
          },
          "output_type": "display_data"
        }
      ],
      "source": [
        "# Membuat bar untuk membandingkan hasil penjualan untuk kelompok A dan kelompok B\n",
        "\n",
        "# Membuat ukuran chartnya\n",
        "plt.figure(figsize=(15,7))\n",
        "# Membuat barnya\n",
        "ax = sns.barplot(x = total_revenue_group['promo'], y = total_revenue_group['total_revenue'])\n",
        "# Membuat keterangan jumlah kejadian di atas bar\n",
        "for p in ax.patches:\n",
        "    ax.annotate(str(p.get_height().round()), (p.get_x() + 0.1, p.get_height() + 300))\n",
        "\n",
        "# Membuat title\n",
        "plt.title('Jumlah Total Penjualan Untuk Kelompok A dan Kelompok B')\n",
        "# Mendeskripsikan sumbu x\n",
        "plt.xlabel('Kelompok')\n",
        "# Mendeskripsikan sumbu y\n",
        "plt.ylabel('Penjualan')\n",
        "# Menampilkan\n",
        "plt.show()"
      ]
    },
    {
      "cell_type": "markdown",
      "metadata": {
        "id": "j0W4DlXP9mtP"
      },
      "source": [
        "Kesimpulan:\n",
        "\n",
        "Bahwa kelompok A lebih banyak untuk menghasilkan pendapatan daripada kelompok B."
      ]
    },
    {
      "cell_type": "markdown",
      "metadata": {
        "id": "CjgGuiKS9mtQ"
      },
      "source": [
        "### Gunakan uji z atau z-test untuk menguji perbedaan statistik di antara proporsinya."
      ]
    },
    {
      "cell_type": "markdown",
      "metadata": {
        "id": "xLm_ym2J9mtQ"
      },
      "source": [
        "Adapun sebelum menguji hipotsis terkait signifikansinya untuk perbedaan pengguna yang mengeklik halaman-halaman tersebut antara kelompok A (Kontrol) dengan kelompok B (Uji kelompok (corong pembayaran yang baru), maka dibuat pernyataan terlebih dahulu.\n",
        "\n",
        "H0 : Bahwa tidak ada perbedaan secara signifikan antara kelompok A dengan kelompok B terhadap perbedaan pengguna yang mengeklik halaman-halaman tersebut.\n",
        "\n",
        "H1 : Bahwa ada perbedaan secara signifikan antara kelompok A dengan kelompok B terhadap perbedaan pengguna yang mengeklik halaman-halaman tersebut."
      ]
    },
    {
      "cell_type": "code",
      "execution_count": null,
      "metadata": {
        "id": "3aJn5XgR9mtR",
        "outputId": "b707f6bb-1f62-4ea4-c658-57296ce13821"
      },
      "outputs": [
        {
          "data": {
            "text/html": [
              "<div>\n",
              "<style scoped>\n",
              "    .dataframe tbody tr th:only-of-type {\n",
              "        vertical-align: middle;\n",
              "    }\n",
              "\n",
              "    .dataframe tbody tr th {\n",
              "        vertical-align: top;\n",
              "    }\n",
              "\n",
              "    .dataframe thead th {\n",
              "        text-align: right;\n",
              "    }\n",
              "</style>\n",
              "<table border=\"1\" class=\"dataframe\">\n",
              "  <thead>\n",
              "    <tr style=\"text-align: right;\">\n",
              "      <th>group</th>\n",
              "      <th>A</th>\n",
              "      <th>B</th>\n",
              "    </tr>\n",
              "    <tr>\n",
              "      <th>event_name</th>\n",
              "      <th></th>\n",
              "      <th></th>\n",
              "    </tr>\n",
              "  </thead>\n",
              "  <tbody>\n",
              "    <tr>\n",
              "      <th>login</th>\n",
              "      <td>2747</td>\n",
              "      <td>927</td>\n",
              "    </tr>\n",
              "    <tr>\n",
              "      <th>product_cart</th>\n",
              "      <td>824</td>\n",
              "      <td>255</td>\n",
              "    </tr>\n",
              "    <tr>\n",
              "      <th>product_page</th>\n",
              "      <td>1780</td>\n",
              "      <td>523</td>\n",
              "    </tr>\n",
              "    <tr>\n",
              "      <th>purchase</th>\n",
              "      <td>872</td>\n",
              "      <td>256</td>\n",
              "    </tr>\n",
              "  </tbody>\n",
              "</table>\n",
              "</div>"
            ],
            "text/plain": [
              "group            A    B\n",
              "event_name             \n",
              "login         2747  927\n",
              "product_cart   824  255\n",
              "product_page  1780  523\n",
              "purchase       872  256"
            ]
          },
          "execution_count": 129,
          "metadata": {},
          "output_type": "execute_result"
        }
      ],
      "source": [
        "# Memfilter / Agregasi berdasarkan kelompok eksperimennya\n",
        "user_events_per_exp_group = df_final.pivot_table(index='event_name',\n",
        "                                                 values='user_id',\n",
        "                                                 columns='group',\n",
        "                                                 aggfunc='nunique')\n",
        "user_events_per_exp_group"
      ]
    },
    {
      "cell_type": "code",
      "execution_count": null,
      "metadata": {
        "id": "jMMBmvtW9mtS",
        "outputId": "bfdb3e38-bd0d-4e6b-d024-1e6bf1b1173d"
      },
      "outputs": [
        {
          "data": {
            "text/html": [
              "<div>\n",
              "<style scoped>\n",
              "    .dataframe tbody tr th:only-of-type {\n",
              "        vertical-align: middle;\n",
              "    }\n",
              "\n",
              "    .dataframe tbody tr th {\n",
              "        vertical-align: top;\n",
              "    }\n",
              "\n",
              "    .dataframe thead th {\n",
              "        text-align: right;\n",
              "    }\n",
              "</style>\n",
              "<table border=\"1\" class=\"dataframe\">\n",
              "  <thead>\n",
              "    <tr style=\"text-align: right;\">\n",
              "      <th></th>\n",
              "      <th>user_id</th>\n",
              "    </tr>\n",
              "    <tr>\n",
              "      <th>group</th>\n",
              "      <th></th>\n",
              "    </tr>\n",
              "  </thead>\n",
              "  <tbody>\n",
              "    <tr>\n",
              "      <th>A</th>\n",
              "      <td>2747</td>\n",
              "    </tr>\n",
              "    <tr>\n",
              "      <th>B</th>\n",
              "      <td>928</td>\n",
              "    </tr>\n",
              "  </tbody>\n",
              "</table>\n",
              "</div>"
            ],
            "text/plain": [
              "       user_id\n",
              "group         \n",
              "A         2747\n",
              "B          928"
            ]
          },
          "execution_count": 131,
          "metadata": {},
          "output_type": "execute_result"
        }
      ],
      "source": [
        "# Melihat jumlah untuk setiap kelompok eksperimen\n",
        "exp_user = df_final.pivot_table(index='group', values='user_id', aggfunc='nunique')\n",
        "exp_user"
      ]
    },
    {
      "cell_type": "code",
      "execution_count": null,
      "metadata": {
        "id": "HM7JyeDD9mtS"
      },
      "outputs": [],
      "source": [
        "# Membuat fungsi untuk uji hipotesis statistik perbedaan signifkan antara kelompok sampel\n",
        "\n",
        "def check_hypothesis(successes1, successes2, trials1, trials2, alpha=0.05):\n",
        "    # proporsi keberhasilan pada kelompok pertama:\n",
        "    p1 = successes1 / trials1\n",
        "\n",
        "    # proporsi keberhasilan pada kelompok kedua:\n",
        "    p2 = successes2 / trials2\n",
        "\n",
        "    # proporsi keberhasilan dalam kumpulan data gabungan: \n",
        "    p_combined = (successes1 + successes2) / (trials1 + trials2)\n",
        "\n",
        "    # perbedaan proporsi dalam kumpulan data\n",
        "    difference = p1 - p2\n",
        "\n",
        "    # menghitung statistik dalam simpangan baku dari distribusi normal baku\n",
        "    z_value = difference / (math.sqrt(p_combined * (1 - p_combined) * (1/trials1 + 1/trials2)))\n",
        "\n",
        "    # mengatur distribusi normal standar (nilai rata-rata 0, nilai standar deviasi 1)\n",
        "    distr = st.norm(0, 1)\n",
        "\n",
        "    \n",
        "    p_value = (1 - distr.cdf(abs(z_value))) * 2\n",
        "\n",
        "    print('p-value: ', p_value)\n",
        "\n",
        "    if (p_value < alpha):\n",
        "        print('Hipotesis nol ditolak: ada perbedaan statistik secara signifikan antara kedua kelompok tersebut')\n",
        "    else:\n",
        "        print('Hipotesis nol gagal ditolak: tidak ada perbedaan statistik secara signifikan antara kedua kelompok tersebut')"
      ]
    },
    {
      "cell_type": "code",
      "execution_count": null,
      "metadata": {
        "id": "7L8UxlGk9mtT",
        "outputId": "c87a1fa4-5f63-41bc-9777-961aeb53fece"
      },
      "outputs": [
        {
          "name": "stdout",
          "output_type": "stream",
          "text": [
            "Uji Hipotesis untuk layar Login\n",
            "p-value:  [0.0852986]\n",
            "Hipotesis nol gagal ditolak: tidak ada perbedaan statistik secara signifikan antara kedua kelompok tersebut\n",
            "\n",
            "Uji Hipotesis untuk layar Halaman Produk\n",
            "p-value:  [4.31098055e-06]\n",
            "Hipotesis nol ditolak: ada perbedaan statistik secara signifikan antara kedua kelompok tersebut\n",
            "\n",
            "Uji Hipotesis untuk layar Keranjang Produk\n",
            "p-value:  [0.14534815]\n",
            "Hipotesis nol gagal ditolak: tidak ada perbedaan statistik secara signifikan antara kedua kelompok tersebut\n",
            "\n",
            "Uji Hipotesis untuk layar Pembayaran\n",
            "p-value:  [0.0175924]\n",
            "Hipotesis nol ditolak: ada perbedaan statistik secara signifikan antara kedua kelompok tersebut\n"
          ]
        }
      ],
      "source": [
        "# Test statistik untuk login antara kelompok A dengan kelompok B\n",
        "print('Uji Hipotesis untuk layar Login')\n",
        "check_hypothesis(user_events_per_exp_group.loc['login', 'A'],\n",
        "                 user_events_per_exp_group.loc['login', 'B'],\n",
        "                 exp_user.loc['A'],\n",
        "                 exp_user.loc['B']\n",
        "                )\n",
        "print()\n",
        "# Test statistik untuk product_page antara kelompok A dengan kelompok B\n",
        "print('Uji Hipotesis untuk layar Halaman Produk')\n",
        "check_hypothesis(user_events_per_exp_group.loc['product_page', 'A'],\n",
        "                 user_events_per_exp_group.loc['product_page', 'B'],\n",
        "                 exp_user.loc['A'],\n",
        "                 exp_user.loc['B']\n",
        "                )\n",
        "print()\n",
        "# Test statistik untuk product_cart antara kelompok A dengan kelompok B\n",
        "print('Uji Hipotesis untuk layar Keranjang Produk')\n",
        "check_hypothesis(user_events_per_exp_group.loc['product_cart', 'A'],\n",
        "                 user_events_per_exp_group.loc['product_cart', 'B'],\n",
        "                 exp_user.loc['A'],\n",
        "                 exp_user.loc['B']\n",
        "                )\n",
        "print()\n",
        "# Test statistik untuk purchase antara kelompok A dengan kelompok B\n",
        "print('Uji Hipotesis untuk layar Pembayaran')\n",
        "check_hypothesis(user_events_per_exp_group.loc['purchase', 'A'],\n",
        "                 user_events_per_exp_group.loc['purchase', 'B'],\n",
        "                 exp_user.loc['A'],\n",
        "                 exp_user.loc['B']\n",
        "                )"
      ]
    },
    {
      "cell_type": "markdown",
      "metadata": {
        "id": "LsfoZW1w9mtU"
      },
      "source": [
        "Kesimpulan:\n",
        "\n",
        "Bahwa untuk test A/B dimana kelompok A dengan kelompok B menunjukan hasil tidak ada perbedaan statistik yang signifikan untuk masing-masang layar yang tertera yaitu:\n",
        "\n",
        "- Login\n",
        "- Product Cart (Halaman Keranjang)\n",
        "\n",
        "Bahwa untuk test A/B dimana kelompok A dengan kelompok B menunjukan hasil ada perbedaan statistik yang signifikan untuk masing-masang layar yang tertera yaitu:\n",
        "\n",
        "- Product Page (Halaman Produk)\n",
        "- Pembayaran"
      ]
    },
    {
      "cell_type": "markdown",
      "metadata": {
        "id": "58AdiOJC9mtV"
      },
      "source": [
        "## Kesimpulan"
      ]
    },
    {
      "cell_type": "markdown",
      "metadata": {
        "id": "BpyxBlHr9mtV"
      },
      "source": [
        "Jumlah kejadian atau peristiwa terjadi sebanyak 23909 kejadian dan jenis kejadian dalam tindakan pengguna yaitu:\n",
        "\n",
        "- login\n",
        "- product page\n",
        "- product cart\n",
        "- purchase\n",
        "____________________________________\n",
        "Ada pengguna yang sebanyak 3675 yang ikut dalam tes untul menguji perubahan terkait pengenalan sistem rekomendasi yang telah ditingkatkan yang dimulai dari 07-12-2020 s/d 01-01-2021.\n",
        "____________________________________\n",
        "Selama A/B test berjalan hanya ada 1 promo yang terlibat yaitu promo Christmas & New Year Promo yang diadakan di wilayah EU (Uni Eropa) dan N.America (Amerika Utara) yang dimulai dari tanggal 2020-12-25 s/d 2021-01-03. Selain promo itu promo lain tidak diterapkan karena waktu dan wilayahnya jadi untuk pengguna yang tidak mendapatkan Christmas & New Year Promo akan di kategorikan Non-promo.\\\n",
        "____________________________________\n",
        "Wilayah yang mengikuti A/B test wilayah EU (Uni Eropa) yang menjadi dominasi dengan jumlah peserta 3481 (94.72%). Sisanya N.America, APAC, dan CIS yang kontribusi untuk A/B test sangatlah kecil.\n",
        "____________________________________\n",
        "Adapun keterang untuk A/B test waktu yang ditetapkan, yaitu:\n",
        "\n",
        "- Tanggal dimulainya eksperimen (untuk peserta yang mendaftar baru(`first_date`) dan memulai aktivitasnya(`event_dt`)): 07-12-2020\n",
        "- Tanggal saat mereka berhenti menerima pengguna baru(untuk tanggal peserta yang mendaftar baru(`first_date`)): 21-12-2020\n",
        "- Tanggal berakhirnya eksperimen (`event_dt`): 30-12-2020 (satu hari sebelum 01-01-2021)\n",
        "___________________________________\n",
        "untuk A/B test ada 2 kelompok yang menjadi sampelnya, yaitu:\n",
        "\n",
        "- Kelompok A (Kontrol)\n",
        "- Kelompok B (corong pembayaran yang baru)\n",
        "__________________________________\n",
        "Peristiwa yang paling sering terjadi adalah peristiwa `Login`.\n",
        "__________________________________\n",
        "Untuk kelompok A bahwa pengguannya dari `login` menuju `product_page` hanya berkisaran 64.80%, dari `product_page` ke `product_cart` tidak sampa setengahnya yaitu 46.29%, dan `product_cart` ke `puchase` ternyata terjadi peningkatan sebesar 5.83% atau 48 pengguna dari 824 di `product_cart`.\n",
        "__________________________________\n",
        "Untuk kelompok B bahwa pengguannya dari `login` menuju `product_page` hanya berkisaran 56.42%, dari `product_page` ke `product_cart` tidak sampa setengahnya yaitu 48.76%, dan `product_cart` ke `puchase` ternyata terjadi peningkatan sebesar 1 pengguna saja dari 255 di `product_cart`.\n",
        "__________________________________\n",
        "Tidak ada pengguna satupun yang berada di dua kelompok secara bersama di kelompok A dan kelompok B.\n",
        "__________________________________\n",
        "Frekuensi untuk semua peristiwa mulai meningkat mulai pada tanggal `2020-12-13` s/d `2020-12-21` yang menjadi puncaknya untuk peristiwa dan tanggal selanjutnya yaitu `2020-12-21` s/d `2020-12-30` terus mengalami penurunan.\n",
        "__________________________________\n",
        "Bahwa dari semua kejadian di berbagai wilayah, EU (Uni Eropa) yang mempunyai aktivitas yang sangat tinggi baik kelompok A maupun kelompok B dan untuk semua pengguna di berbagai wilayah, EU (Uni Eropa) yang mempunyai aktivitas yang sangat tinggi baik kelompok A maupun kelompok B.\n",
        "__________________________________\n",
        "Bahwa dari semua kejadian berdasarkan device, device Andriod yang mempunyai aktivitas yang sangat tinggi baik kelompok A maupun kelompok B dan semua pengguna berdasarkan device, device Andriod yang mempunyai aktivitas yang sangat tinggi baik kelompok A maupun kelompok B.\n",
        "__________________________________\n",
        "Untuk konversi setiap peristiwa/kejadian bahwa kelompok A jauh lebih banyak untuk aktivitasnya dan penggunanya di banding kelompok B. Untuk aktivitas terbanyak baik kelompok A dan kelompok B yaitu aktivitas login.\n",
        "__________________________________\n",
        "Untuk promo bahwa pengguna kelompok A jauh lebih banyak untuk pengguna di banding kelompok B.\n",
        "__________________________________\n",
        "Bahwa kelompok A lebih banyak untuk menghasilkan pendapatan daripada kelompok B.\n",
        "__________________________________\n",
        "Bahwa untuk test A/B dimana kelompok A dengan kelompok B menunjukan hasil tidak ada perbedaan statistik yang signifikan untuk masing-masang layar yang tertera yaitu:\n",
        "\n",
        "- Login\n",
        "- Product Cart (Halaman Keranjang)\n",
        "__________________________________\n",
        "Bahwa untuk test A/B dimana kelompok A dengan kelompok B menunjukan hasil ada perbedaan statistik yang signifikan untuk masing-masang layar yang tertera yaitu:\n",
        "\n",
        "- Product Page (Halaman Produk)\n",
        "- Pembayaran"
      ]
    },
    {
      "cell_type": "code",
      "execution_count": null,
      "metadata": {
        "id": "tyf2NTZE9mtX"
      },
      "outputs": [],
      "source": []
    }
  ],
  "metadata": {
    "kernelspec": {
      "display_name": "Python 3 (ipykernel)",
      "language": "python",
      "name": "python3"
    },
    "language_info": {
      "codemirror_mode": {
        "name": "ipython",
        "version": 3
      },
      "file_extension": ".py",
      "mimetype": "text/x-python",
      "name": "python",
      "nbconvert_exporter": "python",
      "pygments_lexer": "ipython3",
      "version": "3.9.5"
    },
    "toc": {
      "base_numbering": 1,
      "nav_menu": {},
      "number_sections": true,
      "sideBar": true,
      "skip_h1_title": true,
      "title_cell": "Table of Contents",
      "title_sidebar": "Contents",
      "toc_cell": false,
      "toc_position": {
        "height": "calc(100% - 180px)",
        "left": "10px",
        "top": "150px",
        "width": "261px"
      },
      "toc_section_display": true,
      "toc_window_display": false
    },
    "colab": {
      "provenance": []
    }
  },
  "nbformat": 4,
  "nbformat_minor": 0
}