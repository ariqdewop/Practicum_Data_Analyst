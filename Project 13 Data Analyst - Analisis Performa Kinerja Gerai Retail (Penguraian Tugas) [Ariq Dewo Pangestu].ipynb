{
  "cells": [
    {
      "cell_type": "markdown",
      "metadata": {
        "id": "Ca3bsIuf9Ovf"
      },
      "source": [
        "**Deskripsi dataset**\n",
        "\n",
        "Dataset ini berisi data pembelian yang dilakukan di peritel bahan bangunan Home World. Semua pelanggannya memiliki kartu keanggotaan. Selain itu, mereka dapat menjadi anggota program loyalitas toko dengan biaya $ 20 per bulan. Program ini mencakup diskon, informasi tentang penawaran khusus, dan hadiah."
      ]
    },
    {
      "cell_type": "markdown",
      "metadata": {
        "id": "TxMwxq7C9Ovh"
      },
      "source": [
        "`retail_dataset_us.csv` contains:\n",
        "\n",
        "- `purchaseId`\n",
        "- `item_ID`\n",
        "- `purchasedate`\n",
        "- `Quantity` — the number of items in the purchase\n",
        "- `CustomerID`\n",
        "- `ShopID`\n",
        "- `loyalty_program` — whether the customer is a member of the loyalty program"
      ]
    },
    {
      "cell_type": "markdown",
      "metadata": {
        "id": "18RXLrNJ9Ovt"
      },
      "source": [
        "`product_codes_us.csv` contains:\n",
        "\n",
        "- `productID`\n",
        "- `price_per_one`"
      ]
    },
    {
      "cell_type": "markdown",
      "metadata": {
        "id": "efkqPVzO9Ovu"
      },
      "source": [
        "Dasbor\n",
        "\n",
        "1. Saran 1\n",
        "    1. Buatlah diagram yang menunjukkan jumlah pembelian per hari\n",
        "    2. Tunjukkan jumlah pelanggan\n",
        "    3. Menambahkan filter ID toko\n",
        "2. Saran 2\n",
        "    1. Buatlah histogram yang menunjukkan jumlah pembelian per pelanggan\n",
        "    2. Buatlah diagram lingkaran yang menunjukkan porsi pembelian di toko yang berbeda\n",
        "    3. Menambahkan filter tanggal pembelian"
      ]
    },
    {
      "cell_type": "markdown",
      "metadata": {
        "id": "dhI3hrYQ9Ovv"
      },
      "source": [
        "Latar belakang proyek\n",
        "\n",
        "1. Siapa pelanggannya?\n",
        "    \n",
        "    Proyek 2: Manajer proyek yang bertanggung jawab atas kinerja\n",
        "\n",
        "\n",
        "2. Siapa yang membutuhkan informasi? Siapa pengguna yang dituju dari hasil akhir?\n",
        "    \n",
        "    Proyek 1 dan 2: Pelanggan yang memprakarsai proyek\n",
        "\n",
        "\n",
        "3. Apa yang ingin mereka lakukan?\n",
        "    \n",
        "    Proyek 2: Merumuskan metrik kinerja untuk outlet penjualan dan menganalisis kinerjanya\n",
        "\n",
        "\n",
        "4. Apakah kita tertarik pada periode waktu tertentu? Atau apakah kita menyelidiki seluruh periode yang dicakup oleh sumber data?\n",
        "    \n",
        "    Proyek 1 dan 2: Seluruh periode \n",
        "    \n",
        "5. Apakah presentasi ditujukan untuk pelanggan? Jika tidak, siapa yang akan mempelajarinya?\n",
        "    \n",
        "    Proyek 1 dan 2: Presentasi ditujukan untuk pelanggan.\n",
        "\n",
        "\n",
        "6. Apa yang membuat analisis ini diperlukan? Mengapa analisis semacam ini secara khusus?\n",
        "    \n",
        "    Proyek 2: Untuk memahami toko-toko apa saja yang membutuhkan dukungan dalam rantai besar, kita perlu mengembangkan metrik kinerja untuk gerai penjualan. Data ini akan digunakan untuk menentukan prioritas toko dan merumuskan KPI.\n",
        "\n",
        "\n",
        "7. Apakah penelitian semacam ini pernah dilakukan sebelumnya?\n",
        "        \n",
        "    Proyek 2: Tidak, ini baru. Jelaskan sejelas mungkin bagaimana solusi Anda bekerja."
      ]
    },
    {
      "cell_type": "markdown",
      "metadata": {
        "id": "f7RnUi_m9Ovw"
      },
      "source": [
        "# Deskripsi Project 2"
      ]
    },
    {
      "cell_type": "markdown",
      "metadata": {
        "id": "cyaHQSks9Ovx"
      },
      "source": [
        "**Menilai kinerja gerai penjualan jaringan**"
      ]
    },
    {
      "cell_type": "markdown",
      "metadata": {
        "id": "wHdqiQtd9Ovy"
      },
      "source": [
        "Melakukan analisis data eksplorasi\n",
        "\n",
        "Menilai kinerja gerai penjualan\n",
        "- Menganalisis gerai terbesar dalam rantai penjualan secara terpisah: jumlah pelanggan unik, ukuran pembelian rata-rata, jumlah rata-rata barang dalam keranjang, jumlah anggota program loyalitas, dan retensi pelanggan.\n",
        "- Menganalisis parameter yang sama untuk toko-toko lain dalam jaringan.\n",
        "- Merumuskan metrik untuk kinerja gerai penjualan dan menghitungnya untuk setiap toko.\n",
        "\n",
        "Uji hipotesis statistik\n",
        "- Menguji hipotesis bahwa ukuran pembelian rata-rata untuk anggota program loyalitas lebih tinggi daripada non-anggota.\n",
        "- Rumuskan hipotesis statistik terkait data dari kumpulan data dan ujilah.\n",
        "\n",
        "Opsional\n",
        "- Visualisasikan temuan anda\n",
        "\n",
        "Kriteria penilaian\n",
        "- Siswa melakukan analisis data eksplorasi.\n",
        "- Siswa menjelaskan pendekatan mereka untuk memperkirakan kinerja gerai penjualan.\n",
        "- Siswa menjelaskan metode mereka untuk menghitung jumlah pelanggan unik, ukuran pembelian rata-rata, jumlah rata-rata barang di keranjang, pangsa anggota program loyalitas, dan retensi pelanggan.\n",
        "- Siswa menganalisis toko terbesar dalam jaringan.\n",
        "- Siswa menganalisis toko-toko lain dalam jaringan tersebut.\n",
        "- Siswa menarik kesimpulan komparatif pada toko-toko dalam rantai.\n",
        "- Siswa merumuskan metrik kinerja dan menjustifikasinya.\n",
        "- Siswa menghitung metrik kinerja untuk setiap titik penjualan.\n",
        "- Siswa merumuskan dan menguji hipotesis statistik.\n",
        "\n",
        "\n",
        "- Siswa menarik kesimpulan yang terperinci.\n",
        "- Siswa secara logis membagi pekerjaan mereka menjadi beberapa bagian dengan menggunakan judul.\n",
        "- Siswa memberikan komentar pada sel kode yang menjelaskan langkah-langkah yang diambil."
      ]
    },
    {
      "cell_type": "markdown",
      "metadata": {
        "id": "iJVIfY2b9Ovz"
      },
      "source": [
        "________________________________________________"
      ]
    },
    {
      "cell_type": "markdown",
      "metadata": {
        "id": "CsMxIdds9Ov0"
      },
      "source": [
        "Poin Utama : **Menilai kinerja gerai penjualan jaringan**\n",
        "\n",
        "Melakukan analisis data eksplorasi\n",
        "\n",
        "Menilai kinerja gerai penjualan\n",
        "- Menganalisis gerai terbesar dalam rantai penjualan secara terpisah: jumlah pelanggan unik, ukuran pembelian rata-rata, jumlah rata-rata barang dalam keranjang, jumlah anggota program loyalitas, dan retensi pelanggan.\n",
        "    - Jumlah Pelanggan Unik\n",
        "        - Berdasarkan tanggal? Minggu? atau Bulan?\n",
        "        - Juga melihat hanya keseluruhan atau pertoko?\n",
        "        - Melihat berdasarkan untuk anggota loyalti dan non-loyalti?\n",
        "    - Ukuran pembelian rata-rata\n",
        "        - Berdasarkan `item_id`? perlu untuk menghitung `quantity`-nya?\n",
        "        - Berdasarkan tanggal? Minggu? atau Bulan?\n",
        "        - Juga melihat hanya keseluruhan atau pertoko?\n",
        "        - Melihat berdasarkan untuk anggota loyalti dan non-loyalti?\n",
        "    - Jumlah rata-rata barang dalam keranjang\n",
        "        - Apakah jumlahnya hanya keseluruhan (total jumlah barang yang dibeli berdasarkan total jumlah transaksi)\n",
        "        - Atau jumlahnya berdasarkan waktu (tanggal? Minggu? atau Bulan?)\n",
        "        - Atau jumlahnya per-toko?\n",
        "    - Jumlah anggota program loyalitas\n",
        "        - Apakah jumlahnya hanya keseluruhan saja (melihat loyalti dan non-loyalti)\n",
        "        - Atau jumlah anggota berdasarkan waktu (tanggal? Minggu? atau Bulan?)\n",
        "        - Atau jumlah anggota per-toko?\n",
        "        - Atau jumlah anggota per-item?\n",
        "- Menganalisis parameter yang sama untuk toko-toko lain dalam jaringan.\n",
        "    - Sama seperti diatas, tetapi untuk toko-toko yang lainnya selain yang terbesar\n",
        "- Merumuskan metrik untuk kinerja gerai penjualan dan menghitungnya untuk setiap toko.\n",
        "    - Apakah ada perbrdaan untuk kinerja metrik toko terbesar dengan toko-toko lainnya (toko-tokok kecil / tidak lebih besar dari yang terbesar) ?\n",
        "\n",
        "Uji hipotesis statistik\n",
        "- Menguji hipotesis bahwa ukuran pembelian rata-rata untuk anggota program loyalitas lebih tinggi daripada non-anggota.\n",
        "    - Uji apa yang akan digunakan?\n",
        "- Rumuskan hipotesis statistik terkait data dari kumpulan data dan ujilah.\n",
        "    - Seperti apa hipotesisnya?"
      ]
    },
    {
      "cell_type": "markdown",
      "metadata": {
        "id": "2zgbglJk9Ov2"
      },
      "source": [
        "___________________________________"
      ]
    },
    {
      "cell_type": "markdown",
      "metadata": {
        "id": "YEloihYA9Ov3"
      },
      "source": [
        "# Jawaban untuk penguraian tugas dari pertanyaan sebelumnya"
      ]
    },
    {
      "cell_type": "markdown",
      "metadata": {
        "id": "MiSB6Aki9Ov6"
      },
      "source": [
        "Poin Utama : **Menilai kinerja gerai penjualan jaringan**\n",
        "\n",
        "- Menganalisis gerai terbesar dalam rantai penjualan secara terpisah: jumlah pelanggan unik, ukuran pembelian rata-rata, jumlah rata-rata barang dalam keranjang, jumlah anggota program loyalitas, dan retensi pelanggan.\n",
        "    - Menganalisis gerai terbesar?\n",
        "        - Melihat total barang paling banyak dibeli berdasarkan toko\n",
        "        - Metode pengelompokkan jumlah barang dibeli berdasrkan toko (pivot sum / groupby sum)\n",
        "    - Jumlah Pelanggan Unik\n",
        "        - Dengan melihat jumlah pelanggan di toko terbesar\n",
        "        - Berdasarkan waktu (tanggal / Minggu / Bulan) di toko terbesar\n",
        "        - Metode pengelompokkan jumlah transaksi barang dibeli berdasarkan custimer_id (pivot uniq / groupby uniq)\n",
        "        - Ditampilkan dengan analisis kohort dengan heatmap\n",
        "    - Ukuran pembelian rata-rata\n",
        "        - Melihat rata-rata pembelian di toko terbesar\n",
        "        - Berdasarkan waktu (tanggal / Minggu / Bulan) di toko terbesar\n",
        "        - Metode pengelompokan pembelian rata-rata berdasarkan waktu (pivot mean / groupby mean)\n",
        "        - Ditampilkan dengan analisis kohort dengan heatmap\n",
        "    - Jumlah rata-rata barang dalam keranjang\n",
        "        - Dengan melihat total jumlah barang yang dibeli berdasarkan total jumlah transaksi\n",
        "        - Berdasarkan waktu (tanggal / Minggu / Bulan) di toko terbesar\n",
        "        - Metode pengelompokan total jumlah barang yang dibeli berdasarkan total jumlah transaksi (pivot mean / groupby mean)\n",
        "        - Ditampilkan dengan analisis kohort dengan heatmap\n",
        "    - Jumlah anggota program loyalitas\n",
        "        - Dengan melihat jumlah anggota yang merupakan loyalitas dan non-loyalitas\n",
        "        - Hanya keseluruhan\n",
        "        - Metodenya dengan pengelompokan program loyalitas berdasrkan toko terbesar (pivot sum / groupby sum)\n",
        "        - Ditampilkan dengan dataframe biasa\n",
        "\n",
        "\n",
        "- Menganalisis parameter yang sama untuk toko-toko lain dalam jaringan.\n",
        "    - Sama seperti diatas, tetapi untuk toko-toko yang lainnya selain yang terbesar\n",
        "        - Metode sama diatas tetapi digunakan untuk toko-toko selain toko-toko diatas saat eksplorasi data berlangsung\n",
        "        \n",
        "\n",
        "- Merumuskan metrik untuk kinerja gerai penjualan dan menghitungnya untuk setiap toko.\n",
        "    - Metrik apa saja yang cocok untuk melihat kinerja penjualan setiap toko?\n",
        "        - Analisa deskriptif dengan informasi tabel yang ada\n",
        "        - Metrik terbaik untuk menganalisa kinerja penjualan setiap toko ada tiga, yaitu: quantity, harga, dan program loyalti\n",
        "        - Analisanya secara keseluruhan (tidak di bagi berdasarkan waktu, dikarenakan takut hasilnya bias karena bisa berubah2 untuk performa toko berdasarkan waktunya)\n",
        "        \n",
        "Uji hipotesis statistik\n",
        "- Menguji hipotesis bahwa ukuran pembelian rata-rata untuk anggota program loyalitas lebih tinggi daripada non-anggota.\n",
        "    - Uji apa yang akan digunakan?\n",
        "        - Menggunakan uji Hipotesis Persamaan Rata-Rata Dua Populasi (karena diminta untuk membandingkan)\n",
        "        - Metodenya yaitu dibuat kelompok berbeda antara anggota program loyalitas dan non-anggota program loyalitas (metode query)\n",
        "        - Alpha yang digunakan 5% sesuai dengan standarnya\n",
        "- Rumuskan hipotesis statistik terkait data dari kumpulan data dan ujilah.\n",
        "    - Seperti apa hipotesisnya?\n",
        "        - H0 : Bahwa pembelian rata-rata untuk anggota program loyalitas dan pembelian rata-rata untuk non-anggota program loyalitas adalah sama\n",
        "        - H1 : Bahwa pembelian rata-rata untuk anggota program loyalitas dan pembelian rata-rata untuk non-anggota program loyalitas adalah tidak sama"
      ]
    },
    {
      "cell_type": "markdown",
      "metadata": {
        "id": "1dhaACUf9Ov9"
      },
      "source": [
        "# Penguraian Tugas"
      ]
    },
    {
      "cell_type": "markdown",
      "metadata": {
        "id": "Sungc1gG9Ov-"
      },
      "source": [
        "### Membaca Library dan Mempelajari Datanya"
      ]
    },
    {
      "cell_type": "markdown",
      "metadata": {
        "id": "DPmrXndT9Ov-"
      },
      "source": [
        "- Memuat semua library yang dibutuhkan\n",
        "- Membuat variabel yang membaca tabel dan menampilkannya\n",
        "- Mempelajari tabelnya\n",
        "    - Melihat informasi keseluruhan\n",
        "    - Melihat informasi distribusi datanya\n",
        "    - Melihat nilai yang hilang & presentase nilai hilangnya\n",
        "    - Melihat nilai duplikasi & presentase nilai duplikasinya\n",
        "- Memberikan kesimpulan dari semua aktifitas pada poin-poin diatas"
      ]
    },
    {
      "cell_type": "markdown",
      "metadata": {
        "id": "5IcsPYNR9Ov_"
      },
      "source": [
        "### Pra-Pemrosesan Data"
      ]
    },
    {
      "cell_type": "markdown",
      "metadata": {
        "id": "gY2l4JqG9Ov_"
      },
      "source": [
        "- Melakukan pernyataan untuk data yang mempunyai informasi kurang jelas (seperti boolean) yang sesuai dengan standar dalam dunia data.\n",
        "- Memperbaiki nilai hilang dengan penjelasan logis di alasannya\n",
        "- Memperbaiki nilai duplikasi dengan penjelasan logis di alasannya\n",
        "- Memperbaiki nama kolom sesuai standarnya (kalau ada)\n",
        "- Mengecek kembali tabelnya untuk benar-benar melihat apakah sudah semuanya diperbaiki atau masih ada yang kurang\n",
        "- Memberikan pernyataan kalau data sudah di perbaiki dan siap untuk proses selanjutnya"
      ]
    },
    {
      "cell_type": "markdown",
      "metadata": {
        "id": "EhhLT-CN9OwA"
      },
      "source": [
        "### Analisis Data Eksplorasi"
      ]
    },
    {
      "cell_type": "markdown",
      "metadata": {
        "id": "EMz-Jyzb9OwA"
      },
      "source": [
        "- Menggabungkan tabel untuk melengkapi informasinya\n",
        "- Membuat kolom baru untuk mengidentifikasi waktu dari pembelian secara terpisah (hari/minggu/bulan)\n",
        "- Melakukan perhitungan total penjualan terbanyak untuk mengidentifikasi toko terbesar\n",
        "- Mengidentifikasi jumlah user dengan analisa pembelian pertamanya\n",
        "- Mengidentifikasi pembelian rata-rata berdasarkan waktu\n",
        "- Mengidentifikasi total jumlah barang yang dibeli berdasarkan total jumlah transaksi\n",
        "- Mengidentifikasi pengelompokan program loyalitas berdasrkan toko terbesar\n",
        "- Melakukan identifikasi yang sama untuk toko-toko selain toko terbesar\n",
        "- Visualisasikan hasil identifikasi\n",
        "- Analisa deskriptif metrik digunakan untuk kinerja gerai penjualan untuk setiap toko.\n",
        "- Menghitung metrik-metrik tersebut untuk penjualan untuk setiap toko.\n",
        "\n",
        "\n",
        "**Note**\n",
        "- Memberi ringkasan singkat dari penemuan menarik pada identifikasi\n",
        "- Memberikan komentar untuk setiap langkah demi memperjelas arti dari langkah tersebut\n",
        "- Akan ada penambahan visualisasi atau identifikasi untuk melengkapi ringkasan singkat dari penemuan menarik atau digunakan sebagai analisa tambahan untuk memaksimalkan isi ringkasan singkat dari penemuan menarik disetiap langkahnya"
      ]
    },
    {
      "cell_type": "markdown",
      "metadata": {
        "id": "JS0Ryz539OwB"
      },
      "source": [
        "### Uji Hipotesis"
      ]
    },
    {
      "cell_type": "markdown",
      "metadata": {
        "id": "XixLnDCD9OwB"
      },
      "source": [
        "- Memberikan penjelasan pernyataan apa yang akan diuji\n",
        "- Memberikan informasi untuk uji pernyataan menggunakan jenis apa dan alasannya\n",
        "- Memberikan informasi untuk alpha yang digunakan beserta alasannya\n",
        "- Memberikan rumusan hipotesis nol dan hipotesis alternatif \n",
        "- Menguji hipotesisnya\n",
        "- Memberikan kesimpulan\n",
        "\n",
        "**Note**\n",
        "- Akan ada beberapa informasi tambahan untuk menjelasakan pernyataan rumusan hipotesis dan uji hipotesisnya"
      ]
    },
    {
      "cell_type": "markdown",
      "metadata": {
        "id": "hB8RK51k9OwB"
      },
      "source": [
        "### Kesimpulan & Rekomendasi"
      ]
    },
    {
      "cell_type": "markdown",
      "metadata": {
        "id": "zSrXz80T9OwC"
      },
      "source": [
        "- Membuat kesimpulan dari analisa, identifikasi, dan penemuan selama langkah-langka eksplorasi data dan uji hipotesis\n",
        "- Membuat rekomendasi dari analisa, identifikasi, dan penemuan selama langkah-langka eksplorasi data dan uji hipotesis"
      ]
    },
    {
      "cell_type": "markdown",
      "metadata": {
        "id": "nlcu7y5A9OwC"
      },
      "source": [
        "### Presentasi"
      ]
    },
    {
      "cell_type": "markdown",
      "metadata": {
        "id": "wuQDPzyf9OwC"
      },
      "source": [
        "- Penjelasan Objective\n",
        "- Penjelasan Pertanyaan\n",
        "- Menjawab Pertanyaan\n",
        "- Penemuan penting lainnya\n",
        "- Penjelasan uji hipotesisnya\n",
        "- Kesimpulan & Rekomendasi"
      ]
    },
    {
      "cell_type": "markdown",
      "metadata": {
        "id": "rgm2JoCA9OwC"
      },
      "source": [
        "### Visualisasi & File"
      ]
    },
    {
      "cell_type": "markdown",
      "metadata": {
        "id": "8wYpkxfb9OwD"
      },
      "source": [
        "- Presestasi untuk semua kesimpulan,penemuan, dan rekomendasi akan dibentuk dalam file ppt / pdf\n",
        "- Visualisasi akan menggunakan Tableau untuk final, tetapi untuk presentasi akan dibentuk dalam file ppt / pdf"
      ]
    },
    {
      "cell_type": "code",
      "execution_count": null,
      "metadata": {
        "id": "7aG4Kitu9OwE"
      },
      "outputs": [],
      "source": []
    }
  ],
  "metadata": {
    "kernelspec": {
      "display_name": "Python 3 (ipykernel)",
      "language": "python",
      "name": "python3"
    },
    "language_info": {
      "codemirror_mode": {
        "name": "ipython",
        "version": 3
      },
      "file_extension": ".py",
      "mimetype": "text/x-python",
      "name": "python",
      "nbconvert_exporter": "python",
      "pygments_lexer": "ipython3",
      "version": "3.9.5"
    },
    "toc": {
      "base_numbering": 1,
      "nav_menu": {},
      "number_sections": true,
      "sideBar": true,
      "skip_h1_title": true,
      "title_cell": "Table of Contents",
      "title_sidebar": "Contents",
      "toc_cell": false,
      "toc_position": {},
      "toc_section_display": true,
      "toc_window_display": false
    },
    "colab": {
      "provenance": []
    }
  },
  "nbformat": 4,
  "nbformat_minor": 0
}