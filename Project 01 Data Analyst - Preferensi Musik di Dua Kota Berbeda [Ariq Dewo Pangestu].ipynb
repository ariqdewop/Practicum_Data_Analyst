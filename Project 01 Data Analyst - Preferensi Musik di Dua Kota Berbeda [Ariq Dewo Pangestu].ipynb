{
  "cells": [
    {
      "cell_type": "markdown",
      "metadata": {
        "id": "fhq_eyov_Zcs"
      },
      "source": [
        "# Konten <a id='back'></a>\n",
        "\n",
        "* [Pendahuluan](#intro)\n",
        "* [Tahap 1. Ikhtisar Data](#data_review)\n",
        "    * [Kesimpulan](#data_review_conclusions)\n",
        "* [Tahap 2. Pra-pemrosesan Data](#data_preprocessing)\n",
        "    * [2.1 Gaya penulisan judul](#header_style)\n",
        "    * [2.2 Nilai-nilai yang hilang](#missing_values)\n",
        "    * [2.3 Duplikat](#duplicates)\n",
        "    * [2.4 Kesimpulan](#data_preprocessing_conclusions)\n",
        "* [Tahap 3. Menguji Hipotesis](#hypotheses)\n",
        "    * [3.1 Hipotesis 1: aktivitas pengguna di dua kota](#activity)\n",
        "    * [3.2 Hipotesis 2: preferensi musik pada hari Senin dan Jumat](#week)\n",
        "    * [3.3 Hipotesis 3: preferensi genre di kota Springfield dan Shelbyville](#genre)\n",
        "* [Temuan](#end)"
      ]
    },
    {
      "cell_type": "markdown",
      "metadata": {
        "id": "VUC88oWjTJw2"
      },
      "source": [
        "## Pendahuluan <a id='intro'></a>\n",
        "Setiap kali kita melakukan penelitian, kita perlu merumuskan hipotesis yang kemudian dapat kita uji. Terkadang kita menerima hipotesis ini; tetapi terkadang kita juga menolaknya. Untuk membuat keputusan yang tepat, sebuah bisnis harus dapat memahami apakah asumsi yang dibuatnya benar atau tidak.\n",
        "\n",
        "Dalam proyek kali ini, Anda akan membandingkan preferensi musik kota Springfield dan Shelbyville. Anda akan mempelajari data Y.Music yang sebenarnya untuk menguji hipotesis di bawah ini dan membandingkan perilaku pengguna di kedua kota ini.\n",
        "\n",
        "### Tujuan: \n",
        "Menguji tiga hipotesis:\n",
        "1. Aktivitas pengguna berbeda-beda tergantung pada hari dan kotanya.\n",
        "2. Pada senin pagi, penduduk Springfield dan Shelbyville mendengarkan genre yang berbeda. Hal ini juga ini juga berlaku untuk Jumat malam.\n",
        "3. Pendengar di Springfield dan Shelbyville memiliki preferensi yang berbeda. Di Springfield, mereka lebih suka musik pop, sementara Shelbyville, musik rap memiliki lebih banyak penggemar.\n",
        "\n",
        "### Tahapan\n",
        "Data tentang perilaku pengguna disimpan dalam berkas `/datasets/music_project_en.csv`. Tidak ada informasi tentang kualitas data, jadi Anda perlu memeriksanya lebih dahulu sebelum menguji hipotesis.\n",
        "\n",
        "Pertama, Anda akan mengevaluasi kualitas data dan melihat apakah masalahnya signifikan. Kemudian, selama pra-pemrosesan data, Anda akan mencoba memperhitungkan masalah yang paling serius.\n",
        " \n",
        "Proyek ini akan terdiri dari tiga tahap:\n",
        " 1. Ikhtisar Data\n",
        " 2. Pra-pemrosesan Data\n",
        " 3. Menguji Hipotesis\n",
        "\n",
        " \n",
        "[Kembali ke Daftar Isi](#back)"
      ]
    },
    {
      "cell_type": "markdown",
      "metadata": {
        "id": "Ml1hmfXC_Zcs"
      },
      "source": [
        "## Tahap 1. Ikhtisar Data <a id='data_review'></a>\n",
        "\n",
        "Buka data di Y.Music lalu jelajahi data yang ada di sana."
      ]
    },
    {
      "cell_type": "markdown",
      "metadata": {
        "id": "57eAOGIz_Zcs"
      },
      "source": [
        "Anda akan membutuhkan `Pandas`, jadi Anda harus mengimpornya."
      ]
    },
    {
      "cell_type": "code",
      "execution_count": null,
      "metadata": {
        "id": "AXN7PHPN_Zcs"
      },
      "outputs": [],
      "source": [
        "# mengimpor Pandas\n",
        "import pandas as pd"
      ]
    },
    {
      "cell_type": "markdown",
      "metadata": {
        "id": "SG23P8tt_Zcs"
      },
      "source": [
        "Baca file `music_project_en.csv` dari folder `/datasets/` lalu simpan di variabel `df`:"
      ]
    },
    {
      "cell_type": "code",
      "execution_count": null,
      "metadata": {
        "id": "ZHpiOCxirBGN"
      },
      "outputs": [],
      "source": [
        "df = pd.read_csv('/datasets/music_project_en.csv')"
      ]
    },
    {
      "cell_type": "code",
      "execution_count": null,
      "metadata": {
        "id": "fFVu7vqh_Zct",
        "outputId": "d88dcdf5-e4c9-49c5-fcad-dd3e4916a0b5"
      },
      "outputs": [
        {
          "data": {
            "text/html": [
              "<div>\n",
              "<style scoped>\n",
              "    .dataframe tbody tr th:only-of-type {\n",
              "        vertical-align: middle;\n",
              "    }\n",
              "\n",
              "    .dataframe tbody tr th {\n",
              "        vertical-align: top;\n",
              "    }\n",
              "\n",
              "    .dataframe thead th {\n",
              "        text-align: right;\n",
              "    }\n",
              "</style>\n",
              "<table border=\"1\" class=\"dataframe\">\n",
              "  <thead>\n",
              "    <tr style=\"text-align: right;\">\n",
              "      <th></th>\n",
              "      <th>userID</th>\n",
              "      <th>Track</th>\n",
              "      <th>artist</th>\n",
              "      <th>genre</th>\n",
              "      <th>City</th>\n",
              "      <th>time</th>\n",
              "      <th>Day</th>\n",
              "    </tr>\n",
              "  </thead>\n",
              "  <tbody>\n",
              "    <tr>\n",
              "      <th>count</th>\n",
              "      <td>65079</td>\n",
              "      <td>63736</td>\n",
              "      <td>57512</td>\n",
              "      <td>63881</td>\n",
              "      <td>65079</td>\n",
              "      <td>65079</td>\n",
              "      <td>65079</td>\n",
              "    </tr>\n",
              "    <tr>\n",
              "      <th>unique</th>\n",
              "      <td>41748</td>\n",
              "      <td>39666</td>\n",
              "      <td>37806</td>\n",
              "      <td>268</td>\n",
              "      <td>2</td>\n",
              "      <td>20392</td>\n",
              "      <td>3</td>\n",
              "    </tr>\n",
              "    <tr>\n",
              "      <th>top</th>\n",
              "      <td>A8AE9169</td>\n",
              "      <td>Brand</td>\n",
              "      <td>Kartvelli</td>\n",
              "      <td>pop</td>\n",
              "      <td>Springfield</td>\n",
              "      <td>21:51:22</td>\n",
              "      <td>Friday</td>\n",
              "    </tr>\n",
              "    <tr>\n",
              "      <th>freq</th>\n",
              "      <td>76</td>\n",
              "      <td>136</td>\n",
              "      <td>136</td>\n",
              "      <td>8850</td>\n",
              "      <td>45360</td>\n",
              "      <td>14</td>\n",
              "      <td>23149</td>\n",
              "    </tr>\n",
              "  </tbody>\n",
              "</table>\n",
              "</div>"
            ],
            "text/plain": [
              "          userID  Track     artist  genre       City        time     Day\n",
              "count      65079  63736      57512  63881        65079     65079   65079\n",
              "unique     41748  39666      37806    268            2     20392       3\n",
              "top     A8AE9169  Brand  Kartvelli    pop  Springfield  21:51:22  Friday\n",
              "freq          76    136        136   8850        45360        14   23149"
            ]
          },
          "execution_count": 4,
          "metadata": {},
          "output_type": "execute_result"
        }
      ],
      "source": [
        "# membaca berkas dan menyimpannya ke df\n",
        "df.describe()"
      ]
    },
    {
      "cell_type": "markdown",
      "metadata": {
        "id": "rDoOMd3uTqnZ"
      },
      "source": [
        "Tampilkan 10 baris tabel pertama:"
      ]
    },
    {
      "cell_type": "code",
      "execution_count": null,
      "metadata": {
        "id": "oWTVX3gW_Zct",
        "scrolled": true,
        "outputId": "4946e9ac-462c-413d-b1d8-9c91f5ee5e03"
      },
      "outputs": [
        {
          "data": {
            "text/html": [
              "<div>\n",
              "<style scoped>\n",
              "    .dataframe tbody tr th:only-of-type {\n",
              "        vertical-align: middle;\n",
              "    }\n",
              "\n",
              "    .dataframe tbody tr th {\n",
              "        vertical-align: top;\n",
              "    }\n",
              "\n",
              "    .dataframe thead th {\n",
              "        text-align: right;\n",
              "    }\n",
              "</style>\n",
              "<table border=\"1\" class=\"dataframe\">\n",
              "  <thead>\n",
              "    <tr style=\"text-align: right;\">\n",
              "      <th></th>\n",
              "      <th>userID</th>\n",
              "      <th>Track</th>\n",
              "      <th>artist</th>\n",
              "      <th>genre</th>\n",
              "      <th>City</th>\n",
              "      <th>time</th>\n",
              "      <th>Day</th>\n",
              "    </tr>\n",
              "  </thead>\n",
              "  <tbody>\n",
              "    <tr>\n",
              "      <th>0</th>\n",
              "      <td>FFB692EC</td>\n",
              "      <td>Kamigata To Boots</td>\n",
              "      <td>The Mass Missile</td>\n",
              "      <td>rock</td>\n",
              "      <td>Shelbyville</td>\n",
              "      <td>20:28:33</td>\n",
              "      <td>Wednesday</td>\n",
              "    </tr>\n",
              "    <tr>\n",
              "      <th>1</th>\n",
              "      <td>55204538</td>\n",
              "      <td>Delayed Because of Accident</td>\n",
              "      <td>Andreas Rönnberg</td>\n",
              "      <td>rock</td>\n",
              "      <td>Springfield</td>\n",
              "      <td>14:07:09</td>\n",
              "      <td>Friday</td>\n",
              "    </tr>\n",
              "    <tr>\n",
              "      <th>2</th>\n",
              "      <td>20EC38</td>\n",
              "      <td>Funiculì funiculà</td>\n",
              "      <td>Mario Lanza</td>\n",
              "      <td>pop</td>\n",
              "      <td>Shelbyville</td>\n",
              "      <td>20:58:07</td>\n",
              "      <td>Wednesday</td>\n",
              "    </tr>\n",
              "    <tr>\n",
              "      <th>3</th>\n",
              "      <td>A3DD03C9</td>\n",
              "      <td>Dragons in the Sunset</td>\n",
              "      <td>Fire + Ice</td>\n",
              "      <td>folk</td>\n",
              "      <td>Shelbyville</td>\n",
              "      <td>08:37:09</td>\n",
              "      <td>Monday</td>\n",
              "    </tr>\n",
              "    <tr>\n",
              "      <th>4</th>\n",
              "      <td>E2DC1FAE</td>\n",
              "      <td>Soul People</td>\n",
              "      <td>Space Echo</td>\n",
              "      <td>dance</td>\n",
              "      <td>Springfield</td>\n",
              "      <td>08:34:34</td>\n",
              "      <td>Monday</td>\n",
              "    </tr>\n",
              "    <tr>\n",
              "      <th>5</th>\n",
              "      <td>842029A1</td>\n",
              "      <td>Chains</td>\n",
              "      <td>Obladaet</td>\n",
              "      <td>rusrap</td>\n",
              "      <td>Shelbyville</td>\n",
              "      <td>13:09:41</td>\n",
              "      <td>Friday</td>\n",
              "    </tr>\n",
              "    <tr>\n",
              "      <th>6</th>\n",
              "      <td>4CB90AA5</td>\n",
              "      <td>True</td>\n",
              "      <td>Roman Messer</td>\n",
              "      <td>dance</td>\n",
              "      <td>Springfield</td>\n",
              "      <td>13:00:07</td>\n",
              "      <td>Wednesday</td>\n",
              "    </tr>\n",
              "    <tr>\n",
              "      <th>7</th>\n",
              "      <td>F03E1C1F</td>\n",
              "      <td>Feeling This Way</td>\n",
              "      <td>Polina Griffith</td>\n",
              "      <td>dance</td>\n",
              "      <td>Springfield</td>\n",
              "      <td>20:47:49</td>\n",
              "      <td>Wednesday</td>\n",
              "    </tr>\n",
              "    <tr>\n",
              "      <th>8</th>\n",
              "      <td>8FA1D3BE</td>\n",
              "      <td>L’estate</td>\n",
              "      <td>Julia Dalia</td>\n",
              "      <td>ruspop</td>\n",
              "      <td>Springfield</td>\n",
              "      <td>09:17:40</td>\n",
              "      <td>Friday</td>\n",
              "    </tr>\n",
              "    <tr>\n",
              "      <th>9</th>\n",
              "      <td>E772D5C0</td>\n",
              "      <td>Pessimist</td>\n",
              "      <td>NaN</td>\n",
              "      <td>dance</td>\n",
              "      <td>Shelbyville</td>\n",
              "      <td>21:20:49</td>\n",
              "      <td>Wednesday</td>\n",
              "    </tr>\n",
              "  </tbody>\n",
              "</table>\n",
              "</div>"
            ],
            "text/plain": [
              "     userID                        Track            artist   genre  \\\n",
              "0  FFB692EC            Kamigata To Boots  The Mass Missile    rock   \n",
              "1  55204538  Delayed Because of Accident  Andreas Rönnberg    rock   \n",
              "2    20EC38            Funiculì funiculà       Mario Lanza     pop   \n",
              "3  A3DD03C9        Dragons in the Sunset        Fire + Ice    folk   \n",
              "4  E2DC1FAE                  Soul People        Space Echo   dance   \n",
              "5  842029A1                       Chains          Obladaet  rusrap   \n",
              "6  4CB90AA5                         True      Roman Messer   dance   \n",
              "7  F03E1C1F             Feeling This Way   Polina Griffith   dance   \n",
              "8  8FA1D3BE                     L’estate       Julia Dalia  ruspop   \n",
              "9  E772D5C0                    Pessimist               NaN   dance   \n",
              "\n",
              "        City        time        Day  \n",
              "0  Shelbyville  20:28:33  Wednesday  \n",
              "1  Springfield  14:07:09     Friday  \n",
              "2  Shelbyville  20:58:07  Wednesday  \n",
              "3  Shelbyville  08:37:09     Monday  \n",
              "4  Springfield  08:34:34     Monday  \n",
              "5  Shelbyville  13:09:41     Friday  \n",
              "6  Springfield  13:00:07  Wednesday  \n",
              "7  Springfield  20:47:49  Wednesday  \n",
              "8  Springfield  09:17:40     Friday  \n",
              "9  Shelbyville  21:20:49  Wednesday  "
            ]
          },
          "execution_count": 5,
          "metadata": {},
          "output_type": "execute_result"
        }
      ],
      "source": [
        "# memperoleh 10 baris pertama dari tabel df\n",
        "df.head(10)"
      ]
    },
    {
      "cell_type": "markdown",
      "metadata": {
        "id": "EO73Kwic_Zct"
      },
      "source": [
        "Memperoleh informasi umum tentang tabel dengan satu perintah:"
      ]
    },
    {
      "cell_type": "code",
      "execution_count": null,
      "metadata": {
        "id": "DSf2kIb-_Zct",
        "outputId": "0922b07b-3324-4872-f18d-f328fde13706"
      },
      "outputs": [
        {
          "name": "stdout",
          "output_type": "stream",
          "text": [
            "<class 'pandas.core.frame.DataFrame'>\n",
            "RangeIndex: 61253 entries, 0 to 61252\n",
            "Data columns (total 8 columns):\n",
            " #   Column   Non-Null Count  Dtype \n",
            "---  ------   --------------  ----- \n",
            " 0   index    61253 non-null  int64 \n",
            " 1   user_id  61253 non-null  object\n",
            " 2   track    61253 non-null  object\n",
            " 3   artist   61253 non-null  object\n",
            " 4   genre    61253 non-null  object\n",
            " 5   city     61253 non-null  object\n",
            " 6   time     61253 non-null  object\n",
            " 7   day      61253 non-null  object\n",
            "dtypes: int64(1), object(7)\n",
            "memory usage: 3.7+ MB\n"
          ]
        }
      ],
      "source": [
        "# memperoleh informasi umum tentang data di df\n",
        "df.info()"
      ]
    },
    {
      "cell_type": "markdown",
      "metadata": {
        "id": "TaQ2Iwbr_Zct"
      },
      "source": [
        "Tabel ini berisi tujuh kolom. Semuanya menyimpan tipe data yang sama, yaitu: `objek`.\n",
        "\n",
        "Berdasarkan dokumentasi:\n",
        "- `'userID'` — pengenal pengguna\n",
        "- `'Track'` — judul trek\n",
        "- `'artist'` — nama artis\n",
        "- `'genre'`\n",
        "- `'City'` — kota tempat pengguna berada\n",
        "- `'time'` — lama waktu lagu tersebut dimainkan\n",
        "- `'Day'` — nama hari\n",
        "\n",
        "Kita dapat melihat tiga masalah dengan gaya penulisan nama kolom:\n",
        "1. Beberapa nama huruf besar, beberapa huruf kecil.\n",
        "2. Ada penggunaan spasi pada beberapa nama.\n",
        "3. pada kolom `userID` tidak efsien karena penggabungan kata, sehingga harus dipisah dengan tanda `_`.\n",
        "\n",
        "Jumlah nilai kolom berbeda. Ini berarti data mengandung nilai yang hilang.\n"
      ]
    },
    {
      "cell_type": "markdown",
      "metadata": {
        "id": "MCB6-dXG_Zct"
      },
      "source": [
        "### Kesimpulan <a id='data_review_conclusions'></a> \n",
        "\n",
        "Setiap baris dalam tabel menyimpan data pada lagu yang dimainkan. Beberapa kolom menggambarkan lagu itu sendiri: judul, artis, dan genre. Sisanya menyampaikan informasi tentang pengguna: kota asal mereka, waktu mereka memutar lagu.\n",
        "\n",
        "Jelas bahwa data tersebut cukup untuk menguji hipotesis. Namun, ada nilai-nilai yang hilang.\n",
        "\n",
        "Selanjutnya, kita perlu melakukan pra-pemrosesan data terlebih dahulu."
      ]
    },
    {
      "cell_type": "markdown",
      "metadata": {
        "id": "3eL__vcwViOi"
      },
      "source": [
        "[Kembali ke Daftar Isi](#back)"
      ]
    },
    {
      "cell_type": "markdown",
      "metadata": {
        "id": "SjYF6Ub9_Zct"
      },
      "source": [
        "## Tahap 2. Pra-pemrosesan Data <a id='data_preprocessing'></a>\n",
        "Perbaiki format pada judul kolom dan atasi nilai yang hilang. Kemudian, periksa apakah ada duplikat dalam data."
      ]
    },
    {
      "cell_type": "markdown",
      "metadata": {
        "id": "dIaKXr29_Zct"
      },
      "source": [
        "### Gaya Penulisan Judul <a id='header_style'></a>\n",
        "Tampilkan judul kolom:\n"
      ]
    },
    {
      "cell_type": "code",
      "execution_count": null,
      "metadata": {
        "id": "oKOTdF_Q_Zct",
        "outputId": "771974da-f132-4b14-a0e3-aba4bc4ebd1b"
      },
      "outputs": [
        {
          "data": {
            "text/plain": [
              "Index(['user_id', 'track', 'artist', 'genre', 'city', 'time', 'day'], dtype='object')"
            ]
          },
          "execution_count": 42,
          "metadata": {},
          "output_type": "execute_result"
        }
      ],
      "source": [
        "# daftar nama kolom di tabel df\n",
        "df.columns"
      ]
    },
    {
      "cell_type": "markdown",
      "metadata": {
        "id": "zj5534cv_Zct"
      },
      "source": [
        "Ubah nama kolom sesuai dengan aturan gaya penulisan yang baik:\n",
        "* Jika nama memiliki beberapa kata, gunakan snake_case\n",
        "* Semua karakter harus menggunakan huruf kecil\n",
        "* Hapus spasi"
      ]
    },
    {
      "cell_type": "code",
      "execution_count": null,
      "metadata": {
        "id": "ISlFqs5y_Zct"
      },
      "outputs": [],
      "source": [
        "# mengganti nama kolom\n",
        "df = df.rename(\n",
        "    columns={\n",
        "        '  userID': 'user_id',\n",
        "        'Track': 'track',\n",
        "        '  City  ': 'city',\n",
        "        'Day': 'day',\n",
        "    }\n",
        ")"
      ]
    },
    {
      "cell_type": "markdown",
      "metadata": {
        "id": "1dqbh00J_Zct"
      },
      "source": [
        "Periksa hasilnya. Tampilkan nama kolom sekali lagi:"
      ]
    },
    {
      "cell_type": "code",
      "execution_count": null,
      "metadata": {
        "id": "d4NOAmTW_Zct",
        "outputId": "d55be2c3-bc3a-4106-f001-3a46cdb62665"
      },
      "outputs": [
        {
          "data": {
            "text/plain": [
              "Index(['user_id', 'track', 'artist', 'genre', 'city', 'time', 'day'], dtype='object')"
            ]
          },
          "execution_count": 43,
          "metadata": {},
          "output_type": "execute_result"
        }
      ],
      "source": [
        "# hasil pengecekan: daftar nama kolom\n",
        "df.columns"
      ]
    },
    {
      "cell_type": "markdown",
      "metadata": {
        "id": "xYJk6ksJVpOl"
      },
      "source": [
        "[Kembali ke Daftar Isi](#back)"
      ]
    },
    {
      "cell_type": "markdown",
      "metadata": {
        "id": "5ISfbcfY_Zct"
      },
      "source": [
        "### Nilai-Nilai yang Hilang <a id='missing_values'></a>\n",
        "Pertama, temukan jumlah nilai yang hilang dalam tabel. Untuk melakukannya, gunakan dua metode `Pandas`:"
      ]
    },
    {
      "cell_type": "code",
      "execution_count": null,
      "metadata": {
        "id": "RskX29qr_Zct",
        "scrolled": true,
        "outputId": "dd73fbe7-45f1-49c6-9860-351f5046f314"
      },
      "outputs": [
        {
          "data": {
            "text/plain": [
              "user_id       0\n",
              "track      1343\n",
              "artist     7567\n",
              "genre      1198\n",
              "city          0\n",
              "time          0\n",
              "day           0\n",
              "dtype: int64"
            ]
          },
          "execution_count": 10,
          "metadata": {},
          "output_type": "execute_result"
        }
      ],
      "source": [
        "# menghitung nilai yang hilang\n",
        "df.isna().sum()"
      ]
    },
    {
      "cell_type": "markdown",
      "metadata": {
        "id": "qubhgnlO_Zct"
      },
      "source": [
        "Tidak semua nilai yang hilang berpengaruh terhadap penelitian. Misalnya, nilai yang hilang dalam `track` dan `artist` tidak begitu penting. Anda cukup menggantinya dengan tanda yang jelas.\n",
        "\n",
        "Namun nilai yang hilang dalam `'genre'` dapat memengaruhi perbandingan preferensi musik di Springfield dan Shelbyville. Dalam kehidupan nyata, ini akan berguna untuk mempelajari alasan mengapa data tersebut hilang dan mencoba memperbaikinya. Tetapi kita tidak memiliki kesempatan itu dalam proyek ini. Jadi Anda harus:\n",
        "* Isi nilai yang hilang ini dengan sebuah tanda\n",
        "* Evaluasi seberapa besar nilai yang hilang dapat memengaruhi perhitungan Anda"
      ]
    },
    {
      "cell_type": "markdown",
      "metadata": {
        "id": "fSv2laPA_Zct"
      },
      "source": [
        "Ganti nilai yang hilang pada `'track'`, `'artist'`, dan `'genre'` dengan string `'unknown'`. Untuk melakukannya, buat list `columns_to_replace`, lakukan *loop* dengan `for`, dan ganti nilai yang hilang di setiap kolom:"
      ]
    },
    {
      "cell_type": "code",
      "execution_count": null,
      "metadata": {
        "id": "KplB5qWs_Zct"
      },
      "outputs": [],
      "source": [
        "# loop nama kolom dan ganti nilai yang hilang dengan 'unknown'\n",
        "columns_to_replace = ['track', 'artist', 'genre']\n",
        "\n",
        "for column in columns_to_replace:\n",
        "    df[column]=df[column].fillna('unknown')"
      ]
    },
    {
      "cell_type": "markdown",
      "metadata": {
        "id": "Ilsm-MZo_Zct"
      },
      "source": [
        "Pastikan tidak ada tabel lagi yang berisi nilai yang hilang. Hitung kembali nilai yang hilang."
      ]
    },
    {
      "cell_type": "code",
      "execution_count": null,
      "metadata": {
        "id": "Tq4nYRX4_Zct",
        "outputId": "6b13bc4d-5d76-4a93-8aee-dde3d4ae0888"
      },
      "outputs": [
        {
          "data": {
            "text/plain": [
              "index      0\n",
              "user_id    0\n",
              "track      0\n",
              "artist     0\n",
              "genre      0\n",
              "city       0\n",
              "time       0\n",
              "day        0\n",
              "dtype: int64"
            ]
          },
          "execution_count": 155,
          "metadata": {},
          "output_type": "execute_result"
        }
      ],
      "source": [
        "# menghitung nilai yang hilang\n",
        "df.isna().sum()"
      ]
    },
    {
      "cell_type": "markdown",
      "metadata": {
        "id": "74ZIBmq9VrsK"
      },
      "source": [
        "[Kembali ke Daftar Isi](#back)"
      ]
    },
    {
      "cell_type": "markdown",
      "metadata": {
        "id": "BWKRtBJ3_Zct"
      },
      "source": [
        "### Duplikat <a id='duplicates'></a>\n",
        "Temukan jumlah duplikat yang jelas dalam tabel menggunakan satu perintah:"
      ]
    },
    {
      "cell_type": "code",
      "execution_count": null,
      "metadata": {
        "id": "36eES_S0_Zct",
        "outputId": "c587b353-335f-47e7-b5cc-97befef46ac6"
      },
      "outputs": [
        {
          "data": {
            "text/plain": [
              "3826"
            ]
          },
          "execution_count": 13,
          "metadata": {},
          "output_type": "execute_result"
        }
      ],
      "source": [
        "# menghitung duplikat yang jelas\n",
        "df.duplicated().sum()"
      ]
    },
    {
      "cell_type": "markdown",
      "metadata": {
        "id": "Ot25h6XR_Zct"
      },
      "source": [
        "Panggil metode `Pandas` untuk menghapus duplikat yang jelas:"
      ]
    },
    {
      "cell_type": "code",
      "execution_count": null,
      "metadata": {
        "id": "exFHq6tt_Zct"
      },
      "outputs": [],
      "source": [
        "# menghapus duplikat yang jelas\n",
        "df = df.drop_duplicates().reset_index()"
      ]
    },
    {
      "cell_type": "markdown",
      "metadata": {
        "id": "Im2YwBEG_Zct"
      },
      "source": [
        "Hitung duplikat yang jelas sekali lagi untuk memastikan Anda telah menghapus semuanya:"
      ]
    },
    {
      "cell_type": "code",
      "execution_count": null,
      "metadata": {
        "id": "-8PuNWQ0_Zct",
        "outputId": "d0744798-3b42-4d87-e77e-e123a73a73d7"
      },
      "outputs": [
        {
          "data": {
            "text/plain": [
              "0"
            ]
          },
          "execution_count": 91,
          "metadata": {},
          "output_type": "execute_result"
        }
      ],
      "source": [
        "# memeriksa duplikat\n",
        "df.duplicated().sum()"
      ]
    },
    {
      "cell_type": "markdown",
      "metadata": {
        "id": "QlFBsxAr_Zct"
      },
      "source": [
        "Sekarang hapus duplikat implisit di kolom `genre`. Misalnya, nama genre dapat ditulis dengan cara yang berbeda. Kesalahan seperti ini juga akan memengaruhi hasil."
      ]
    },
    {
      "cell_type": "markdown",
      "metadata": {
        "id": "eSjWwsOh_Zct"
      },
      "source": [
        "Tampilkan daftar nama genre yang unik, urutkan berdasarkan abjad. Untuk melakukannya:\n",
        "* Ambil kolom DataFrame yang dimaksud\n",
        "* Terapkan metode pengurutan untuk itu\n",
        "* Untuk kolom yang diurutkan, panggil metode yang akan menghasilkan semua nilai kolom yang unik"
      ]
    },
    {
      "cell_type": "code",
      "execution_count": null,
      "metadata": {
        "id": "JIUcqzZN_Zct",
        "outputId": "db4e5a3c-4697-4153-9c15-5454e5e183f8"
      },
      "outputs": [
        {
          "data": {
            "text/plain": [
              "array(['acid', 'acoustic', 'action', 'adult', 'africa', 'afrikaans',\n",
              "       'alternative', 'ambient', 'americana', 'animated', 'anime',\n",
              "       'arabesk', 'arabic', 'arena', 'argentinetango', 'art', 'audiobook',\n",
              "       'avantgarde', 'axé', 'baile', 'balkan', 'beats', 'bigroom',\n",
              "       'black', 'bluegrass', 'blues', 'bollywood', 'bossa', 'brazilian',\n",
              "       'breakbeat', 'breaks', 'broadway', 'cantautori', 'cantopop',\n",
              "       'canzone', 'caribbean', 'caucasian', 'celtic', 'chamber',\n",
              "       'children', 'chill', 'chinese', 'choral', 'christian', 'christmas',\n",
              "       'classical', 'classicmetal', 'club', 'colombian', 'comedy',\n",
              "       'conjazz', 'contemporary', 'country', 'cuban', 'dance',\n",
              "       'dancehall', 'dancepop', 'dark', 'death', 'deep', 'deutschrock',\n",
              "       'deutschspr', 'dirty', 'disco', 'dnb', 'documentary', 'downbeat',\n",
              "       'downtempo', 'drum', 'dub', 'dubstep', 'eastern', 'easy',\n",
              "       'electronic', 'electropop', 'emo', 'entehno', 'epicmetal',\n",
              "       'estrada', 'ethnic', 'eurofolk', 'european', 'experimental',\n",
              "       'extrememetal', 'fado', 'film', 'fitness', 'flamenco', 'folk',\n",
              "       'folklore', 'folkmetal', 'folkrock', 'folktronica', 'forró',\n",
              "       'frankreich', 'französisch', 'french', 'funk', 'future', 'gangsta',\n",
              "       'garage', 'german', 'ghazal', 'gitarre', 'glitch', 'gospel',\n",
              "       'gothic', 'grime', 'grunge', 'gypsy', 'handsup', \"hard'n'heavy\",\n",
              "       'hardcore', 'hardstyle', 'hardtechno', 'hiphop', 'historisch',\n",
              "       'holiday', 'horror', 'house', 'idm', 'independent', 'indian',\n",
              "       'indie', 'indipop', 'industrial', 'inspirational', 'instrumental',\n",
              "       'international', 'irish', 'jam', 'japanese', 'jazz', 'jewish',\n",
              "       'jpop', 'jungle', 'k-pop', 'karadeniz', 'karaoke', 'kayokyoku',\n",
              "       'korean', 'laiko', 'latin', 'latino', 'leftfield', 'local',\n",
              "       'lounge', 'loungeelectronic', 'lovers', 'malaysian', 'mandopop',\n",
              "       'marschmusik', 'meditative', 'mediterranean', 'melodic', 'metal',\n",
              "       'metalcore', 'mexican', 'middle', 'minimal', 'miscellaneous',\n",
              "       'modern', 'mood', 'mpb', 'muslim', 'native', 'neoklassik', 'neue',\n",
              "       'new', 'newage', 'newwave', 'nu', 'nujazz', 'numetal', 'oceania',\n",
              "       'old', 'opera', 'orchestral', 'other', 'piano', 'pop',\n",
              "       'popelectronic', 'popeurodance', 'post', 'posthardcore',\n",
              "       'postrock', 'power', 'progmetal', 'progressive', 'psychedelic',\n",
              "       'punjabi', 'punk', 'quebecois', 'ragga', 'ram', 'rancheras', 'rap',\n",
              "       'rave', 'reggae', 'reggaeton', 'regional', 'relax', 'religious',\n",
              "       'retro', 'rhythm', 'rnb', 'rnr', 'rock', 'rockabilly', 'romance',\n",
              "       'roots', 'ruspop', 'rusrap', 'rusrock', 'salsa', 'samba',\n",
              "       'schlager', 'self', 'sertanejo', 'shoegazing', 'showtunes',\n",
              "       'singer', 'ska', 'slow', 'smooth', 'soul', 'soulful', 'sound',\n",
              "       'soundtrack', 'southern', 'specialty', 'speech', 'spiritual',\n",
              "       'sport', 'stonerrock', 'surf', 'swing', 'synthpop',\n",
              "       'sängerportrait', 'tango', 'tanzorchester', 'taraftar', 'tech',\n",
              "       'techno', 'thrash', 'top', 'traditional', 'tradjazz', 'trance',\n",
              "       'tribal', 'trip', 'triphop', 'tropical', 'türk', 'türkçe',\n",
              "       'unknown', 'urban', 'uzbek', 'variété', 'vi', 'videogame', 'vocal',\n",
              "       'western', 'world', 'worldbeat', 'ïîï'], dtype=object)"
            ]
          },
          "execution_count": 156,
          "metadata": {},
          "output_type": "execute_result"
        }
      ],
      "source": [
        "# melihat nama genre yang unik\n",
        "df.sort_values('genre')['genre'].unique()"
      ]
    },
    {
      "cell_type": "markdown",
      "metadata": {
        "id": "qej-Qmuo_Zct"
      },
      "source": [
        "Lihat melalui *list* untuk menemukan duplikat implisit dari genre `hiphop`. Ini bisa berupa nama yang ditulis secara salah atau nama alternatif dari genre yang sama.\n",
        "\n",
        "Anda akan melihat duplikat implisit berikut:\n",
        "* `hip`\n",
        "* `hop`\n",
        "* `hip-hop`\n",
        "\n",
        "Untuk menghapusnya, gunakan fungsi `replace_wrong_genres()` dengan dua parameter:\n",
        "* `wrong_genres=` — daftar duplikat\n",
        "* `correct_genre=` — string dengan nilai yang benar\n",
        "\n",
        "Fungsi harus mengoreksi nama dalam kolom `'genre'` dari tabel `df`, yaitu mengganti setiap nilai dari daftar `wrong_genres` dengan nilai dalam `correct_genre`."
      ]
    },
    {
      "cell_type": "code",
      "execution_count": null,
      "metadata": {
        "id": "ErNDkmns_Zct"
      },
      "outputs": [],
      "source": [
        "# fungsi untuk mengganti duplikat implisit\n",
        "\n",
        "def replace_wrong_genre(wrong_genres, correct_genre):\n",
        "    for wrong_genre in wrong_genres:\n",
        "        df['genre'] = df['genre'].replace(wrong_genre, correct_genre)"
      ]
    },
    {
      "cell_type": "markdown",
      "metadata": {
        "id": "aDoBJxbA_Zct"
      },
      "source": [
        "Panggil `replace_wrong_genres()` dan berikan argumennya sehingga menghapus duplikat implisit (`hip`, `hop`, dan `hip-hop`) dan menggantinya dengan `hiphop`:"
      ]
    },
    {
      "cell_type": "code",
      "execution_count": null,
      "metadata": {
        "id": "YN5i2hpmSo09"
      },
      "outputs": [],
      "source": [
        "# menghapus duplikat implisit\n",
        "\n",
        "duplicates = ['hip', 'hop', 'hip-hop']\n",
        "genre = 'hiphop'\n",
        "replace_wrong_genre(duplicates, genre)"
      ]
    },
    {
      "cell_type": "markdown",
      "metadata": {
        "id": "zQKF16_RG15m"
      },
      "source": [
        "Pastikan nama duplikat telah dihapus. Tampilkan daftar nilai unik dari kolom `'genre'`:"
      ]
    },
    {
      "cell_type": "code",
      "execution_count": null,
      "metadata": {
        "id": "wvixALnFG15m",
        "outputId": "8f608587-2f96-4215-f16c-24924b9470e4"
      },
      "outputs": [
        {
          "data": {
            "text/plain": [
              "array(['acid', 'acoustic', 'action', 'adult', 'africa', 'afrikaans',\n",
              "       'alternative', 'ambient', 'americana', 'animated', 'anime',\n",
              "       'arabesk', 'arabic', 'arena', 'argentinetango', 'art', 'audiobook',\n",
              "       'avantgarde', 'axé', 'baile', 'balkan', 'beats', 'bigroom',\n",
              "       'black', 'bluegrass', 'blues', 'bollywood', 'bossa', 'brazilian',\n",
              "       'breakbeat', 'breaks', 'broadway', 'cantautori', 'cantopop',\n",
              "       'canzone', 'caribbean', 'caucasian', 'celtic', 'chamber',\n",
              "       'children', 'chill', 'chinese', 'choral', 'christian', 'christmas',\n",
              "       'classical', 'classicmetal', 'club', 'colombian', 'comedy',\n",
              "       'conjazz', 'contemporary', 'country', 'cuban', 'dance',\n",
              "       'dancehall', 'dancepop', 'dark', 'death', 'deep', 'deutschrock',\n",
              "       'deutschspr', 'dirty', 'disco', 'dnb', 'documentary', 'downbeat',\n",
              "       'downtempo', 'drum', 'dub', 'dubstep', 'eastern', 'easy',\n",
              "       'electronic', 'electropop', 'emo', 'entehno', 'epicmetal',\n",
              "       'estrada', 'ethnic', 'eurofolk', 'european', 'experimental',\n",
              "       'extrememetal', 'fado', 'film', 'fitness', 'flamenco', 'folk',\n",
              "       'folklore', 'folkmetal', 'folkrock', 'folktronica', 'forró',\n",
              "       'frankreich', 'französisch', 'french', 'funk', 'future', 'gangsta',\n",
              "       'garage', 'german', 'ghazal', 'gitarre', 'glitch', 'gospel',\n",
              "       'gothic', 'grime', 'grunge', 'gypsy', 'handsup', \"hard'n'heavy\",\n",
              "       'hardcore', 'hardstyle', 'hardtechno', 'hiphop', 'historisch',\n",
              "       'holiday', 'horror', 'house', 'idm', 'independent', 'indian',\n",
              "       'indie', 'indipop', 'industrial', 'inspirational', 'instrumental',\n",
              "       'international', 'irish', 'jam', 'japanese', 'jazz', 'jewish',\n",
              "       'jpop', 'jungle', 'k-pop', 'karadeniz', 'karaoke', 'kayokyoku',\n",
              "       'korean', 'laiko', 'latin', 'latino', 'leftfield', 'local',\n",
              "       'lounge', 'loungeelectronic', 'lovers', 'malaysian', 'mandopop',\n",
              "       'marschmusik', 'meditative', 'mediterranean', 'melodic', 'metal',\n",
              "       'metalcore', 'mexican', 'middle', 'minimal', 'miscellaneous',\n",
              "       'modern', 'mood', 'mpb', 'muslim', 'native', 'neoklassik', 'neue',\n",
              "       'new', 'newage', 'newwave', 'nu', 'nujazz', 'numetal', 'oceania',\n",
              "       'old', 'opera', 'orchestral', 'other', 'piano', 'pop',\n",
              "       'popelectronic', 'popeurodance', 'post', 'posthardcore',\n",
              "       'postrock', 'power', 'progmetal', 'progressive', 'psychedelic',\n",
              "       'punjabi', 'punk', 'quebecois', 'ragga', 'ram', 'rancheras', 'rap',\n",
              "       'rave', 'reggae', 'reggaeton', 'regional', 'relax', 'religious',\n",
              "       'retro', 'rhythm', 'rnb', 'rnr', 'rock', 'rockabilly', 'romance',\n",
              "       'roots', 'ruspop', 'rusrap', 'rusrock', 'salsa', 'samba',\n",
              "       'schlager', 'self', 'sertanejo', 'shoegazing', 'showtunes',\n",
              "       'singer', 'ska', 'slow', 'smooth', 'soul', 'soulful', 'sound',\n",
              "       'soundtrack', 'southern', 'specialty', 'speech', 'spiritual',\n",
              "       'sport', 'stonerrock', 'surf', 'swing', 'synthpop',\n",
              "       'sängerportrait', 'tango', 'tanzorchester', 'taraftar', 'tech',\n",
              "       'techno', 'thrash', 'top', 'traditional', 'tradjazz', 'trance',\n",
              "       'tribal', 'trip', 'triphop', 'tropical', 'türk', 'türkçe',\n",
              "       'unknown', 'urban', 'uzbek', 'variété', 'vi', 'videogame', 'vocal',\n",
              "       'western', 'world', 'worldbeat', 'ïîï'], dtype=object)"
            ]
          },
          "execution_count": 157,
          "metadata": {},
          "output_type": "execute_result"
        }
      ],
      "source": [
        "# memeriksa duplikat implisit\n",
        "\n",
        "df.sort_values('genre')['genre'].unique()"
      ]
    },
    {
      "cell_type": "markdown",
      "metadata": {
        "id": "ALgNbvF3VtPA"
      },
      "source": [
        "[Kembali ke Daftar Isi](#back)"
      ]
    },
    {
      "cell_type": "markdown",
      "metadata": {
        "id": "jz6a9-7HQUDd"
      },
      "source": [
        "### Kesimpulan <a id='data_preprocessing_conclusions'></a>\n",
        "Kita mendeteksi tiga masalah dengan data:\n",
        "\n",
        "- Gaya penulisan judul yang salah\n",
        "- Nilai-nilai yang hilang\n",
        "- Duplikat yang jelas dan implisit\n",
        "\n",
        "Judul telah dibersihkan untuk mempermudah pemrosesan tabel.\n",
        "\n",
        "Semua nilai yang hilang telah diganti dengan `'unknown'`. Tapi kita masih harus melihat apakah nilai yang hilang dalam `'genre'` akan memengaruhi perhitungan kita.\n",
        "\n",
        "Tidak adanya duplikat akan membuat hasil lebih tepat dan lebih mudah dipahami.\n",
        "\n",
        "Sekarang kita dapat melanjutkan ke pengujian hipotesis."
      ]
    },
    {
      "cell_type": "markdown",
      "metadata": {
        "id": "eK1es74rVujj"
      },
      "source": [
        "[Kembali ke Daftar Isi](#back)"
      ]
    },
    {
      "cell_type": "markdown",
      "metadata": {
        "id": "WttZHXH0SqKk"
      },
      "source": [
        "## Tahap 3. Menguji Hipotesis <a id='hypotheses'></a>"
      ]
    },
    {
      "cell_type": "markdown",
      "metadata": {
        "id": "Im936VVi_Zcu"
      },
      "source": [
        "### Hipotesis 1: Membandingkan Perilaku Pengguna di Dua Kota <a id='activity'></a>"
      ]
    },
    {
      "cell_type": "markdown",
      "metadata": {
        "id": "nwt_MuaL_Zcu"
      },
      "source": [
        "Menurut hipotesis pertama, pengguna dari Springfield dan Shelbyville memiliki perbedaan dalam mendengarkan musik. Pengujian ini menggunakan data pada hari: Senin, Rabu, dan Jumat.\n",
        "\n",
        "* Pisahkan pengguna ke dalam kelompok berdasarkan kota.\n",
        "* Bandingkan berapa banyak lagu yang dimainkan setiap kelompok pada hari Senin, Rabu, dan Jumat."
      ]
    },
    {
      "cell_type": "markdown",
      "metadata": {
        "id": "8Dw_YMmT_Zcu"
      },
      "source": [
        "Untuk latihan, lakukan setiap perhitungan secara terpisah.\n",
        "\n",
        "Evaluasi aktivitas pengguna di setiap kota. Kelompokkan data berdasarkan kota dan temukan jumlah lagu yang diputar di setiap kelompok.\n",
        "\n"
      ]
    },
    {
      "cell_type": "code",
      "execution_count": null,
      "metadata": {
        "id": "0_Qs96oh_Zcu",
        "scrolled": true,
        "outputId": "3eb4e769-24ec-48ae-c771-377c70fd92db"
      },
      "outputs": [
        {
          "data": {
            "text/plain": [
              "city\n",
              "Shelbyville    18512\n",
              "Springfield    42741\n",
              "Name: user_id, dtype: int64"
            ]
          },
          "execution_count": 160,
          "metadata": {},
          "output_type": "execute_result"
        }
      ],
      "source": [
        "# Menghitung lagu yang diputar di setiap kota\n",
        "\n",
        "df.groupby('city').count()['user_id']"
      ]
    },
    {
      "cell_type": "markdown",
      "metadata": {
        "id": "dzli3w8o_Zcu"
      },
      "source": [
        "Springfield memiliki lebih banyak lagu yang dimainkan daripada Shelbyville. Namun bukan berarti warga Springfield lebih sering mendengarkan musik. Kota ini lebih besar, dan memiliki lebih banyak pengguna.\n",
        "\n",
        "Sekarang kelompokkan data menurut hari dan temukan jumlah lagu yang diputar pada hari Senin, Rabu, dan Jumat."
      ]
    },
    {
      "cell_type": "code",
      "execution_count": null,
      "metadata": {
        "id": "uZMKjiJz_Zcu",
        "scrolled": true,
        "outputId": "526b6c1c-0b1b-46f5-9ff4-9dd077a6ee8d"
      },
      "outputs": [
        {
          "data": {
            "text/plain": [
              "day\n",
              "Friday       21840\n",
              "Monday       21354\n",
              "Wednesday    18059\n",
              "Name: user_id, dtype: int64"
            ]
          },
          "execution_count": 169,
          "metadata": {},
          "output_type": "execute_result"
        }
      ],
      "source": [
        "# Menghitung trek yang diputar pada masing-masing hari\n",
        "\n",
        "df.groupby('day')['user_id'].count()"
      ]
    },
    {
      "cell_type": "markdown",
      "metadata": {
        "id": "cC2tNrlL_Zcu"
      },
      "source": [
        "Rabu adalah hari paling tenang secara keseluruhan. Tetapi jika kita mempertimbangkan kedua kota secara terpisah, kita mungkin akan memiliki kesimpulan yang berbeda."
      ]
    },
    {
      "cell_type": "markdown",
      "metadata": {
        "id": "POzs8bGa_Zcu"
      },
      "source": [
        "Anda telah melihat cara kerja pengelompokan berdasarkan kota atau hari. Sekarang tulis fungsi yang akan dikelompokkan berdasarkan keduanya.\n",
        "\n",
        "Buat fungsi `number_tracks()` untuk menghitung jumlah lagu yang diputar untuk hari dan kota tertentu. Ini akan membutuhkan dua parameter:\n",
        "* nama hari\n",
        "* nama kota\n",
        "\n",
        "Dalam fungsi, gunakan variabel untuk menyimpan baris dari tabel asli, di mana:\n",
        "  *  Nilai kolom `'day'` sama dengan parameter `day`\n",
        "  * Nilai kolom `'city'` sama dengan parameter `city`\n",
        "\n",
        "Terapkan pemfilteran berurutan dengan pengindeksan logis.\n",
        "\n",
        "Kemudian hitung nilai kolom `'user_id'` pada tabel yang dihasilkan. Simpan hasilnya ke variabel baru. Kembalikan variabel ini dari fungsi."
      ]
    },
    {
      "cell_type": "code",
      "execution_count": null,
      "metadata": {
        "id": "Nz3GdQB1_Zcu"
      },
      "outputs": [],
      "source": [
        "# <membuat fungsi number_tracks()>\n",
        "# Kita akan mendeklarasikan sebuah fungsi dengan dua parameter: day=, city=.\n",
        "# Biarkan variabel track_list menyimpan baris df di mana\n",
        "# nilai di kolom 'day' sama dengan parameter day= dan, pada saat yang sama,\n",
        "# nilai pada kolom 'city' sama dengan parameter city= (terapkan pemfilteran berurutan\n",
        "# dengan pengindeksan logis).\n",
        "# Biarkan variabel track_list_count menyimpan jumlah nilai kolom 'user_id' pada track_list\n",
        "# (temukan dengan metode count()).\n",
        "# Biarkan fungsi menghasilkan jumlah: nilai track_list_count.\n",
        "\n",
        "# Fungsi menghitung lagu yang diputar untuk kota dan hari tertentu.\n",
        "# Pertama-tama ini akan mengambil baris dengan hari yang diinginkan dari tabel,\n",
        "# kemudian memfilter baris hasilnya dengan kota yang dimaksud,\n",
        "# kemudian temukan jumlah nilai 'user_id' pada tabel yang difilter,\n",
        "# kemudian menghasilkan jumlah tersebut.\n",
        "# Untuk melihat apa yang dihasilkan, kemas pemanggilan fungsi pada print().\n",
        "#    track_list_count = track_list.groupby('user_id').count()\n",
        "\n",
        "\n",
        "def number_tracks(df, kota, hari):\n",
        "    \n",
        "    track_list = df.loc[(df['city']==kota) & (df['day']==hari)]\n",
        "    track_list_count = track_list.count()['user_id']\n",
        "    \n",
        "    print(track_list_count)\n",
        "    return track_list_count"
      ]
    },
    {
      "cell_type": "markdown",
      "metadata": {
        "id": "ytf7xFrFJQ2r"
      },
      "source": [
        "Panggil `number_tracks()` enam kali dan ubahlah nilai parameternya, sehingga Anda bisa mengambil data di kedua kota untuk masing-masing hari tersebut."
      ]
    },
    {
      "cell_type": "code",
      "execution_count": null,
      "metadata": {
        "id": "rJcRATNQ_Zcu",
        "outputId": "03c8c6c9-de1a-4c82-b89f-787566671cf6"
      },
      "outputs": [
        {
          "name": "stdout",
          "output_type": "stream",
          "text": [
            "15740\n"
          ]
        }
      ],
      "source": [
        "# jumlah lagu yang diputar di Springfield pada hari Senin\n",
        "\n",
        "springfieldandmonday = number_tracks(df, kota='Springfield', hari='Monday')"
      ]
    },
    {
      "cell_type": "code",
      "execution_count": null,
      "metadata": {
        "id": "hq_ncZ5T_Zcu",
        "outputId": "b3323ae0-7268-4b88-ad85-0a15f981a957"
      },
      "outputs": [
        {
          "name": "stdout",
          "output_type": "stream",
          "text": [
            "5614\n"
          ]
        }
      ],
      "source": [
        "# jumlah lagu yang diputar di Shelbyville pada hari Senin\n",
        "\n",
        "shelbyvilleandmonday = number_tracks(df, kota='Shelbyville', hari='Monday')"
      ]
    },
    {
      "cell_type": "code",
      "execution_count": null,
      "metadata": {
        "id": "_NTy2VPU_Zcu",
        "outputId": "b16de84d-0994-43bb-c720-f7ae1da57d83"
      },
      "outputs": [
        {
          "name": "stdout",
          "output_type": "stream",
          "text": [
            "11056\n"
          ]
        }
      ],
      "source": [
        "#  jumlah lagu yang diputar di Springfield pada hari Rabu\n",
        "\n",
        "springfieldandwednesday = number_tracks(df, kota='Springfield', hari='Wednesday')"
      ]
    },
    {
      "cell_type": "code",
      "execution_count": null,
      "metadata": {
        "id": "j2y3TAwo_Zcu",
        "outputId": "7a33f02b-1caf-4400-a8a2-cc8b8f2314af"
      },
      "outputs": [
        {
          "name": "stdout",
          "output_type": "stream",
          "text": [
            "7003\n"
          ]
        }
      ],
      "source": [
        "#  jumlah lagu yang diputar di Shelbyville pada hari Rabu\n",
        "\n",
        "shelbyvilleandwednesday = number_tracks(df, kota='Shelbyville', hari='Wednesday')"
      ]
    },
    {
      "cell_type": "code",
      "execution_count": null,
      "metadata": {
        "id": "vYDw5u_K_Zcu",
        "outputId": "313143d1-d12c-4a66-80e8-8ae40897e739"
      },
      "outputs": [
        {
          "name": "stdout",
          "output_type": "stream",
          "text": [
            "15945\n"
          ]
        }
      ],
      "source": [
        "# jumlah lagu yang diputar di Springfield pada hari Jumat\n",
        "\n",
        "springfieldandfriday = number_tracks(df, kota='Springfield', hari='Friday')"
      ]
    },
    {
      "cell_type": "code",
      "execution_count": null,
      "metadata": {
        "id": "8_yzFtW3_Zcu",
        "outputId": "64b7d27c-5dc4-469a-b477-42c54b334e68"
      },
      "outputs": [
        {
          "name": "stdout",
          "output_type": "stream",
          "text": [
            "5895\n"
          ]
        }
      ],
      "source": [
        "# jumlah lagu yang diputar di Shelbyville pada hari Jumat\n",
        "\n",
        "shelbyvilleanddriday = number_tracks(df, kota='Shelbyville', hari='Friday')"
      ]
    },
    {
      "cell_type": "markdown",
      "metadata": {
        "id": "7QXffbO-_Zcu"
      },
      "source": [
        "Gunakan `pd.DataFrame` untuk membuat tabel, di mana\n",
        "* Nama kolom adalah: `['city', 'monday', 'wednesday', 'friday']`\n",
        "* Data adalah hasil yang Anda dapatkan dari `number_tracks()`"
      ]
    },
    {
      "cell_type": "code",
      "execution_count": null,
      "metadata": {
        "id": "APAcLpOr_Zcu",
        "scrolled": true,
        "outputId": "26fe347f-287c-4a1a-9404-f335ea0499e7"
      },
      "outputs": [
        {
          "data": {
            "text/html": [
              "<div>\n",
              "<style scoped>\n",
              "    .dataframe tbody tr th:only-of-type {\n",
              "        vertical-align: middle;\n",
              "    }\n",
              "\n",
              "    .dataframe tbody tr th {\n",
              "        vertical-align: top;\n",
              "    }\n",
              "\n",
              "    .dataframe thead th {\n",
              "        text-align: right;\n",
              "    }\n",
              "</style>\n",
              "<table border=\"1\" class=\"dataframe\">\n",
              "  <thead>\n",
              "    <tr style=\"text-align: right;\">\n",
              "      <th></th>\n",
              "      <th>city</th>\n",
              "      <th>monday</th>\n",
              "      <th>wednesday</th>\n",
              "      <th>friday</th>\n",
              "    </tr>\n",
              "  </thead>\n",
              "  <tbody>\n",
              "    <tr>\n",
              "      <th>0</th>\n",
              "      <td>Springfield</td>\n",
              "      <td>15740</td>\n",
              "      <td>11056</td>\n",
              "      <td>15945</td>\n",
              "    </tr>\n",
              "    <tr>\n",
              "      <th>1</th>\n",
              "      <td>Shelbyville</td>\n",
              "      <td>5614</td>\n",
              "      <td>7003</td>\n",
              "      <td>5895</td>\n",
              "    </tr>\n",
              "  </tbody>\n",
              "</table>\n",
              "</div>"
            ],
            "text/plain": [
              "          city  monday  wednesday  friday\n",
              "0  Springfield   15740      11056   15945\n",
              "1  Shelbyville    5614       7003    5895"
            ]
          },
          "execution_count": 29,
          "metadata": {},
          "output_type": "execute_result"
        }
      ],
      "source": [
        "# tabel dengan hasil\n",
        "\n",
        "track_list_count = [\n",
        "    ['Springfield', 15740, 11056, 15945],\n",
        "    ['Shelbyville', 5614, 7003, 5895],\n",
        "]\n",
        "\n",
        "entriescolumns = ['city', 'monday', 'wednesday', 'friday']\n",
        "\n",
        "playlist = pd.DataFrame(data=track_list_count, columns=entriescolumns)\n",
        "\n",
        "playlist"
      ]
    },
    {
      "cell_type": "markdown",
      "metadata": {
        "id": "-EgPIHYu_Zcu"
      },
      "source": [
        "**Kesimpulan**\n",
        "\n",
        "Data mengungkapkan perbedaan perilaku pengguna:\n",
        "\n",
        "- Pada Springfield, jumlah lagu yang diputar mencapai puncaknya pada hari Senin dan Jumat, sedangkan pada hari Rabu terjadi penurunan aktivitas.\n",
        "- Di Shelbyville, sebaliknya, pengguna lebih banyak mendengarkan musik pada hari Rabu.\n",
        "\n",
        "Aktivitas pengguna pada hari Senin dan Jumat lebih sedikit."
      ]
    },
    {
      "cell_type": "markdown",
      "metadata": {
        "id": "p7nFQajCVw5B"
      },
      "source": [
        "[Kembali ke Daftar Isi](#back)"
      ]
    },
    {
      "cell_type": "markdown",
      "metadata": {
        "id": "atZAxtq4_Zcu"
      },
      "source": [
        "### Hipotesis 2: Musik di Awal dan Akhir Minggu <a id='week'></a>"
      ]
    },
    {
      "cell_type": "markdown",
      "metadata": {
        "id": "eXrQqXFH_Zcu"
      },
      "source": [
        "Menurut hipotesis kedua, pada Senin pagi dan Jumat malam, warga Springfield mendengarkan genre yang berbeda dari yang dinikmati warga Shelbyville."
      ]
    },
    {
      "cell_type": "markdown",
      "metadata": {
        "id": "S8UcW6Hw_Zcu"
      },
      "source": [
        "Dapatkan tabel (pastikan nama tabel gabungan Anda cocok dengan DataFrame yang diberikan dalam dua blok kode di bawah):\n",
        "* Untuk Springfield — `spr_general`\n",
        "* Untuk Shelbyville — `shel_general`"
      ]
    },
    {
      "cell_type": "code",
      "execution_count": null,
      "metadata": {
        "id": "qeaFfM_P_Zcu",
        "outputId": "ff92fd46-e35d-44e3-8bfe-77f2c0e0485a"
      },
      "outputs": [
        {
          "data": {
            "text/html": [
              "<div>\n",
              "<style scoped>\n",
              "    .dataframe tbody tr th:only-of-type {\n",
              "        vertical-align: middle;\n",
              "    }\n",
              "\n",
              "    .dataframe tbody tr th {\n",
              "        vertical-align: top;\n",
              "    }\n",
              "\n",
              "    .dataframe thead th {\n",
              "        text-align: right;\n",
              "    }\n",
              "</style>\n",
              "<table border=\"1\" class=\"dataframe\">\n",
              "  <thead>\n",
              "    <tr style=\"text-align: right;\">\n",
              "      <th></th>\n",
              "      <th>user_id</th>\n",
              "      <th>track</th>\n",
              "      <th>artist</th>\n",
              "      <th>genre</th>\n",
              "      <th>city</th>\n",
              "      <th>time</th>\n",
              "      <th>day</th>\n",
              "    </tr>\n",
              "  </thead>\n",
              "  <tbody>\n",
              "    <tr>\n",
              "      <th>1</th>\n",
              "      <td>55204538</td>\n",
              "      <td>Delayed Because of Accident</td>\n",
              "      <td>Andreas Rönnberg</td>\n",
              "      <td>rock</td>\n",
              "      <td>Springfield</td>\n",
              "      <td>14:07:09</td>\n",
              "      <td>Friday</td>\n",
              "    </tr>\n",
              "    <tr>\n",
              "      <th>4</th>\n",
              "      <td>E2DC1FAE</td>\n",
              "      <td>Soul People</td>\n",
              "      <td>Space Echo</td>\n",
              "      <td>dance</td>\n",
              "      <td>Springfield</td>\n",
              "      <td>08:34:34</td>\n",
              "      <td>Monday</td>\n",
              "    </tr>\n",
              "    <tr>\n",
              "      <th>6</th>\n",
              "      <td>4CB90AA5</td>\n",
              "      <td>True</td>\n",
              "      <td>Roman Messer</td>\n",
              "      <td>dance</td>\n",
              "      <td>Springfield</td>\n",
              "      <td>13:00:07</td>\n",
              "      <td>Wednesday</td>\n",
              "    </tr>\n",
              "    <tr>\n",
              "      <th>7</th>\n",
              "      <td>F03E1C1F</td>\n",
              "      <td>Feeling This Way</td>\n",
              "      <td>Polina Griffith</td>\n",
              "      <td>dance</td>\n",
              "      <td>Springfield</td>\n",
              "      <td>20:47:49</td>\n",
              "      <td>Wednesday</td>\n",
              "    </tr>\n",
              "    <tr>\n",
              "      <th>8</th>\n",
              "      <td>8FA1D3BE</td>\n",
              "      <td>L’estate</td>\n",
              "      <td>Julia Dalia</td>\n",
              "      <td>ruspop</td>\n",
              "      <td>Springfield</td>\n",
              "      <td>09:17:40</td>\n",
              "      <td>Friday</td>\n",
              "    </tr>\n",
              "    <tr>\n",
              "      <th>...</th>\n",
              "      <td>...</td>\n",
              "      <td>...</td>\n",
              "      <td>...</td>\n",
              "      <td>...</td>\n",
              "      <td>...</td>\n",
              "      <td>...</td>\n",
              "      <td>...</td>\n",
              "    </tr>\n",
              "    <tr>\n",
              "      <th>65073</th>\n",
              "      <td>83A474E7</td>\n",
              "      <td>I Worship Only What You Bleed</td>\n",
              "      <td>The Black Dahlia Murder</td>\n",
              "      <td>extrememetal</td>\n",
              "      <td>Springfield</td>\n",
              "      <td>21:07:12</td>\n",
              "      <td>Monday</td>\n",
              "    </tr>\n",
              "    <tr>\n",
              "      <th>65074</th>\n",
              "      <td>729CBB09</td>\n",
              "      <td>My Name</td>\n",
              "      <td>McLean</td>\n",
              "      <td>rnb</td>\n",
              "      <td>Springfield</td>\n",
              "      <td>13:32:28</td>\n",
              "      <td>Wednesday</td>\n",
              "    </tr>\n",
              "    <tr>\n",
              "      <th>65076</th>\n",
              "      <td>C5E3A0D5</td>\n",
              "      <td>Jalopiina</td>\n",
              "      <td>unknown</td>\n",
              "      <td>industrial</td>\n",
              "      <td>Springfield</td>\n",
              "      <td>20:09:26</td>\n",
              "      <td>Friday</td>\n",
              "    </tr>\n",
              "    <tr>\n",
              "      <th>65077</th>\n",
              "      <td>321D0506</td>\n",
              "      <td>Freight Train</td>\n",
              "      <td>Chas McDevitt</td>\n",
              "      <td>rock</td>\n",
              "      <td>Springfield</td>\n",
              "      <td>21:43:59</td>\n",
              "      <td>Friday</td>\n",
              "    </tr>\n",
              "    <tr>\n",
              "      <th>65078</th>\n",
              "      <td>3A64EF84</td>\n",
              "      <td>Tell Me Sweet Little Lies</td>\n",
              "      <td>Monica Lopez</td>\n",
              "      <td>country</td>\n",
              "      <td>Springfield</td>\n",
              "      <td>21:59:46</td>\n",
              "      <td>Friday</td>\n",
              "    </tr>\n",
              "  </tbody>\n",
              "</table>\n",
              "<p>42741 rows × 7 columns</p>\n",
              "</div>"
            ],
            "text/plain": [
              "        user_id                          track                   artist  \\\n",
              "1      55204538    Delayed Because of Accident         Andreas Rönnberg   \n",
              "4      E2DC1FAE                    Soul People               Space Echo   \n",
              "6      4CB90AA5                           True             Roman Messer   \n",
              "7      F03E1C1F               Feeling This Way          Polina Griffith   \n",
              "8      8FA1D3BE                       L’estate              Julia Dalia   \n",
              "...         ...                            ...                      ...   \n",
              "65073  83A474E7  I Worship Only What You Bleed  The Black Dahlia Murder   \n",
              "65074  729CBB09                        My Name                   McLean   \n",
              "65076  C5E3A0D5                      Jalopiina                  unknown   \n",
              "65077  321D0506                  Freight Train            Chas McDevitt   \n",
              "65078  3A64EF84      Tell Me Sweet Little Lies             Monica Lopez   \n",
              "\n",
              "              genre         city      time        day  \n",
              "1              rock  Springfield  14:07:09     Friday  \n",
              "4             dance  Springfield  08:34:34     Monday  \n",
              "6             dance  Springfield  13:00:07  Wednesday  \n",
              "7             dance  Springfield  20:47:49  Wednesday  \n",
              "8            ruspop  Springfield  09:17:40     Friday  \n",
              "...             ...          ...       ...        ...  \n",
              "65073  extrememetal  Springfield  21:07:12     Monday  \n",
              "65074           rnb  Springfield  13:32:28  Wednesday  \n",
              "65076    industrial  Springfield  20:09:26     Friday  \n",
              "65077          rock  Springfield  21:43:59     Friday  \n",
              "65078       country  Springfield  21:59:46     Friday  \n",
              "\n",
              "[42741 rows x 7 columns]"
            ]
          },
          "execution_count": 30,
          "metadata": {},
          "output_type": "execute_result"
        }
      ],
      "source": [
        "# mendapatkan tabel spr_general dari baris df,\n",
        "# dimana nilai dari kolom 'city' adalah 'Springfield'\n",
        "\n",
        "df.loc[(df['city']=='Springfield')]"
      ]
    },
    {
      "cell_type": "code",
      "execution_count": null,
      "metadata": {
        "id": "ORaVRKto_Zcu",
        "scrolled": true,
        "outputId": "e2327225-71b6-47bc-f5dd-c69e4b56cb2c"
      },
      "outputs": [
        {
          "data": {
            "text/html": [
              "<div>\n",
              "<style scoped>\n",
              "    .dataframe tbody tr th:only-of-type {\n",
              "        vertical-align: middle;\n",
              "    }\n",
              "\n",
              "    .dataframe tbody tr th {\n",
              "        vertical-align: top;\n",
              "    }\n",
              "\n",
              "    .dataframe thead th {\n",
              "        text-align: right;\n",
              "    }\n",
              "</style>\n",
              "<table border=\"1\" class=\"dataframe\">\n",
              "  <thead>\n",
              "    <tr style=\"text-align: right;\">\n",
              "      <th></th>\n",
              "      <th>user_id</th>\n",
              "      <th>track</th>\n",
              "      <th>artist</th>\n",
              "      <th>genre</th>\n",
              "      <th>city</th>\n",
              "      <th>time</th>\n",
              "      <th>day</th>\n",
              "    </tr>\n",
              "  </thead>\n",
              "  <tbody>\n",
              "    <tr>\n",
              "      <th>0</th>\n",
              "      <td>FFB692EC</td>\n",
              "      <td>Kamigata To Boots</td>\n",
              "      <td>The Mass Missile</td>\n",
              "      <td>rock</td>\n",
              "      <td>Shelbyville</td>\n",
              "      <td>20:28:33</td>\n",
              "      <td>Wednesday</td>\n",
              "    </tr>\n",
              "    <tr>\n",
              "      <th>2</th>\n",
              "      <td>20EC38</td>\n",
              "      <td>Funiculì funiculà</td>\n",
              "      <td>Mario Lanza</td>\n",
              "      <td>pop</td>\n",
              "      <td>Shelbyville</td>\n",
              "      <td>20:58:07</td>\n",
              "      <td>Wednesday</td>\n",
              "    </tr>\n",
              "    <tr>\n",
              "      <th>3</th>\n",
              "      <td>A3DD03C9</td>\n",
              "      <td>Dragons in the Sunset</td>\n",
              "      <td>Fire + Ice</td>\n",
              "      <td>folk</td>\n",
              "      <td>Shelbyville</td>\n",
              "      <td>08:37:09</td>\n",
              "      <td>Monday</td>\n",
              "    </tr>\n",
              "    <tr>\n",
              "      <th>5</th>\n",
              "      <td>842029A1</td>\n",
              "      <td>Chains</td>\n",
              "      <td>Obladaet</td>\n",
              "      <td>rusrap</td>\n",
              "      <td>Shelbyville</td>\n",
              "      <td>13:09:41</td>\n",
              "      <td>Friday</td>\n",
              "    </tr>\n",
              "    <tr>\n",
              "      <th>9</th>\n",
              "      <td>E772D5C0</td>\n",
              "      <td>Pessimist</td>\n",
              "      <td>unknown</td>\n",
              "      <td>dance</td>\n",
              "      <td>Shelbyville</td>\n",
              "      <td>21:20:49</td>\n",
              "      <td>Wednesday</td>\n",
              "    </tr>\n",
              "    <tr>\n",
              "      <th>...</th>\n",
              "      <td>...</td>\n",
              "      <td>...</td>\n",
              "      <td>...</td>\n",
              "      <td>...</td>\n",
              "      <td>...</td>\n",
              "      <td>...</td>\n",
              "      <td>...</td>\n",
              "    </tr>\n",
              "    <tr>\n",
              "      <th>65063</th>\n",
              "      <td>D94F810B</td>\n",
              "      <td>Theme from the Walking Dead</td>\n",
              "      <td>Proyecto Halloween</td>\n",
              "      <td>film</td>\n",
              "      <td>Shelbyville</td>\n",
              "      <td>21:14:40</td>\n",
              "      <td>Monday</td>\n",
              "    </tr>\n",
              "    <tr>\n",
              "      <th>65064</th>\n",
              "      <td>BC8EC5CF</td>\n",
              "      <td>Red Lips: Gta (Rover Rework)</td>\n",
              "      <td>Rover</td>\n",
              "      <td>electronic</td>\n",
              "      <td>Shelbyville</td>\n",
              "      <td>21:06:50</td>\n",
              "      <td>Monday</td>\n",
              "    </tr>\n",
              "    <tr>\n",
              "      <th>65065</th>\n",
              "      <td>29E04611</td>\n",
              "      <td>Bre Petrunko</td>\n",
              "      <td>Perunika Trio</td>\n",
              "      <td>world</td>\n",
              "      <td>Shelbyville</td>\n",
              "      <td>13:56:00</td>\n",
              "      <td>Monday</td>\n",
              "    </tr>\n",
              "    <tr>\n",
              "      <th>65066</th>\n",
              "      <td>1B91C621</td>\n",
              "      <td>(Hello) Cloud Mountain</td>\n",
              "      <td>sleepmakeswaves</td>\n",
              "      <td>postrock</td>\n",
              "      <td>Shelbyville</td>\n",
              "      <td>09:22:13</td>\n",
              "      <td>Monday</td>\n",
              "    </tr>\n",
              "    <tr>\n",
              "      <th>65075</th>\n",
              "      <td>D08D4A55</td>\n",
              "      <td>Maybe One Day (feat. Black Spade)</td>\n",
              "      <td>Blu &amp; Exile</td>\n",
              "      <td>hiphop</td>\n",
              "      <td>Shelbyville</td>\n",
              "      <td>10:00:00</td>\n",
              "      <td>Monday</td>\n",
              "    </tr>\n",
              "  </tbody>\n",
              "</table>\n",
              "<p>18512 rows × 7 columns</p>\n",
              "</div>"
            ],
            "text/plain": [
              "        user_id                              track              artist  \\\n",
              "0      FFB692EC                  Kamigata To Boots    The Mass Missile   \n",
              "2        20EC38                  Funiculì funiculà         Mario Lanza   \n",
              "3      A3DD03C9              Dragons in the Sunset          Fire + Ice   \n",
              "5      842029A1                             Chains            Obladaet   \n",
              "9      E772D5C0                          Pessimist             unknown   \n",
              "...         ...                                ...                 ...   \n",
              "65063  D94F810B        Theme from the Walking Dead  Proyecto Halloween   \n",
              "65064  BC8EC5CF       Red Lips: Gta (Rover Rework)               Rover   \n",
              "65065  29E04611                       Bre Petrunko       Perunika Trio   \n",
              "65066  1B91C621             (Hello) Cloud Mountain     sleepmakeswaves   \n",
              "65075  D08D4A55  Maybe One Day (feat. Black Spade)         Blu & Exile   \n",
              "\n",
              "            genre         city      time        day  \n",
              "0            rock  Shelbyville  20:28:33  Wednesday  \n",
              "2             pop  Shelbyville  20:58:07  Wednesday  \n",
              "3            folk  Shelbyville  08:37:09     Monday  \n",
              "5          rusrap  Shelbyville  13:09:41     Friday  \n",
              "9           dance  Shelbyville  21:20:49  Wednesday  \n",
              "...           ...          ...       ...        ...  \n",
              "65063        film  Shelbyville  21:14:40     Monday  \n",
              "65064  electronic  Shelbyville  21:06:50     Monday  \n",
              "65065       world  Shelbyville  13:56:00     Monday  \n",
              "65066    postrock  Shelbyville  09:22:13     Monday  \n",
              "65075      hiphop  Shelbyville  10:00:00     Monday  \n",
              "\n",
              "[18512 rows x 7 columns]"
            ]
          },
          "execution_count": 31,
          "metadata": {},
          "output_type": "execute_result"
        }
      ],
      "source": [
        "# mendapatkan shel_general dari baris df,\n",
        "# dimana nilai dari kolom 'city' adalah 'Shelbyville'\n",
        "\n",
        "df.loc[(df['city']=='Shelbyville')]"
      ]
    },
    {
      "cell_type": "markdown",
      "metadata": {
        "id": "MEJV-CX2_Zcu"
      },
      "source": [
        "Tulis fungsi `genre_weekday()` dengan empat parameter:\n",
        "* Sebuah tabel untuk data\n",
        "* Nama hari\n",
        "* Tanda waktu pertama, dalam format 'hh:mm'\n",
        "* Tanda waktu terakhir, dalam format 'hh: mm'\n",
        "\n",
        "Fungsi tersebut harus menghasilkan info tentang 15 genre paling populer pada hari tertentu dalam periode diantara dua tanda waktu."
      ]
    },
    {
      "cell_type": "code",
      "execution_count": null,
      "metadata": {
        "id": "laJT9BYl_Zcu"
      },
      "outputs": [],
      "source": [
        "# Mendeklarasikan fungsi genre_weekday() dengan parameter day=, time1=, dan time2=. Itu harus\n",
        "# memberikan informasi tentang genre paling populer pada hari dan waktu tertentu:\n",
        "\n",
        "# 1) Biarkan variabel genre_df menyimpan baris yang memenuhi beberapa ketentuan:\n",
        "#    - nilai pada kolom 'day' sama dengan nilai argumen hari=\n",
        "#    - nilai pada kolom 'time' lebih besar dari nilai argumen time1=\n",
        "#    - nilai pada kolom 'time' lebih kecil dari nilai argumen time2=\n",
        "#    Gunakan pemfilteran berurutan dengan pengindeksan logis.\n",
        "\n",
        "# 2) Kelompokkan genre_df berdasarkan kolom 'genre', lalu ambil salah satu kolomnya,\n",
        "#    dan gunakan metode count() untuk menemukan jumlah entri untuk masing-masing\n",
        "#    genre yang diwakili; simpan Series yang dihasilkan ke\n",
        "#    variabel genre_df_count\n",
        "\n",
        "# 3) Urutkan genre_df_count dalam urutan menurun dan simpan hasilnya\n",
        "#    ke variabel genre_df_sorted\n",
        "\n",
        "# 4) Menghasilkan objek Series dengan nilai 15 genre_df_sorted pertama - 15 genre paling\n",
        "#    populer (pada hari tertentu, dalam jangka waktu tertentu)\n",
        "\n",
        "# tulis fungsi Anda di sini\n",
        "\n",
        "# NoteForMyself: df harus dimasukan dalam parameter, agar tidak saat pembuatan definisi tidak error atau tidak terbaca!!\n",
        "\n",
        "def genre_weekday(df, hari, waktu1, waktu2, kota):\n",
        "    \n",
        "    genre_df_grouped = df.loc[(df['day'] == hari) & (df['time'] >= waktu1) & (df['time'] <= waktu2) & (df['city']==kota)].groupby('genre').count()\n",
        "    genre_df_sorted = genre_df_grouped.sort_values('user_id', ascending=False)['user_id']\n",
        "                           \n",
        "    return genre_df_sorted[:15]\n",
        "   \n",
        "                           \n",
        "    # print(len(listwaktuhari))\n",
        "    # return listwaktuhari\n",
        "    \n",
        "    # pemfilteran berturut-turut\n",
        "    # genre_df hanya akan menyimpan baris df di mana day sama dengan day=\n",
        "    # genre_df = df.loc[(df['day']==harinya)] # tulis kode program Anda di sini\n",
        "\n",
        "    # genre_df hanya akan menyimpan baris df di mana time lebih kecil dari time2=\n",
        "    # genre_df = df.loc[(df['time']<waktu2)] # tulis kode program Anda di sini\n",
        "\n",
        "    # genre_df hanya akan menyimpan baris df di mana time lebih besar dari time1=\n",
        "    # genre_df = df.loc[(df['time']>waktu2)] # tulis kode program Anda di sini\n",
        "\n",
        "    # kelompokkan DataFrame yang difilter berdasarkan kolom dengan nama genre, ambil kolom genre, dan temukan jumlah baris untuk setiap genre dengan metode count()\n",
        "    # genre_df_grouped = listwaktuhari.groupby('day').count()['genre'] # tulis kode program Anda di sini\n",
        "\n",
        "    # kita akan mengurutkan hasilnya dalam urutan menurun (sehingga genre paling populer didahulukan pada objek Series\n",
        "    # genre_df_sorted = genre_df_grouped.sort_value('genre') # tulis kode program Anda di sini\n",
        "\n",
        "    # kita akan menghasilkan objek Series yang menyimpan 15 genre paling populer pada hari tertentu dalam jangka waktu tertentu\n",
        "    # return genre_df_sorted[:15]"
      ]
    },
    {
      "cell_type": "markdown",
      "metadata": {
        "id": "la2s2_PF_Zcu"
      },
      "source": [
        "Bandingkan hasil fungsi `genre_weekday()` untuk Springfield dan Shelbyville pada Senin pagi (dari pukul 07.00 hingga 11.00) dan pada Jumat malam (dari pukul 17:00 hingga 23:00):"
      ]
    },
    {
      "cell_type": "code",
      "execution_count": null,
      "metadata": {
        "id": "yz7itPUQ_Zcu",
        "outputId": "73747290-ec0a-4f30-b84b-4b67e685faa8"
      },
      "outputs": [
        {
          "data": {
            "text/plain": [
              "genre\n",
              "pop            781\n",
              "dance          549\n",
              "electronic     480\n",
              "rock           474\n",
              "hiphop         286\n",
              "ruspop         186\n",
              "world          181\n",
              "rusrap         175\n",
              "alternative    164\n",
              "unknown        161\n",
              "classical      157\n",
              "metal          120\n",
              "jazz           100\n",
              "folk            97\n",
              "soundtrack      95\n",
              "Name: user_id, dtype: int64"
            ]
          },
          "execution_count": 94,
          "metadata": {},
          "output_type": "execute_result"
        }
      ],
      "source": [
        "# memanggil fungsi untuk Senin pagi di Springfield (gunakan spr_general alih-alih tabel df)\n",
        "\n",
        "morningmondayspringfield = genre_weekday(df, hari='Monday', waktu1='07:00', waktu2='11:00', kota='Springfield')\n",
        "morningmondayspringfield"
      ]
    },
    {
      "cell_type": "code",
      "execution_count": null,
      "metadata": {
        "id": "kwUcHPdy_Zcu",
        "outputId": "afa2dafd-04f8-4a08-a2f6-07570d4d33f1"
      },
      "outputs": [
        {
          "data": {
            "text/plain": [
              "genre\n",
              "pop            218\n",
              "dance          182\n",
              "rock           162\n",
              "electronic     147\n",
              "hiphop          80\n",
              "ruspop          64\n",
              "alternative     58\n",
              "rusrap          55\n",
              "jazz            44\n",
              "classical       40\n",
              "world           36\n",
              "rap             32\n",
              "soundtrack      31\n",
              "rnb             27\n",
              "metal           27\n",
              "Name: user_id, dtype: int64"
            ]
          },
          "execution_count": 95,
          "metadata": {},
          "output_type": "execute_result"
        }
      ],
      "source": [
        "# memanggil fungsi untuk Senin pagi di Shelbyville (gunakan shel_general alih-alih tabel df)\n",
        "\n",
        "morningmondayshelbyville = genre_weekday(df, hari='Monday', waktu1='07:00', waktu2='11:00', kota='Shelbyville')\n",
        "morningmondayshelbyville"
      ]
    },
    {
      "cell_type": "code",
      "execution_count": null,
      "metadata": {
        "id": "EzXVRE1o_Zcu",
        "outputId": "2ff01330-1679-4035-c85c-6ffa7fc21f7f"
      },
      "outputs": [
        {
          "data": {
            "text/plain": [
              "genre\n",
              "pop            713\n",
              "rock           517\n",
              "dance          495\n",
              "electronic     482\n",
              "hiphop         273\n",
              "world          208\n",
              "ruspop         170\n",
              "classical      163\n",
              "alternative    163\n",
              "rusrap         142\n",
              "jazz           111\n",
              "unknown        110\n",
              "soundtrack     105\n",
              "rnb             90\n",
              "metal           88\n",
              "Name: user_id, dtype: int64"
            ]
          },
          "execution_count": 96,
          "metadata": {},
          "output_type": "execute_result"
        }
      ],
      "source": [
        "# memanggil fungsi untuk Jumat malam di Springfield\n",
        "\n",
        "eveningfridayspringfield = genre_weekday(df, hari='Friday', waktu1='17:00', waktu2='23:00', kota='Springfield')\n",
        "eveningfridayspringfield"
      ]
    },
    {
      "cell_type": "code",
      "execution_count": null,
      "metadata": {
        "id": "JZaEKu5v_Zcu",
        "scrolled": true,
        "outputId": "39171d4a-21dc-4ca7-a3ff-a38bebc4c87e"
      },
      "outputs": [
        {
          "data": {
            "text/plain": [
              "genre\n",
              "pop            256\n",
              "rock           216\n",
              "electronic     216\n",
              "dance          210\n",
              "hiphop          97\n",
              "alternative     63\n",
              "jazz            61\n",
              "classical       60\n",
              "rusrap          59\n",
              "world           54\n",
              "unknown         47\n",
              "ruspop          47\n",
              "soundtrack      40\n",
              "metal           39\n",
              "rap             36\n",
              "Name: user_id, dtype: int64"
            ]
          },
          "execution_count": 97,
          "metadata": {},
          "output_type": "execute_result"
        }
      ],
      "source": [
        "# memanggil fungsi untuk Jumat malam di Shelbyville\n",
        "\n",
        "eveningfridayshelbyville = genre_weekday(df, hari='Friday', waktu1='17:00', waktu2='23:00', kota='Shelbyville')\n",
        "eveningfridayshelbyville"
      ]
    },
    {
      "cell_type": "markdown",
      "metadata": {
        "id": "wrCe4MNX_Zcu"
      },
      "source": [
        "**Kesimpulan**\n",
        "\n",
        "Setelah membandingkan 15 genre teratas pada Senin pagi, kita dapat menarik kesimpulan berikut:\n",
        "\n",
        "1. Pengguna dari Springfield dan Shelbyville mendengarkan musik dengan genre yang sama. Lima genre teratas sama, hanya rock dan elektronik yang bertukar tempat.\n",
        "\n",
        "2. Di Springfield, jumlah nilai yang hilang ternyata sangat besar sehingga nilai `'unknown'` berada di urutan ke-10. Ini berarti bahwa nilai-nilai yang hilang memiliki jumlah data yang cukup besar, yang mungkin menjadi dasar untuk mempertanyakan ketepatan kesimpulan kita.\n",
        "\n",
        "Untuk Jumat malam, situasinya serupa. Genre individu agak bervariasi, tetapi secara keseluruhan, 15 besar genre untuk kedua kota sama.\n",
        "\n",
        "Dengan demikian, hipotesis kedua sebagian terbukti benar:\n",
        "* Pengguna mendengarkan musik yang sama di awal dan akhir minggu.\n",
        "* Tidak ada perbedaan yang mencolok antara Springfield dan Shelbyville. Pada kedua kota tersebut, pop adalah genre yang paling populer.\n",
        "\n",
        "Namun, jumlah nilai yang hilang membuat hasil ini dipertanyakan. Di Springfield, ada begitu banyak yang memengaruhi 15 teratas kita. Jika kita tidak mengabaikan nilai-nilai ini, hasilnya mungkin akan berbeda."
      ]
    },
    {
      "cell_type": "markdown",
      "metadata": {
        "id": "jLmXgdanVyhP"
      },
      "source": [
        "[Kembali ke Daftar Isi](#back)"
      ]
    },
    {
      "cell_type": "markdown",
      "metadata": {
        "id": "JolODAqr_Zcu"
      },
      "source": [
        "### Hipotesis 3: Preferensi Genre di Springfield dan Shelbyville <a id='genre'></a>\n",
        "\n",
        "Hipotesis: Shelbyville menyukai musik rap. Warga Springfield lebih menyukai pop."
      ]
    },
    {
      "cell_type": "markdown",
      "metadata": {
        "id": "DlegSvaT_Zcu"
      },
      "source": [
        "Kelompokkan tabel `spr_general` berdasarkan genre dan temukan jumlah lagu yang dimainkan untuk setiap genre dengan metode `count()`. Kemudian urutkan hasilnya dalam urutan menurun dan simpan ke `spr_genres`."
      ]
    },
    {
      "cell_type": "code",
      "execution_count": null,
      "metadata": {
        "id": "r19lIPke_Zcu"
      },
      "outputs": [],
      "source": [
        "# pada satu baris: kelompokkan tabel spr_general berdasarkan kolom 'genre',\n",
        "# hitung nilai 'genre' dengan count() dalam pengelompokan,\n",
        "# urutkan Series yang dihasilkan dalam urutan menurun, lalu simpan ke spr_genres\n",
        "\n",
        "spr_general2 = df.loc[(df['city']=='Springfield')].groupby('genre').count()\n",
        "spr_genres = spr_general2.sort_values(by='user_id', ascending=False)['user_id']"
      ]
    },
    {
      "cell_type": "markdown",
      "metadata": {
        "id": "6kMuomxTiIr8"
      },
      "source": [
        "Tampilkan 10 baris pertama dari `spr_genres`:"
      ]
    },
    {
      "cell_type": "code",
      "execution_count": null,
      "metadata": {
        "id": "WhCSooF8_Zcv",
        "outputId": "cac15850-c460-48d2-d33c-459042a7a8fd"
      },
      "outputs": [
        {
          "data": {
            "text/plain": [
              "genre\n",
              "pop            5892\n",
              "dance          4435\n",
              "rock           3965\n",
              "electronic     3786\n",
              "hiphop         2096\n",
              "classical      1616\n",
              "world          1432\n",
              "alternative    1379\n",
              "ruspop         1372\n",
              "rusrap         1161\n",
              "Name: user_id, dtype: int64"
            ]
          },
          "execution_count": 80,
          "metadata": {},
          "output_type": "execute_result"
        }
      ],
      "source": [
        "# menampilkan 10 baris pertama dari spr_genres\n",
        "spr_genres.head(10)"
      ]
    },
    {
      "cell_type": "markdown",
      "metadata": {
        "id": "cnPG2vnN_Zcv"
      },
      "source": [
        "Sekarang lakukan hal yang sama pada data di Shelbyville.\n",
        "\n",
        "Kelompokkan tabel `shel_general` berdasarkan genre dan temukan jumlah lagu yang dimainkan untuk setiap genre. Kemudian urutkan hasilnya dalam urutan menurun dan simpan ke tabel `shel_genres`:"
      ]
    },
    {
      "cell_type": "code",
      "execution_count": null,
      "metadata": {
        "id": "gluLIpE7_Zcv"
      },
      "outputs": [],
      "source": [
        "# pada satu baris: kelompokkan tabel shel_general menurut kolom 'genre',\n",
        "# hitung nilai 'genre' dalam pengelompokan menggunakan count(),\n",
        "# urutkan Series yang dihasilkan dalam urutan menurun dan simpan ke shel_genres\n",
        "\n",
        "shel_general2 = df.loc[(df['city']=='Shelbyville')].groupby('genre').count()\n",
        "shel_genres = shel_general2.sort_values(by='user_id', ascending=False)['user_id']"
      ]
    },
    {
      "cell_type": "markdown",
      "metadata": {
        "id": "5Doha_ODgyQ8"
      },
      "source": [
        "Tampilkan 10 baris pertama dari `shel_genres`:"
      ]
    },
    {
      "cell_type": "code",
      "execution_count": null,
      "metadata": {
        "id": "uaGJHjVU_Zcv",
        "outputId": "78a741b0-b046-484b-f8d1-046a0b44a3ef"
      },
      "outputs": [
        {
          "data": {
            "text/plain": [
              "genre\n",
              "pop            2431\n",
              "dance          1932\n",
              "rock           1879\n",
              "electronic     1736\n",
              "hiphop          960\n",
              "alternative     649\n",
              "classical       646\n",
              "rusrap          564\n",
              "ruspop          538\n",
              "world           515\n",
              "Name: user_id, dtype: int64"
            ]
          },
          "execution_count": 82,
          "metadata": {},
          "output_type": "execute_result"
        }
      ],
      "source": [
        "# menampilkan 10 baris pertama dari shel_genres\n",
        "shel_genres.head(10)"
      ]
    },
    {
      "cell_type": "markdown",
      "metadata": {
        "id": "RY51YJYu_Zcv"
      },
      "source": [
        "**Kesimpulan**"
      ]
    },
    {
      "cell_type": "markdown",
      "metadata": {
        "id": "nVhnJEm__Zcv"
      },
      "source": [
        "Hipotesis terbukti benar sebagian:\n",
        "* Musik pop adalah genre paling populer di Springfield, seperti yang diharapkan.\n",
        "* Namun, musik pop ternyata sama populernya baik di Springfield maupun di Shelbyville, dan musik rap tidak berada di 5 besar untuk kedua kota tersebut.\n"
      ]
    },
    {
      "cell_type": "markdown",
      "metadata": {
        "id": "Byr0RfpPVz14"
      },
      "source": [
        "[Kembali ke Daftar Isi](#back)"
      ]
    },
    {
      "cell_type": "markdown",
      "metadata": {
        "id": "ykKQ0N65_Zcv"
      },
      "source": [
        "# Temuan <a id='end'></a>"
      ]
    },
    {
      "cell_type": "markdown",
      "metadata": {
        "id": "tjUwbHb3_Zcv"
      },
      "source": [
        "Kita telah menguji tiga hipotesis berikut:\n",
        "\n",
        "1. Aktivitas pengguna berbeda-beda tergantung pada hari dan kotanya.\n",
        "2. Pada senin pagi, penduduk Springfield dan Shelbyville mendengarkan genre yang berbeda. Hal ini juga ini juga berlaku untuk Jumat malam.\n",
        "3. Pendengar di Springfield dan Shelbyville memiliki preferensi yang berbeda. Baik Springfield maupun di Shelbyville, mereka lebih suka musik pop.\n",
        "\n",
        "Setelah menganalisis data, kita dapat menyimpulkan:\n",
        "\n",
        "1. Aktivitas pengguna di Springfield dan Shelbyville bergantung pada harinya, walaupun kotanya berbeda.\n",
        "\n",
        "Hipotesis pertama dapat diterima sepenuhnya.\n",
        "\n",
        "2. Preferensi musik tidak terlalu berbeda selama seminggu di Springfield dan Shelbyville. Kita dapat melihat perbedaan kecil dalam urutan pada hari Senin, tetapi:\n",
        "* Baik di Springfield maupun di Shelbyville, orang paling banyak mendengarkan musik pop.\n",
        "\n",
        "Jadi hipotesis ini tidak dapat kita terima. Kita juga harus ingat bahwa hasilnya bisa berbeda jika bukan karena nilai yang hilang.\n",
        "\n",
        "3. Ternyata preferensi musik pengguna dari Springfield dan Shelbyville sangat mirip.\n",
        "\n",
        "Hipotesis ketiga ditolak. Jika ada perbedaan preferensi, tidak dapat dilihat dari data ini.\n",
        "\n",
        "### Catatan\n",
        "Dalam proyek sesungguhnya, penelitian melibatkan pengujian hipotesis statistik, yang lebih tepat dan lebih kuantitatif. Perhatikan juga bahwa Anda tidak dapat selalu menarik kesimpulan tentang seluruh kota berdasarkan data dari satu sumber saja.\n",
        "\n",
        "Anda akan mempelajari pengujian hipotesis dalam sprint analisis data statistik."
      ]
    },
    {
      "cell_type": "markdown",
      "metadata": {
        "id": "Ju4AHDSgV1FE"
      },
      "source": [
        "[Kembali ke Daftar Isi](#back)"
      ]
    }
  ],
  "metadata": {
    "ExecuteTimeLog": [
      {
        "duration": 130,
        "start_time": "2022-08-03T07:01:34.966Z"
      },
      {
        "duration": 404,
        "start_time": "2022-08-03T07:01:44.137Z"
      },
      {
        "duration": 83,
        "start_time": "2022-08-03T07:20:49.155Z"
      },
      {
        "duration": 2,
        "start_time": "2022-08-03T07:28:13.942Z"
      },
      {
        "duration": 437,
        "start_time": "2022-08-03T07:29:07.263Z"
      },
      {
        "duration": 125,
        "start_time": "2022-08-03T07:29:08.588Z"
      },
      {
        "duration": 58,
        "start_time": "2022-08-03T07:30:55.183Z"
      },
      {
        "duration": 11,
        "start_time": "2022-08-03T07:34:15.242Z"
      },
      {
        "duration": 4,
        "start_time": "2022-08-03T07:37:18.562Z"
      },
      {
        "duration": 223,
        "start_time": "2022-08-03T07:40:22.051Z"
      },
      {
        "duration": 362,
        "start_time": "2022-08-03T07:40:26.196Z"
      },
      {
        "duration": 204,
        "start_time": "2022-08-03T07:40:30.930Z"
      },
      {
        "duration": 74,
        "start_time": "2022-08-03T07:41:47.423Z"
      },
      {
        "duration": 4,
        "start_time": "2022-08-03T07:45:13.828Z"
      },
      {
        "duration": 5,
        "start_time": "2022-08-03T07:45:21.054Z"
      },
      {
        "duration": 5,
        "start_time": "2022-08-03T07:45:28.833Z"
      },
      {
        "duration": 13,
        "start_time": "2022-08-03T07:45:53.902Z"
      },
      {
        "duration": 4,
        "start_time": "2022-08-03T07:46:36.490Z"
      },
      {
        "duration": 37,
        "start_time": "2022-08-03T07:47:19.929Z"
      },
      {
        "duration": 12,
        "start_time": "2022-08-03T08:06:14.950Z"
      },
      {
        "duration": 1,
        "start_time": "2022-08-03T08:13:20.379Z"
      },
      {
        "duration": 129,
        "start_time": "2022-08-03T08:13:20.382Z"
      },
      {
        "duration": 113,
        "start_time": "2022-08-03T08:13:20.513Z"
      },
      {
        "duration": 7,
        "start_time": "2022-08-03T08:13:27.366Z"
      },
      {
        "duration": 25,
        "start_time": "2022-08-03T08:13:37.235Z"
      },
      {
        "duration": 3,
        "start_time": "2022-08-03T08:14:52.673Z"
      },
      {
        "duration": 11,
        "start_time": "2022-08-03T08:22:17.251Z"
      },
      {
        "duration": 3,
        "start_time": "2022-08-03T08:22:28.141Z"
      },
      {
        "duration": 22,
        "start_time": "2022-08-03T08:25:55.028Z"
      },
      {
        "duration": 96,
        "start_time": "2022-08-03T11:50:32.537Z"
      },
      {
        "duration": 97,
        "start_time": "2022-08-03T11:52:46.283Z"
      },
      {
        "duration": 28,
        "start_time": "2022-08-03T11:52:51.620Z"
      },
      {
        "duration": 73,
        "start_time": "2022-08-03T11:53:57.341Z"
      },
      {
        "duration": 55,
        "start_time": "2022-08-03T11:54:03.549Z"
      },
      {
        "duration": 69,
        "start_time": "2022-08-03T11:56:39.278Z"
      },
      {
        "duration": 6,
        "start_time": "2022-08-03T11:56:55.779Z"
      },
      {
        "duration": 64,
        "start_time": "2022-08-03T11:57:10.324Z"
      },
      {
        "duration": 7,
        "start_time": "2022-08-03T11:57:14.487Z"
      },
      {
        "duration": 53,
        "start_time": "2022-08-03T11:57:21.726Z"
      },
      {
        "duration": 73,
        "start_time": "2022-08-03T11:58:23.518Z"
      },
      {
        "duration": 111,
        "start_time": "2022-08-03T12:00:01.923Z"
      },
      {
        "duration": 8,
        "start_time": "2022-08-03T12:01:54.826Z"
      },
      {
        "duration": 11,
        "start_time": "2022-08-03T12:05:07.288Z"
      },
      {
        "duration": 5,
        "start_time": "2022-08-03T12:05:24.525Z"
      },
      {
        "duration": 5,
        "start_time": "2022-08-03T12:06:52.222Z"
      },
      {
        "duration": 76,
        "start_time": "2022-08-03T12:39:02.092Z"
      },
      {
        "duration": 3,
        "start_time": "2022-08-03T12:39:17.947Z"
      },
      {
        "duration": 39,
        "start_time": "2022-08-03T12:41:42.760Z"
      },
      {
        "duration": 8,
        "start_time": "2022-08-03T12:41:55.583Z"
      },
      {
        "duration": 8,
        "start_time": "2022-08-03T12:44:03.039Z"
      },
      {
        "duration": 8,
        "start_time": "2022-08-03T12:46:00.887Z"
      },
      {
        "duration": 8,
        "start_time": "2022-08-03T13:03:18.719Z"
      },
      {
        "duration": 5,
        "start_time": "2022-08-03T13:08:53.157Z"
      },
      {
        "duration": 7,
        "start_time": "2022-08-03T13:09:48.325Z"
      },
      {
        "duration": 7,
        "start_time": "2022-08-03T13:10:55.832Z"
      },
      {
        "duration": 8,
        "start_time": "2022-08-03T13:12:07.839Z"
      },
      {
        "duration": 5,
        "start_time": "2022-08-03T13:13:00.367Z"
      },
      {
        "duration": 44,
        "start_time": "2022-08-03T13:13:40.394Z"
      },
      {
        "duration": 6,
        "start_time": "2022-08-03T13:13:51.656Z"
      },
      {
        "duration": 342,
        "start_time": "2022-08-03T13:14:01.851Z"
      },
      {
        "duration": 228,
        "start_time": "2022-08-03T13:14:04.618Z"
      },
      {
        "duration": 142,
        "start_time": "2022-08-03T13:14:07.030Z"
      },
      {
        "duration": 7,
        "start_time": "2022-08-03T13:14:10.753Z"
      },
      {
        "duration": 26,
        "start_time": "2022-08-03T13:14:11.850Z"
      },
      {
        "duration": 3,
        "start_time": "2022-08-03T13:14:20.196Z"
      },
      {
        "duration": 12,
        "start_time": "2022-08-03T13:14:23.982Z"
      },
      {
        "duration": 4,
        "start_time": "2022-08-03T13:14:24.670Z"
      },
      {
        "duration": 20,
        "start_time": "2022-08-03T13:14:27.296Z"
      },
      {
        "duration": 67,
        "start_time": "2022-08-03T13:14:31.222Z"
      },
      {
        "duration": 20,
        "start_time": "2022-08-03T13:14:33.129Z"
      },
      {
        "duration": 55,
        "start_time": "2022-08-03T13:14:37.022Z"
      },
      {
        "duration": 57,
        "start_time": "2022-08-03T13:14:38.738Z"
      },
      {
        "duration": 54,
        "start_time": "2022-08-03T13:14:40.966Z"
      },
      {
        "duration": 7,
        "start_time": "2022-08-03T13:14:43.748Z"
      },
      {
        "duration": 3,
        "start_time": "2022-08-03T13:14:53.229Z"
      },
      {
        "duration": 10,
        "start_time": "2022-08-03T13:14:56.356Z"
      },
      {
        "duration": 7,
        "start_time": "2022-08-03T13:15:03.392Z"
      },
      {
        "duration": 4,
        "start_time": "2022-08-03T13:20:19.366Z"
      },
      {
        "duration": 3,
        "start_time": "2022-08-03T13:20:27.944Z"
      },
      {
        "duration": 28,
        "start_time": "2022-08-03T13:21:40.742Z"
      },
      {
        "duration": 3,
        "start_time": "2022-08-03T13:24:59.058Z"
      },
      {
        "duration": 28,
        "start_time": "2022-08-03T13:25:08.490Z"
      },
      {
        "duration": 31,
        "start_time": "2022-08-03T15:02:52.841Z"
      },
      {
        "duration": 7,
        "start_time": "2022-08-03T15:03:16.261Z"
      },
      {
        "duration": 29,
        "start_time": "2022-08-03T15:03:29.245Z"
      },
      {
        "duration": 49,
        "start_time": "2022-08-04T05:04:59.437Z"
      },
      {
        "duration": 436,
        "start_time": "2022-08-04T05:05:11.285Z"
      },
      {
        "duration": 243,
        "start_time": "2022-08-04T05:05:13.034Z"
      },
      {
        "duration": 144,
        "start_time": "2022-08-04T05:05:15.145Z"
      },
      {
        "duration": 8,
        "start_time": "2022-08-04T05:05:18.342Z"
      },
      {
        "duration": 29,
        "start_time": "2022-08-04T05:05:20.756Z"
      },
      {
        "duration": 6,
        "start_time": "2022-08-04T05:05:25.709Z"
      },
      {
        "duration": 13,
        "start_time": "2022-08-04T05:05:27.769Z"
      },
      {
        "duration": 3,
        "start_time": "2022-08-04T05:05:32.834Z"
      },
      {
        "duration": 40,
        "start_time": "2022-08-04T05:05:35.334Z"
      },
      {
        "duration": 85,
        "start_time": "2022-08-04T05:05:40.633Z"
      },
      {
        "duration": 23,
        "start_time": "2022-08-04T05:05:42.553Z"
      },
      {
        "duration": 68,
        "start_time": "2022-08-04T05:05:44.781Z"
      },
      {
        "duration": 68,
        "start_time": "2022-08-04T05:05:46.833Z"
      },
      {
        "duration": 76,
        "start_time": "2022-08-04T05:05:48.866Z"
      },
      {
        "duration": 8,
        "start_time": "2022-08-04T05:05:51.450Z"
      },
      {
        "duration": 3,
        "start_time": "2022-08-04T05:05:56.236Z"
      },
      {
        "duration": 9,
        "start_time": "2022-08-04T05:05:58.233Z"
      },
      {
        "duration": 9,
        "start_time": "2022-08-04T05:05:59.838Z"
      },
      {
        "duration": 34,
        "start_time": "2022-08-04T05:06:04.596Z"
      },
      {
        "duration": 31,
        "start_time": "2022-08-04T05:06:06.582Z"
      },
      {
        "duration": 10,
        "start_time": "2022-08-04T05:06:25.255Z"
      },
      {
        "duration": 47,
        "start_time": "2022-08-04T05:06:46.940Z"
      },
      {
        "duration": 10,
        "start_time": "2022-08-04T05:13:19.273Z"
      },
      {
        "duration": 12,
        "start_time": "2022-08-04T05:13:58.377Z"
      },
      {
        "duration": 46,
        "start_time": "2022-08-04T05:14:10.631Z"
      },
      {
        "duration": 18,
        "start_time": "2022-08-04T08:18:23.247Z"
      },
      {
        "duration": 11,
        "start_time": "2022-08-04T08:18:56.702Z"
      },
      {
        "duration": 8,
        "start_time": "2022-08-04T08:19:15.705Z"
      },
      {
        "duration": 34,
        "start_time": "2022-08-04T08:19:28.273Z"
      },
      {
        "duration": 366,
        "start_time": "2022-08-04T12:58:38.673Z"
      },
      {
        "duration": 656,
        "start_time": "2022-08-04T12:58:40.663Z"
      },
      {
        "duration": 120,
        "start_time": "2022-08-04T12:58:41.817Z"
      },
      {
        "duration": 11,
        "start_time": "2022-08-04T12:58:44.150Z"
      },
      {
        "duration": 34,
        "start_time": "2022-08-04T12:58:46.588Z"
      },
      {
        "duration": 3,
        "start_time": "2022-08-04T12:58:50.520Z"
      },
      {
        "duration": 13,
        "start_time": "2022-08-04T12:58:52.520Z"
      },
      {
        "duration": 3,
        "start_time": "2022-08-04T12:58:55.645Z"
      },
      {
        "duration": 40,
        "start_time": "2022-08-04T12:58:57.520Z"
      },
      {
        "duration": 75,
        "start_time": "2022-08-04T12:59:00.076Z"
      },
      {
        "duration": 21,
        "start_time": "2022-08-04T12:59:02.278Z"
      },
      {
        "duration": 60,
        "start_time": "2022-08-04T12:59:06.539Z"
      },
      {
        "duration": 58,
        "start_time": "2022-08-04T12:59:08.571Z"
      },
      {
        "duration": 59,
        "start_time": "2022-08-04T12:59:18.805Z"
      },
      {
        "duration": 7,
        "start_time": "2022-08-04T12:59:21.443Z"
      },
      {
        "duration": 4,
        "start_time": "2022-08-04T12:59:27.420Z"
      },
      {
        "duration": 8,
        "start_time": "2022-08-04T12:59:29.231Z"
      },
      {
        "duration": 7,
        "start_time": "2022-08-04T12:59:32.024Z"
      },
      {
        "duration": 37,
        "start_time": "2022-08-04T12:59:37.649Z"
      },
      {
        "duration": 28,
        "start_time": "2022-08-04T12:59:40.518Z"
      },
      {
        "duration": 377,
        "start_time": "2022-08-05T13:17:46.347Z"
      },
      {
        "duration": 439,
        "start_time": "2022-08-05T13:17:46.726Z"
      },
      {
        "duration": 125,
        "start_time": "2022-08-05T13:17:47.167Z"
      },
      {
        "duration": 14,
        "start_time": "2022-08-05T13:17:47.294Z"
      },
      {
        "duration": 28,
        "start_time": "2022-08-05T13:17:47.310Z"
      },
      {
        "duration": 3,
        "start_time": "2022-08-05T13:17:47.341Z"
      },
      {
        "duration": 14,
        "start_time": "2022-08-05T13:17:47.346Z"
      },
      {
        "duration": 6,
        "start_time": "2022-08-05T13:17:47.362Z"
      },
      {
        "duration": 51,
        "start_time": "2022-08-05T13:17:47.370Z"
      },
      {
        "duration": 81,
        "start_time": "2022-08-05T13:17:47.425Z"
      },
      {
        "duration": 22,
        "start_time": "2022-08-05T13:17:47.509Z"
      },
      {
        "duration": 59,
        "start_time": "2022-08-05T13:17:47.532Z"
      },
      {
        "duration": 70,
        "start_time": "2022-08-05T13:17:47.607Z"
      },
      {
        "duration": 74,
        "start_time": "2022-08-05T13:17:47.678Z"
      },
      {
        "duration": 9,
        "start_time": "2022-08-05T13:17:47.754Z"
      },
      {
        "duration": 4,
        "start_time": "2022-08-05T13:17:47.764Z"
      },
      {
        "duration": 15,
        "start_time": "2022-08-05T13:17:47.770Z"
      },
      {
        "duration": 22,
        "start_time": "2022-08-05T13:17:47.787Z"
      },
      {
        "duration": 33,
        "start_time": "2022-08-05T13:17:47.811Z"
      },
      {
        "duration": 34,
        "start_time": "2022-08-05T13:17:47.845Z"
      },
      {
        "duration": 83,
        "start_time": "2022-08-05T13:17:47.880Z"
      },
      {
        "duration": 0,
        "start_time": "2022-08-05T13:17:47.965Z"
      },
      {
        "duration": 0,
        "start_time": "2022-08-05T13:17:47.966Z"
      },
      {
        "duration": 0,
        "start_time": "2022-08-05T13:17:47.968Z"
      },
      {
        "duration": 0,
        "start_time": "2022-08-05T13:17:47.969Z"
      },
      {
        "duration": 0,
        "start_time": "2022-08-05T13:17:47.970Z"
      },
      {
        "duration": 0,
        "start_time": "2022-08-05T13:17:47.972Z"
      },
      {
        "duration": 0,
        "start_time": "2022-08-05T13:17:47.972Z"
      },
      {
        "duration": 0,
        "start_time": "2022-08-05T13:17:47.974Z"
      },
      {
        "duration": 0,
        "start_time": "2022-08-05T13:17:47.975Z"
      },
      {
        "duration": 0,
        "start_time": "2022-08-05T13:17:47.976Z"
      },
      {
        "duration": 0,
        "start_time": "2022-08-05T13:17:47.977Z"
      },
      {
        "duration": 0,
        "start_time": "2022-08-05T13:17:47.978Z"
      },
      {
        "duration": 0,
        "start_time": "2022-08-05T13:17:47.979Z"
      },
      {
        "duration": 0,
        "start_time": "2022-08-05T13:17:47.980Z"
      },
      {
        "duration": 0,
        "start_time": "2022-08-05T13:17:47.981Z"
      },
      {
        "duration": 0,
        "start_time": "2022-08-05T13:17:47.982Z"
      },
      {
        "duration": 0,
        "start_time": "2022-08-05T13:17:47.983Z"
      },
      {
        "duration": 0,
        "start_time": "2022-08-05T13:17:47.984Z"
      },
      {
        "duration": 445,
        "start_time": "2022-08-05T13:26:12.979Z"
      },
      {
        "duration": 183,
        "start_time": "2022-08-05T13:26:13.427Z"
      },
      {
        "duration": 134,
        "start_time": "2022-08-05T13:26:13.612Z"
      },
      {
        "duration": 7,
        "start_time": "2022-08-05T13:26:13.748Z"
      },
      {
        "duration": 62,
        "start_time": "2022-08-05T13:26:13.757Z"
      },
      {
        "duration": 9,
        "start_time": "2022-08-05T13:26:13.820Z"
      },
      {
        "duration": 36,
        "start_time": "2022-08-05T13:26:13.830Z"
      },
      {
        "duration": 31,
        "start_time": "2022-08-05T13:26:13.868Z"
      },
      {
        "duration": 38,
        "start_time": "2022-08-05T13:26:13.900Z"
      },
      {
        "duration": 89,
        "start_time": "2022-08-05T13:26:13.939Z"
      },
      {
        "duration": 30,
        "start_time": "2022-08-05T13:26:14.030Z"
      },
      {
        "duration": 85,
        "start_time": "2022-08-05T13:26:14.061Z"
      },
      {
        "duration": 69,
        "start_time": "2022-08-05T13:26:14.148Z"
      },
      {
        "duration": 59,
        "start_time": "2022-08-05T13:26:14.220Z"
      },
      {
        "duration": 7,
        "start_time": "2022-08-05T13:26:14.281Z"
      },
      {
        "duration": 18,
        "start_time": "2022-08-05T13:26:14.290Z"
      },
      {
        "duration": 30,
        "start_time": "2022-08-05T13:26:14.310Z"
      },
      {
        "duration": 27,
        "start_time": "2022-08-05T13:26:14.342Z"
      },
      {
        "duration": 62,
        "start_time": "2022-08-05T13:26:14.370Z"
      },
      {
        "duration": 38,
        "start_time": "2022-08-05T13:26:14.434Z"
      },
      {
        "duration": 74,
        "start_time": "2022-08-05T13:26:14.473Z"
      },
      {
        "duration": 0,
        "start_time": "2022-08-05T13:26:14.550Z"
      },
      {
        "duration": 0,
        "start_time": "2022-08-05T13:26:14.551Z"
      },
      {
        "duration": 0,
        "start_time": "2022-08-05T13:26:14.552Z"
      },
      {
        "duration": 0,
        "start_time": "2022-08-05T13:26:14.553Z"
      },
      {
        "duration": 0,
        "start_time": "2022-08-05T13:26:14.554Z"
      },
      {
        "duration": 0,
        "start_time": "2022-08-05T13:26:14.555Z"
      },
      {
        "duration": 0,
        "start_time": "2022-08-05T13:26:14.556Z"
      },
      {
        "duration": 0,
        "start_time": "2022-08-05T13:26:14.557Z"
      },
      {
        "duration": 0,
        "start_time": "2022-08-05T13:26:14.558Z"
      },
      {
        "duration": 0,
        "start_time": "2022-08-05T13:26:14.559Z"
      },
      {
        "duration": 0,
        "start_time": "2022-08-05T13:26:14.561Z"
      },
      {
        "duration": 0,
        "start_time": "2022-08-05T13:26:14.562Z"
      },
      {
        "duration": 0,
        "start_time": "2022-08-05T13:26:14.563Z"
      },
      {
        "duration": 0,
        "start_time": "2022-08-05T13:26:14.564Z"
      },
      {
        "duration": 0,
        "start_time": "2022-08-05T13:26:14.565Z"
      },
      {
        "duration": 0,
        "start_time": "2022-08-05T13:26:14.566Z"
      },
      {
        "duration": 0,
        "start_time": "2022-08-05T13:26:14.567Z"
      },
      {
        "duration": 0,
        "start_time": "2022-08-05T13:26:14.568Z"
      },
      {
        "duration": 377,
        "start_time": "2022-08-05T13:29:55.021Z"
      },
      {
        "duration": 155,
        "start_time": "2022-08-05T13:29:57.500Z"
      },
      {
        "duration": 114,
        "start_time": "2022-08-05T13:29:58.614Z"
      },
      {
        "duration": 7,
        "start_time": "2022-08-05T13:30:02.881Z"
      },
      {
        "duration": 28,
        "start_time": "2022-08-05T13:30:04.871Z"
      },
      {
        "duration": 3,
        "start_time": "2022-08-05T13:30:09.355Z"
      },
      {
        "duration": 13,
        "start_time": "2022-08-05T13:30:10.889Z"
      },
      {
        "duration": 4,
        "start_time": "2022-08-05T13:30:12.556Z"
      },
      {
        "duration": 23,
        "start_time": "2022-08-05T13:30:13.699Z"
      },
      {
        "duration": 81,
        "start_time": "2022-08-05T13:30:14.176Z"
      },
      {
        "duration": 23,
        "start_time": "2022-08-05T13:30:14.513Z"
      },
      {
        "duration": 72,
        "start_time": "2022-08-05T13:30:15.479Z"
      },
      {
        "duration": 82,
        "start_time": "2022-08-05T13:30:16.027Z"
      },
      {
        "duration": 60,
        "start_time": "2022-08-05T13:30:16.730Z"
      },
      {
        "duration": 7,
        "start_time": "2022-08-05T13:30:18.529Z"
      },
      {
        "duration": 3,
        "start_time": "2022-08-05T13:30:19.096Z"
      },
      {
        "duration": 9,
        "start_time": "2022-08-05T13:30:20.061Z"
      },
      {
        "duration": 8,
        "start_time": "2022-08-05T13:30:20.864Z"
      },
      {
        "duration": 29,
        "start_time": "2022-08-05T13:30:23.745Z"
      },
      {
        "duration": 30,
        "start_time": "2022-08-05T13:30:24.871Z"
      },
      {
        "duration": 86,
        "start_time": "2022-08-05T13:30:25.286Z"
      },
      {
        "duration": 3,
        "start_time": "2022-08-05T13:37:38.692Z"
      },
      {
        "duration": 4,
        "start_time": "2022-08-05T13:38:22.469Z"
      },
      {
        "duration": 60,
        "start_time": "2022-08-05T13:38:44.448Z"
      },
      {
        "duration": 6,
        "start_time": "2022-08-05T13:39:02.621Z"
      },
      {
        "duration": 7,
        "start_time": "2022-08-05T13:39:41.823Z"
      },
      {
        "duration": 16,
        "start_time": "2022-08-05T13:40:30.818Z"
      },
      {
        "duration": 3,
        "start_time": "2022-08-05T13:41:01.707Z"
      },
      {
        "duration": 19,
        "start_time": "2022-08-05T13:41:03.933Z"
      },
      {
        "duration": 23,
        "start_time": "2022-08-05T13:41:34.017Z"
      },
      {
        "duration": 3,
        "start_time": "2022-08-05T13:41:48.927Z"
      },
      {
        "duration": 15,
        "start_time": "2022-08-05T13:41:50.696Z"
      },
      {
        "duration": 29,
        "start_time": "2022-08-05T13:55:00.120Z"
      },
      {
        "duration": 30,
        "start_time": "2022-08-05T13:55:03.367Z"
      },
      {
        "duration": 24,
        "start_time": "2022-08-05T13:55:43.384Z"
      },
      {
        "duration": 51,
        "start_time": "2022-08-05T13:55:55.784Z"
      },
      {
        "duration": 13,
        "start_time": "2022-08-05T14:00:21.945Z"
      },
      {
        "duration": 19,
        "start_time": "2022-08-05T14:00:44.116Z"
      },
      {
        "duration": 13,
        "start_time": "2022-08-05T14:01:12.379Z"
      },
      {
        "duration": 5,
        "start_time": "2022-08-05T14:02:46.061Z"
      },
      {
        "duration": 17,
        "start_time": "2022-08-05T14:02:48.772Z"
      },
      {
        "duration": 16,
        "start_time": "2022-08-05T14:02:52.884Z"
      },
      {
        "duration": 18,
        "start_time": "2022-08-05T14:02:52.921Z"
      },
      {
        "duration": 19,
        "start_time": "2022-08-05T14:02:56.482Z"
      },
      {
        "duration": 4,
        "start_time": "2022-08-05T14:03:07.644Z"
      },
      {
        "duration": 1683,
        "start_time": "2022-08-05T14:03:10.136Z"
      },
      {
        "duration": 9,
        "start_time": "2022-08-05T14:03:26.332Z"
      },
      {
        "duration": 16,
        "start_time": "2022-08-05T14:03:28.437Z"
      },
      {
        "duration": 14,
        "start_time": "2022-08-05T14:03:31.073Z"
      },
      {
        "duration": 14,
        "start_time": "2022-08-05T14:03:33.048Z"
      },
      {
        "duration": 14,
        "start_time": "2022-08-05T14:03:36.745Z"
      },
      {
        "duration": 18,
        "start_time": "2022-08-05T14:10:15.097Z"
      },
      {
        "duration": 13,
        "start_time": "2022-08-05T14:10:37.325Z"
      },
      {
        "duration": 7,
        "start_time": "2022-08-05T14:17:03.924Z"
      },
      {
        "duration": 9,
        "start_time": "2022-08-05T14:27:51.835Z"
      },
      {
        "duration": 8,
        "start_time": "2022-08-05T14:27:58.285Z"
      },
      {
        "duration": 9,
        "start_time": "2022-08-05T14:28:52.068Z"
      },
      {
        "duration": 10,
        "start_time": "2022-08-05T14:28:59.333Z"
      },
      {
        "duration": 9,
        "start_time": "2022-08-05T14:29:10.721Z"
      },
      {
        "duration": 9,
        "start_time": "2022-08-05T14:29:20.264Z"
      },
      {
        "duration": 9,
        "start_time": "2022-08-05T14:29:39.031Z"
      },
      {
        "duration": 10,
        "start_time": "2022-08-05T14:30:43.795Z"
      },
      {
        "duration": 7,
        "start_time": "2022-08-05T14:33:19.146Z"
      },
      {
        "duration": 3,
        "start_time": "2022-08-05T14:33:23.366Z"
      },
      {
        "duration": 191,
        "start_time": "2022-08-05T14:33:25.041Z"
      },
      {
        "duration": 161,
        "start_time": "2022-08-05T14:33:26.128Z"
      },
      {
        "duration": 12,
        "start_time": "2022-08-05T14:33:29.097Z"
      },
      {
        "duration": 35,
        "start_time": "2022-08-05T14:33:29.875Z"
      },
      {
        "duration": 4,
        "start_time": "2022-08-05T14:33:32.070Z"
      },
      {
        "duration": 8,
        "start_time": "2022-08-05T14:33:32.563Z"
      },
      {
        "duration": 4,
        "start_time": "2022-08-05T14:33:33.026Z"
      },
      {
        "duration": 32,
        "start_time": "2022-08-05T14:33:34.801Z"
      },
      {
        "duration": 104,
        "start_time": "2022-08-05T14:33:35.385Z"
      },
      {
        "duration": 29,
        "start_time": "2022-08-05T14:33:35.798Z"
      },
      {
        "duration": 67,
        "start_time": "2022-08-05T14:33:36.436Z"
      },
      {
        "duration": 63,
        "start_time": "2022-08-05T14:33:36.822Z"
      },
      {
        "duration": 66,
        "start_time": "2022-08-05T14:33:37.186Z"
      },
      {
        "duration": 7,
        "start_time": "2022-08-05T14:33:37.727Z"
      },
      {
        "duration": 3,
        "start_time": "2022-08-05T14:33:39.535Z"
      },
      {
        "duration": 19,
        "start_time": "2022-08-05T14:33:40.705Z"
      },
      {
        "duration": 8,
        "start_time": "2022-08-05T14:33:42.216Z"
      },
      {
        "duration": 36,
        "start_time": "2022-08-05T14:33:47.469Z"
      },
      {
        "duration": 39,
        "start_time": "2022-08-05T14:33:48.784Z"
      },
      {
        "duration": 3,
        "start_time": "2022-08-05T14:33:49.933Z"
      },
      {
        "duration": 15,
        "start_time": "2022-08-05T14:33:51.042Z"
      },
      {
        "duration": 15,
        "start_time": "2022-08-05T14:33:51.840Z"
      },
      {
        "duration": 13,
        "start_time": "2022-08-05T14:33:52.337Z"
      },
      {
        "duration": 15,
        "start_time": "2022-08-05T14:33:53.257Z"
      },
      {
        "duration": 15,
        "start_time": "2022-08-05T14:33:53.521Z"
      },
      {
        "duration": 20,
        "start_time": "2022-08-05T14:33:53.722Z"
      },
      {
        "duration": 13,
        "start_time": "2022-08-05T14:33:55.735Z"
      },
      {
        "duration": 4,
        "start_time": "2022-08-05T14:34:01.651Z"
      },
      {
        "duration": 4,
        "start_time": "2022-08-05T14:34:10.669Z"
      },
      {
        "duration": 2,
        "start_time": "2022-08-05T14:35:12.769Z"
      },
      {
        "duration": 164,
        "start_time": "2022-08-05T14:35:13.517Z"
      },
      {
        "duration": 126,
        "start_time": "2022-08-05T14:35:14.019Z"
      },
      {
        "duration": 6,
        "start_time": "2022-08-05T14:35:14.699Z"
      },
      {
        "duration": 32,
        "start_time": "2022-08-05T14:35:15.126Z"
      },
      {
        "duration": 4,
        "start_time": "2022-08-05T14:35:16.290Z"
      },
      {
        "duration": 9,
        "start_time": "2022-08-05T14:35:16.688Z"
      },
      {
        "duration": 4,
        "start_time": "2022-08-05T14:35:17.527Z"
      },
      {
        "duration": 34,
        "start_time": "2022-08-05T14:35:18.297Z"
      },
      {
        "duration": 102,
        "start_time": "2022-08-05T14:35:18.997Z"
      },
      {
        "duration": 26,
        "start_time": "2022-08-05T14:35:19.442Z"
      },
      {
        "duration": 84,
        "start_time": "2022-08-05T14:35:20.139Z"
      },
      {
        "duration": 73,
        "start_time": "2022-08-05T14:35:21.196Z"
      },
      {
        "duration": 65,
        "start_time": "2022-08-05T14:35:21.684Z"
      },
      {
        "duration": 9,
        "start_time": "2022-08-05T14:35:22.315Z"
      },
      {
        "duration": 4,
        "start_time": "2022-08-05T14:35:22.761Z"
      },
      {
        "duration": 10,
        "start_time": "2022-08-05T14:35:23.170Z"
      },
      {
        "duration": 8,
        "start_time": "2022-08-05T14:35:24.121Z"
      },
      {
        "duration": 54,
        "start_time": "2022-08-05T14:35:27.749Z"
      },
      {
        "duration": 37,
        "start_time": "2022-08-05T14:35:28.120Z"
      },
      {
        "duration": 5,
        "start_time": "2022-08-05T14:35:29.966Z"
      },
      {
        "duration": 23,
        "start_time": "2022-08-05T14:35:31.042Z"
      },
      {
        "duration": 17,
        "start_time": "2022-08-05T14:35:31.705Z"
      },
      {
        "duration": 14,
        "start_time": "2022-08-05T14:35:32.189Z"
      },
      {
        "duration": 20,
        "start_time": "2022-08-05T14:35:32.725Z"
      },
      {
        "duration": 14,
        "start_time": "2022-08-05T14:35:34.523Z"
      },
      {
        "duration": 14,
        "start_time": "2022-08-05T14:35:37.438Z"
      },
      {
        "duration": 5,
        "start_time": "2022-08-05T14:35:39.331Z"
      },
      {
        "duration": 3,
        "start_time": "2022-08-05T14:41:50.297Z"
      },
      {
        "duration": 179,
        "start_time": "2022-08-05T14:41:50.965Z"
      },
      {
        "duration": 153,
        "start_time": "2022-08-05T14:41:51.150Z"
      },
      {
        "duration": 7,
        "start_time": "2022-08-05T14:41:51.493Z"
      },
      {
        "duration": 30,
        "start_time": "2022-08-05T14:41:51.820Z"
      },
      {
        "duration": 4,
        "start_time": "2022-08-05T14:41:53.023Z"
      },
      {
        "duration": 8,
        "start_time": "2022-08-05T14:41:53.326Z"
      },
      {
        "duration": 4,
        "start_time": "2022-08-05T14:41:53.617Z"
      },
      {
        "duration": 28,
        "start_time": "2022-08-05T14:41:54.028Z"
      },
      {
        "duration": 88,
        "start_time": "2022-08-05T14:41:54.438Z"
      },
      {
        "duration": 43,
        "start_time": "2022-08-05T14:41:54.729Z"
      },
      {
        "duration": 86,
        "start_time": "2022-08-05T14:41:55.141Z"
      },
      {
        "duration": 59,
        "start_time": "2022-08-05T14:41:55.422Z"
      },
      {
        "duration": 63,
        "start_time": "2022-08-05T14:41:55.683Z"
      },
      {
        "duration": 14,
        "start_time": "2022-08-05T14:41:56.103Z"
      },
      {
        "duration": 3,
        "start_time": "2022-08-05T14:41:56.385Z"
      },
      {
        "duration": 13,
        "start_time": "2022-08-05T14:41:56.716Z"
      },
      {
        "duration": 7,
        "start_time": "2022-08-05T14:41:57.540Z"
      },
      {
        "duration": 32,
        "start_time": "2022-08-05T14:41:59.345Z"
      },
      {
        "duration": 32,
        "start_time": "2022-08-05T14:41:59.647Z"
      },
      {
        "duration": 4,
        "start_time": "2022-08-05T14:42:00.428Z"
      },
      {
        "duration": 13,
        "start_time": "2022-08-05T14:42:01.640Z"
      },
      {
        "duration": 12,
        "start_time": "2022-08-05T14:42:01.917Z"
      },
      {
        "duration": 16,
        "start_time": "2022-08-05T14:42:02.623Z"
      },
      {
        "duration": 13,
        "start_time": "2022-08-05T14:42:03.060Z"
      },
      {
        "duration": 22,
        "start_time": "2022-08-05T14:42:03.099Z"
      },
      {
        "duration": 23,
        "start_time": "2022-08-05T14:42:03.502Z"
      },
      {
        "duration": 13,
        "start_time": "2022-08-05T14:42:05.491Z"
      },
      {
        "duration": 5,
        "start_time": "2022-08-05T14:43:00.736Z"
      },
      {
        "duration": 6,
        "start_time": "2022-08-05T14:44:27.756Z"
      },
      {
        "duration": 5,
        "start_time": "2022-08-05T14:44:44.686Z"
      },
      {
        "duration": 9,
        "start_time": "2022-08-05T14:44:59.518Z"
      },
      {
        "duration": 4,
        "start_time": "2022-08-05T14:45:05.889Z"
      },
      {
        "duration": 4,
        "start_time": "2022-08-05T14:45:24.182Z"
      },
      {
        "duration": 9,
        "start_time": "2022-08-05T14:45:33.309Z"
      },
      {
        "duration": 160,
        "start_time": "2022-08-05T14:46:23.217Z"
      },
      {
        "duration": 2,
        "start_time": "2022-08-05T14:46:25.091Z"
      },
      {
        "duration": 9,
        "start_time": "2022-08-05T14:46:38.495Z"
      },
      {
        "duration": 5,
        "start_time": "2022-08-05T14:46:46.237Z"
      },
      {
        "duration": 5,
        "start_time": "2022-08-05T14:47:08.020Z"
      },
      {
        "duration": 9,
        "start_time": "2022-08-05T14:47:21.929Z"
      },
      {
        "duration": 1314,
        "start_time": "2022-08-05T14:48:38.619Z"
      },
      {
        "duration": 1429,
        "start_time": "2022-08-05T14:48:58.946Z"
      },
      {
        "duration": 8,
        "start_time": "2022-08-05T14:49:55.433Z"
      },
      {
        "duration": 5,
        "start_time": "2022-08-05T14:50:03.618Z"
      },
      {
        "duration": 4,
        "start_time": "2022-08-05T14:52:19.039Z"
      },
      {
        "duration": 4,
        "start_time": "2022-08-05T14:53:37.795Z"
      },
      {
        "duration": 9,
        "start_time": "2022-08-05T14:53:57.972Z"
      },
      {
        "duration": 84,
        "start_time": "2022-08-05T14:57:43.438Z"
      },
      {
        "duration": 83,
        "start_time": "2022-08-05T14:57:51.698Z"
      },
      {
        "duration": 13,
        "start_time": "2022-08-05T14:58:23.217Z"
      },
      {
        "duration": 8,
        "start_time": "2022-08-05T14:58:30.355Z"
      },
      {
        "duration": 9,
        "start_time": "2022-08-05T14:58:34.259Z"
      },
      {
        "duration": 9,
        "start_time": "2022-08-05T14:58:54.091Z"
      },
      {
        "duration": 11,
        "start_time": "2022-08-05T15:07:01.964Z"
      },
      {
        "duration": 4,
        "start_time": "2022-08-05T15:07:04.562Z"
      },
      {
        "duration": 404,
        "start_time": "2022-08-06T05:59:49.109Z"
      },
      {
        "duration": 605,
        "start_time": "2022-08-06T05:59:49.516Z"
      },
      {
        "duration": 181,
        "start_time": "2022-08-06T05:59:50.123Z"
      },
      {
        "duration": 11,
        "start_time": "2022-08-06T05:59:50.306Z"
      },
      {
        "duration": 61,
        "start_time": "2022-08-06T05:59:50.320Z"
      },
      {
        "duration": 5,
        "start_time": "2022-08-06T05:59:51.098Z"
      },
      {
        "duration": 18,
        "start_time": "2022-08-06T05:59:51.393Z"
      },
      {
        "duration": 7,
        "start_time": "2022-08-06T05:59:51.689Z"
      },
      {
        "duration": 26,
        "start_time": "2022-08-06T05:59:52.112Z"
      },
      {
        "duration": 141,
        "start_time": "2022-08-06T05:59:52.542Z"
      },
      {
        "duration": 35,
        "start_time": "2022-08-06T05:59:52.850Z"
      },
      {
        "duration": 86,
        "start_time": "2022-08-06T05:59:53.335Z"
      },
      {
        "duration": 139,
        "start_time": "2022-08-06T05:59:53.699Z"
      },
      {
        "duration": 74,
        "start_time": "2022-08-06T05:59:54.888Z"
      },
      {
        "duration": 10,
        "start_time": "2022-08-06T05:59:56.720Z"
      },
      {
        "duration": 3,
        "start_time": "2022-08-06T05:59:57.851Z"
      },
      {
        "duration": 11,
        "start_time": "2022-08-06T05:59:59.440Z"
      },
      {
        "duration": 10,
        "start_time": "2022-08-06T06:00:00.613Z"
      },
      {
        "duration": 33,
        "start_time": "2022-08-06T06:00:03.894Z"
      },
      {
        "duration": 42,
        "start_time": "2022-08-06T06:00:04.253Z"
      },
      {
        "duration": 4,
        "start_time": "2022-08-06T06:00:04.794Z"
      },
      {
        "duration": 15,
        "start_time": "2022-08-06T06:00:05.107Z"
      },
      {
        "duration": 14,
        "start_time": "2022-08-06T06:00:05.293Z"
      },
      {
        "duration": 15,
        "start_time": "2022-08-06T06:00:06.003Z"
      },
      {
        "duration": 20,
        "start_time": "2022-08-06T06:00:06.184Z"
      },
      {
        "duration": 15,
        "start_time": "2022-08-06T06:00:06.340Z"
      },
      {
        "duration": 27,
        "start_time": "2022-08-06T06:00:06.516Z"
      },
      {
        "duration": 15,
        "start_time": "2022-08-06T06:00:07.226Z"
      },
      {
        "duration": 44,
        "start_time": "2022-08-06T06:17:49.714Z"
      },
      {
        "duration": 26,
        "start_time": "2022-08-06T06:17:59.807Z"
      },
      {
        "duration": 13,
        "start_time": "2022-08-06T06:18:29.135Z"
      },
      {
        "duration": 144,
        "start_time": "2022-08-06T06:18:37.952Z"
      },
      {
        "duration": 98,
        "start_time": "2022-08-06T06:18:46.029Z"
      },
      {
        "duration": 20,
        "start_time": "2022-08-06T06:18:55.566Z"
      },
      {
        "duration": 117,
        "start_time": "2022-08-06T06:19:01.248Z"
      },
      {
        "duration": 59,
        "start_time": "2022-08-06T06:19:06.160Z"
      },
      {
        "duration": 7,
        "start_time": "2022-08-06T06:20:43.418Z"
      },
      {
        "duration": 7,
        "start_time": "2022-08-06T06:20:49.221Z"
      },
      {
        "duration": 3,
        "start_time": "2022-08-06T06:24:01.320Z"
      },
      {
        "duration": 81,
        "start_time": "2022-08-06T08:21:49.015Z"
      },
      {
        "duration": 8,
        "start_time": "2022-08-06T08:57:58.111Z"
      },
      {
        "duration": 94,
        "start_time": "2022-08-06T09:39:37.995Z"
      },
      {
        "duration": 41,
        "start_time": "2022-08-08T02:45:12.103Z"
      },
      {
        "duration": 6,
        "start_time": "2022-08-08T02:46:12.935Z"
      },
      {
        "duration": 6,
        "start_time": "2022-08-08T02:46:18.853Z"
      },
      {
        "duration": 6,
        "start_time": "2022-08-08T02:46:33.401Z"
      },
      {
        "duration": 5,
        "start_time": "2022-08-08T02:46:46.058Z"
      },
      {
        "duration": 349,
        "start_time": "2022-08-08T02:46:59.445Z"
      },
      {
        "duration": 239,
        "start_time": "2022-08-08T02:47:00.003Z"
      },
      {
        "duration": 114,
        "start_time": "2022-08-08T02:47:00.244Z"
      },
      {
        "duration": 7,
        "start_time": "2022-08-08T02:47:00.570Z"
      },
      {
        "duration": 28,
        "start_time": "2022-08-08T02:47:00.961Z"
      },
      {
        "duration": 3,
        "start_time": "2022-08-08T02:47:02.207Z"
      },
      {
        "duration": 14,
        "start_time": "2022-08-08T02:47:02.252Z"
      },
      {
        "duration": 3,
        "start_time": "2022-08-08T02:47:02.549Z"
      },
      {
        "duration": 20,
        "start_time": "2022-08-08T02:47:03.011Z"
      },
      {
        "duration": 83,
        "start_time": "2022-08-08T02:47:03.897Z"
      },
      {
        "duration": 20,
        "start_time": "2022-08-08T02:47:04.258Z"
      },
      {
        "duration": 55,
        "start_time": "2022-08-08T02:47:04.677Z"
      },
      {
        "duration": 61,
        "start_time": "2022-08-08T02:47:05.036Z"
      },
      {
        "duration": 53,
        "start_time": "2022-08-08T02:47:05.374Z"
      },
      {
        "duration": 7,
        "start_time": "2022-08-08T02:47:08.475Z"
      },
      {
        "duration": 3,
        "start_time": "2022-08-08T02:47:10.148Z"
      },
      {
        "duration": 11,
        "start_time": "2022-08-08T02:47:11.450Z"
      },
      {
        "duration": 7,
        "start_time": "2022-08-08T02:47:12.006Z"
      },
      {
        "duration": 29,
        "start_time": "2022-08-08T02:47:13.573Z"
      },
      {
        "duration": 29,
        "start_time": "2022-08-08T02:47:14.765Z"
      },
      {
        "duration": 4,
        "start_time": "2022-08-08T02:47:16.024Z"
      },
      {
        "duration": 13,
        "start_time": "2022-08-08T02:47:17.013Z"
      },
      {
        "duration": 12,
        "start_time": "2022-08-08T02:47:17.242Z"
      },
      {
        "duration": 12,
        "start_time": "2022-08-08T02:47:17.665Z"
      },
      {
        "duration": 12,
        "start_time": "2022-08-08T02:47:17.940Z"
      },
      {
        "duration": 12,
        "start_time": "2022-08-08T02:47:18.182Z"
      },
      {
        "duration": 13,
        "start_time": "2022-08-08T02:47:19.132Z"
      },
      {
        "duration": 8,
        "start_time": "2022-08-08T02:47:20.407Z"
      },
      {
        "duration": 25,
        "start_time": "2022-08-08T02:47:34.935Z"
      },
      {
        "duration": 9,
        "start_time": "2022-08-08T02:47:44.589Z"
      },
      {
        "duration": 8,
        "start_time": "2022-08-08T02:47:47.126Z"
      },
      {
        "duration": 14,
        "start_time": "2022-08-08T02:47:56.079Z"
      },
      {
        "duration": 15,
        "start_time": "2022-08-08T02:48:07.142Z"
      },
      {
        "duration": 15,
        "start_time": "2022-08-08T02:48:17.249Z"
      },
      {
        "duration": 9,
        "start_time": "2022-08-08T02:48:27.970Z"
      },
      {
        "duration": 9,
        "start_time": "2022-08-08T02:48:54.857Z"
      },
      {
        "duration": 52,
        "start_time": "2022-08-08T02:49:35.346Z"
      },
      {
        "duration": 43,
        "start_time": "2022-08-08T02:49:39.383Z"
      },
      {
        "duration": 49,
        "start_time": "2022-08-08T02:50:04.630Z"
      },
      {
        "duration": 9,
        "start_time": "2022-08-08T02:51:44.114Z"
      },
      {
        "duration": 7,
        "start_time": "2022-08-08T02:51:55.646Z"
      },
      {
        "duration": 49,
        "start_time": "2022-08-08T13:43:29.676Z"
      },
      {
        "duration": 353,
        "start_time": "2022-08-08T13:43:39.541Z"
      },
      {
        "duration": 226,
        "start_time": "2022-08-08T13:43:39.896Z"
      },
      {
        "duration": 164,
        "start_time": "2022-08-08T13:43:40.124Z"
      },
      {
        "duration": 7,
        "start_time": "2022-08-08T13:43:40.289Z"
      },
      {
        "duration": 32,
        "start_time": "2022-08-08T13:43:40.483Z"
      },
      {
        "duration": 3,
        "start_time": "2022-08-08T13:43:41.268Z"
      },
      {
        "duration": 12,
        "start_time": "2022-08-08T13:43:41.529Z"
      },
      {
        "duration": 3,
        "start_time": "2022-08-08T13:43:41.790Z"
      },
      {
        "duration": 23,
        "start_time": "2022-08-08T13:43:42.181Z"
      },
      {
        "duration": 84,
        "start_time": "2022-08-08T13:43:42.589Z"
      },
      {
        "duration": 24,
        "start_time": "2022-08-08T13:43:42.850Z"
      },
      {
        "duration": 56,
        "start_time": "2022-08-08T13:43:43.263Z"
      },
      {
        "duration": 63,
        "start_time": "2022-08-08T13:43:43.539Z"
      },
      {
        "duration": 55,
        "start_time": "2022-08-08T13:43:43.810Z"
      },
      {
        "duration": 8,
        "start_time": "2022-08-08T13:43:44.214Z"
      },
      {
        "duration": 3,
        "start_time": "2022-08-08T13:43:44.492Z"
      },
      {
        "duration": 10,
        "start_time": "2022-08-08T13:43:44.767Z"
      },
      {
        "duration": 7,
        "start_time": "2022-08-08T13:43:45.056Z"
      },
      {
        "duration": 32,
        "start_time": "2022-08-08T13:43:46.152Z"
      },
      {
        "duration": 40,
        "start_time": "2022-08-08T13:43:46.423Z"
      },
      {
        "duration": 3,
        "start_time": "2022-08-08T13:43:46.856Z"
      },
      {
        "duration": 15,
        "start_time": "2022-08-08T13:43:47.130Z"
      },
      {
        "duration": 14,
        "start_time": "2022-08-08T13:43:47.262Z"
      },
      {
        "duration": 13,
        "start_time": "2022-08-08T13:43:47.908Z"
      },
      {
        "duration": 13,
        "start_time": "2022-08-08T13:43:48.078Z"
      },
      {
        "duration": 14,
        "start_time": "2022-08-08T13:43:48.237Z"
      },
      {
        "duration": 17,
        "start_time": "2022-08-08T13:43:48.374Z"
      },
      {
        "duration": 10,
        "start_time": "2022-08-08T13:43:48.788Z"
      },
      {
        "duration": 27,
        "start_time": "2022-08-08T13:43:53.053Z"
      },
      {
        "duration": 9,
        "start_time": "2022-08-08T13:44:06.196Z"
      },
      {
        "duration": 8,
        "start_time": "2022-08-08T13:44:36.793Z"
      },
      {
        "duration": 3,
        "start_time": "2022-08-09T15:04:05.616Z"
      },
      {
        "duration": 180,
        "start_time": "2022-08-09T15:04:05.623Z"
      },
      {
        "duration": 113,
        "start_time": "2022-08-09T15:04:05.805Z"
      },
      {
        "duration": 5,
        "start_time": "2022-08-09T15:04:05.920Z"
      },
      {
        "duration": 43,
        "start_time": "2022-08-09T15:04:05.927Z"
      },
      {
        "duration": 6,
        "start_time": "2022-08-09T15:04:05.972Z"
      },
      {
        "duration": 23,
        "start_time": "2022-08-09T15:04:05.980Z"
      },
      {
        "duration": 8,
        "start_time": "2022-08-09T15:04:06.005Z"
      },
      {
        "duration": 33,
        "start_time": "2022-08-09T15:04:06.015Z"
      },
      {
        "duration": 75,
        "start_time": "2022-08-09T15:04:06.049Z"
      },
      {
        "duration": 19,
        "start_time": "2022-08-09T15:04:06.126Z"
      },
      {
        "duration": 69,
        "start_time": "2022-08-09T15:04:06.146Z"
      },
      {
        "duration": 56,
        "start_time": "2022-08-09T15:04:06.217Z"
      },
      {
        "duration": 66,
        "start_time": "2022-08-09T15:04:06.275Z"
      },
      {
        "duration": 6,
        "start_time": "2022-08-09T15:04:06.344Z"
      },
      {
        "duration": 24,
        "start_time": "2022-08-09T15:04:06.351Z"
      },
      {
        "duration": 19,
        "start_time": "2022-08-09T15:04:06.376Z"
      },
      {
        "duration": 16,
        "start_time": "2022-08-09T15:04:06.396Z"
      },
      {
        "duration": 33,
        "start_time": "2022-08-09T15:04:06.414Z"
      },
      {
        "duration": 29,
        "start_time": "2022-08-09T15:04:06.449Z"
      },
      {
        "duration": 4,
        "start_time": "2022-08-09T15:04:06.480Z"
      },
      {
        "duration": 37,
        "start_time": "2022-08-09T15:04:06.485Z"
      },
      {
        "duration": 28,
        "start_time": "2022-08-09T15:04:06.524Z"
      },
      {
        "duration": 21,
        "start_time": "2022-08-09T15:04:06.553Z"
      },
      {
        "duration": 15,
        "start_time": "2022-08-09T15:04:06.576Z"
      },
      {
        "duration": 39,
        "start_time": "2022-08-09T15:04:06.593Z"
      },
      {
        "duration": 15,
        "start_time": "2022-08-09T15:04:06.634Z"
      },
      {
        "duration": 22,
        "start_time": "2022-08-09T15:04:06.651Z"
      },
      {
        "duration": 31,
        "start_time": "2022-08-09T15:04:06.674Z"
      },
      {
        "duration": 0,
        "start_time": "2022-08-09T15:04:06.707Z"
      },
      {
        "duration": 0,
        "start_time": "2022-08-09T15:04:06.708Z"
      },
      {
        "duration": 0,
        "start_time": "2022-08-09T15:04:06.709Z"
      },
      {
        "duration": 0,
        "start_time": "2022-08-09T15:04:06.710Z"
      },
      {
        "duration": 0,
        "start_time": "2022-08-09T15:04:06.710Z"
      },
      {
        "duration": 0,
        "start_time": "2022-08-09T15:04:06.712Z"
      },
      {
        "duration": 0,
        "start_time": "2022-08-09T15:04:06.712Z"
      },
      {
        "duration": 0,
        "start_time": "2022-08-09T15:04:06.713Z"
      },
      {
        "duration": 0,
        "start_time": "2022-08-09T15:04:06.714Z"
      },
      {
        "duration": 0,
        "start_time": "2022-08-09T15:04:06.715Z"
      },
      {
        "duration": 2234,
        "start_time": "2022-08-09T15:10:40.752Z"
      },
      {
        "duration": 124,
        "start_time": "2022-08-09T15:11:25.104Z"
      },
      {
        "duration": 50,
        "start_time": "2022-08-09T15:11:50.781Z"
      },
      {
        "duration": 70,
        "start_time": "2022-08-09T15:12:12.337Z"
      },
      {
        "duration": 384,
        "start_time": "2022-08-10T03:37:37.174Z"
      },
      {
        "duration": 782,
        "start_time": "2022-08-10T03:37:37.560Z"
      },
      {
        "duration": 122,
        "start_time": "2022-08-10T03:37:38.343Z"
      },
      {
        "duration": 6,
        "start_time": "2022-08-10T03:37:38.467Z"
      },
      {
        "duration": 31,
        "start_time": "2022-08-10T03:37:38.474Z"
      },
      {
        "duration": 3,
        "start_time": "2022-08-10T03:37:38.506Z"
      },
      {
        "duration": 14,
        "start_time": "2022-08-10T03:37:38.510Z"
      },
      {
        "duration": 5,
        "start_time": "2022-08-10T03:37:38.526Z"
      },
      {
        "duration": 21,
        "start_time": "2022-08-10T03:37:38.554Z"
      },
      {
        "duration": 80,
        "start_time": "2022-08-10T03:37:38.579Z"
      },
      {
        "duration": 20,
        "start_time": "2022-08-10T03:37:38.661Z"
      },
      {
        "duration": 58,
        "start_time": "2022-08-10T03:37:38.683Z"
      },
      {
        "duration": 61,
        "start_time": "2022-08-10T03:37:38.754Z"
      },
      {
        "duration": 64,
        "start_time": "2022-08-10T03:37:38.817Z"
      },
      {
        "duration": 6,
        "start_time": "2022-08-10T03:37:38.882Z"
      },
      {
        "duration": 3,
        "start_time": "2022-08-10T03:37:38.890Z"
      },
      {
        "duration": 11,
        "start_time": "2022-08-10T03:37:38.894Z"
      },
      {
        "duration": 8,
        "start_time": "2022-08-10T03:37:38.906Z"
      },
      {
        "duration": 47,
        "start_time": "2022-08-10T03:37:38.916Z"
      },
      {
        "duration": 27,
        "start_time": "2022-08-10T03:37:38.964Z"
      },
      {
        "duration": 3,
        "start_time": "2022-08-10T03:37:38.993Z"
      },
      {
        "duration": 25,
        "start_time": "2022-08-10T03:37:38.998Z"
      },
      {
        "duration": 11,
        "start_time": "2022-08-10T03:37:39.025Z"
      },
      {
        "duration": 23,
        "start_time": "2022-08-10T03:37:39.038Z"
      },
      {
        "duration": 11,
        "start_time": "2022-08-10T03:37:39.062Z"
      },
      {
        "duration": 13,
        "start_time": "2022-08-10T03:37:39.074Z"
      },
      {
        "duration": 12,
        "start_time": "2022-08-10T03:37:39.088Z"
      },
      {
        "duration": 8,
        "start_time": "2022-08-10T03:37:39.103Z"
      },
      {
        "duration": 82,
        "start_time": "2022-08-10T03:37:39.113Z"
      },
      {
        "duration": 0,
        "start_time": "2022-08-10T03:37:39.197Z"
      },
      {
        "duration": 0,
        "start_time": "2022-08-10T03:37:39.198Z"
      },
      {
        "duration": 0,
        "start_time": "2022-08-10T03:37:39.198Z"
      },
      {
        "duration": 0,
        "start_time": "2022-08-10T03:37:39.199Z"
      },
      {
        "duration": 0,
        "start_time": "2022-08-10T03:37:39.200Z"
      },
      {
        "duration": 0,
        "start_time": "2022-08-10T03:37:39.201Z"
      },
      {
        "duration": 0,
        "start_time": "2022-08-10T03:37:39.202Z"
      },
      {
        "duration": 0,
        "start_time": "2022-08-10T03:37:39.203Z"
      },
      {
        "duration": 0,
        "start_time": "2022-08-10T03:37:39.203Z"
      },
      {
        "duration": 0,
        "start_time": "2022-08-10T03:37:39.204Z"
      },
      {
        "duration": 7,
        "start_time": "2022-08-10T03:37:47.406Z"
      },
      {
        "duration": 7,
        "start_time": "2022-08-10T03:38:22.655Z"
      },
      {
        "duration": 76,
        "start_time": "2022-08-10T03:38:43.630Z"
      },
      {
        "duration": 128,
        "start_time": "2022-08-10T03:39:26.785Z"
      },
      {
        "duration": 790,
        "start_time": "2022-08-10T03:40:11.414Z"
      },
      {
        "duration": 714,
        "start_time": "2022-08-10T03:40:18.069Z"
      },
      {
        "duration": 86,
        "start_time": "2022-08-10T03:41:24.273Z"
      },
      {
        "duration": 76,
        "start_time": "2022-08-10T03:46:51.817Z"
      },
      {
        "duration": 2,
        "start_time": "2022-08-10T03:47:08.187Z"
      },
      {
        "duration": 159,
        "start_time": "2022-08-10T03:47:10.099Z"
      },
      {
        "duration": 6,
        "start_time": "2022-08-10T03:47:15.377Z"
      },
      {
        "duration": 20,
        "start_time": "2022-08-10T03:47:25.731Z"
      },
      {
        "duration": 1170,
        "start_time": "2022-08-10T03:47:28.478Z"
      },
      {
        "duration": 21,
        "start_time": "2022-08-10T03:47:32.167Z"
      },
      {
        "duration": 1120,
        "start_time": "2022-08-10T03:47:58.256Z"
      },
      {
        "duration": 4,
        "start_time": "2022-08-10T03:48:05.868Z"
      },
      {
        "duration": 1169,
        "start_time": "2022-08-10T03:48:08.922Z"
      },
      {
        "duration": 2,
        "start_time": "2022-08-10T03:48:37.689Z"
      },
      {
        "duration": 160,
        "start_time": "2022-08-10T03:48:37.695Z"
      },
      {
        "duration": 105,
        "start_time": "2022-08-10T03:48:37.857Z"
      },
      {
        "duration": 6,
        "start_time": "2022-08-10T03:48:37.963Z"
      },
      {
        "duration": 30,
        "start_time": "2022-08-10T03:48:37.970Z"
      },
      {
        "duration": 3,
        "start_time": "2022-08-10T03:48:38.001Z"
      },
      {
        "duration": 10,
        "start_time": "2022-08-10T03:48:38.006Z"
      },
      {
        "duration": 5,
        "start_time": "2022-08-10T03:48:38.018Z"
      },
      {
        "duration": 52,
        "start_time": "2022-08-10T03:48:38.024Z"
      },
      {
        "duration": 80,
        "start_time": "2022-08-10T03:48:38.077Z"
      },
      {
        "duration": 22,
        "start_time": "2022-08-10T03:48:38.159Z"
      },
      {
        "duration": 54,
        "start_time": "2022-08-10T03:48:38.182Z"
      },
      {
        "duration": 70,
        "start_time": "2022-08-10T03:48:38.238Z"
      },
      {
        "duration": 66,
        "start_time": "2022-08-10T03:48:38.310Z"
      },
      {
        "duration": 7,
        "start_time": "2022-08-10T03:48:38.378Z"
      },
      {
        "duration": 3,
        "start_time": "2022-08-10T03:48:38.387Z"
      },
      {
        "duration": 10,
        "start_time": "2022-08-10T03:48:38.392Z"
      },
      {
        "duration": 8,
        "start_time": "2022-08-10T03:48:38.404Z"
      },
      {
        "duration": 63,
        "start_time": "2022-08-10T03:48:38.414Z"
      },
      {
        "duration": 31,
        "start_time": "2022-08-10T03:48:38.479Z"
      },
      {
        "duration": 3,
        "start_time": "2022-08-10T03:48:38.512Z"
      },
      {
        "duration": 18,
        "start_time": "2022-08-10T03:48:38.517Z"
      },
      {
        "duration": 14,
        "start_time": "2022-08-10T03:48:38.555Z"
      },
      {
        "duration": 14,
        "start_time": "2022-08-10T03:48:38.570Z"
      },
      {
        "duration": 13,
        "start_time": "2022-08-10T03:48:38.586Z"
      },
      {
        "duration": 15,
        "start_time": "2022-08-10T03:48:38.601Z"
      },
      {
        "duration": 45,
        "start_time": "2022-08-10T03:48:38.618Z"
      },
      {
        "duration": 9,
        "start_time": "2022-08-10T03:48:38.664Z"
      },
      {
        "duration": 11,
        "start_time": "2022-08-10T03:48:38.675Z"
      },
      {
        "duration": 10,
        "start_time": "2022-08-10T03:48:38.688Z"
      },
      {
        "duration": 85,
        "start_time": "2022-08-10T03:48:38.700Z"
      },
      {
        "duration": 0,
        "start_time": "2022-08-10T03:48:38.787Z"
      },
      {
        "duration": 0,
        "start_time": "2022-08-10T03:48:38.788Z"
      },
      {
        "duration": 0,
        "start_time": "2022-08-10T03:48:38.789Z"
      },
      {
        "duration": 0,
        "start_time": "2022-08-10T03:48:38.790Z"
      },
      {
        "duration": 0,
        "start_time": "2022-08-10T03:48:38.791Z"
      },
      {
        "duration": 0,
        "start_time": "2022-08-10T03:48:38.792Z"
      },
      {
        "duration": 0,
        "start_time": "2022-08-10T03:48:38.794Z"
      },
      {
        "duration": 0,
        "start_time": "2022-08-10T03:48:38.795Z"
      },
      {
        "duration": 13,
        "start_time": "2022-08-10T03:48:52.478Z"
      },
      {
        "duration": 78,
        "start_time": "2022-08-10T03:49:02.703Z"
      },
      {
        "duration": 82,
        "start_time": "2022-08-10T03:49:39.241Z"
      },
      {
        "duration": 77,
        "start_time": "2022-08-10T03:51:39.235Z"
      },
      {
        "duration": 74,
        "start_time": "2022-08-10T03:53:53.293Z"
      },
      {
        "duration": 94,
        "start_time": "2022-08-10T03:54:17.963Z"
      },
      {
        "duration": 81,
        "start_time": "2022-08-10T03:57:04.711Z"
      },
      {
        "duration": 75,
        "start_time": "2022-08-10T03:57:30.611Z"
      },
      {
        "duration": 70,
        "start_time": "2022-08-10T03:58:25.572Z"
      },
      {
        "duration": 80,
        "start_time": "2022-08-10T03:59:01.271Z"
      },
      {
        "duration": 86,
        "start_time": "2022-08-10T03:59:19.568Z"
      },
      {
        "duration": 71,
        "start_time": "2022-08-10T03:59:24.367Z"
      },
      {
        "duration": 68,
        "start_time": "2022-08-10T03:59:32.284Z"
      },
      {
        "duration": 88,
        "start_time": "2022-08-10T03:59:52.877Z"
      },
      {
        "duration": 94,
        "start_time": "2022-08-10T04:05:03.442Z"
      },
      {
        "duration": 72,
        "start_time": "2022-08-10T04:05:56.760Z"
      },
      {
        "duration": 88,
        "start_time": "2022-08-10T04:06:14.867Z"
      },
      {
        "duration": 117,
        "start_time": "2022-08-10T04:44:21.692Z"
      },
      {
        "duration": 25,
        "start_time": "2022-08-10T08:05:07.925Z"
      },
      {
        "duration": 23,
        "start_time": "2022-08-10T08:05:32.236Z"
      },
      {
        "duration": 169,
        "start_time": "2022-08-10T08:05:45.763Z"
      },
      {
        "duration": 74,
        "start_time": "2022-08-10T08:21:48.024Z"
      },
      {
        "duration": 3,
        "start_time": "2022-08-10T11:24:58.874Z"
      },
      {
        "duration": 146,
        "start_time": "2022-08-10T11:24:58.879Z"
      },
      {
        "duration": 114,
        "start_time": "2022-08-10T11:24:59.027Z"
      },
      {
        "duration": 6,
        "start_time": "2022-08-10T11:24:59.142Z"
      },
      {
        "duration": 24,
        "start_time": "2022-08-10T11:24:59.155Z"
      },
      {
        "duration": 3,
        "start_time": "2022-08-10T11:24:59.180Z"
      },
      {
        "duration": 11,
        "start_time": "2022-08-10T11:24:59.185Z"
      },
      {
        "duration": 3,
        "start_time": "2022-08-10T11:24:59.197Z"
      },
      {
        "duration": 22,
        "start_time": "2022-08-10T11:24:59.201Z"
      },
      {
        "duration": 91,
        "start_time": "2022-08-10T11:24:59.224Z"
      },
      {
        "duration": 19,
        "start_time": "2022-08-10T11:24:59.318Z"
      },
      {
        "duration": 63,
        "start_time": "2022-08-10T11:24:59.338Z"
      },
      {
        "duration": 63,
        "start_time": "2022-08-10T11:24:59.403Z"
      },
      {
        "duration": 46,
        "start_time": "2022-08-10T11:24:59.468Z"
      },
      {
        "duration": 6,
        "start_time": "2022-08-10T11:24:59.515Z"
      },
      {
        "duration": 3,
        "start_time": "2022-08-10T11:24:59.522Z"
      },
      {
        "duration": 29,
        "start_time": "2022-08-10T11:24:59.526Z"
      },
      {
        "duration": 6,
        "start_time": "2022-08-10T11:24:59.556Z"
      },
      {
        "duration": 27,
        "start_time": "2022-08-10T11:24:59.564Z"
      },
      {
        "duration": 27,
        "start_time": "2022-08-10T11:24:59.593Z"
      },
      {
        "duration": 3,
        "start_time": "2022-08-10T11:24:59.622Z"
      },
      {
        "duration": 35,
        "start_time": "2022-08-10T11:24:59.626Z"
      },
      {
        "duration": 11,
        "start_time": "2022-08-10T11:24:59.663Z"
      },
      {
        "duration": 11,
        "start_time": "2022-08-10T11:24:59.676Z"
      },
      {
        "duration": 13,
        "start_time": "2022-08-10T11:24:59.688Z"
      },
      {
        "duration": 13,
        "start_time": "2022-08-10T11:24:59.703Z"
      },
      {
        "duration": 40,
        "start_time": "2022-08-10T11:24:59.718Z"
      },
      {
        "duration": 11,
        "start_time": "2022-08-10T11:24:59.760Z"
      },
      {
        "duration": 21,
        "start_time": "2022-08-10T11:24:59.774Z"
      },
      {
        "duration": 16,
        "start_time": "2022-08-10T11:24:59.796Z"
      },
      {
        "duration": 88,
        "start_time": "2022-08-10T11:24:59.813Z"
      },
      {
        "duration": 0,
        "start_time": "2022-08-10T11:24:59.902Z"
      },
      {
        "duration": 0,
        "start_time": "2022-08-10T11:24:59.903Z"
      },
      {
        "duration": 0,
        "start_time": "2022-08-10T11:24:59.904Z"
      },
      {
        "duration": 0,
        "start_time": "2022-08-10T11:24:59.905Z"
      },
      {
        "duration": 0,
        "start_time": "2022-08-10T11:24:59.906Z"
      },
      {
        "duration": 0,
        "start_time": "2022-08-10T11:24:59.906Z"
      },
      {
        "duration": 0,
        "start_time": "2022-08-10T11:24:59.908Z"
      },
      {
        "duration": 0,
        "start_time": "2022-08-10T11:24:59.909Z"
      },
      {
        "duration": 77,
        "start_time": "2022-08-10T11:27:14.551Z"
      },
      {
        "duration": 4,
        "start_time": "2022-08-10T11:29:33.635Z"
      },
      {
        "duration": 128,
        "start_time": "2022-08-10T11:29:45.140Z"
      },
      {
        "duration": 77,
        "start_time": "2022-08-10T11:29:57.532Z"
      },
      {
        "duration": 5,
        "start_time": "2022-08-10T12:53:35.940Z"
      },
      {
        "duration": 8,
        "start_time": "2022-08-10T12:54:08.708Z"
      },
      {
        "duration": 4,
        "start_time": "2022-08-10T12:54:25.817Z"
      },
      {
        "duration": 375,
        "start_time": "2022-08-10T12:55:56.011Z"
      },
      {
        "duration": 24,
        "start_time": "2022-08-10T12:56:22.866Z"
      },
      {
        "duration": 4,
        "start_time": "2022-08-10T12:57:59.269Z"
      },
      {
        "duration": 25,
        "start_time": "2022-08-10T12:58:01.588Z"
      },
      {
        "duration": 6,
        "start_time": "2022-08-10T12:58:20.035Z"
      },
      {
        "duration": 17,
        "start_time": "2022-08-10T12:58:22.520Z"
      },
      {
        "duration": 17,
        "start_time": "2022-08-10T12:58:48.528Z"
      },
      {
        "duration": 6,
        "start_time": "2022-08-10T12:59:53.893Z"
      },
      {
        "duration": 18,
        "start_time": "2022-08-10T12:59:55.706Z"
      },
      {
        "duration": 17,
        "start_time": "2022-08-10T12:59:59.294Z"
      },
      {
        "duration": 5,
        "start_time": "2022-08-10T13:00:14.645Z"
      },
      {
        "duration": 1598,
        "start_time": "2022-08-10T13:00:17.023Z"
      },
      {
        "duration": 5,
        "start_time": "2022-08-10T13:00:57.506Z"
      },
      {
        "duration": 16,
        "start_time": "2022-08-10T13:00:59.896Z"
      },
      {
        "duration": 17,
        "start_time": "2022-08-10T13:08:57.919Z"
      },
      {
        "duration": 4,
        "start_time": "2022-08-10T13:09:06.703Z"
      },
      {
        "duration": 2,
        "start_time": "2022-08-10T13:09:15.755Z"
      },
      {
        "duration": 3,
        "start_time": "2022-08-10T13:09:15.791Z"
      },
      {
        "duration": 17,
        "start_time": "2022-08-10T13:09:37.548Z"
      },
      {
        "duration": 112,
        "start_time": "2022-08-10T13:26:53.561Z"
      },
      {
        "duration": 73,
        "start_time": "2022-08-10T13:27:03.736Z"
      },
      {
        "duration": 95,
        "start_time": "2022-08-10T13:38:40.601Z"
      },
      {
        "duration": 89,
        "start_time": "2022-08-10T13:53:49.289Z"
      },
      {
        "duration": 4,
        "start_time": "2022-08-10T13:53:57.697Z"
      },
      {
        "duration": 14,
        "start_time": "2022-08-10T13:54:29.539Z"
      },
      {
        "duration": 24,
        "start_time": "2022-08-10T13:54:51.697Z"
      },
      {
        "duration": 73,
        "start_time": "2022-08-10T13:55:08.199Z"
      },
      {
        "duration": 103,
        "start_time": "2022-08-10T13:55:12.369Z"
      },
      {
        "duration": 25,
        "start_time": "2022-08-10T13:55:20.494Z"
      },
      {
        "duration": 4,
        "start_time": "2022-08-10T13:56:39.042Z"
      },
      {
        "duration": 22,
        "start_time": "2022-08-10T13:56:41.851Z"
      },
      {
        "duration": 4,
        "start_time": "2022-08-10T13:57:13.432Z"
      },
      {
        "duration": 22,
        "start_time": "2022-08-10T13:57:15.650Z"
      },
      {
        "duration": 4,
        "start_time": "2022-08-10T14:19:57.018Z"
      },
      {
        "duration": 24,
        "start_time": "2022-08-10T14:19:58.992Z"
      },
      {
        "duration": 13,
        "start_time": "2022-08-10T14:20:18.549Z"
      },
      {
        "duration": 4,
        "start_time": "2022-08-10T14:26:29.818Z"
      },
      {
        "duration": 19,
        "start_time": "2022-08-10T14:26:39.302Z"
      },
      {
        "duration": 19,
        "start_time": "2022-08-10T14:26:48.630Z"
      },
      {
        "duration": 4,
        "start_time": "2022-08-10T14:29:14.175Z"
      },
      {
        "duration": 1525,
        "start_time": "2022-08-10T14:29:18.384Z"
      },
      {
        "duration": 4,
        "start_time": "2022-08-10T14:30:12.644Z"
      },
      {
        "duration": 20,
        "start_time": "2022-08-10T14:30:15.365Z"
      },
      {
        "duration": 3,
        "start_time": "2022-08-10T14:30:15.386Z"
      },
      {
        "duration": 19,
        "start_time": "2022-08-10T14:42:35.722Z"
      },
      {
        "duration": 19,
        "start_time": "2022-08-10T14:43:28.834Z"
      },
      {
        "duration": 96,
        "start_time": "2022-08-10T14:43:43.576Z"
      },
      {
        "duration": 72,
        "start_time": "2022-08-10T14:43:50.689Z"
      },
      {
        "duration": 19,
        "start_time": "2022-08-10T14:43:55.202Z"
      },
      {
        "duration": 2,
        "start_time": "2022-08-10T14:44:04.066Z"
      },
      {
        "duration": 139,
        "start_time": "2022-08-10T14:44:04.080Z"
      },
      {
        "duration": 119,
        "start_time": "2022-08-10T14:44:04.221Z"
      },
      {
        "duration": 13,
        "start_time": "2022-08-10T14:44:04.342Z"
      },
      {
        "duration": 25,
        "start_time": "2022-08-10T14:44:04.356Z"
      },
      {
        "duration": 3,
        "start_time": "2022-08-10T14:44:04.383Z"
      },
      {
        "duration": 8,
        "start_time": "2022-08-10T14:44:04.387Z"
      },
      {
        "duration": 3,
        "start_time": "2022-08-10T14:44:04.396Z"
      },
      {
        "duration": 23,
        "start_time": "2022-08-10T14:44:04.400Z"
      },
      {
        "duration": 93,
        "start_time": "2022-08-10T14:44:04.424Z"
      },
      {
        "duration": 19,
        "start_time": "2022-08-10T14:44:04.518Z"
      },
      {
        "duration": 58,
        "start_time": "2022-08-10T14:44:04.538Z"
      },
      {
        "duration": 70,
        "start_time": "2022-08-10T14:44:04.598Z"
      },
      {
        "duration": 47,
        "start_time": "2022-08-10T14:44:04.670Z"
      },
      {
        "duration": 7,
        "start_time": "2022-08-10T14:44:04.719Z"
      },
      {
        "duration": 4,
        "start_time": "2022-08-10T14:44:04.727Z"
      },
      {
        "duration": 25,
        "start_time": "2022-08-10T14:44:04.732Z"
      },
      {
        "duration": 7,
        "start_time": "2022-08-10T14:44:04.758Z"
      },
      {
        "duration": 27,
        "start_time": "2022-08-10T14:44:04.766Z"
      },
      {
        "duration": 27,
        "start_time": "2022-08-10T14:44:04.795Z"
      },
      {
        "duration": 3,
        "start_time": "2022-08-10T14:44:04.823Z"
      },
      {
        "duration": 34,
        "start_time": "2022-08-10T14:44:04.827Z"
      },
      {
        "duration": 11,
        "start_time": "2022-08-10T14:44:04.862Z"
      },
      {
        "duration": 17,
        "start_time": "2022-08-10T14:44:04.874Z"
      },
      {
        "duration": 11,
        "start_time": "2022-08-10T14:44:04.892Z"
      },
      {
        "duration": 12,
        "start_time": "2022-08-10T14:44:04.904Z"
      },
      {
        "duration": 37,
        "start_time": "2022-08-10T14:44:04.918Z"
      },
      {
        "duration": 8,
        "start_time": "2022-08-10T14:44:04.956Z"
      },
      {
        "duration": 22,
        "start_time": "2022-08-10T14:44:04.965Z"
      },
      {
        "duration": 15,
        "start_time": "2022-08-10T14:44:04.989Z"
      },
      {
        "duration": 22,
        "start_time": "2022-08-10T14:44:05.005Z"
      },
      {
        "duration": 27,
        "start_time": "2022-08-10T14:44:05.029Z"
      },
      {
        "duration": 27,
        "start_time": "2022-08-10T14:44:05.057Z"
      },
      {
        "duration": 6,
        "start_time": "2022-08-10T14:44:05.086Z"
      },
      {
        "duration": 8,
        "start_time": "2022-08-10T14:44:05.093Z"
      },
      {
        "duration": 11,
        "start_time": "2022-08-10T14:44:05.103Z"
      },
      {
        "duration": 6,
        "start_time": "2022-08-10T14:44:05.115Z"
      },
      {
        "duration": 7,
        "start_time": "2022-08-10T14:44:05.123Z"
      },
      {
        "duration": 7,
        "start_time": "2022-08-10T14:44:05.131Z"
      },
      {
        "duration": 8,
        "start_time": "2022-08-10T14:44:05.139Z"
      },
      {
        "duration": 7,
        "start_time": "2022-08-10T14:44:23.170Z"
      },
      {
        "duration": 19,
        "start_time": "2022-08-10T14:44:40.390Z"
      },
      {
        "duration": 3,
        "start_time": "2022-08-10T14:48:04.837Z"
      },
      {
        "duration": 37,
        "start_time": "2022-08-10T14:48:09.589Z"
      },
      {
        "duration": 924,
        "start_time": "2022-08-10T14:48:26.965Z"
      },
      {
        "duration": 3,
        "start_time": "2022-08-10T14:52:02.003Z"
      },
      {
        "duration": 19,
        "start_time": "2022-08-10T14:52:06.884Z"
      },
      {
        "duration": 10,
        "start_time": "2022-08-10T14:52:36.653Z"
      },
      {
        "duration": 20,
        "start_time": "2022-08-10T14:52:44.903Z"
      },
      {
        "duration": 28,
        "start_time": "2022-08-10T14:53:27.914Z"
      },
      {
        "duration": 4,
        "start_time": "2022-08-10T14:54:08.498Z"
      },
      {
        "duration": 25,
        "start_time": "2022-08-10T14:54:11.155Z"
      },
      {
        "duration": 4,
        "start_time": "2022-08-10T14:54:28.645Z"
      },
      {
        "duration": 26,
        "start_time": "2022-08-10T14:54:31.147Z"
      },
      {
        "duration": 4,
        "start_time": "2022-08-10T14:54:40.550Z"
      },
      {
        "duration": 26,
        "start_time": "2022-08-10T14:54:43.718Z"
      },
      {
        "duration": 17,
        "start_time": "2022-08-10T14:55:43.646Z"
      },
      {
        "duration": 17,
        "start_time": "2022-08-10T14:55:53.340Z"
      },
      {
        "duration": 16,
        "start_time": "2022-08-10T14:55:56.600Z"
      },
      {
        "duration": 19,
        "start_time": "2022-08-10T14:56:13.901Z"
      },
      {
        "duration": 3,
        "start_time": "2022-08-10T14:56:33.158Z"
      },
      {
        "duration": 22,
        "start_time": "2022-08-10T14:56:48.316Z"
      },
      {
        "duration": 28,
        "start_time": "2022-08-10T14:57:10.253Z"
      },
      {
        "duration": 22,
        "start_time": "2022-08-10T14:58:26.846Z"
      },
      {
        "duration": 28,
        "start_time": "2022-08-10T14:58:30.844Z"
      },
      {
        "duration": 1305,
        "start_time": "2022-08-10T14:59:54.996Z"
      },
      {
        "duration": 1301,
        "start_time": "2022-08-10T15:00:07.544Z"
      },
      {
        "duration": 0,
        "start_time": "2022-08-10T15:00:08.847Z"
      },
      {
        "duration": 25,
        "start_time": "2022-08-10T15:00:19.918Z"
      },
      {
        "duration": 24,
        "start_time": "2022-08-10T15:01:16.926Z"
      },
      {
        "duration": 1246,
        "start_time": "2022-08-10T15:01:29.918Z"
      },
      {
        "duration": 30,
        "start_time": "2022-08-10T15:01:41.330Z"
      },
      {
        "duration": 1214,
        "start_time": "2022-08-10T15:01:51.722Z"
      },
      {
        "duration": 1381,
        "start_time": "2022-08-10T15:01:59.436Z"
      },
      {
        "duration": 1336,
        "start_time": "2022-08-10T15:02:10.021Z"
      },
      {
        "duration": 24,
        "start_time": "2022-08-10T15:02:26.288Z"
      },
      {
        "duration": 26,
        "start_time": "2022-08-10T15:03:14.541Z"
      },
      {
        "duration": 22,
        "start_time": "2022-08-10T15:03:43.586Z"
      },
      {
        "duration": 24,
        "start_time": "2022-08-10T15:04:02.880Z"
      },
      {
        "duration": 5,
        "start_time": "2022-08-10T15:06:00.121Z"
      },
      {
        "duration": 26,
        "start_time": "2022-08-10T15:06:01.840Z"
      },
      {
        "duration": 4,
        "start_time": "2022-08-10T15:06:10.048Z"
      },
      {
        "duration": 26,
        "start_time": "2022-08-10T15:06:11.731Z"
      },
      {
        "duration": 4,
        "start_time": "2022-08-10T15:06:19.933Z"
      },
      {
        "duration": 26,
        "start_time": "2022-08-10T15:06:22.483Z"
      },
      {
        "duration": 4,
        "start_time": "2022-08-10T15:06:49.712Z"
      },
      {
        "duration": 30,
        "start_time": "2022-08-10T15:06:51.786Z"
      },
      {
        "duration": 24,
        "start_time": "2022-08-10T15:07:11.023Z"
      },
      {
        "duration": 4,
        "start_time": "2022-08-10T15:07:21.809Z"
      },
      {
        "duration": 28,
        "start_time": "2022-08-10T15:07:23.488Z"
      },
      {
        "duration": 4,
        "start_time": "2022-08-10T15:09:17.133Z"
      },
      {
        "duration": 28,
        "start_time": "2022-08-10T15:09:19.638Z"
      },
      {
        "duration": 14,
        "start_time": "2022-08-10T15:15:40.605Z"
      },
      {
        "duration": 8,
        "start_time": "2022-08-10T15:15:44.852Z"
      },
      {
        "duration": 30,
        "start_time": "2022-08-10T15:15:58.272Z"
      },
      {
        "duration": 4,
        "start_time": "2022-08-10T15:16:18.547Z"
      },
      {
        "duration": 23,
        "start_time": "2022-08-10T15:16:20.789Z"
      },
      {
        "duration": 23,
        "start_time": "2022-08-10T15:19:15.934Z"
      },
      {
        "duration": 21,
        "start_time": "2022-08-10T15:19:53.064Z"
      },
      {
        "duration": 22,
        "start_time": "2022-08-10T15:20:41.178Z"
      },
      {
        "duration": 22,
        "start_time": "2022-08-10T15:21:52.302Z"
      },
      {
        "duration": 23,
        "start_time": "2022-08-10T15:22:04.202Z"
      },
      {
        "duration": 24,
        "start_time": "2022-08-10T15:22:06.572Z"
      },
      {
        "duration": 8,
        "start_time": "2022-08-10T15:29:43.088Z"
      },
      {
        "duration": 2,
        "start_time": "2022-08-10T15:29:53.733Z"
      },
      {
        "duration": 23,
        "start_time": "2022-08-10T15:33:09.847Z"
      },
      {
        "duration": 7,
        "start_time": "2022-08-10T15:39:22.822Z"
      },
      {
        "duration": 8,
        "start_time": "2022-08-10T15:41:52.996Z"
      },
      {
        "duration": 7,
        "start_time": "2022-08-10T15:42:20.096Z"
      },
      {
        "duration": 7,
        "start_time": "2022-08-10T15:42:36.121Z"
      },
      {
        "duration": 1440,
        "start_time": "2022-08-10T15:46:46.935Z"
      },
      {
        "duration": 27,
        "start_time": "2022-08-10T15:47:04.854Z"
      },
      {
        "duration": 5,
        "start_time": "2022-08-10T15:47:18.090Z"
      },
      {
        "duration": 18,
        "start_time": "2022-08-10T15:50:54.932Z"
      },
      {
        "duration": 4,
        "start_time": "2022-08-10T15:51:06.346Z"
      },
      {
        "duration": 447,
        "start_time": "2022-08-11T14:38:26.885Z"
      },
      {
        "duration": 183,
        "start_time": "2022-08-11T14:38:27.334Z"
      },
      {
        "duration": 129,
        "start_time": "2022-08-11T14:38:27.519Z"
      },
      {
        "duration": 6,
        "start_time": "2022-08-11T14:38:27.650Z"
      },
      {
        "duration": 51,
        "start_time": "2022-08-11T14:38:27.657Z"
      },
      {
        "duration": 11,
        "start_time": "2022-08-11T14:38:27.710Z"
      },
      {
        "duration": 32,
        "start_time": "2022-08-11T14:38:27.723Z"
      },
      {
        "duration": 22,
        "start_time": "2022-08-11T14:38:27.757Z"
      },
      {
        "duration": 45,
        "start_time": "2022-08-11T14:38:27.780Z"
      },
      {
        "duration": 97,
        "start_time": "2022-08-11T14:38:27.829Z"
      },
      {
        "duration": 23,
        "start_time": "2022-08-11T14:38:27.927Z"
      },
      {
        "duration": 72,
        "start_time": "2022-08-11T14:38:27.952Z"
      },
      {
        "duration": 62,
        "start_time": "2022-08-11T14:38:28.025Z"
      },
      {
        "duration": 60,
        "start_time": "2022-08-11T14:38:28.088Z"
      },
      {
        "duration": 7,
        "start_time": "2022-08-11T14:38:28.150Z"
      },
      {
        "duration": 21,
        "start_time": "2022-08-11T14:38:28.158Z"
      },
      {
        "duration": 43,
        "start_time": "2022-08-11T14:38:28.181Z"
      },
      {
        "duration": 21,
        "start_time": "2022-08-11T14:38:28.226Z"
      },
      {
        "duration": 51,
        "start_time": "2022-08-11T14:38:28.249Z"
      },
      {
        "duration": 31,
        "start_time": "2022-08-11T14:38:28.302Z"
      },
      {
        "duration": 4,
        "start_time": "2022-08-11T14:38:28.335Z"
      },
      {
        "duration": 31,
        "start_time": "2022-08-11T14:38:28.340Z"
      },
      {
        "duration": 14,
        "start_time": "2022-08-11T14:38:28.373Z"
      },
      {
        "duration": 17,
        "start_time": "2022-08-11T14:38:28.388Z"
      },
      {
        "duration": 17,
        "start_time": "2022-08-11T14:38:28.407Z"
      },
      {
        "duration": 15,
        "start_time": "2022-08-11T14:38:28.425Z"
      },
      {
        "duration": 15,
        "start_time": "2022-08-11T14:38:28.441Z"
      },
      {
        "duration": 9,
        "start_time": "2022-08-11T14:38:28.459Z"
      },
      {
        "duration": 43,
        "start_time": "2022-08-11T14:38:28.470Z"
      },
      {
        "duration": 24,
        "start_time": "2022-08-11T14:38:28.514Z"
      },
      {
        "duration": 5,
        "start_time": "2022-08-11T14:38:28.541Z"
      },
      {
        "duration": 42,
        "start_time": "2022-08-11T14:38:28.548Z"
      },
      {
        "duration": 28,
        "start_time": "2022-08-11T14:38:28.592Z"
      },
      {
        "duration": 27,
        "start_time": "2022-08-11T14:38:28.622Z"
      },
      {
        "duration": 25,
        "start_time": "2022-08-11T14:38:28.650Z"
      },
      {
        "duration": 60,
        "start_time": "2022-08-11T14:38:28.677Z"
      },
      {
        "duration": 5,
        "start_time": "2022-08-11T14:38:28.739Z"
      },
      {
        "duration": 20,
        "start_time": "2022-08-11T14:38:28.746Z"
      },
      {
        "duration": 4,
        "start_time": "2022-08-11T14:38:28.768Z"
      },
      {
        "duration": 46,
        "start_time": "2022-08-15T10:54:59.682Z"
      },
      {
        "duration": 410,
        "start_time": "2022-08-15T10:55:06.492Z"
      },
      {
        "duration": 238,
        "start_time": "2022-08-15T10:55:06.904Z"
      },
      {
        "duration": 125,
        "start_time": "2022-08-15T10:55:07.144Z"
      },
      {
        "duration": 10,
        "start_time": "2022-08-15T10:55:07.271Z"
      },
      {
        "duration": 42,
        "start_time": "2022-08-15T10:55:07.282Z"
      },
      {
        "duration": 4,
        "start_time": "2022-08-15T10:55:07.325Z"
      },
      {
        "duration": 17,
        "start_time": "2022-08-15T10:55:07.330Z"
      },
      {
        "duration": 7,
        "start_time": "2022-08-15T10:55:07.349Z"
      },
      {
        "duration": 25,
        "start_time": "2022-08-15T10:55:07.358Z"
      },
      {
        "duration": 99,
        "start_time": "2022-08-15T10:55:07.403Z"
      },
      {
        "duration": 24,
        "start_time": "2022-08-15T10:55:07.504Z"
      },
      {
        "duration": 80,
        "start_time": "2022-08-15T10:55:07.529Z"
      },
      {
        "duration": 69,
        "start_time": "2022-08-15T10:55:07.611Z"
      },
      {
        "duration": 79,
        "start_time": "2022-08-15T10:55:07.682Z"
      },
      {
        "duration": 7,
        "start_time": "2022-08-15T10:55:07.763Z"
      },
      {
        "duration": 14,
        "start_time": "2022-08-15T10:55:07.772Z"
      },
      {
        "duration": 27,
        "start_time": "2022-08-15T10:55:07.799Z"
      },
      {
        "duration": 15,
        "start_time": "2022-08-15T10:55:07.827Z"
      },
      {
        "duration": 61,
        "start_time": "2022-08-15T10:55:07.844Z"
      },
      {
        "duration": 33,
        "start_time": "2022-08-15T10:55:07.906Z"
      },
      {
        "duration": 4,
        "start_time": "2022-08-15T10:55:07.940Z"
      },
      {
        "duration": 36,
        "start_time": "2022-08-15T10:55:07.946Z"
      },
      {
        "duration": 19,
        "start_time": "2022-08-15T10:55:07.983Z"
      },
      {
        "duration": 37,
        "start_time": "2022-08-15T10:55:08.003Z"
      },
      {
        "duration": 33,
        "start_time": "2022-08-15T10:55:08.041Z"
      },
      {
        "duration": 26,
        "start_time": "2022-08-15T10:55:08.075Z"
      },
      {
        "duration": 12,
        "start_time": "2022-08-15T10:55:08.103Z"
      },
      {
        "duration": 26,
        "start_time": "2022-08-15T10:55:08.118Z"
      },
      {
        "duration": 50,
        "start_time": "2022-08-15T10:55:08.146Z"
      },
      {
        "duration": 25,
        "start_time": "2022-08-15T10:55:08.197Z"
      },
      {
        "duration": 7,
        "start_time": "2022-08-15T10:55:08.224Z"
      },
      {
        "duration": 44,
        "start_time": "2022-08-15T10:55:08.233Z"
      },
      {
        "duration": 26,
        "start_time": "2022-08-15T10:55:08.279Z"
      },
      {
        "duration": 35,
        "start_time": "2022-08-15T10:55:08.307Z"
      },
      {
        "duration": 29,
        "start_time": "2022-08-15T10:55:08.344Z"
      },
      {
        "duration": 46,
        "start_time": "2022-08-15T10:55:08.375Z"
      },
      {
        "duration": 4,
        "start_time": "2022-08-15T10:55:08.423Z"
      },
      {
        "duration": 34,
        "start_time": "2022-08-15T10:55:08.429Z"
      },
      {
        "duration": 17,
        "start_time": "2022-08-15T10:55:08.464Z"
      },
      {
        "duration": 25,
        "start_time": "2022-08-15T10:55:57.977Z"
      },
      {
        "duration": 4,
        "start_time": "2022-08-15T10:56:54.372Z"
      },
      {
        "duration": 5,
        "start_time": "2022-08-15T10:57:04.905Z"
      },
      {
        "duration": 27,
        "start_time": "2022-08-15T11:03:44.846Z"
      },
      {
        "duration": 27,
        "start_time": "2022-08-15T11:04:15.329Z"
      },
      {
        "duration": 28,
        "start_time": "2022-08-15T11:04:24.601Z"
      },
      {
        "duration": 30,
        "start_time": "2022-08-15T11:04:32.611Z"
      },
      {
        "duration": 3,
        "start_time": "2022-08-15T11:23:33.782Z"
      },
      {
        "duration": 13,
        "start_time": "2022-08-15T11:23:36.722Z"
      },
      {
        "duration": 15,
        "start_time": "2022-08-15T11:23:40.008Z"
      },
      {
        "duration": 3,
        "start_time": "2022-08-15T11:23:54.438Z"
      },
      {
        "duration": 38,
        "start_time": "2022-08-15T11:23:57.407Z"
      },
      {
        "duration": 3,
        "start_time": "2022-08-15T11:24:17.819Z"
      },
      {
        "duration": 35,
        "start_time": "2022-08-15T11:24:19.586Z"
      },
      {
        "duration": 4,
        "start_time": "2022-08-15T11:25:00.919Z"
      },
      {
        "duration": 24,
        "start_time": "2022-08-15T11:25:02.911Z"
      },
      {
        "duration": 4,
        "start_time": "2022-08-15T11:25:42.411Z"
      },
      {
        "duration": 25,
        "start_time": "2022-08-15T11:25:44.378Z"
      },
      {
        "duration": 4,
        "start_time": "2022-08-15T11:26:22.976Z"
      },
      {
        "duration": 19,
        "start_time": "2022-08-15T11:26:25.062Z"
      },
      {
        "duration": 4,
        "start_time": "2022-08-15T11:28:09.326Z"
      },
      {
        "duration": 19,
        "start_time": "2022-08-15T11:28:11.114Z"
      },
      {
        "duration": 4,
        "start_time": "2022-08-15T11:30:40.385Z"
      },
      {
        "duration": 35,
        "start_time": "2022-08-15T11:30:42.078Z"
      },
      {
        "duration": 29,
        "start_time": "2022-08-15T11:30:56.146Z"
      },
      {
        "duration": 4,
        "start_time": "2022-08-15T11:32:06.588Z"
      },
      {
        "duration": 13,
        "start_time": "2022-08-15T11:32:08.348Z"
      },
      {
        "duration": 12,
        "start_time": "2022-08-15T11:32:08.393Z"
      },
      {
        "duration": 14,
        "start_time": "2022-08-15T11:32:11.804Z"
      },
      {
        "duration": 3,
        "start_time": "2022-08-15T11:32:40.964Z"
      },
      {
        "duration": 15,
        "start_time": "2022-08-15T11:32:42.591Z"
      },
      {
        "duration": 13,
        "start_time": "2022-08-15T11:32:44.602Z"
      },
      {
        "duration": 3,
        "start_time": "2022-08-15T11:33:03.586Z"
      },
      {
        "duration": 15,
        "start_time": "2022-08-15T11:33:05.177Z"
      },
      {
        "duration": 32,
        "start_time": "2022-08-15T11:36:21.943Z"
      },
      {
        "duration": 5,
        "start_time": "2022-08-15T11:36:23.981Z"
      },
      {
        "duration": 39,
        "start_time": "2022-08-15T11:36:50.016Z"
      },
      {
        "duration": 5,
        "start_time": "2022-08-15T11:36:51.977Z"
      },
      {
        "duration": 42,
        "start_time": "2022-08-15T11:37:09.763Z"
      },
      {
        "duration": 5,
        "start_time": "2022-08-15T11:37:11.419Z"
      },
      {
        "duration": 21,
        "start_time": "2022-08-15T11:37:33.087Z"
      },
      {
        "duration": 5,
        "start_time": "2022-08-15T11:37:35.123Z"
      },
      {
        "duration": 4,
        "start_time": "2022-08-15T11:40:03.784Z"
      },
      {
        "duration": 9,
        "start_time": "2022-08-15T11:40:06.746Z"
      },
      {
        "duration": 45,
        "start_time": "2022-08-15T11:40:30.968Z"
      },
      {
        "duration": 13,
        "start_time": "2022-08-15T11:42:04.769Z"
      },
      {
        "duration": 36,
        "start_time": "2022-08-15T11:42:06.527Z"
      },
      {
        "duration": 55,
        "start_time": "2022-08-15T11:43:06.371Z"
      },
      {
        "duration": 9,
        "start_time": "2022-08-15T11:43:11.453Z"
      },
      {
        "duration": 71,
        "start_time": "2022-08-15T11:44:06.946Z"
      },
      {
        "duration": 60,
        "start_time": "2022-08-15T11:44:08.806Z"
      },
      {
        "duration": 10,
        "start_time": "2022-08-15T11:44:12.073Z"
      },
      {
        "duration": 5,
        "start_time": "2022-08-15T11:57:05.394Z"
      },
      {
        "duration": 31,
        "start_time": "2022-08-15T11:57:07.535Z"
      },
      {
        "duration": 24,
        "start_time": "2022-08-15T11:57:10.468Z"
      },
      {
        "duration": 26,
        "start_time": "2022-08-15T11:57:12.597Z"
      },
      {
        "duration": 23,
        "start_time": "2022-08-15T11:57:14.434Z"
      },
      {
        "duration": 5,
        "start_time": "2022-08-15T12:14:05.332Z"
      },
      {
        "duration": 31,
        "start_time": "2022-08-15T12:14:07.482Z"
      },
      {
        "duration": 32,
        "start_time": "2022-08-15T12:16:16.992Z"
      },
      {
        "duration": 4,
        "start_time": "2022-08-15T12:33:30.585Z"
      },
      {
        "duration": 34,
        "start_time": "2022-08-15T12:33:32.379Z"
      },
      {
        "duration": 33,
        "start_time": "2022-08-15T12:33:34.851Z"
      },
      {
        "duration": 10,
        "start_time": "2022-08-15T12:33:51.592Z"
      },
      {
        "duration": 4,
        "start_time": "2022-08-15T12:34:03.419Z"
      },
      {
        "duration": 35,
        "start_time": "2022-08-15T12:34:05.238Z"
      },
      {
        "duration": 3,
        "start_time": "2022-08-15T12:34:35.773Z"
      },
      {
        "duration": 22,
        "start_time": "2022-08-15T12:34:38.858Z"
      },
      {
        "duration": 8,
        "start_time": "2022-08-15T12:34:54.527Z"
      },
      {
        "duration": 10,
        "start_time": "2022-08-15T12:34:59.493Z"
      },
      {
        "duration": 3,
        "start_time": "2022-08-15T12:35:22.566Z"
      },
      {
        "duration": 23,
        "start_time": "2022-08-15T12:35:24.711Z"
      },
      {
        "duration": 8,
        "start_time": "2022-08-15T12:35:34.709Z"
      },
      {
        "duration": 4,
        "start_time": "2022-08-15T12:35:36.823Z"
      },
      {
        "duration": 23,
        "start_time": "2022-08-15T12:35:38.797Z"
      },
      {
        "duration": 22,
        "start_time": "2022-08-15T12:35:40.971Z"
      },
      {
        "duration": 4,
        "start_time": "2022-08-15T12:36:43.185Z"
      },
      {
        "duration": 24,
        "start_time": "2022-08-15T12:36:44.978Z"
      },
      {
        "duration": 3,
        "start_time": "2022-08-15T12:37:11.713Z"
      },
      {
        "duration": 26,
        "start_time": "2022-08-15T12:37:13.543Z"
      },
      {
        "duration": 3,
        "start_time": "2022-08-15T12:37:23.227Z"
      },
      {
        "duration": 4,
        "start_time": "2022-08-15T12:44:31.552Z"
      },
      {
        "duration": 26,
        "start_time": "2022-08-15T12:44:33.167Z"
      },
      {
        "duration": 6,
        "start_time": "2022-08-15T12:44:42.256Z"
      },
      {
        "duration": 22,
        "start_time": "2022-08-15T12:44:44.191Z"
      },
      {
        "duration": 26,
        "start_time": "2022-08-15T12:44:59.999Z"
      },
      {
        "duration": 4,
        "start_time": "2022-08-15T12:47:01.173Z"
      },
      {
        "duration": 20,
        "start_time": "2022-08-15T12:47:03.503Z"
      },
      {
        "duration": 4,
        "start_time": "2022-08-15T12:47:18.188Z"
      },
      {
        "duration": 16,
        "start_time": "2022-08-15T12:47:20.423Z"
      },
      {
        "duration": 16,
        "start_time": "2022-08-15T12:47:22.529Z"
      },
      {
        "duration": 896,
        "start_time": "2022-08-15T12:56:11.346Z"
      },
      {
        "duration": 84,
        "start_time": "2022-08-15T12:56:31.214Z"
      },
      {
        "duration": 10,
        "start_time": "2022-08-15T13:04:50.568Z"
      },
      {
        "duration": 1669,
        "start_time": "2022-08-15T13:05:54.971Z"
      },
      {
        "duration": 1984,
        "start_time": "2022-08-15T13:06:09.209Z"
      },
      {
        "duration": 76,
        "start_time": "2022-08-15T13:06:51.993Z"
      },
      {
        "duration": 8,
        "start_time": "2022-08-15T13:11:07.686Z"
      },
      {
        "duration": 6,
        "start_time": "2022-08-15T13:12:55.347Z"
      },
      {
        "duration": 15,
        "start_time": "2022-08-15T13:12:59.192Z"
      },
      {
        "duration": 3,
        "start_time": "2022-08-15T13:13:34.601Z"
      },
      {
        "duration": 4,
        "start_time": "2022-08-15T13:37:00.269Z"
      },
      {
        "duration": 23,
        "start_time": "2022-08-15T13:37:02.610Z"
      },
      {
        "duration": 3,
        "start_time": "2022-08-15T13:37:14.864Z"
      },
      {
        "duration": 22,
        "start_time": "2022-08-15T13:37:16.401Z"
      },
      {
        "duration": 8,
        "start_time": "2022-08-15T13:37:20.677Z"
      },
      {
        "duration": 21,
        "start_time": "2022-08-15T13:37:43.123Z"
      },
      {
        "duration": 17,
        "start_time": "2022-08-15T13:37:45.203Z"
      },
      {
        "duration": 17,
        "start_time": "2022-08-15T13:37:47.517Z"
      },
      {
        "duration": 17,
        "start_time": "2022-08-15T13:37:51.867Z"
      },
      {
        "duration": 8,
        "start_time": "2022-08-15T13:54:33.200Z"
      },
      {
        "duration": 937,
        "start_time": "2022-08-15T13:54:42.456Z"
      },
      {
        "duration": 789,
        "start_time": "2022-08-15T13:54:55.272Z"
      },
      {
        "duration": 14,
        "start_time": "2022-08-15T13:55:29.080Z"
      },
      {
        "duration": 25,
        "start_time": "2022-08-15T13:55:31.412Z"
      },
      {
        "duration": 45,
        "start_time": "2022-08-15T13:55:56.575Z"
      },
      {
        "duration": 44,
        "start_time": "2022-08-15T13:56:18.766Z"
      },
      {
        "duration": 33,
        "start_time": "2022-08-15T13:56:50.276Z"
      },
      {
        "duration": 30,
        "start_time": "2022-08-15T13:57:00.265Z"
      },
      {
        "duration": 29,
        "start_time": "2022-08-15T13:57:05.951Z"
      },
      {
        "duration": 5,
        "start_time": "2022-08-15T13:58:34.620Z"
      },
      {
        "duration": 32,
        "start_time": "2022-08-15T13:58:36.658Z"
      },
      {
        "duration": 22,
        "start_time": "2022-08-15T13:58:48.226Z"
      },
      {
        "duration": 4,
        "start_time": "2022-08-15T13:58:58.285Z"
      },
      {
        "duration": 26,
        "start_time": "2022-08-15T13:59:00.748Z"
      },
      {
        "duration": 3,
        "start_time": "2022-08-15T14:10:45.138Z"
      },
      {
        "duration": 22,
        "start_time": "2022-08-15T14:16:05.403Z"
      },
      {
        "duration": 32,
        "start_time": "2022-08-15T14:21:08.665Z"
      },
      {
        "duration": 12,
        "start_time": "2022-08-15T14:21:18.875Z"
      }
    ],
    "colab": {
      "collapsed_sections": [
        "VUC88oWjTJw2"
      ],
      "provenance": []
    },
    "kernelspec": {
      "display_name": "Python 3 (ipykernel)",
      "language": "python",
      "name": "python3"
    },
    "language_info": {
      "codemirror_mode": {
        "name": "ipython",
        "version": 3
      },
      "file_extension": ".py",
      "mimetype": "text/x-python",
      "name": "python",
      "nbconvert_exporter": "python",
      "pygments_lexer": "ipython3",
      "version": "3.9.5"
    },
    "toc": {
      "base_numbering": 1,
      "nav_menu": {},
      "number_sections": true,
      "sideBar": true,
      "skip_h1_title": true,
      "title_cell": "Table of Contents",
      "title_sidebar": "Contents",
      "toc_cell": false,
      "toc_position": {
        "height": "calc(100% - 180px)",
        "left": "10px",
        "top": "150px",
        "width": "255.4px"
      },
      "toc_section_display": true,
      "toc_window_display": false
    }
  },
  "nbformat": 4,
  "nbformat_minor": 0
}