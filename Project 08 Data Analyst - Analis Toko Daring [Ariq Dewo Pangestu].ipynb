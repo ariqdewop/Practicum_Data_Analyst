{
  "cells": [
    {
      "cell_type": "markdown",
      "metadata": {
        "id": "-A5NyTBg5W3i"
      },
      "source": [
        "# Daftar Isi\n",
        "\n",
        "- [Daftar Isi](#daftar_isi)\n",
        "- [Pendahuluan](#pendahuluan)\n",
        "- [Pengantar Proyek](#pengantar_proyek)\n",
        "- [Tujuan Proyek](#tujuan_proyek)\n",
        "- [Tahapan Proyek](#tahapan_proyek)\n",
        "- [Memuat seluruh Library dan Membaca filenya](#1)\n",
        "    - [Memuat seluruh Library](#11)\n",
        "    - [Memuat seluruh data untuk masing-masing tabel serta membaca, memperbaiki, dan menganalisanya](#12)\n",
        "        - [Tabel untuk hipotesis](#121)\n",
        "        - [Tabel untuk orders](#122)\n",
        "        - [Tabel untuk visits](#123)\n",
        "- [Pra-Pemrosesan Data](#2)\n",
        "    - [Memperbaiki untuk tabel hipotesis](#21)\n",
        "    - [Memperbaiki untuk tabel orders](#22)\n",
        "    - [Memperbaiki untuk tabel visits](#23)\n",
        "- [Memprioritaskan Hipotesis](#3)\n",
        "- [Analisis Data A/B Testing](#4)\n",
        "    - [Gambarkan pendapatan kumulatif berdasarkan kelompok, buatlah kesimpulan dan asumsinya](#41)\n",
        "    - [Gambarkan ukuran pesanan rata-rata kumulatif berdasarkan kelompok, buatlah kesimpulan dan asumsinya](#42)\n",
        "    - [Gambarkan perbedaan relatif untuk ukuran pesanan rata-rata kumulatif kelompok B yang dibandingkan dengan kelompok A, buatlah kesimpulan dan asumsinya](#43)\n",
        "    - [Hitung tingkat konversi setiap kelompok sebagai rasio pesanan terhadap jumlah kunjungan setiap hari. Buat grafik tingkat konversi harian dari kedua kelompok dan jelaskan perbedaannya dan buatlah kesimpulan dan asumsinya](#44)\n",
        "    - [Buatlah diagram tebar (scatter chart) untuk jumlah pesanan per pengguna dan buatlah kesimpulan dan asumsinya](#45)\n",
        "\t- [Hitung persentil ke-95 dan ke-99 untuk jumlah pesanan per pengguna. Tentukan titik ketika suatu titik data berubah menjadi anomali](#46)\n",
        "    - [Buatlah diagram tebar (scatter chart) untuk harga pesanan. Buatlah kesimpulan dan asumsinya](#47)\n",
        "    - [Hitung persentil ke-95 dan ke-99 untuk harga pesanan. Tentukan titik ketika suatu titik data berubah menjadi anomali](#48)\n",
        "    - [Temukan signifikansi statistik perbedaan konversi antar kelompok menggunakan data mentah. Buatlah kesimpulan dan asumsinya](#49)\n",
        "    - [Temukan signifikansi statistik perbedaan ukuran pesanan rata-rata antar kelompok menggunakan data mentah. Buatlah kesimpulan dan asumsinya](#410)\n",
        "    - [Temukan signifikansi statistik perbedaan konversi antar kelompok menggunakan data yang telah difilter. Buatlah kesimpulan dan asumsinya](#411)\n",
        "    - [Temukan signifikansi statistik perbedaan ukuran pesanan rata-rata antar kelompok menggunakan data yang telah difilter. Buatlah kesimpulan dan asumsinya\n",
        "](#412)\n",
        "- [Kesimpulan dan Keputusan](#5)\n",
        "    - [Kesimpulan](#51)\n",
        "    - [Keputusan](#52)"
      ]
    },
    {
      "cell_type": "markdown",
      "metadata": {
        "id": "zH_0Xhll5W3j"
      },
      "source": [
        "# Pendahuluan\n",
        "\n",
        "Setiap kali kita melakukan penelitian, kita memerlukan analisa secara menyeluruh dengan seksama. Untuk membuat keputusan yang tepat, sebuah bisnis harus dapat memahami apakah analisa yang dibuatnya benar atau tidak.\n",
        "\n",
        "Dalam proyek ini, diminta untuk menyusun, memprioritaskan, dan menganalisa hipotesis yang sudah disusun untuk membantu meningkat pendapatan."
      ]
    },
    {
      "cell_type": "markdown",
      "metadata": {
        "id": "vnzfTynJ5W3k"
      },
      "source": [
        "# Tujuan Proyek\n",
        "\n",
        "Proyek ini ditujukan untuk membantu meningkatkan pendapatan dengan menyusun, memprioritaskan, dan menganalisa hipotesis yang sudah diolah dan disusun sedemikian rupa dengan ketentuan dan aturan yang sudah ditetapkan. "
      ]
    },
    {
      "cell_type": "markdown",
      "metadata": {
        "id": "1pXiiN9A5W3k"
      },
      "source": [
        "# Tahapan Proyek\n",
        "\n",
        "Ada tiga file yang akan dianalisa, pertama yaitu `/datasets/hypotheses_us.csv` dengan format *Hypotheses — (deskripsi singkat tentang hipotesis)*, *Reach — (jangkauan pengguna, dalam skala satu hingga sepuluh)*, *Impact — (dampak terhadap pengguna, dalam skala satu hingga sepuluh)*, *Confidence — (keyakinan pada hipotesis, dalam skala satu sampai sepuluh)*, *Effort — (sumber daya yang diperlukan untuk menguji hipotesis, dalam skala satu sampai sepuluh. Semakin tinggi nilai Effort, semakin intensif sumber daya pengujiannya).*\n",
        "\n",
        "Kedua yaitu `/datasets/orders_us.csv` dengan format *transactionId — (ID pesanan)*, *visitorId — (ID pengguna yang membuat pesanan)*, *date — (tanggal dibuatnya pesanan)*, *revenue — (pendapatan dari pesanan)*, *group — (kelompok uji (test group) A/B tempat pengguna berada).*\n",
        "\n",
        "Ketiga yaitu `/datasets/visits_us.csv` dengan format *date — (tanggal)*, *group — (kelompok uji (test group) A/B)*, *visits — (jumlah kunjungan pada tanggal yang ditentukan untuk kelompok uji A/B yang ditentukan).*\n",
        "\n",
        "Lalu melakukan pra-pemrosesan data sebelum dianalisa, setelah itu dilihat untuk:\n",
        "- Meliaht pendapatan kumulatif berdasarkan kelompok\n",
        "- Melihat ukuran pesanan rata-rata kumulatif berdasarkan kelompok\n",
        "- Melihat perbedaan relatif untuk ukuran pesanan rata-rata kumulatif kelompok B yang dibandingkan dengan kelompok A\n",
        "- Melihat dan menghitung tingkat konversi setiap kelompok sebagai rasio pesanan terhadap jumlah kunjungan setiap hari\n",
        "- Melihat diagram tebar (scatter chart) untuk jumlah pesanan per pengguna\n",
        "- Menghitung persentil ke-95 dan ke-99 untuk jumlah pesanan per pengguna\n",
        "- Melihat diagram tebar (scatter chart) untuk harga pesanan\n",
        "- Menghitung persentil ke-95 dan ke-99 untuk harga pesanan\n",
        "- Menguji signifikansi statistik perbedaan konversi antar kelompok menggunakan data mentah\n",
        "- Menguji signifikansi statistik perbedaan ukuran pesanan rata-rata antar kelompok menggunakan data mentah\n",
        "- Menguji signifikansi statistik perbedaan konversi antar kelompok menggunakan data setelah dfilter\n",
        "- Menguji signifikansi statistik perbedaan ukuran pesanan rata-rata antar kelompok menggunakan data setelah dfilter\n",
        "- Membuat keputusan berdasarkan hasil pengujian"
      ]
    },
    {
      "cell_type": "markdown",
      "metadata": {
        "id": "H4NQmGhm5W3m"
      },
      "source": [
        "## Memuat seluruh Library dan Membaca filenya\n",
        "\n",
        "Simpan data kunjungan, pesanan, dan pengeluaran dalam variabel. Optimalkan data yang Anda miliki untuk keperluan analisis. Pastikan setiap kolomnya disajikan dalam tipe data yang benar."
      ]
    },
    {
      "cell_type": "markdown",
      "metadata": {
        "id": "iIl78RBN5W3m"
      },
      "source": [
        "### Memuat seluruh Library"
      ]
    },
    {
      "cell_type": "markdown",
      "metadata": {
        "id": "gFijuObW5W3n"
      },
      "source": [
        "Sebelum memulai analisa, diperlukan library yang hanya dibutuhkan untuk analisa kali ini."
      ]
    },
    {
      "cell_type": "code",
      "execution_count": null,
      "metadata": {
        "id": "pk3SLt8Z5W3n"
      },
      "outputs": [],
      "source": [
        "# Membuat semua Libary\n",
        "import pandas as pd, numpy as np\n",
        "# Memuat Data Visualisasi\n",
        "import matplotlib.pyplot as plt, seaborn as sns\n",
        "# Membuat Uji Statistik\n",
        "import scipy.stats as st\n",
        "# Menyembunyikan warning\n",
        "import warnings"
      ]
    },
    {
      "cell_type": "code",
      "execution_count": null,
      "metadata": {
        "id": "sG0GqMzO5W3o"
      },
      "outputs": [],
      "source": [
        "# Membuat set kolom untuk kolom bisa dibaca jika panjang\n",
        "pd.set_option('display.max_columns', 100)\n",
        "# Membuat warning untuk di abaikan dan disembunyikan\n",
        "warnings.filterwarnings('ignore')"
      ]
    },
    {
      "cell_type": "markdown",
      "metadata": {
        "id": "bEUQ0pmy5W3p"
      },
      "source": [
        "### Memuat seluruh data untuk masing-masing tabel serta membaca, memperbaiki, dan menganalisanya."
      ]
    },
    {
      "cell_type": "markdown",
      "metadata": {
        "id": "xmV_PyrX5W3p"
      },
      "source": [
        "#### Tabel untuk hipotesis"
      ]
    },
    {
      "cell_type": "markdown",
      "metadata": {
        "id": "lbiZoiAK5W3q"
      },
      "source": [
        "Untuk pertama, perlu untuk membaca, memperbaiki, dan menganalisa tabel hipotesis."
      ]
    },
    {
      "cell_type": "code",
      "execution_count": null,
      "metadata": {
        "id": "J74X2YOL5W3q"
      },
      "outputs": [],
      "source": [
        "# Memuat file tabel hipotesis\n",
        "df_hipotesis = pd.read_csv(r'/datasets/hypotheses_us.csv', delimiter=';')"
      ]
    },
    {
      "cell_type": "code",
      "execution_count": null,
      "metadata": {
        "id": "T7nxFS0k5W3q",
        "outputId": "7f32b849-3f20-4683-d4d9-773ed43c233f"
      },
      "outputs": [
        {
          "data": {
            "text/html": [
              "<div>\n",
              "<style scoped>\n",
              "    .dataframe tbody tr th:only-of-type {\n",
              "        vertical-align: middle;\n",
              "    }\n",
              "\n",
              "    .dataframe tbody tr th {\n",
              "        vertical-align: top;\n",
              "    }\n",
              "\n",
              "    .dataframe thead th {\n",
              "        text-align: right;\n",
              "    }\n",
              "</style>\n",
              "<table border=\"1\" class=\"dataframe\">\n",
              "  <thead>\n",
              "    <tr style=\"text-align: right;\">\n",
              "      <th></th>\n",
              "      <th>Hypothesis</th>\n",
              "      <th>Reach</th>\n",
              "      <th>Impact</th>\n",
              "      <th>Confidence</th>\n",
              "      <th>Effort</th>\n",
              "    </tr>\n",
              "  </thead>\n",
              "  <tbody>\n",
              "    <tr>\n",
              "      <th>0</th>\n",
              "      <td>Add two new channels for attracting traffic. T...</td>\n",
              "      <td>3</td>\n",
              "      <td>10</td>\n",
              "      <td>8</td>\n",
              "      <td>6</td>\n",
              "    </tr>\n",
              "    <tr>\n",
              "      <th>1</th>\n",
              "      <td>Launch your own delivery service. This will sh...</td>\n",
              "      <td>2</td>\n",
              "      <td>5</td>\n",
              "      <td>4</td>\n",
              "      <td>10</td>\n",
              "    </tr>\n",
              "    <tr>\n",
              "      <th>2</th>\n",
              "      <td>Add product recommendation blocks to the store...</td>\n",
              "      <td>8</td>\n",
              "      <td>3</td>\n",
              "      <td>7</td>\n",
              "      <td>3</td>\n",
              "    </tr>\n",
              "    <tr>\n",
              "      <th>3</th>\n",
              "      <td>Change the category structure. This will incre...</td>\n",
              "      <td>8</td>\n",
              "      <td>3</td>\n",
              "      <td>3</td>\n",
              "      <td>8</td>\n",
              "    </tr>\n",
              "    <tr>\n",
              "      <th>4</th>\n",
              "      <td>Change the background color on the main page. ...</td>\n",
              "      <td>3</td>\n",
              "      <td>1</td>\n",
              "      <td>1</td>\n",
              "      <td>1</td>\n",
              "    </tr>\n",
              "    <tr>\n",
              "      <th>5</th>\n",
              "      <td>Add a customer review page. This will increase...</td>\n",
              "      <td>3</td>\n",
              "      <td>2</td>\n",
              "      <td>2</td>\n",
              "      <td>3</td>\n",
              "    </tr>\n",
              "    <tr>\n",
              "      <th>6</th>\n",
              "      <td>Show banners with current offers and sales on ...</td>\n",
              "      <td>5</td>\n",
              "      <td>3</td>\n",
              "      <td>8</td>\n",
              "      <td>3</td>\n",
              "    </tr>\n",
              "    <tr>\n",
              "      <th>7</th>\n",
              "      <td>Add a subscription form to all the main pages....</td>\n",
              "      <td>10</td>\n",
              "      <td>7</td>\n",
              "      <td>8</td>\n",
              "      <td>5</td>\n",
              "    </tr>\n",
              "    <tr>\n",
              "      <th>8</th>\n",
              "      <td>Launch a promotion that gives users discounts ...</td>\n",
              "      <td>1</td>\n",
              "      <td>9</td>\n",
              "      <td>9</td>\n",
              "      <td>5</td>\n",
              "    </tr>\n",
              "  </tbody>\n",
              "</table>\n",
              "</div>"
            ],
            "text/plain": [
              "                                          Hypothesis  Reach  Impact  \\\n",
              "0  Add two new channels for attracting traffic. T...      3      10   \n",
              "1  Launch your own delivery service. This will sh...      2       5   \n",
              "2  Add product recommendation blocks to the store...      8       3   \n",
              "3  Change the category structure. This will incre...      8       3   \n",
              "4  Change the background color on the main page. ...      3       1   \n",
              "5  Add a customer review page. This will increase...      3       2   \n",
              "6  Show banners with current offers and sales on ...      5       3   \n",
              "7  Add a subscription form to all the main pages....     10       7   \n",
              "8  Launch a promotion that gives users discounts ...      1       9   \n",
              "\n",
              "   Confidence  Effort  \n",
              "0           8       6  \n",
              "1           4      10  \n",
              "2           7       3  \n",
              "3           3       8  \n",
              "4           1       1  \n",
              "5           2       3  \n",
              "6           8       3  \n",
              "7           8       5  \n",
              "8           9       5  "
            ]
          },
          "execution_count": 4,
          "metadata": {},
          "output_type": "execute_result"
        }
      ],
      "source": [
        "# Melihat tabel hipotesis\n",
        "df_hipotesis"
      ]
    },
    {
      "cell_type": "code",
      "execution_count": null,
      "metadata": {
        "id": "64PMjtrW5W3r",
        "outputId": "0ad6108c-f2b0-419b-fbfe-bd098f974201"
      },
      "outputs": [
        {
          "name": "stdout",
          "output_type": "stream",
          "text": [
            "<class 'pandas.core.frame.DataFrame'>\n",
            "RangeIndex: 9 entries, 0 to 8\n",
            "Data columns (total 5 columns):\n",
            " #   Column      Non-Null Count  Dtype \n",
            "---  ------      --------------  ----- \n",
            " 0   Hypothesis  9 non-null      object\n",
            " 1   Reach       9 non-null      int64 \n",
            " 2   Impact      9 non-null      int64 \n",
            " 3   Confidence  9 non-null      int64 \n",
            " 4   Effort      9 non-null      int64 \n",
            "dtypes: int64(4), object(1)\n",
            "memory usage: 488.0+ bytes\n"
          ]
        }
      ],
      "source": [
        "# Melihat informasi keseluruhan pada tabel hipotesis\n",
        "df_hipotesis.info()"
      ]
    },
    {
      "cell_type": "code",
      "execution_count": null,
      "metadata": {
        "id": "XVDGzDKZ5W3r",
        "outputId": "f46dc11e-3b19-4075-8e71-b1790fdf7d65"
      },
      "outputs": [
        {
          "data": {
            "text/plain": [
              "Hypothesis    0\n",
              "Reach         0\n",
              "Impact        0\n",
              "Confidence    0\n",
              "Effort        0\n",
              "dtype: int64"
            ]
          },
          "execution_count": 6,
          "metadata": {},
          "output_type": "execute_result"
        }
      ],
      "source": [
        "# Melihat nilai yang hilang pada tabel hipotesis\n",
        "df_hipotesis.isna().sum()"
      ]
    },
    {
      "cell_type": "code",
      "execution_count": null,
      "metadata": {
        "id": "rZgMW2dF5W3s",
        "outputId": "f563215c-0cec-46a1-b1aa-88b92bd493eb"
      },
      "outputs": [
        {
          "data": {
            "text/plain": [
              "(9, 5)"
            ]
          },
          "execution_count": 7,
          "metadata": {},
          "output_type": "execute_result"
        }
      ],
      "source": [
        "# Melihat jumlah baris dan kolom\n",
        "df_hipotesis.shape"
      ]
    },
    {
      "cell_type": "markdown",
      "metadata": {
        "id": "7zvtG1dq5W3s"
      },
      "source": [
        "Setelah melihat dan menganalisa tabel hipotesis, maka didapatkan beberapa kesimpulan untuk tabel ini, yaitu:\n",
        "\n",
        "- Tidak mempunyai masalah untuk nilai hilang pada datanya.\n",
        "- Tidak mempunyai masalah untuk tipe data pada kolomnya.\n",
        "- Mempunyai masalalah untuk nama kolomnya karena semua awalannya menggunakan kapital."
      ]
    },
    {
      "cell_type": "markdown",
      "metadata": {
        "id": "HeSwo0Ft5W3t"
      },
      "source": [
        "#### Tabel untuk orders"
      ]
    },
    {
      "cell_type": "markdown",
      "metadata": {
        "id": "NlB71L-J5W3t"
      },
      "source": [
        "Perlu untuk membaca, memperbaiki, dan menganalisa tabel orders."
      ]
    },
    {
      "cell_type": "code",
      "execution_count": null,
      "metadata": {
        "id": "AGgOYCWs5W3u"
      },
      "outputs": [],
      "source": [
        "# Memuat file tabel orders\n",
        "df_orders = pd.read_csv('/datasets/orders_us.csv')"
      ]
    },
    {
      "cell_type": "code",
      "execution_count": null,
      "metadata": {
        "id": "z8FzumO35W3u",
        "outputId": "a071d79c-fdac-4fdc-b2fb-7daa6847a542"
      },
      "outputs": [
        {
          "data": {
            "text/html": [
              "<div>\n",
              "<style scoped>\n",
              "    .dataframe tbody tr th:only-of-type {\n",
              "        vertical-align: middle;\n",
              "    }\n",
              "\n",
              "    .dataframe tbody tr th {\n",
              "        vertical-align: top;\n",
              "    }\n",
              "\n",
              "    .dataframe thead th {\n",
              "        text-align: right;\n",
              "    }\n",
              "</style>\n",
              "<table border=\"1\" class=\"dataframe\">\n",
              "  <thead>\n",
              "    <tr style=\"text-align: right;\">\n",
              "      <th></th>\n",
              "      <th>transactionId</th>\n",
              "      <th>visitorId</th>\n",
              "      <th>date</th>\n",
              "      <th>revenue</th>\n",
              "      <th>group</th>\n",
              "    </tr>\n",
              "  </thead>\n",
              "  <tbody>\n",
              "    <tr>\n",
              "      <th>0</th>\n",
              "      <td>3667963787</td>\n",
              "      <td>3312258926</td>\n",
              "      <td>2019-08-15</td>\n",
              "      <td>30.4</td>\n",
              "      <td>B</td>\n",
              "    </tr>\n",
              "    <tr>\n",
              "      <th>1</th>\n",
              "      <td>2804400009</td>\n",
              "      <td>3642806036</td>\n",
              "      <td>2019-08-15</td>\n",
              "      <td>15.2</td>\n",
              "      <td>B</td>\n",
              "    </tr>\n",
              "    <tr>\n",
              "      <th>2</th>\n",
              "      <td>2961555356</td>\n",
              "      <td>4069496402</td>\n",
              "      <td>2019-08-15</td>\n",
              "      <td>10.2</td>\n",
              "      <td>A</td>\n",
              "    </tr>\n",
              "    <tr>\n",
              "      <th>3</th>\n",
              "      <td>3797467345</td>\n",
              "      <td>1196621759</td>\n",
              "      <td>2019-08-15</td>\n",
              "      <td>155.1</td>\n",
              "      <td>B</td>\n",
              "    </tr>\n",
              "    <tr>\n",
              "      <th>4</th>\n",
              "      <td>2282983706</td>\n",
              "      <td>2322279887</td>\n",
              "      <td>2019-08-15</td>\n",
              "      <td>40.5</td>\n",
              "      <td>B</td>\n",
              "    </tr>\n",
              "  </tbody>\n",
              "</table>\n",
              "</div>"
            ],
            "text/plain": [
              "   transactionId   visitorId        date  revenue group\n",
              "0     3667963787  3312258926  2019-08-15     30.4     B\n",
              "1     2804400009  3642806036  2019-08-15     15.2     B\n",
              "2     2961555356  4069496402  2019-08-15     10.2     A\n",
              "3     3797467345  1196621759  2019-08-15    155.1     B\n",
              "4     2282983706  2322279887  2019-08-15     40.5     B"
            ]
          },
          "execution_count": 9,
          "metadata": {},
          "output_type": "execute_result"
        }
      ],
      "source": [
        "# Melihat tabel ordersnya\n",
        "df_orders.head()"
      ]
    },
    {
      "cell_type": "code",
      "execution_count": null,
      "metadata": {
        "id": "-ne7_z055W3u",
        "outputId": "50d098a9-6c43-47ae-f92a-eeae096a731b"
      },
      "outputs": [
        {
          "name": "stdout",
          "output_type": "stream",
          "text": [
            "<class 'pandas.core.frame.DataFrame'>\n",
            "RangeIndex: 1197 entries, 0 to 1196\n",
            "Data columns (total 5 columns):\n",
            " #   Column         Non-Null Count  Dtype  \n",
            "---  ------         --------------  -----  \n",
            " 0   transactionId  1197 non-null   int64  \n",
            " 1   visitorId      1197 non-null   int64  \n",
            " 2   date           1197 non-null   object \n",
            " 3   revenue        1197 non-null   float64\n",
            " 4   group          1197 non-null   object \n",
            "dtypes: float64(1), int64(2), object(2)\n",
            "memory usage: 46.9+ KB\n"
          ]
        }
      ],
      "source": [
        "# Melihat informasi keseluruhan untuk tabel orders \n",
        "df_orders.info()"
      ]
    },
    {
      "cell_type": "code",
      "execution_count": null,
      "metadata": {
        "id": "MC0Qbaai5W3v",
        "outputId": "ee9f5f63-a106-4a5e-cad5-b5404f19619e"
      },
      "outputs": [
        {
          "data": {
            "text/plain": [
              "transactionId    0\n",
              "visitorId        0\n",
              "date             0\n",
              "revenue          0\n",
              "group            0\n",
              "dtype: int64"
            ]
          },
          "execution_count": 11,
          "metadata": {},
          "output_type": "execute_result"
        }
      ],
      "source": [
        "# Melihat nilai yang hilang untuk tabel orders\n",
        "df_orders.isna().sum()"
      ]
    },
    {
      "cell_type": "code",
      "execution_count": null,
      "metadata": {
        "id": "NsLukW-35W3v",
        "outputId": "90c6daa8-4744-4a99-a6bc-73e389f24942"
      },
      "outputs": [
        {
          "data": {
            "text/plain": [
              "(1197, 5)"
            ]
          },
          "execution_count": 12,
          "metadata": {},
          "output_type": "execute_result"
        }
      ],
      "source": [
        "# Melihat jumlah baris dan kolom untuk tabel orders\n",
        "df_orders.shape"
      ]
    },
    {
      "cell_type": "markdown",
      "metadata": {
        "id": "BadBOV2k5W3v"
      },
      "source": [
        "Setelah melihat dan menganalisa tabel orders, maka didapatkan beberapa kesimpulan untuk tabel ini, yaitu:\n",
        "\n",
        "- Tidak mempunyai masalah untuk nilai hilang pada datanya.\n",
        "- Mempunyai masalah untuk tipe data pada kolom date.\n",
        "- Mempunyai masalah untuk nama kolom (hanya beberapa)."
      ]
    },
    {
      "cell_type": "markdown",
      "metadata": {
        "id": "OyNWN1s-5W3w"
      },
      "source": [
        "#### Tabel untuk visits"
      ]
    },
    {
      "cell_type": "markdown",
      "metadata": {
        "id": "K6rb4OJR5W3w"
      },
      "source": [
        "Perlu untuk membaca, memperbaiki, dan menganalisa tabel visits."
      ]
    },
    {
      "cell_type": "code",
      "execution_count": null,
      "metadata": {
        "id": "unXgYF-T5W3x"
      },
      "outputs": [],
      "source": [
        "# Memuat file tabel visits\n",
        "df_visits = pd.read_csv('/datasets/visits_us.csv')"
      ]
    },
    {
      "cell_type": "code",
      "execution_count": null,
      "metadata": {
        "id": "VJYHP_fc5W3x",
        "outputId": "f6471f81-0847-4661-d26f-509618c2bcfd"
      },
      "outputs": [
        {
          "data": {
            "text/html": [
              "<div>\n",
              "<style scoped>\n",
              "    .dataframe tbody tr th:only-of-type {\n",
              "        vertical-align: middle;\n",
              "    }\n",
              "\n",
              "    .dataframe tbody tr th {\n",
              "        vertical-align: top;\n",
              "    }\n",
              "\n",
              "    .dataframe thead th {\n",
              "        text-align: right;\n",
              "    }\n",
              "</style>\n",
              "<table border=\"1\" class=\"dataframe\">\n",
              "  <thead>\n",
              "    <tr style=\"text-align: right;\">\n",
              "      <th></th>\n",
              "      <th>date</th>\n",
              "      <th>group</th>\n",
              "      <th>visits</th>\n",
              "    </tr>\n",
              "  </thead>\n",
              "  <tbody>\n",
              "    <tr>\n",
              "      <th>0</th>\n",
              "      <td>2019-08-01</td>\n",
              "      <td>A</td>\n",
              "      <td>719</td>\n",
              "    </tr>\n",
              "    <tr>\n",
              "      <th>1</th>\n",
              "      <td>2019-08-02</td>\n",
              "      <td>A</td>\n",
              "      <td>619</td>\n",
              "    </tr>\n",
              "    <tr>\n",
              "      <th>2</th>\n",
              "      <td>2019-08-03</td>\n",
              "      <td>A</td>\n",
              "      <td>507</td>\n",
              "    </tr>\n",
              "    <tr>\n",
              "      <th>3</th>\n",
              "      <td>2019-08-04</td>\n",
              "      <td>A</td>\n",
              "      <td>717</td>\n",
              "    </tr>\n",
              "    <tr>\n",
              "      <th>4</th>\n",
              "      <td>2019-08-05</td>\n",
              "      <td>A</td>\n",
              "      <td>756</td>\n",
              "    </tr>\n",
              "  </tbody>\n",
              "</table>\n",
              "</div>"
            ],
            "text/plain": [
              "         date group  visits\n",
              "0  2019-08-01     A     719\n",
              "1  2019-08-02     A     619\n",
              "2  2019-08-03     A     507\n",
              "3  2019-08-04     A     717\n",
              "4  2019-08-05     A     756"
            ]
          },
          "execution_count": 14,
          "metadata": {},
          "output_type": "execute_result"
        }
      ],
      "source": [
        "# Melihat tabel visitsnya\n",
        "df_visits.head()"
      ]
    },
    {
      "cell_type": "code",
      "execution_count": null,
      "metadata": {
        "id": "pPcwzyEv5W3x",
        "outputId": "43d4dd3e-d5b4-4287-e715-a2f4a7d6f518"
      },
      "outputs": [
        {
          "name": "stdout",
          "output_type": "stream",
          "text": [
            "<class 'pandas.core.frame.DataFrame'>\n",
            "RangeIndex: 62 entries, 0 to 61\n",
            "Data columns (total 3 columns):\n",
            " #   Column  Non-Null Count  Dtype \n",
            "---  ------  --------------  ----- \n",
            " 0   date    62 non-null     object\n",
            " 1   group   62 non-null     object\n",
            " 2   visits  62 non-null     int64 \n",
            "dtypes: int64(1), object(2)\n",
            "memory usage: 1.6+ KB\n"
          ]
        }
      ],
      "source": [
        "# Melihat informasi keseluruhan untuk tabel visits\n",
        "df_visits.info()"
      ]
    },
    {
      "cell_type": "code",
      "execution_count": null,
      "metadata": {
        "id": "bPDOQIMj5W3y",
        "outputId": "ba623a32-16c8-472f-a090-354ee0193f42"
      },
      "outputs": [
        {
          "data": {
            "text/plain": [
              "date      0\n",
              "group     0\n",
              "visits    0\n",
              "dtype: int64"
            ]
          },
          "execution_count": 16,
          "metadata": {},
          "output_type": "execute_result"
        }
      ],
      "source": [
        "# Melihat nilai yang hilang untuk tabel orders\n",
        "df_visits.isna().sum()"
      ]
    },
    {
      "cell_type": "code",
      "execution_count": null,
      "metadata": {
        "id": "NKi4KWbj5W3y",
        "outputId": "a7c3a9f1-cf9f-4122-ce18-89ce5df5fc3e"
      },
      "outputs": [
        {
          "data": {
            "text/plain": [
              "(62, 3)"
            ]
          },
          "execution_count": 17,
          "metadata": {},
          "output_type": "execute_result"
        }
      ],
      "source": [
        "# Melihat jumlah baris dan kolom untuk tabel orders\n",
        "df_visits.shape"
      ]
    },
    {
      "cell_type": "markdown",
      "metadata": {
        "id": "7Og5Hddf5W3y"
      },
      "source": [
        "Setelah melihat dan menganalisa tabel visits, maka didapatkan beberapa kesimpulan untuk tabel ini, yaitu:\n",
        "\n",
        "- Tidak mempunyai masalah untuk nilai hilang pada datanya.\n",
        "- Mempunyai masalah untuk tipe data pada kolom date."
      ]
    },
    {
      "cell_type": "markdown",
      "metadata": {
        "id": "kxpGVStz5W3z"
      },
      "source": [
        "## Pra-Pemrosesan Data"
      ]
    },
    {
      "cell_type": "markdown",
      "metadata": {
        "id": "YpMjl7DV5W3z"
      },
      "source": [
        "Karena ada beberapa masalah terkait tipe data dan nama kolom, maka perlu perbaikan terlebih dahulu sebelum melakukan proses selanjutnya. Fungsinya agar tidak terjadi kekacauan saat melakukan proses analisa."
      ]
    },
    {
      "cell_type": "markdown",
      "metadata": {
        "id": "E3uzBuRM5W3z"
      },
      "source": [
        "### Memperbaiki untuk tabel hipotesis"
      ]
    },
    {
      "cell_type": "code",
      "execution_count": null,
      "metadata": {
        "id": "BPTZahaZ5W30"
      },
      "outputs": [],
      "source": [
        "# Memperbaiki nama kolom\n",
        "df_hipotesis.columns = df_hipotesis.columns.str.lower()"
      ]
    },
    {
      "cell_type": "code",
      "execution_count": null,
      "metadata": {
        "id": "KdbRKH8M5W30",
        "outputId": "ec6690bb-b09a-4770-a510-d6b9aeec9829"
      },
      "outputs": [
        {
          "data": {
            "text/html": [
              "<div>\n",
              "<style scoped>\n",
              "    .dataframe tbody tr th:only-of-type {\n",
              "        vertical-align: middle;\n",
              "    }\n",
              "\n",
              "    .dataframe tbody tr th {\n",
              "        vertical-align: top;\n",
              "    }\n",
              "\n",
              "    .dataframe thead th {\n",
              "        text-align: right;\n",
              "    }\n",
              "</style>\n",
              "<table border=\"1\" class=\"dataframe\">\n",
              "  <thead>\n",
              "    <tr style=\"text-align: right;\">\n",
              "      <th></th>\n",
              "      <th>hypothesis</th>\n",
              "      <th>reach</th>\n",
              "      <th>impact</th>\n",
              "      <th>confidence</th>\n",
              "      <th>effort</th>\n",
              "    </tr>\n",
              "  </thead>\n",
              "  <tbody>\n",
              "    <tr>\n",
              "      <th>0</th>\n",
              "      <td>Add two new channels for attracting traffic. T...</td>\n",
              "      <td>3</td>\n",
              "      <td>10</td>\n",
              "      <td>8</td>\n",
              "      <td>6</td>\n",
              "    </tr>\n",
              "    <tr>\n",
              "      <th>1</th>\n",
              "      <td>Launch your own delivery service. This will sh...</td>\n",
              "      <td>2</td>\n",
              "      <td>5</td>\n",
              "      <td>4</td>\n",
              "      <td>10</td>\n",
              "    </tr>\n",
              "    <tr>\n",
              "      <th>2</th>\n",
              "      <td>Add product recommendation blocks to the store...</td>\n",
              "      <td>8</td>\n",
              "      <td>3</td>\n",
              "      <td>7</td>\n",
              "      <td>3</td>\n",
              "    </tr>\n",
              "    <tr>\n",
              "      <th>3</th>\n",
              "      <td>Change the category structure. This will incre...</td>\n",
              "      <td>8</td>\n",
              "      <td>3</td>\n",
              "      <td>3</td>\n",
              "      <td>8</td>\n",
              "    </tr>\n",
              "    <tr>\n",
              "      <th>4</th>\n",
              "      <td>Change the background color on the main page. ...</td>\n",
              "      <td>3</td>\n",
              "      <td>1</td>\n",
              "      <td>1</td>\n",
              "      <td>1</td>\n",
              "    </tr>\n",
              "  </tbody>\n",
              "</table>\n",
              "</div>"
            ],
            "text/plain": [
              "                                          hypothesis  reach  impact  \\\n",
              "0  Add two new channels for attracting traffic. T...      3      10   \n",
              "1  Launch your own delivery service. This will sh...      2       5   \n",
              "2  Add product recommendation blocks to the store...      8       3   \n",
              "3  Change the category structure. This will incre...      8       3   \n",
              "4  Change the background color on the main page. ...      3       1   \n",
              "\n",
              "   confidence  effort  \n",
              "0           8       6  \n",
              "1           4      10  \n",
              "2           7       3  \n",
              "3           3       8  \n",
              "4           1       1  "
            ]
          },
          "execution_count": 19,
          "metadata": {},
          "output_type": "execute_result"
        }
      ],
      "source": [
        "# melihat kembali setelah diperbaiki\n",
        "df_hipotesis.head()"
      ]
    },
    {
      "cell_type": "markdown",
      "metadata": {
        "id": "e3MFctJd5W30"
      },
      "source": [
        "### Memperbaiki untuk tabel orders"
      ]
    },
    {
      "cell_type": "code",
      "execution_count": null,
      "metadata": {
        "id": "PA7UubX25W31"
      },
      "outputs": [],
      "source": [
        "# Merubah tipe data untuk kolom date\n",
        "df_orders['date'] = pd.to_datetime(df_orders['date'])"
      ]
    },
    {
      "cell_type": "code",
      "execution_count": null,
      "metadata": {
        "id": "h2g4Bn1l5W31",
        "outputId": "11671deb-0f04-416f-abdf-5ad8c0bfd250"
      },
      "outputs": [
        {
          "name": "stdout",
          "output_type": "stream",
          "text": [
            "<class 'pandas.core.frame.DataFrame'>\n",
            "RangeIndex: 1197 entries, 0 to 1196\n",
            "Data columns (total 5 columns):\n",
            " #   Column         Non-Null Count  Dtype         \n",
            "---  ------         --------------  -----         \n",
            " 0   transactionId  1197 non-null   int64         \n",
            " 1   visitorId      1197 non-null   int64         \n",
            " 2   date           1197 non-null   datetime64[ns]\n",
            " 3   revenue        1197 non-null   float64       \n",
            " 4   group          1197 non-null   object        \n",
            "dtypes: datetime64[ns](1), float64(1), int64(2), object(1)\n",
            "memory usage: 46.9+ KB\n"
          ]
        }
      ],
      "source": [
        "# Melihat hasulnya kembali dengan informasi keseluruhan untuk tabel orders \n",
        "df_orders.info()"
      ]
    },
    {
      "cell_type": "code",
      "execution_count": null,
      "metadata": {
        "id": "X0qOV26j5W31"
      },
      "outputs": [],
      "source": [
        "# Memperbaiki nama kolom untuk tabel orders\n",
        "df_orders = df_orders.rename(columns={\n",
        "    'transactionId' : 'transaction_id',\n",
        "    'visitorId' : 'visitor_id'\n",
        "})"
      ]
    },
    {
      "cell_type": "code",
      "execution_count": null,
      "metadata": {
        "id": "miJf0LpT5W32",
        "outputId": "4bf25539-b70c-4654-bb6f-8eeb7d6a6e2c"
      },
      "outputs": [
        {
          "data": {
            "text/html": [
              "<div>\n",
              "<style scoped>\n",
              "    .dataframe tbody tr th:only-of-type {\n",
              "        vertical-align: middle;\n",
              "    }\n",
              "\n",
              "    .dataframe tbody tr th {\n",
              "        vertical-align: top;\n",
              "    }\n",
              "\n",
              "    .dataframe thead th {\n",
              "        text-align: right;\n",
              "    }\n",
              "</style>\n",
              "<table border=\"1\" class=\"dataframe\">\n",
              "  <thead>\n",
              "    <tr style=\"text-align: right;\">\n",
              "      <th></th>\n",
              "      <th>transaction_id</th>\n",
              "      <th>visitor_id</th>\n",
              "      <th>date</th>\n",
              "      <th>revenue</th>\n",
              "      <th>group</th>\n",
              "    </tr>\n",
              "  </thead>\n",
              "  <tbody>\n",
              "    <tr>\n",
              "      <th>0</th>\n",
              "      <td>3667963787</td>\n",
              "      <td>3312258926</td>\n",
              "      <td>2019-08-15</td>\n",
              "      <td>30.4</td>\n",
              "      <td>B</td>\n",
              "    </tr>\n",
              "    <tr>\n",
              "      <th>1</th>\n",
              "      <td>2804400009</td>\n",
              "      <td>3642806036</td>\n",
              "      <td>2019-08-15</td>\n",
              "      <td>15.2</td>\n",
              "      <td>B</td>\n",
              "    </tr>\n",
              "    <tr>\n",
              "      <th>2</th>\n",
              "      <td>2961555356</td>\n",
              "      <td>4069496402</td>\n",
              "      <td>2019-08-15</td>\n",
              "      <td>10.2</td>\n",
              "      <td>A</td>\n",
              "    </tr>\n",
              "    <tr>\n",
              "      <th>3</th>\n",
              "      <td>3797467345</td>\n",
              "      <td>1196621759</td>\n",
              "      <td>2019-08-15</td>\n",
              "      <td>155.1</td>\n",
              "      <td>B</td>\n",
              "    </tr>\n",
              "    <tr>\n",
              "      <th>4</th>\n",
              "      <td>2282983706</td>\n",
              "      <td>2322279887</td>\n",
              "      <td>2019-08-15</td>\n",
              "      <td>40.5</td>\n",
              "      <td>B</td>\n",
              "    </tr>\n",
              "  </tbody>\n",
              "</table>\n",
              "</div>"
            ],
            "text/plain": [
              "   transaction_id  visitor_id       date  revenue group\n",
              "0      3667963787  3312258926 2019-08-15     30.4     B\n",
              "1      2804400009  3642806036 2019-08-15     15.2     B\n",
              "2      2961555356  4069496402 2019-08-15     10.2     A\n",
              "3      3797467345  1196621759 2019-08-15    155.1     B\n",
              "4      2282983706  2322279887 2019-08-15     40.5     B"
            ]
          },
          "execution_count": 23,
          "metadata": {},
          "output_type": "execute_result"
        }
      ],
      "source": [
        "# Melihat kembali setelah nama kolom diperbaiki\n",
        "df_orders.head()"
      ]
    },
    {
      "cell_type": "markdown",
      "metadata": {
        "id": "SpLvdWLc5W32"
      },
      "source": [
        "### Memperbaiki untuk tabel visits"
      ]
    },
    {
      "cell_type": "code",
      "execution_count": null,
      "metadata": {
        "id": "-bMp_86O5W32"
      },
      "outputs": [],
      "source": [
        "# Merubah tipe data untuk kolom date\n",
        "df_visits['date'] = pd.to_datetime(df_visits['date'])"
      ]
    },
    {
      "cell_type": "code",
      "execution_count": null,
      "metadata": {
        "scrolled": true,
        "id": "Cpvi54Im5W33",
        "outputId": "53b0b5d5-ae17-4a96-e640-5f8290e332ee"
      },
      "outputs": [
        {
          "name": "stdout",
          "output_type": "stream",
          "text": [
            "<class 'pandas.core.frame.DataFrame'>\n",
            "RangeIndex: 62 entries, 0 to 61\n",
            "Data columns (total 3 columns):\n",
            " #   Column  Non-Null Count  Dtype         \n",
            "---  ------  --------------  -----         \n",
            " 0   date    62 non-null     datetime64[ns]\n",
            " 1   group   62 non-null     object        \n",
            " 2   visits  62 non-null     int64         \n",
            "dtypes: datetime64[ns](1), int64(1), object(1)\n",
            "memory usage: 1.6+ KB\n"
          ]
        }
      ],
      "source": [
        "# Melihat hasulnya kembali dengan informasi keseluruhan untuk tabel visits\n",
        "df_visits.info()"
      ]
    },
    {
      "cell_type": "markdown",
      "metadata": {
        "id": "zlwUBIry5W33"
      },
      "source": [
        "Setelah semua masalah sudah di perbaiki dan sudah sesuai, semua tabel sudah siap untuk dilakukan proses selanjutnya."
      ]
    },
    {
      "cell_type": "markdown",
      "metadata": {
        "id": "UIB067Mf5W34"
      },
      "source": [
        "## Memprioritaskan Hipotesis"
      ]
    },
    {
      "cell_type": "markdown",
      "metadata": {
        "id": "MYmosOyY5W34"
      },
      "source": [
        "Sebelum memasuki analisa data, perlu untuk mempersiapkan pada tabel-tabel tersebut."
      ]
    },
    {
      "cell_type": "code",
      "execution_count": null,
      "metadata": {
        "id": "IL9Xx1fU5W34",
        "outputId": "b8f7b343-1122-4d8f-a5bd-b47ee6b47865"
      },
      "outputs": [
        {
          "data": {
            "text/html": [
              "<div>\n",
              "<style scoped>\n",
              "    .dataframe tbody tr th:only-of-type {\n",
              "        vertical-align: middle;\n",
              "    }\n",
              "\n",
              "    .dataframe tbody tr th {\n",
              "        vertical-align: top;\n",
              "    }\n",
              "\n",
              "    .dataframe thead th {\n",
              "        text-align: right;\n",
              "    }\n",
              "</style>\n",
              "<table border=\"1\" class=\"dataframe\">\n",
              "  <thead>\n",
              "    <tr style=\"text-align: right;\">\n",
              "      <th></th>\n",
              "      <th>hypothesis</th>\n",
              "      <th>reach</th>\n",
              "      <th>impact</th>\n",
              "      <th>confidence</th>\n",
              "      <th>effort</th>\n",
              "    </tr>\n",
              "  </thead>\n",
              "  <tbody>\n",
              "    <tr>\n",
              "      <th>0</th>\n",
              "      <td>Add two new channels for attracting traffic. T...</td>\n",
              "      <td>3</td>\n",
              "      <td>10</td>\n",
              "      <td>8</td>\n",
              "      <td>6</td>\n",
              "    </tr>\n",
              "    <tr>\n",
              "      <th>1</th>\n",
              "      <td>Launch your own delivery service. This will sh...</td>\n",
              "      <td>2</td>\n",
              "      <td>5</td>\n",
              "      <td>4</td>\n",
              "      <td>10</td>\n",
              "    </tr>\n",
              "    <tr>\n",
              "      <th>2</th>\n",
              "      <td>Add product recommendation blocks to the store...</td>\n",
              "      <td>8</td>\n",
              "      <td>3</td>\n",
              "      <td>7</td>\n",
              "      <td>3</td>\n",
              "    </tr>\n",
              "    <tr>\n",
              "      <th>3</th>\n",
              "      <td>Change the category structure. This will incre...</td>\n",
              "      <td>8</td>\n",
              "      <td>3</td>\n",
              "      <td>3</td>\n",
              "      <td>8</td>\n",
              "    </tr>\n",
              "    <tr>\n",
              "      <th>4</th>\n",
              "      <td>Change the background color on the main page. ...</td>\n",
              "      <td>3</td>\n",
              "      <td>1</td>\n",
              "      <td>1</td>\n",
              "      <td>1</td>\n",
              "    </tr>\n",
              "  </tbody>\n",
              "</table>\n",
              "</div>"
            ],
            "text/plain": [
              "                                          hypothesis  reach  impact  \\\n",
              "0  Add two new channels for attracting traffic. T...      3      10   \n",
              "1  Launch your own delivery service. This will sh...      2       5   \n",
              "2  Add product recommendation blocks to the store...      8       3   \n",
              "3  Change the category structure. This will incre...      8       3   \n",
              "4  Change the background color on the main page. ...      3       1   \n",
              "\n",
              "   confidence  effort  \n",
              "0           8       6  \n",
              "1           4      10  \n",
              "2           7       3  \n",
              "3           3       8  \n",
              "4           1       1  "
            ]
          },
          "execution_count": 26,
          "metadata": {},
          "output_type": "execute_result"
        }
      ],
      "source": [
        "# Melihat data\n",
        "df_hipotesis.head()"
      ]
    },
    {
      "cell_type": "code",
      "execution_count": null,
      "metadata": {
        "id": "GC35dZ6x5W34"
      },
      "outputs": [],
      "source": [
        "# Membuat kolom ICE dan RICE untuk tabel hipotesis\n",
        "df_hipotesis['ICE'] = df_hipotesis['impact'] * df_hipotesis['confidence'] / df_hipotesis['effort']\n",
        "df_hipotesis['RICE'] = (df_hipotesis['reach'] * df_hipotesis['impact'] \n",
        "                        * df_hipotesis['confidence']) / df_hipotesis['effort']"
      ]
    },
    {
      "cell_type": "code",
      "execution_count": null,
      "metadata": {
        "id": "wL5Im3AY5W35",
        "outputId": "291729dc-4b97-49d9-bd25-456277b974e8"
      },
      "outputs": [
        {
          "data": {
            "text/html": [
              "<div>\n",
              "<style scoped>\n",
              "    .dataframe tbody tr th:only-of-type {\n",
              "        vertical-align: middle;\n",
              "    }\n",
              "\n",
              "    .dataframe tbody tr th {\n",
              "        vertical-align: top;\n",
              "    }\n",
              "\n",
              "    .dataframe thead th {\n",
              "        text-align: right;\n",
              "    }\n",
              "</style>\n",
              "<table border=\"1\" class=\"dataframe\">\n",
              "  <thead>\n",
              "    <tr style=\"text-align: right;\">\n",
              "      <th></th>\n",
              "      <th>hypothesis</th>\n",
              "      <th>reach</th>\n",
              "      <th>impact</th>\n",
              "      <th>confidence</th>\n",
              "      <th>effort</th>\n",
              "      <th>ICE</th>\n",
              "      <th>RICE</th>\n",
              "    </tr>\n",
              "  </thead>\n",
              "  <tbody>\n",
              "    <tr>\n",
              "      <th>0</th>\n",
              "      <td>Add two new channels for attracting traffic. T...</td>\n",
              "      <td>3</td>\n",
              "      <td>10</td>\n",
              "      <td>8</td>\n",
              "      <td>6</td>\n",
              "      <td>13.333333</td>\n",
              "      <td>40.0</td>\n",
              "    </tr>\n",
              "    <tr>\n",
              "      <th>1</th>\n",
              "      <td>Launch your own delivery service. This will sh...</td>\n",
              "      <td>2</td>\n",
              "      <td>5</td>\n",
              "      <td>4</td>\n",
              "      <td>10</td>\n",
              "      <td>2.000000</td>\n",
              "      <td>4.0</td>\n",
              "    </tr>\n",
              "    <tr>\n",
              "      <th>2</th>\n",
              "      <td>Add product recommendation blocks to the store...</td>\n",
              "      <td>8</td>\n",
              "      <td>3</td>\n",
              "      <td>7</td>\n",
              "      <td>3</td>\n",
              "      <td>7.000000</td>\n",
              "      <td>56.0</td>\n",
              "    </tr>\n",
              "    <tr>\n",
              "      <th>3</th>\n",
              "      <td>Change the category structure. This will incre...</td>\n",
              "      <td>8</td>\n",
              "      <td>3</td>\n",
              "      <td>3</td>\n",
              "      <td>8</td>\n",
              "      <td>1.125000</td>\n",
              "      <td>9.0</td>\n",
              "    </tr>\n",
              "    <tr>\n",
              "      <th>4</th>\n",
              "      <td>Change the background color on the main page. ...</td>\n",
              "      <td>3</td>\n",
              "      <td>1</td>\n",
              "      <td>1</td>\n",
              "      <td>1</td>\n",
              "      <td>1.000000</td>\n",
              "      <td>3.0</td>\n",
              "    </tr>\n",
              "  </tbody>\n",
              "</table>\n",
              "</div>"
            ],
            "text/plain": [
              "                                          hypothesis  reach  impact  \\\n",
              "0  Add two new channels for attracting traffic. T...      3      10   \n",
              "1  Launch your own delivery service. This will sh...      2       5   \n",
              "2  Add product recommendation blocks to the store...      8       3   \n",
              "3  Change the category structure. This will incre...      8       3   \n",
              "4  Change the background color on the main page. ...      3       1   \n",
              "\n",
              "   confidence  effort        ICE  RICE  \n",
              "0           8       6  13.333333  40.0  \n",
              "1           4      10   2.000000   4.0  \n",
              "2           7       3   7.000000  56.0  \n",
              "3           3       8   1.125000   9.0  \n",
              "4           1       1   1.000000   3.0  "
            ]
          },
          "execution_count": 28,
          "metadata": {},
          "output_type": "execute_result"
        }
      ],
      "source": [
        "# Melihat hasilnya\n",
        "df_hipotesis.head()"
      ]
    },
    {
      "cell_type": "code",
      "execution_count": null,
      "metadata": {
        "id": "OM6w1L8x5W35",
        "outputId": "85c6b8be-c6a4-4eaa-c3b8-63ad0d8ca038"
      },
      "outputs": [
        {
          "data": {
            "text/html": [
              "<div>\n",
              "<style scoped>\n",
              "    .dataframe tbody tr th:only-of-type {\n",
              "        vertical-align: middle;\n",
              "    }\n",
              "\n",
              "    .dataframe tbody tr th {\n",
              "        vertical-align: top;\n",
              "    }\n",
              "\n",
              "    .dataframe thead th {\n",
              "        text-align: right;\n",
              "    }\n",
              "</style>\n",
              "<table border=\"1\" class=\"dataframe\">\n",
              "  <thead>\n",
              "    <tr style=\"text-align: right;\">\n",
              "      <th></th>\n",
              "      <th>hypothesis</th>\n",
              "      <th>reach</th>\n",
              "      <th>impact</th>\n",
              "      <th>confidence</th>\n",
              "      <th>effort</th>\n",
              "      <th>ICE</th>\n",
              "      <th>RICE</th>\n",
              "    </tr>\n",
              "  </thead>\n",
              "  <tbody>\n",
              "    <tr>\n",
              "      <th>8</th>\n",
              "      <td>Launch a promotion that gives users discounts ...</td>\n",
              "      <td>1</td>\n",
              "      <td>9</td>\n",
              "      <td>9</td>\n",
              "      <td>5</td>\n",
              "      <td>16.200000</td>\n",
              "      <td>16.2</td>\n",
              "    </tr>\n",
              "    <tr>\n",
              "      <th>0</th>\n",
              "      <td>Add two new channels for attracting traffic. T...</td>\n",
              "      <td>3</td>\n",
              "      <td>10</td>\n",
              "      <td>8</td>\n",
              "      <td>6</td>\n",
              "      <td>13.333333</td>\n",
              "      <td>40.0</td>\n",
              "    </tr>\n",
              "    <tr>\n",
              "      <th>7</th>\n",
              "      <td>Add a subscription form to all the main pages....</td>\n",
              "      <td>10</td>\n",
              "      <td>7</td>\n",
              "      <td>8</td>\n",
              "      <td>5</td>\n",
              "      <td>11.200000</td>\n",
              "      <td>112.0</td>\n",
              "    </tr>\n",
              "    <tr>\n",
              "      <th>6</th>\n",
              "      <td>Show banners with current offers and sales on ...</td>\n",
              "      <td>5</td>\n",
              "      <td>3</td>\n",
              "      <td>8</td>\n",
              "      <td>3</td>\n",
              "      <td>8.000000</td>\n",
              "      <td>40.0</td>\n",
              "    </tr>\n",
              "    <tr>\n",
              "      <th>2</th>\n",
              "      <td>Add product recommendation blocks to the store...</td>\n",
              "      <td>8</td>\n",
              "      <td>3</td>\n",
              "      <td>7</td>\n",
              "      <td>3</td>\n",
              "      <td>7.000000</td>\n",
              "      <td>56.0</td>\n",
              "    </tr>\n",
              "    <tr>\n",
              "      <th>1</th>\n",
              "      <td>Launch your own delivery service. This will sh...</td>\n",
              "      <td>2</td>\n",
              "      <td>5</td>\n",
              "      <td>4</td>\n",
              "      <td>10</td>\n",
              "      <td>2.000000</td>\n",
              "      <td>4.0</td>\n",
              "    </tr>\n",
              "    <tr>\n",
              "      <th>5</th>\n",
              "      <td>Add a customer review page. This will increase...</td>\n",
              "      <td>3</td>\n",
              "      <td>2</td>\n",
              "      <td>2</td>\n",
              "      <td>3</td>\n",
              "      <td>1.333333</td>\n",
              "      <td>4.0</td>\n",
              "    </tr>\n",
              "    <tr>\n",
              "      <th>3</th>\n",
              "      <td>Change the category structure. This will incre...</td>\n",
              "      <td>8</td>\n",
              "      <td>3</td>\n",
              "      <td>3</td>\n",
              "      <td>8</td>\n",
              "      <td>1.125000</td>\n",
              "      <td>9.0</td>\n",
              "    </tr>\n",
              "    <tr>\n",
              "      <th>4</th>\n",
              "      <td>Change the background color on the main page. ...</td>\n",
              "      <td>3</td>\n",
              "      <td>1</td>\n",
              "      <td>1</td>\n",
              "      <td>1</td>\n",
              "      <td>1.000000</td>\n",
              "      <td>3.0</td>\n",
              "    </tr>\n",
              "  </tbody>\n",
              "</table>\n",
              "</div>"
            ],
            "text/plain": [
              "                                          hypothesis  reach  impact  \\\n",
              "8  Launch a promotion that gives users discounts ...      1       9   \n",
              "0  Add two new channels for attracting traffic. T...      3      10   \n",
              "7  Add a subscription form to all the main pages....     10       7   \n",
              "6  Show banners with current offers and sales on ...      5       3   \n",
              "2  Add product recommendation blocks to the store...      8       3   \n",
              "1  Launch your own delivery service. This will sh...      2       5   \n",
              "5  Add a customer review page. This will increase...      3       2   \n",
              "3  Change the category structure. This will incre...      8       3   \n",
              "4  Change the background color on the main page. ...      3       1   \n",
              "\n",
              "   confidence  effort        ICE   RICE  \n",
              "8           9       5  16.200000   16.2  \n",
              "0           8       6  13.333333   40.0  \n",
              "7           8       5  11.200000  112.0  \n",
              "6           8       3   8.000000   40.0  \n",
              "2           7       3   7.000000   56.0  \n",
              "1           4      10   2.000000    4.0  \n",
              "5           2       3   1.333333    4.0  \n",
              "3           3       8   1.125000    9.0  \n",
              "4           1       1   1.000000    3.0  "
            ]
          },
          "execution_count": 29,
          "metadata": {},
          "output_type": "execute_result"
        }
      ],
      "source": [
        "# Melihat urutan hipotesis terbaik berdasarkan ICE\n",
        "df_hipotesis.sort_values(by='ICE', ascending=False)"
      ]
    },
    {
      "cell_type": "code",
      "execution_count": null,
      "metadata": {
        "id": "xZJ9kY_R5W36",
        "outputId": "255c8f12-1378-4ab0-91da-42b9cd0fc83e"
      },
      "outputs": [
        {
          "data": {
            "text/html": [
              "<div>\n",
              "<style scoped>\n",
              "    .dataframe tbody tr th:only-of-type {\n",
              "        vertical-align: middle;\n",
              "    }\n",
              "\n",
              "    .dataframe tbody tr th {\n",
              "        vertical-align: top;\n",
              "    }\n",
              "\n",
              "    .dataframe thead th {\n",
              "        text-align: right;\n",
              "    }\n",
              "</style>\n",
              "<table border=\"1\" class=\"dataframe\">\n",
              "  <thead>\n",
              "    <tr style=\"text-align: right;\">\n",
              "      <th></th>\n",
              "      <th>hypothesis</th>\n",
              "      <th>reach</th>\n",
              "      <th>impact</th>\n",
              "      <th>confidence</th>\n",
              "      <th>effort</th>\n",
              "      <th>ICE</th>\n",
              "      <th>RICE</th>\n",
              "    </tr>\n",
              "  </thead>\n",
              "  <tbody>\n",
              "    <tr>\n",
              "      <th>7</th>\n",
              "      <td>Add a subscription form to all the main pages....</td>\n",
              "      <td>10</td>\n",
              "      <td>7</td>\n",
              "      <td>8</td>\n",
              "      <td>5</td>\n",
              "      <td>11.200000</td>\n",
              "      <td>112.0</td>\n",
              "    </tr>\n",
              "    <tr>\n",
              "      <th>2</th>\n",
              "      <td>Add product recommendation blocks to the store...</td>\n",
              "      <td>8</td>\n",
              "      <td>3</td>\n",
              "      <td>7</td>\n",
              "      <td>3</td>\n",
              "      <td>7.000000</td>\n",
              "      <td>56.0</td>\n",
              "    </tr>\n",
              "    <tr>\n",
              "      <th>0</th>\n",
              "      <td>Add two new channels for attracting traffic. T...</td>\n",
              "      <td>3</td>\n",
              "      <td>10</td>\n",
              "      <td>8</td>\n",
              "      <td>6</td>\n",
              "      <td>13.333333</td>\n",
              "      <td>40.0</td>\n",
              "    </tr>\n",
              "    <tr>\n",
              "      <th>6</th>\n",
              "      <td>Show banners with current offers and sales on ...</td>\n",
              "      <td>5</td>\n",
              "      <td>3</td>\n",
              "      <td>8</td>\n",
              "      <td>3</td>\n",
              "      <td>8.000000</td>\n",
              "      <td>40.0</td>\n",
              "    </tr>\n",
              "    <tr>\n",
              "      <th>8</th>\n",
              "      <td>Launch a promotion that gives users discounts ...</td>\n",
              "      <td>1</td>\n",
              "      <td>9</td>\n",
              "      <td>9</td>\n",
              "      <td>5</td>\n",
              "      <td>16.200000</td>\n",
              "      <td>16.2</td>\n",
              "    </tr>\n",
              "    <tr>\n",
              "      <th>3</th>\n",
              "      <td>Change the category structure. This will incre...</td>\n",
              "      <td>8</td>\n",
              "      <td>3</td>\n",
              "      <td>3</td>\n",
              "      <td>8</td>\n",
              "      <td>1.125000</td>\n",
              "      <td>9.0</td>\n",
              "    </tr>\n",
              "    <tr>\n",
              "      <th>1</th>\n",
              "      <td>Launch your own delivery service. This will sh...</td>\n",
              "      <td>2</td>\n",
              "      <td>5</td>\n",
              "      <td>4</td>\n",
              "      <td>10</td>\n",
              "      <td>2.000000</td>\n",
              "      <td>4.0</td>\n",
              "    </tr>\n",
              "    <tr>\n",
              "      <th>5</th>\n",
              "      <td>Add a customer review page. This will increase...</td>\n",
              "      <td>3</td>\n",
              "      <td>2</td>\n",
              "      <td>2</td>\n",
              "      <td>3</td>\n",
              "      <td>1.333333</td>\n",
              "      <td>4.0</td>\n",
              "    </tr>\n",
              "    <tr>\n",
              "      <th>4</th>\n",
              "      <td>Change the background color on the main page. ...</td>\n",
              "      <td>3</td>\n",
              "      <td>1</td>\n",
              "      <td>1</td>\n",
              "      <td>1</td>\n",
              "      <td>1.000000</td>\n",
              "      <td>3.0</td>\n",
              "    </tr>\n",
              "  </tbody>\n",
              "</table>\n",
              "</div>"
            ],
            "text/plain": [
              "                                          hypothesis  reach  impact  \\\n",
              "7  Add a subscription form to all the main pages....     10       7   \n",
              "2  Add product recommendation blocks to the store...      8       3   \n",
              "0  Add two new channels for attracting traffic. T...      3      10   \n",
              "6  Show banners with current offers and sales on ...      5       3   \n",
              "8  Launch a promotion that gives users discounts ...      1       9   \n",
              "3  Change the category structure. This will incre...      8       3   \n",
              "1  Launch your own delivery service. This will sh...      2       5   \n",
              "5  Add a customer review page. This will increase...      3       2   \n",
              "4  Change the background color on the main page. ...      3       1   \n",
              "\n",
              "   confidence  effort        ICE   RICE  \n",
              "7           8       5  11.200000  112.0  \n",
              "2           7       3   7.000000   56.0  \n",
              "0           8       6  13.333333   40.0  \n",
              "6           8       3   8.000000   40.0  \n",
              "8           9       5  16.200000   16.2  \n",
              "3           3       8   1.125000    9.0  \n",
              "1           4      10   2.000000    4.0  \n",
              "5           2       3   1.333333    4.0  \n",
              "4           1       1   1.000000    3.0  "
            ]
          },
          "execution_count": 30,
          "metadata": {},
          "output_type": "execute_result"
        }
      ],
      "source": [
        "# Melihat urutan hipotesis terbaik berdasarkan RICE\n",
        "df_hipotesis.sort_values(by='RICE', ascending=False)"
      ]
    },
    {
      "cell_type": "code",
      "execution_count": null,
      "metadata": {
        "id": "L8waD3rM5W36",
        "outputId": "531dd540-7a32-4f74-8a30-7c2e68925026"
      },
      "outputs": [
        {
          "data": {
            "image/png": "[encoded data removed]",
            "text/plain": [
              "<Figure size 576x432 with 1 Axes>"
            ]
          },
          "metadata": {
            "needs_background": "light"
          },
          "output_type": "display_data"
        }
      ],
      "source": [
        "# Membuat Diagram Plot untuk membandingkan Skor ICE dan RICE\n",
        "ax = df_hipotesis[['hypothesis','ICE','RICE']].plot(kind='bar',stacked=False, figsize=(8,6), width=0.7)\n",
        "\n",
        "for p in ax.patches:\n",
        "    ax.annotate(str(p.get_height().round()), (p.get_x() * 1.005, p.get_height() * 1.005), rotation=45)\n",
        "    \n",
        "plt.title('Perbandingan skor ICE vs RICE ')\n",
        "plt.xlabel('Hipotesis')\n",
        "plt.ylabel('Nilai Skor')\n",
        "plt.show()"
      ]
    },
    {
      "cell_type": "code",
      "execution_count": null,
      "metadata": {
        "id": "o3W2-9BN5W36",
        "outputId": "2968559c-9f43-4ab6-ab9d-432fb3ba765e"
      },
      "outputs": [
        {
          "data": {
            "image/png": "[encoded data removed]",
            "text/plain": [
              "<Figure size 720x576 with 1 Axes>"
            ]
          },
          "metadata": {
            "needs_background": "light"
          },
          "output_type": "display_data"
        }
      ],
      "source": [
        "# Melihat prioritas ICE dan RICE dengan scatter plot\n",
        "\n",
        "x = df_hipotesis['ICE'].values\n",
        "y = df_hipotesis['RICE'].values\n",
        "types = df_hipotesis.index.values\n",
        "\n",
        "fig, ax = plt.subplots(figsize=(10,8))\n",
        "ax.scatter(x, y)\n",
        "\n",
        "ax.set_xlabel('ICE', fontsize=14)\n",
        "ax.set_ylabel('RICE', fontsize=14)\n",
        "ax.set_title('ICE vs RICE', fontsize=14)\n",
        "\n",
        "for i, txt in enumerate(types):\n",
        "    ax.annotate(txt, (x[i], y[i]), xytext=(10,10), textcoords='offset points')\n",
        "    plt.scatter(x, y, marker='x', color='black')"
      ]
    },
    {
      "cell_type": "markdown",
      "metadata": {
        "id": "ZvBOvHbD5W37"
      },
      "source": [
        "Kesimpulan:\n",
        "\n",
        "Bahwa untuk ICE ada 3 prioritas secara berurutan yaitu hipotesis 8, 0, dan 7 karena mempunyai nilai ICE teratas diantara hipotesis lainnya. ICE tidak menggunakan `Reach(Jangkauan)` yang artinya metode ini lebih cocok untuk tidak memberikan jangkauan yang luas tetapi lebih gimana dampak dan keyakinan tinggi dengan usaha yang rendah.\n",
        "\n",
        "Sementara untuk RICE ada 4 prioritas secara berurutan yaitu 7, 2, 0, dan 6 karena merupakan nilai RICE teratas diantara hipotesis lainnya. Terjadi perubahan prioritas untuk ICE ke RICE karena dalam analisis adanya `Reach(jangkauan)` ini juga terlibat. Karena `Reach(jangkauan)` akan dapat memberikan dampak untuk target yang lebih luas agar dapat menggunakan produk ini. Selain jangkauan yang harus mempunyai skala yang tinggi, dampak dan keyakinan juga harus tinggi dan usaha sebisa mungkin mempunyai skala yang rendah agar hasil dari RICE akan menjadi tinggi."
      ]
    },
    {
      "cell_type": "markdown",
      "metadata": {
        "id": "h9MyOqAa5W38"
      },
      "source": [
        "## Analisis Data A/B Testing"
      ]
    },
    {
      "cell_type": "markdown",
      "metadata": {
        "id": "X9P_8zIg5W38"
      },
      "source": [
        "Sebelum memulai analisa A/B Testing pada tabel yang sudah disediakan, perlu untuk melakukan persiapan terkait data-data agar lebih mudah untuk langkah analisanya."
      ]
    },
    {
      "cell_type": "code",
      "execution_count": null,
      "metadata": {
        "id": "mEuK2tKF5W38",
        "outputId": "3acfc772-8b9a-47e7-81b6-57dad910652b"
      },
      "outputs": [
        {
          "data": {
            "text/html": [
              "<div>\n",
              "<style scoped>\n",
              "    .dataframe tbody tr th:only-of-type {\n",
              "        vertical-align: middle;\n",
              "    }\n",
              "\n",
              "    .dataframe tbody tr th {\n",
              "        vertical-align: top;\n",
              "    }\n",
              "\n",
              "    .dataframe thead th {\n",
              "        text-align: right;\n",
              "    }\n",
              "</style>\n",
              "<table border=\"1\" class=\"dataframe\">\n",
              "  <thead>\n",
              "    <tr style=\"text-align: right;\">\n",
              "      <th></th>\n",
              "      <th>transaction_id</th>\n",
              "      <th>visitor_id</th>\n",
              "      <th>date</th>\n",
              "      <th>revenue</th>\n",
              "      <th>group</th>\n",
              "    </tr>\n",
              "  </thead>\n",
              "  <tbody>\n",
              "    <tr>\n",
              "      <th>0</th>\n",
              "      <td>3667963787</td>\n",
              "      <td>3312258926</td>\n",
              "      <td>2019-08-15</td>\n",
              "      <td>30.4</td>\n",
              "      <td>B</td>\n",
              "    </tr>\n",
              "    <tr>\n",
              "      <th>1</th>\n",
              "      <td>2804400009</td>\n",
              "      <td>3642806036</td>\n",
              "      <td>2019-08-15</td>\n",
              "      <td>15.2</td>\n",
              "      <td>B</td>\n",
              "    </tr>\n",
              "    <tr>\n",
              "      <th>2</th>\n",
              "      <td>2961555356</td>\n",
              "      <td>4069496402</td>\n",
              "      <td>2019-08-15</td>\n",
              "      <td>10.2</td>\n",
              "      <td>A</td>\n",
              "    </tr>\n",
              "    <tr>\n",
              "      <th>3</th>\n",
              "      <td>3797467345</td>\n",
              "      <td>1196621759</td>\n",
              "      <td>2019-08-15</td>\n",
              "      <td>155.1</td>\n",
              "      <td>B</td>\n",
              "    </tr>\n",
              "    <tr>\n",
              "      <th>4</th>\n",
              "      <td>2282983706</td>\n",
              "      <td>2322279887</td>\n",
              "      <td>2019-08-15</td>\n",
              "      <td>40.5</td>\n",
              "      <td>B</td>\n",
              "    </tr>\n",
              "  </tbody>\n",
              "</table>\n",
              "</div>"
            ],
            "text/plain": [
              "   transaction_id  visitor_id       date  revenue group\n",
              "0      3667963787  3312258926 2019-08-15     30.4     B\n",
              "1      2804400009  3642806036 2019-08-15     15.2     B\n",
              "2      2961555356  4069496402 2019-08-15     10.2     A\n",
              "3      3797467345  1196621759 2019-08-15    155.1     B\n",
              "4      2282983706  2322279887 2019-08-15     40.5     B"
            ]
          },
          "execution_count": 33,
          "metadata": {},
          "output_type": "execute_result"
        }
      ],
      "source": [
        "# Melihat data\n",
        "df_orders.head()"
      ]
    },
    {
      "cell_type": "code",
      "execution_count": null,
      "metadata": {
        "id": "lgplMvxT5W38"
      },
      "outputs": [],
      "source": [
        "# Mengagregasi data revenue, transaction_id, dan visitor_id berdasarkan kelompok date & group\n",
        "orders_agg = df_orders.groupby(['date', 'group']).agg({\n",
        "    'revenue' : 'sum',\n",
        "    'transaction_id' : 'nunique',\n",
        "    'visitor_id' : 'nunique'\n",
        "}).reset_index()"
      ]
    },
    {
      "cell_type": "code",
      "execution_count": null,
      "metadata": {
        "id": "XMq_4FxJ5W39"
      },
      "outputs": [],
      "source": [
        "# Membuat variabel baru dengan menggabungkan data data orders_agg & df_visits\n",
        "merge_visits_orders = pd.merge(orders_agg, df_visits)"
      ]
    },
    {
      "cell_type": "code",
      "execution_count": null,
      "metadata": {
        "id": "ngEkq-qV5W39",
        "outputId": "e5e6ef41-725f-45bb-de7e-e54bf30ab25e"
      },
      "outputs": [
        {
          "data": {
            "text/html": [
              "<div>\n",
              "<style scoped>\n",
              "    .dataframe tbody tr th:only-of-type {\n",
              "        vertical-align: middle;\n",
              "    }\n",
              "\n",
              "    .dataframe tbody tr th {\n",
              "        vertical-align: top;\n",
              "    }\n",
              "\n",
              "    .dataframe thead th {\n",
              "        text-align: right;\n",
              "    }\n",
              "</style>\n",
              "<table border=\"1\" class=\"dataframe\">\n",
              "  <thead>\n",
              "    <tr style=\"text-align: right;\">\n",
              "      <th></th>\n",
              "      <th>date</th>\n",
              "      <th>group</th>\n",
              "      <th>revenue</th>\n",
              "      <th>transaction_id</th>\n",
              "      <th>visitor_id</th>\n",
              "      <th>visits</th>\n",
              "    </tr>\n",
              "  </thead>\n",
              "  <tbody>\n",
              "    <tr>\n",
              "      <th>0</th>\n",
              "      <td>2019-08-01</td>\n",
              "      <td>A</td>\n",
              "      <td>2356.8</td>\n",
              "      <td>24</td>\n",
              "      <td>20</td>\n",
              "      <td>719</td>\n",
              "    </tr>\n",
              "    <tr>\n",
              "      <th>1</th>\n",
              "      <td>2019-08-01</td>\n",
              "      <td>B</td>\n",
              "      <td>1620.0</td>\n",
              "      <td>21</td>\n",
              "      <td>20</td>\n",
              "      <td>713</td>\n",
              "    </tr>\n",
              "    <tr>\n",
              "      <th>2</th>\n",
              "      <td>2019-08-02</td>\n",
              "      <td>A</td>\n",
              "      <td>1503.5</td>\n",
              "      <td>20</td>\n",
              "      <td>19</td>\n",
              "      <td>619</td>\n",
              "    </tr>\n",
              "    <tr>\n",
              "      <th>3</th>\n",
              "      <td>2019-08-02</td>\n",
              "      <td>B</td>\n",
              "      <td>2623.8</td>\n",
              "      <td>24</td>\n",
              "      <td>23</td>\n",
              "      <td>581</td>\n",
              "    </tr>\n",
              "    <tr>\n",
              "      <th>4</th>\n",
              "      <td>2019-08-03</td>\n",
              "      <td>A</td>\n",
              "      <td>1815.2</td>\n",
              "      <td>24</td>\n",
              "      <td>24</td>\n",
              "      <td>507</td>\n",
              "    </tr>\n",
              "    <tr>\n",
              "      <th>...</th>\n",
              "      <td>...</td>\n",
              "      <td>...</td>\n",
              "      <td>...</td>\n",
              "      <td>...</td>\n",
              "      <td>...</td>\n",
              "      <td>...</td>\n",
              "    </tr>\n",
              "    <tr>\n",
              "      <th>57</th>\n",
              "      <td>2019-08-29</td>\n",
              "      <td>B</td>\n",
              "      <td>3623.7</td>\n",
              "      <td>20</td>\n",
              "      <td>20</td>\n",
              "      <td>531</td>\n",
              "    </tr>\n",
              "    <tr>\n",
              "      <th>58</th>\n",
              "      <td>2019-08-30</td>\n",
              "      <td>A</td>\n",
              "      <td>1364.3</td>\n",
              "      <td>11</td>\n",
              "      <td>10</td>\n",
              "      <td>490</td>\n",
              "    </tr>\n",
              "    <tr>\n",
              "      <th>59</th>\n",
              "      <td>2019-08-30</td>\n",
              "      <td>B</td>\n",
              "      <td>3393.3</td>\n",
              "      <td>24</td>\n",
              "      <td>24</td>\n",
              "      <td>490</td>\n",
              "    </tr>\n",
              "    <tr>\n",
              "      <th>60</th>\n",
              "      <td>2019-08-31</td>\n",
              "      <td>A</td>\n",
              "      <td>991.4</td>\n",
              "      <td>12</td>\n",
              "      <td>12</td>\n",
              "      <td>699</td>\n",
              "    </tr>\n",
              "    <tr>\n",
              "      <th>61</th>\n",
              "      <td>2019-08-31</td>\n",
              "      <td>B</td>\n",
              "      <td>2104.3</td>\n",
              "      <td>20</td>\n",
              "      <td>20</td>\n",
              "      <td>718</td>\n",
              "    </tr>\n",
              "  </tbody>\n",
              "</table>\n",
              "<p>62 rows × 6 columns</p>\n",
              "</div>"
            ],
            "text/plain": [
              "         date group  revenue  transaction_id  visitor_id  visits\n",
              "0  2019-08-01     A   2356.8              24          20     719\n",
              "1  2019-08-01     B   1620.0              21          20     713\n",
              "2  2019-08-02     A   1503.5              20          19     619\n",
              "3  2019-08-02     B   2623.8              24          23     581\n",
              "4  2019-08-03     A   1815.2              24          24     507\n",
              "..        ...   ...      ...             ...         ...     ...\n",
              "57 2019-08-29     B   3623.7              20          20     531\n",
              "58 2019-08-30     A   1364.3              11          10     490\n",
              "59 2019-08-30     B   3393.3              24          24     490\n",
              "60 2019-08-31     A    991.4              12          12     699\n",
              "61 2019-08-31     B   2104.3              20          20     718\n",
              "\n",
              "[62 rows x 6 columns]"
            ]
          },
          "execution_count": 36,
          "metadata": {},
          "output_type": "execute_result"
        }
      ],
      "source": [
        "# Melihat hasilnya\n",
        "merge_visits_orders"
      ]
    },
    {
      "cell_type": "code",
      "execution_count": null,
      "metadata": {
        "id": "zEj0KOyq5W39"
      },
      "outputs": [],
      "source": [
        "# Membagi kelompok A & B dari data gabungan tersebut\n",
        "df_merge_group_a = merge_visits_orders[merge_visits_orders['group'] == 'A']\n",
        "df_merge_group_b = merge_visits_orders[merge_visits_orders['group'] == 'B']"
      ]
    },
    {
      "cell_type": "code",
      "execution_count": null,
      "metadata": {
        "id": "efBFTawR5W3-",
        "outputId": "e76c57a0-2ec6-4a4f-b5e2-cbc64696ecf4"
      },
      "outputs": [
        {
          "data": {
            "text/html": [
              "<div>\n",
              "<style scoped>\n",
              "    .dataframe tbody tr th:only-of-type {\n",
              "        vertical-align: middle;\n",
              "    }\n",
              "\n",
              "    .dataframe tbody tr th {\n",
              "        vertical-align: top;\n",
              "    }\n",
              "\n",
              "    .dataframe thead th {\n",
              "        text-align: right;\n",
              "    }\n",
              "</style>\n",
              "<table border=\"1\" class=\"dataframe\">\n",
              "  <thead>\n",
              "    <tr style=\"text-align: right;\">\n",
              "      <th></th>\n",
              "      <th>date</th>\n",
              "      <th>group</th>\n",
              "      <th>revenue</th>\n",
              "      <th>transaction_id</th>\n",
              "      <th>visitor_id</th>\n",
              "      <th>visits</th>\n",
              "    </tr>\n",
              "  </thead>\n",
              "  <tbody>\n",
              "    <tr>\n",
              "      <th>0</th>\n",
              "      <td>2019-08-01</td>\n",
              "      <td>A</td>\n",
              "      <td>2356.8</td>\n",
              "      <td>24</td>\n",
              "      <td>20</td>\n",
              "      <td>719</td>\n",
              "    </tr>\n",
              "    <tr>\n",
              "      <th>2</th>\n",
              "      <td>2019-08-02</td>\n",
              "      <td>A</td>\n",
              "      <td>1503.5</td>\n",
              "      <td>20</td>\n",
              "      <td>19</td>\n",
              "      <td>619</td>\n",
              "    </tr>\n",
              "    <tr>\n",
              "      <th>4</th>\n",
              "      <td>2019-08-03</td>\n",
              "      <td>A</td>\n",
              "      <td>1815.2</td>\n",
              "      <td>24</td>\n",
              "      <td>24</td>\n",
              "      <td>507</td>\n",
              "    </tr>\n",
              "    <tr>\n",
              "      <th>6</th>\n",
              "      <td>2019-08-04</td>\n",
              "      <td>A</td>\n",
              "      <td>1146.6</td>\n",
              "      <td>16</td>\n",
              "      <td>15</td>\n",
              "      <td>717</td>\n",
              "    </tr>\n",
              "    <tr>\n",
              "      <th>8</th>\n",
              "      <td>2019-08-05</td>\n",
              "      <td>A</td>\n",
              "      <td>1988.1</td>\n",
              "      <td>25</td>\n",
              "      <td>25</td>\n",
              "      <td>756</td>\n",
              "    </tr>\n",
              "  </tbody>\n",
              "</table>\n",
              "</div>"
            ],
            "text/plain": [
              "        date group  revenue  transaction_id  visitor_id  visits\n",
              "0 2019-08-01     A   2356.8              24          20     719\n",
              "2 2019-08-02     A   1503.5              20          19     619\n",
              "4 2019-08-03     A   1815.2              24          24     507\n",
              "6 2019-08-04     A   1146.6              16          15     717\n",
              "8 2019-08-05     A   1988.1              25          25     756"
            ]
          },
          "execution_count": 38,
          "metadata": {},
          "output_type": "execute_result"
        }
      ],
      "source": [
        "# Melihat kelompok A nya\n",
        "df_merge_group_a.head()"
      ]
    },
    {
      "cell_type": "code",
      "execution_count": null,
      "metadata": {
        "id": "_APmFPN65W3-",
        "outputId": "6f7d31d8-05d3-4fa4-a938-bb40f50a973e"
      },
      "outputs": [
        {
          "data": {
            "text/html": [
              "<div>\n",
              "<style scoped>\n",
              "    .dataframe tbody tr th:only-of-type {\n",
              "        vertical-align: middle;\n",
              "    }\n",
              "\n",
              "    .dataframe tbody tr th {\n",
              "        vertical-align: top;\n",
              "    }\n",
              "\n",
              "    .dataframe thead th {\n",
              "        text-align: right;\n",
              "    }\n",
              "</style>\n",
              "<table border=\"1\" class=\"dataframe\">\n",
              "  <thead>\n",
              "    <tr style=\"text-align: right;\">\n",
              "      <th></th>\n",
              "      <th>date</th>\n",
              "      <th>group</th>\n",
              "      <th>revenue</th>\n",
              "      <th>transaction_id</th>\n",
              "      <th>visitor_id</th>\n",
              "      <th>visits</th>\n",
              "    </tr>\n",
              "  </thead>\n",
              "  <tbody>\n",
              "    <tr>\n",
              "      <th>1</th>\n",
              "      <td>2019-08-01</td>\n",
              "      <td>B</td>\n",
              "      <td>1620.0</td>\n",
              "      <td>21</td>\n",
              "      <td>20</td>\n",
              "      <td>713</td>\n",
              "    </tr>\n",
              "    <tr>\n",
              "      <th>3</th>\n",
              "      <td>2019-08-02</td>\n",
              "      <td>B</td>\n",
              "      <td>2623.8</td>\n",
              "      <td>24</td>\n",
              "      <td>23</td>\n",
              "      <td>581</td>\n",
              "    </tr>\n",
              "    <tr>\n",
              "      <th>5</th>\n",
              "      <td>2019-08-03</td>\n",
              "      <td>B</td>\n",
              "      <td>1806.8</td>\n",
              "      <td>16</td>\n",
              "      <td>16</td>\n",
              "      <td>509</td>\n",
              "    </tr>\n",
              "    <tr>\n",
              "      <th>7</th>\n",
              "      <td>2019-08-04</td>\n",
              "      <td>B</td>\n",
              "      <td>1717.3</td>\n",
              "      <td>17</td>\n",
              "      <td>16</td>\n",
              "      <td>770</td>\n",
              "    </tr>\n",
              "    <tr>\n",
              "      <th>9</th>\n",
              "      <td>2019-08-05</td>\n",
              "      <td>B</td>\n",
              "      <td>1495.0</td>\n",
              "      <td>23</td>\n",
              "      <td>23</td>\n",
              "      <td>707</td>\n",
              "    </tr>\n",
              "  </tbody>\n",
              "</table>\n",
              "</div>"
            ],
            "text/plain": [
              "        date group  revenue  transaction_id  visitor_id  visits\n",
              "1 2019-08-01     B   1620.0              21          20     713\n",
              "3 2019-08-02     B   2623.8              24          23     581\n",
              "5 2019-08-03     B   1806.8              16          16     509\n",
              "7 2019-08-04     B   1717.3              17          16     770\n",
              "9 2019-08-05     B   1495.0              23          23     707"
            ]
          },
          "execution_count": 39,
          "metadata": {},
          "output_type": "execute_result"
        }
      ],
      "source": [
        "# Melihat kelompok B nya\n",
        "df_merge_group_b.head()"
      ]
    },
    {
      "cell_type": "code",
      "execution_count": null,
      "metadata": {
        "id": "Meg7dyAB5W3-"
      },
      "outputs": [],
      "source": [
        "# Membuat kelompok baru dengan metode loop for\n",
        "for _df in [df_merge_group_a, df_merge_group_b]:\n",
        "    \n",
        "    _df['revenue_cumsum'] = _df['revenue'].cumsum()\n",
        "    _df['transaction_id_cumsum'] = _df['transaction_id'].cumsum()\n",
        "    _df['visitor_id_cumsum'] = _df['visitor_id'].cumsum()\n",
        "    _df['visits_cumsum'] = _df['visits'].cumsum()"
      ]
    },
    {
      "cell_type": "code",
      "execution_count": null,
      "metadata": {
        "id": "afm-JhGf5W3_"
      },
      "outputs": [],
      "source": [
        "# Menggabungkan data dengan metode concat\n",
        "df_cumulative = pd.concat([df_merge_group_a, df_merge_group_b]).sort_values(by='date')"
      ]
    },
    {
      "cell_type": "code",
      "execution_count": null,
      "metadata": {
        "id": "6O-Gdzjq5W3_",
        "outputId": "f0794e6d-68e2-4d68-e340-bd90a23e86d5"
      },
      "outputs": [
        {
          "data": {
            "text/html": [
              "<div>\n",
              "<style scoped>\n",
              "    .dataframe tbody tr th:only-of-type {\n",
              "        vertical-align: middle;\n",
              "    }\n",
              "\n",
              "    .dataframe tbody tr th {\n",
              "        vertical-align: top;\n",
              "    }\n",
              "\n",
              "    .dataframe thead th {\n",
              "        text-align: right;\n",
              "    }\n",
              "</style>\n",
              "<table border=\"1\" class=\"dataframe\">\n",
              "  <thead>\n",
              "    <tr style=\"text-align: right;\">\n",
              "      <th></th>\n",
              "      <th>date</th>\n",
              "      <th>group</th>\n",
              "      <th>revenue</th>\n",
              "      <th>transaction_id</th>\n",
              "      <th>visitor_id</th>\n",
              "      <th>visits</th>\n",
              "      <th>revenue_cumsum</th>\n",
              "      <th>transaction_id_cumsum</th>\n",
              "      <th>visitor_id_cumsum</th>\n",
              "      <th>visits_cumsum</th>\n",
              "    </tr>\n",
              "  </thead>\n",
              "  <tbody>\n",
              "    <tr>\n",
              "      <th>0</th>\n",
              "      <td>2019-08-01</td>\n",
              "      <td>A</td>\n",
              "      <td>2356.8</td>\n",
              "      <td>24</td>\n",
              "      <td>20</td>\n",
              "      <td>719</td>\n",
              "      <td>2356.8</td>\n",
              "      <td>24</td>\n",
              "      <td>20</td>\n",
              "      <td>719</td>\n",
              "    </tr>\n",
              "    <tr>\n",
              "      <th>1</th>\n",
              "      <td>2019-08-01</td>\n",
              "      <td>B</td>\n",
              "      <td>1620.0</td>\n",
              "      <td>21</td>\n",
              "      <td>20</td>\n",
              "      <td>713</td>\n",
              "      <td>1620.0</td>\n",
              "      <td>21</td>\n",
              "      <td>20</td>\n",
              "      <td>713</td>\n",
              "    </tr>\n",
              "    <tr>\n",
              "      <th>2</th>\n",
              "      <td>2019-08-02</td>\n",
              "      <td>A</td>\n",
              "      <td>1503.5</td>\n",
              "      <td>20</td>\n",
              "      <td>19</td>\n",
              "      <td>619</td>\n",
              "      <td>3860.3</td>\n",
              "      <td>44</td>\n",
              "      <td>39</td>\n",
              "      <td>1338</td>\n",
              "    </tr>\n",
              "    <tr>\n",
              "      <th>3</th>\n",
              "      <td>2019-08-02</td>\n",
              "      <td>B</td>\n",
              "      <td>2623.8</td>\n",
              "      <td>24</td>\n",
              "      <td>23</td>\n",
              "      <td>581</td>\n",
              "      <td>4243.8</td>\n",
              "      <td>45</td>\n",
              "      <td>43</td>\n",
              "      <td>1294</td>\n",
              "    </tr>\n",
              "    <tr>\n",
              "      <th>4</th>\n",
              "      <td>2019-08-03</td>\n",
              "      <td>A</td>\n",
              "      <td>1815.2</td>\n",
              "      <td>24</td>\n",
              "      <td>24</td>\n",
              "      <td>507</td>\n",
              "      <td>5675.5</td>\n",
              "      <td>68</td>\n",
              "      <td>63</td>\n",
              "      <td>1845</td>\n",
              "    </tr>\n",
              "  </tbody>\n",
              "</table>\n",
              "</div>"
            ],
            "text/plain": [
              "        date group  revenue  transaction_id  visitor_id  visits  \\\n",
              "0 2019-08-01     A   2356.8              24          20     719   \n",
              "1 2019-08-01     B   1620.0              21          20     713   \n",
              "2 2019-08-02     A   1503.5              20          19     619   \n",
              "3 2019-08-02     B   2623.8              24          23     581   \n",
              "4 2019-08-03     A   1815.2              24          24     507   \n",
              "\n",
              "   revenue_cumsum  transaction_id_cumsum  visitor_id_cumsum  visits_cumsum  \n",
              "0          2356.8                     24                 20            719  \n",
              "1          1620.0                     21                 20            713  \n",
              "2          3860.3                     44                 39           1338  \n",
              "3          4243.8                     45                 43           1294  \n",
              "4          5675.5                     68                 63           1845  "
            ]
          },
          "execution_count": 42,
          "metadata": {},
          "output_type": "execute_result"
        }
      ],
      "source": [
        "# Melihat hasilnya\n",
        "df_cumulative.head()"
      ]
    },
    {
      "cell_type": "markdown",
      "metadata": {
        "id": "BzyBwPpU5W3_"
      },
      "source": [
        "Data tersebut siap untuk dilakukan berbagai analisa yang terkait dengan data ini."
      ]
    },
    {
      "cell_type": "markdown",
      "metadata": {
        "id": "At8ISie55W4A"
      },
      "source": [
        "### Gambarkan pendapatan kumulatif berdasarkan kelompok. Buatlah kesimpulan dan asumsinya."
      ]
    },
    {
      "cell_type": "code",
      "execution_count": null,
      "metadata": {
        "id": "TOqMgwsL5W4A",
        "outputId": "a4540ba5-6225-4119-fdd8-21bac6fb45b8"
      },
      "outputs": [
        {
          "data": {
            "image/png": "[encoded data removed]",
            "text/plain": [
              "<Figure size 1080x360 with 1 Axes>"
            ]
          },
          "metadata": {
            "needs_background": "light"
          },
          "output_type": "display_data"
        }
      ],
      "source": [
        "# Gambarkan pendapatan kumulatif berdasarkan kelompok. Buatlah kesimpulan dan asumsinya.\n",
        "\n",
        "plt.figure(figsize=(15, 5))\n",
        "sns.lineplot(data=df_cumulative, x='date', y='revenue_cumsum', hue='group');"
      ]
    },
    {
      "cell_type": "markdown",
      "metadata": {
        "id": "Tgl9oFg15W4B"
      },
      "source": [
        "Kesimpulan:\n",
        "\n",
        "Pada fase awal (dari tanggal 1 Agustus 2019 sampai 5 Agustus 2019) kumulatif pendapatan antara kelompok A dan B terus saling bergesekan. Setelah lebih dari 5 Agustus 2019 bahwa kelompok B terus memberikan pendapatan kumulatif diatas kelompok A walaupun pada tanggal 13 Agustus 2019 kelompok A mampu menyamai dengan kelompok B. Tanggal 18 Agustus ke 19 Agustus bahwa kelompok B tiba-tiba untuk kumulatif pendapatan meningkat signifikan dibanding kelompok A dan terus memimpin sampai fase terakhir yaitu 1 September 2019."
      ]
    },
    {
      "cell_type": "markdown",
      "metadata": {
        "id": "8QXGhGAs5W4B"
      },
      "source": [
        "### Gambarkan ukuran pesanan rata-rata kumulatif berdasarkan kelompok, buatlah kesimpulan dan asumsinya."
      ]
    },
    {
      "cell_type": "markdown",
      "metadata": {
        "id": "lq0ryjAH5W4C"
      },
      "source": [
        "untuk mengetahui pesanana rata-rata kumulatif, perlu adanya konversi pendapatan kumulatif berdasarkan  jumlah transaksi kumulatifnya."
      ]
    },
    {
      "cell_type": "code",
      "execution_count": null,
      "metadata": {
        "id": "iO8TzHDk5W4C"
      },
      "outputs": [],
      "source": [
        "# Gambarkan ukuran pesanan rata-rata kumulatif berdasarkan kelompok. Buatlah kesimpulan dan asumsinya.\n",
        "\n",
        "# Membuat ukuran pesanan rata-rata kumulatif berdasarkan pendaptan kumulatif dengan\n",
        "# transaksi kumulatif\n",
        "df_cumulative['order_size_cumsum'] = df_cumulative['revenue_cumsum'] / df_cumulative['transaction_id_cumsum']"
      ]
    },
    {
      "cell_type": "code",
      "execution_count": null,
      "metadata": {
        "id": "5eXNRQEl5W4C",
        "outputId": "cef5a5ca-1a28-4f66-c8f2-2e63874381e0"
      },
      "outputs": [
        {
          "data": {
            "image/png": "[encoded data removed]",
            "text/plain": [
              "<Figure size 1080x360 with 1 Axes>"
            ]
          },
          "metadata": {
            "needs_background": "light"
          },
          "output_type": "display_data"
        }
      ],
      "source": [
        "# Gambarkan ukuran pesanan rata-rata kumulatif berdasarkan kelompok. Buatlah kesimpulan dan asumsinya.\n",
        "\n",
        "plt.figure(figsize=(15, 5))\n",
        "sns.lineplot(data=df_cumulative, x='date', y='order_size_cumsum', hue='group');"
      ]
    },
    {
      "cell_type": "markdown",
      "metadata": {
        "id": "EwA6uolV5W4C"
      },
      "source": [
        "kesimpulan:\n",
        "\n",
        "Sekitar 2 Minggu pertama dari tanggal 1 Agustus 2019 bahwa rata-rata pesanan mengalami fluktiatif untuk kelompok A dan B, artinya bahwa masih belum stabil baik kelompok A dan B untuk ukuran rata-rata pesanannya. Tanggal 18 Agustus ke 19 Agustus bahwa kelompok B tiba-tiba untuk kumulatif pendapatan meningkat signifikan dibanding kelompok A dan terus memimpin sampai fase terakhir yaitu 1 September 2019. \n",
        "\n",
        "Ada hal yang menarik terkait kelompok B dimana setelah 19 Agustsu terus menurun sampai 1 September 2019 untuk rata-rata pesanannya. Ada beberapa asumsi yang bisa disebutkan, seperti pendapatan kumulatifnya menurun tetapi jumlah transaksi kumulatifnya konstan, atau pendapatan kumulatifnya konstan tetapi jumlah transaksi kumulatifnya semakin banyak, atau bisa saja jumlah transaksi kumulatifnya lebih banyak ketimbang jumlah pendapatan kumuliatifnya walaupun sama-sama naik untuk pendapatan dan transaksi kumuliatif masing-masing. Atau memang kondisi 3 disebutkan terjadi tetapi dalam waktu yang cukup singkat."
      ]
    },
    {
      "cell_type": "markdown",
      "metadata": {
        "id": "6ZBS5bGV5W4D"
      },
      "source": [
        "### Gambarkan perbedaan relatif untuk ukuran pesanan rata-rata kumulatif kelompok B yang dibandingkan dengan kelompok A, buatlah kesimpulan dan asumsinya."
      ]
    },
    {
      "cell_type": "markdown",
      "metadata": {
        "id": "NjLMPlPf5W4E"
      },
      "source": [
        "Disclaimer, bahwa diminta untuk kumulatif kelompok B dibanding dengan kelompok A maka untuk selanjutnya bahwa penjelasan di bawah setelah ini akan lebih mengutamakan kondisi kelompok B terlebih dahulu dibanding kelompok A."
      ]
    },
    {
      "cell_type": "code",
      "execution_count": null,
      "metadata": {
        "id": "9BGnrK3W5W4E"
      },
      "outputs": [],
      "source": [
        "# Gambarkan perbedaan relatif untuk ukuran pesanan rata-rata kumulatif kelompok B yang dibandingkan dengan kelompok A.\n",
        "# dan buatlah kesimpulan dan asumsinya.\n",
        "\n",
        "# Memfilter untuk kelompok A dan kelompok B\n",
        "\n",
        "df_cumulative_a = df_cumulative[df_cumulative['group'] == 'A'].reset_index(drop=True)\n",
        "df_cumulative_b = df_cumulative[df_cumulative['group'] == 'B'].reset_index(drop=True)"
      ]
    },
    {
      "cell_type": "code",
      "execution_count": null,
      "metadata": {
        "id": "IA4v3b-b5W4E"
      },
      "outputs": [],
      "source": [
        "# Gambarkan perbedaan relatif untuk ukuran pesanan rata-rata kumulatif kelompok B yang dibandingkan dengan kelompok A.\n",
        "# dan buatlah kesimpulan dan asumsinya.\n",
        "\n",
        "# menggabungkan tabel filter untuk kelompok A dan kelompok B\n",
        "\n",
        "merger_df_cumulative = df_cumulative_a.merge(df_cumulative_b, \n",
        "                                            left_on = 'date',\n",
        "                                            right_on = 'date',\n",
        "                                            how = 'left',\n",
        "                                            suffixes = ['A', 'B'])"
      ]
    },
    {
      "cell_type": "code",
      "execution_count": null,
      "metadata": {
        "id": "aazjWRPO5W4F"
      },
      "outputs": [],
      "source": [
        "# Gambarkan perbedaan relatif untuk ukuran pesanan rata-rata kumulatif kelompok B yang dibandingkan dengan kelompok A.\n",
        "# dan buatlah kesimpulan dan asumsinya.\n",
        "\n",
        "# membuat perbedaan relatif untuk jumlah pembelian rata-rata\n",
        "\n",
        "merger_df_cumulative['relative_order_size'] = (merger_df_cumulative['order_size_cumsumB'] \n",
        "                                               / merger_df_cumulative['order_size_cumsumA']) - 1"
      ]
    },
    {
      "cell_type": "code",
      "execution_count": null,
      "metadata": {
        "id": "orMrCipg5W4F",
        "outputId": "cf18708c-c853-4f06-ef16-6571b8bb77cd"
      },
      "outputs": [
        {
          "data": {
            "image/png": "[encoded data removed]",
            "text/plain": [
              "<Figure size 1080x360 with 1 Axes>"
            ]
          },
          "metadata": {
            "needs_background": "light"
          },
          "output_type": "display_data"
        }
      ],
      "source": [
        "# Gambarkan perbedaan relatif untuk ukuran pesanan rata-rata kumulatif kelompok B yang dibandingkan dengan kelompok A.\n",
        "# dan buatlah kesimpulan dan asumsinya.\n",
        "\n",
        "plt.figure(figsize=(15, 5))\n",
        "sns.lineplot(data=merger_df_cumulative, x='date', y='relative_order_size');\n",
        "plt.axhline(y=0, color='black', linestyle='--');"
      ]
    },
    {
      "cell_type": "markdown",
      "metadata": {
        "id": "k9pOD3aC5W4F"
      },
      "source": [
        "Kesimpulan:\n",
        "\n",
        "Untuk hasilnya, bahwa kelompok B mendominasi untuk ukuran rata-rata pesanan yang artinya kelompok B rata-rata pesanannya lebih banyak dibanding kelompok A. Tetapi ada hari-hari dimana kelompok A lebih besar dari kelompok B, hal ini dapat dibuktikan bahwa dengan tanggal 1 Agustus 2019 dan 13 Agustus 2019. Nilai ukuran rata-rata pesanan kelompok B lebih kecil dibanding kelompok A yang hasilnya akan menjadi negatif."
      ]
    },
    {
      "cell_type": "markdown",
      "metadata": {
        "id": "IKvLCok95W4G"
      },
      "source": [
        "### Hitung tingkat konversi setiap kelompok sebagai rasio pesanan terhadap jumlah kunjungan setiap hari. Buat grafik tingkat konversi harian dari kedua kelompok dan jelaskan perbedaannya dan buatlah kesimpulan dan asumsinya."
      ]
    },
    {
      "cell_type": "code",
      "execution_count": null,
      "metadata": {
        "id": "MCKG6J0g5W4G"
      },
      "outputs": [],
      "source": [
        "# Hitung tingkat konversi setiap kelompok sebagai rasio pesanan terhadap jumlah kunjungan setiap hari. \n",
        "# Buat grafik tingkat konversi harian dari kedua kelompok dan jelaskan perbedaannya. \n",
        "# Buatlah kesimpulan dan asumsinya.\n",
        "\n",
        "# membuat tingkat konversi setiap kelompok sebagai rasio pesanan terhadap jumlah kunjungan setiap hari\n",
        "\n",
        "df_cumulative['conversion_cumsum'] = (df_cumulative['transaction_id_cumsum'] \n",
        "                                             / df_cumulative['visits_cumsum'])"
      ]
    },
    {
      "cell_type": "code",
      "execution_count": null,
      "metadata": {
        "id": "PQ-ax7SF5W4H",
        "outputId": "0c1740c7-451b-49d3-8137-fee7a62ba1d8"
      },
      "outputs": [
        {
          "data": {
            "image/png": "[encoded data removed]",
            "text/plain": [
              "<Figure size 1080x360 with 1 Axes>"
            ]
          },
          "metadata": {
            "needs_background": "light"
          },
          "output_type": "display_data"
        }
      ],
      "source": [
        "# Hitung tingkat konversi setiap kelompok sebagai rasio pesanan terhadap jumlah kunjungan setiap hari. \n",
        "# Buat grafik tingkat konversi harian dari kedua kelompok dan jelaskan perbedaannya. \n",
        "# Buatlah kesimpulan dan asumsinya.\n",
        "\n",
        "plt.figure(figsize=(15, 5))\n",
        "sns.lineplot(data=df_cumulative, x='date', y='conversion_cumsum', hue='group');"
      ]
    },
    {
      "cell_type": "markdown",
      "metadata": {
        "id": "Qo2QWTtk5W4H"
      },
      "source": [
        "Kesimpulan:\n",
        "    \n",
        "Untuk fase awal kelompok A dan kelompok B terus berfluktuatif secara signifikan, dengan kelompok A lebih unggul dibanding kelompok B. Tetapi setelah tanggal 6 yang dimana kelompok A sama dengan kelompok B untuk tingkat rasio pesanan terhadap kunjungan, kelompok B mulai menggungguli kelompok A. Dan diikuti juga bahwa kelompok B dan kelompok A sudah mulai lebih stabil sampai pada tanggal 1 September 2019."
      ]
    },
    {
      "cell_type": "markdown",
      "metadata": {
        "id": "lfoDzI0p5W4I"
      },
      "source": [
        "### Buatlah diagram tebar (scatter chart) untuk jumlah pesanan per pengguna dan buatlah kesimpulan dan asumsinya."
      ]
    },
    {
      "cell_type": "code",
      "execution_count": null,
      "metadata": {
        "id": "SrbODjrH5W4I"
      },
      "outputs": [],
      "source": [
        "# Buatlah diagram tebar (scatter chart) untuk jumlah pesanan per pengguna. Buatlah kesimpulan dan asumsinya.\n",
        "\n",
        "# Membuat aggregasi untuk menghitung transaksi berdasarkan kode kunjungan seorang pengunjung\n",
        "visitor_agg = df_orders.groupby(['visitor_id']).agg({\n",
        "    'transaction_id' : 'nunique'\n",
        "}).reset_index()"
      ]
    },
    {
      "cell_type": "code",
      "execution_count": null,
      "metadata": {
        "id": "staWmypi5W4I"
      },
      "outputs": [],
      "source": [
        "# Buatlah diagram tebar (scatter chart) untuk jumlah pesanan per pengguna. Buatlah kesimpulan dan asumsinya.\n",
        "\n",
        "# Membuat jumlah pengunjungnya untuk scatter chart\n",
        "x_values = pd.Series(range(0, len(visitor_agg)))"
      ]
    },
    {
      "cell_type": "code",
      "execution_count": null,
      "metadata": {
        "id": "BbVMrlu45W4J",
        "outputId": "320b2edb-062c-4910-ac19-df9756ce7bcd"
      },
      "outputs": [
        {
          "data": {
            "image/png": "[encoded data removed]",
            "text/plain": [
              "<Figure size 1080x360 with 1 Axes>"
            ]
          },
          "metadata": {
            "needs_background": "light"
          },
          "output_type": "display_data"
        }
      ],
      "source": [
        "# Buatlah diagram tebar (scatter chart) untuk jumlah pesanan per pengguna. Buatlah kesimpulan dan asumsinya.\n",
        "\n",
        "plt.figure(figsize=(15, 5))\n",
        "sns.scatterplot(x=x_values, y=visitor_agg['transaction_id']);"
      ]
    },
    {
      "cell_type": "markdown",
      "metadata": {
        "id": "PVPtLJkx5W4J"
      },
      "source": [
        "Kesimpulan:\n",
        "\n",
        "Bahwa pengunjung dengan pemesanan yang cukup banyak adalah 1 dan 2. Untuk pengunjung yang pemensanannya lebih dari 2 sudah mulai lebih sedikit, bahkan untuk 3 saja mungkin dapat dihitung dengan jelas secara manual."
      ]
    },
    {
      "cell_type": "markdown",
      "metadata": {
        "id": "CWhW8b-V5W4J"
      },
      "source": [
        "### Hitung persentil ke-95 dan ke-99 untuk jumlah pesanan per pengguna. Tentukan titik ketika suatu titik data berubah menjadi anomali."
      ]
    },
    {
      "cell_type": "code",
      "execution_count": null,
      "metadata": {
        "id": "6IJh-wxR5W4K",
        "outputId": "b6b15e9a-09b1-42b5-d4f4-f0ac20bd3d01"
      },
      "outputs": [
        {
          "name": "stdout",
          "output_type": "stream",
          "text": [
            "[2. 4.]\n"
          ]
        }
      ],
      "source": [
        "# Hitung persentil ke-95 dan ke-99 untuk jumlah pesanan per pengguna.\n",
        "# Tentukan titik ketika suatu titik data berubah menjadi anomali.\n",
        "\n",
        "print(np.percentile(visitor_agg['transaction_id'], [95, 99]))"
      ]
    },
    {
      "cell_type": "markdown",
      "metadata": {
        "id": "5Vpjcyf95W4K"
      },
      "source": [
        "Kesimpulan:\n",
        "    \n",
        "Bahwa sekitar 95% pengunjung melakukan pemesanan kurang dari 2 dan 2. Sementara untuk sekitar 99% pengujung melakukan pemesanan kurang dari 4 dan 4, sisanya yaitu 1% lebih dari 4.\n",
        "\n",
        "Keputusan untuk menetukan titik anomali adalaah 95% atau jumlah pemesanan kurang dari 2 dan 2. Jika lebih dari 2 artinya bahwa pengunjung yang melakukan pemesanan itu dianggap anomali, hal ini juga dibuktikan di scatter plot bahwa pemesanan lebih dari sangat sangat sedikit, bahkan untuk pengunjung yang melakukan pemesanan 3 bisa dihitung secara manual."
      ]
    },
    {
      "cell_type": "markdown",
      "metadata": {
        "id": "pB2f58gT5W4L"
      },
      "source": [
        "### Buatlah diagram tebar (scatter chart) untuk harga pesanan. Buatlah kesimpulan dan asumsinya."
      ]
    },
    {
      "cell_type": "code",
      "execution_count": null,
      "metadata": {
        "id": "QgiQrwWS5W4L",
        "outputId": "126292d8-f46d-41bf-d2db-e78f8198bc81"
      },
      "outputs": [
        {
          "data": {
            "image/png": "[encoded data removed]",
            "text/plain": [
              "<Figure size 1080x360 with 1 Axes>"
            ]
          },
          "metadata": {
            "needs_background": "light"
          },
          "output_type": "display_data"
        }
      ],
      "source": [
        "# Buatlah diagram tebar (scatter chart) untuk harga pesanan. Buatlah kesimpulan dan asumsinya.\n",
        "\n",
        "x_values = pd.Series(range(0, len(df_orders['revenue'])))\n",
        "\n",
        "plt.figure(figsize=(15, 5))\n",
        "sns.scatterplot(x=x_values, y=df_orders['revenue']);"
      ]
    },
    {
      "cell_type": "markdown",
      "metadata": {
        "id": "6PH4QISB5W4M"
      },
      "source": [
        "Melihat persebarannya, sepertinya terlalu sulit untuk dilihat. Akan lebih baik klaah revenuenya dibatasi hanya sampai 2500 dan observasinya tetap sampai 1200. Karena hanya ada 1 anomali yang jumlah pendapatannya 20000 dan 2500 hanya 1 juga. Untuk revenue diantara lebih 2500 dan kurang 20000 tidak ada sama sekali."
      ]
    },
    {
      "cell_type": "code",
      "execution_count": null,
      "metadata": {
        "id": "ALAD6PpN5W4M",
        "outputId": "189dfd81-7418-442c-e77f-a81cc438a4e2"
      },
      "outputs": [
        {
          "data": {
            "image/png": "[encoded data removed]",
            "text/plain": [
              "<Figure size 1080x360 with 1 Axes>"
            ]
          },
          "metadata": {
            "needs_background": "light"
          },
          "output_type": "display_data"
        }
      ],
      "source": [
        "# Buatlah diagram tebar (scatter chart) untuk harga pesanan. Buatlah kesimpulan dan asumsinya.\n",
        "# Melkukukan fokus untuk revenue sampai batas 2500.\n",
        "plt.figure(figsize=(15, 5))\n",
        "sns.scatterplot(x=x_values, y=df_orders['revenue']);\n",
        "plt.axis([0, 1200, 0, 2500]);"
      ]
    },
    {
      "cell_type": "markdown",
      "metadata": {
        "id": "kX7VAA9b5W4N"
      },
      "source": [
        "Kesimpulan:\n",
        "    \n",
        "Bahwa setiap pemesanan harganya paling banyak dibawah 500. Untuk diatas 500 sudah mulai sangat sedikit dan yang tertinggi sekitar kurang lebih di angka 1500."
      ]
    },
    {
      "cell_type": "markdown",
      "metadata": {
        "id": "o3p1X9ey5W4N"
      },
      "source": [
        "### Hitung persentil ke-95 dan ke-99 untuk harga pesanan. Tentukan titik ketika suatu titik data berubah menjadi anomali."
      ]
    },
    {
      "cell_type": "code",
      "execution_count": null,
      "metadata": {
        "id": "3vw98oF85W4N",
        "outputId": "3f596110-320e-4a0c-95eb-68f090c5479c"
      },
      "outputs": [
        {
          "name": "stdout",
          "output_type": "stream",
          "text": [
            "[435.54  900.904]\n"
          ]
        }
      ],
      "source": [
        "# Hitung persentil ke-95 dan ke-99 untuk harga pesanan. \n",
        "# Tentukan titik ketika suatu titik data berubah menjadi anomali.\n",
        "\n",
        "print(np.percentile(df_orders['revenue'], [95, 99]))"
      ]
    },
    {
      "cell_type": "markdown",
      "metadata": {
        "id": "VVOBWLnY5W4O"
      },
      "source": [
        "Kesimpulan:\n",
        "\n",
        "Bahwa sekitar 95% harga pesanan yang dibeli oleh pengunjung adalah kurang sama dengan 435.54 dan 99% harga pesanan yang dibeli oleh pengunjung adalah kurang sama dengan 900.904.\n",
        "\n",
        "Keputusan untuk menetukan titik anomali adalah 95% atau harga pesanan yang dibeli oleh pengunjung adalah kurang sama dengan 435.54. Hal ini dibuktikan dengan diagram scatter plot bahwa setelah diatas 500 hanya sedikit untuk pembelian diatas harga itu dibanding harga dibawah 500 yang sangat sedikit."
      ]
    },
    {
      "cell_type": "markdown",
      "metadata": {
        "id": "ZabLutV25W4P"
      },
      "source": [
        "### Temukan signifikansi statistik perbedaan konversi antar kelompok menggunakan data mentah. Buatlah kesimpulan dan asumsinya."
      ]
    },
    {
      "cell_type": "code",
      "execution_count": null,
      "metadata": {
        "id": "oMFsFE_f5W4P"
      },
      "outputs": [],
      "source": [
        "# Temukan signifikansi statistik perbedaan konversi antar kelompok menggunakan data mentah. \n",
        "# Buatlah kesimpulan dan asumsinya.\n",
        "\n",
        "orders_a = df_orders[df_orders['group'] == 'A'].groupby('visitor_id').agg({\n",
        "    'transaction_id' : 'nunique'\n",
        "}).reset_index()\n",
        "\n",
        "orders_b = df_orders[df_orders['group'] == 'B'].groupby('visitor_id').agg({\n",
        "    'transaction_id' : 'nunique'\n",
        "}).reset_index()"
      ]
    },
    {
      "cell_type": "code",
      "execution_count": null,
      "metadata": {
        "id": "Hb6NFEmY5W4P"
      },
      "outputs": [],
      "source": [
        "# Temukan signifikansi statistik perbedaan konversi antar kelompok menggunakan data mentah. \n",
        "# Buatlah kesimpulan dan asumsinya.\n",
        "\n",
        "sample_a = pd.concat([orders_a['transaction_id'],\n",
        "           pd.Series(0, index=np.arange(df_visits[df_visits['group'] =='A']['visits'].sum() - \n",
        "                                       len(orders_a['transaction_id'])), name='orders')], \n",
        "           axis=0)\n",
        "\n",
        "sample_b = pd.concat([orders_b['transaction_id'],\n",
        "           pd.Series(0, index=np.arange(df_visits[df_visits['group'] =='B']['visits'].sum() - \n",
        "                                       len(orders_b['transaction_id'])), name='orders')], \n",
        "           axis=0)"
      ]
    },
    {
      "cell_type": "markdown",
      "metadata": {
        "id": "hxUYXIZs5W4Q"
      },
      "source": [
        "untuk menguji hipotesis mengunakan pendekatan `Pengujian Nonparametrik Wilcoxon-Mann-Whitney`. Karena  datanya indenpenden dan dan nilai distribusinya tidak terdistribusi secara normal, maka pendekatan inilah yang terbaik untuk menguji hipotesisnya.\n",
        "\n",
        "Adapun sebelum menguji hipotsis terkait signifikansinya untuk perbedaan kelompok konversi antara sampel A dengan sampel B, maka dibuat pernyataan terlebih dahulu.\n",
        "\n",
        "H0 : Bahwa tidak ada perbedaan secara signifikan antara kelompok sampel A dengan sampel B terhadap perbedaan kelompok konversi.\n",
        "\n",
        "H1 : Bahwa ada perbedaan secara signifikan antara kelompok sampel A dengan sampel B terhadap perbedaan kelompok konversi."
      ]
    },
    {
      "cell_type": "code",
      "execution_count": null,
      "metadata": {
        "id": "MD4opVo95W4Q",
        "outputId": "72df25c9-d210-4aac-f5f7-894d8208a292"
      },
      "outputs": [
        {
          "name": "stdout",
          "output_type": "stream",
          "text": [
            "p-value: 0.017\n",
            "Perbedaan Relatif: 0.138\n",
            "Hipotesis nol ditolak: ada perbedaan statistik secara signifikan antara sampel A dengan sample B\n"
          ]
        }
      ],
      "source": [
        "# Temukan signifikansi statistik perbedaan konversi antar kelompok menggunakan data mentah. \n",
        "# Buatlah kesimpulan dan asumsinya.\n",
        "\n",
        "alpha = 0.5\n",
        "\n",
        "results = st.mannwhitneyu(sample_a, sample_b)\n",
        "print('p-value: {0:.3f}'.format(results.pvalue))\n",
        "print('Perbedaan Relatif: {0:.3f}'.format(sample_b.mean()/sample_a.mean()-1))\n",
        "\n",
        "if (results.pvalue < alpha):\n",
        "    print('Hipotesis nol ditolak: ada perbedaan statistik secara signifikan antara sampel A dengan sample B')\n",
        "else:\n",
        "    print('Hipotesis nol gagal ditolak: tidak ada perbedaan statistik secara signifikan antara sampel A dengan sample B')"
      ]
    },
    {
      "cell_type": "markdown",
      "metadata": {
        "id": "YtKQdDBi5W4R"
      },
      "source": [
        "Kesimpulan:\n",
        "\n",
        "Bahwa untuk data mentah dimana konversi setiap kelompok sebagai rasio pesanan terhadap jumlah kunjungan ada perbedaan yang cukup signifikan. Dan ada perbedaan relatif untuk rasion pesanan terhadap jumlah kunjungan untuk kelompok B yang lebih banyak sebesar 13,8% dibanding kelompok A."
      ]
    },
    {
      "cell_type": "markdown",
      "metadata": {
        "id": "ktYnQkzZ5W4S"
      },
      "source": [
        "### Temukan signifikansi statistik perbedaan ukuran pesanan rata-rata antar kelompok menggunakan data mentah. Buatlah kesimpulan dan asumsinya."
      ]
    },
    {
      "cell_type": "markdown",
      "metadata": {
        "id": "6OR9KmNZ5W4S"
      },
      "source": [
        "Adapun sebelum menguji hipotsis terkait signifikansinya untuk perbedaan ukuran pesanan rata-rata antara sampel A dengan sampel B, maka dibuat pernyataan terlebih dahulu.\n",
        "\n",
        "H0 : Bahwa tidak ada perbedaan secara signifikan antara kelompok sampel A dengan sampel B terhadap perbedaan ukuran pesanan rata-rata.\n",
        "\n",
        "H1 : Bahwa ada perbedaan secara signifikan antara kelompok sampel A dengan sampel B terhadap perbedaan ukuran pesanan rata-rata."
      ]
    },
    {
      "cell_type": "code",
      "execution_count": null,
      "metadata": {
        "id": "g-PZz_V75W4S"
      },
      "outputs": [],
      "source": [
        "# Temukan signifikansi statistik perbedaan ukuran pesanan rata-rata antar kelompok menggunakan data mentah. \n",
        "# Buatlah kesimpulan dan asumsinya\n",
        "\n",
        "# Membuat data pesanan rata-rata untuk sampel A dan sampel B\n",
        "sample_a_orders = df_orders[df_orders['group'] == 'A']['revenue']\n",
        "sample_b_orders = df_orders[df_orders['group'] == 'B']['revenue']"
      ]
    },
    {
      "cell_type": "code",
      "execution_count": null,
      "metadata": {
        "id": "rd3cFtYd5W4T",
        "outputId": "547e9480-43b0-475b-aad7-3cf39a313e95"
      },
      "outputs": [
        {
          "name": "stdout",
          "output_type": "stream",
          "text": [
            "p-value: 0.692\n",
            "Perbedaan Relatif: 0.252\n",
            "Hipotesis nol gagal ditolak: tidak ada perbedaan statistik secara signifikan antara sampel A dengan sample B\n"
          ]
        }
      ],
      "source": [
        "# Temukan signifikansi statistik perbedaan ukuran pesanan rata-rata antar kelompok menggunakan data mentah. \n",
        "# Buatlah kesimpulan dan asumsinya\n",
        "\n",
        "alpha = 0.5\n",
        "\n",
        "results = st.mannwhitneyu(sample_a_orders, sample_b_orders)\n",
        "print('p-value: {0:.3f}'.format(results.pvalue))\n",
        "print('Perbedaan Relatif: {0:.3f}'.format(sample_b_orders.mean()/sample_a_orders.mean()-1))\n",
        "\n",
        "if (results.pvalue < alpha):\n",
        "    print('Hipotesis nol ditolak: ada perbedaan statistik secara signifikan antara sampel A dengan sample B')\n",
        "else:\n",
        "    print('Hipotesis nol gagal ditolak: tidak ada perbedaan statistik secara signifikan antara sampel A dengan sample B')"
      ]
    },
    {
      "cell_type": "markdown",
      "metadata": {
        "id": "k15VbQc05W4T"
      },
      "source": [
        "Kesimpulan:\n",
        "\n",
        "Bahwa untuk data mentah ukuran pesanan rata-rata antar kelompok menggunakan data mentah tidak ada perbedaan yang cukup signifikan. Dan ada perbedaan relatif untuk ukuran pesanan rata-rata kelompok B yang lebih besar 25,2% dibanding kelompok A. "
      ]
    },
    {
      "cell_type": "markdown",
      "metadata": {
        "id": "OL45cxcK5W4U"
      },
      "source": [
        "### Temukan signifikansi statistik perbedaan konversi antar kelompok menggunakan data yang telah difilter. Buatlah kesimpulan dan asumsinya."
      ]
    },
    {
      "cell_type": "markdown",
      "metadata": {
        "id": "9d5lDgqo5W4U"
      },
      "source": [
        "Adapun sebelum menguji hipotsis terkait signifikansinya untuk perbedaan kelompok konversi antara sampel A dengan sampel B dengan menggunakan data yang telah difilter, maka dibuat pernyataan terlebih dahulu.\n",
        "\n",
        "H0 : Bahwa tidak ada perbedaan secara signifikan antara kelompok sampel A dengan sampel B terhadap perbedaan kelompok konversi yang telah difilter.\n",
        "\n",
        "H1 : Bahwa ada perbedaan secara signifikan antara kelompok sampel A dengan sampel B terhadap perbedaan kelompok konversi yang telah difilter."
      ]
    },
    {
      "cell_type": "code",
      "execution_count": null,
      "metadata": {
        "id": "dFSFYHbI5W4U"
      },
      "outputs": [],
      "source": [
        "# Temukan signifikansi statistik perbedaan konversi antar kelompok menggunakan data yang telah difilter. \n",
        "# Buatlah kesimpulan dan asumsinya\n",
        "\n",
        "user_with_many_orders = pd.concat([orders_a[orders_a['transaction_id'] > 2]['visitor_id'],\n",
        "                                   orders_b[orders_b['transaction_id'] > 2]['visitor_id']], axis=0)\n",
        "\n",
        "user_with_expensive_orders = df_orders[df_orders['revenue'] > 435]['visitor_id']\n",
        "\n",
        "abnormal_users = pd.concat([user_with_many_orders, user_with_expensive_orders],\n",
        "                           axis=0).drop_duplicates().sort_values()"
      ]
    },
    {
      "cell_type": "code",
      "execution_count": null,
      "metadata": {
        "id": "1uKfFQ2A5W4V"
      },
      "outputs": [],
      "source": [
        "# Temukan signifikansi statistik perbedaan konversi antar kelompok menggunakan data yang telah difilter. \n",
        "# Buatlah kesimpulan dan asumsinya\n",
        "\n",
        "\n",
        "sample_a_filter = pd.concat([orders_a[~(orders_a['visitor_id'].isin(abnormal_users))]['transaction_id'],\n",
        "                  pd.Series(0, index=np.arange(df_visits[df_visits['group'] =='A']['visits'].sum() - \n",
        "                                       len(orders_a['transaction_id'])), name='orders')], \n",
        "                  axis=0)\n",
        "\n",
        "sample_b_filter = pd.concat([orders_b[~(orders_b['visitor_id'].isin(abnormal_users))]['transaction_id'],\n",
        "                  pd.Series(0, index=np.arange(df_visits[df_visits['group'] =='B']['visits'].sum() - \n",
        "                                       len(orders_b['transaction_id'])), name='orders')], \n",
        "                  axis=0)"
      ]
    },
    {
      "cell_type": "code",
      "execution_count": null,
      "metadata": {
        "id": "m2Whnxuh5W4V",
        "outputId": "337d445a-654a-4ca3-ba20-3d2e7784bdb0"
      },
      "outputs": [
        {
          "name": "stdout",
          "output_type": "stream",
          "text": [
            "p-value: 0.014\n",
            "Perbedaan Relatif: 0.171\n",
            "Hipotesis nol ditolak: ada perbedaan statistik secara signifikan antara sampel A filter dengan sample B filter\n"
          ]
        }
      ],
      "source": [
        "# Temukan signifikansi statistik perbedaan konversi antar kelompok menggunakan data yang telah difilter. \n",
        "# Buatlah kesimpulan dan asumsinya\n",
        "\n",
        "alpha = 0.5\n",
        "\n",
        "results = st.mannwhitneyu(sample_a_filter, sample_b_filter)\n",
        "print('p-value: {0:.3f}'.format(results.pvalue))\n",
        "print('Perbedaan Relatif: {0:.3f}'.format(sample_b_filter.mean()/sample_a_filter.mean()-1))\n",
        "\n",
        "if (results.pvalue < alpha):\n",
        "    print('Hipotesis nol ditolak: ada perbedaan statistik secara signifikan antara sampel A filter dengan sample B filter')\n",
        "else:\n",
        "    print('Hipotesis nol gagal ditolak: tidak ada perbedaan statistik secara signifikan antara sampel A filter dengan sample B filter')"
      ]
    },
    {
      "cell_type": "markdown",
      "metadata": {
        "id": "WBD5Lvq35W4W"
      },
      "source": [
        "Kesimpulan:\n",
        "    \n",
        "Bahwa untuk data dimana konversi setiap kelompok sebagai rasio pesanan terhadap jumlah kunjungan yang telah difilter ada perbedaan yang cukup signifikan. Dan ada perbedaan relatif untuk rasion pesanan terhadap jumlah kunjungan yang telah difilter untuk kelompok B yang lebih banyak sebesar 17,1% dibanding kelompok A."
      ]
    },
    {
      "cell_type": "markdown",
      "metadata": {
        "id": "ylWQMEyA5W4X"
      },
      "source": [
        "### Temukan signifikansi statistik perbedaan ukuran pesanan rata-rata antar kelompok menggunakan data yang telah difilter. Buatlah kesimpulan dan asumsinya."
      ]
    },
    {
      "cell_type": "markdown",
      "metadata": {
        "id": "BN9innGF5W4X"
      },
      "source": [
        "Adapun sebelum menguji hipotsis terkait signifikansinya untuk perbedaan ukuran pesanan rata-rata antara sampel A dengan sampel B yang telah difilter, maka dibuat pernyataan terlebih dahulu.\n",
        "\n",
        "H0 : Bahwa tidak ada perbedaan secara signifikan antara kelompok sampel A dengan sampel B terhadap perbedaan ukuran pesanan rata-rata yang telah difilter.\n",
        "\n",
        "H1 : Bahwa ada perbedaan secara signifikan antara kelompok sampel A dengan sampel B terhadap perbedaan ukuran pesanan rata-rata yang telah difilter."
      ]
    },
    {
      "cell_type": "code",
      "execution_count": null,
      "metadata": {
        "id": "sm61x2175W4X"
      },
      "outputs": [],
      "source": [
        "# Temukan signifikansi statistik perbedaan ukuran pesanan rata-rata antar kelompok menggunakan data yang telah difilter. \n",
        "# Buatlah kesimpulan dan asumsinya.\n",
        "\n",
        "# Membuat data pesanan rata-rata untuk sampel A dan sampel B yangi telah difilter untuk abnomralnya\n",
        "sample_a_orders_filter = df_orders[(df_orders['group'] == 'A') & ~(orders_a['visitor_id'].isin(abnormal_users))]['revenue']\n",
        "sample_b_orders_filter = df_orders[(df_orders['group'] == 'B') & ~(orders_b['visitor_id'].isin(abnormal_users))]['revenue']"
      ]
    },
    {
      "cell_type": "code",
      "execution_count": null,
      "metadata": {
        "id": "4k-Dd_PM5W4Y",
        "outputId": "45bb5eb0-4636-4620-b94e-cdfc47ca6dda"
      },
      "outputs": [
        {
          "name": "stdout",
          "output_type": "stream",
          "text": [
            "p-value: 0.257\n",
            "Perbedaan Relatif: 0.921\n",
            "Hipotesis nol ditolak: ada perbedaan statistik secara signifikan antara sampel A filter dengan sample B filter\n"
          ]
        }
      ],
      "source": [
        "# Temukan signifikansi statistik perbedaan ukuran pesanan rata-rata antar kelompok menggunakan data yang telah difilter. \n",
        "# Buatlah kesimpulan dan asumsinya.\n",
        "\n",
        "alpha = 0.5\n",
        "\n",
        "results = st.mannwhitneyu(sample_a_orders_filter, sample_b_orders_filter)\n",
        "print('p-value: {0:.3f}'.format(results.pvalue))\n",
        "print('Perbedaan Relatif: {0:.3f}'.format(sample_b_orders_filter.mean()/sample_a_orders_filter.mean()-1))\n",
        "\n",
        "if (results.pvalue < alpha):\n",
        "    print('Hipotesis nol ditolak: ada perbedaan statistik secara signifikan antara sampel A filter dengan sample B filter')\n",
        "else:\n",
        "    print('Hipotesis nol gagal ditolak: tidak ada perbedaan statistik secara signifikan antara sampel A filter dengan sample B filter')"
      ]
    },
    {
      "cell_type": "markdown",
      "metadata": {
        "id": "YJEjGq6O5W4Y"
      },
      "source": [
        "Kesimpulan:\n",
        "\n",
        "Bahwa untuk data ukuran pesanan rata-rata antar kelompok seteleh difilter ada perbedaan yang cukup signifikan. Dan ada perbedaan relatif untuk ukuran pesanan rata-rata seteleh difilter kelompok B yang lebih besar 92,1% dibanding kelompok A. "
      ]
    },
    {
      "cell_type": "markdown",
      "metadata": {
        "id": "4rGBa57M5W4Z"
      },
      "source": [
        "## Kesimpulan dan Keputusan"
      ]
    },
    {
      "cell_type": "markdown",
      "metadata": {
        "id": "2U2HPRRp5W4Z"
      },
      "source": [
        "### Kesimpulan"
      ]
    },
    {
      "cell_type": "markdown",
      "metadata": {
        "id": "26FxaYsK5W4Z"
      },
      "source": [
        "Kesimpulan yang didapatkan bahwa pendapatan kumulatif, ukuran pesanan rata-rata kumulatif,  perbedaan relatif untuk ukuran pesanan rata-rata kumulatif, tingkat konversi setiap kelompok sebagai rasio pesanan terhadap jumlah kunjungan setiap hari kelompok B telah memimpin dibanding kelompok A.\n",
        "\n",
        "Kesimpulan yang didapatkan bahwa jumlah pesanan untuk setiap pengguna bahwa pesanan dengan jumlah 1 adalah yang terbanyak sementara pesanan dengan jumlah 2 diurutan kedua, hal itu dibuktikan dengan scatter plot. Sementara untuk persentil 95% adalah 2 dan persentil 99% adalah 4. Keputusan untuk menganggap anomali adalah jika pesanan lebih 2 (menggunakan 95%) dengan menganalisa hitungan persentil dan melihat distribusi diagram scatter plot.\n",
        "\n",
        "Kesimpulan yang didapatkan bahwa jumlah harga pesanan untuk setiap pembelian didominasi dengan pembelian harga dibawah 500, hal itu dibuktikan dengan scatter plot. Sementara untuk persentil 95% adalah 435.54 dan persentil 99% adalah 900.904. Keputusan untuk menggap anomali adalah jika harga pesanan lebih dari 435.54 (menggunakan 95%) dengan menganalisa hitungan persentil dan melihat distribusi diagram scatter plot.\n",
        "\n",
        "Untuk uji hipotesis signifikansi statistik perbedaan konversi antar kelompok menggunakan data mentah bahwa  untuk data mentah dimana konversi setiap kelompok sebagai rasio pesanan terhadap jumlah kunjungan ada perbedaan yang cukup signifikan. Dan ada perbedaan relatif untuk rasion pesanan terhadap jumlah kunjungan untuk kelompok B yang lebih banyak sebesar 13,8% dibanding kelompok A.\n",
        "\n",
        "Untuk uji hipotesis signifikansi ukuran pesanan rata-rata antar kelompok menggunakan data mentah tidak ada perbedaan yang cukup signifikan. Dan ada perbedaan relatif untuk ukuran pesanan rata-rata kelompok B yang lebih besar 25,2% dibanding kelompok A. \n",
        "\n",
        "Untuk uji hipotesis signifikansi konversi setiap kelompok sebagai rasio pesanan terhadap jumlah kunjungan yang telah difilter ada perbedaan yang cukup signifikan. Dan ada perbedaan relatif untuk rasion pesanan terhadap jumlah kunjungan yang telah difilter untuk kelompok B yang lebih banyak sebesar 17,1% dibanding kelompok A.\n",
        "\n",
        "Untuk uji hipotesis signifikansi untuk data ukuran pesanan rata-rata antar kelompok seteleh difilter ada perbedaan yang cukup signifikan. Dan ada perbedaan relatif untuk ukuran pesanan rata-rata seteleh difilter kelompok B yang lebih besar 92,1% dibanding kelompok A. "
      ]
    },
    {
      "cell_type": "markdown",
      "metadata": {
        "id": "ZymyVHRK5W4a"
      },
      "source": [
        "### Keputusan"
      ]
    },
    {
      "cell_type": "markdown",
      "metadata": {
        "id": "oD93DzIu5W4b"
      },
      "source": [
        "Keputusan yang diambil bahwa sebaiknya menghentikan pengujiannya, dan memilih kelompok B sebagai pemimpin. Hal ini dibuktukan dengan meilhat histori lineplot selama 1 bulan penuh yang dimulai pada tanggal 1 Agustus 2019 sampai 1 September 2019 baik pendapatan kumulatif berdasarkan kelompok dan ukuran pesanan rata-rata kumulatif berdasarkan kelompok.\n",
        "\n",
        "Serta, berdasarkan uji hipotesis signifikansi bahwa kelompok B dan A mempunyai perbedaan yang cukup signifikan secara statistik baik uji signifikansi perbedaan konversi antar kelompok menggunakan data mentah,maupun signifikansi perbedaan konversi antar kelompok menggunakan data yang telah difilter.\n",
        "\n",
        "Saat uji hipotesis signifikansi secara statistik perbedaan ukuran pesanan rata-rata antar kelompok menggunakan data mentah, bahwa tidak ada perbedaan signifikan secara statistik untuk Kelompok B dan A. Dan ketika datanya telah difilter bahwa ada perbedaan yang cukup signifikan secara statistik untuk Kelompok B dan A.\n",
        "\n",
        "Artinya bahwa kelompok B dianggap sukses untuk konversi pesanan terhadap kunjungan baik menggunakan data mentah dan difilter untuk sukses untuk perbedaan ukuran pesanan rata-rata data yang telah difilter."
      ]
    },
    {
      "cell_type": "markdown",
      "metadata": {
        "id": "6QqTvOpF5W4b"
      },
      "source": [
        "<div class=\"alert alert-block alert-success\">\n",
        "\n",
        "# General comments #1\n",
        "<b>Reviewer's comment</b> <a class=\"tocSkip\"></a> \n",
        "\n",
        "Good Job Ariq! Sebagian besar kamu telah menyelesaikan project ini dengan baik dan tidak ada revisi yak!\n",
        "    \n",
        "Keep going Ariq, you are doing very well!\n",
        "    \n",
        "\n",
        "</div>"
      ]
    },
    {
      "cell_type": "code",
      "execution_count": null,
      "metadata": {
        "id": "y7rOoC8w5W4c"
      },
      "outputs": [],
      "source": []
    }
  ],
  "metadata": {
    "kernelspec": {
      "display_name": "Python 3 (ipykernel)",
      "language": "python",
      "name": "python3"
    },
    "language_info": {
      "codemirror_mode": {
        "name": "ipython",
        "version": 3
      },
      "file_extension": ".py",
      "mimetype": "text/x-python",
      "name": "python",
      "nbconvert_exporter": "python",
      "pygments_lexer": "ipython3",
      "version": "3.9.5"
    },
    "toc": {
      "base_numbering": 1,
      "nav_menu": {},
      "number_sections": true,
      "sideBar": true,
      "skip_h1_title": true,
      "title_cell": "Table of Contents",
      "title_sidebar": "Contents",
      "toc_cell": false,
      "toc_position": {
        "height": "calc(100% - 180px)",
        "left": "10px",
        "top": "150px",
        "width": "255.4px"
      },
      "toc_section_display": true,
      "toc_window_display": true
    },
    "colab": {
      "provenance": []
    }
  },
  "nbformat": 4,
  "nbformat_minor": 0
}