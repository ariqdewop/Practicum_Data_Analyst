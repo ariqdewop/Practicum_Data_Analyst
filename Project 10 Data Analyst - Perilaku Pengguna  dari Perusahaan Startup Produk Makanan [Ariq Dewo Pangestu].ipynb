{
  "cells": [
    {
      "cell_type": "markdown",
      "metadata": {
        "id": "lMQVrwxn7IUU"
      },
      "source": [
        "# Daftar Isi\n",
        "\n",
        "- [Daftar Isi](#daftar_isi)\n",
        "- [Pendahuluan](#pendahuluan)\n",
        "- [Pengantar Proyek](#pengantar_proyek)\n",
        "- [Tujuan Proyek](#tujuan_proyek)\n",
        "- [Tahapan Proyek](#tahapan_proyek)\n",
        "- [Memuat seluruh Library dan Membaca filenya](#1)\n",
        "- [Pra-Pemrosesan Data](#2)\n",
        "- [Analisis Data](#3)\n",
        "    - [Pelajari dan periksa datanya](#31)\n",
        "    - [Pelajari corong peristiwanya](#32)\n",
        "    - [Pelajari hasil eksperimen Anda](#33)\n",
        "- [Kesimpulan](#4)"
      ]
    },
    {
      "cell_type": "markdown",
      "metadata": {
        "id": "lG9hEHzm7IUV"
      },
      "source": [
        "# Pendahuluan\n",
        "\n",
        "Setiap kali kita melakukan penelitian, kita memerlukan analisa secara menyeluruh dengan seksama. Untuk membuat keputusan yang tepat, sebuah bisnis harus dapat memahami apakah analisa yang dibuatnya benar atau tidak.\n",
        "\n",
        "Dalam proyek ini, mencari tahu tentang perilaku pengguna aplikasi pada perusahaan starup yang fokus menjual produk makanan. Para web designer ingin mengubah font untuk keseluruhan aplikasi, tetapi para manajer merasa khawatir jika para pengguna akan merasa bahwa desain baru tersebut justru mengganggu. Mereka pun memutuskan untuk mengambil keputusan berdasarkan hasil A/A/B testing.\n",
        "\n",
        "Para pengguna dibagi menjadi tiga kelompok: dua kelompok kontrol diperlihatkan dengan versi font lama dan satu kelompok uji diperlihatkan dengan versi font baru. Temukan font manakah yang akan memberi hasil terbaik.\n",
        "\n",
        "Membuat dua kelompok A (kontrol) memang memberikan keuntungan tertentu. Kita bisa menetapkan aturan bahwa keakuratan pengujian hanya akan diterima jika kedua kelompok kontrol memberikan hasil yang serupa. Jika terdapat perbedaan yang signifikan di antara kedua kelompok A, hal ini dapat membantu kita untuk mengidentifikasi faktor-faktor yang mungkin mendistorsi hasil yang kita peroleh. Membandingkan kelompok kontrol juga akan memberikan kita gambaran terkait berapa lama waktu dan data yang diperlukan saat menjalankan proses selanjutnya."
      ]
    },
    {
      "cell_type": "markdown",
      "metadata": {
        "id": "mg7WvVw97IUW"
      },
      "source": [
        "# Pengantar Proyek\n",
        "\n",
        "Anda bekerja di sebuah startup yang menjual produk makanan. Anda perlu mencari tahu perilaku pengguna aplikasi dari perusahaan tersebut.\n",
        "\n",
        "Pertama-tama, cobalah untuk mempelajari terlebih dahulu corong penjualannya. Temukan bagaimana pengguna bisa mencapai tahap pembelian. Berapa banyak pengguna yang benar-benar berhasil mencapai tahap pembelian? Berapa banyak pengguna yang terhenti pada tahap sebelumnya? Pada tahap manakah itu?\n",
        "\n",
        "Kemudian, lihatlah hasil dari A/A/B testing (Baca terus untuk mengetahui informasi lebih lanjut tentang A/A/B testing). Para web designer ingin mengubah font untuk keseluruhan aplikasi, tetapi para manajer merasa khawatir jika para pengguna akan merasa bahwa desain baru tersebut justru mengganggu. Mereka pun memutuskan untuk mengambil keputusan berdasarkan hasil A/A/B testing.\n",
        "\n",
        "Para pengguna dibagi menjadi tiga kelompok: dua kelompok kontrol diperlihatkan dengan versi font lama dan satu kelompok uji diperlihatkan dengan versi font baru. Temukan font manakah yang akan memberi hasil terbaik.\n",
        "\n",
        "Membuat dua kelompok A (kontrol) memang memberikan keuntungan tertentu. Kita bisa menetapkan aturan bahwa keakuratan pengujian hanya akan diterima jika kedua kelompok kontrol memberikan hasil yang serupa. Jika terdapat perbedaan yang signifikan di antara kedua kelompok A, hal ini dapat membantu kita untuk mengidentifikasi faktor-faktor yang mungkin mendistorsi hasil yang kita peroleh. Membandingkan kelompok kontrol juga akan memberikan kita gambaran terkait berapa lama waktu dan data yang diperlukan saat menjalankan proses selanjutnya.\n",
        "\n",
        "Anda akan menggunakan dataset yang sama untuk melakukan analisis reguler dan untuk melakukan analisis A/A/B. Pada proyek dunia nyata, eksperimen seperti ini dilakukan secara rutin. Analis mempelajari kualitas aplikasi dengan data umum, tanpa memperhatikan apakah pengguna berpartisipasi dalam eksperimen atau tidak."
      ]
    },
    {
      "cell_type": "markdown",
      "metadata": {
        "id": "d0_wn2hG7IUX"
      },
      "source": [
        "# Tujuan Proyek\n",
        "\n",
        "Ingin meningkatkan penjualan produk makanan dengan menggunakan font untuk keseluruhan aplikasi."
      ]
    },
    {
      "cell_type": "markdown",
      "metadata": {
        "id": "5kyVAtA77IUX"
      },
      "source": [
        "# Tahapan Proyek\n",
        "\n",
        "Ada file yang akan dianalisa, yaitu `/datasets/logs_exp_us.csv` dengan format:\n",
        "- `EventName` — nama peristiwa\n",
        "- `DeviceIDHash` — ID unik pengguna\n",
        "- `EventTimestamp` — waktu peristiwa\n",
        "- `ExpId` — jumlah eksperimen: 246 dan 247 adalah kelompok kontrol, 248 adalah kelompok uji\n",
        "\n",
        "Lalu melakukan pra-pemrosesan data sebelum dianalisa, setelah itu maka akan langsung di analisa beberap poin, yaitu:\n",
        "- Mempelajari, Periksa dan Analisa datanya\n",
        "- Mempelajari, Periksa dan Analisa peristiwanya\n",
        "- Mempelajari, Periksa, Analisa dan Uji data serta menjelaskan hasil dari uji eksperimen data dan peristiwanya"
      ]
    },
    {
      "cell_type": "markdown",
      "metadata": {
        "id": "UnXPukG57IUi"
      },
      "source": [
        "## Memuat seluruh Library dan Membaca filenya"
      ]
    },
    {
      "cell_type": "code",
      "execution_count": null,
      "metadata": {
        "id": "5e8OI1hm7IUi"
      },
      "outputs": [],
      "source": [
        "# Membuat semua Libary\n",
        "import pandas as pd, numpy as np\n",
        "# Memuat Data Visualisasi\n",
        "import matplotlib.pyplot as plt, seaborn as sns\n",
        "# Membuat Uji Statistik\n",
        "import scipy.stats as st\n",
        "import math\n",
        "# Menyembunyikan warning\n",
        "import warnings"
      ]
    },
    {
      "cell_type": "code",
      "execution_count": null,
      "metadata": {
        "id": "PS8mdngW7IUj"
      },
      "outputs": [],
      "source": [
        "# Membuat set kolom untuk kolom bisa dibaca jika panjang\n",
        "pd.set_option('display.max_columns', 100)\n",
        "# Membuat warning untuk di abaikan dan disembunyikan\n",
        "warnings.filterwarnings('ignore')"
      ]
    },
    {
      "cell_type": "code",
      "execution_count": null,
      "metadata": {
        "id": "x9rDfpJO7IUk"
      },
      "outputs": [],
      "source": [
        "# Memuat file tabel tindakan pengguna atau suatu peristiwa\n",
        "df_logs = pd.read_csv('/datasets/logs_exp_us.csv', delimiter='\\t')"
      ]
    },
    {
      "cell_type": "code",
      "execution_count": null,
      "metadata": {
        "id": "FyClzOVS7IUk",
        "outputId": "932451ae-0494-4b1e-ec33-0b2efc4fec37"
      },
      "outputs": [
        {
          "data": {
            "text/html": [
              "<div>\n",
              "<style scoped>\n",
              "    .dataframe tbody tr th:only-of-type {\n",
              "        vertical-align: middle;\n",
              "    }\n",
              "\n",
              "    .dataframe tbody tr th {\n",
              "        vertical-align: top;\n",
              "    }\n",
              "\n",
              "    .dataframe thead th {\n",
              "        text-align: right;\n",
              "    }\n",
              "</style>\n",
              "<table border=\"1\" class=\"dataframe\">\n",
              "  <thead>\n",
              "    <tr style=\"text-align: right;\">\n",
              "      <th></th>\n",
              "      <th>EventName</th>\n",
              "      <th>DeviceIDHash</th>\n",
              "      <th>EventTimestamp</th>\n",
              "      <th>ExpId</th>\n",
              "    </tr>\n",
              "  </thead>\n",
              "  <tbody>\n",
              "    <tr>\n",
              "      <th>0</th>\n",
              "      <td>MainScreenAppear</td>\n",
              "      <td>4575588528974610257</td>\n",
              "      <td>1564029816</td>\n",
              "      <td>246</td>\n",
              "    </tr>\n",
              "    <tr>\n",
              "      <th>1</th>\n",
              "      <td>MainScreenAppear</td>\n",
              "      <td>7416695313311560658</td>\n",
              "      <td>1564053102</td>\n",
              "      <td>246</td>\n",
              "    </tr>\n",
              "    <tr>\n",
              "      <th>2</th>\n",
              "      <td>PaymentScreenSuccessful</td>\n",
              "      <td>3518123091307005509</td>\n",
              "      <td>1564054127</td>\n",
              "      <td>248</td>\n",
              "    </tr>\n",
              "    <tr>\n",
              "      <th>3</th>\n",
              "      <td>CartScreenAppear</td>\n",
              "      <td>3518123091307005509</td>\n",
              "      <td>1564054127</td>\n",
              "      <td>248</td>\n",
              "    </tr>\n",
              "    <tr>\n",
              "      <th>4</th>\n",
              "      <td>PaymentScreenSuccessful</td>\n",
              "      <td>6217807653094995999</td>\n",
              "      <td>1564055322</td>\n",
              "      <td>248</td>\n",
              "    </tr>\n",
              "    <tr>\n",
              "      <th>...</th>\n",
              "      <td>...</td>\n",
              "      <td>...</td>\n",
              "      <td>...</td>\n",
              "      <td>...</td>\n",
              "    </tr>\n",
              "    <tr>\n",
              "      <th>244121</th>\n",
              "      <td>MainScreenAppear</td>\n",
              "      <td>4599628364049201812</td>\n",
              "      <td>1565212345</td>\n",
              "      <td>247</td>\n",
              "    </tr>\n",
              "    <tr>\n",
              "      <th>244122</th>\n",
              "      <td>MainScreenAppear</td>\n",
              "      <td>5849806612437486590</td>\n",
              "      <td>1565212439</td>\n",
              "      <td>246</td>\n",
              "    </tr>\n",
              "    <tr>\n",
              "      <th>244123</th>\n",
              "      <td>MainScreenAppear</td>\n",
              "      <td>5746969938801999050</td>\n",
              "      <td>1565212483</td>\n",
              "      <td>246</td>\n",
              "    </tr>\n",
              "    <tr>\n",
              "      <th>244124</th>\n",
              "      <td>MainScreenAppear</td>\n",
              "      <td>5746969938801999050</td>\n",
              "      <td>1565212498</td>\n",
              "      <td>246</td>\n",
              "    </tr>\n",
              "    <tr>\n",
              "      <th>244125</th>\n",
              "      <td>OffersScreenAppear</td>\n",
              "      <td>5746969938801999050</td>\n",
              "      <td>1565212517</td>\n",
              "      <td>246</td>\n",
              "    </tr>\n",
              "  </tbody>\n",
              "</table>\n",
              "<p>244126 rows × 4 columns</p>\n",
              "</div>"
            ],
            "text/plain": [
              "                      EventName         DeviceIDHash  EventTimestamp  ExpId\n",
              "0              MainScreenAppear  4575588528974610257      1564029816    246\n",
              "1              MainScreenAppear  7416695313311560658      1564053102    246\n",
              "2       PaymentScreenSuccessful  3518123091307005509      1564054127    248\n",
              "3              CartScreenAppear  3518123091307005509      1564054127    248\n",
              "4       PaymentScreenSuccessful  6217807653094995999      1564055322    248\n",
              "...                         ...                  ...             ...    ...\n",
              "244121         MainScreenAppear  4599628364049201812      1565212345    247\n",
              "244122         MainScreenAppear  5849806612437486590      1565212439    246\n",
              "244123         MainScreenAppear  5746969938801999050      1565212483    246\n",
              "244124         MainScreenAppear  5746969938801999050      1565212498    246\n",
              "244125       OffersScreenAppear  5746969938801999050      1565212517    246\n",
              "\n",
              "[244126 rows x 4 columns]"
            ]
          },
          "execution_count": 4,
          "metadata": {},
          "output_type": "execute_result"
        }
      ],
      "source": [
        "df_logs"
      ]
    },
    {
      "cell_type": "markdown",
      "metadata": {
        "id": "CD8pwTI57IUl"
      },
      "source": [
        "**Deskripsi Data**\n",
        "\n",
        "Tabel tindakan pengguna atau suatu peristiwa:\n",
        "\n",
        "- `EventName` — nama peristiwa\n",
        "- `DeviceIDHash` — ID unik pengguna\n",
        "- `EventTimestamp` — waktu peristiwa\n",
        "- `ExpId` — jumlah eksperimen: 246 dan 247 adalah kelompok kontrol, 248 adalah kelompok uji"
      ]
    },
    {
      "cell_type": "code",
      "execution_count": null,
      "metadata": {
        "id": "qHiwgtM_7IUm",
        "outputId": "637ac749-02ce-455c-d4e9-345cbbd3134c"
      },
      "outputs": [
        {
          "name": "stdout",
          "output_type": "stream",
          "text": [
            "<class 'pandas.core.frame.DataFrame'>\n",
            "RangeIndex: 244126 entries, 0 to 244125\n",
            "Data columns (total 4 columns):\n",
            " #   Column          Non-Null Count   Dtype \n",
            "---  ------          --------------   ----- \n",
            " 0   EventName       244126 non-null  object\n",
            " 1   DeviceIDHash    244126 non-null  int64 \n",
            " 2   EventTimestamp  244126 non-null  int64 \n",
            " 3   ExpId           244126 non-null  int64 \n",
            "dtypes: int64(3), object(1)\n",
            "memory usage: 7.5+ MB\n"
          ]
        }
      ],
      "source": [
        "# Melihat informasi keseluruhan pada tabel tindakan pengguna atau suatu peristiwa\n",
        "df_logs.info()"
      ]
    },
    {
      "cell_type": "code",
      "execution_count": null,
      "metadata": {
        "id": "wN9mdULc7IUm",
        "outputId": "c07f57ee-6ef9-4e6c-801f-6136fad088bd"
      },
      "outputs": [
        {
          "data": {
            "text/plain": [
              "EventName         0\n",
              "DeviceIDHash      0\n",
              "EventTimestamp    0\n",
              "ExpId             0\n",
              "dtype: int64"
            ]
          },
          "execution_count": 6,
          "metadata": {},
          "output_type": "execute_result"
        }
      ],
      "source": [
        "# Melihat nilai yang hilang pada tabel tindakan pengguna atau suatu peristiwa\n",
        "df_logs.isna().sum()"
      ]
    },
    {
      "cell_type": "code",
      "execution_count": null,
      "metadata": {
        "id": "05k76gR-7IUm",
        "outputId": "e7e7b481-280b-43d2-b4d2-7bf25bbca7c3"
      },
      "outputs": [
        {
          "data": {
            "text/plain": [
              "413"
            ]
          },
          "execution_count": 7,
          "metadata": {},
          "output_type": "execute_result"
        }
      ],
      "source": [
        "# Melihat nilai yang duplikasi pada tabel tindakan pengguna atau suatu peristiwa\n",
        "df_logs.duplicated().sum()"
      ]
    },
    {
      "cell_type": "markdown",
      "metadata": {
        "id": "RoIPQVR47IUn"
      },
      "source": [
        "Setelah melihat dan menganalisa tabel tindakan pengguna atau suatu peristiwa, maka didapatkan beberapa kesimpulan untuk tabel ini, yaitu:\n",
        "\n",
        "- Mempunyai masalah untuk nama kolom karena kapital dan tidak pemisahnya.\n",
        "- Mempunyai masalah untuk nilai duplikasi tetapi perlu analisa lebih lanjut apakah benar-benar duplikasi atau tidak.\n",
        "- Mempunyai masalah untuk tipe data pada kolom `EventTimeStamp` yang perlu di konversi menjadi waktu.\n",
        "- Tidak mempunyai masalah untuk nilai yang hilang. "
      ]
    },
    {
      "cell_type": "markdown",
      "metadata": {
        "id": "NyQTZZfm7IUn"
      },
      "source": [
        "## Pra-Pemrosesan Data"
      ]
    },
    {
      "cell_type": "markdown",
      "metadata": {
        "id": "8VhfbwTk7IUo"
      },
      "source": [
        "Sebelum tahap menganalisa, sebaiknya memperbaiki semua masalah pada tabel tindakan pengguna atau suatu peristiwa. Karena ada beberapa masalah yang nanti akan berdampak pada proses analisanya."
      ]
    },
    {
      "cell_type": "code",
      "execution_count": null,
      "metadata": {
        "id": "YMgvUkXi7IUo",
        "outputId": "aec5bafe-efc3-4c8a-a9dd-9f84d8a0d74c"
      },
      "outputs": [
        {
          "data": {
            "text/html": [
              "<div>\n",
              "<style scoped>\n",
              "    .dataframe tbody tr th:only-of-type {\n",
              "        vertical-align: middle;\n",
              "    }\n",
              "\n",
              "    .dataframe tbody tr th {\n",
              "        vertical-align: top;\n",
              "    }\n",
              "\n",
              "    .dataframe thead th {\n",
              "        text-align: right;\n",
              "    }\n",
              "</style>\n",
              "<table border=\"1\" class=\"dataframe\">\n",
              "  <thead>\n",
              "    <tr style=\"text-align: right;\">\n",
              "      <th></th>\n",
              "      <th>EventName</th>\n",
              "      <th>DeviceIDHash</th>\n",
              "      <th>EventTimestamp</th>\n",
              "      <th>ExpId</th>\n",
              "    </tr>\n",
              "  </thead>\n",
              "  <tbody>\n",
              "    <tr>\n",
              "      <th>453</th>\n",
              "      <td>MainScreenAppear</td>\n",
              "      <td>5613408041324010552</td>\n",
              "      <td>1564474784</td>\n",
              "      <td>248</td>\n",
              "    </tr>\n",
              "    <tr>\n",
              "      <th>2350</th>\n",
              "      <td>CartScreenAppear</td>\n",
              "      <td>1694940645335807244</td>\n",
              "      <td>1564609899</td>\n",
              "      <td>248</td>\n",
              "    </tr>\n",
              "    <tr>\n",
              "      <th>3573</th>\n",
              "      <td>MainScreenAppear</td>\n",
              "      <td>434103746454591587</td>\n",
              "      <td>1564628377</td>\n",
              "      <td>248</td>\n",
              "    </tr>\n",
              "    <tr>\n",
              "      <th>4076</th>\n",
              "      <td>MainScreenAppear</td>\n",
              "      <td>3761373764179762633</td>\n",
              "      <td>1564631266</td>\n",
              "      <td>247</td>\n",
              "    </tr>\n",
              "    <tr>\n",
              "      <th>4803</th>\n",
              "      <td>MainScreenAppear</td>\n",
              "      <td>2835328739789306622</td>\n",
              "      <td>1564634641</td>\n",
              "      <td>248</td>\n",
              "    </tr>\n",
              "    <tr>\n",
              "      <th>...</th>\n",
              "      <td>...</td>\n",
              "      <td>...</td>\n",
              "      <td>...</td>\n",
              "      <td>...</td>\n",
              "    </tr>\n",
              "    <tr>\n",
              "      <th>242329</th>\n",
              "      <td>MainScreenAppear</td>\n",
              "      <td>8870358373313968633</td>\n",
              "      <td>1565206004</td>\n",
              "      <td>247</td>\n",
              "    </tr>\n",
              "    <tr>\n",
              "      <th>242332</th>\n",
              "      <td>PaymentScreenSuccessful</td>\n",
              "      <td>4718002964983105693</td>\n",
              "      <td>1565206005</td>\n",
              "      <td>247</td>\n",
              "    </tr>\n",
              "    <tr>\n",
              "      <th>242360</th>\n",
              "      <td>PaymentScreenSuccessful</td>\n",
              "      <td>2382591782303281935</td>\n",
              "      <td>1565206049</td>\n",
              "      <td>246</td>\n",
              "    </tr>\n",
              "    <tr>\n",
              "      <th>242362</th>\n",
              "      <td>CartScreenAppear</td>\n",
              "      <td>2382591782303281935</td>\n",
              "      <td>1565206049</td>\n",
              "      <td>246</td>\n",
              "    </tr>\n",
              "    <tr>\n",
              "      <th>242635</th>\n",
              "      <td>MainScreenAppear</td>\n",
              "      <td>4097782667445790512</td>\n",
              "      <td>1565206618</td>\n",
              "      <td>246</td>\n",
              "    </tr>\n",
              "  </tbody>\n",
              "</table>\n",
              "<p>413 rows × 4 columns</p>\n",
              "</div>"
            ],
            "text/plain": [
              "                      EventName         DeviceIDHash  EventTimestamp  ExpId\n",
              "453            MainScreenAppear  5613408041324010552      1564474784    248\n",
              "2350           CartScreenAppear  1694940645335807244      1564609899    248\n",
              "3573           MainScreenAppear   434103746454591587      1564628377    248\n",
              "4076           MainScreenAppear  3761373764179762633      1564631266    247\n",
              "4803           MainScreenAppear  2835328739789306622      1564634641    248\n",
              "...                         ...                  ...             ...    ...\n",
              "242329         MainScreenAppear  8870358373313968633      1565206004    247\n",
              "242332  PaymentScreenSuccessful  4718002964983105693      1565206005    247\n",
              "242360  PaymentScreenSuccessful  2382591782303281935      1565206049    246\n",
              "242362         CartScreenAppear  2382591782303281935      1565206049    246\n",
              "242635         MainScreenAppear  4097782667445790512      1565206618    246\n",
              "\n",
              "[413 rows x 4 columns]"
            ]
          },
          "execution_count": 8,
          "metadata": {},
          "output_type": "execute_result"
        }
      ],
      "source": [
        "# Melihat nilai duplikasi pada tabel tindakan pengguna atau suatu peristiwa\n",
        "df_logs[df_logs.duplicated()]"
      ]
    },
    {
      "cell_type": "markdown",
      "metadata": {
        "id": "9RD4KIsp7IUo"
      },
      "source": [
        "Sepertinya untuk baris-baris ini tidak termasuk kategori duplikasi, kita contohkan saja pada baris `242360` dan `242362` bahwa jenis device berdasarkan id, waktu kejadian sama. Mungkin kita bisa berpikir kalau sebenarnya user ini ada yang tertinggal dengan barang yang ingin di beli setelah melakukan pembayaran, jadi dia balik lagi ke menu cart dengan catatan waktu hanya sepersekian milidetik setelah pembayaran sukses dilakukan.\n",
        "\n",
        "Intinya, bahwa mungkin user-user ini melakukan perpindahan halaman dari satu ke halaman lainnya dengan waktu yang sangat singkat. Sehingga kita menyatakan bahwa data ini tidak duplikasi dan akan dibiarkan begitu saja."
      ]
    },
    {
      "cell_type": "code",
      "execution_count": null,
      "metadata": {
        "id": "SpmdnlSz7IUp"
      },
      "outputs": [],
      "source": [
        "# mengganti nama kolom pada tabel tindakan pengguna atau suatu peristiwa\n",
        "df_logs.columns = ['event_name', 'device_id_hash', 'event_time_stamp', 'exp_id']"
      ]
    },
    {
      "cell_type": "code",
      "execution_count": null,
      "metadata": {
        "id": "436gdHUa7IUq",
        "outputId": "cd0b6577-721b-4a85-e47e-bd034ac330e2"
      },
      "outputs": [
        {
          "data": {
            "text/html": [
              "<div>\n",
              "<style scoped>\n",
              "    .dataframe tbody tr th:only-of-type {\n",
              "        vertical-align: middle;\n",
              "    }\n",
              "\n",
              "    .dataframe tbody tr th {\n",
              "        vertical-align: top;\n",
              "    }\n",
              "\n",
              "    .dataframe thead th {\n",
              "        text-align: right;\n",
              "    }\n",
              "</style>\n",
              "<table border=\"1\" class=\"dataframe\">\n",
              "  <thead>\n",
              "    <tr style=\"text-align: right;\">\n",
              "      <th></th>\n",
              "      <th>event_name</th>\n",
              "      <th>device_id_hash</th>\n",
              "      <th>event_time_stamp</th>\n",
              "      <th>exp_id</th>\n",
              "    </tr>\n",
              "  </thead>\n",
              "  <tbody>\n",
              "    <tr>\n",
              "      <th>0</th>\n",
              "      <td>MainScreenAppear</td>\n",
              "      <td>4575588528974610257</td>\n",
              "      <td>1564029816</td>\n",
              "      <td>246</td>\n",
              "    </tr>\n",
              "    <tr>\n",
              "      <th>1</th>\n",
              "      <td>MainScreenAppear</td>\n",
              "      <td>7416695313311560658</td>\n",
              "      <td>1564053102</td>\n",
              "      <td>246</td>\n",
              "    </tr>\n",
              "    <tr>\n",
              "      <th>2</th>\n",
              "      <td>PaymentScreenSuccessful</td>\n",
              "      <td>3518123091307005509</td>\n",
              "      <td>1564054127</td>\n",
              "      <td>248</td>\n",
              "    </tr>\n",
              "    <tr>\n",
              "      <th>3</th>\n",
              "      <td>CartScreenAppear</td>\n",
              "      <td>3518123091307005509</td>\n",
              "      <td>1564054127</td>\n",
              "      <td>248</td>\n",
              "    </tr>\n",
              "    <tr>\n",
              "      <th>4</th>\n",
              "      <td>PaymentScreenSuccessful</td>\n",
              "      <td>6217807653094995999</td>\n",
              "      <td>1564055322</td>\n",
              "      <td>248</td>\n",
              "    </tr>\n",
              "  </tbody>\n",
              "</table>\n",
              "</div>"
            ],
            "text/plain": [
              "                event_name       device_id_hash  event_time_stamp  exp_id\n",
              "0         MainScreenAppear  4575588528974610257        1564029816     246\n",
              "1         MainScreenAppear  7416695313311560658        1564053102     246\n",
              "2  PaymentScreenSuccessful  3518123091307005509        1564054127     248\n",
              "3         CartScreenAppear  3518123091307005509        1564054127     248\n",
              "4  PaymentScreenSuccessful  6217807653094995999        1564055322     248"
            ]
          },
          "execution_count": 10,
          "metadata": {},
          "output_type": "execute_result"
        }
      ],
      "source": [
        "# melihat hasilnya\n",
        "df_logs.head()"
      ]
    },
    {
      "cell_type": "markdown",
      "metadata": {
        "id": "-QUuo0Ai7IUq"
      },
      "source": [
        "Untuk tahap selanjutnya yaitu mengkonversi waktu pada kolom `event_time_stamp` ke datetime tetapi tidak mengubah tipe kolom melainkan dengan membuat kolom baru untuk konversinya, lalu membuat kolom untuk membuat tanggal dan waktunya."
      ]
    },
    {
      "cell_type": "code",
      "execution_count": null,
      "metadata": {
        "id": "OuWn8r8R7IUs"
      },
      "outputs": [],
      "source": [
        "# Membuat kolom baru untuk mengkonversi kolom event_time_stamp ke datetime\n",
        "df_logs['event_datetime_stamp'] = pd.to_datetime(df_logs['event_time_stamp'], unit='s')"
      ]
    },
    {
      "cell_type": "code",
      "execution_count": null,
      "metadata": {
        "id": "usg3aN9c7IUt"
      },
      "outputs": [],
      "source": [
        "# Membuat kolom baru untuk mengidentifikasi tanggal dan waktu secara terpisah\n",
        "df_logs['event_date'] = df_logs['event_datetime_stamp'].dt.date"
      ]
    },
    {
      "cell_type": "code",
      "execution_count": null,
      "metadata": {
        "id": "UtaqIDh87IUt"
      },
      "outputs": [],
      "source": [
        "# Mengkonversi kolom event_date dan event_time ke datetime\n",
        "df_logs['event_date'] = pd.to_datetime(df_logs['event_date'], format='%Y-%m-%d')"
      ]
    },
    {
      "cell_type": "code",
      "execution_count": null,
      "metadata": {
        "id": "eKuxCmXb7IUu",
        "outputId": "e0763fe8-99c2-4a83-9faa-bfc4b262afc7"
      },
      "outputs": [
        {
          "name": "stdout",
          "output_type": "stream",
          "text": [
            "<class 'pandas.core.frame.DataFrame'>\n",
            "RangeIndex: 244126 entries, 0 to 244125\n",
            "Data columns (total 6 columns):\n",
            " #   Column                Non-Null Count   Dtype         \n",
            "---  ------                --------------   -----         \n",
            " 0   event_name            244126 non-null  object        \n",
            " 1   device_id_hash        244126 non-null  int64         \n",
            " 2   event_time_stamp      244126 non-null  int64         \n",
            " 3   exp_id                244126 non-null  int64         \n",
            " 4   event_datetime_stamp  244126 non-null  datetime64[ns]\n",
            " 5   event_date            244126 non-null  datetime64[ns]\n",
            "dtypes: datetime64[ns](2), int64(3), object(1)\n",
            "memory usage: 11.2+ MB\n"
          ]
        }
      ],
      "source": [
        "# melihat hasilnya\n",
        "df_logs.info()"
      ]
    },
    {
      "cell_type": "code",
      "execution_count": null,
      "metadata": {
        "id": "_kJnZY9Z7IUu",
        "outputId": "fca349c8-15d9-4289-8cd3-5c973aa10c8b"
      },
      "outputs": [
        {
          "data": {
            "text/html": [
              "<div>\n",
              "<style scoped>\n",
              "    .dataframe tbody tr th:only-of-type {\n",
              "        vertical-align: middle;\n",
              "    }\n",
              "\n",
              "    .dataframe tbody tr th {\n",
              "        vertical-align: top;\n",
              "    }\n",
              "\n",
              "    .dataframe thead th {\n",
              "        text-align: right;\n",
              "    }\n",
              "</style>\n",
              "<table border=\"1\" class=\"dataframe\">\n",
              "  <thead>\n",
              "    <tr style=\"text-align: right;\">\n",
              "      <th></th>\n",
              "      <th>event_name</th>\n",
              "      <th>device_id_hash</th>\n",
              "      <th>event_time_stamp</th>\n",
              "      <th>exp_id</th>\n",
              "      <th>event_datetime_stamp</th>\n",
              "      <th>event_date</th>\n",
              "    </tr>\n",
              "  </thead>\n",
              "  <tbody>\n",
              "    <tr>\n",
              "      <th>0</th>\n",
              "      <td>MainScreenAppear</td>\n",
              "      <td>4575588528974610257</td>\n",
              "      <td>1564029816</td>\n",
              "      <td>246</td>\n",
              "      <td>2019-07-25 04:43:36</td>\n",
              "      <td>2019-07-25</td>\n",
              "    </tr>\n",
              "    <tr>\n",
              "      <th>1</th>\n",
              "      <td>MainScreenAppear</td>\n",
              "      <td>7416695313311560658</td>\n",
              "      <td>1564053102</td>\n",
              "      <td>246</td>\n",
              "      <td>2019-07-25 11:11:42</td>\n",
              "      <td>2019-07-25</td>\n",
              "    </tr>\n",
              "    <tr>\n",
              "      <th>2</th>\n",
              "      <td>PaymentScreenSuccessful</td>\n",
              "      <td>3518123091307005509</td>\n",
              "      <td>1564054127</td>\n",
              "      <td>248</td>\n",
              "      <td>2019-07-25 11:28:47</td>\n",
              "      <td>2019-07-25</td>\n",
              "    </tr>\n",
              "    <tr>\n",
              "      <th>3</th>\n",
              "      <td>CartScreenAppear</td>\n",
              "      <td>3518123091307005509</td>\n",
              "      <td>1564054127</td>\n",
              "      <td>248</td>\n",
              "      <td>2019-07-25 11:28:47</td>\n",
              "      <td>2019-07-25</td>\n",
              "    </tr>\n",
              "    <tr>\n",
              "      <th>4</th>\n",
              "      <td>PaymentScreenSuccessful</td>\n",
              "      <td>6217807653094995999</td>\n",
              "      <td>1564055322</td>\n",
              "      <td>248</td>\n",
              "      <td>2019-07-25 11:48:42</td>\n",
              "      <td>2019-07-25</td>\n",
              "    </tr>\n",
              "  </tbody>\n",
              "</table>\n",
              "</div>"
            ],
            "text/plain": [
              "                event_name       device_id_hash  event_time_stamp  exp_id  \\\n",
              "0         MainScreenAppear  4575588528974610257        1564029816     246   \n",
              "1         MainScreenAppear  7416695313311560658        1564053102     246   \n",
              "2  PaymentScreenSuccessful  3518123091307005509        1564054127     248   \n",
              "3         CartScreenAppear  3518123091307005509        1564054127     248   \n",
              "4  PaymentScreenSuccessful  6217807653094995999        1564055322     248   \n",
              "\n",
              "  event_datetime_stamp event_date  \n",
              "0  2019-07-25 04:43:36 2019-07-25  \n",
              "1  2019-07-25 11:11:42 2019-07-25  \n",
              "2  2019-07-25 11:28:47 2019-07-25  \n",
              "3  2019-07-25 11:28:47 2019-07-25  \n",
              "4  2019-07-25 11:48:42 2019-07-25  "
            ]
          },
          "execution_count": 15,
          "metadata": {},
          "output_type": "execute_result"
        }
      ],
      "source": [
        "# melihat hasilnya\n",
        "df_logs.head()"
      ]
    },
    {
      "cell_type": "markdown",
      "metadata": {
        "id": "EY3PrbPC7IUv"
      },
      "source": [
        "Semua perbaikan data yang dibutuhkan sudah dilakukan, sekarang tinggal melakukan tahap selanjutnya yaitu analisis data untuk menjawab permasalahan ini."
      ]
    },
    {
      "cell_type": "markdown",
      "metadata": {
        "id": "pHse-Xw27IUv"
      },
      "source": [
        "## Analisis Data"
      ]
    },
    {
      "cell_type": "markdown",
      "metadata": {
        "id": "1CkgfgNY7IUv"
      },
      "source": [
        "### Pelajari dan periksa datanya"
      ]
    },
    {
      "cell_type": "markdown",
      "metadata": {
        "id": "gO-RH0eW7IUw"
      },
      "source": [
        "- Berapa banyak peristiwa yang ada dalam log?\n",
        "- Berapa banyak pengguna yang ada dalam log?\n",
        "- Berapa jumlah rata-rata peristiwa per pengguna?\n",
        "- Periode waktu manakah yang dicakup oleh data? Temukan tanggal maksimum dan minimumnya. Buatlah sebuah histogram berdasarkan tanggal dan waktu. Bisakah Anda memastikan bahwa data yang Anda miliki sama lengkapnya untuk seluruh periode? Peristiwa terdahulu bisa saja muncul dalam log beberapa pengguna karena alasan teknis, dan ini bisa mengacaukan gambaran secara keseluruhan. Temukan momen ketika data mulai dirasa lengkap dan abaikan data lama tersebut. Periode manakah yang benar-benar diwakili oleh data tersebut?\n",
        "- Apakah Anda kehilangan banyak peristiwa dan pengguna saat menyingkirkan data lama?\n",
        "- Pastikan Anda memiliki pengguna dari ketiga kelompok eksperimen."
      ]
    },
    {
      "cell_type": "markdown",
      "metadata": {
        "id": "tbvocIFp7IUx"
      },
      "source": [
        "# Berapa banyak peristiwa yang ada dalam log?"
      ]
    },
    {
      "cell_type": "code",
      "execution_count": null,
      "metadata": {
        "id": "0NW4WrZz7IUy",
        "outputId": "7afc9d1a-039f-448d-8229-440d422a1d04"
      },
      "outputs": [
        {
          "name": "stdout",
          "output_type": "stream",
          "text": [
            "Jenis Peristiwa dalam tindakan pengguna atau suatu peristiwa yaitu: ['MainScreenAppear' 'PaymentScreenSuccessful' 'CartScreenAppear'\n",
            " 'OffersScreenAppear' 'Tutorial']\n",
            "\n",
            "Jumlah peristiwa dalam tindakan pengguna atau suatu peristiwa sebanyak 244126 kejadian.\n"
          ]
        }
      ],
      "source": [
        "# Berapa banyak peristiwa yang ada dalam log?\n",
        "\n",
        "print('Jenis Peristiwa dalam tindakan pengguna atau suatu peristiwa yaitu:', df_logs['event_name'].unique())\n",
        "print()\n",
        "print('Jumlah peristiwa dalam tindakan pengguna atau suatu peristiwa sebanyak', df_logs['device_id_hash'].count(), 'kejadian.')"
      ]
    },
    {
      "cell_type": "markdown",
      "metadata": {
        "id": "zkEdk3tA7IUy"
      },
      "source": [
        "# Berapa banyak pengguna yang ada dalam log?"
      ]
    },
    {
      "cell_type": "code",
      "execution_count": null,
      "metadata": {
        "id": "8s1a3ca87IUz",
        "outputId": "5023a69f-e0ef-4346-a0fe-02ee0a157c8a"
      },
      "outputs": [
        {
          "name": "stdout",
          "output_type": "stream",
          "text": [
            "Banyak pengguna yang ada didalam log yaitu sebanyak 7551 pengguna.\n"
          ]
        }
      ],
      "source": [
        "# Berapa banyak pengguna yang ada dalam log?\n",
        "\n",
        "print('Banyak pengguna yang ada didalam log yaitu sebanyak', len(df_logs['device_id_hash'].unique()), 'pengguna.')"
      ]
    },
    {
      "cell_type": "markdown",
      "metadata": {
        "id": "XmeWbVu87IUz"
      },
      "source": [
        "# Berapa jumlah rata-rata peristiwa per pengguna?"
      ]
    },
    {
      "cell_type": "code",
      "execution_count": null,
      "metadata": {
        "id": "YQRy5f-z7IU1",
        "outputId": "6fb07805-1193-43a8-97dc-deba28862eed"
      },
      "outputs": [
        {
          "name": "stdout",
          "output_type": "stream",
          "text": [
            "Jumlah rata-rata peristiwa per-pengguna adalah 32 peristiwa per-pengguna\n"
          ]
        }
      ],
      "source": [
        "# Berapa jumlah rata-rata peristiwa per pengguna?\n",
        "\n",
        "print('Jumlah rata-rata peristiwa per-pengguna adalah {0:.0f} peristiwa per-pengguna'.format(df_logs['device_id_hash'].count() / len(df_logs['device_id_hash'].unique())))"
      ]
    },
    {
      "cell_type": "markdown",
      "metadata": {
        "id": "DYhKzcDD7IU1"
      },
      "source": [
        "# Periode waktu manakah yang dicakup oleh data? Temukan tanggal maksimum dan minimumnya."
      ]
    },
    {
      "cell_type": "code",
      "execution_count": null,
      "metadata": {
        "id": "7cMMhkvP7IU2",
        "outputId": "6dad3ae1-4fff-4ec5-f33a-30bae09fd99b"
      },
      "outputs": [
        {
          "name": "stdout",
          "output_type": "stream",
          "text": [
            "Tanggal minimum dan maksimumnya yaitu: 2019-07-25 00:00:00 dan 2019-08-07 00:00:00\n"
          ]
        }
      ],
      "source": [
        "# Periode waktu manakah yang dicakup oleh data? Temukan tanggal maksimum dan minimumnya.\n",
        "\n",
        "print('Tanggal minimum dan maksimumnya yaitu:', df_logs['event_date'].min(), 'dan', df_logs['event_date'].max())"
      ]
    },
    {
      "cell_type": "markdown",
      "metadata": {
        "id": "NFPpbCW07IU2"
      },
      "source": [
        "# Buatlah sebuah histogram berdasarkan tanggal dan waktu. Bisakah Anda memastikan bahwa data yang Anda miliki sama lengkapnya untuk seluruh periode? Peristiwa terdahulu bisa saja muncul dalam log beberapa pengguna karena alasan teknis, dan ini bisa mengacaukan gambaran secara keseluruhan. Temukan momen ketika data mulai dirasa lengkap dan abaikan data lama tersebut. Periode manakah yang benar-benar diwakili oleh data tersebut?"
      ]
    },
    {
      "cell_type": "code",
      "execution_count": null,
      "metadata": {
        "id": "QKLZCjF17IU2",
        "outputId": "93338af4-7632-4a9f-e967-f47a60163113"
      },
      "outputs": [
        {
          "data": {
            "text/html": [
              "<div>\n",
              "<style scoped>\n",
              "    .dataframe tbody tr th:only-of-type {\n",
              "        vertical-align: middle;\n",
              "    }\n",
              "\n",
              "    .dataframe tbody tr th {\n",
              "        vertical-align: top;\n",
              "    }\n",
              "\n",
              "    .dataframe thead th {\n",
              "        text-align: right;\n",
              "    }\n",
              "</style>\n",
              "<table border=\"1\" class=\"dataframe\">\n",
              "  <thead>\n",
              "    <tr style=\"text-align: right;\">\n",
              "      <th></th>\n",
              "      <th>event_date</th>\n",
              "      <th>device_id_hash</th>\n",
              "    </tr>\n",
              "  </thead>\n",
              "  <tbody>\n",
              "    <tr>\n",
              "      <th>0</th>\n",
              "      <td>2019-07-25</td>\n",
              "      <td>9</td>\n",
              "    </tr>\n",
              "    <tr>\n",
              "      <th>1</th>\n",
              "      <td>2019-07-26</td>\n",
              "      <td>31</td>\n",
              "    </tr>\n",
              "    <tr>\n",
              "      <th>2</th>\n",
              "      <td>2019-07-27</td>\n",
              "      <td>55</td>\n",
              "    </tr>\n",
              "    <tr>\n",
              "      <th>3</th>\n",
              "      <td>2019-07-28</td>\n",
              "      <td>105</td>\n",
              "    </tr>\n",
              "    <tr>\n",
              "      <th>4</th>\n",
              "      <td>2019-07-29</td>\n",
              "      <td>184</td>\n",
              "    </tr>\n",
              "    <tr>\n",
              "      <th>5</th>\n",
              "      <td>2019-07-30</td>\n",
              "      <td>413</td>\n",
              "    </tr>\n",
              "    <tr>\n",
              "      <th>6</th>\n",
              "      <td>2019-07-31</td>\n",
              "      <td>2031</td>\n",
              "    </tr>\n",
              "    <tr>\n",
              "      <th>7</th>\n",
              "      <td>2019-08-01</td>\n",
              "      <td>36229</td>\n",
              "    </tr>\n",
              "    <tr>\n",
              "      <th>8</th>\n",
              "      <td>2019-08-02</td>\n",
              "      <td>35606</td>\n",
              "    </tr>\n",
              "    <tr>\n",
              "      <th>9</th>\n",
              "      <td>2019-08-03</td>\n",
              "      <td>33351</td>\n",
              "    </tr>\n",
              "    <tr>\n",
              "      <th>10</th>\n",
              "      <td>2019-08-04</td>\n",
              "      <td>33033</td>\n",
              "    </tr>\n",
              "    <tr>\n",
              "      <th>11</th>\n",
              "      <td>2019-08-05</td>\n",
              "      <td>36113</td>\n",
              "    </tr>\n",
              "    <tr>\n",
              "      <th>12</th>\n",
              "      <td>2019-08-06</td>\n",
              "      <td>35822</td>\n",
              "    </tr>\n",
              "    <tr>\n",
              "      <th>13</th>\n",
              "      <td>2019-08-07</td>\n",
              "      <td>31144</td>\n",
              "    </tr>\n",
              "  </tbody>\n",
              "</table>\n",
              "</div>"
            ],
            "text/plain": [
              "   event_date  device_id_hash\n",
              "0  2019-07-25               9\n",
              "1  2019-07-26              31\n",
              "2  2019-07-27              55\n",
              "3  2019-07-28             105\n",
              "4  2019-07-29             184\n",
              "5  2019-07-30             413\n",
              "6  2019-07-31            2031\n",
              "7  2019-08-01           36229\n",
              "8  2019-08-02           35606\n",
              "9  2019-08-03           33351\n",
              "10 2019-08-04           33033\n",
              "11 2019-08-05           36113\n",
              "12 2019-08-06           35822\n",
              "13 2019-08-07           31144"
            ]
          },
          "execution_count": 20,
          "metadata": {},
          "output_type": "execute_result"
        }
      ],
      "source": [
        "# Memfilter untuk melihat pengguna pada setiap tanggal selama periode berlangsung\n",
        "event_time_pivot = df_logs.pivot_table(index='event_date', values='device_id_hash', aggfunc='count').reset_index()\n",
        "event_time_pivot"
      ]
    },
    {
      "cell_type": "code",
      "execution_count": null,
      "metadata": {
        "id": "Sc9B_EEA7IU3",
        "outputId": "3df9fc3c-1057-46f4-c4cf-a4556de74751"
      },
      "outputs": [
        {
          "data": {
            "image/png": "[encoded data removed]",
            "text/plain": [
              "<Figure size 1296x576 with 1 Axes>"
            ]
          },
          "metadata": {
            "needs_background": "light"
          },
          "output_type": "display_data"
        }
      ],
      "source": [
        "# Membuat histogram berdasarkan tanggal dan waktu\n",
        "# Membuat ukuran grafiknya\n",
        "plt.figure(figsize=(18,8))\n",
        "# Membuat barplot dengan seaborn\n",
        "ax = sns.barplot(data=event_time_pivot,\n",
        "                 x='event_date',\n",
        "                 y='device_id_hash')\n",
        "# Menambahkan label untuk X, Y, dan Judul Grafik\n",
        "plt.title('Periode Waktu')\n",
        "plt.xlabel('Tanggal')\n",
        "plt.ylabel('Jumlah Pengguna')\n",
        "# Membuat tampilan untuk angka berdasarkan barplot\n",
        "for p in ax.patches:\n",
        "    ax.annotate(format(p.get_height(), '.0f'), \n",
        "                xy=(p.get_x() + p.get_width() / 2., p.get_height()), \n",
        "                ha = 'center', \n",
        "                va = 'center', \n",
        "                xytext = (0, 8), \n",
        "                textcoords = 'offset points')\n",
        "# label untuk X dibuat miring 45 derajat\n",
        "for item in ax.get_xticklabels():\n",
        "    item.set_rotation(45)\n",
        "# Menampilkan grafik    \n",
        "plt.show()"
      ]
    },
    {
      "cell_type": "markdown",
      "metadata": {
        "id": "ki5Ne7hQ7IU3"
      },
      "source": [
        "Kesimpulan:\n",
        "\n",
        "Setelah menganalisa jumlah pengguna berdasarkan tanggal dan membuat grafiknya bahwa pengguna pada tanggal 25 Agustus 2019 sampai 31 Agustus 2019 penggunanya sangatlah sedikit dibanding dengan pengguna pada tanggal 1 September 2019 sampai 7 Septermber 2019. Ada kemungkinan data ini mempunyai kesalahan teknis dalam penginputannya atau terjadi error atau bug. Periode yang dimana data sudah mulai stabil yaitu pada tanggal 1 September 2019 sampai 7 Septermber 2019 akan menjadi acuan untuk analisa pada tahap selanjutnya."
      ]
    },
    {
      "cell_type": "markdown",
      "metadata": {
        "id": "kx3RgeP-7IU5"
      },
      "source": [
        "# Apakah Anda kehilangan banyak peristiwa dan pengguna saat menyingkirkan data lama?"
      ]
    },
    {
      "cell_type": "markdown",
      "metadata": {
        "id": "MXTP3fZI7IU5"
      },
      "source": [
        "Karena untuk melakukan analisa lebih lanjut dan uji hipotesis, maka perlu memisahkan masing-masing data berdasarkan data yang error atau bug dan data yang sudah mulai stabil dengan variabel baru. Masing-masing varibel tersebut akan punya kegunaannya tersendiri."
      ]
    },
    {
      "cell_type": "code",
      "execution_count": null,
      "metadata": {
        "scrolled": false,
        "id": "RnHWFg5h7IU6"
      },
      "outputs": [],
      "source": [
        "# Apakah Anda kehilangan banyak peristiwa dan pengguna saat menyingkirkan data lama?\n",
        "\n",
        "# Membuat variabel untuk periode yang data penggunanya mulai stabil\n",
        "new_period = df_logs.query('event_date > \"2019-07-31\"')\n",
        "# Membuat variabel untuk periode yang data penggunanya ada kesalah teknis/error/bug\n",
        "old_period = df_logs.query('event_date < \"2019-08-01\"')\n",
        "# Membuat variabel untuk menghitung jumlah user secara keseluruhan\n",
        "total_users = df_logs['device_id_hash'].nunique()\n",
        "# Membuat variabel untuk menghitung jumlah kejadian secara keseluran\n",
        "total_events = df_logs['event_name'].count()\n",
        "# Membuat variabel untuk menghitung jumlah user yang sudah di filter dari new_period\n",
        "new_users = new_period['device_id_hash'].nunique()\n",
        "# Membuat variabel untuk menghitung jumlah kejadian yang sudah di filter dari new_period \n",
        "new_events = new_period['event_name'].count()"
      ]
    },
    {
      "cell_type": "code",
      "execution_count": null,
      "metadata": {
        "id": "7I954U-U7IU9",
        "outputId": "af0fda19-f6ac-41be-e092-3850de6ab793"
      },
      "outputs": [
        {
          "name": "stdout",
          "output_type": "stream",
          "text": [
            "Jumlah kehilangan pengguna setelah menyingkirkan data lama sebesar 17 pengguna.\n",
            "Jumlah presentase kehilangan pengguna setelah menyingkirkan data lama sebesar 0.23 persen.\n",
            "\n",
            "Jumlah kehilangan peristiwa setelah menyingkirkan data lama sebesar 2828 peristiwa.\n",
            "Jumlah presentase kehilangan pengguna setelah menyingkirkan data lama sebesar 1.16 persen.\n"
          ]
        }
      ],
      "source": [
        "# Apakah Anda kehilangan banyak peristiwa dan pengguna saat menyingkirkan data lama?\n",
        "# jumlah kehilangan pengguna dan presentasenya\n",
        "print('Jumlah kehilangan pengguna setelah menyingkirkan data lama sebesar {} pengguna.'.format((total_users - new_users)))\n",
        "print('Jumlah presentase kehilangan pengguna setelah menyingkirkan data lama sebesar {0:.2f} persen.'.format(((total_users - new_users) / total_users) * 100))\n",
        "print()\n",
        "# jumlah kehilangan peristiwa dan presentasenya\n",
        "print('Jumlah kehilangan peristiwa setelah menyingkirkan data lama sebesar {} peristiwa.'.format((total_events - new_events)))\n",
        "print('Jumlah presentase kehilangan pengguna setelah menyingkirkan data lama sebesar {0:.2f} persen.'.format(((total_events - new_events) / total_events) * 100))"
      ]
    },
    {
      "cell_type": "markdown",
      "metadata": {
        "id": "8m3Tfjho7IU_"
      },
      "source": [
        "Jumlah kehilangan pengguna dan peristiwa setelah data difilter yang penggunanya mulai stabil berdasarkan tanggal tidak begitu banyak kehilangan, jadi data yang sudah difilter aman untuk dilanjutkan proses analisa berikutnya."
      ]
    },
    {
      "cell_type": "markdown",
      "metadata": {
        "id": "vEIBWx417IVA"
      },
      "source": [
        "# Pastikan Anda memiliki pengguna dari ketiga kelompok eksperimen."
      ]
    },
    {
      "cell_type": "code",
      "execution_count": null,
      "metadata": {
        "id": "_Y4r00ED7IVB",
        "outputId": "af8cd056-ad01-4c67-86a3-d13f67fe2835"
      },
      "outputs": [
        {
          "data": {
            "text/html": [
              "<div>\n",
              "<style scoped>\n",
              "    .dataframe tbody tr th:only-of-type {\n",
              "        vertical-align: middle;\n",
              "    }\n",
              "\n",
              "    .dataframe tbody tr th {\n",
              "        vertical-align: top;\n",
              "    }\n",
              "\n",
              "    .dataframe thead th {\n",
              "        text-align: right;\n",
              "    }\n",
              "</style>\n",
              "<table border=\"1\" class=\"dataframe\">\n",
              "  <thead>\n",
              "    <tr style=\"text-align: right;\">\n",
              "      <th></th>\n",
              "      <th>exp_id</th>\n",
              "      <th>total_pengguna</th>\n",
              "    </tr>\n",
              "  </thead>\n",
              "  <tbody>\n",
              "    <tr>\n",
              "      <th>0</th>\n",
              "      <td>246</td>\n",
              "      <td>2484</td>\n",
              "    </tr>\n",
              "    <tr>\n",
              "      <th>1</th>\n",
              "      <td>247</td>\n",
              "      <td>2513</td>\n",
              "    </tr>\n",
              "    <tr>\n",
              "      <th>2</th>\n",
              "      <td>248</td>\n",
              "      <td>2537</td>\n",
              "    </tr>\n",
              "  </tbody>\n",
              "</table>\n",
              "</div>"
            ],
            "text/plain": [
              "   exp_id  total_pengguna\n",
              "0     246            2484\n",
              "1     247            2513\n",
              "2     248            2537"
            ]
          },
          "execution_count": 24,
          "metadata": {},
          "output_type": "execute_result"
        }
      ],
      "source": [
        "# Pastikan Anda memiliki pengguna dari ketiga kelompok eksperimen.\n",
        "# new_users\n",
        "\n",
        "exp_new_users = new_period.groupby('exp_id')['device_id_hash'].nunique().reset_index()\n",
        "exp_new_users.columns = ['exp_id', 'total_pengguna']\n",
        "exp_new_users"
      ]
    },
    {
      "cell_type": "markdown",
      "metadata": {
        "id": "HS4nM5Sk7IVC"
      },
      "source": [
        "Bahwa setelah identifikasi kelompok eksperimen berdasarkan pengguna untuk ketiga kelompok tidak ada yang hilang dan total penggunanya tidak ada gap yang jauh atau perbandingna pengguna yang sangat berbeda untuk dilakukan eksperimen pada tahap selanjutnya."
      ]
    },
    {
      "cell_type": "markdown",
      "metadata": {
        "id": "icNJ13NF7IVD"
      },
      "source": [
        "### Pelajari corong peristiwanya"
      ]
    },
    {
      "cell_type": "markdown",
      "metadata": {
        "id": "_8KqrZEV7IVD"
      },
      "source": [
        "- Lihat peristiwa apa saja yang ada dalam log dan berapa banyak frekuensi kemunculannya. Urutkan peristiwa tersebut berdasarkan frekuensi.\n",
        "- Temukan jumlah pengguna yang melakukan setiap tindakan. Urutkan peristiwa berdasarkan jumlah pengguna. Hitung proporsi pengguna yang melakukan tindakan setidaknya satu kali.\n",
        "- Menurut Anda, dalam urutan apa tindakan-tindakan tersebut terjadi? Apakah semuanya merupakan bagian dari satu urutan? Anda tidak perlu memperhitungkan semuanya saat menghitung corong.\n",
        "- Gunakan corong peristiwa untuk menemukan persentase pengguna yang terus berlanjut dari satu tahap ke tahap berikutnya. (Misalnya, untuk urutan peristiwa A → B → C, hitung rasio pengguna pada tahap B terhadap jumlah pengguna pada tahap A dan rasio pengguna pada tahap C terhadap jumlah pada tahap B).\n",
        "- Pada tahap manakah Anda kehilangan banyak pengguna?\n",
        "- Berapa banyak persentase pengguna yang berhasil menyelesaikan seluruh perjalanan dari peristiwa pertama hingga pembayaran?"
      ]
    },
    {
      "cell_type": "markdown",
      "metadata": {
        "id": "aVo30hLr7IVE"
      },
      "source": [
        "# Lihat peristiwa apa saja yang ada dalam log dan berapa banyak frekuensi kemunculannya. Urutkan peristiwa tersebut berdasarkan frekuensi."
      ]
    },
    {
      "cell_type": "code",
      "execution_count": null,
      "metadata": {
        "id": "rUYHMvG57IVE",
        "outputId": "d9b71bbb-535e-4f85-e8a8-f110f1532ebe"
      },
      "outputs": [
        {
          "data": {
            "text/html": [
              "<div>\n",
              "<style scoped>\n",
              "    .dataframe tbody tr th:only-of-type {\n",
              "        vertical-align: middle;\n",
              "    }\n",
              "\n",
              "    .dataframe tbody tr th {\n",
              "        vertical-align: top;\n",
              "    }\n",
              "\n",
              "    .dataframe thead th {\n",
              "        text-align: right;\n",
              "    }\n",
              "</style>\n",
              "<table border=\"1\" class=\"dataframe\">\n",
              "  <thead>\n",
              "    <tr style=\"text-align: right;\">\n",
              "      <th></th>\n",
              "      <th>event_name</th>\n",
              "      <th>device_id_hash</th>\n",
              "    </tr>\n",
              "  </thead>\n",
              "  <tbody>\n",
              "    <tr>\n",
              "      <th>1</th>\n",
              "      <td>MainScreenAppear</td>\n",
              "      <td>117431</td>\n",
              "    </tr>\n",
              "    <tr>\n",
              "      <th>2</th>\n",
              "      <td>OffersScreenAppear</td>\n",
              "      <td>46350</td>\n",
              "    </tr>\n",
              "    <tr>\n",
              "      <th>0</th>\n",
              "      <td>CartScreenAppear</td>\n",
              "      <td>42365</td>\n",
              "    </tr>\n",
              "    <tr>\n",
              "      <th>3</th>\n",
              "      <td>PaymentScreenSuccessful</td>\n",
              "      <td>34113</td>\n",
              "    </tr>\n",
              "    <tr>\n",
              "      <th>4</th>\n",
              "      <td>Tutorial</td>\n",
              "      <td>1039</td>\n",
              "    </tr>\n",
              "  </tbody>\n",
              "</table>\n",
              "</div>"
            ],
            "text/plain": [
              "                event_name  device_id_hash\n",
              "1         MainScreenAppear          117431\n",
              "2       OffersScreenAppear           46350\n",
              "0         CartScreenAppear           42365\n",
              "3  PaymentScreenSuccessful           34113\n",
              "4                 Tutorial            1039"
            ]
          },
          "execution_count": 25,
          "metadata": {},
          "output_type": "execute_result"
        }
      ],
      "source": [
        "# Lihat peristiwa apa saja yang ada dalam log dan berapa banyak frekuensi kemunculannya. \n",
        "# Urutkan peristiwa tersebut berdasarkan frekuensi.\n",
        "\n",
        "freq_event = new_period.pivot_table(index='event_name',\n",
        "                                    values='device_id_hash', aggfunc='count').reset_index()\n",
        "freq_event.sort_values('device_id_hash', ascending=False)"
      ]
    },
    {
      "cell_type": "markdown",
      "metadata": {
        "id": "3zFK148e7IVE"
      },
      "source": [
        "Kesimpulan:\n",
        "\n",
        "Bahwa peristiwa yang sering di klik oleh para pengguna adalah peristiwa ke Halaman Utama pada aplikasi tersebut."
      ]
    },
    {
      "cell_type": "markdown",
      "metadata": {
        "id": "a1mb915U7IVF"
      },
      "source": [
        "# Temukan jumlah pengguna yang melakukan setiap tindakan. Urutkan peristiwa berdasarkan jumlah pengguna. Hitung proporsi pengguna yang melakukan tindakan setidaknya satu kali."
      ]
    },
    {
      "cell_type": "code",
      "execution_count": null,
      "metadata": {
        "id": "Y5l0o4au7IVF",
        "outputId": "297fe07e-e7dd-48e5-af00-dc6627322bcc"
      },
      "outputs": [
        {
          "data": {
            "text/html": [
              "<div>\n",
              "<style scoped>\n",
              "    .dataframe tbody tr th:only-of-type {\n",
              "        vertical-align: middle;\n",
              "    }\n",
              "\n",
              "    .dataframe tbody tr th {\n",
              "        vertical-align: top;\n",
              "    }\n",
              "\n",
              "    .dataframe thead th {\n",
              "        text-align: right;\n",
              "    }\n",
              "</style>\n",
              "<table border=\"1\" class=\"dataframe\">\n",
              "  <thead>\n",
              "    <tr style=\"text-align: right;\">\n",
              "      <th></th>\n",
              "      <th>event_name</th>\n",
              "      <th>device_id_hash</th>\n",
              "    </tr>\n",
              "  </thead>\n",
              "  <tbody>\n",
              "    <tr>\n",
              "      <th>1</th>\n",
              "      <td>MainScreenAppear</td>\n",
              "      <td>7419</td>\n",
              "    </tr>\n",
              "    <tr>\n",
              "      <th>2</th>\n",
              "      <td>OffersScreenAppear</td>\n",
              "      <td>4593</td>\n",
              "    </tr>\n",
              "    <tr>\n",
              "      <th>0</th>\n",
              "      <td>CartScreenAppear</td>\n",
              "      <td>3734</td>\n",
              "    </tr>\n",
              "    <tr>\n",
              "      <th>3</th>\n",
              "      <td>PaymentScreenSuccessful</td>\n",
              "      <td>3539</td>\n",
              "    </tr>\n",
              "    <tr>\n",
              "      <th>4</th>\n",
              "      <td>Tutorial</td>\n",
              "      <td>840</td>\n",
              "    </tr>\n",
              "  </tbody>\n",
              "</table>\n",
              "</div>"
            ],
            "text/plain": [
              "                event_name  device_id_hash\n",
              "1         MainScreenAppear            7419\n",
              "2       OffersScreenAppear            4593\n",
              "0         CartScreenAppear            3734\n",
              "3  PaymentScreenSuccessful            3539\n",
              "4                 Tutorial             840"
            ]
          },
          "execution_count": 26,
          "metadata": {},
          "output_type": "execute_result"
        }
      ],
      "source": [
        "# Temukan jumlah pengguna yang melakukan setiap tindakan. Urutkan peristiwa berdasarkan jumlah pengguna. \n",
        "# Hitung proporsi pengguna yang melakukan tindakan setidaknya satu kali.\n",
        "\n",
        "users_per_event = new_period.pivot_table(index='event_name',\n",
        "                                         values='device_id_hash',\n",
        "                                         aggfunc='nunique').reset_index()\n",
        "users_per_event.sort_values('device_id_hash', ascending=False)                                         "
      ]
    },
    {
      "cell_type": "markdown",
      "metadata": {
        "id": "t11MEeWU7IVG"
      },
      "source": [
        "Kesimpulan:\n",
        "\n",
        "Bahwa berdasarkan jumlah pengguna, peristiwa yang sering di klik oleh para pengguna adalah peristiwa ke Halaman Utama pada aplikasi tersebut."
      ]
    },
    {
      "cell_type": "markdown",
      "metadata": {
        "id": "kyQFvupp7IVG"
      },
      "source": [
        "# Menurut Anda, dalam urutan apa tindakan-tindakan tersebut terjadi? Apakah semuanya merupakan bagian dari satu urutan? Anda tidak perlu memperhitungkan semuanya saat menghitung corong."
      ]
    },
    {
      "cell_type": "markdown",
      "metadata": {
        "id": "AWw8xeg37IVH"
      },
      "source": [
        "Urutan tindakan-tindakan untuk kasus penjualan produk makanan ini adalah dimana tindakan sudah terurut dengan semestinaya dan sepertinya perlu untuk membuang tindakan `Tutorial`. Karena para pengguna kita anggap sudah mengerti dan familiar untuk aplikasi produk kita untuk melakukan proses pembelian tanpa tindakan `Tutorial` sekalipun atau pengguna sudah melakukan tahap `Tutorial` di aplikasi lain jadi mereka ketika ke aplikasi pembelanjaan manapun sudah cukup familiar dan tinggal menyesuaikan saja terhadap tampilan yang berbeda untuk aplikasi ini. Jadi lebih baik membuang tindakan itu dan mengurutakannya seperti ini:\n",
        "\n",
        "- Main Screen Appear\n",
        "- Offers Screen Appear\n",
        "- Cart Screen Appear \n",
        "- Payment Screen Successful"
      ]
    },
    {
      "cell_type": "markdown",
      "metadata": {
        "id": "geWSeCOX7IVI"
      },
      "source": [
        "# Gunakan corong peristiwa untuk menemukan persentase pengguna yang terus berlanjut dari satu tahap ke tahap berikutnya. (Misalnya, untuk urutan peristiwa A → B → C, hitung rasio pengguna pada tahap B terhadap jumlah pengguna pada tahap A dan rasio pengguna pada tahap C terhadap jumlah pada tahap B)."
      ]
    },
    {
      "cell_type": "markdown",
      "metadata": {
        "id": "0WtYdEZx7IVI"
      },
      "source": [
        "Desclaimer: \n",
        "\n",
        "Karena pada poin sebelumnya untuk memperhitungkan corong yang tidak perlu maka akan menghapus corong `Tutorial` dan alasannya sudah disebutkan pada poin sebelumnya."
      ]
    },
    {
      "cell_type": "code",
      "execution_count": null,
      "metadata": {
        "id": "0Poiqctj7IVJ",
        "outputId": "08d04456-9cce-40cd-db44-6ad79d1b2df6"
      },
      "outputs": [
        {
          "data": {
            "text/html": [
              "<div>\n",
              "<style scoped>\n",
              "    .dataframe tbody tr th:only-of-type {\n",
              "        vertical-align: middle;\n",
              "    }\n",
              "\n",
              "    .dataframe tbody tr th {\n",
              "        vertical-align: top;\n",
              "    }\n",
              "\n",
              "    .dataframe thead th {\n",
              "        text-align: right;\n",
              "    }\n",
              "</style>\n",
              "<table border=\"1\" class=\"dataframe\">\n",
              "  <thead>\n",
              "    <tr style=\"text-align: right;\">\n",
              "      <th></th>\n",
              "      <th>device_id_hash</th>\n",
              "    </tr>\n",
              "    <tr>\n",
              "      <th>event_name</th>\n",
              "      <th></th>\n",
              "    </tr>\n",
              "  </thead>\n",
              "  <tbody>\n",
              "    <tr>\n",
              "      <th>MainScreenAppear</th>\n",
              "      <td>7419</td>\n",
              "    </tr>\n",
              "    <tr>\n",
              "      <th>OffersScreenAppear</th>\n",
              "      <td>4593</td>\n",
              "    </tr>\n",
              "    <tr>\n",
              "      <th>CartScreenAppear</th>\n",
              "      <td>3734</td>\n",
              "    </tr>\n",
              "    <tr>\n",
              "      <th>PaymentScreenSuccessful</th>\n",
              "      <td>3539</td>\n",
              "    </tr>\n",
              "  </tbody>\n",
              "</table>\n",
              "</div>"
            ],
            "text/plain": [
              "                         device_id_hash\n",
              "event_name                             \n",
              "MainScreenAppear                   7419\n",
              "OffersScreenAppear                 4593\n",
              "CartScreenAppear                   3734\n",
              "PaymentScreenSuccessful            3539"
            ]
          },
          "execution_count": 27,
          "metadata": {},
          "output_type": "execute_result"
        }
      ],
      "source": [
        "# membuat varibel baru dengan salin dari variabel sebelumnya untuk diubah salah satu kolomnya menjadi index\n",
        "users_per_event2 = users_per_event\n",
        "users_per_event2 = users_per_event2.loc[:3]\n",
        "users_per_event2 = users_per_event2.sort_values('device_id_hash', ascending=False)\n",
        "users_per_event2 = users_per_event2.set_index('event_name')\n",
        "users_per_event2"
      ]
    },
    {
      "cell_type": "code",
      "execution_count": null,
      "metadata": {
        "id": "Yw6msp987IVK",
        "outputId": "c1b64ef6-df52-4d03-e2e9-5ecf4320b37f"
      },
      "outputs": [
        {
          "data": {
            "text/html": [
              "<div>\n",
              "<style scoped>\n",
              "    .dataframe tbody tr th:only-of-type {\n",
              "        vertical-align: middle;\n",
              "    }\n",
              "\n",
              "    .dataframe tbody tr th {\n",
              "        vertical-align: top;\n",
              "    }\n",
              "\n",
              "    .dataframe thead th {\n",
              "        text-align: right;\n",
              "    }\n",
              "</style>\n",
              "<table border=\"1\" class=\"dataframe\">\n",
              "  <thead>\n",
              "    <tr style=\"text-align: right;\">\n",
              "      <th></th>\n",
              "      <th>device_id_hash</th>\n",
              "    </tr>\n",
              "    <tr>\n",
              "      <th>event_name</th>\n",
              "      <th></th>\n",
              "    </tr>\n",
              "  </thead>\n",
              "  <tbody>\n",
              "    <tr>\n",
              "      <th>MainScreenAppear</th>\n",
              "      <td>NaN</td>\n",
              "    </tr>\n",
              "    <tr>\n",
              "      <th>OffersScreenAppear</th>\n",
              "      <td>7419.0</td>\n",
              "    </tr>\n",
              "    <tr>\n",
              "      <th>CartScreenAppear</th>\n",
              "      <td>4593.0</td>\n",
              "    </tr>\n",
              "    <tr>\n",
              "      <th>PaymentScreenSuccessful</th>\n",
              "      <td>3734.0</td>\n",
              "    </tr>\n",
              "  </tbody>\n",
              "</table>\n",
              "</div>"
            ],
            "text/plain": [
              "                         device_id_hash\n",
              "event_name                             \n",
              "MainScreenAppear                    NaN\n",
              "OffersScreenAppear               7419.0\n",
              "CartScreenAppear                 4593.0\n",
              "PaymentScreenSuccessful          3734.0"
            ]
          },
          "execution_count": 28,
          "metadata": {},
          "output_type": "execute_result"
        }
      ],
      "source": [
        "# Membuat rasionya setiap corong berdasarkan 1 tahap sebelumnya \n",
        "users_per_event2.shift()"
      ]
    },
    {
      "cell_type": "code",
      "execution_count": null,
      "metadata": {
        "id": "xsKdW_RW7IVL",
        "outputId": "6cfbe1fe-7a97-4d0d-a0a8-b836a83cdeca"
      },
      "outputs": [
        {
          "data": {
            "text/html": [
              "<div>\n",
              "<style scoped>\n",
              "    .dataframe tbody tr th:only-of-type {\n",
              "        vertical-align: middle;\n",
              "    }\n",
              "\n",
              "    .dataframe tbody tr th {\n",
              "        vertical-align: top;\n",
              "    }\n",
              "\n",
              "    .dataframe thead th {\n",
              "        text-align: right;\n",
              "    }\n",
              "</style>\n",
              "<table border=\"1\" class=\"dataframe\">\n",
              "  <thead>\n",
              "    <tr style=\"text-align: right;\">\n",
              "      <th></th>\n",
              "      <th>device_id_hash</th>\n",
              "      <th>percentage_funnel</th>\n",
              "    </tr>\n",
              "    <tr>\n",
              "      <th>event_name</th>\n",
              "      <th></th>\n",
              "      <th></th>\n",
              "    </tr>\n",
              "  </thead>\n",
              "  <tbody>\n",
              "    <tr>\n",
              "      <th>MainScreenAppear</th>\n",
              "      <td>7419</td>\n",
              "      <td>NaN</td>\n",
              "    </tr>\n",
              "    <tr>\n",
              "      <th>OffersScreenAppear</th>\n",
              "      <td>4593</td>\n",
              "      <td>61.91</td>\n",
              "    </tr>\n",
              "    <tr>\n",
              "      <th>CartScreenAppear</th>\n",
              "      <td>3734</td>\n",
              "      <td>81.30</td>\n",
              "    </tr>\n",
              "    <tr>\n",
              "      <th>PaymentScreenSuccessful</th>\n",
              "      <td>3539</td>\n",
              "      <td>94.78</td>\n",
              "    </tr>\n",
              "  </tbody>\n",
              "</table>\n",
              "</div>"
            ],
            "text/plain": [
              "                         device_id_hash  percentage_funnel\n",
              "event_name                                                \n",
              "MainScreenAppear                   7419                NaN\n",
              "OffersScreenAppear                 4593              61.91\n",
              "CartScreenAppear                   3734              81.30\n",
              "PaymentScreenSuccessful            3539              94.78"
            ]
          },
          "execution_count": 29,
          "metadata": {},
          "output_type": "execute_result"
        }
      ],
      "source": [
        "# membuat kolom baru untuk melihat presentasenya berdasarkan setiap tahap dan tahap sebelumnya\n",
        "users_per_event2['percentage_funnel'] = ((users_per_event2 / users_per_event2.shift()) * 100).round(2)\n",
        "users_per_event2"
      ]
    },
    {
      "cell_type": "markdown",
      "metadata": {
        "id": "A3Xv5D477IVL"
      },
      "source": [
        "Kesimpulan:\n",
        "\n",
        "Bahwa para pengguna sepertinya banyak yang di tahap `Main Screen Appear` entah pengguna yang baru masuk ke aplikasinya atau pengguna dari tahap-tahap lainnya pada aplikasi tersebut. Dan ini sepertinya menjadi bahan diskusi yang menarik untuk membuat strategi atau rencana agar para pengguna tidak terlalu sering menuju tahap `Main Screen Appear` dengan menambahkan fitur baru yang tanpa perlu balik lagi ke tahap `Main Screen Appear`.\n",
        "\n",
        "Setelah tahap setelah `Offers Screen Appear` bahwa tahap `Cart Screen Appear` dari `Offers Screen Appear` mencapai 81.3%. Artinya bahwa pengguna yakin untuk setelah menambahkan ke keranjang setelah melihat produk yang sesuai keinginannya. dan tahap `Payment Screen Successful` dari `Cart Screen Appear` mencapai 94.78%. Artinya bahwa hampir seluruh para pengguna akan menyelesaikan pembayarannya setelah menambahkan produk ke keranjang."
      ]
    },
    {
      "cell_type": "markdown",
      "metadata": {
        "id": "TDfFf1fL7IVP"
      },
      "source": [
        "# Pada tahap manakah Anda kehilangan banyak pengguna?"
      ]
    },
    {
      "cell_type": "markdown",
      "metadata": {
        "id": "7VRUjxou7IVP"
      },
      "source": [
        "Disclaimer : \n",
        "\n",
        "Karena pertanyaan ini tidak spesifik untuk menggunakan corong yang mana maka saya kan menjawab dengan kedua corong baik dari melihat langkah 4 poin 4 dan langkah 4 poin 2.\n",
        "\n",
        "Karena pada poin 3 untuk memperhitungkan corong yang tidak perlu maka akan menghapus corong Tutorial dan alasannya sudah disebutkan pada poin 3."
      ]
    },
    {
      "cell_type": "code",
      "execution_count": null,
      "metadata": {
        "id": "j-KQEvJk7IVQ",
        "outputId": "373a4385-ab63-4b14-c58e-7e68908adfab"
      },
      "outputs": [
        {
          "data": {
            "text/html": [
              "<div>\n",
              "<style scoped>\n",
              "    .dataframe tbody tr th:only-of-type {\n",
              "        vertical-align: middle;\n",
              "    }\n",
              "\n",
              "    .dataframe tbody tr th {\n",
              "        vertical-align: top;\n",
              "    }\n",
              "\n",
              "    .dataframe thead th {\n",
              "        text-align: right;\n",
              "    }\n",
              "</style>\n",
              "<table border=\"1\" class=\"dataframe\">\n",
              "  <thead>\n",
              "    <tr style=\"text-align: right;\">\n",
              "      <th></th>\n",
              "      <th>event_name</th>\n",
              "      <th>device_id_hash</th>\n",
              "      <th>percentage_funnel</th>\n",
              "    </tr>\n",
              "  </thead>\n",
              "  <tbody>\n",
              "    <tr>\n",
              "      <th>0</th>\n",
              "      <td>MainScreenAppear</td>\n",
              "      <td>7419</td>\n",
              "      <td>NaN</td>\n",
              "    </tr>\n",
              "    <tr>\n",
              "      <th>1</th>\n",
              "      <td>OffersScreenAppear</td>\n",
              "      <td>4593</td>\n",
              "      <td>61.91</td>\n",
              "    </tr>\n",
              "    <tr>\n",
              "      <th>2</th>\n",
              "      <td>CartScreenAppear</td>\n",
              "      <td>3734</td>\n",
              "      <td>81.30</td>\n",
              "    </tr>\n",
              "    <tr>\n",
              "      <th>3</th>\n",
              "      <td>PaymentScreenSuccessful</td>\n",
              "      <td>3539</td>\n",
              "      <td>94.78</td>\n",
              "    </tr>\n",
              "  </tbody>\n",
              "</table>\n",
              "</div>"
            ],
            "text/plain": [
              "                event_name  device_id_hash  percentage_funnel\n",
              "0         MainScreenAppear            7419                NaN\n",
              "1       OffersScreenAppear            4593              61.91\n",
              "2         CartScreenAppear            3734              81.30\n",
              "3  PaymentScreenSuccessful            3539              94.78"
            ]
          },
          "execution_count": 30,
          "metadata": {},
          "output_type": "execute_result"
        }
      ],
      "source": [
        "# Melihat corong berdasarkan langkah 4 poin 4 (rasio pertahap dari tahap sebelumnya)\n",
        "users_per_event2 = users_per_event2.reset_index()\n",
        "users_per_event2"
      ]
    },
    {
      "cell_type": "code",
      "execution_count": null,
      "metadata": {
        "id": "t0s0ZmfP7IVQ",
        "outputId": "cfa92268-4625-48a2-8db6-5158606105c9"
      },
      "outputs": [
        {
          "data": {
            "text/html": [
              "<div>\n",
              "<style scoped>\n",
              "    .dataframe tbody tr th:only-of-type {\n",
              "        vertical-align: middle;\n",
              "    }\n",
              "\n",
              "    .dataframe tbody tr th {\n",
              "        vertical-align: top;\n",
              "    }\n",
              "\n",
              "    .dataframe thead th {\n",
              "        text-align: right;\n",
              "    }\n",
              "</style>\n",
              "<table border=\"1\" class=\"dataframe\">\n",
              "  <thead>\n",
              "    <tr style=\"text-align: right;\">\n",
              "      <th></th>\n",
              "      <th>event_name</th>\n",
              "      <th>device_id_hash</th>\n",
              "      <th>percentage</th>\n",
              "    </tr>\n",
              "  </thead>\n",
              "  <tbody>\n",
              "    <tr>\n",
              "      <th>1</th>\n",
              "      <td>MainScreenAppear</td>\n",
              "      <td>7419</td>\n",
              "      <td>98.47</td>\n",
              "    </tr>\n",
              "    <tr>\n",
              "      <th>2</th>\n",
              "      <td>OffersScreenAppear</td>\n",
              "      <td>4593</td>\n",
              "      <td>60.96</td>\n",
              "    </tr>\n",
              "    <tr>\n",
              "      <th>0</th>\n",
              "      <td>CartScreenAppear</td>\n",
              "      <td>3734</td>\n",
              "      <td>49.56</td>\n",
              "    </tr>\n",
              "    <tr>\n",
              "      <th>3</th>\n",
              "      <td>PaymentScreenSuccessful</td>\n",
              "      <td>3539</td>\n",
              "      <td>46.97</td>\n",
              "    </tr>\n",
              "  </tbody>\n",
              "</table>\n",
              "</div>"
            ],
            "text/plain": [
              "                event_name  device_id_hash  percentage\n",
              "1         MainScreenAppear            7419       98.47\n",
              "2       OffersScreenAppear            4593       60.96\n",
              "0         CartScreenAppear            3734       49.56\n",
              "3  PaymentScreenSuccessful            3539       46.97"
            ]
          },
          "execution_count": 31,
          "metadata": {},
          "output_type": "execute_result"
        }
      ],
      "source": [
        "# Melihat corong berdasarkan langkah 4 poin 2 (rasio pertahap dari seluruh pengguna)\n",
        "precentage_action_succes = users_per_event\n",
        "\n",
        "# membuat kolom baru presentase untuk seluruh pengguna \n",
        "precentage_action_succes['percentage'] = ((precentage_action_succes['device_id_hash'] / new_period['device_id_hash'].nunique()) * 100).round(2)\n",
        "# mengurutkan berdasarkan pengguna terbanyak untuk tahap\n",
        "precentage_action_succes = precentage_action_succes.sort_values('device_id_hash', ascending=False)\n",
        "# membuat tahap Tutorial\n",
        "precentage_action_succes = precentage_action_succes.loc[:3]\n",
        "# Melihat hasilnya\n",
        "precentage_action_succes"
      ]
    },
    {
      "cell_type": "markdown",
      "metadata": {
        "id": "Ce19M99u7IVR"
      },
      "source": [
        "Kesimpulan:\n",
        "\n",
        "Untuk dari data corong melihat presentase dari tahap sebelumnya bahwa kehilangan pengguna terbanyak pada tahap `Offers Screen Appear` dari tahap `Main Screen Appear` dengan nilai presentasi kehilangan sebesar 38.09%.\n",
        "\n",
        "Sedangkan untuk corong dari seluruh pengguna bahwa tahap kehilangan pengguna terbantak pada tahap `Payment Screen Successful` dengan nilai presentasi kehilangan sebesar 53.03%."
      ]
    },
    {
      "cell_type": "markdown",
      "metadata": {
        "id": "R6riIEYk7IVR"
      },
      "source": [
        "# Berapa banyak persentase pengguna yang berhasil menyelesaikan seluruh perjalanan dari peristiwa pertama hingga pembayaran?"
      ]
    },
    {
      "cell_type": "markdown",
      "metadata": {
        "id": "CE62J0Z47IVS"
      },
      "source": [
        "Disclaimer : \n",
        "\n",
        "Karena pertanyaan ini tidak spesifik untuk menggunakan corong yang mana maka saya kan menjawab dengan kedua corong baik dari melihat langkah 4 poin 4 dan langkah 4 poin 2.\n",
        "\n",
        "Karena pada poin 3 untuk memperhitungkan corong yang tidak perlu maka akan menghapus corong Tutorial dan alasannya sudah disebutkan pada poin 3."
      ]
    },
    {
      "cell_type": "code",
      "execution_count": null,
      "metadata": {
        "id": "ClZfA8jc7IVT",
        "outputId": "dd5ea4ba-7047-4076-e359-939d3649d395"
      },
      "outputs": [
        {
          "data": {
            "text/html": [
              "<div>\n",
              "<style scoped>\n",
              "    .dataframe tbody tr th:only-of-type {\n",
              "        vertical-align: middle;\n",
              "    }\n",
              "\n",
              "    .dataframe tbody tr th {\n",
              "        vertical-align: top;\n",
              "    }\n",
              "\n",
              "    .dataframe thead th {\n",
              "        text-align: right;\n",
              "    }\n",
              "</style>\n",
              "<table border=\"1\" class=\"dataframe\">\n",
              "  <thead>\n",
              "    <tr style=\"text-align: right;\">\n",
              "      <th></th>\n",
              "      <th>event_name</th>\n",
              "      <th>device_id_hash</th>\n",
              "      <th>percentage_funnel</th>\n",
              "    </tr>\n",
              "  </thead>\n",
              "  <tbody>\n",
              "    <tr>\n",
              "      <th>0</th>\n",
              "      <td>MainScreenAppear</td>\n",
              "      <td>7419</td>\n",
              "      <td>NaN</td>\n",
              "    </tr>\n",
              "    <tr>\n",
              "      <th>1</th>\n",
              "      <td>OffersScreenAppear</td>\n",
              "      <td>4593</td>\n",
              "      <td>61.91</td>\n",
              "    </tr>\n",
              "    <tr>\n",
              "      <th>2</th>\n",
              "      <td>CartScreenAppear</td>\n",
              "      <td>3734</td>\n",
              "      <td>81.30</td>\n",
              "    </tr>\n",
              "    <tr>\n",
              "      <th>3</th>\n",
              "      <td>PaymentScreenSuccessful</td>\n",
              "      <td>3539</td>\n",
              "      <td>94.78</td>\n",
              "    </tr>\n",
              "  </tbody>\n",
              "</table>\n",
              "</div>"
            ],
            "text/plain": [
              "                event_name  device_id_hash  percentage_funnel\n",
              "0         MainScreenAppear            7419                NaN\n",
              "1       OffersScreenAppear            4593              61.91\n",
              "2         CartScreenAppear            3734              81.30\n",
              "3  PaymentScreenSuccessful            3539              94.78"
            ]
          },
          "execution_count": 32,
          "metadata": {},
          "output_type": "execute_result"
        }
      ],
      "source": [
        "# Melihat corong berdasarkan langkah 4 poin 4 (rasio pertahap dari tahap sebelumnya)\n",
        "users_per_event2"
      ]
    },
    {
      "cell_type": "code",
      "execution_count": null,
      "metadata": {
        "id": "X2sw3fIm7IVT",
        "outputId": "0563597f-ca4b-4e89-c88a-59383e30d69c"
      },
      "outputs": [
        {
          "data": {
            "text/html": [
              "<div>\n",
              "<style scoped>\n",
              "    .dataframe tbody tr th:only-of-type {\n",
              "        vertical-align: middle;\n",
              "    }\n",
              "\n",
              "    .dataframe tbody tr th {\n",
              "        vertical-align: top;\n",
              "    }\n",
              "\n",
              "    .dataframe thead th {\n",
              "        text-align: right;\n",
              "    }\n",
              "</style>\n",
              "<table border=\"1\" class=\"dataframe\">\n",
              "  <thead>\n",
              "    <tr style=\"text-align: right;\">\n",
              "      <th></th>\n",
              "      <th>event_name</th>\n",
              "      <th>device_id_hash</th>\n",
              "      <th>percentage</th>\n",
              "    </tr>\n",
              "  </thead>\n",
              "  <tbody>\n",
              "    <tr>\n",
              "      <th>1</th>\n",
              "      <td>MainScreenAppear</td>\n",
              "      <td>7419</td>\n",
              "      <td>98.47</td>\n",
              "    </tr>\n",
              "    <tr>\n",
              "      <th>2</th>\n",
              "      <td>OffersScreenAppear</td>\n",
              "      <td>4593</td>\n",
              "      <td>60.96</td>\n",
              "    </tr>\n",
              "    <tr>\n",
              "      <th>0</th>\n",
              "      <td>CartScreenAppear</td>\n",
              "      <td>3734</td>\n",
              "      <td>49.56</td>\n",
              "    </tr>\n",
              "    <tr>\n",
              "      <th>3</th>\n",
              "      <td>PaymentScreenSuccessful</td>\n",
              "      <td>3539</td>\n",
              "      <td>46.97</td>\n",
              "    </tr>\n",
              "  </tbody>\n",
              "</table>\n",
              "</div>"
            ],
            "text/plain": [
              "                event_name  device_id_hash  percentage\n",
              "1         MainScreenAppear            7419       98.47\n",
              "2       OffersScreenAppear            4593       60.96\n",
              "0         CartScreenAppear            3734       49.56\n",
              "3  PaymentScreenSuccessful            3539       46.97"
            ]
          },
          "execution_count": 33,
          "metadata": {},
          "output_type": "execute_result"
        }
      ],
      "source": [
        "# Melihat corong berdasarkan langkah 4 poin 2 (rasio pertahap dari seluruh pengguna)\n",
        "precentage_action_succes"
      ]
    },
    {
      "cell_type": "markdown",
      "metadata": {
        "id": "ZTuDiEPg7IVU"
      },
      "source": [
        "Kesimpulan:\n",
        "\n",
        "Untuk dari data corong melihat presentase dari tahap sebelumnya bahwa persentase pengguna yang berhasil menyelesaikan seluruh perjalanan dari peristiwa pertama hingga pembayaran sebesar 94.78% untuk tahap `Payment Screen Successful` dari tahap `Cart Screen Appear`.\n",
        "\n",
        "Sedangkan untuk corong dari seluruh pengguna bahwa persentase pengguna yang berhasil menyelesaikan seluruh perjalanan dari peristiwa pertama hingga pembayaran sebesar 46.97% untuk tahap `Payment Screen Successful`."
      ]
    },
    {
      "cell_type": "markdown",
      "metadata": {
        "id": "m_zlzzXe7IVV"
      },
      "source": [
        "### Pelajari hasil eksperimen Anda"
      ]
    },
    {
      "cell_type": "markdown",
      "metadata": {
        "id": "u09EkROZ7IVW"
      },
      "source": [
        "- Berapa banyak pengguna yang ada di setiap kelompok?\n",
        "- Kita memiliki dua kelompok kontrol dalam A/A testing, di mana kita memeriksa mekanisme dan perhitungan kita. Perhatikan apakah ada perbedaan yang signifikan secara statistik antara sampel 246 dan 247.\n",
        "- Pilih peristiwa yang paling populer. Pada setiap kelompok kontrol, temukan jumlah pengguna yang melakukan tindakan tersebut. Temukan persentasenya. Periksa apakah perbedaan antar kelompok signifikan secara statistik. Ulangi prosedur ini untuk semua peristiwa lainnya (akan menghemat waktu jika Anda bisa membuat fungsi khusus untuk melakukan pengujian ini). Bisakah Anda memastikan apakah kelompok-kelompok tersebut sudah dipisah dengan benar?\n",
        "- Lakukan hal yang sama untuk kelompok pengguna yang diperlihatkan versi font baru. Bandingkan hasilnya dengan masing-masing kelompok kontrol untuk setiap peristiwa secara terpisah. Bandingkan hasilnya dengan hasil gabungan untuk kelompok kontrol. Kesimpulan apa yang bisa Anda tarik dari eksperimen tersebut?\n",
        "- Berapa tingkat signifikansi yang Anda tetapkan untuk menguji hipotesis statistik yang disebutkan di atas? Hitung berapa banyak pengujian hipotesis statistik yang telah Anda lakukan. Dengan level signifikansi statistik 0,1, satu dari 10 hasilnya bisa saja salah. Berapa level signifikansi yang seharusnya ditetapkan? Jika Anda ingin mengubahnya, jalankan ulang tahap sebelumnya dan periksa kesimpulan Anda."
      ]
    },
    {
      "cell_type": "markdown",
      "metadata": {
        "id": "7JkDdihB7IVX"
      },
      "source": [
        "# Berapa banyak pengguna yang ada di setiap kelompok?"
      ]
    },
    {
      "cell_type": "markdown",
      "metadata": {
        "id": "YJB4QCQ17IVY"
      },
      "source": [
        "Disclaimer:\n",
        "\n",
        "Karena pada langkah 4 poin 3 untuk memperhitungkan corong yang tidak perlu maka akan menghapus corong Tutorial dan alasannya sudah disebutkan pada langkah 4 poin 3. Hal ini juga berlaku untuk langkah setelah tahap ini sampai selesai proses analisa."
      ]
    },
    {
      "cell_type": "code",
      "execution_count": null,
      "metadata": {
        "id": "yjuCo_Fr7IVY",
        "outputId": "c9ad94d0-a5f4-4da1-b6a3-08856bf12ca2"
      },
      "outputs": [
        {
          "data": {
            "text/html": [
              "<div>\n",
              "<style scoped>\n",
              "    .dataframe tbody tr th:only-of-type {\n",
              "        vertical-align: middle;\n",
              "    }\n",
              "\n",
              "    .dataframe tbody tr th {\n",
              "        vertical-align: top;\n",
              "    }\n",
              "\n",
              "    .dataframe thead th {\n",
              "        text-align: right;\n",
              "    }\n",
              "</style>\n",
              "<table border=\"1\" class=\"dataframe\">\n",
              "  <thead>\n",
              "    <tr style=\"text-align: right;\">\n",
              "      <th></th>\n",
              "      <th>event_name</th>\n",
              "      <th>device_id_hash</th>\n",
              "      <th>event_time_stamp</th>\n",
              "      <th>exp_id</th>\n",
              "      <th>event_datetime_stamp</th>\n",
              "      <th>event_date</th>\n",
              "    </tr>\n",
              "  </thead>\n",
              "  <tbody>\n",
              "    <tr>\n",
              "      <th>2829</th>\n",
              "      <td>MainScreenAppear</td>\n",
              "      <td>3737462046622621720</td>\n",
              "      <td>1564618080</td>\n",
              "      <td>246</td>\n",
              "      <td>2019-08-01 00:08:00</td>\n",
              "      <td>2019-08-01</td>\n",
              "    </tr>\n",
              "    <tr>\n",
              "      <th>2830</th>\n",
              "      <td>MainScreenAppear</td>\n",
              "      <td>3737462046622621720</td>\n",
              "      <td>1564618135</td>\n",
              "      <td>246</td>\n",
              "      <td>2019-08-01 00:08:55</td>\n",
              "      <td>2019-08-01</td>\n",
              "    </tr>\n",
              "    <tr>\n",
              "      <th>2831</th>\n",
              "      <td>OffersScreenAppear</td>\n",
              "      <td>3737462046622621720</td>\n",
              "      <td>1564618138</td>\n",
              "      <td>246</td>\n",
              "      <td>2019-08-01 00:08:58</td>\n",
              "      <td>2019-08-01</td>\n",
              "    </tr>\n",
              "    <tr>\n",
              "      <th>2832</th>\n",
              "      <td>MainScreenAppear</td>\n",
              "      <td>1433840883824088890</td>\n",
              "      <td>1564618139</td>\n",
              "      <td>247</td>\n",
              "      <td>2019-08-01 00:08:59</td>\n",
              "      <td>2019-08-01</td>\n",
              "    </tr>\n",
              "    <tr>\n",
              "      <th>2833</th>\n",
              "      <td>MainScreenAppear</td>\n",
              "      <td>4899590676214355127</td>\n",
              "      <td>1564618215</td>\n",
              "      <td>247</td>\n",
              "      <td>2019-08-01 00:10:15</td>\n",
              "      <td>2019-08-01</td>\n",
              "    </tr>\n",
              "    <tr>\n",
              "      <th>...</th>\n",
              "      <td>...</td>\n",
              "      <td>...</td>\n",
              "      <td>...</td>\n",
              "      <td>...</td>\n",
              "      <td>...</td>\n",
              "      <td>...</td>\n",
              "    </tr>\n",
              "    <tr>\n",
              "      <th>244121</th>\n",
              "      <td>MainScreenAppear</td>\n",
              "      <td>4599628364049201812</td>\n",
              "      <td>1565212345</td>\n",
              "      <td>247</td>\n",
              "      <td>2019-08-07 21:12:25</td>\n",
              "      <td>2019-08-07</td>\n",
              "    </tr>\n",
              "    <tr>\n",
              "      <th>244122</th>\n",
              "      <td>MainScreenAppear</td>\n",
              "      <td>5849806612437486590</td>\n",
              "      <td>1565212439</td>\n",
              "      <td>246</td>\n",
              "      <td>2019-08-07 21:13:59</td>\n",
              "      <td>2019-08-07</td>\n",
              "    </tr>\n",
              "    <tr>\n",
              "      <th>244123</th>\n",
              "      <td>MainScreenAppear</td>\n",
              "      <td>5746969938801999050</td>\n",
              "      <td>1565212483</td>\n",
              "      <td>246</td>\n",
              "      <td>2019-08-07 21:14:43</td>\n",
              "      <td>2019-08-07</td>\n",
              "    </tr>\n",
              "    <tr>\n",
              "      <th>244124</th>\n",
              "      <td>MainScreenAppear</td>\n",
              "      <td>5746969938801999050</td>\n",
              "      <td>1565212498</td>\n",
              "      <td>246</td>\n",
              "      <td>2019-08-07 21:14:58</td>\n",
              "      <td>2019-08-07</td>\n",
              "    </tr>\n",
              "    <tr>\n",
              "      <th>244125</th>\n",
              "      <td>OffersScreenAppear</td>\n",
              "      <td>5746969938801999050</td>\n",
              "      <td>1565212517</td>\n",
              "      <td>246</td>\n",
              "      <td>2019-08-07 21:15:17</td>\n",
              "      <td>2019-08-07</td>\n",
              "    </tr>\n",
              "  </tbody>\n",
              "</table>\n",
              "<p>240259 rows × 6 columns</p>\n",
              "</div>"
            ],
            "text/plain": [
              "                event_name       device_id_hash  event_time_stamp  exp_id  \\\n",
              "2829      MainScreenAppear  3737462046622621720        1564618080     246   \n",
              "2830      MainScreenAppear  3737462046622621720        1564618135     246   \n",
              "2831    OffersScreenAppear  3737462046622621720        1564618138     246   \n",
              "2832      MainScreenAppear  1433840883824088890        1564618139     247   \n",
              "2833      MainScreenAppear  4899590676214355127        1564618215     247   \n",
              "...                    ...                  ...               ...     ...   \n",
              "244121    MainScreenAppear  4599628364049201812        1565212345     247   \n",
              "244122    MainScreenAppear  5849806612437486590        1565212439     246   \n",
              "244123    MainScreenAppear  5746969938801999050        1565212483     246   \n",
              "244124    MainScreenAppear  5746969938801999050        1565212498     246   \n",
              "244125  OffersScreenAppear  5746969938801999050        1565212517     246   \n",
              "\n",
              "       event_datetime_stamp event_date  \n",
              "2829    2019-08-01 00:08:00 2019-08-01  \n",
              "2830    2019-08-01 00:08:55 2019-08-01  \n",
              "2831    2019-08-01 00:08:58 2019-08-01  \n",
              "2832    2019-08-01 00:08:59 2019-08-01  \n",
              "2833    2019-08-01 00:10:15 2019-08-01  \n",
              "...                     ...        ...  \n",
              "244121  2019-08-07 21:12:25 2019-08-07  \n",
              "244122  2019-08-07 21:13:59 2019-08-07  \n",
              "244123  2019-08-07 21:14:43 2019-08-07  \n",
              "244124  2019-08-07 21:14:58 2019-08-07  \n",
              "244125  2019-08-07 21:15:17 2019-08-07  \n",
              "\n",
              "[240259 rows x 6 columns]"
            ]
          },
          "execution_count": 34,
          "metadata": {},
          "output_type": "execute_result"
        }
      ],
      "source": [
        "# Membuat event_name tutorial\n",
        "exclude_tutorial = new_period\n",
        "exclude_tutorial = exclude_tutorial.query('event_name != \"Tutorial\"')\n",
        "exclude_tutorial"
      ]
    },
    {
      "cell_type": "code",
      "execution_count": null,
      "metadata": {
        "id": "4R3e6Bbd7IVZ",
        "outputId": "e26e5d23-441e-4899-9fc2-db03151b42cc"
      },
      "outputs": [
        {
          "data": {
            "text/html": [
              "<div>\n",
              "<style scoped>\n",
              "    .dataframe tbody tr th:only-of-type {\n",
              "        vertical-align: middle;\n",
              "    }\n",
              "\n",
              "    .dataframe tbody tr th {\n",
              "        vertical-align: top;\n",
              "    }\n",
              "\n",
              "    .dataframe thead th {\n",
              "        text-align: right;\n",
              "    }\n",
              "</style>\n",
              "<table border=\"1\" class=\"dataframe\">\n",
              "  <thead>\n",
              "    <tr style=\"text-align: right;\">\n",
              "      <th></th>\n",
              "      <th>event_name</th>\n",
              "      <th>device_id_hash</th>\n",
              "      <th>event_time_stamp</th>\n",
              "      <th>exp_id</th>\n",
              "      <th>event_datetime_stamp</th>\n",
              "      <th>event_date</th>\n",
              "    </tr>\n",
              "  </thead>\n",
              "  <tbody>\n",
              "  </tbody>\n",
              "</table>\n",
              "</div>"
            ],
            "text/plain": [
              "Empty DataFrame\n",
              "Columns: [event_name, device_id_hash, event_time_stamp, exp_id, event_datetime_stamp, event_date]\n",
              "Index: []"
            ]
          },
          "execution_count": 35,
          "metadata": {},
          "output_type": "execute_result"
        }
      ],
      "source": [
        "# Mengecek apakah ada kolom yang masih mempunyai tahap tutorial di kolom event_name\n",
        "exclude_tutorial[exclude_tutorial['event_name'] == 'Tutorial']"
      ]
    },
    {
      "cell_type": "code",
      "execution_count": null,
      "metadata": {
        "id": "VIHnqzJG7IVZ",
        "outputId": "b6cf11c3-f135-4cf0-fd09-e8931f54ce47"
      },
      "outputs": [
        {
          "data": {
            "text/html": [
              "<div>\n",
              "<style scoped>\n",
              "    .dataframe tbody tr th:only-of-type {\n",
              "        vertical-align: middle;\n",
              "    }\n",
              "\n",
              "    .dataframe tbody tr th {\n",
              "        vertical-align: top;\n",
              "    }\n",
              "\n",
              "    .dataframe thead th {\n",
              "        text-align: right;\n",
              "    }\n",
              "</style>\n",
              "<table border=\"1\" class=\"dataframe\">\n",
              "  <thead>\n",
              "    <tr style=\"text-align: right;\">\n",
              "      <th></th>\n",
              "      <th>device_id_hash</th>\n",
              "    </tr>\n",
              "    <tr>\n",
              "      <th>exp_id</th>\n",
              "      <th></th>\n",
              "    </tr>\n",
              "  </thead>\n",
              "  <tbody>\n",
              "    <tr>\n",
              "      <th>246</th>\n",
              "      <td>2483</td>\n",
              "    </tr>\n",
              "    <tr>\n",
              "      <th>247</th>\n",
              "      <td>2512</td>\n",
              "    </tr>\n",
              "    <tr>\n",
              "      <th>248</th>\n",
              "      <td>2535</td>\n",
              "    </tr>\n",
              "  </tbody>\n",
              "</table>\n",
              "</div>"
            ],
            "text/plain": [
              "        device_id_hash\n",
              "exp_id                \n",
              "246               2483\n",
              "247               2512\n",
              "248               2535"
            ]
          },
          "execution_count": 36,
          "metadata": {},
          "output_type": "execute_result"
        }
      ],
      "source": [
        "# Melihat jumlah untuk setiap kelompok eksperimen\n",
        "exp_user = exclude_tutorial.pivot_table(index='exp_id', values='device_id_hash', aggfunc='nunique')\n",
        "exp_user"
      ]
    },
    {
      "cell_type": "markdown",
      "metadata": {
        "id": "JyqJew7f7IVa"
      },
      "source": [
        "Kesimpulan:\n",
        "\n",
        "Bahwa untuk kelompok eksperimen 246 berjumlah 2483 pengguna, untuk kelompok eksperimen 247 berjumlah 2512 pengguna, dan untuk kelompok eksperimen 248 berjumlah 2535 pengguna.\n",
        "\n",
        "Kelompok eksperimen 246 dan 247 adalah kelompok kontrol dan kelompok eksperimen 248 adalah kelompok uji."
      ]
    },
    {
      "cell_type": "markdown",
      "metadata": {
        "id": "D5ayBz5v7IVc"
      },
      "source": [
        "# Kita memiliki dua kelompok kontrol dalam A/A testing, di mana kita memeriksa mekanisme dan perhitungan kita. Perhatikan apakah ada perbedaan yang signifikan secara statistik antara sampel 246 dan 247."
      ]
    },
    {
      "cell_type": "markdown",
      "metadata": {
        "id": "sx2JWeBC7IVd"
      },
      "source": [
        "Disclaimer:\n",
        "\n",
        "Karena pada langkah 4 poin 3 untuk memperhitungkan corong yang tidak perlu maka akan menghapus corong Tutorial dan alasannya sudah disebutkan pada langkah 4 poin 3. Hal ini juga berlaku untuk langkah setelah tahap ini sampai selesai proses analisa."
      ]
    },
    {
      "cell_type": "markdown",
      "metadata": {
        "id": "5xz964MX7IVg"
      },
      "source": [
        "Adapun sebelum menguji hipotsis terkait signifikansinya untuk perbedaan pengguna yang mengeklik halaman-halaman tersebut antara kelompok 246 dengan kelompok 247, maka dibuat pernyataan terlebih dahulu.\n",
        "\n",
        "H0 : Bahwa tidak ada perbedaan secara signifikan antara kelompok 246 dengan kelompok 247 terhadap perbedaan pengguna yang mengeklik halaman-halaman tersebut.\n",
        "\n",
        "H1 : Bahwa ada perbedaan secara signifikan antara kelompok 246 dengan kelompok 247 terhadap perbedaan pengguna yang mengeklik halaman-halaman tersebut."
      ]
    },
    {
      "cell_type": "code",
      "execution_count": null,
      "metadata": {
        "id": "0YDxN_cH7IVh",
        "outputId": "8eef0e39-9f4f-481d-9dc4-b17c6de905c5"
      },
      "outputs": [
        {
          "data": {
            "text/html": [
              "<div>\n",
              "<style scoped>\n",
              "    .dataframe tbody tr th:only-of-type {\n",
              "        vertical-align: middle;\n",
              "    }\n",
              "\n",
              "    .dataframe tbody tr th {\n",
              "        vertical-align: top;\n",
              "    }\n",
              "\n",
              "    .dataframe thead th {\n",
              "        text-align: right;\n",
              "    }\n",
              "</style>\n",
              "<table border=\"1\" class=\"dataframe\">\n",
              "  <thead>\n",
              "    <tr style=\"text-align: right;\">\n",
              "      <th>exp_id</th>\n",
              "      <th>246</th>\n",
              "      <th>247</th>\n",
              "      <th>248</th>\n",
              "    </tr>\n",
              "    <tr>\n",
              "      <th>event_name</th>\n",
              "      <th></th>\n",
              "      <th></th>\n",
              "      <th></th>\n",
              "    </tr>\n",
              "  </thead>\n",
              "  <tbody>\n",
              "    <tr>\n",
              "      <th>CartScreenAppear</th>\n",
              "      <td>1266</td>\n",
              "      <td>1238</td>\n",
              "      <td>1230</td>\n",
              "    </tr>\n",
              "    <tr>\n",
              "      <th>MainScreenAppear</th>\n",
              "      <td>2450</td>\n",
              "      <td>2476</td>\n",
              "      <td>2493</td>\n",
              "    </tr>\n",
              "    <tr>\n",
              "      <th>OffersScreenAppear</th>\n",
              "      <td>1542</td>\n",
              "      <td>1520</td>\n",
              "      <td>1531</td>\n",
              "    </tr>\n",
              "    <tr>\n",
              "      <th>PaymentScreenSuccessful</th>\n",
              "      <td>1200</td>\n",
              "      <td>1158</td>\n",
              "      <td>1181</td>\n",
              "    </tr>\n",
              "  </tbody>\n",
              "</table>\n",
              "</div>"
            ],
            "text/plain": [
              "exp_id                    246   247   248\n",
              "event_name                               \n",
              "CartScreenAppear         1266  1238  1230\n",
              "MainScreenAppear         2450  2476  2493\n",
              "OffersScreenAppear       1542  1520  1531\n",
              "PaymentScreenSuccessful  1200  1158  1181"
            ]
          },
          "execution_count": 37,
          "metadata": {},
          "output_type": "execute_result"
        }
      ],
      "source": [
        "# Memfilter / Agregasi berdasarkan kelompok eksperimennya\n",
        "user_events_per_exp_group = exclude_tutorial.pivot_table(index='event_name',\n",
        "                                                         values='device_id_hash', \n",
        "                                                         columns='exp_id', \n",
        "                                                         aggfunc='nunique')\n",
        "user_events_per_exp_group"
      ]
    },
    {
      "cell_type": "code",
      "execution_count": null,
      "metadata": {
        "id": "8LIIXQIb7IVi"
      },
      "outputs": [],
      "source": [
        "# Membuat fungsi untuk uji hipotesis statistik perbedaan signifkan antara kelompok sampel\n",
        "\n",
        "def check_hypothesis(successes1, successes2, trials1, trials2, alpha=0.01):\n",
        "    # proporsi keberhasilan pada kelompok pertama:\n",
        "    p1 = successes1 / trials1\n",
        "\n",
        "    # proporsi keberhasilan pada kelompok kedua:\n",
        "    p2 = successes2 / trials2\n",
        "\n",
        "    # proporsi keberhasilan dalam kumpulan data gabungan: \n",
        "    p_combined = (successes1 + successes2) / (trials1 + trials2)\n",
        "\n",
        "    # perbedaan proporsi dalam kumpulan data\n",
        "    difference = p1 - p2\n",
        "\n",
        "    # menghitung statistik dalam simpangan baku dari distribusi normal baku\n",
        "    z_value = difference / (math.sqrt(p_combined * (1 - p_combined) * (1/trials1 + 1/trials2)))\n",
        "\n",
        "    # mengatur distribusi normal standar (nilai rata-rata 0, nilai standar deviasi 1)\n",
        "    distr = st.norm(0, 1)\n",
        "\n",
        "    \n",
        "    p_value = (1 - distr.cdf(abs(z_value))) * 2\n",
        "\n",
        "    print('p-value: ', p_value)\n",
        "\n",
        "    if (p_value < alpha):\n",
        "        print('Hipotesis nol ditolak: ada perbedaan statistik secara signifikan antara kedua kelompok tersebut')\n",
        "    else:\n",
        "        print('Hipotesis nol gagal ditolak: tidak ada perbedaan statistik secara signifikan antara kedua kelompok tersebut')"
      ]
    },
    {
      "cell_type": "code",
      "execution_count": null,
      "metadata": {
        "id": "D0N6B-mG7IVj",
        "outputId": "8dbe28fa-2290-4af3-dfa8-71d36f1724f8"
      },
      "outputs": [
        {
          "name": "stdout",
          "output_type": "stream",
          "text": [
            "Uji Hipotesis untuk layar MainScreenAppear\n",
            "p-value:  [0.75267034]\n",
            "Hipotesis nol gagal ditolak: tidak ada perbedaan statistik secara signifikan antara kedua kelompok tersebut\n",
            "\n",
            "Uji Hipotesis untuk layar OffersScreenAppear\n",
            "p-value:  [0.24786097]\n",
            "Hipotesis nol gagal ditolak: tidak ada perbedaan statistik secara signifikan antara kedua kelompok tersebut\n",
            "\n",
            "Uji Hipotesis untuk layar CartScreenAppear\n",
            "p-value:  [0.22867644]\n",
            "Hipotesis nol gagal ditolak: tidak ada perbedaan statistik secara signifikan antara kedua kelompok tersebut\n",
            "\n",
            "Uji Hipotesis untuk layar PaymentScreenSuccessful\n",
            "p-value:  [0.11446628]\n",
            "Hipotesis nol gagal ditolak: tidak ada perbedaan statistik secara signifikan antara kedua kelompok tersebut\n"
          ]
        }
      ],
      "source": [
        "# Test statistik untuk Main Screen Apprear antara kelompok 246 dengan kelompok 247\n",
        "print('Uji Hipotesis untuk layar MainScreenAppear')\n",
        "check_hypothesis(user_events_per_exp_group.loc['MainScreenAppear', 246],\n",
        "                 user_events_per_exp_group.loc['MainScreenAppear', 247],\n",
        "                 exp_user.loc[246],\n",
        "                 exp_user.loc[247],\n",
        "                )\n",
        "print()\n",
        "# Test statistik untuk OffersScreenAppear antara kelompok 246 dengan kelompok 247\n",
        "print('Uji Hipotesis untuk layar OffersScreenAppear')\n",
        "check_hypothesis(user_events_per_exp_group.loc['OffersScreenAppear', 246],\n",
        "                 user_events_per_exp_group.loc['OffersScreenAppear', 247],\n",
        "                 exp_user.loc[246],\n",
        "                 exp_user.loc[247],\n",
        "                )\n",
        "print()\n",
        "# Test statistik untuk CartScreenAppear antara kelompok 246 dengan kelompok 247\n",
        "print('Uji Hipotesis untuk layar CartScreenAppear')\n",
        "check_hypothesis(user_events_per_exp_group.loc['CartScreenAppear', 246],\n",
        "                 user_events_per_exp_group.loc['CartScreenAppear', 247],\n",
        "                 exp_user.loc[246],\n",
        "                 exp_user.loc[247],\n",
        "                )\n",
        "print()\n",
        "# Test statistik untuk PaymentScreenSuccessful antara kelompok 246 dengan kelompok 247\n",
        "print('Uji Hipotesis untuk layar PaymentScreenSuccessful')\n",
        "check_hypothesis(user_events_per_exp_group.loc['PaymentScreenSuccessful', 246],\n",
        "                 user_events_per_exp_group.loc['PaymentScreenSuccessful', 247],\n",
        "                 exp_user.loc[246],\n",
        "                 exp_user.loc[247],\n",
        "                )"
      ]
    },
    {
      "cell_type": "markdown",
      "metadata": {
        "id": "UcFbEBCj7IVk"
      },
      "source": [
        "Kesimpulan:\n",
        "\n",
        "Bahwa untuk test A/A dimana kelompok 246 dengan kelompok 247 menunjukan hasil tidak ada perbedaan statistik yang signifikan untuk masing-masang layar yang tertera yaitu:\n",
        "\n",
        "- MainScreenAppear\n",
        "- OffersScreenAppear\n",
        "- CartScreenAppear\n",
        "- PaymentScreenSuccessful"
      ]
    },
    {
      "cell_type": "markdown",
      "metadata": {
        "id": "V-FRW6h37IVl"
      },
      "source": [
        "# Melakukan Uji A/B testing untuk sampel perbandingan antara kelompok 246 dengan 248 (Font Lama (246) vs Font Baru (248))"
      ]
    },
    {
      "cell_type": "markdown",
      "metadata": {
        "id": "vqrRUHyH7IVl"
      },
      "source": [
        "Adapun sebelum menguji hipotsis terkait signifikansinya untuk perbedaan pengguna yang mengeklik halaman-halaman tersebut antara kelompok 246 dengan kelompok 248, maka dibuat pernyataan terlebih dahulu.\n",
        "\n",
        "H0 : Bahwa tidak ada perbedaan secara signifikan antara kelompok 246 dengan kelompok 248 terhadap perbedaan pengguna yang mengeklik halaman-halaman tersebut.\n",
        "\n",
        "H1 : Bahwa ada perbedaan secara signifikan antara kelompok 246 dengan kelompok 248 terhadap perbedaan pengguna yang mengeklik halaman-halaman tersebut."
      ]
    },
    {
      "cell_type": "code",
      "execution_count": null,
      "metadata": {
        "id": "kkBW-2fa7IVm",
        "outputId": "da82727a-9033-4944-ba38-ec57f407d510"
      },
      "outputs": [
        {
          "name": "stdout",
          "output_type": "stream",
          "text": [
            "Uji Hipotesis untuk layar MainScreenAppear\n",
            "p-value:  [0.33871141]\n",
            "Hipotesis nol gagal ditolak: tidak ada perbedaan statistik secara signifikan antara kedua kelompok tersebut\n",
            "\n",
            "Uji Hipotesis untuk layar OffersScreenAppear\n",
            "p-value:  [0.21442477]\n",
            "Hipotesis nol gagal ditolak: tidak ada perbedaan statistik secara signifikan antara kedua kelompok tersebut\n",
            "\n",
            "Uji Hipotesis untuk layar CartScreenAppear\n",
            "p-value:  [0.08067368]\n",
            "Hipotesis nol gagal ditolak: tidak ada perbedaan statistik secara signifikan antara kedua kelompok tersebut\n",
            "\n",
            "Uji Hipotesis untuk layar PaymentScreenSuccessful\n",
            "p-value:  [0.21693034]\n",
            "Hipotesis nol gagal ditolak: tidak ada perbedaan statistik secara signifikan antara kedua kelompok tersebut\n"
          ]
        }
      ],
      "source": [
        "# Test statistik untuk Main Screen Apprear antara kelompok 246 dengan kelompok 248\n",
        "print('Uji Hipotesis untuk layar MainScreenAppear')\n",
        "check_hypothesis(user_events_per_exp_group.loc['MainScreenAppear', 246],\n",
        "                 user_events_per_exp_group.loc['MainScreenAppear', 248],\n",
        "                 exp_user.loc[246],\n",
        "                 exp_user.loc[248],\n",
        "                )\n",
        "print()\n",
        "# Test statistik untuk OffersScreenAppear antara kelompok 246 dengan kelompok 248\n",
        "print('Uji Hipotesis untuk layar OffersScreenAppear')\n",
        "check_hypothesis(user_events_per_exp_group.loc['OffersScreenAppear', 246],\n",
        "                 user_events_per_exp_group.loc['OffersScreenAppear', 248],\n",
        "                 exp_user.loc[246],\n",
        "                 exp_user.loc[248],\n",
        "                )\n",
        "print()\n",
        "# Test statistik untuk CartScreenAppear antara kelompok 246 dengan kelompok 248\n",
        "print('Uji Hipotesis untuk layar CartScreenAppear')\n",
        "check_hypothesis(user_events_per_exp_group.loc['CartScreenAppear', 246],\n",
        "                 user_events_per_exp_group.loc['CartScreenAppear', 248],\n",
        "                 exp_user.loc[246],\n",
        "                 exp_user.loc[248],\n",
        "                )\n",
        "print()\n",
        "# Test statistik untuk PaymentScreenSuccessful antara kelompok 246 dengan kelompok 248\n",
        "print('Uji Hipotesis untuk layar PaymentScreenSuccessful')\n",
        "check_hypothesis(user_events_per_exp_group.loc['PaymentScreenSuccessful', 246],\n",
        "                 user_events_per_exp_group.loc['PaymentScreenSuccessful', 248],\n",
        "                 exp_user.loc[246],\n",
        "                 exp_user.loc[248],\n",
        "                )"
      ]
    },
    {
      "cell_type": "markdown",
      "metadata": {
        "id": "P3E1bbTG7IVm"
      },
      "source": [
        "Kesimpulan:\n",
        "\n",
        "Bahwa untuk test A/B dimana kelompok 246 dengan kelompok 248 menunjukan hasil tidak ada perbedaan statistik yang signifikan untuk masing-masang layar yang tertera yaitu:\n",
        "\n",
        "- MainScreenAppear\n",
        "- OffersScreenAppear\n",
        "- CartScreenAppear\n",
        "- PaymentScreenSuccessful"
      ]
    },
    {
      "cell_type": "markdown",
      "metadata": {
        "id": "zbSGqeVe7IVn"
      },
      "source": [
        "# Melakukan Uji A/B testing untuk sampel perbandingan antara kelompok 246 dengan 248 (Font Lama (247) vs Font Baru (248))"
      ]
    },
    {
      "cell_type": "markdown",
      "metadata": {
        "id": "b-arUi3h7IVn"
      },
      "source": [
        "Adapun sebelum menguji hipotsis terkait signifikansinya untuk perbedaan pengguna yang mengeklik halaman-halaman tersebut antara kelompok 247 dengan kelompok 248, maka dibuat pernyataan terlebih dahulu.\n",
        "\n",
        "H0 : Bahwa tidak ada perbedaan secara signifikan antara kelompok 247 dengan kelompok 248 terhadap perbedaan pengguna yang mengeklik halaman-halaman tersebut.\n",
        "\n",
        "H1 : Bahwa ada perbedaan secara signifikan antara kelompok 247 dengan kelompok 248 terhadap perbedaan pengguna yang mengeklik halaman-halaman tersebut."
      ]
    },
    {
      "cell_type": "code",
      "execution_count": null,
      "metadata": {
        "id": "ng4P9YaT7IVo",
        "outputId": "0df40649-2124-4104-bf5c-98631398b35d"
      },
      "outputs": [
        {
          "name": "stdout",
          "output_type": "stream",
          "text": [
            "Uji Hipotesis untuk layar MainScreenAppear\n",
            "p-value:  [0.51949644]\n",
            "Hipotesis nol gagal ditolak: tidak ada perbedaan statistik secara signifikan antara kedua kelompok tersebut\n",
            "\n",
            "Uji Hipotesis untuk layar OffersScreenAppear\n",
            "p-value:  [0.93337513]\n",
            "Hipotesis nol gagal ditolak: tidak ada perbedaan statistik secara signifikan antara kedua kelompok tersebut\n",
            "\n",
            "Uji Hipotesis untuk layar CartScreenAppear\n",
            "p-value:  [0.58782846]\n",
            "Hipotesis nol gagal ditolak: tidak ada perbedaan statistik secara signifikan antara kedua kelompok tersebut\n",
            "\n",
            "Uji Hipotesis untuk layar PaymentScreenSuccessful\n",
            "p-value:  [0.72757187]\n",
            "Hipotesis nol gagal ditolak: tidak ada perbedaan statistik secara signifikan antara kedua kelompok tersebut\n"
          ]
        }
      ],
      "source": [
        "# Test statistik untuk Main Screen Apprear antara kelompok 247 dengan kelompok 248\n",
        "print('Uji Hipotesis untuk layar MainScreenAppear')\n",
        "check_hypothesis(user_events_per_exp_group.loc['MainScreenAppear', 247],\n",
        "                 user_events_per_exp_group.loc['MainScreenAppear', 248],\n",
        "                 exp_user.loc[247],\n",
        "                 exp_user.loc[248],\n",
        "                )\n",
        "print()\n",
        "# Test statistik untuk OffersScreenAppear antara kelompok 247 dengan kelompok 248\n",
        "print('Uji Hipotesis untuk layar OffersScreenAppear')\n",
        "check_hypothesis(user_events_per_exp_group.loc['OffersScreenAppear', 247],\n",
        "                 user_events_per_exp_group.loc['OffersScreenAppear', 248],\n",
        "                 exp_user.loc[247],\n",
        "                 exp_user.loc[248],\n",
        "                )\n",
        "print()\n",
        "# Test statistik untuk CartScreenAppear antara kelompok 247 dengan kelompok 248\n",
        "print('Uji Hipotesis untuk layar CartScreenAppear')\n",
        "check_hypothesis(user_events_per_exp_group.loc['CartScreenAppear', 247],\n",
        "                 user_events_per_exp_group.loc['CartScreenAppear', 248],\n",
        "                 exp_user.loc[247],\n",
        "                 exp_user.loc[248],\n",
        "                )\n",
        "print()\n",
        "# Test statistik untuk PaymentScreenSuccessful antara kelompok 247 dengan kelompok 248\n",
        "print('Uji Hipotesis untuk layar PaymentScreenSuccessful')\n",
        "check_hypothesis(user_events_per_exp_group.loc['PaymentScreenSuccessful', 247],\n",
        "                 user_events_per_exp_group.loc['PaymentScreenSuccessful', 248],\n",
        "                 exp_user.loc[247],\n",
        "                 exp_user.loc[248],\n",
        "                )"
      ]
    },
    {
      "cell_type": "markdown",
      "metadata": {
        "id": "CBUZ6LQv7IVp"
      },
      "source": [
        "Kesimpulan:\n",
        "\n",
        "Bahwa untuk test A/B dimana kelompok 247 dengan kelompok 248 menunjukan hasil tidak ada perbedaan statistik yang signifikan untuk masing-masang layar yang tertera yaitu:\n",
        "\n",
        "- MainScreenAppear\n",
        "- OffersScreenAppear\n",
        "- CartScreenAppear\n",
        "- PaymentScreenSuccessful"
      ]
    },
    {
      "cell_type": "markdown",
      "metadata": {
        "id": "MTnv4iep7IVp"
      },
      "source": [
        "Baik menggunakan alpha 0.01 dan alpha 0.05, bahwa uji test A/A untuk kelompok 246 dengan kelompok 247 tidak ada perbedaan statistik secara signifikan untuk kedua kelompok tersebut.\n",
        "\n",
        "Baik menggunakan alpha 0.01 dan alpha 0.05, bahwa uji test A/B untuk kelompok 246 dengan kelompok 248 tidak ada perbedaan statistik secara signifikan untuk kedua kelompok tersebut.\n",
        "\n",
        "Baik menggunakan alpha 0.01 dan alpha 0.05, bahwa uji test A/B untuk kelompok 247 dengan kelompok 248 tidak ada perbedaan statistik secara signifikan untuk kedua kelompok tersebut."
      ]
    },
    {
      "cell_type": "markdown",
      "metadata": {
        "id": "ZfzGCWIj7IVq"
      },
      "source": [
        "## Kesimpulan"
      ]
    },
    {
      "cell_type": "markdown",
      "metadata": {
        "id": "XH51WkCH7IVq"
      },
      "source": [
        "Jumlah peristiwa dalam tindakan pengguna atau suatu peristiwa sebanyak 244126 kejadian dan jenis Peristiwa dalam tindakan pengguna atau suatu peristiwa yaitu: \n",
        "\n",
        "- Tutorial\n",
        "- MainScreenAppear\n",
        "- OffersScreenAppear\n",
        "- CartScreenAppear\n",
        "- PaymentScreenSuccessful\n",
        "_________________________________________________________________\n",
        "Banyak pengguna yang ada didalam log yaitu sebanyak 7551 pengguna, jumlah rata-rata peristiwa per-pengguna adalah 32 peristiwa per-pengguna, dan tanggal minimum dan maksimumnya yaitu: 2019-07-25 dan 2019-08-07.\n",
        "_________________________________________________________________\n",
        "Periode yang dimana data sudah mulai stabil dan memenuhi syarat untuk dianalisa serta di uji datanya yaitu data berdasarkan pada tanggal 1 September 2019 sampai 7 Septermber 2019 dan jumlah kehilangan pengguna dan peristiwa setelah data difilter yang penggunanya mulai stabil berdasarkan tanggal tidak begitu banyak kehilangan, jadi data yang sudah difilter aman dan memenuhi syarat untuk dianalisa serta di uji datanya.\n",
        "_________________________________________________________________\n",
        "Bahwa peristiwa yang sering di klik adalah peristiwa ke Halaman Utama pada aplikasi tersebut dan berdasarkan jumlah pengguna, peristiwa yang sering di klik oleh para pengguna adalah peristiwa ke Halaman Utama pada aplikasi tersebut.\n",
        "_________________________________________________________________\n",
        "Urutan tindakan-tindakan untuk kasus penjualan produk makanan ini adalah dimana tindakan sudah terurut dengan semestinaya dan sepertinya perlu untuk membuang tindakan `Tutorial`. Karena para pengguna kita anggap sudah mengerti dan familiar untuk aplikasi produk kita untuk melakukan proses pembelian tanpa tindakan `Tutorial` sekalipun atau pengguna sudah melakukan tahap `Tutorial` di aplikasi lain jadi mereka ketika ke aplikasi pembelanjaan manapun sudah cukup familiar dan tinggal menyesuaikan saja terhadap tampilan yang berbeda untuk aplikasi ini. Jadi lebih baik membuang tindakan itu dan mengurutakannya seperti ini:\n",
        "\n",
        "- Main Screen Appear\n",
        "- Offers Screen Appear\n",
        "- Cart Screen Appear \n",
        "- Payment Screen Successful\n",
        "_________________________________________________________________\n",
        "Bahwa para pengguna sepertinya banyak yang di tahap Main Screen Appear entah pengguna yang baru masuk ke aplikasinya atau pengguna dari tahap-tahap lainnya pada aplikasi tersebut. Dan ini sepertinya menjadi bahan diskusi yang menarik untuk membuat strategi atau rencana agar para pengguna tidak terlalu sering menuju tahap Main Screen Appear dengan menambahkan fitur baru yang tanpa perlu balik lagi ke tahap Main Screen Appear.\n",
        "\n",
        "Setelah tahap setelah Offers Screen Appear bahwa tahap Cart Screen Appear dari Offers Screen Appear mencapai 81.3%. Artinya bahwa pengguna yakin untuk setelah menambahkan ke keranjang setelah melihat produk yang sesuai keinginannya. dan tahap Payment Screen Successful dari Cart Screen Appear mencapai 94.78%. Artinya bahwa hampir seluruh para pengguna akan menyelesaikan pembayarannya setelah menambahkan produk ke keranjang.\n",
        "_________________________________________________________________\n",
        "Untuk dari data corong melihat presentase dari tahap sebelumnya bahwa kehilangan pengguna terbanyak pada tahap Offers Screen Appear dari tahap Main Screen Appear dengan nilai presentasi kehilangan sebesar 38.09%.\n",
        "\n",
        "Sedangkan untuk corong dari seluruh pengguna bahwa tahap kehilangan pengguna terbantak pada tahap Payment Screen Successful dengan nilai presentasi kehilangan sebesar 53.03%.\n",
        "_________________________________________________________________\n",
        "Untuk dari data corong melihat presentase dari tahap sebelumnya bahwa persentase pengguna yang berhasil menyelesaikan seluruh perjalanan dari peristiwa pertama hingga pembayaran sebesar 94.78% untuk tahap Payment Screen Successful dari tahap Cart Screen Appear.\n",
        "\n",
        "Sedangkan untuk corong dari seluruh pengguna bahwa persentase pengguna yang berhasil menyelesaikan seluruh perjalanan dari peristiwa pertama hingga pembayaran sebesar 46.97% untuk tahap Payment Screen Successful.\n",
        "_________________________________________________________________\n",
        "Bahwa untuk test A/A dimana kelompok 246 dengan kelompok 247 menunjukan hasil tidak ada perbedaan statistik yang signifikan untuk masing-masang layar yang tertera yaitu:\n",
        "\n",
        "- MainScreenAppear\n",
        "- OffersScreenAppear\n",
        "- CartScreenAppear\n",
        "- PaymentScreenSuccessful\n",
        "_________________________________________________________________\n",
        "Bahwa untuk test A/B dimana kelompok 246 dengan kelompok 248 menunjukan hasil tidak ada perbedaan statistik yang signifikan untuk masing-masang layar yang tertera yaitu:\n",
        "\n",
        "- MainScreenAppear\n",
        "- OffersScreenAppear\n",
        "- CartScreenAppear\n",
        "- PaymentScreenSuccessful\n",
        "_________________________________________________________________\n",
        "Bahwa untuk test A/B dimana kelompok 247 dengan kelompok 248 menunjukan hasil tidak ada perbedaan statistik yang signifikan untuk masing-masang layar yang tertera yaitu:\n",
        "\n",
        "- MainScreenAppear\n",
        "- OffersScreenAppear\n",
        "- CartScreenAppear\n",
        "- PaymentScreenSuccessful\n",
        "_________________________________________________________________\n",
        "Baik menggunakan alpha 0.01 dan alpha 0.05, bahwa uji test A/A dan A/B untuk kelompok 246, kelompok 247 dan kelompok 248 tidak ada perbedaan statistik secara signifikan untuk kedua kelompok tersebut.\n",
        "_________________________________________________________________"
      ]
    }
  ],
  "metadata": {
    "kernelspec": {
      "display_name": "Python 3 (ipykernel)",
      "language": "python",
      "name": "python3"
    },
    "language_info": {
      "codemirror_mode": {
        "name": "ipython",
        "version": 3
      },
      "file_extension": ".py",
      "mimetype": "text/x-python",
      "name": "python",
      "nbconvert_exporter": "python",
      "pygments_lexer": "ipython3",
      "version": "3.9.5"
    },
    "toc": {
      "base_numbering": 1,
      "nav_menu": {},
      "number_sections": true,
      "sideBar": true,
      "skip_h1_title": true,
      "title_cell": "Table of Contents",
      "title_sidebar": "Contents",
      "toc_cell": false,
      "toc_position": {
        "height": "calc(100% - 180px)",
        "left": "10px",
        "top": "150px",
        "width": "261px"
      },
      "toc_section_display": true,
      "toc_window_display": false
    },
    "colab": {
      "provenance": []
    }
  },
  "nbformat": 4,
  "nbformat_minor": 0
}