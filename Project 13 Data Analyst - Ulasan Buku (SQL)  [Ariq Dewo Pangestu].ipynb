{
  "cells": [
    {
      "cell_type": "markdown",
      "metadata": {
        "id": "9apOuSnO-fgy"
      },
      "source": [
        "# Daftar Isi\n",
        "\n",
        "- [Daftar Isi](#daftar_isi)\n",
        "- [Pendahuluan](#pendahuluan)\n",
        "- [Pengantar Proyek](#pengantar_proyek)\n",
        "- [Tujuan Proyek](#tujuan_proyek)\n",
        "- [Tahapan Proyek](#tahapan_proyek)\n",
        "- [Memuat seluruh Library dan Membaca filenya](#1)\n",
        "    - [Memuat seluruh Library](#11)\n",
        "    - [Memuat seluruh data untuk masing-masing tabel dan membaca serta menganalisanya](#12)\n",
        "        - [Tabel Books](#121)\n",
        "        - [Tabel Authors](#122)\n",
        "        - [Tabel Publishers](#123)\n",
        "        - [Tabel Ratings](#124)\n",
        "        - [Tabel Reviews](#125)\n",
        "- [Analisis Data Eksplorasi (EDA)](#2)\n",
        "    - [Menghitung jumlah buku yang dirilis setelah tanggal tertentu](#21)\n",
        "    - [Menghitung jumlah ulasan pengguna dan rating rata-rata untuk setiap buku](#22)\n",
        "    - [Penerbit yang telah menerbitkan buku terbanyak lebih dari 50 halaman](#23)\n",
        "    - [Menentukan penulis dengan rata-rata rating buku tertinggi dengan rating minimal 50](#24)\n",
        "    - [Menghitung jumlah rata-rata teks ulasan](#25)\n",
        "- [Kesimpulan](#3)\n",
        "- [Rekomendasi](#4)"
      ]
    },
    {
      "cell_type": "markdown",
      "metadata": {
        "id": "S-UdySq--fg0"
      },
      "source": [
        "# Pendahuluan\n",
        "\n",
        "Setiap kali kita melakukan penelitian, kita memerlukan analisa secara menyeluruh dengan seksama. Untuk membuat keputusan yang tepat, sebuah bisnis harus dapat memahami apakah analisa yang dibuatnya benar atau tidak.\n",
        "\n",
        "Proyek ini menganalisa berbagai tabel seperti tabel buku, tabel pengarang, tabel penerbit, tabel rating, dan tabel review untuk membuat penawaran harga untuk sebuah produk baru."
      ]
    },
    {
      "cell_type": "markdown",
      "metadata": {
        "id": "-W7SM0d0-fg1"
      },
      "source": [
        "# Pengantar Proyek\n",
        "\n",
        "Virus corona yang kehadirannya mengejutkan seluruh dunia telah mengubah rutinitas harian semua orang. Kini warga kota tidak lagi menghabiskan waktu luangnya di luar rumah seperti pergi ke kafe dan mal. Mereka lebih sering berada di rumah, menghabiskan waktunya dengan membaca buku. Hal ini pun mendorong perusahaan startup untuk mengembangkan aplikasi baru bagi para pecinta buku.\n",
        "\n",
        "Anda telah diberi sebuah database dari salah satu perusahaan yang bersaing dalam industri ini. Database tersebut berisi data tentang buku, penerbit, penulis, serta rating dan ulasan pelanggan atas buku terkait. Informasi ini akan digunakan dalam membuat penawaran harga untuk sebuah produk baru."
      ]
    },
    {
      "cell_type": "markdown",
      "metadata": {
        "id": "qBfF29kT-fg2"
      },
      "source": [
        "# Tujuan Proyek\n",
        "\n",
        "Menggali informasi yang akan digunakan dalam membuat penawaran harga untuk sebuah produk baru dan membuat profit untuk startup yang dibidang buku."
      ]
    },
    {
      "cell_type": "markdown",
      "metadata": {
        "id": "6NjdRrjn-fg3"
      },
      "source": [
        "# Tahapan Proyek\n",
        "\n",
        "Mempelajari isi dari beberapa tabel:\n",
        "\n",
        "Tabel `books`: Berisi data tentang buku\n",
        "\n",
        "- `book_id` — ID buku\n",
        "- `author_id` — ID penulis\n",
        "- `title` — judul buku\n",
        "- `num_pages` — jumlah halaman\n",
        "- `publication_date` — tanggal penerbitan\n",
        "- `publisher_id` — ID penerbit\n",
        "\n",
        "Tabel `authors`: Berisi data tentang penulis\n",
        "\n",
        "- `author_id` — ID penulis\n",
        "- `author` — nama penulis\n",
        "\n",
        "Tabel `publishers`: Berisi data tentang penerbit\n",
        "\n",
        "- `publisher_id` — ID penerbit\n",
        "- `publisher` — nama penerbit\n",
        "\n",
        "Tabel `ratings`: Berisi data tentang rating pengguna\n",
        "\n",
        "- `rating_id` — ID rating\n",
        "- `book_id` — ID buku\n",
        "- `username` — nama pengguna yang memberi rating buku\n",
        "- `rating` — penilaian terhadap buku \n",
        "\n",
        "Tabel `reviews`: Berisi data tentang ulasan pelanggan\n",
        "\n",
        "- `review_id` — ID ulasan\n",
        "- `book_id` — ID buku\n",
        "- `username` — nama pengguna yang mengulas buku\n",
        "- `text` — teks ulasan\n",
        "\n",
        "Setelah mempelajari tabelnya, akan melakukan Analisis Data Eksplorasi dengan metode SQL, adapun analisisnya, yaitu:\n",
        "\n",
        "- Hitung jumlah buku yang dirilis setelah tanggal 1 Januari 2000.\n",
        "- Hitung jumlah ulasan pengguna dan rating rata-rata untuk setiap buku.\n",
        "- Tentukan penerbit yang telah menerbitkan buku terbanyak dengan jumlah lebih dari 50 halaman.\n",
        "- Tentukan penulis dengan rating rata-rata buku tertinggi: temukan buku dengan rating minimal 50.\n",
        "- Hitung jumlah rata-rata teks ulasan di antara pengguna yang memberi rating lebih dari 50 buku.\n",
        "\n",
        "Setelah proses Analisis Data Eksplorasi dengan metode SQL, akan melakukan langkah terakhir, yaitu:\n",
        "\n",
        "- Kesimpulan\n",
        "- Rekomendasi"
      ]
    },
    {
      "cell_type": "markdown",
      "metadata": {
        "id": "Y7DOGYML-fhE"
      },
      "source": [
        "## Memuat seluruh Library dan Membaca filenya"
      ]
    },
    {
      "cell_type": "markdown",
      "metadata": {
        "id": "Ma9zeC2h-fhE"
      },
      "source": [
        "### Memuat seluruh Library\n",
        "\n",
        "Sebelum memulai analisa, diperlukan library yang hanya dibutuhkan untuk analisa kali ini."
      ]
    },
    {
      "cell_type": "code",
      "execution_count": null,
      "metadata": {
        "id": "FQ1W_LwP-fhF"
      },
      "outputs": [],
      "source": [
        "# impor library yang diperlukan\n",
        "import pandas as pd\n",
        "from sqlalchemy import create_engine\n",
        "\n",
        "db_config = {'user': 'practicum_student',         # nama pengguna\n",
        "             'pwd': 's65BlTKV3faNIGhmvJVzOqhs', # kata sandi\n",
        "             'host': 'rc1b-wcoijxj3yxfsf3fs.mdb.yandexcloud.net',\n",
        "             'port': 6432,              # port koneksi\n",
        "             'db': 'data-analyst-final-project-db'}          # nama database\n",
        "\n",
        "connection_string = 'postgresql://{}:{}@{}:{}/{}'.format(db_config['user'],\n",
        "                                                                     db_config['pwd'],\n",
        "                                                                       db_config['host'],\n",
        "                                                                       db_config['port'],\n",
        "                                                                       db_config['db'])\n",
        "\n",
        "engine = create_engine(connection_string, connect_args={'sslmode':'require'})"
      ]
    },
    {
      "cell_type": "code",
      "execution_count": null,
      "metadata": {
        "id": "wncP5J7L-fhG"
      },
      "outputs": [],
      "source": [
        "# Menyembunyikan warning\n",
        "import warnings\n",
        "# Membuat set kolom untuk kolom bisa dibaca jika panjang\n",
        "pd.set_option('display.max_columns', 100)\n",
        "# Membuat warning untuk di abaikan dan disembunyikan\n",
        "warnings.filterwarnings('ignore')"
      ]
    },
    {
      "cell_type": "markdown",
      "metadata": {
        "id": "NF9xGG0f-fhH"
      },
      "source": [
        "### Memuat seluruh data untuk masing-masing tabel dan membaca serta menganalisanya."
      ]
    },
    {
      "cell_type": "markdown",
      "metadata": {
        "id": "SKEv20_0-fhH"
      },
      "source": [
        "#### Tabel Books"
      ]
    },
    {
      "cell_type": "code",
      "execution_count": null,
      "metadata": {
        "id": "08HRj99t-fhI",
        "outputId": "a50ce559-3d39-466c-c475-b8877349bff3"
      },
      "outputs": [
        {
          "data": {
            "text/html": [
              "<div>\n",
              "<style scoped>\n",
              "    .dataframe tbody tr th:only-of-type {\n",
              "        vertical-align: middle;\n",
              "    }\n",
              "\n",
              "    .dataframe tbody tr th {\n",
              "        vertical-align: top;\n",
              "    }\n",
              "\n",
              "    .dataframe thead th {\n",
              "        text-align: right;\n",
              "    }\n",
              "</style>\n",
              "<table border=\"1\" class=\"dataframe\">\n",
              "  <thead>\n",
              "    <tr style=\"text-align: right;\">\n",
              "      <th></th>\n",
              "      <th>book_id</th>\n",
              "      <th>author_id</th>\n",
              "      <th>title</th>\n",
              "      <th>num_pages</th>\n",
              "      <th>publication_date</th>\n",
              "      <th>publisher_id</th>\n",
              "    </tr>\n",
              "  </thead>\n",
              "  <tbody>\n",
              "    <tr>\n",
              "      <th>0</th>\n",
              "      <td>1</td>\n",
              "      <td>546</td>\n",
              "      <td>'Salem's Lot</td>\n",
              "      <td>594</td>\n",
              "      <td>2005-11-01</td>\n",
              "      <td>93</td>\n",
              "    </tr>\n",
              "    <tr>\n",
              "      <th>1</th>\n",
              "      <td>2</td>\n",
              "      <td>465</td>\n",
              "      <td>1 000 Places to See Before You Die</td>\n",
              "      <td>992</td>\n",
              "      <td>2003-05-22</td>\n",
              "      <td>336</td>\n",
              "    </tr>\n",
              "    <tr>\n",
              "      <th>2</th>\n",
              "      <td>3</td>\n",
              "      <td>407</td>\n",
              "      <td>13 Little Blue Envelopes (Little Blue Envelope...</td>\n",
              "      <td>322</td>\n",
              "      <td>2010-12-21</td>\n",
              "      <td>135</td>\n",
              "    </tr>\n",
              "    <tr>\n",
              "      <th>3</th>\n",
              "      <td>4</td>\n",
              "      <td>82</td>\n",
              "      <td>1491: New Revelations of the Americas Before C...</td>\n",
              "      <td>541</td>\n",
              "      <td>2006-10-10</td>\n",
              "      <td>309</td>\n",
              "    </tr>\n",
              "    <tr>\n",
              "      <th>4</th>\n",
              "      <td>5</td>\n",
              "      <td>125</td>\n",
              "      <td>1776</td>\n",
              "      <td>386</td>\n",
              "      <td>2006-07-04</td>\n",
              "      <td>268</td>\n",
              "    </tr>\n",
              "    <tr>\n",
              "      <th>...</th>\n",
              "      <td>...</td>\n",
              "      <td>...</td>\n",
              "      <td>...</td>\n",
              "      <td>...</td>\n",
              "      <td>...</td>\n",
              "      <td>...</td>\n",
              "    </tr>\n",
              "    <tr>\n",
              "      <th>995</th>\n",
              "      <td>996</td>\n",
              "      <td>571</td>\n",
              "      <td>Wyrd Sisters (Discworld  #6; Witches #2)</td>\n",
              "      <td>265</td>\n",
              "      <td>2001-02-06</td>\n",
              "      <td>147</td>\n",
              "    </tr>\n",
              "    <tr>\n",
              "      <th>996</th>\n",
              "      <td>997</td>\n",
              "      <td>454</td>\n",
              "      <td>Xenocide (Ender's Saga  #3)</td>\n",
              "      <td>592</td>\n",
              "      <td>1996-07-15</td>\n",
              "      <td>297</td>\n",
              "    </tr>\n",
              "    <tr>\n",
              "      <th>997</th>\n",
              "      <td>998</td>\n",
              "      <td>201</td>\n",
              "      <td>Year of Wonders</td>\n",
              "      <td>358</td>\n",
              "      <td>2002-04-30</td>\n",
              "      <td>212</td>\n",
              "    </tr>\n",
              "    <tr>\n",
              "      <th>998</th>\n",
              "      <td>999</td>\n",
              "      <td>94</td>\n",
              "      <td>You Suck (A Love Story  #2)</td>\n",
              "      <td>328</td>\n",
              "      <td>2007-01-16</td>\n",
              "      <td>331</td>\n",
              "    </tr>\n",
              "    <tr>\n",
              "      <th>999</th>\n",
              "      <td>1000</td>\n",
              "      <td>509</td>\n",
              "      <td>Zen and the Art of Motorcycle Maintenance: An ...</td>\n",
              "      <td>540</td>\n",
              "      <td>2006-04-25</td>\n",
              "      <td>143</td>\n",
              "    </tr>\n",
              "  </tbody>\n",
              "</table>\n",
              "<p>1000 rows × 6 columns</p>\n",
              "</div>"
            ],
            "text/plain": [
              "     book_id  author_id                                              title  \\\n",
              "0          1        546                                       'Salem's Lot   \n",
              "1          2        465                 1 000 Places to See Before You Die   \n",
              "2          3        407  13 Little Blue Envelopes (Little Blue Envelope...   \n",
              "3          4         82  1491: New Revelations of the Americas Before C...   \n",
              "4          5        125                                               1776   \n",
              "..       ...        ...                                                ...   \n",
              "995      996        571           Wyrd Sisters (Discworld  #6; Witches #2)   \n",
              "996      997        454                        Xenocide (Ender's Saga  #3)   \n",
              "997      998        201                                    Year of Wonders   \n",
              "998      999         94                        You Suck (A Love Story  #2)   \n",
              "999     1000        509  Zen and the Art of Motorcycle Maintenance: An ...   \n",
              "\n",
              "     num_pages publication_date  publisher_id  \n",
              "0          594       2005-11-01            93  \n",
              "1          992       2003-05-22           336  \n",
              "2          322       2010-12-21           135  \n",
              "3          541       2006-10-10           309  \n",
              "4          386       2006-07-04           268  \n",
              "..         ...              ...           ...  \n",
              "995        265       2001-02-06           147  \n",
              "996        592       1996-07-15           297  \n",
              "997        358       2002-04-30           212  \n",
              "998        328       2007-01-16           331  \n",
              "999        540       2006-04-25           143  \n",
              "\n",
              "[1000 rows x 6 columns]"
            ]
          },
          "execution_count": 3,
          "metadata": {},
          "output_type": "execute_result"
        }
      ],
      "source": [
        "# Memuat file tabel books (df_books)\n",
        "df_books = ''' \n",
        "SELECT \n",
        "    * \n",
        "FROM \n",
        "    books;\n",
        "'''\n",
        "\n",
        "# Melihat tabel books (df_books)\n",
        "pd.io.sql.read_sql(df_books, con = engine)"
      ]
    },
    {
      "cell_type": "markdown",
      "metadata": {
        "id": "wDggW-1T-fhJ"
      },
      "source": [
        "**Deskripsi Data**\n",
        "\n",
        "Tabel books: Berisi data tentang buku\n",
        "\n",
        "- `book_id` — ID buku\n",
        "- `author_id` — ID penulis\n",
        "- `title` — judul buku\n",
        "- `num_pages` — jumlah halaman\n",
        "- `publication_date` — tanggal penerbitan\n",
        "- `publisher_id` — ID penerbit"
      ]
    },
    {
      "cell_type": "code",
      "execution_count": null,
      "metadata": {
        "id": "4XkhJXpE-fhK",
        "outputId": "15d9669c-bf88-4b99-fe09-6847a3160307"
      },
      "outputs": [
        {
          "name": "stdout",
          "output_type": "stream",
          "text": [
            "<class 'pandas.core.frame.DataFrame'>\n",
            "RangeIndex: 1000 entries, 0 to 999\n",
            "Data columns (total 6 columns):\n",
            " #   Column            Non-Null Count  Dtype \n",
            "---  ------            --------------  ----- \n",
            " 0   book_id           1000 non-null   int64 \n",
            " 1   author_id         1000 non-null   int64 \n",
            " 2   title             1000 non-null   object\n",
            " 3   num_pages         1000 non-null   int64 \n",
            " 4   publication_date  1000 non-null   object\n",
            " 5   publisher_id      1000 non-null   int64 \n",
            "dtypes: int64(4), object(2)\n",
            "memory usage: 47.0+ KB\n"
          ]
        }
      ],
      "source": [
        "# Melihat informasi keseluruhan pada tabel books (df_books)\n",
        "pd.io.sql.read_sql(df_books, con = engine).info()"
      ]
    },
    {
      "cell_type": "code",
      "execution_count": null,
      "metadata": {
        "id": "klpBUyqb-fhK",
        "outputId": "556f2930-bebd-4b07-acef-98c0ec9f068c"
      },
      "outputs": [
        {
          "data": {
            "text/plain": [
              "book_id             0\n",
              "author_id           0\n",
              "title               0\n",
              "num_pages           0\n",
              "publication_date    0\n",
              "publisher_id        0\n",
              "dtype: int64"
            ]
          },
          "execution_count": 5,
          "metadata": {},
          "output_type": "execute_result"
        }
      ],
      "source": [
        "# Melihat nilai yang hilang pada tabel books (df_books)\n",
        "pd.io.sql.read_sql(df_books, con = engine).isna().sum()"
      ]
    },
    {
      "cell_type": "code",
      "execution_count": null,
      "metadata": {
        "id": "mUYNi4fA-fhL",
        "outputId": "03b797db-e5fa-4d25-d87f-eda6e6c7d453"
      },
      "outputs": [
        {
          "data": {
            "text/plain": [
              "0"
            ]
          },
          "execution_count": 6,
          "metadata": {},
          "output_type": "execute_result"
        }
      ],
      "source": [
        "# Melihat nilai yang duplikasi pada tabel books (df_books)\n",
        "pd.io.sql.read_sql(df_books, con = engine).duplicated().sum()"
      ]
    },
    {
      "cell_type": "markdown",
      "metadata": {
        "id": "8oDgVaT_-fhL"
      },
      "source": [
        "Setelah melihat dan menganalisa tabel books, maka didapatkan beberapa kesimpulan untuk tabel ini, yaitu:\n",
        "\n",
        "- Tidak mempunyai masalah untuk nilai yang hilang\n",
        "- Tidak mempunyai masalah untuk nilai yang duplikasi\n",
        "- Tidak mempunyai masalah untuk nama kolomnya\n",
        "- Tidak mempunyai masalah untuk tipe datanya"
      ]
    },
    {
      "cell_type": "markdown",
      "metadata": {
        "id": "pjjQkA6T-fhM"
      },
      "source": [
        "#### Tabel Authors"
      ]
    },
    {
      "cell_type": "code",
      "execution_count": null,
      "metadata": {
        "id": "g-DpPmBL-fhN",
        "outputId": "e85c62ea-2af9-4583-b680-4d04d8bddaa3"
      },
      "outputs": [
        {
          "data": {
            "text/html": [
              "<div>\n",
              "<style scoped>\n",
              "    .dataframe tbody tr th:only-of-type {\n",
              "        vertical-align: middle;\n",
              "    }\n",
              "\n",
              "    .dataframe tbody tr th {\n",
              "        vertical-align: top;\n",
              "    }\n",
              "\n",
              "    .dataframe thead th {\n",
              "        text-align: right;\n",
              "    }\n",
              "</style>\n",
              "<table border=\"1\" class=\"dataframe\">\n",
              "  <thead>\n",
              "    <tr style=\"text-align: right;\">\n",
              "      <th></th>\n",
              "      <th>author_id</th>\n",
              "      <th>author</th>\n",
              "    </tr>\n",
              "  </thead>\n",
              "  <tbody>\n",
              "    <tr>\n",
              "      <th>0</th>\n",
              "      <td>1</td>\n",
              "      <td>A.S. Byatt</td>\n",
              "    </tr>\n",
              "    <tr>\n",
              "      <th>1</th>\n",
              "      <td>2</td>\n",
              "      <td>Aesop/Laura Harris/Laura Gibbs</td>\n",
              "    </tr>\n",
              "    <tr>\n",
              "      <th>2</th>\n",
              "      <td>3</td>\n",
              "      <td>Agatha Christie</td>\n",
              "    </tr>\n",
              "    <tr>\n",
              "      <th>3</th>\n",
              "      <td>4</td>\n",
              "      <td>Alan Brennert</td>\n",
              "    </tr>\n",
              "    <tr>\n",
              "      <th>4</th>\n",
              "      <td>5</td>\n",
              "      <td>Alan Moore/David   Lloyd</td>\n",
              "    </tr>\n",
              "    <tr>\n",
              "      <th>...</th>\n",
              "      <td>...</td>\n",
              "      <td>...</td>\n",
              "    </tr>\n",
              "    <tr>\n",
              "      <th>631</th>\n",
              "      <td>632</td>\n",
              "      <td>William Strunk Jr./E.B. White</td>\n",
              "    </tr>\n",
              "    <tr>\n",
              "      <th>632</th>\n",
              "      <td>633</td>\n",
              "      <td>Zadie Smith</td>\n",
              "    </tr>\n",
              "    <tr>\n",
              "      <th>633</th>\n",
              "      <td>634</td>\n",
              "      <td>Zilpha Keatley Snyder</td>\n",
              "    </tr>\n",
              "    <tr>\n",
              "      <th>634</th>\n",
              "      <td>635</td>\n",
              "      <td>Zora Neale Hurston</td>\n",
              "    </tr>\n",
              "    <tr>\n",
              "      <th>635</th>\n",
              "      <td>636</td>\n",
              "      <td>Åsne Seierstad/Ingrid Christopherson</td>\n",
              "    </tr>\n",
              "  </tbody>\n",
              "</table>\n",
              "<p>636 rows × 2 columns</p>\n",
              "</div>"
            ],
            "text/plain": [
              "     author_id                                author\n",
              "0            1                            A.S. Byatt\n",
              "1            2        Aesop/Laura Harris/Laura Gibbs\n",
              "2            3                       Agatha Christie\n",
              "3            4                         Alan Brennert\n",
              "4            5              Alan Moore/David   Lloyd\n",
              "..         ...                                   ...\n",
              "631        632         William Strunk Jr./E.B. White\n",
              "632        633                           Zadie Smith\n",
              "633        634                 Zilpha Keatley Snyder\n",
              "634        635                    Zora Neale Hurston\n",
              "635        636  Åsne Seierstad/Ingrid Christopherson\n",
              "\n",
              "[636 rows x 2 columns]"
            ]
          },
          "execution_count": 7,
          "metadata": {},
          "output_type": "execute_result"
        }
      ],
      "source": [
        "# Memuat file tabel authors (df_authors)\n",
        "df_authors = ''' \n",
        "SELECT \n",
        "    * \n",
        "FROM \n",
        "    authors;\n",
        "'''\n",
        "\n",
        "# Melihat tabel authors (df_authors)\n",
        "pd.io.sql.read_sql(df_authors, con = engine)"
      ]
    },
    {
      "cell_type": "markdown",
      "metadata": {
        "id": "DRrNPawn-fhN"
      },
      "source": [
        "**Deskripsi Data**\n",
        "\n",
        "Tabel authors: Berisi data tentang penulis\n",
        "\n",
        "- `author_id` — ID penulis\n",
        "- `author` — nama penulis"
      ]
    },
    {
      "cell_type": "code",
      "execution_count": null,
      "metadata": {
        "id": "V_y-PGK7-fhP",
        "outputId": "5a57f145-bf9e-4ac9-9d0b-0f462fa82e35"
      },
      "outputs": [
        {
          "name": "stdout",
          "output_type": "stream",
          "text": [
            "<class 'pandas.core.frame.DataFrame'>\n",
            "RangeIndex: 636 entries, 0 to 635\n",
            "Data columns (total 2 columns):\n",
            " #   Column     Non-Null Count  Dtype \n",
            "---  ------     --------------  ----- \n",
            " 0   author_id  636 non-null    int64 \n",
            " 1   author     636 non-null    object\n",
            "dtypes: int64(1), object(1)\n",
            "memory usage: 10.1+ KB\n"
          ]
        }
      ],
      "source": [
        "# Melihat informasi keseluruhan pada tabel authors (df_authors)\n",
        "pd.io.sql.read_sql(df_authors, con = engine).info()"
      ]
    },
    {
      "cell_type": "code",
      "execution_count": null,
      "metadata": {
        "id": "n5lekVn7-fhP",
        "outputId": "3e0702b1-9716-4156-eff8-c3c973c8a888"
      },
      "outputs": [
        {
          "data": {
            "text/plain": [
              "author_id    0\n",
              "author       0\n",
              "dtype: int64"
            ]
          },
          "execution_count": 9,
          "metadata": {},
          "output_type": "execute_result"
        }
      ],
      "source": [
        "# Melihat nilai yang hilang pada tabel authors (df_authors)\n",
        "pd.io.sql.read_sql(df_authors, con = engine).isna().sum()"
      ]
    },
    {
      "cell_type": "code",
      "execution_count": null,
      "metadata": {
        "id": "3RGxujUf-fhR",
        "outputId": "10213496-bf7d-4ae1-e100-190ce36c8e2f"
      },
      "outputs": [
        {
          "data": {
            "text/plain": [
              "0"
            ]
          },
          "execution_count": 10,
          "metadata": {},
          "output_type": "execute_result"
        }
      ],
      "source": [
        "# Melihat nilai yang duplikasi pada tabel authors (df_authors)\n",
        "pd.io.sql.read_sql(df_authors, con = engine).duplicated().sum()"
      ]
    },
    {
      "cell_type": "markdown",
      "metadata": {
        "id": "YHGEwUrd-fhS"
      },
      "source": [
        "Setelah melihat dan menganalisa tabel authors, maka didapatkan beberapa kesimpulan untuk tabel ini, yaitu:\n",
        "\n",
        "- Tidak mempunyai masalah untuk nilai yang hilang\n",
        "- Tidak mempunyai masalah untuk nilai yang duplikasi\n",
        "- Tidak mempunyai masalah untuk nama kolomnya\n",
        "- Tidak mempunyai masalah untuk tipe datanya"
      ]
    },
    {
      "cell_type": "markdown",
      "metadata": {
        "id": "qed2tFbT-fhU"
      },
      "source": [
        "#### Tabel Publishers"
      ]
    },
    {
      "cell_type": "code",
      "execution_count": null,
      "metadata": {
        "id": "Ktc-5iI5-fhV",
        "outputId": "fe99236d-6fa8-4eb1-c75f-2db4b1e1c46e"
      },
      "outputs": [
        {
          "data": {
            "text/html": [
              "<div>\n",
              "<style scoped>\n",
              "    .dataframe tbody tr th:only-of-type {\n",
              "        vertical-align: middle;\n",
              "    }\n",
              "\n",
              "    .dataframe tbody tr th {\n",
              "        vertical-align: top;\n",
              "    }\n",
              "\n",
              "    .dataframe thead th {\n",
              "        text-align: right;\n",
              "    }\n",
              "</style>\n",
              "<table border=\"1\" class=\"dataframe\">\n",
              "  <thead>\n",
              "    <tr style=\"text-align: right;\">\n",
              "      <th></th>\n",
              "      <th>publisher_id</th>\n",
              "      <th>publisher</th>\n",
              "    </tr>\n",
              "  </thead>\n",
              "  <tbody>\n",
              "    <tr>\n",
              "      <th>0</th>\n",
              "      <td>1</td>\n",
              "      <td>Ace</td>\n",
              "    </tr>\n",
              "    <tr>\n",
              "      <th>1</th>\n",
              "      <td>2</td>\n",
              "      <td>Ace Book</td>\n",
              "    </tr>\n",
              "    <tr>\n",
              "      <th>2</th>\n",
              "      <td>3</td>\n",
              "      <td>Ace Books</td>\n",
              "    </tr>\n",
              "    <tr>\n",
              "      <th>3</th>\n",
              "      <td>4</td>\n",
              "      <td>Ace Hardcover</td>\n",
              "    </tr>\n",
              "    <tr>\n",
              "      <th>4</th>\n",
              "      <td>5</td>\n",
              "      <td>Addison Wesley Publishing Company</td>\n",
              "    </tr>\n",
              "    <tr>\n",
              "      <th>...</th>\n",
              "      <td>...</td>\n",
              "      <td>...</td>\n",
              "    </tr>\n",
              "    <tr>\n",
              "      <th>335</th>\n",
              "      <td>336</td>\n",
              "      <td>Workman Publishing Company</td>\n",
              "    </tr>\n",
              "    <tr>\n",
              "      <th>336</th>\n",
              "      <td>337</td>\n",
              "      <td>Wyatt Book</td>\n",
              "    </tr>\n",
              "    <tr>\n",
              "      <th>337</th>\n",
              "      <td>338</td>\n",
              "      <td>Yale University Press</td>\n",
              "    </tr>\n",
              "    <tr>\n",
              "      <th>338</th>\n",
              "      <td>339</td>\n",
              "      <td>Yearling</td>\n",
              "    </tr>\n",
              "    <tr>\n",
              "      <th>339</th>\n",
              "      <td>340</td>\n",
              "      <td>Yearling Books</td>\n",
              "    </tr>\n",
              "  </tbody>\n",
              "</table>\n",
              "<p>340 rows × 2 columns</p>\n",
              "</div>"
            ],
            "text/plain": [
              "     publisher_id                          publisher\n",
              "0               1                                Ace\n",
              "1               2                           Ace Book\n",
              "2               3                          Ace Books\n",
              "3               4                      Ace Hardcover\n",
              "4               5  Addison Wesley Publishing Company\n",
              "..            ...                                ...\n",
              "335           336         Workman Publishing Company\n",
              "336           337                         Wyatt Book\n",
              "337           338              Yale University Press\n",
              "338           339                           Yearling\n",
              "339           340                     Yearling Books\n",
              "\n",
              "[340 rows x 2 columns]"
            ]
          },
          "execution_count": 11,
          "metadata": {},
          "output_type": "execute_result"
        }
      ],
      "source": [
        "# Memuat file tabel publishers (df_publishers)\n",
        "df_publishers = ''' \n",
        "SELECT \n",
        "    * \n",
        "FROM \n",
        "    publishers;\n",
        "'''\n",
        "\n",
        "# Melihat tabel publishers (df_publishers)\n",
        "pd.io.sql.read_sql(df_publishers, con = engine)"
      ]
    },
    {
      "cell_type": "markdown",
      "metadata": {
        "id": "DBSj4ZLc-fhV"
      },
      "source": [
        "**Deskripsi Data**\n",
        "\n",
        "Tabel publishers: Berisi data tentang penerbit\n",
        "\n",
        "- `publisher_id` — ID penerbit\n",
        "- `publisher` — nama penerbit"
      ]
    },
    {
      "cell_type": "code",
      "execution_count": null,
      "metadata": {
        "id": "-XPFV5s5-fhW",
        "outputId": "d34cc70d-59e6-418d-b667-e76f2087fea1"
      },
      "outputs": [
        {
          "name": "stdout",
          "output_type": "stream",
          "text": [
            "<class 'pandas.core.frame.DataFrame'>\n",
            "RangeIndex: 340 entries, 0 to 339\n",
            "Data columns (total 2 columns):\n",
            " #   Column        Non-Null Count  Dtype \n",
            "---  ------        --------------  ----- \n",
            " 0   publisher_id  340 non-null    int64 \n",
            " 1   publisher     340 non-null    object\n",
            "dtypes: int64(1), object(1)\n",
            "memory usage: 5.4+ KB\n"
          ]
        }
      ],
      "source": [
        "# Melihat informasi keseluruhan pada tabel publishers (df_publishers)\n",
        "pd.io.sql.read_sql(df_publishers, con = engine).info()"
      ]
    },
    {
      "cell_type": "code",
      "execution_count": null,
      "metadata": {
        "id": "a786Ou0x-fhW",
        "outputId": "044dc900-173c-4f16-a25b-97858b859066"
      },
      "outputs": [
        {
          "data": {
            "text/plain": [
              "publisher_id    0\n",
              "publisher       0\n",
              "dtype: int64"
            ]
          },
          "execution_count": 13,
          "metadata": {},
          "output_type": "execute_result"
        }
      ],
      "source": [
        "# Melihat nilai yang hilang pada tabel publishers (df_publishers)\n",
        "pd.io.sql.read_sql(df_publishers, con = engine).isna().sum()"
      ]
    },
    {
      "cell_type": "code",
      "execution_count": null,
      "metadata": {
        "id": "KVJgOfHs-fhX",
        "outputId": "5cda4a58-10b0-4bb4-8b5e-2a380dd16661"
      },
      "outputs": [
        {
          "data": {
            "text/plain": [
              "0"
            ]
          },
          "execution_count": 14,
          "metadata": {},
          "output_type": "execute_result"
        }
      ],
      "source": [
        "# Melihat nilai yang duplikasi pada tabel publishers (df_publishers)\n",
        "pd.io.sql.read_sql(df_publishers, con = engine).duplicated().sum()"
      ]
    },
    {
      "cell_type": "markdown",
      "metadata": {
        "id": "Chtkx-os-fhY"
      },
      "source": [
        "Setelah melihat dan menganalisa tabel publishers, maka didapatkan beberapa kesimpulan untuk tabel ini, yaitu:\n",
        "\n",
        "- Tidak mempunyai masalah untuk nilai yang hilang\n",
        "- Tidak mempunyai masalah untuk nilai yang duplikasi\n",
        "- Tidak mempunyai masalah untuk nama kolomnya\n",
        "- Tidak mempunyai masalah untuk tipe datanya"
      ]
    },
    {
      "cell_type": "markdown",
      "metadata": {
        "id": "0qgq_Aju-fhZ"
      },
      "source": [
        "#### Tabel Ratings"
      ]
    },
    {
      "cell_type": "code",
      "execution_count": null,
      "metadata": {
        "id": "4MhUVBYD-fhZ",
        "outputId": "dd0c2ee1-2c43-403b-b401-46f0311ecb87"
      },
      "outputs": [
        {
          "data": {
            "text/html": [
              "<div>\n",
              "<style scoped>\n",
              "    .dataframe tbody tr th:only-of-type {\n",
              "        vertical-align: middle;\n",
              "    }\n",
              "\n",
              "    .dataframe tbody tr th {\n",
              "        vertical-align: top;\n",
              "    }\n",
              "\n",
              "    .dataframe thead th {\n",
              "        text-align: right;\n",
              "    }\n",
              "</style>\n",
              "<table border=\"1\" class=\"dataframe\">\n",
              "  <thead>\n",
              "    <tr style=\"text-align: right;\">\n",
              "      <th></th>\n",
              "      <th>rating_id</th>\n",
              "      <th>book_id</th>\n",
              "      <th>username</th>\n",
              "      <th>rating</th>\n",
              "    </tr>\n",
              "  </thead>\n",
              "  <tbody>\n",
              "    <tr>\n",
              "      <th>0</th>\n",
              "      <td>1</td>\n",
              "      <td>1</td>\n",
              "      <td>ryanfranco</td>\n",
              "      <td>4</td>\n",
              "    </tr>\n",
              "    <tr>\n",
              "      <th>1</th>\n",
              "      <td>2</td>\n",
              "      <td>1</td>\n",
              "      <td>grantpatricia</td>\n",
              "      <td>2</td>\n",
              "    </tr>\n",
              "    <tr>\n",
              "      <th>2</th>\n",
              "      <td>3</td>\n",
              "      <td>1</td>\n",
              "      <td>brandtandrea</td>\n",
              "      <td>5</td>\n",
              "    </tr>\n",
              "    <tr>\n",
              "      <th>3</th>\n",
              "      <td>4</td>\n",
              "      <td>2</td>\n",
              "      <td>lorichen</td>\n",
              "      <td>3</td>\n",
              "    </tr>\n",
              "    <tr>\n",
              "      <th>4</th>\n",
              "      <td>5</td>\n",
              "      <td>2</td>\n",
              "      <td>mariokeller</td>\n",
              "      <td>2</td>\n",
              "    </tr>\n",
              "    <tr>\n",
              "      <th>...</th>\n",
              "      <td>...</td>\n",
              "      <td>...</td>\n",
              "      <td>...</td>\n",
              "      <td>...</td>\n",
              "    </tr>\n",
              "    <tr>\n",
              "      <th>6451</th>\n",
              "      <td>6452</td>\n",
              "      <td>1000</td>\n",
              "      <td>carolrodriguez</td>\n",
              "      <td>4</td>\n",
              "    </tr>\n",
              "    <tr>\n",
              "      <th>6452</th>\n",
              "      <td>6453</td>\n",
              "      <td>1000</td>\n",
              "      <td>wendy18</td>\n",
              "      <td>4</td>\n",
              "    </tr>\n",
              "    <tr>\n",
              "      <th>6453</th>\n",
              "      <td>6454</td>\n",
              "      <td>1000</td>\n",
              "      <td>jarvispaul</td>\n",
              "      <td>5</td>\n",
              "    </tr>\n",
              "    <tr>\n",
              "      <th>6454</th>\n",
              "      <td>6455</td>\n",
              "      <td>1000</td>\n",
              "      <td>zross</td>\n",
              "      <td>2</td>\n",
              "    </tr>\n",
              "    <tr>\n",
              "      <th>6455</th>\n",
              "      <td>6456</td>\n",
              "      <td>1000</td>\n",
              "      <td>fharris</td>\n",
              "      <td>5</td>\n",
              "    </tr>\n",
              "  </tbody>\n",
              "</table>\n",
              "<p>6456 rows × 4 columns</p>\n",
              "</div>"
            ],
            "text/plain": [
              "      rating_id  book_id        username  rating\n",
              "0             1        1      ryanfranco       4\n",
              "1             2        1   grantpatricia       2\n",
              "2             3        1    brandtandrea       5\n",
              "3             4        2        lorichen       3\n",
              "4             5        2     mariokeller       2\n",
              "...         ...      ...             ...     ...\n",
              "6451       6452     1000  carolrodriguez       4\n",
              "6452       6453     1000         wendy18       4\n",
              "6453       6454     1000      jarvispaul       5\n",
              "6454       6455     1000           zross       2\n",
              "6455       6456     1000         fharris       5\n",
              "\n",
              "[6456 rows x 4 columns]"
            ]
          },
          "execution_count": 15,
          "metadata": {},
          "output_type": "execute_result"
        }
      ],
      "source": [
        "# Memuat file tabel ratings (df_ratings)\n",
        "df_ratings = ''' \n",
        "SELECT \n",
        "    * \n",
        "FROM \n",
        "    ratings;\n",
        "'''\n",
        "\n",
        "# Melihat tabel ratings (df_ratings)\n",
        "pd.io.sql.read_sql(df_ratings, con = engine)"
      ]
    },
    {
      "cell_type": "markdown",
      "metadata": {
        "id": "lqveCANM-fha"
      },
      "source": [
        "**Deskripsi Data**\n",
        "\n",
        "Tabel ratings: Berisi data tentang rating pengguna\n",
        "\n",
        "- `rating_id` — ID rating\n",
        "- `book_id` — ID buku\n",
        "- `username` — nama pengguna yang memberi rating buku\n",
        "- `rating` — penilaian terhadap buku "
      ]
    },
    {
      "cell_type": "code",
      "execution_count": null,
      "metadata": {
        "id": "dKeAEkfh-fhb",
        "outputId": "12116af1-020f-4a22-892e-ecfac24b7269"
      },
      "outputs": [
        {
          "name": "stdout",
          "output_type": "stream",
          "text": [
            "<class 'pandas.core.frame.DataFrame'>\n",
            "RangeIndex: 6456 entries, 0 to 6455\n",
            "Data columns (total 4 columns):\n",
            " #   Column     Non-Null Count  Dtype \n",
            "---  ------     --------------  ----- \n",
            " 0   rating_id  6456 non-null   int64 \n",
            " 1   book_id    6456 non-null   int64 \n",
            " 2   username   6456 non-null   object\n",
            " 3   rating     6456 non-null   int64 \n",
            "dtypes: int64(3), object(1)\n",
            "memory usage: 201.9+ KB\n"
          ]
        }
      ],
      "source": [
        "# Melihat informasi keseluruhan pada tabel ratings (df_ratings)\n",
        "pd.io.sql.read_sql(df_ratings, con = engine).info()"
      ]
    },
    {
      "cell_type": "code",
      "execution_count": null,
      "metadata": {
        "id": "T00Ox2o--fhc",
        "outputId": "e8b1a001-81ee-4493-8bf8-c350b3290929"
      },
      "outputs": [
        {
          "data": {
            "text/plain": [
              "rating_id    0\n",
              "book_id      0\n",
              "username     0\n",
              "rating       0\n",
              "dtype: int64"
            ]
          },
          "execution_count": 17,
          "metadata": {},
          "output_type": "execute_result"
        }
      ],
      "source": [
        "# Melihat nilai yang hilang pada tabel ratings (df_ratings)\n",
        "pd.io.sql.read_sql(df_ratings, con = engine).isna().sum()"
      ]
    },
    {
      "cell_type": "code",
      "execution_count": null,
      "metadata": {
        "id": "9Wdsy5ZO-fhc",
        "outputId": "601a5a90-00b4-4fcb-df83-c09363a54290"
      },
      "outputs": [
        {
          "data": {
            "text/plain": [
              "0"
            ]
          },
          "execution_count": 18,
          "metadata": {},
          "output_type": "execute_result"
        }
      ],
      "source": [
        "# Melihat nilai yang duplikasi pada tabel ratings (df_ratings)\n",
        "pd.io.sql.read_sql(df_ratings, con = engine).duplicated().sum()"
      ]
    },
    {
      "cell_type": "markdown",
      "metadata": {
        "id": "fvl4xxXv-fhd"
      },
      "source": [
        "Setelah melihat dan menganalisa tabel ratings, maka didapatkan beberapa kesimpulan untuk tabel ini, yaitu:\n",
        "\n",
        "- Tidak mempunyai masalah untuk nilai yang hilang\n",
        "- Tidak mempunyai masalah untuk nilai yang duplikasi\n",
        "- Tidak mempunyai masalah untuk nama kolomnya\n",
        "- Tidak mempunyai masalah untuk tipe datanya"
      ]
    },
    {
      "cell_type": "markdown",
      "metadata": {
        "id": "ln4kxjg--fhf"
      },
      "source": [
        "#### Tabel Reviews"
      ]
    },
    {
      "cell_type": "code",
      "execution_count": null,
      "metadata": {
        "id": "Is5LFIFN-fhg",
        "outputId": "9876ddd9-5078-4bd4-b80d-c9a644aa0503"
      },
      "outputs": [
        {
          "data": {
            "text/html": [
              "<div>\n",
              "<style scoped>\n",
              "    .dataframe tbody tr th:only-of-type {\n",
              "        vertical-align: middle;\n",
              "    }\n",
              "\n",
              "    .dataframe tbody tr th {\n",
              "        vertical-align: top;\n",
              "    }\n",
              "\n",
              "    .dataframe thead th {\n",
              "        text-align: right;\n",
              "    }\n",
              "</style>\n",
              "<table border=\"1\" class=\"dataframe\">\n",
              "  <thead>\n",
              "    <tr style=\"text-align: right;\">\n",
              "      <th></th>\n",
              "      <th>review_id</th>\n",
              "      <th>book_id</th>\n",
              "      <th>username</th>\n",
              "      <th>text</th>\n",
              "    </tr>\n",
              "  </thead>\n",
              "  <tbody>\n",
              "    <tr>\n",
              "      <th>0</th>\n",
              "      <td>1</td>\n",
              "      <td>1</td>\n",
              "      <td>brandtandrea</td>\n",
              "      <td>Mention society tell send professor analysis. ...</td>\n",
              "    </tr>\n",
              "    <tr>\n",
              "      <th>1</th>\n",
              "      <td>2</td>\n",
              "      <td>1</td>\n",
              "      <td>ryanfranco</td>\n",
              "      <td>Foot glass pretty audience hit themselves. Amo...</td>\n",
              "    </tr>\n",
              "    <tr>\n",
              "      <th>2</th>\n",
              "      <td>3</td>\n",
              "      <td>2</td>\n",
              "      <td>lorichen</td>\n",
              "      <td>Listen treat keep worry. Miss husband tax but ...</td>\n",
              "    </tr>\n",
              "    <tr>\n",
              "      <th>3</th>\n",
              "      <td>4</td>\n",
              "      <td>3</td>\n",
              "      <td>johnsonamanda</td>\n",
              "      <td>Finally month interesting blue could nature cu...</td>\n",
              "    </tr>\n",
              "    <tr>\n",
              "      <th>4</th>\n",
              "      <td>5</td>\n",
              "      <td>3</td>\n",
              "      <td>scotttamara</td>\n",
              "      <td>Nation purpose heavy give wait song will. List...</td>\n",
              "    </tr>\n",
              "    <tr>\n",
              "      <th>...</th>\n",
              "      <td>...</td>\n",
              "      <td>...</td>\n",
              "      <td>...</td>\n",
              "      <td>...</td>\n",
              "    </tr>\n",
              "    <tr>\n",
              "      <th>2788</th>\n",
              "      <td>2789</td>\n",
              "      <td>999</td>\n",
              "      <td>martinadam</td>\n",
              "      <td>Later hospital turn easy community. Fact same ...</td>\n",
              "    </tr>\n",
              "    <tr>\n",
              "      <th>2789</th>\n",
              "      <td>2790</td>\n",
              "      <td>1000</td>\n",
              "      <td>wknight</td>\n",
              "      <td>Change lose answer close pressure. Spend so now.</td>\n",
              "    </tr>\n",
              "    <tr>\n",
              "      <th>2790</th>\n",
              "      <td>2791</td>\n",
              "      <td>1000</td>\n",
              "      <td>carolrodriguez</td>\n",
              "      <td>Authority go who television entire hair guy po...</td>\n",
              "    </tr>\n",
              "    <tr>\n",
              "      <th>2791</th>\n",
              "      <td>2792</td>\n",
              "      <td>1000</td>\n",
              "      <td>wendy18</td>\n",
              "      <td>Or western offer wonder ask. More hear phone f...</td>\n",
              "    </tr>\n",
              "    <tr>\n",
              "      <th>2792</th>\n",
              "      <td>2793</td>\n",
              "      <td>1000</td>\n",
              "      <td>jarvispaul</td>\n",
              "      <td>Republican staff bit eat material measure plan...</td>\n",
              "    </tr>\n",
              "  </tbody>\n",
              "</table>\n",
              "<p>2793 rows × 4 columns</p>\n",
              "</div>"
            ],
            "text/plain": [
              "      review_id  book_id        username  \\\n",
              "0             1        1    brandtandrea   \n",
              "1             2        1      ryanfranco   \n",
              "2             3        2        lorichen   \n",
              "3             4        3   johnsonamanda   \n",
              "4             5        3     scotttamara   \n",
              "...         ...      ...             ...   \n",
              "2788       2789      999      martinadam   \n",
              "2789       2790     1000         wknight   \n",
              "2790       2791     1000  carolrodriguez   \n",
              "2791       2792     1000         wendy18   \n",
              "2792       2793     1000      jarvispaul   \n",
              "\n",
              "                                                   text  \n",
              "0     Mention society tell send professor analysis. ...  \n",
              "1     Foot glass pretty audience hit themselves. Amo...  \n",
              "2     Listen treat keep worry. Miss husband tax but ...  \n",
              "3     Finally month interesting blue could nature cu...  \n",
              "4     Nation purpose heavy give wait song will. List...  \n",
              "...                                                 ...  \n",
              "2788  Later hospital turn easy community. Fact same ...  \n",
              "2789   Change lose answer close pressure. Spend so now.  \n",
              "2790  Authority go who television entire hair guy po...  \n",
              "2791  Or western offer wonder ask. More hear phone f...  \n",
              "2792  Republican staff bit eat material measure plan...  \n",
              "\n",
              "[2793 rows x 4 columns]"
            ]
          },
          "execution_count": 19,
          "metadata": {},
          "output_type": "execute_result"
        }
      ],
      "source": [
        "# Memuat file tabel reviews (df_reviews)\n",
        "df_reviews = ''' \n",
        "SELECT \n",
        "    * \n",
        "FROM \n",
        "    reviews;\n",
        "'''\n",
        "\n",
        "# Melihat tabel reviews (df_reviews)\n",
        "pd.io.sql.read_sql(df_reviews, con = engine)"
      ]
    },
    {
      "cell_type": "markdown",
      "metadata": {
        "id": "8f4-Yl2V-fhh"
      },
      "source": [
        "**Deskripsi Data**\n",
        "\n",
        "Tabel reviews: Berisi data tentang ulasan pelanggan\n",
        "\n",
        "- `review_id` — ID ulasan\n",
        "- `book_id` — ID buku\n",
        "- `username` — nama pengguna yang mengulas buku\n",
        "- `text` — teks ulasan"
      ]
    },
    {
      "cell_type": "code",
      "execution_count": null,
      "metadata": {
        "id": "K2W4Y2ps-fhi",
        "outputId": "e506b81f-e838-4c1c-b8fd-d5a21cd72879"
      },
      "outputs": [
        {
          "name": "stdout",
          "output_type": "stream",
          "text": [
            "<class 'pandas.core.frame.DataFrame'>\n",
            "RangeIndex: 2793 entries, 0 to 2792\n",
            "Data columns (total 4 columns):\n",
            " #   Column     Non-Null Count  Dtype \n",
            "---  ------     --------------  ----- \n",
            " 0   review_id  2793 non-null   int64 \n",
            " 1   book_id    2793 non-null   int64 \n",
            " 2   username   2793 non-null   object\n",
            " 3   text       2793 non-null   object\n",
            "dtypes: int64(2), object(2)\n",
            "memory usage: 87.4+ KB\n"
          ]
        }
      ],
      "source": [
        "# Melihat informasi keseluruhan pada tabel reviews (df_reviews)\n",
        "pd.io.sql.read_sql(df_reviews, con = engine).info()"
      ]
    },
    {
      "cell_type": "code",
      "execution_count": null,
      "metadata": {
        "id": "9j-qZaDX-fhj",
        "outputId": "605c6f1f-1232-40eb-c7ec-4d32cf974089"
      },
      "outputs": [
        {
          "data": {
            "text/plain": [
              "review_id    0\n",
              "book_id      0\n",
              "username     0\n",
              "text         0\n",
              "dtype: int64"
            ]
          },
          "execution_count": 21,
          "metadata": {},
          "output_type": "execute_result"
        }
      ],
      "source": [
        "# Melihat nilai yang hilang pada tabel reviews (df_reviews)\n",
        "pd.io.sql.read_sql(df_reviews, con = engine).isna().sum()"
      ]
    },
    {
      "cell_type": "code",
      "execution_count": null,
      "metadata": {
        "id": "eQ74AhBT-fhk",
        "outputId": "f121bd3a-9b98-4156-f47f-a7d258b3af37"
      },
      "outputs": [
        {
          "data": {
            "text/plain": [
              "0"
            ]
          },
          "execution_count": 22,
          "metadata": {},
          "output_type": "execute_result"
        }
      ],
      "source": [
        "# Melihat nilai yang duplikasi pada tabel reviews (df_reviews)\n",
        "pd.io.sql.read_sql(df_reviews, con = engine).duplicated().sum()"
      ]
    },
    {
      "cell_type": "markdown",
      "metadata": {
        "id": "s9tQmEHs-fhk"
      },
      "source": [
        "Setelah melihat dan menganalisa tabel reviews, maka didapatkan beberapa kesimpulan untuk tabel ini, yaitu:\n",
        "\n",
        "- Tidak mempunyai masalah untuk nilai yang hilang\n",
        "- Tidak mempunyai masalah untuk nilai yang duplikasi\n",
        "- Tidak mempunyai masalah untuk nama kolomnya\n",
        "- Tidak mempunyai masalah untuk tipe datanya"
      ]
    },
    {
      "cell_type": "markdown",
      "metadata": {
        "id": "-L0HSHov-fhl"
      },
      "source": [
        "Semua tabel sudah dianalisa dan dipelajari, semua tabel aman dari masalah-masalah seperti nilai hilang, duplikasi, nama kolom, dan tipe datanya. Untuk tanggal tidak perlu untuk mengubah tipe datanya, karena SQL punya library sendiri untuk mengidentifikasi tipe data tersebut saat proses analisa data eksplorasi berlangsung."
      ]
    },
    {
      "cell_type": "markdown",
      "metadata": {
        "id": "nwi9kcib-fhm"
      },
      "source": [
        "## Analisis Data Eksplorasi (EDA)"
      ]
    },
    {
      "cell_type": "markdown",
      "metadata": {
        "id": "Fkjf24vu-fhn"
      },
      "source": [
        "Adapun beberapa tugas yang diberikan untuk diselesaikan, yaitu:\n",
        "\n",
        "- Hitung jumlah buku yang dirilis setelah tanggal 1 Januari 2000.\n",
        "- Hitung jumlah ulasan pengguna dan rating rata-rata untuk setiap buku.\n",
        "- Tentukan penerbit yang telah menerbitkan buku terbanyak dengan jumlah lebih dari 50 halaman (hal ini akan membantu Anda dalam mengecualikan brosur dan publikasi serupa dari analisis Anda).\n",
        "- Tentukan penulis dengan rating rata-rata buku tertinggi: temukan buku dengan rating minimal 50.\n",
        "- Hitung jumlah rata-rata teks ulasan di antara pengguna yang memberi rating lebih dari 50 buku."
      ]
    },
    {
      "cell_type": "markdown",
      "metadata": {
        "id": "iFWEHBa_-fho"
      },
      "source": [
        "Adapun beberapa intruksi untuk menyelsaikan tugas agar tidak ada kekurangan saat proses analisis data eksplorasi, yaitu:\n",
        "\n",
        "- Jelaskan tujuan dari studi yang Anda lakukan.\n",
        "- Pelajari tabelnya (tampilkan baris-baris pertamanya).\n",
        "- Buatlah kueri SQL untuk setiap tugas Anda.\n",
        "- Tampilkan hasil dari setiap kueri tersebut pada Notebook.\n",
        "- Jelaskan kesimpulan Anda untuk setiap tugas."
      ]
    },
    {
      "cell_type": "markdown",
      "metadata": {
        "id": "P9xa1u9S-fhp"
      },
      "source": [
        "### Menghitung jumlah buku yang dirilis setelah tanggal tertentu\n",
        "\n",
        "- Hitung jumlah buku yang dirilis setelah tanggal 1 Januari 2000."
      ]
    },
    {
      "cell_type": "code",
      "execution_count": null,
      "metadata": {
        "id": "G-ZxX0O1-fhp",
        "outputId": "46ddd7bb-657a-4402-82fd-145babd24fa6"
      },
      "outputs": [
        {
          "data": {
            "text/html": [
              "<div>\n",
              "<style scoped>\n",
              "    .dataframe tbody tr th:only-of-type {\n",
              "        vertical-align: middle;\n",
              "    }\n",
              "\n",
              "    .dataframe tbody tr th {\n",
              "        vertical-align: top;\n",
              "    }\n",
              "\n",
              "    .dataframe thead th {\n",
              "        text-align: right;\n",
              "    }\n",
              "</style>\n",
              "<table border=\"1\" class=\"dataframe\">\n",
              "  <thead>\n",
              "    <tr style=\"text-align: right;\">\n",
              "      <th></th>\n",
              "      <th>books_counts</th>\n",
              "    </tr>\n",
              "  </thead>\n",
              "  <tbody>\n",
              "    <tr>\n",
              "      <th>0</th>\n",
              "      <td>819</td>\n",
              "    </tr>\n",
              "  </tbody>\n",
              "</table>\n",
              "</div>"
            ],
            "text/plain": [
              "   books_counts\n",
              "0           819"
            ]
          },
          "execution_count": 23,
          "metadata": {},
          "output_type": "execute_result"
        }
      ],
      "source": [
        "# Menghitung jumlah buku yang dirilis setelah 1 januri 2000 (2000-1-1)\n",
        "books_counts = '''\n",
        "SELECT\n",
        "    COUNT(*) AS books_counts\n",
        "FROM\n",
        "    books\n",
        "WHERE\n",
        "    publication_date::date > '2000-1-1;'\n",
        "'''\n",
        "# Menampilkan hasil querynya\n",
        "pd.io.sql.read_sql(books_counts, con = engine)"
      ]
    },
    {
      "cell_type": "markdown",
      "metadata": {
        "id": "Sm0YHJRV-fhq"
      },
      "source": [
        "Bahwa jumlah buku yang dirilis setelah tanggal 1 Januri 2000 berjumlah 819 buku."
      ]
    },
    {
      "cell_type": "markdown",
      "metadata": {
        "id": "bRiFOAlJ-fhr"
      },
      "source": [
        "### Menghitung jumlah ulasan pengguna dan rating rata-rata untuk setiap buku\n",
        "\n",
        "- Hitung jumlah ulasan pengguna dan rating rata-rata untuk setiap buku."
      ]
    },
    {
      "cell_type": "markdown",
      "metadata": {
        "id": "TcwYiTpO-fhr"
      },
      "source": [
        "Metode untuk menghitung ulasan dan rata-rata untuk setiap buku akan menggunakan `LEFT JOIN` untuk mendeteksi kemungkinan ada buku yang tidak mempunyai ulasan atau buku yang tidak mempunyai rating. Karena kalau `INNER JOIN` tidak akan mendeteksi kedua hal tersebut."
      ]
    },
    {
      "cell_type": "code",
      "execution_count": null,
      "metadata": {
        "id": "DvFrl9bF-fhs",
        "outputId": "74012403-3a37-4e78-ecd8-6fc8353ef553"
      },
      "outputs": [
        {
          "data": {
            "text/html": [
              "<div>\n",
              "<style scoped>\n",
              "    .dataframe tbody tr th:only-of-type {\n",
              "        vertical-align: middle;\n",
              "    }\n",
              "\n",
              "    .dataframe tbody tr th {\n",
              "        vertical-align: top;\n",
              "    }\n",
              "\n",
              "    .dataframe thead th {\n",
              "        text-align: right;\n",
              "    }\n",
              "</style>\n",
              "<table border=\"1\" class=\"dataframe\">\n",
              "  <thead>\n",
              "    <tr style=\"text-align: right;\">\n",
              "      <th></th>\n",
              "      <th>book_id</th>\n",
              "      <th>book_title</th>\n",
              "      <th>review_counts</th>\n",
              "      <th>avg_ratings</th>\n",
              "    </tr>\n",
              "  </thead>\n",
              "  <tbody>\n",
              "    <tr>\n",
              "      <th>0</th>\n",
              "      <td>948</td>\n",
              "      <td>Twilight (Twilight  #1)</td>\n",
              "      <td>7</td>\n",
              "      <td>3.662500</td>\n",
              "    </tr>\n",
              "    <tr>\n",
              "      <th>1</th>\n",
              "      <td>963</td>\n",
              "      <td>Water for Elephants</td>\n",
              "      <td>6</td>\n",
              "      <td>3.977273</td>\n",
              "    </tr>\n",
              "    <tr>\n",
              "      <th>2</th>\n",
              "      <td>734</td>\n",
              "      <td>The Glass Castle</td>\n",
              "      <td>6</td>\n",
              "      <td>4.206897</td>\n",
              "    </tr>\n",
              "    <tr>\n",
              "      <th>3</th>\n",
              "      <td>302</td>\n",
              "      <td>Harry Potter and the Prisoner of Azkaban (Harr...</td>\n",
              "      <td>6</td>\n",
              "      <td>4.414634</td>\n",
              "    </tr>\n",
              "    <tr>\n",
              "      <th>4</th>\n",
              "      <td>695</td>\n",
              "      <td>The Curious Incident of the Dog in the Night-Time</td>\n",
              "      <td>6</td>\n",
              "      <td>4.081081</td>\n",
              "    </tr>\n",
              "    <tr>\n",
              "      <th>...</th>\n",
              "      <td>...</td>\n",
              "      <td>...</td>\n",
              "      <td>...</td>\n",
              "      <td>...</td>\n",
              "    </tr>\n",
              "    <tr>\n",
              "      <th>995</th>\n",
              "      <td>83</td>\n",
              "      <td>Anne Rice's The Vampire Lestat: A Graphic Novel</td>\n",
              "      <td>0</td>\n",
              "      <td>3.666667</td>\n",
              "    </tr>\n",
              "    <tr>\n",
              "      <th>996</th>\n",
              "      <td>808</td>\n",
              "      <td>The Natural Way to Draw</td>\n",
              "      <td>0</td>\n",
              "      <td>3.000000</td>\n",
              "    </tr>\n",
              "    <tr>\n",
              "      <th>997</th>\n",
              "      <td>672</td>\n",
              "      <td>The Cat in the Hat and Other Dr. Seuss Favorites</td>\n",
              "      <td>0</td>\n",
              "      <td>5.000000</td>\n",
              "    </tr>\n",
              "    <tr>\n",
              "      <th>998</th>\n",
              "      <td>221</td>\n",
              "      <td>Essential Tales and Poems</td>\n",
              "      <td>0</td>\n",
              "      <td>4.000000</td>\n",
              "    </tr>\n",
              "    <tr>\n",
              "      <th>999</th>\n",
              "      <td>191</td>\n",
              "      <td>Disney's Beauty and the Beast (A Little Golden...</td>\n",
              "      <td>0</td>\n",
              "      <td>4.000000</td>\n",
              "    </tr>\n",
              "  </tbody>\n",
              "</table>\n",
              "<p>1000 rows × 4 columns</p>\n",
              "</div>"
            ],
            "text/plain": [
              "     book_id                                         book_title  \\\n",
              "0        948                            Twilight (Twilight  #1)   \n",
              "1        963                                Water for Elephants   \n",
              "2        734                                   The Glass Castle   \n",
              "3        302  Harry Potter and the Prisoner of Azkaban (Harr...   \n",
              "4        695  The Curious Incident of the Dog in the Night-Time   \n",
              "..       ...                                                ...   \n",
              "995       83    Anne Rice's The Vampire Lestat: A Graphic Novel   \n",
              "996      808                            The Natural Way to Draw   \n",
              "997      672   The Cat in the Hat and Other Dr. Seuss Favorites   \n",
              "998      221                          Essential Tales and Poems   \n",
              "999      191  Disney's Beauty and the Beast (A Little Golden...   \n",
              "\n",
              "     review_counts  avg_ratings  \n",
              "0                7     3.662500  \n",
              "1                6     3.977273  \n",
              "2                6     4.206897  \n",
              "3                6     4.414634  \n",
              "4                6     4.081081  \n",
              "..             ...          ...  \n",
              "995              0     3.666667  \n",
              "996              0     3.000000  \n",
              "997              0     5.000000  \n",
              "998              0     4.000000  \n",
              "999              0     4.000000  \n",
              "\n",
              "[1000 rows x 4 columns]"
            ]
          },
          "execution_count": 32,
          "metadata": {},
          "output_type": "execute_result"
        }
      ],
      "source": [
        "# Menghitung jumlah ulasan pengguna dan rating rata-rata untuk setiap buku untuk 5 teratas\n",
        "# berdasarkan jumlah ulasan pengguna\n",
        "reviews_ratings = '''\n",
        "SELECT\n",
        "    books.book_id AS book_id,\n",
        "    books.title AS book_title,\n",
        "    COUNT(DISTINCT reviews.review_id) AS review_counts,\n",
        "    AVG(ratings.rating) AS avg_ratings\n",
        "FROM\n",
        "    books\n",
        "    LEFT JOIN reviews ON reviews.book_id = books.book_id\n",
        "    LEFT JOIN ratings ON ratings.book_id = books.book_id\n",
        "GROUP BY\n",
        "    books.book_id\n",
        "ORDER BY\n",
        "    review_counts DESC\n",
        "'''\n",
        "# Menampilkan hasil querynya\n",
        "pd.io.sql.read_sql(reviews_ratings, con = engine)"
      ]
    },
    {
      "cell_type": "markdown",
      "metadata": {
        "id": "gk5CzhsB-fhs"
      },
      "source": [
        "Setelah melihat hasilnya, dapat disimpulkan berdasarkan 5 teratas dan 5 terbawah untuk jumlah ulasan dan rata-rata ratingnya.\n",
        "\n",
        "Untuk 5 teratas jumlah ulasan dan rata-rata rating untuk setiap buku, yaitu:\n",
        "\n",
        "- `Twilight` dengan total ulasan 7 dan rata-rata nilai rating adalah 3.66\n",
        "- `Water for Elephants` dengan total ulasan 6 dan rata-rata nilai rating adalah 3.97\n",
        "- `The Glass Castle` dengan total ulasan 6 dan rata-rata nilai rating adalah 4.20\n",
        "- `Harry Potter and the Prisoner of Azkaban` dengan total ulasan 6 dan rata-rata nilai rating adalah 4.14\n",
        "- `The Curious Incident of the Dog in the Night-Time` dengan total ulasan 6 dan rata-rata nilai rating adalah 4.08\n",
        "\n",
        "\n",
        "Untuk 5 terbawah jumlah ulasan dan rata-rata rating untuk setiap buku, yaitu:\n",
        "\n",
        "- `Anne Rice's The Vampire Lestat: A Graphic Novel` dengan total ulasan 0 dan rata-rata nilai rating adalah 3.66\n",
        "- `The Natural Way to Draw` dengan total ulasan 0 dan rata-rata nilai rating adalah 3\n",
        "- `The Cat in the Hat and Other Dr. Seuss Favorites` dengan total ulasan 0 dan rata-rata nilai rating adalah 5\n",
        "- `Essential Tales and Poems` dengan total ulasan 0 dan rata-rata nilai rating adalah 4\n",
        "- `Disney's Beauty and the Beast` dengan total ulasan 0 dan rata-rata nilai rating adalah 4"
      ]
    },
    {
      "cell_type": "markdown",
      "metadata": {
        "id": "J9VROpdA-fhu"
      },
      "source": [
        "### Penerbit yang telah menerbitkan buku terbanyak lebih dari 50 halaman\n",
        "\n",
        "- Tentukan penerbit yang telah menerbitkan buku terbanyak dengan jumlah lebih dari 50 halaman (hal ini akan membantu Anda dalam mengecualikan brosur dan publikasi serupa dari analisis Anda)."
      ]
    },
    {
      "cell_type": "code",
      "execution_count": null,
      "metadata": {
        "id": "XKjjuIZC-fhu",
        "outputId": "861db052-53ed-438a-cf79-811081bf35fa"
      },
      "outputs": [
        {
          "data": {
            "text/html": [
              "<div>\n",
              "<style scoped>\n",
              "    .dataframe tbody tr th:only-of-type {\n",
              "        vertical-align: middle;\n",
              "    }\n",
              "\n",
              "    .dataframe tbody tr th {\n",
              "        vertical-align: top;\n",
              "    }\n",
              "\n",
              "    .dataframe thead th {\n",
              "        text-align: right;\n",
              "    }\n",
              "</style>\n",
              "<table border=\"1\" class=\"dataframe\">\n",
              "  <thead>\n",
              "    <tr style=\"text-align: right;\">\n",
              "      <th></th>\n",
              "      <th>publisher_id</th>\n",
              "      <th>publisher</th>\n",
              "      <th>total_books_published</th>\n",
              "    </tr>\n",
              "  </thead>\n",
              "  <tbody>\n",
              "    <tr>\n",
              "      <th>0</th>\n",
              "      <td>212</td>\n",
              "      <td>Penguin Books</td>\n",
              "      <td>42</td>\n",
              "    </tr>\n",
              "    <tr>\n",
              "      <th>1</th>\n",
              "      <td>309</td>\n",
              "      <td>Vintage</td>\n",
              "      <td>31</td>\n",
              "    </tr>\n",
              "    <tr>\n",
              "      <th>2</th>\n",
              "      <td>116</td>\n",
              "      <td>Grand Central Publishing</td>\n",
              "      <td>25</td>\n",
              "    </tr>\n",
              "    <tr>\n",
              "      <th>3</th>\n",
              "      <td>217</td>\n",
              "      <td>Penguin Classics</td>\n",
              "      <td>24</td>\n",
              "    </tr>\n",
              "    <tr>\n",
              "      <th>4</th>\n",
              "      <td>35</td>\n",
              "      <td>Bantam</td>\n",
              "      <td>19</td>\n",
              "    </tr>\n",
              "  </tbody>\n",
              "</table>\n",
              "</div>"
            ],
            "text/plain": [
              "   publisher_id                 publisher  total_books_published\n",
              "0           212             Penguin Books                     42\n",
              "1           309                   Vintage                     31\n",
              "2           116  Grand Central Publishing                     25\n",
              "3           217          Penguin Classics                     24\n",
              "4            35                    Bantam                     19"
            ]
          },
          "execution_count": 25,
          "metadata": {},
          "output_type": "execute_result"
        }
      ],
      "source": [
        "# Menghitung untuk penerbit yang menerbitkan buku terbanyak dengan jumlah \n",
        "# lebih dari 50 halaman\n",
        "fifty_pages = '''\n",
        "SELECT\n",
        "    publishers.publisher_id AS publisher_id,\n",
        "    publishers.publisher AS publisher,\n",
        "    COUNT(books.book_id) AS total_books_published\n",
        "FROM\n",
        "    books\n",
        "    LEFT JOIN publishers ON publishers.publisher_id = books.publisher_id\n",
        "WHERE\n",
        "    books.num_pages > 50\n",
        "GROUP BY\n",
        "    publishers.publisher_id, publishers.publisher\n",
        "ORDER BY\n",
        "    total_books_published DESC\n",
        "LIMIT 5;\n",
        "''' \n",
        "# Menampilkan hasil querynya\n",
        "pd.io.sql.read_sql(fifty_pages, con = engine)"
      ]
    },
    {
      "cell_type": "markdown",
      "metadata": {
        "id": "-L5B3HGM-fhw"
      },
      "source": [
        "Kesimpulan setelah melihat hasilnya untuk penerbit yang menerbitkan total buku dengan halaman diatas 50, yaitu:\n",
        "\n",
        "- Publisher/Penerbit `Penguin Book` dengan total 42 buku\n",
        "- Publisher/Penerbit `Vintage` dengan total 31 buku\n",
        "- Publisher/Penerbit `Grand Central Publishing` dengan total 25 buku\n",
        "- Publisher/Penerbit `Penguin Classics` dengan total 24 buku\n",
        "- Publisher/Penerbit `Bantam` dengan total 19 buku"
      ]
    },
    {
      "cell_type": "markdown",
      "metadata": {
        "id": "a8bnFdyh-fhx"
      },
      "source": [
        "### Menentukan penulis dengan rata-rata rating buku tertinggi dengan rating minimal 50\n",
        "\n",
        "- Tentukan penulis dengan rating rata-rata buku tertinggi: temukan buku dengan rating minimal 50."
      ]
    },
    {
      "cell_type": "code",
      "execution_count": null,
      "metadata": {
        "id": "SbrBMZ36-fhy",
        "outputId": "79c54240-d784-4fef-87ec-47051359ca16"
      },
      "outputs": [
        {
          "data": {
            "text/html": [
              "<div>\n",
              "<style scoped>\n",
              "    .dataframe tbody tr th:only-of-type {\n",
              "        vertical-align: middle;\n",
              "    }\n",
              "\n",
              "    .dataframe tbody tr th {\n",
              "        vertical-align: top;\n",
              "    }\n",
              "\n",
              "    .dataframe thead th {\n",
              "        text-align: right;\n",
              "    }\n",
              "</style>\n",
              "<table border=\"1\" class=\"dataframe\">\n",
              "  <thead>\n",
              "    <tr style=\"text-align: right;\">\n",
              "      <th></th>\n",
              "      <th>author_id</th>\n",
              "      <th>author</th>\n",
              "      <th>title</th>\n",
              "      <th>rating_counts</th>\n",
              "      <th>avg_rating</th>\n",
              "    </tr>\n",
              "  </thead>\n",
              "  <tbody>\n",
              "    <tr>\n",
              "      <th>0</th>\n",
              "      <td>236</td>\n",
              "      <td>J.K. Rowling/Mary GrandPré</td>\n",
              "      <td>Harry Potter and the Prisoner of Azkaban (Harr...</td>\n",
              "      <td>82</td>\n",
              "      <td>4.414634</td>\n",
              "    </tr>\n",
              "    <tr>\n",
              "      <th>1</th>\n",
              "      <td>240</td>\n",
              "      <td>J.R.R. Tolkien</td>\n",
              "      <td>The Fellowship of the Ring (The Lord of the Ri...</td>\n",
              "      <td>74</td>\n",
              "      <td>4.391892</td>\n",
              "    </tr>\n",
              "    <tr>\n",
              "      <th>2</th>\n",
              "      <td>236</td>\n",
              "      <td>J.K. Rowling/Mary GrandPré</td>\n",
              "      <td>Harry Potter and the Chamber of Secrets (Harry...</td>\n",
              "      <td>80</td>\n",
              "      <td>4.287500</td>\n",
              "    </tr>\n",
              "    <tr>\n",
              "      <th>3</th>\n",
              "      <td>402</td>\n",
              "      <td>Markus Zusak/Cao Xuân Việt Khương</td>\n",
              "      <td>The Book Thief</td>\n",
              "      <td>53</td>\n",
              "      <td>4.264151</td>\n",
              "    </tr>\n",
              "    <tr>\n",
              "      <th>4</th>\n",
              "      <td>236</td>\n",
              "      <td>J.K. Rowling/Mary GrandPré</td>\n",
              "      <td>Harry Potter and the Half-Blood Prince (Harry ...</td>\n",
              "      <td>73</td>\n",
              "      <td>4.246575</td>\n",
              "    </tr>\n",
              "  </tbody>\n",
              "</table>\n",
              "</div>"
            ],
            "text/plain": [
              "   author_id                             author  \\\n",
              "0        236         J.K. Rowling/Mary GrandPré   \n",
              "1        240                     J.R.R. Tolkien   \n",
              "2        236         J.K. Rowling/Mary GrandPré   \n",
              "3        402  Markus Zusak/Cao Xuân Việt Khương   \n",
              "4        236         J.K. Rowling/Mary GrandPré   \n",
              "\n",
              "                                               title  rating_counts  \\\n",
              "0  Harry Potter and the Prisoner of Azkaban (Harr...             82   \n",
              "1  The Fellowship of the Ring (The Lord of the Ri...             74   \n",
              "2  Harry Potter and the Chamber of Secrets (Harry...             80   \n",
              "3                                     The Book Thief             53   \n",
              "4  Harry Potter and the Half-Blood Prince (Harry ...             73   \n",
              "\n",
              "   avg_rating  \n",
              "0    4.414634  \n",
              "1    4.391892  \n",
              "2    4.287500  \n",
              "3    4.264151  \n",
              "4    4.246575  "
            ]
          },
          "execution_count": 26,
          "metadata": {},
          "output_type": "execute_result"
        }
      ],
      "source": [
        "# Berapa banyak penulis yang mempunyai rata-rata rating buku tertinggi \n",
        "# dengan syarat ratingnya mempunyai nilai minimal 50\n",
        "\n",
        "top_author_with_min_rating_fifty1 = '''\n",
        "WITH rating_min_50 AS (\n",
        "    SELECT\n",
        "        book_id,\n",
        "        COUNT(ratings.rating) AS rating_counts\n",
        "    FROM\n",
        "        ratings\n",
        "    GROUP BY\n",
        "        book_id\n",
        "    HAVING\n",
        "        COUNT(ratings.rating) >= 50\n",
        "),\n",
        "main AS (\n",
        "    SELECT\n",
        "        authors.author_id AS author_id,\n",
        "        authors.author AS author,\n",
        "        books.title AS title,\n",
        "        COUNT(ratings.rating) AS rating_counts,\n",
        "        AVG(ratings.rating) AS avg_rating\n",
        "    FROM\n",
        "        books\n",
        "        INNER JOIN authors ON authors.author_id = books.author_id\n",
        "        INNER JOIN ratings ON ratings.book_id = books.book_id\n",
        "        INNER JOIN rating_min_50 ON rating_min_50.book_id = books.book_id\n",
        "    GROUP BY\n",
        "        authors.author_id,\n",
        "        authors.author,\n",
        "        books.title,\n",
        "        rating_counts\n",
        ")\n",
        "SELECT *\n",
        "FROM main\n",
        "ORDER BY\n",
        "    avg_rating DESC\n",
        "LIMIT 5;\n",
        "'''\n",
        "# Menampilkan hasil querynya\n",
        "pd.io.sql.read_sql(top_author_with_min_rating_fifty1, con = engine)"
      ]
    },
    {
      "cell_type": "markdown",
      "metadata": {
        "id": "sTzcoT8i-fh0"
      },
      "source": [
        "Kesimpulan setelah melihat hasilnya untuk 5 penulis teratas dengan rating rata-rata buku tertinggi yang bukunya mempunyai rating minimal 50, yaitu:\n",
        "\n",
        "- Penulis `J.K. Rowling/Mary GrandPré` dengan judul buku `Harry Potter and the Prisoner of Azkaban` mempunyai total rating sebesar 82 rating dan rata-rata rating 4.41.\n",
        "- Penulis `J.R.R. Tolkien` dengan judul buku `The Fellowship of the Ring` mempunyai total rating sebesar 74 rating dan rata-rata rating 4.39.\n",
        "- Penulis `J.K. Rowling/Mary GrandPré` dengan judul buku `Harry Potter and the Chamber of Secrets` mempunyai total rating sebesar 80 rating dan rata-rata rating 4.28.\n",
        "- Penulis `Markus Zusak/Cao Xuân Việt Khương` dengan judul buku `The Book Thief` mempunyai total rating sebesar 53 rating dan rata-rata rating 4.26.\n",
        "- Penulis `J.K. Rowling/Mary GrandPré` dengan judul buku `Harry Potter and the Half-Blood Prince` mempunyai total rating sebesar 73 rating dan rata-rata rating 4.24."
      ]
    },
    {
      "cell_type": "markdown",
      "metadata": {
        "id": "bivOw0kb-fh1"
      },
      "source": [
        "Karena diatas juga berdasarkan judul buku membuat ada auhtor yang sama dengan judul buku berbeda, maka sekarang hanya mencari author yang berbeda dengan rata-rata rating tertinggi tanpa judul buku atau pernah mempunyai rata-rata rating tertinggi untuk salah satu karya bukunya."
      ]
    },
    {
      "cell_type": "code",
      "execution_count": null,
      "metadata": {
        "id": "uucGuHMj-fh1",
        "outputId": "9d7e9603-b725-4e56-9412-7919fc4d2f11"
      },
      "outputs": [
        {
          "data": {
            "text/html": [
              "<div>\n",
              "<style scoped>\n",
              "    .dataframe tbody tr th:only-of-type {\n",
              "        vertical-align: middle;\n",
              "    }\n",
              "\n",
              "    .dataframe tbody tr th {\n",
              "        vertical-align: top;\n",
              "    }\n",
              "\n",
              "    .dataframe thead th {\n",
              "        text-align: right;\n",
              "    }\n",
              "</style>\n",
              "<table border=\"1\" class=\"dataframe\">\n",
              "  <thead>\n",
              "    <tr style=\"text-align: right;\">\n",
              "      <th></th>\n",
              "      <th>author</th>\n",
              "      <th>avg_rating</th>\n",
              "    </tr>\n",
              "  </thead>\n",
              "  <tbody>\n",
              "    <tr>\n",
              "      <th>0</th>\n",
              "      <td>J.K. Rowling/Mary GrandPré</td>\n",
              "      <td>4.287097</td>\n",
              "    </tr>\n",
              "    <tr>\n",
              "      <th>1</th>\n",
              "      <td>Markus Zusak/Cao Xuân Việt Khương</td>\n",
              "      <td>4.264151</td>\n",
              "    </tr>\n",
              "    <tr>\n",
              "      <th>2</th>\n",
              "      <td>J.R.R. Tolkien</td>\n",
              "      <td>4.246914</td>\n",
              "    </tr>\n",
              "    <tr>\n",
              "      <th>3</th>\n",
              "      <td>Louisa May Alcott</td>\n",
              "      <td>4.192308</td>\n",
              "    </tr>\n",
              "    <tr>\n",
              "      <th>4</th>\n",
              "      <td>Rick Riordan</td>\n",
              "      <td>4.080645</td>\n",
              "    </tr>\n",
              "  </tbody>\n",
              "</table>\n",
              "</div>"
            ],
            "text/plain": [
              "                              author  avg_rating\n",
              "0         J.K. Rowling/Mary GrandPré    4.287097\n",
              "1  Markus Zusak/Cao Xuân Việt Khương    4.264151\n",
              "2                     J.R.R. Tolkien    4.246914\n",
              "3                  Louisa May Alcott    4.192308\n",
              "4                       Rick Riordan    4.080645"
            ]
          },
          "execution_count": 27,
          "metadata": {},
          "output_type": "execute_result"
        }
      ],
      "source": [
        "# Berapa banyak penulis yang mempunyai rata-rata rating buku tertinggi untuk salah satu bukunya \n",
        "# dengan syarat ratingnya mempunyai nilai minimal 50\n",
        "\n",
        "top_author_with_min_rating_fifty12 = '''\n",
        "WITH rating_min_50 AS (\n",
        "    SELECT\n",
        "        book_id,\n",
        "        COUNT(ratings.rating) AS rating_counts\n",
        "    FROM\n",
        "        ratings\n",
        "    GROUP BY\n",
        "        book_id\n",
        "    HAVING\n",
        "        COUNT(ratings.rating) >= 50\n",
        "),\n",
        "main AS (\n",
        "    SELECT\n",
        "        authors.author AS author,\n",
        "        AVG(ratings.rating) AS avg_rating\n",
        "    FROM\n",
        "        books\n",
        "        INNER JOIN authors ON authors.author_id = books.author_id\n",
        "        INNER JOIN ratings ON ratings.book_id = books.book_id\n",
        "        INNER JOIN rating_min_50 ON rating_min_50.book_id = books.book_id\n",
        "    GROUP BY\n",
        "        authors.author\n",
        ")\n",
        "SELECT *\n",
        "FROM main\n",
        "ORDER BY\n",
        "    avg_rating DESC\n",
        "LIMIT 5;\n",
        "'''\n",
        "# Menampilkan hasil querynya\n",
        "pd.io.sql.read_sql(top_author_with_min_rating_fifty12, con = engine)"
      ]
    },
    {
      "cell_type": "markdown",
      "metadata": {
        "id": "FeKIwKMc-fh2"
      },
      "source": [
        "Bahwa hanya berdasarkan rata-rata rating tertinggi, maka ada 5 auhtor buku yang berbeda yang mempunyai rata-rata rating tertinggi untuk salah satu karya bukunya, yaitu:\n",
        "\n",
        "- Author `J.K. Rowling/Mary GrandPré` dengan rata-rata rating 4.28.\n",
        "- Author `Markus Zusak/Cao Xuân Việt Khương` dengan rata-rata rating 4.26.\n",
        "- Author `J.R.R. Tolkien` dengan rata-rata rating 4.24.\n",
        "- Author `Louisa May Alcott` dengan rata-rata rating 4.19.\n",
        "- Author `Rick Riordan` dengan rata-rata rating 4.08."
      ]
    },
    {
      "cell_type": "markdown",
      "metadata": {
        "id": "l03hmM2v-fh4"
      },
      "source": [
        "### Menghitung jumlah rata-rata teks ulasan\n",
        "\n",
        "- Hitung jumlah rata-rata teks ulasan di antara pengguna yang memberi rating lebih dari 50 buku."
      ]
    },
    {
      "cell_type": "code",
      "execution_count": null,
      "metadata": {
        "scrolled": true,
        "id": "_7LKGdcd-fh4",
        "outputId": "54306956-d51b-4d51-9bfd-3f9cd4db848b"
      },
      "outputs": [
        {
          "data": {
            "text/html": [
              "<div>\n",
              "<style scoped>\n",
              "    .dataframe tbody tr th:only-of-type {\n",
              "        vertical-align: middle;\n",
              "    }\n",
              "\n",
              "    .dataframe tbody tr th {\n",
              "        vertical-align: top;\n",
              "    }\n",
              "\n",
              "    .dataframe thead th {\n",
              "        text-align: right;\n",
              "    }\n",
              "</style>\n",
              "<table border=\"1\" class=\"dataframe\">\n",
              "  <thead>\n",
              "    <tr style=\"text-align: right;\">\n",
              "      <th></th>\n",
              "      <th>avg</th>\n",
              "    </tr>\n",
              "  </thead>\n",
              "  <tbody>\n",
              "    <tr>\n",
              "      <th>0</th>\n",
              "      <td>24.333333</td>\n",
              "    </tr>\n",
              "  </tbody>\n",
              "</table>\n",
              "</div>"
            ],
            "text/plain": [
              "         avg\n",
              "0  24.333333"
            ]
          },
          "execution_count": 28,
          "metadata": {},
          "output_type": "execute_result"
        }
      ],
      "source": [
        "# Menghitung jumlah rata-rat teks ulasan di atnara pengguna\n",
        "# yang memberi rating lebih dari 50 buku\n",
        "\n",
        "avg_text = '''\n",
        "WITH rating_min_50 AS (\n",
        "    SELECT\n",
        "        ratings.username AS username\n",
        "    FROM\n",
        "        ratings\n",
        "    GROUP BY\n",
        "        1\n",
        "    HAVING\n",
        "        COUNT(ratings.rating) > 50\n",
        ")\n",
        ", text AS (\n",
        "    SELECT\n",
        "        COUNT(reviews.text) AS avg_text\n",
        "    FROM\n",
        "        reviews\n",
        "        INNER JOIN rating_min_50 ON rating_min_50.username = reviews.username\n",
        "    GROUP BY\n",
        "        reviews.username\n",
        ")\n",
        "SELECT \n",
        "    AVG(avg_text)\n",
        "FROM\n",
        "    text;\n",
        "'''\n",
        "# Menampilkan hasil querynya\n",
        "pd.io.sql.read_sql(avg_text, con = engine)"
      ]
    },
    {
      "cell_type": "markdown",
      "metadata": {
        "id": "JngA6r0T-fh5"
      },
      "source": [
        "Bahwa ulasan yang diberikan para pengguna mempunyai rata-rata sebesar 24 teks."
      ]
    },
    {
      "cell_type": "markdown",
      "metadata": {
        "id": "17urJdsI-fh5"
      },
      "source": [
        "## Kesimpulan"
      ]
    },
    {
      "cell_type": "markdown",
      "metadata": {
        "id": "JBt57BBt-fh5"
      },
      "source": [
        "Bahwa jumlah buku yang dirilis setelah tanggal 1 Januri 2000 berjumlah 819 buku.\n",
        "_____________________________________________\n",
        "Untuk 5 teratas jumlah ulasan dan rata-rata rating untuk setiap buku, yaitu:\n",
        "\n",
        "- `Twilight` dengan total ulasan 7 dan rata-rata nilai rating adalah 3.66\n",
        "- `Water for Elephants` dengan total ulasan 6 dan rata-rata nilai rating adalah 3.97\n",
        "- `The Glass Castle` dengan total ulasan 6 dan rata-rata nilai rating adalah 4.20\n",
        "- `Harry Potter and the Prisoner of Azkaban` dengan total ulasan 6 dan rata-rata nilai rating adalah 4.14\n",
        "- `The Curious Incident of the Dog in the Night-Time` dengan total ulasan 6 dan rata-rata nilai rating adalah 4.08\n",
        "\n",
        "\n",
        "Untuk 5 terbawah jumlah ulasan dan rata-rata rating untuk setiap buku, yaitu:\n",
        "\n",
        "- `Anne Rice's The Vampire Lestat: A Graphic Novel` dengan total ulasan 0 dan rata-rata nilai rating adalah 3.66\n",
        "- `The Natural Way to Draw` dengan total ulasan 0 dan rata-rata nilai rating adalah 3\n",
        "- `The Cat in the Hat and Other Dr. Seuss Favorites` dengan total ulasan 0 dan rata-rata nilai rating adalah 5\n",
        "- `Essential Tales and Poems` dengan total ulasan 0 dan rata-rata nilai rating adalah 4\n",
        "- `Disney's Beauty and the Beast` dengan total ulasan 0 dan rata-rata nilai rating adalah 4\n",
        "_____________________________________________\n",
        "Penerbit yang menerbitkan total buku dengan halaman diatas 50, yaitu:\n",
        "\n",
        "- Publisher/Penerbit `Penguin Book` dengan total 42 buku\n",
        "- Publisher/Penerbit `Vintage` dengan total 31 buku\n",
        "- Publisher/Penerbit `Grand Central Publishing` dengan total 25 buku\n",
        "- Publisher/Penerbit `Penguin Classics` dengan total 24 buku\n",
        "- Publisher/Penerbit `Bantam` dengan total 19 buku\n",
        "_____________________________________________\n",
        "5 auhtor teratas dengan rating rata-rata buku tertinggi yang bukunya mempunyai rating minimal 50, yaitu:\n",
        "\n",
        "- Penulis `J.K. Rowling/Mary GrandPré` dengan judul buku `Harry Potter and the Prisoner of Azkaban` mempunyai total rating sebesar 82 rating dan rata-rata rating 4.41.\n",
        "- Penulis `J.R.R. Tolkien` dengan judul buku `The Fellowship of the Ring` mempunyai total rating sebesar 74 rating dan rata-rata rating 4.39.\n",
        "- Penulis `J.K. Rowling/Mary GrandPré` dengan judul buku `Harry Potter and the Chamber of Secrets` mempunyai total rating sebesar 80 rating dan rata-rata rating 4.28.\n",
        "- Penulis `Markus Zusak/Cao Xuân Việt Khương` dengan judul buku `The Book Thief` mempunyai total rating sebesar 53 rating dan rata-rata rating 4.26.\n",
        "- Penulis `J.K. Rowling/Mary GrandPré` dengan judul buku `Harry Potter and the Half-Blood Prince` mempunyai total rating sebesar 73 rating dan rata-rata rating 4.24.\n",
        "_____________________________________________\n",
        "5 auhtor yang berbeda yang mempunyai rata-rata rating tertinggi untuk salah satu karya bukunya, yaitu:\n",
        "\n",
        "- Author `J.K. Rowling/Mary GrandPré` dengan rata-rata rating 4.28.\n",
        "- Author `Markus Zusak/Cao Xuân Việt Khương` dengan rata-rata rating 4.26.\n",
        "- Author `J.R.R. Tolkien` dengan rata-rata rating 4.24.\n",
        "- Author `Louisa May Alcott` dengan rata-rata rating 4.19.\n",
        "- Author `Rick Riordan` dengan rata-rata rating 4.08.\n",
        "_____________________________________________\n",
        "Ulasan yang diberikan para pengguna mempunyai rata-rata sebesar 24 teks."
      ]
    },
    {
      "cell_type": "markdown",
      "metadata": {
        "id": "1A6UfIdz-fh7"
      },
      "source": [
        "## Rekomendasi"
      ]
    },
    {
      "cell_type": "markdown",
      "metadata": {
        "id": "7e4wY9vX-fh7"
      },
      "source": [
        "Karena kehadiran Virus Corona yang membuat peminat untuk membaca buku sebagai kegiatan mengisi waktu, maka ada beberapa rekomendasi yang diberikan untuk membuka startup dibidang penjualan buku secara digital untuk memberikan penawaran harga kepada produk-produknya. \n",
        "\n",
        "- Carilah buku yang mempunyai ulasan yang banyak, artinya buku tersebut ramai dibicarakan dan karena ramai maka orang akan membelinya.\n",
        "- Selain ulasan yang banyak, rating untuk buku-buku yang ditawarkan sebaiknya memenuhi minimum, kaerna kalau menjual buku yang ratingnya kecil kemungkinan besar tidak ada yang mau membelinya.\n",
        "- Bekerja samalah dengan penerbit-penerbit yang kompoten. Selain mereka secara berkala menerbitkan buku, buku yang diterbitkan juga merupakan buku yang mempunyai potensi penjualan yang bagus sehingga akan menguntungkan kita sebagai startup.\n",
        "- Sebaiknya halaman-halaman buku yang tawarkan diperhatikan, karena membuat pengguna akan menikmati isi buku seperti buku Harry Potter yang dimana setiap seriesnya layak untuk di tunggu oleh para pecintanya.\n",
        "- Mempertimbangkan Author juga salah satu faktor untuk mempengaruhi penjualan.\n",
        "- Sebaiknya mempunyai satu atau dua review yang dimana teksnya dapat dibaca tanpa kepanjangan sehingga mencegah pengguna tidak jadi membeli buku karena ingin melihat review terlebih dahulu sebelum membeli tetapi kepanjangan karena membaca reviewnya."
      ]
    },
    {
      "cell_type": "markdown",
      "metadata": {
        "id": "kXQWMi0P-fh8"
      },
      "source": [
        "<div class=\"alert alert-block alert-warning\">\n",
        "\n",
        "# General comments #1\n",
        "<b>Reviewer's comment</b> <a class=\"tocSkip\"></a> \n",
        "\n",
        "Good Job Ariq! Sebagian besar kamu telah menyelesaikan project ini dengan baik namun masih ada beberapa hal yang bisa diimprove yang saya tandai dengan comment berwarna kuning dan merah. Jika kamu telah merevisinya, projectmu akan di approve dan kamu bisa lanjut ke tahapan selanjutnya!.\n",
        "    \n",
        "Keep going Ariq, you are doing very well!\n",
        "    \n",
        "\n",
        "</div>"
      ]
    },
    {
      "cell_type": "markdown",
      "metadata": {
        "id": "hk3Rfmqm-fh8"
      },
      "source": [
        "<div class=\"alert alert-block alert-success\">\n",
        "\n",
        "# General comments #2\n",
        "<b>Reviewer's comment</b> <a class=\"tocSkip\"></a> \n",
        "\n",
        "Good Job Ariq! Revisi sudah sesuai ya!\n",
        "    \n",
        "\n",
        "</div>"
      ]
    },
    {
      "cell_type": "code",
      "execution_count": null,
      "metadata": {
        "id": "cFUoVJCn-fh9"
      },
      "outputs": [],
      "source": []
    }
  ],
  "metadata": {
    "kernelspec": {
      "display_name": "Python 3 (ipykernel)",
      "language": "python",
      "name": "python3"
    },
    "language_info": {
      "codemirror_mode": {
        "name": "ipython",
        "version": 3
      },
      "file_extension": ".py",
      "mimetype": "text/x-python",
      "name": "python",
      "nbconvert_exporter": "python",
      "pygments_lexer": "ipython3",
      "version": "3.9.5"
    },
    "toc": {
      "base_numbering": 1,
      "nav_menu": {},
      "number_sections": true,
      "sideBar": true,
      "skip_h1_title": true,
      "title_cell": "Table of Contents",
      "title_sidebar": "Contents",
      "toc_cell": false,
      "toc_position": {
        "height": "calc(100% - 180px)",
        "left": "10px",
        "top": "150px",
        "width": "261px"
      },
      "toc_section_display": true,
      "toc_window_display": false
    },
    "colab": {
      "provenance": []
    }
  },
  "nbformat": 4,
  "nbformat_minor": 0
}