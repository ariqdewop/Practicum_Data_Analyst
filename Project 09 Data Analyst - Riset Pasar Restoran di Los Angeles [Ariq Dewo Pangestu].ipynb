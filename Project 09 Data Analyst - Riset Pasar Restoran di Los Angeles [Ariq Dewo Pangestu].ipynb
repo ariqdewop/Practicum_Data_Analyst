{
  "cells": [
    {
      "cell_type": "markdown",
      "metadata": {
        "id": "rZKakrtJ6kOF"
      },
      "source": [
        "# Daftar Isi\n",
        "\n",
        "- [Daftar Isi](#daftar_isi)\n",
        "- [Pendahuluan](#pendahuluan)\n",
        "- [Pengantar Proyek](#pengantar_proyek)\n",
        "- [Tujuan Proyek](#tujuan_proyek)\n",
        "- [Tahapan Proyek](#tahapan_proyek)\n",
        "- [Memuat seluruh Library dan Membaca filenya](#1)\n",
        "- [Pra-Pemrosesan Data](#2)\n",
        "- [Analisa Data](#3)\n",
        "    - [Proporsi dari berbagai jenis usaha](#31)\n",
        "    - [Proporsi dari usaha berbasis rantai dan non-rantai](#32)\n",
        "    - [Jenis usaha yang biasanya menggunakan rantai ](#33)\n",
        "    - [Menampilkan ciri-ciri usaha yang menggunakan chian berdasarkan banyak atau sedikit jumlah tempat duduk](#34)\n",
        "    - [Menentukan jumlah rata-rata kursi untuk setiap jenis usaha makanan dan melihat usaha makanan yang paling banyak rata-rata kursinya](#35)\n",
        "    - [Pindahkan data nama jalan dari kolom address ke kolom terpisah](#36)\n",
        "    - [Buatlah grafik yang menampilkan sepuluh nama jalan terbaik berdasarkan jumlah restoran](#37)\n",
        "    - [Temukan jumlah jalan yang hanya memiliki satu restoran](#38)\n",
        "    - [Untuk jalan yang dihuni oleh banyak restoran, perhatikan distribusi jumlah kursinya. Tren apa yang bisa Anda amati?](#39)\n",
        "- [Kesimpulan & Rekomendasi](#4)\n",
        "    - [Kesimpulan](#41)\n",
        "    - [Rekomendasi](#42)"
      ]
    },
    {
      "cell_type": "markdown",
      "metadata": {
        "id": "oqsNpc4t6kOG"
      },
      "source": [
        "# Pendahuluan\n",
        "\n",
        "Setiap kali kita melakukan penelitian, kita memerlukan analisa secara menyeluruh dengan seksama. Untuk membuat keputusan yang tepat, sebuah bisnis harus dapat memahami apakah analisa yang dibuatnya benar atau tidak.\n",
        "\n",
        "Dalam proyek ini, diminta mempersiapkan sejumlah riset pasar untuk membuka sebuah kafe kecil di Los Angeles. Kafe Anda bisa dibilang cukup unik, karena Anda \"memperkerjakan\" robot sebagai pelayan atau pramusaji dan menarik minat investor."
      ]
    },
    {
      "cell_type": "markdown",
      "metadata": {
        "id": "bEv4mq0e6kOH"
      },
      "source": [
        "# Deksripsi Proyek\n",
        "\n",
        "Anda telah memutuskan untuk membuka sebuah kafe kecil di Los Angeles. Kafe Anda bisa dibilang cukup unik, karena Anda \"memperkerjakan\" robot sebagai pelayan atau pramusaji. Proyek ini memang menjanjikan, namun membutuhkan modal yang besar. Oleh karena itu, Anda dan para mitra Anda memutuskan untuk menarik minat investor. Mereka tertarik dengan kondisi pasar saat ini—namun, mampukah Anda mempertahankan kesuksesan saat daya tarik sang robot mulai pudar?\n",
        "Mengingat Anda adalah seorang pakar analisis, para mitra pun meminta Anda untuk mempersiapkan sejumlah riset pasar. Anda memiliki data dari sumber terbuka (open source) terkait restoran-restoran di LA."
      ]
    },
    {
      "cell_type": "markdown",
      "metadata": {
        "id": "U715JzaM6kOQ"
      },
      "source": [
        "# Tujuan Proyek\n",
        "\n",
        "Proyek ini ditujukan untuk menarik minat investor dalam mempersiapkan usaha kafe kecil di Los Angeles karena mempunyai konsep unik yaitu memperkerjakan robot sebagai pelayan atau pramusaji."
      ]
    },
    {
      "cell_type": "markdown",
      "metadata": {
        "id": "rHNVDaUo6kOR"
      },
      "source": [
        "# Tahapan Proyek\n",
        "\n",
        "Ada file yang akan dianalisa, yaitu `/datasets/rest_data_us.csv` dengan format *object_name — (nama usaha)*, *chain — (usaha berbasis rantai (TRUE/FALSE))*, *object_type — (jenis usaha)*, *address — (alamat)*, *number — (jumlah kursi)*. \n",
        "\n",
        "Lalu melakukan pra-pemrosesan data sebelum dianalisa, setelah itu maka akan langsung di analisa beberap poin, yaitu:\n",
        "\n",
        "- Melihat Proporsi berbagai jenis usaha\n",
        "- Melihat Proporsi jenis rantai usaha\n",
        "- Melihat ciri-ciri dari usaha berbasis rantai dari jumlah tempat duduk\n",
        "- Melihat rata-rata kursi untuk setiap jenis restoran\n",
        "- Melihat sepuluh nama jalan terbaik berdasarkan jumlah restoran.\n",
        "- Melihat jumlah jalan yang hanya memiliki satu restoran.\n",
        "- Melihat distribusi jumlah kursinya"
      ]
    },
    {
      "cell_type": "markdown",
      "metadata": {
        "id": "0YIaaqAJ6kOS"
      },
      "source": [
        "## Memuat seluruh Library dan Membaca filenya"
      ]
    },
    {
      "cell_type": "code",
      "execution_count": null,
      "metadata": {
        "id": "A1eR496b6kOT"
      },
      "outputs": [],
      "source": [
        "# Membuat semua Libary\n",
        "import pandas as pd, numpy as np\n",
        "# Memuat Data Visualisasi\n",
        "import matplotlib.pyplot as plt, seaborn as sns\n",
        "# Membuat Uji Statistik\n",
        "import scipy.stats as st\n",
        "# Menyembunyikan warning\n",
        "import warnings"
      ]
    },
    {
      "cell_type": "code",
      "execution_count": null,
      "metadata": {
        "id": "J4CQEsfB6kOU"
      },
      "outputs": [],
      "source": [
        "# Membuat set kolom untuk kolom bisa dibaca jika panjang\n",
        "pd.set_option('display.max_columns', 100)\n",
        "# Membuat warning untuk di abaikan dan disembunyikan\n",
        "warnings.filterwarnings('ignore')"
      ]
    },
    {
      "cell_type": "code",
      "execution_count": null,
      "metadata": {
        "id": "E_Ht1N426kOV"
      },
      "outputs": [],
      "source": [
        "# Memuat file tabel restoran\n",
        "df_restaurant = pd.read_csv('/datasets/rest_data_us.csv')"
      ]
    },
    {
      "cell_type": "code",
      "execution_count": null,
      "metadata": {
        "id": "zIhPBOGP6kOV",
        "outputId": "0ad1fd86-c029-4144-9c5e-535b948d6601"
      },
      "outputs": [
        {
          "data": {
            "text/html": [
              "<div>\n",
              "<style scoped>\n",
              "    .dataframe tbody tr th:only-of-type {\n",
              "        vertical-align: middle;\n",
              "    }\n",
              "\n",
              "    .dataframe tbody tr th {\n",
              "        vertical-align: top;\n",
              "    }\n",
              "\n",
              "    .dataframe thead th {\n",
              "        text-align: right;\n",
              "    }\n",
              "</style>\n",
              "<table border=\"1\" class=\"dataframe\">\n",
              "  <thead>\n",
              "    <tr style=\"text-align: right;\">\n",
              "      <th></th>\n",
              "      <th>id</th>\n",
              "      <th>object_name</th>\n",
              "      <th>address</th>\n",
              "      <th>chain</th>\n",
              "      <th>object_type</th>\n",
              "      <th>number</th>\n",
              "    </tr>\n",
              "  </thead>\n",
              "  <tbody>\n",
              "    <tr>\n",
              "      <th>0</th>\n",
              "      <td>11786</td>\n",
              "      <td>HABITAT COFFEE SHOP</td>\n",
              "      <td>3708 N EAGLE ROCK BLVD</td>\n",
              "      <td>False</td>\n",
              "      <td>Cafe</td>\n",
              "      <td>26</td>\n",
              "    </tr>\n",
              "    <tr>\n",
              "      <th>1</th>\n",
              "      <td>11787</td>\n",
              "      <td>REILLY'S</td>\n",
              "      <td>100 WORLD WAY # 120</td>\n",
              "      <td>False</td>\n",
              "      <td>Restaurant</td>\n",
              "      <td>9</td>\n",
              "    </tr>\n",
              "    <tr>\n",
              "      <th>2</th>\n",
              "      <td>11788</td>\n",
              "      <td>STREET CHURROS</td>\n",
              "      <td>6801 HOLLYWOOD BLVD # 253</td>\n",
              "      <td>False</td>\n",
              "      <td>Fast Food</td>\n",
              "      <td>20</td>\n",
              "    </tr>\n",
              "    <tr>\n",
              "      <th>3</th>\n",
              "      <td>11789</td>\n",
              "      <td>TRINITI ECHO PARK</td>\n",
              "      <td>1814 W SUNSET BLVD</td>\n",
              "      <td>False</td>\n",
              "      <td>Restaurant</td>\n",
              "      <td>22</td>\n",
              "    </tr>\n",
              "    <tr>\n",
              "      <th>4</th>\n",
              "      <td>11790</td>\n",
              "      <td>POLLEN</td>\n",
              "      <td>2100 ECHO PARK AVE</td>\n",
              "      <td>False</td>\n",
              "      <td>Restaurant</td>\n",
              "      <td>20</td>\n",
              "    </tr>\n",
              "  </tbody>\n",
              "</table>\n",
              "</div>"
            ],
            "text/plain": [
              "      id          object_name                    address  chain object_type  \\\n",
              "0  11786  HABITAT COFFEE SHOP     3708 N EAGLE ROCK BLVD  False        Cafe   \n",
              "1  11787             REILLY'S        100 WORLD WAY # 120  False  Restaurant   \n",
              "2  11788       STREET CHURROS  6801 HOLLYWOOD BLVD # 253  False   Fast Food   \n",
              "3  11789    TRINITI ECHO PARK         1814 W SUNSET BLVD  False  Restaurant   \n",
              "4  11790               POLLEN         2100 ECHO PARK AVE  False  Restaurant   \n",
              "\n",
              "   number  \n",
              "0      26  \n",
              "1       9  \n",
              "2      20  \n",
              "3      22  \n",
              "4      20  "
            ]
          },
          "execution_count": 4,
          "metadata": {},
          "output_type": "execute_result"
        }
      ],
      "source": [
        "# Melihat tabelnya\n",
        "df_restaurant.head()"
      ]
    },
    {
      "cell_type": "markdown",
      "metadata": {
        "id": "4KUPMMra6kOW"
      },
      "source": [
        "**Deskripsi Data**\n",
        "\n",
        "Tabel df_restaurant:\n",
        "\n",
        "- object_name — nama usaha\n",
        "- chain — usaha berbasis rantai (TRUE/FALSE)\n",
        "- object_type — jenis usaha\n",
        "- address — alamat\n",
        "- number — jumlah kursi"
      ]
    },
    {
      "cell_type": "code",
      "execution_count": null,
      "metadata": {
        "id": "vRejP2_L6kOX",
        "outputId": "905f1f40-a325-4cca-8293-db7fa9073b67"
      },
      "outputs": [
        {
          "name": "stdout",
          "output_type": "stream",
          "text": [
            "<class 'pandas.core.frame.DataFrame'>\n",
            "RangeIndex: 9651 entries, 0 to 9650\n",
            "Data columns (total 6 columns):\n",
            " #   Column       Non-Null Count  Dtype \n",
            "---  ------       --------------  ----- \n",
            " 0   id           9651 non-null   int64 \n",
            " 1   object_name  9651 non-null   object\n",
            " 2   address      9651 non-null   object\n",
            " 3   chain        9648 non-null   object\n",
            " 4   object_type  9651 non-null   object\n",
            " 5   number       9651 non-null   int64 \n",
            "dtypes: int64(2), object(4)\n",
            "memory usage: 452.5+ KB\n"
          ]
        }
      ],
      "source": [
        "# Melihat informasi keseluruhan pada tabel restoran\n",
        "df_restaurant.info()"
      ]
    },
    {
      "cell_type": "code",
      "execution_count": null,
      "metadata": {
        "id": "UQcWDqeF6kOX",
        "outputId": "7b31c3f6-e582-4129-f7e9-cca4dc0a945b"
      },
      "outputs": [
        {
          "data": {
            "text/plain": [
              "id             0\n",
              "object_name    0\n",
              "address        0\n",
              "chain          3\n",
              "object_type    0\n",
              "number         0\n",
              "dtype: int64"
            ]
          },
          "execution_count": 6,
          "metadata": {},
          "output_type": "execute_result"
        }
      ],
      "source": [
        "# Melihat nilai yang hilang pada tabel restoran\n",
        "df_restaurant.isna().sum()"
      ]
    },
    {
      "cell_type": "code",
      "execution_count": null,
      "metadata": {
        "id": "hzMUGYp76kOX",
        "outputId": "5ae0c5fd-26dd-45bc-fb54-6c902e169eb7"
      },
      "outputs": [
        {
          "data": {
            "text/plain": [
              "0"
            ]
          },
          "execution_count": 7,
          "metadata": {},
          "output_type": "execute_result"
        }
      ],
      "source": [
        "# Melihat nilai yang duplikasi pada tabel restoran\n",
        "df_restaurant.duplicated().sum()"
      ]
    },
    {
      "cell_type": "markdown",
      "metadata": {
        "id": "tgy29-l26kOY"
      },
      "source": [
        "Setelah melihat dan menganalisa tabel restoran, maka didapatkan beberapa kesimpulan untuk tabel ini, yaitu:\n",
        "\n",
        "- Mempunyai masalah untuk nilai hilang pada kolom chain.\n",
        "- Mempunyai masalah untuk tipe data pada kolom chain.\n",
        "- Tidak mempunyai masalah untuk data duplikasi pada tabelnya.\n",
        "- Tidak mempunyai masalah untuk nama kolom, tetapi untuk `object_name` dan `object_type` rasanya kurang tepat."
      ]
    },
    {
      "cell_type": "markdown",
      "metadata": {
        "id": "i9ariybv6kOZ"
      },
      "source": [
        "## Pra-Pemrosesan Data"
      ]
    },
    {
      "cell_type": "code",
      "execution_count": null,
      "metadata": {
        "scrolled": true,
        "id": "eEQRKOhA6kOZ",
        "outputId": "742160b6-db8f-4f24-ec4c-84b23768ba97"
      },
      "outputs": [
        {
          "data": {
            "text/html": [
              "<div>\n",
              "<style scoped>\n",
              "    .dataframe tbody tr th:only-of-type {\n",
              "        vertical-align: middle;\n",
              "    }\n",
              "\n",
              "    .dataframe tbody tr th {\n",
              "        vertical-align: top;\n",
              "    }\n",
              "\n",
              "    .dataframe thead th {\n",
              "        text-align: right;\n",
              "    }\n",
              "</style>\n",
              "<table border=\"1\" class=\"dataframe\">\n",
              "  <thead>\n",
              "    <tr style=\"text-align: right;\">\n",
              "      <th></th>\n",
              "      <th>id</th>\n",
              "      <th>object_name</th>\n",
              "      <th>address</th>\n",
              "      <th>chain</th>\n",
              "      <th>object_type</th>\n",
              "      <th>number</th>\n",
              "    </tr>\n",
              "  </thead>\n",
              "  <tbody>\n",
              "    <tr>\n",
              "      <th>7408</th>\n",
              "      <td>19194</td>\n",
              "      <td>TAQUERIA LOS 3 CARNALES</td>\n",
              "      <td>5000 E WHITTIER BLVD</td>\n",
              "      <td>NaN</td>\n",
              "      <td>Restaurant</td>\n",
              "      <td>14</td>\n",
              "    </tr>\n",
              "    <tr>\n",
              "      <th>7523</th>\n",
              "      <td>19309</td>\n",
              "      <td>JAMMIN JIMMY'S PIZZA</td>\n",
              "      <td>1641 FIRESTONE BLVD</td>\n",
              "      <td>NaN</td>\n",
              "      <td>Pizza</td>\n",
              "      <td>1</td>\n",
              "    </tr>\n",
              "    <tr>\n",
              "      <th>8648</th>\n",
              "      <td>20434</td>\n",
              "      <td>THE LEXINGTON THEATER</td>\n",
              "      <td>129 E 3RD ST</td>\n",
              "      <td>NaN</td>\n",
              "      <td>Restaurant</td>\n",
              "      <td>35</td>\n",
              "    </tr>\n",
              "  </tbody>\n",
              "</table>\n",
              "</div>"
            ],
            "text/plain": [
              "         id              object_name               address chain object_type  \\\n",
              "7408  19194  TAQUERIA LOS 3 CARNALES  5000 E WHITTIER BLVD   NaN  Restaurant   \n",
              "7523  19309     JAMMIN JIMMY'S PIZZA   1641 FIRESTONE BLVD   NaN       Pizza   \n",
              "8648  20434    THE LEXINGTON THEATER          129 E 3RD ST   NaN  Restaurant   \n",
              "\n",
              "      number  \n",
              "7408      14  \n",
              "7523       1  \n",
              "8648      35  "
            ]
          },
          "execution_count": 8,
          "metadata": {},
          "output_type": "execute_result"
        }
      ],
      "source": [
        "# Melihat nilai yang hilang\n",
        "df_restaurant[df_restaurant['chain'].isna()]"
      ]
    },
    {
      "cell_type": "markdown",
      "metadata": {
        "id": "FHGNAcQr6kOZ"
      },
      "source": [
        "Masing-masing nilai yang hilang ini merupakan hanya toko dengan satu cabang saja, jadi lebih baik di drop untuk nilai-nilau pada chain yang hilang."
      ]
    },
    {
      "cell_type": "code",
      "execution_count": null,
      "metadata": {
        "id": "Er3BlJCL6kOa",
        "outputId": "adc307b0-c8ee-4381-e229-4f3510341c62"
      },
      "outputs": [
        {
          "data": {
            "text/html": [
              "<div>\n",
              "<style scoped>\n",
              "    .dataframe tbody tr th:only-of-type {\n",
              "        vertical-align: middle;\n",
              "    }\n",
              "\n",
              "    .dataframe tbody tr th {\n",
              "        vertical-align: top;\n",
              "    }\n",
              "\n",
              "    .dataframe thead th {\n",
              "        text-align: right;\n",
              "    }\n",
              "</style>\n",
              "<table border=\"1\" class=\"dataframe\">\n",
              "  <thead>\n",
              "    <tr style=\"text-align: right;\">\n",
              "      <th></th>\n",
              "      <th>id</th>\n",
              "      <th>object_name</th>\n",
              "      <th>address</th>\n",
              "      <th>chain</th>\n",
              "      <th>object_type</th>\n",
              "      <th>number</th>\n",
              "    </tr>\n",
              "  </thead>\n",
              "  <tbody>\n",
              "    <tr>\n",
              "      <th>0</th>\n",
              "      <td>11786</td>\n",
              "      <td>HABITAT COFFEE SHOP</td>\n",
              "      <td>3708 N EAGLE ROCK BLVD</td>\n",
              "      <td>False</td>\n",
              "      <td>Cafe</td>\n",
              "      <td>26</td>\n",
              "    </tr>\n",
              "    <tr>\n",
              "      <th>1</th>\n",
              "      <td>11787</td>\n",
              "      <td>REILLY'S</td>\n",
              "      <td>100 WORLD WAY # 120</td>\n",
              "      <td>False</td>\n",
              "      <td>Restaurant</td>\n",
              "      <td>9</td>\n",
              "    </tr>\n",
              "    <tr>\n",
              "      <th>2</th>\n",
              "      <td>11788</td>\n",
              "      <td>STREET CHURROS</td>\n",
              "      <td>6801 HOLLYWOOD BLVD # 253</td>\n",
              "      <td>False</td>\n",
              "      <td>Fast Food</td>\n",
              "      <td>20</td>\n",
              "    </tr>\n",
              "    <tr>\n",
              "      <th>3</th>\n",
              "      <td>11789</td>\n",
              "      <td>TRINITI ECHO PARK</td>\n",
              "      <td>1814 W SUNSET BLVD</td>\n",
              "      <td>False</td>\n",
              "      <td>Restaurant</td>\n",
              "      <td>22</td>\n",
              "    </tr>\n",
              "    <tr>\n",
              "      <th>4</th>\n",
              "      <td>11790</td>\n",
              "      <td>POLLEN</td>\n",
              "      <td>2100 ECHO PARK AVE</td>\n",
              "      <td>False</td>\n",
              "      <td>Restaurant</td>\n",
              "      <td>20</td>\n",
              "    </tr>\n",
              "    <tr>\n",
              "      <th>...</th>\n",
              "      <td>...</td>\n",
              "      <td>...</td>\n",
              "      <td>...</td>\n",
              "      <td>...</td>\n",
              "      <td>...</td>\n",
              "      <td>...</td>\n",
              "    </tr>\n",
              "    <tr>\n",
              "      <th>9646</th>\n",
              "      <td>21432</td>\n",
              "      <td>HALL OF JUSTICE</td>\n",
              "      <td>217 W TEMPLE AVE</td>\n",
              "      <td>False</td>\n",
              "      <td>Restaurant</td>\n",
              "      <td>122</td>\n",
              "    </tr>\n",
              "    <tr>\n",
              "      <th>9647</th>\n",
              "      <td>21433</td>\n",
              "      <td>FIN-MELROSE</td>\n",
              "      <td>5750 MELROSE AVE</td>\n",
              "      <td>False</td>\n",
              "      <td>Restaurant</td>\n",
              "      <td>93</td>\n",
              "    </tr>\n",
              "    <tr>\n",
              "      <th>9648</th>\n",
              "      <td>21434</td>\n",
              "      <td>JUICY WINGZ</td>\n",
              "      <td>6741 HOLLYWOOD BLVD</td>\n",
              "      <td>True</td>\n",
              "      <td>Fast Food</td>\n",
              "      <td>15</td>\n",
              "    </tr>\n",
              "    <tr>\n",
              "      <th>9649</th>\n",
              "      <td>21435</td>\n",
              "      <td>MEDIDATE COFFEE</td>\n",
              "      <td>548 S SPRING ST STE 100</td>\n",
              "      <td>False</td>\n",
              "      <td>Cafe</td>\n",
              "      <td>6</td>\n",
              "    </tr>\n",
              "    <tr>\n",
              "      <th>9650</th>\n",
              "      <td>21436</td>\n",
              "      <td>CAFE SPROUTS</td>\n",
              "      <td>1300 S SAN PEDRO ST STE 111</td>\n",
              "      <td>True</td>\n",
              "      <td>Restaurant</td>\n",
              "      <td>19</td>\n",
              "    </tr>\n",
              "  </tbody>\n",
              "</table>\n",
              "<p>9651 rows × 6 columns</p>\n",
              "</div>"
            ],
            "text/plain": [
              "         id          object_name                      address  chain  \\\n",
              "0     11786  HABITAT COFFEE SHOP       3708 N EAGLE ROCK BLVD  False   \n",
              "1     11787             REILLY'S          100 WORLD WAY # 120  False   \n",
              "2     11788       STREET CHURROS    6801 HOLLYWOOD BLVD # 253  False   \n",
              "3     11789    TRINITI ECHO PARK           1814 W SUNSET BLVD  False   \n",
              "4     11790               POLLEN           2100 ECHO PARK AVE  False   \n",
              "...     ...                  ...                          ...    ...   \n",
              "9646  21432      HALL OF JUSTICE             217 W TEMPLE AVE  False   \n",
              "9647  21433          FIN-MELROSE             5750 MELROSE AVE  False   \n",
              "9648  21434          JUICY WINGZ          6741 HOLLYWOOD BLVD   True   \n",
              "9649  21435      MEDIDATE COFFEE      548 S SPRING ST STE 100  False   \n",
              "9650  21436         CAFE SPROUTS  1300 S SAN PEDRO ST STE 111   True   \n",
              "\n",
              "     object_type  number  \n",
              "0           Cafe      26  \n",
              "1     Restaurant       9  \n",
              "2      Fast Food      20  \n",
              "3     Restaurant      22  \n",
              "4     Restaurant      20  \n",
              "...          ...     ...  \n",
              "9646  Restaurant     122  \n",
              "9647  Restaurant      93  \n",
              "9648   Fast Food      15  \n",
              "9649        Cafe       6  \n",
              "9650  Restaurant      19  \n",
              "\n",
              "[9651 rows x 6 columns]"
            ]
          },
          "execution_count": 9,
          "metadata": {},
          "output_type": "execute_result"
        }
      ],
      "source": [
        "# Melihat data beserta jumlah baris dan kolom\n",
        "df_restaurant"
      ]
    },
    {
      "cell_type": "code",
      "execution_count": null,
      "metadata": {
        "id": "r9E1Hhz46kOa"
      },
      "outputs": [],
      "source": [
        "# Menghilangkan nilai NaN pada kolom chain\n",
        "df_restaurant = df_restaurant[~df_restaurant['chain'].isna()]"
      ]
    },
    {
      "cell_type": "code",
      "execution_count": null,
      "metadata": {
        "id": "10YGXbCY6kOa",
        "outputId": "f5588fff-2591-430e-8fe9-c9d344c15486"
      },
      "outputs": [
        {
          "data": {
            "text/html": [
              "<div>\n",
              "<style scoped>\n",
              "    .dataframe tbody tr th:only-of-type {\n",
              "        vertical-align: middle;\n",
              "    }\n",
              "\n",
              "    .dataframe tbody tr th {\n",
              "        vertical-align: top;\n",
              "    }\n",
              "\n",
              "    .dataframe thead th {\n",
              "        text-align: right;\n",
              "    }\n",
              "</style>\n",
              "<table border=\"1\" class=\"dataframe\">\n",
              "  <thead>\n",
              "    <tr style=\"text-align: right;\">\n",
              "      <th></th>\n",
              "      <th>id</th>\n",
              "      <th>object_name</th>\n",
              "      <th>address</th>\n",
              "      <th>chain</th>\n",
              "      <th>object_type</th>\n",
              "      <th>number</th>\n",
              "    </tr>\n",
              "  </thead>\n",
              "  <tbody>\n",
              "    <tr>\n",
              "      <th>0</th>\n",
              "      <td>11786</td>\n",
              "      <td>HABITAT COFFEE SHOP</td>\n",
              "      <td>3708 N EAGLE ROCK BLVD</td>\n",
              "      <td>False</td>\n",
              "      <td>Cafe</td>\n",
              "      <td>26</td>\n",
              "    </tr>\n",
              "    <tr>\n",
              "      <th>1</th>\n",
              "      <td>11787</td>\n",
              "      <td>REILLY'S</td>\n",
              "      <td>100 WORLD WAY # 120</td>\n",
              "      <td>False</td>\n",
              "      <td>Restaurant</td>\n",
              "      <td>9</td>\n",
              "    </tr>\n",
              "    <tr>\n",
              "      <th>2</th>\n",
              "      <td>11788</td>\n",
              "      <td>STREET CHURROS</td>\n",
              "      <td>6801 HOLLYWOOD BLVD # 253</td>\n",
              "      <td>False</td>\n",
              "      <td>Fast Food</td>\n",
              "      <td>20</td>\n",
              "    </tr>\n",
              "    <tr>\n",
              "      <th>3</th>\n",
              "      <td>11789</td>\n",
              "      <td>TRINITI ECHO PARK</td>\n",
              "      <td>1814 W SUNSET BLVD</td>\n",
              "      <td>False</td>\n",
              "      <td>Restaurant</td>\n",
              "      <td>22</td>\n",
              "    </tr>\n",
              "    <tr>\n",
              "      <th>4</th>\n",
              "      <td>11790</td>\n",
              "      <td>POLLEN</td>\n",
              "      <td>2100 ECHO PARK AVE</td>\n",
              "      <td>False</td>\n",
              "      <td>Restaurant</td>\n",
              "      <td>20</td>\n",
              "    </tr>\n",
              "    <tr>\n",
              "      <th>...</th>\n",
              "      <td>...</td>\n",
              "      <td>...</td>\n",
              "      <td>...</td>\n",
              "      <td>...</td>\n",
              "      <td>...</td>\n",
              "      <td>...</td>\n",
              "    </tr>\n",
              "    <tr>\n",
              "      <th>9646</th>\n",
              "      <td>21432</td>\n",
              "      <td>HALL OF JUSTICE</td>\n",
              "      <td>217 W TEMPLE AVE</td>\n",
              "      <td>False</td>\n",
              "      <td>Restaurant</td>\n",
              "      <td>122</td>\n",
              "    </tr>\n",
              "    <tr>\n",
              "      <th>9647</th>\n",
              "      <td>21433</td>\n",
              "      <td>FIN-MELROSE</td>\n",
              "      <td>5750 MELROSE AVE</td>\n",
              "      <td>False</td>\n",
              "      <td>Restaurant</td>\n",
              "      <td>93</td>\n",
              "    </tr>\n",
              "    <tr>\n",
              "      <th>9648</th>\n",
              "      <td>21434</td>\n",
              "      <td>JUICY WINGZ</td>\n",
              "      <td>6741 HOLLYWOOD BLVD</td>\n",
              "      <td>True</td>\n",
              "      <td>Fast Food</td>\n",
              "      <td>15</td>\n",
              "    </tr>\n",
              "    <tr>\n",
              "      <th>9649</th>\n",
              "      <td>21435</td>\n",
              "      <td>MEDIDATE COFFEE</td>\n",
              "      <td>548 S SPRING ST STE 100</td>\n",
              "      <td>False</td>\n",
              "      <td>Cafe</td>\n",
              "      <td>6</td>\n",
              "    </tr>\n",
              "    <tr>\n",
              "      <th>9650</th>\n",
              "      <td>21436</td>\n",
              "      <td>CAFE SPROUTS</td>\n",
              "      <td>1300 S SAN PEDRO ST STE 111</td>\n",
              "      <td>True</td>\n",
              "      <td>Restaurant</td>\n",
              "      <td>19</td>\n",
              "    </tr>\n",
              "  </tbody>\n",
              "</table>\n",
              "<p>9648 rows × 6 columns</p>\n",
              "</div>"
            ],
            "text/plain": [
              "         id          object_name                      address  chain  \\\n",
              "0     11786  HABITAT COFFEE SHOP       3708 N EAGLE ROCK BLVD  False   \n",
              "1     11787             REILLY'S          100 WORLD WAY # 120  False   \n",
              "2     11788       STREET CHURROS    6801 HOLLYWOOD BLVD # 253  False   \n",
              "3     11789    TRINITI ECHO PARK           1814 W SUNSET BLVD  False   \n",
              "4     11790               POLLEN           2100 ECHO PARK AVE  False   \n",
              "...     ...                  ...                          ...    ...   \n",
              "9646  21432      HALL OF JUSTICE             217 W TEMPLE AVE  False   \n",
              "9647  21433          FIN-MELROSE             5750 MELROSE AVE  False   \n",
              "9648  21434          JUICY WINGZ          6741 HOLLYWOOD BLVD   True   \n",
              "9649  21435      MEDIDATE COFFEE      548 S SPRING ST STE 100  False   \n",
              "9650  21436         CAFE SPROUTS  1300 S SAN PEDRO ST STE 111   True   \n",
              "\n",
              "     object_type  number  \n",
              "0           Cafe      26  \n",
              "1     Restaurant       9  \n",
              "2      Fast Food      20  \n",
              "3     Restaurant      22  \n",
              "4     Restaurant      20  \n",
              "...          ...     ...  \n",
              "9646  Restaurant     122  \n",
              "9647  Restaurant      93  \n",
              "9648   Fast Food      15  \n",
              "9649        Cafe       6  \n",
              "9650  Restaurant      19  \n",
              "\n",
              "[9648 rows x 6 columns]"
            ]
          },
          "execution_count": 11,
          "metadata": {},
          "output_type": "execute_result"
        }
      ],
      "source": [
        "# Melihat kembali data beserta jumlah baris dan kolom\n",
        "df_restaurant"
      ]
    },
    {
      "cell_type": "markdown",
      "metadata": {
        "id": "9jZG-I1t6kOb"
      },
      "source": [
        "Jumlah kolom yang berkurang hanya 3, sesuai dengan nilai yang hilang hanya 3 baris."
      ]
    },
    {
      "cell_type": "code",
      "execution_count": null,
      "metadata": {
        "id": "DR2Qn2WO6kOb"
      },
      "outputs": [],
      "source": [
        "# Mengubah tipe data pada kolom chain\n",
        "\n",
        "df_restaurant['chain'] = df_restaurant['chain'].astype(bool)"
      ]
    },
    {
      "cell_type": "code",
      "execution_count": null,
      "metadata": {
        "id": "onSCk15t6kOb",
        "outputId": "f42e0f4b-fc99-4329-a022-ff2dc1cb4944"
      },
      "outputs": [
        {
          "name": "stdout",
          "output_type": "stream",
          "text": [
            "<class 'pandas.core.frame.DataFrame'>\n",
            "Int64Index: 9648 entries, 0 to 9650\n",
            "Data columns (total 6 columns):\n",
            " #   Column       Non-Null Count  Dtype \n",
            "---  ------       --------------  ----- \n",
            " 0   id           9648 non-null   int64 \n",
            " 1   object_name  9648 non-null   object\n",
            " 2   address      9648 non-null   object\n",
            " 3   chain        9648 non-null   bool  \n",
            " 4   object_type  9648 non-null   object\n",
            " 5   number       9648 non-null   int64 \n",
            "dtypes: bool(1), int64(2), object(3)\n",
            "memory usage: 461.7+ KB\n"
          ]
        }
      ],
      "source": [
        "# Melihat tipe data dari informasi\n",
        "df_restaurant.info()"
      ]
    },
    {
      "cell_type": "markdown",
      "metadata": {
        "id": "4QJ6UvVQ6kOc"
      },
      "source": [
        "Setelah selesai memperbaiki untuk kolom chain, sekarang untuk mengubah kolom `object_name`, `object_type`, dan `number`. Walaupun tidak ada masalah untuk nama kolom tersebut, tetapi lebih baik untuk dirapihkan agar lebih enak untuk dibaca nama kolom tersebut. Karena nanti akan di presentasikan, dan hal itu harus dibuat sesederhana mungkin namanya agar orang lain mengerti apa yang di maksud."
      ]
    },
    {
      "cell_type": "code",
      "execution_count": null,
      "metadata": {
        "id": "jcVOc0ln6kOc"
      },
      "outputs": [],
      "source": [
        "# mengganti nama kolom\n",
        "df_restaurant.columns = ['id', 'name', 'address', 'chain', 'type', 'total_seats']"
      ]
    },
    {
      "cell_type": "code",
      "execution_count": null,
      "metadata": {
        "id": "QOINTp7Q6kOc",
        "outputId": "9f5823b6-5e6f-499a-fdc0-e02a3349c9eb"
      },
      "outputs": [
        {
          "data": {
            "text/html": [
              "<div>\n",
              "<style scoped>\n",
              "    .dataframe tbody tr th:only-of-type {\n",
              "        vertical-align: middle;\n",
              "    }\n",
              "\n",
              "    .dataframe tbody tr th {\n",
              "        vertical-align: top;\n",
              "    }\n",
              "\n",
              "    .dataframe thead th {\n",
              "        text-align: right;\n",
              "    }\n",
              "</style>\n",
              "<table border=\"1\" class=\"dataframe\">\n",
              "  <thead>\n",
              "    <tr style=\"text-align: right;\">\n",
              "      <th></th>\n",
              "      <th>id</th>\n",
              "      <th>name</th>\n",
              "      <th>address</th>\n",
              "      <th>chain</th>\n",
              "      <th>type</th>\n",
              "      <th>total_seats</th>\n",
              "    </tr>\n",
              "  </thead>\n",
              "  <tbody>\n",
              "    <tr>\n",
              "      <th>0</th>\n",
              "      <td>11786</td>\n",
              "      <td>HABITAT COFFEE SHOP</td>\n",
              "      <td>3708 N EAGLE ROCK BLVD</td>\n",
              "      <td>False</td>\n",
              "      <td>Cafe</td>\n",
              "      <td>26</td>\n",
              "    </tr>\n",
              "    <tr>\n",
              "      <th>1</th>\n",
              "      <td>11787</td>\n",
              "      <td>REILLY'S</td>\n",
              "      <td>100 WORLD WAY # 120</td>\n",
              "      <td>False</td>\n",
              "      <td>Restaurant</td>\n",
              "      <td>9</td>\n",
              "    </tr>\n",
              "    <tr>\n",
              "      <th>2</th>\n",
              "      <td>11788</td>\n",
              "      <td>STREET CHURROS</td>\n",
              "      <td>6801 HOLLYWOOD BLVD # 253</td>\n",
              "      <td>False</td>\n",
              "      <td>Fast Food</td>\n",
              "      <td>20</td>\n",
              "    </tr>\n",
              "    <tr>\n",
              "      <th>3</th>\n",
              "      <td>11789</td>\n",
              "      <td>TRINITI ECHO PARK</td>\n",
              "      <td>1814 W SUNSET BLVD</td>\n",
              "      <td>False</td>\n",
              "      <td>Restaurant</td>\n",
              "      <td>22</td>\n",
              "    </tr>\n",
              "    <tr>\n",
              "      <th>4</th>\n",
              "      <td>11790</td>\n",
              "      <td>POLLEN</td>\n",
              "      <td>2100 ECHO PARK AVE</td>\n",
              "      <td>False</td>\n",
              "      <td>Restaurant</td>\n",
              "      <td>20</td>\n",
              "    </tr>\n",
              "  </tbody>\n",
              "</table>\n",
              "</div>"
            ],
            "text/plain": [
              "      id                 name                    address  chain        type  \\\n",
              "0  11786  HABITAT COFFEE SHOP     3708 N EAGLE ROCK BLVD  False        Cafe   \n",
              "1  11787             REILLY'S        100 WORLD WAY # 120  False  Restaurant   \n",
              "2  11788       STREET CHURROS  6801 HOLLYWOOD BLVD # 253  False   Fast Food   \n",
              "3  11789    TRINITI ECHO PARK         1814 W SUNSET BLVD  False  Restaurant   \n",
              "4  11790               POLLEN         2100 ECHO PARK AVE  False  Restaurant   \n",
              "\n",
              "   total_seats  \n",
              "0           26  \n",
              "1            9  \n",
              "2           20  \n",
              "3           22  \n",
              "4           20  "
            ]
          },
          "execution_count": 15,
          "metadata": {},
          "output_type": "execute_result"
        }
      ],
      "source": [
        "# Melihat hasilnya\n",
        "df_restaurant.head()"
      ]
    },
    {
      "cell_type": "markdown",
      "metadata": {
        "id": "_u6z_pyg6kOd"
      },
      "source": [
        "Setelah semua hal yang harus di lakukan di Pra-Pemrosesan data selesai, saatnya melakukan analisa datanya untuk keperluan presentasi kepada para investor."
      ]
    },
    {
      "cell_type": "markdown",
      "metadata": {
        "id": "001NCFiG6kOd"
      },
      "source": [
        "## Analisa Data"
      ]
    },
    {
      "cell_type": "markdown",
      "metadata": {
        "id": "NYoLVXna6kOe"
      },
      "source": [
        "### Proporsi dari berbagai jenis usaha."
      ]
    },
    {
      "cell_type": "markdown",
      "metadata": {
        "id": "xw5zedzs6kOe"
      },
      "source": [
        "untuk melihat proporsi dari berbagai jenis usaha perlu melakukan penghitungan jumlah jenis tipe usahanya berdasarkan id usahanya"
      ]
    },
    {
      "cell_type": "code",
      "execution_count": null,
      "metadata": {
        "id": "dBUtgdj36kOe",
        "outputId": "5b1a8e63-82c9-447e-ece1-a00b8c8cf4fc"
      },
      "outputs": [
        {
          "data": {
            "text/html": [
              "<div>\n",
              "<style scoped>\n",
              "    .dataframe tbody tr th:only-of-type {\n",
              "        vertical-align: middle;\n",
              "    }\n",
              "\n",
              "    .dataframe tbody tr th {\n",
              "        vertical-align: top;\n",
              "    }\n",
              "\n",
              "    .dataframe thead th {\n",
              "        text-align: right;\n",
              "    }\n",
              "</style>\n",
              "<table border=\"1\" class=\"dataframe\">\n",
              "  <thead>\n",
              "    <tr style=\"text-align: right;\">\n",
              "      <th></th>\n",
              "      <th>type</th>\n",
              "      <th>count</th>\n",
              "    </tr>\n",
              "  </thead>\n",
              "  <tbody>\n",
              "    <tr>\n",
              "      <th>0</th>\n",
              "      <td>Bakery</td>\n",
              "      <td>283</td>\n",
              "    </tr>\n",
              "    <tr>\n",
              "      <th>1</th>\n",
              "      <td>Bar</td>\n",
              "      <td>292</td>\n",
              "    </tr>\n",
              "    <tr>\n",
              "      <th>2</th>\n",
              "      <td>Cafe</td>\n",
              "      <td>435</td>\n",
              "    </tr>\n",
              "    <tr>\n",
              "      <th>3</th>\n",
              "      <td>Fast Food</td>\n",
              "      <td>1066</td>\n",
              "    </tr>\n",
              "    <tr>\n",
              "      <th>4</th>\n",
              "      <td>Pizza</td>\n",
              "      <td>319</td>\n",
              "    </tr>\n",
              "    <tr>\n",
              "      <th>5</th>\n",
              "      <td>Restaurant</td>\n",
              "      <td>7253</td>\n",
              "    </tr>\n",
              "  </tbody>\n",
              "</table>\n",
              "</div>"
            ],
            "text/plain": [
              "         type  count\n",
              "0      Bakery    283\n",
              "1         Bar    292\n",
              "2        Cafe    435\n",
              "3   Fast Food   1066\n",
              "4       Pizza    319\n",
              "5  Restaurant   7253"
            ]
          },
          "execution_count": 16,
          "metadata": {},
          "output_type": "execute_result"
        }
      ],
      "source": [
        "# Membuat variabel untuk menghitung jumlah usahanya\n",
        "business_count = df_restaurant.groupby('type').count()['id'].reset_index()\n",
        "business_count.columns = ['type', 'count']\n",
        "business_count"
      ]
    },
    {
      "cell_type": "code",
      "execution_count": null,
      "metadata": {
        "id": "LlUMZSJb6kOf",
        "outputId": "2c508257-9665-4f2f-e44b-972baeb00b22"
      },
      "outputs": [
        {
          "data": {
            "text/html": [
              "<div>\n",
              "<style scoped>\n",
              "    .dataframe tbody tr th:only-of-type {\n",
              "        vertical-align: middle;\n",
              "    }\n",
              "\n",
              "    .dataframe tbody tr th {\n",
              "        vertical-align: top;\n",
              "    }\n",
              "\n",
              "    .dataframe thead th {\n",
              "        text-align: right;\n",
              "    }\n",
              "</style>\n",
              "<table border=\"1\" class=\"dataframe\">\n",
              "  <thead>\n",
              "    <tr style=\"text-align: right;\">\n",
              "      <th></th>\n",
              "      <th>type</th>\n",
              "      <th>proportion</th>\n",
              "    </tr>\n",
              "  </thead>\n",
              "  <tbody>\n",
              "    <tr>\n",
              "      <th>0</th>\n",
              "      <td>Bakery</td>\n",
              "      <td>2.933250</td>\n",
              "    </tr>\n",
              "    <tr>\n",
              "      <th>1</th>\n",
              "      <td>Bar</td>\n",
              "      <td>3.026534</td>\n",
              "    </tr>\n",
              "    <tr>\n",
              "      <th>2</th>\n",
              "      <td>Cafe</td>\n",
              "      <td>4.508706</td>\n",
              "    </tr>\n",
              "    <tr>\n",
              "      <th>3</th>\n",
              "      <td>Fast Food</td>\n",
              "      <td>11.048922</td>\n",
              "    </tr>\n",
              "    <tr>\n",
              "      <th>4</th>\n",
              "      <td>Pizza</td>\n",
              "      <td>3.306385</td>\n",
              "    </tr>\n",
              "    <tr>\n",
              "      <th>5</th>\n",
              "      <td>Restaurant</td>\n",
              "      <td>75.176202</td>\n",
              "    </tr>\n",
              "  </tbody>\n",
              "</table>\n",
              "</div>"
            ],
            "text/plain": [
              "         type  proportion\n",
              "0      Bakery    2.933250\n",
              "1         Bar    3.026534\n",
              "2        Cafe    4.508706\n",
              "3   Fast Food   11.048922\n",
              "4       Pizza    3.306385\n",
              "5  Restaurant   75.176202"
            ]
          },
          "execution_count": 17,
          "metadata": {},
          "output_type": "execute_result"
        }
      ],
      "source": [
        "# Membuat variabel untuk menghitung proporsinya\n",
        "business_proportion = df_restaurant.groupby('type').count()['id'] / len(df_restaurant) * 100\n",
        "business_proportion = business_proportion.reset_index()\n",
        "business_proportion.columns = ['type', 'proportion']\n",
        "business_proportion"
      ]
    },
    {
      "cell_type": "code",
      "execution_count": null,
      "metadata": {
        "id": "eUpko7SJ6kOf",
        "outputId": "880b5ba1-f8e3-4f4b-825e-88da2f84c1ad"
      },
      "outputs": [
        {
          "data": {
            "text/html": [
              "<div>\n",
              "<style scoped>\n",
              "    .dataframe tbody tr th:only-of-type {\n",
              "        vertical-align: middle;\n",
              "    }\n",
              "\n",
              "    .dataframe tbody tr th {\n",
              "        vertical-align: top;\n",
              "    }\n",
              "\n",
              "    .dataframe thead th {\n",
              "        text-align: right;\n",
              "    }\n",
              "</style>\n",
              "<table border=\"1\" class=\"dataframe\">\n",
              "  <thead>\n",
              "    <tr style=\"text-align: right;\">\n",
              "      <th></th>\n",
              "      <th>type</th>\n",
              "      <th>count</th>\n",
              "      <th>proportion</th>\n",
              "    </tr>\n",
              "  </thead>\n",
              "  <tbody>\n",
              "    <tr>\n",
              "      <th>5</th>\n",
              "      <td>Restaurant</td>\n",
              "      <td>7253</td>\n",
              "      <td>75.176202</td>\n",
              "    </tr>\n",
              "    <tr>\n",
              "      <th>3</th>\n",
              "      <td>Fast Food</td>\n",
              "      <td>1066</td>\n",
              "      <td>11.048922</td>\n",
              "    </tr>\n",
              "    <tr>\n",
              "      <th>2</th>\n",
              "      <td>Cafe</td>\n",
              "      <td>435</td>\n",
              "      <td>4.508706</td>\n",
              "    </tr>\n",
              "    <tr>\n",
              "      <th>4</th>\n",
              "      <td>Pizza</td>\n",
              "      <td>319</td>\n",
              "      <td>3.306385</td>\n",
              "    </tr>\n",
              "    <tr>\n",
              "      <th>1</th>\n",
              "      <td>Bar</td>\n",
              "      <td>292</td>\n",
              "      <td>3.026534</td>\n",
              "    </tr>\n",
              "    <tr>\n",
              "      <th>0</th>\n",
              "      <td>Bakery</td>\n",
              "      <td>283</td>\n",
              "      <td>2.933250</td>\n",
              "    </tr>\n",
              "  </tbody>\n",
              "</table>\n",
              "</div>"
            ],
            "text/plain": [
              "         type  count  proportion\n",
              "5  Restaurant   7253   75.176202\n",
              "3   Fast Food   1066   11.048922\n",
              "2        Cafe    435    4.508706\n",
              "4       Pizza    319    3.306385\n",
              "1         Bar    292    3.026534\n",
              "0      Bakery    283    2.933250"
            ]
          },
          "execution_count": 18,
          "metadata": {},
          "output_type": "execute_result"
        }
      ],
      "source": [
        "# Menggabungkan count dan proportion\n",
        "business_count = business_count.merge(business_proportion, how='left', on = 'type')\n",
        "business_count.sort_values('count', ascending=False)"
      ]
    },
    {
      "cell_type": "markdown",
      "metadata": {
        "id": "tHxVWwUL6kOf"
      },
      "source": [
        "Setelah di lihat, bahwa jenis usaha restoran sangatlah mendominasi sebesar 75%. Karena grafik terbaik untuk melihat proporsi adalah grafik lingkaran / Pie-Chart. Tetapi, kondisi ini tidak bisa dilakukan karena jenis usaha restoran sangat mendominasi sebesar 75% dan untuk proporsinya dibawah 10% tidak akan terlihat secara baik, sebaiknya untuk mengganti dengan grafik bar."
      ]
    },
    {
      "cell_type": "code",
      "execution_count": null,
      "metadata": {
        "id": "gReUxJ5U6kOg",
        "outputId": "65b806a2-8242-4794-b67c-2e567d1a1469"
      },
      "outputs": [
        {
          "data": {
            "image/png": "[encoded data removed]",
            "text/plain": [
              "<Figure size 720x504 with 1 Axes>"
            ]
          },
          "metadata": {
            "needs_background": "light"
          },
          "output_type": "display_data"
        }
      ],
      "source": [
        "# Membuat barplot untuk proporsi jenis usaha\n",
        "plt.figure(figsize=(10, 7))\n",
        "sns.barplot(data=business_count, x='type', y='proportion').set(ylabel='Proportion (Percent)', xlabel='Type')\n",
        "\n",
        "#plt.set(ylabel='Proportion (Percent)', xlabel='Type')\n",
        "plt.title('Proporsi Jenis Usaha di LA')\n",
        "plt.show()"
      ]
    },
    {
      "cell_type": "markdown",
      "metadata": {
        "id": "kd7sN9uJ6kOg"
      },
      "source": [
        "Usaha jenis Restoran sangat mendominasi sebesar 75%, sementara yang tertinggi kedua yaitu Fast Food sebesar 11%. Sisanya untuk Bakert, Bar, Cafe, dan Pizza berdara di bawah 10% untuk di kota LA."
      ]
    },
    {
      "cell_type": "markdown",
      "metadata": {
        "id": "ep1bF0J56kOh"
      },
      "source": [
        "### Proporsi dari usaha berbasis rantai dan nonrantai"
      ]
    },
    {
      "cell_type": "markdown",
      "metadata": {
        "id": "uiXONgTg6kOh"
      },
      "source": [
        "untuk melihat proporsi chain usaha perlu melakukan penghitungan jumlah chainnya berdasarkan id usahanya "
      ]
    },
    {
      "cell_type": "code",
      "execution_count": null,
      "metadata": {
        "id": "jDgHsaEl6kOi",
        "outputId": "b5509790-ed14-4eb8-ddcc-3b205ae25243"
      },
      "outputs": [
        {
          "data": {
            "text/html": [
              "<div>\n",
              "<style scoped>\n",
              "    .dataframe tbody tr th:only-of-type {\n",
              "        vertical-align: middle;\n",
              "    }\n",
              "\n",
              "    .dataframe tbody tr th {\n",
              "        vertical-align: top;\n",
              "    }\n",
              "\n",
              "    .dataframe thead th {\n",
              "        text-align: right;\n",
              "    }\n",
              "</style>\n",
              "<table border=\"1\" class=\"dataframe\">\n",
              "  <thead>\n",
              "    <tr style=\"text-align: right;\">\n",
              "      <th></th>\n",
              "      <th>chain</th>\n",
              "      <th>count</th>\n",
              "    </tr>\n",
              "  </thead>\n",
              "  <tbody>\n",
              "    <tr>\n",
              "      <th>0</th>\n",
              "      <td>False</td>\n",
              "      <td>5972</td>\n",
              "    </tr>\n",
              "    <tr>\n",
              "      <th>1</th>\n",
              "      <td>True</td>\n",
              "      <td>3676</td>\n",
              "    </tr>\n",
              "  </tbody>\n",
              "</table>\n",
              "</div>"
            ],
            "text/plain": [
              "   chain  count\n",
              "0  False   5972\n",
              "1   True   3676"
            ]
          },
          "execution_count": 20,
          "metadata": {},
          "output_type": "execute_result"
        }
      ],
      "source": [
        "# Membuat variabel untuk menghitung jumlah usahanya\n",
        "business_chain = df_restaurant.groupby('chain').count()['id'].reset_index()\n",
        "business_chain.columns = ['chain', 'count']\n",
        "business_chain"
      ]
    },
    {
      "cell_type": "code",
      "execution_count": null,
      "metadata": {
        "id": "sKd8CibI6kOi",
        "outputId": "ff272c73-09d7-4fef-ff83-6489eba4f7ef"
      },
      "outputs": [
        {
          "data": {
            "text/html": [
              "<div>\n",
              "<style scoped>\n",
              "    .dataframe tbody tr th:only-of-type {\n",
              "        vertical-align: middle;\n",
              "    }\n",
              "\n",
              "    .dataframe tbody tr th {\n",
              "        vertical-align: top;\n",
              "    }\n",
              "\n",
              "    .dataframe thead th {\n",
              "        text-align: right;\n",
              "    }\n",
              "</style>\n",
              "<table border=\"1\" class=\"dataframe\">\n",
              "  <thead>\n",
              "    <tr style=\"text-align: right;\">\n",
              "      <th></th>\n",
              "      <th>chain</th>\n",
              "      <th>proportion</th>\n",
              "    </tr>\n",
              "  </thead>\n",
              "  <tbody>\n",
              "    <tr>\n",
              "      <th>0</th>\n",
              "      <td>False</td>\n",
              "      <td>61.898839</td>\n",
              "    </tr>\n",
              "    <tr>\n",
              "      <th>1</th>\n",
              "      <td>True</td>\n",
              "      <td>38.101161</td>\n",
              "    </tr>\n",
              "  </tbody>\n",
              "</table>\n",
              "</div>"
            ],
            "text/plain": [
              "   chain  proportion\n",
              "0  False   61.898839\n",
              "1   True   38.101161"
            ]
          },
          "execution_count": 21,
          "metadata": {},
          "output_type": "execute_result"
        }
      ],
      "source": [
        "# Membuat variabel untuk menghitung proporsinya\n",
        "business_chain2 = df_restaurant.groupby('chain').count()['id'] / len(df_restaurant) * 100\n",
        "business_chain2 = business_chain2.reset_index()\n",
        "business_chain2.columns = ['chain', 'proportion']\n",
        "business_chain2"
      ]
    },
    {
      "cell_type": "code",
      "execution_count": null,
      "metadata": {
        "id": "vhEKH_Pa6kOi",
        "outputId": "1d0ae0b2-eaf4-4b3c-e5c2-ec1be07fa374"
      },
      "outputs": [
        {
          "data": {
            "text/html": [
              "<div>\n",
              "<style scoped>\n",
              "    .dataframe tbody tr th:only-of-type {\n",
              "        vertical-align: middle;\n",
              "    }\n",
              "\n",
              "    .dataframe tbody tr th {\n",
              "        vertical-align: top;\n",
              "    }\n",
              "\n",
              "    .dataframe thead th {\n",
              "        text-align: right;\n",
              "    }\n",
              "</style>\n",
              "<table border=\"1\" class=\"dataframe\">\n",
              "  <thead>\n",
              "    <tr style=\"text-align: right;\">\n",
              "      <th></th>\n",
              "      <th>chain</th>\n",
              "      <th>count</th>\n",
              "      <th>proportion</th>\n",
              "    </tr>\n",
              "  </thead>\n",
              "  <tbody>\n",
              "    <tr>\n",
              "      <th>0</th>\n",
              "      <td>False</td>\n",
              "      <td>5972</td>\n",
              "      <td>61.898839</td>\n",
              "    </tr>\n",
              "    <tr>\n",
              "      <th>1</th>\n",
              "      <td>True</td>\n",
              "      <td>3676</td>\n",
              "      <td>38.101161</td>\n",
              "    </tr>\n",
              "  </tbody>\n",
              "</table>\n",
              "</div>"
            ],
            "text/plain": [
              "   chain  count  proportion\n",
              "0  False   5972   61.898839\n",
              "1   True   3676   38.101161"
            ]
          },
          "execution_count": 22,
          "metadata": {},
          "output_type": "execute_result"
        }
      ],
      "source": [
        "# Menggabungkan count dan proportion\n",
        "business_chain = business_chain.merge(business_chain2, how='left', on = 'chain')\n",
        "business_chain.sort_values('count', ascending=False)"
      ]
    },
    {
      "cell_type": "code",
      "execution_count": null,
      "metadata": {
        "id": "17m7pmil6kOj",
        "outputId": "0d097e43-037f-4e21-ed1f-250c4825bab2"
      },
      "outputs": [
        {
          "data": {
            "image/png": "[encoded data removed]",
            "text/plain": [
              "<Figure size 576x576 with 1 Axes>"
            ]
          },
          "metadata": {},
          "output_type": "display_data"
        }
      ],
      "source": [
        "# Membuat Pie-Chart untuk proporsi usaha yang melakukan chain dan tidak\n",
        "plt.figure(figsize=(8, 8))\n",
        "plt.pie(business_chain['count'], labels =business_chain['chain'], autopct='%1.1f%%')\n",
        "plt.title('Proporsi Usaha Chain dan Tidak Chain')\n",
        "\n",
        "plt.show()"
      ]
    },
    {
      "cell_type": "markdown",
      "metadata": {
        "id": "Fj4K9Jmf6kOj"
      },
      "source": [
        "Dapat disimpulkan, bahwa usaha yang tidak melakukan chain lebih sebesar 61,9% dibanding yang melakukan chain sebesar 38,1%."
      ]
    },
    {
      "cell_type": "markdown",
      "metadata": {
        "id": "MJjLgTa66kOk"
      },
      "source": [
        "### Jenis usaha yang biasanya menggunakan rantai "
      ]
    },
    {
      "cell_type": "markdown",
      "metadata": {
        "id": "jgHkVQQA6kOk"
      },
      "source": [
        "Untuk melihat jenis usaha yang biasanya menggunakan rantai maka perlu analisa jumlah usaha yang melakukan chain dengan menghitung dari id usahanya."
      ]
    },
    {
      "cell_type": "code",
      "execution_count": null,
      "metadata": {
        "id": "IkD0kGkn6kOl",
        "outputId": "28180980-f7ec-444d-c789-cc1c9a184886"
      },
      "outputs": [
        {
          "data": {
            "text/html": [
              "<div>\n",
              "<style scoped>\n",
              "    .dataframe tbody tr th:only-of-type {\n",
              "        vertical-align: middle;\n",
              "    }\n",
              "\n",
              "    .dataframe tbody tr th {\n",
              "        vertical-align: top;\n",
              "    }\n",
              "\n",
              "    .dataframe thead th {\n",
              "        text-align: right;\n",
              "    }\n",
              "</style>\n",
              "<table border=\"1\" class=\"dataframe\">\n",
              "  <thead>\n",
              "    <tr style=\"text-align: right;\">\n",
              "      <th>chain</th>\n",
              "      <th>False</th>\n",
              "      <th>True</th>\n",
              "    </tr>\n",
              "    <tr>\n",
              "      <th>type</th>\n",
              "      <th></th>\n",
              "      <th></th>\n",
              "    </tr>\n",
              "  </thead>\n",
              "  <tbody>\n",
              "    <tr>\n",
              "      <th>Bakery</th>\n",
              "      <td>0</td>\n",
              "      <td>283</td>\n",
              "    </tr>\n",
              "    <tr>\n",
              "      <th>Bar</th>\n",
              "      <td>215</td>\n",
              "      <td>77</td>\n",
              "    </tr>\n",
              "    <tr>\n",
              "      <th>Cafe</th>\n",
              "      <td>169</td>\n",
              "      <td>266</td>\n",
              "    </tr>\n",
              "    <tr>\n",
              "      <th>Fast Food</th>\n",
              "      <td>461</td>\n",
              "      <td>605</td>\n",
              "    </tr>\n",
              "    <tr>\n",
              "      <th>Pizza</th>\n",
              "      <td>166</td>\n",
              "      <td>153</td>\n",
              "    </tr>\n",
              "    <tr>\n",
              "      <th>Restaurant</th>\n",
              "      <td>4961</td>\n",
              "      <td>2292</td>\n",
              "    </tr>\n",
              "  </tbody>\n",
              "</table>\n",
              "</div>"
            ],
            "text/plain": [
              "chain       False  True \n",
              "type                    \n",
              "Bakery          0    283\n",
              "Bar           215     77\n",
              "Cafe          169    266\n",
              "Fast Food     461    605\n",
              "Pizza         166    153\n",
              "Restaurant   4961   2292"
            ]
          },
          "execution_count": 24,
          "metadata": {},
          "output_type": "execute_result"
        }
      ],
      "source": [
        "# Aggregasi usaha chain berdasarkan jenis usahanya\n",
        "grouped_chain_type = pd.pivot_table(df_restaurant, values='name', index='type', columns='chain', aggfunc='count', fill_value=0)\n",
        "grouped_chain_type"
      ]
    },
    {
      "cell_type": "markdown",
      "metadata": {
        "id": "HFR5mhtO6kOl"
      },
      "source": [
        "Sepertinya usaha Bakery tidak ada yang tidak chain sama sekali, sebaiknya mari cek kebenarannya dari data utama."
      ]
    },
    {
      "cell_type": "code",
      "execution_count": null,
      "metadata": {
        "id": "vpEGHfJb6kOm",
        "outputId": "99f4e1d7-1805-44f7-9485-b6f58f164931"
      },
      "outputs": [
        {
          "data": {
            "text/plain": [
              "True    283\n",
              "Name: chain, dtype: int64"
            ]
          },
          "execution_count": 25,
          "metadata": {},
          "output_type": "execute_result"
        }
      ],
      "source": [
        "# Melihat Chain untuk usaha Bakety\n",
        "df_restaurant[df_restaurant['type'] == 'Bakery']['chain'].value_counts()"
      ]
    },
    {
      "cell_type": "markdown",
      "metadata": {
        "id": "mxxVoLl_6kOm"
      },
      "source": [
        "Ternyata memang benar bahwa semua usaha Bakery tidak ada yang tidak chain, semuanya menggunakan chain."
      ]
    },
    {
      "cell_type": "code",
      "execution_count": null,
      "metadata": {
        "id": "9vXKQIMW6kOm",
        "outputId": "5e39db3e-ec0a-4d92-af9f-3d75caf9a6ed"
      },
      "outputs": [
        {
          "data": {
            "text/html": [
              "<div>\n",
              "<style scoped>\n",
              "    .dataframe tbody tr th:only-of-type {\n",
              "        vertical-align: middle;\n",
              "    }\n",
              "\n",
              "    .dataframe tbody tr th {\n",
              "        vertical-align: top;\n",
              "    }\n",
              "\n",
              "    .dataframe thead th {\n",
              "        text-align: right;\n",
              "    }\n",
              "</style>\n",
              "<table border=\"1\" class=\"dataframe\">\n",
              "  <thead>\n",
              "    <tr style=\"text-align: right;\">\n",
              "      <th>chain</th>\n",
              "      <th>False</th>\n",
              "      <th>True</th>\n",
              "      <th>ratio</th>\n",
              "    </tr>\n",
              "    <tr>\n",
              "      <th>type</th>\n",
              "      <th></th>\n",
              "      <th></th>\n",
              "      <th></th>\n",
              "    </tr>\n",
              "  </thead>\n",
              "  <tbody>\n",
              "    <tr>\n",
              "      <th>Bakery</th>\n",
              "      <td>0</td>\n",
              "      <td>283</td>\n",
              "      <td>100.000000</td>\n",
              "    </tr>\n",
              "    <tr>\n",
              "      <th>Bar</th>\n",
              "      <td>215</td>\n",
              "      <td>77</td>\n",
              "      <td>26.369863</td>\n",
              "    </tr>\n",
              "    <tr>\n",
              "      <th>Cafe</th>\n",
              "      <td>169</td>\n",
              "      <td>266</td>\n",
              "      <td>61.149425</td>\n",
              "    </tr>\n",
              "    <tr>\n",
              "      <th>Fast Food</th>\n",
              "      <td>461</td>\n",
              "      <td>605</td>\n",
              "      <td>56.754221</td>\n",
              "    </tr>\n",
              "    <tr>\n",
              "      <th>Pizza</th>\n",
              "      <td>166</td>\n",
              "      <td>153</td>\n",
              "      <td>47.962382</td>\n",
              "    </tr>\n",
              "    <tr>\n",
              "      <th>Restaurant</th>\n",
              "      <td>4961</td>\n",
              "      <td>2292</td>\n",
              "      <td>31.600717</td>\n",
              "    </tr>\n",
              "  </tbody>\n",
              "</table>\n",
              "</div>"
            ],
            "text/plain": [
              "chain       False  True       ratio\n",
              "type                               \n",
              "Bakery          0   283  100.000000\n",
              "Bar           215    77   26.369863\n",
              "Cafe          169   266   61.149425\n",
              "Fast Food     461   605   56.754221\n",
              "Pizza         166   153   47.962382\n",
              "Restaurant   4961  2292   31.600717"
            ]
          },
          "execution_count": 26,
          "metadata": {},
          "output_type": "execute_result"
        }
      ],
      "source": [
        "# Menghitung rasio untuk chain dan tidak chain\n",
        "grouped_chain_type['ratio'] = (grouped_chain_type[True] / (grouped_chain_type[True] + grouped_chain_type [False])) * 100\n",
        "grouped_chain_type"
      ]
    },
    {
      "cell_type": "code",
      "execution_count": null,
      "metadata": {
        "id": "7CssSqKY6kOn",
        "outputId": "01c5927e-c215-467e-8174-aafd9cbcb10b"
      },
      "outputs": [
        {
          "data": {
            "text/plain": [
              "<AxesSubplot:xlabel='type'>"
            ]
          },
          "execution_count": 27,
          "metadata": {},
          "output_type": "execute_result"
        },
        {
          "data": {
            "image/png": "[encoded data removed]",
            "text/plain": [
              "<Figure size 720x576 with 1 Axes>"
            ]
          },
          "metadata": {
            "needs_background": "light"
          },
          "output_type": "display_data"
        }
      ],
      "source": [
        "# Membuat plot bar untuk kategorik\n",
        "grouped_chain_type['ratio'].plot.bar(figsize=(10, 8))"
      ]
    },
    {
      "cell_type": "markdown",
      "metadata": {
        "id": "Fp0UpEhq6kOn"
      },
      "source": [
        "Usaha Bakery merupakan usaha yang dimana semaunya menggunakan chain dengan rasio 100%, tetapi usaha yang terbanyak menggunakan chain adalah usaha Restoran walapun rasionya hanya 31%."
      ]
    },
    {
      "cell_type": "markdown",
      "metadata": {
        "id": "66bxvxYK6kOo"
      },
      "source": [
        "### Menampilkan ciri-ciri usaha yang menggunakan chian berdasarkan banyak atau sedikit jumlah tempat duduk"
      ]
    },
    {
      "cell_type": "markdown",
      "metadata": {
        "id": "niNpQeLr6kOo"
      },
      "source": [
        "Untuk mengetahui ciri-ciri usaha yang menggunakan chain berdasarkan tempat duduknya, maka perlu untuk identifikasi usaha makanan untuk yang menggunakan chain dan tidak menggunakan chain, setelah itu akan ditampilkan distribusi tempat duduk berdasarkan jenis usaha makanannya."
      ]
    },
    {
      "cell_type": "code",
      "execution_count": null,
      "metadata": {
        "id": "_tVyiGLY6kOo"
      },
      "outputs": [],
      "source": [
        "# Membuat varibel untuk usaha yang menggunakan chain\n",
        "food_chain_true = df_restaurant[df_restaurant['chain'] == True]"
      ]
    },
    {
      "cell_type": "code",
      "execution_count": null,
      "metadata": {
        "id": "3J6DsBrJ6kOp"
      },
      "outputs": [],
      "source": [
        "# Membuat varibel untuk usaha yang tidak menggunakan chain\n",
        "food_chain_false = df_restaurant[df_restaurant['chain'] == False]"
      ]
    },
    {
      "cell_type": "code",
      "execution_count": null,
      "metadata": {
        "id": "FyDdW5KE6kOp",
        "outputId": "2397cd13-915c-47e3-eb2e-3289c72e93f4"
      },
      "outputs": [
        {
          "data": {
            "image/png": "[encoded data removed]",
            "text/plain": [
              "<Figure size 1152x576 with 2 Axes>"
            ]
          },
          "metadata": {},
          "output_type": "display_data"
        }
      ],
      "source": [
        "# Membuat grafik distribusi data berdasarkan kategorik untuk chain dan tidak chain\n",
        "\n",
        "sns.set(style = 'whitegrid')\n",
        "plt.figure(figsize= (16,8))\n",
        "plt.subplot(1, 2, 1)\n",
        "plt.title('Distribusi Kursi untuk Usaha yang menggunakan Chain')\n",
        "sns.stripplot(data=food_chain_true, x='type', y='total_seats')\n",
        "\n",
        "plt.subplot(1, 2, 2)\n",
        "plt.title('Distribusi Kursi untuk Usaha yang tidak menggunakan Chain')\n",
        "sns.stripplot(data=food_chain_false, x='type', y='total_seats')\n",
        "plt.show()"
      ]
    },
    {
      "cell_type": "markdown",
      "metadata": {
        "id": "SxKPzv0g6kOq"
      },
      "source": [
        "Kesimpulan:\n",
        "\n",
        "Bahwa untuk ciri-ciri usaha yang menggunakan chain bahwa penggunaan tempat duduk lebih sedikit dibanding yang tidak menggunakan chain. Tetapi, untuk usaha makanan seperti `Fast Food` dan `Cafe` lebih banyak tempat duduk untuk yang menggunakan chain dari pada yang tidak menggunakan chain, hal ini dapat dibuktikan dengan grafik diatas. Baik untuk usaha yang tempat duduknya dibawah 50 maupun diatas 50."
      ]
    },
    {
      "cell_type": "markdown",
      "metadata": {
        "id": "tHM70MMB6kOr"
      },
      "source": [
        "### Menentukan jumlah rata-rata kursi untuk setiap jenis usaha makanan dan melihat usaha makanan yang paling banyak rata-rata kursinya."
      ]
    },
    {
      "cell_type": "markdown",
      "metadata": {
        "id": "eQYxln8d6kOr"
      },
      "source": [
        "Untuk menentukan rata-rata kursi setiap jenis usaha makanan, perlu untuk agregasi jenis usaha makanan berdasarkan rata-rata jumlah kursinya."
      ]
    },
    {
      "cell_type": "code",
      "execution_count": null,
      "metadata": {
        "id": "L34cnxFP6kOr",
        "outputId": "e0ca8414-d1fb-43db-8031-206568de72b8"
      },
      "outputs": [
        {
          "data": {
            "text/html": [
              "<div>\n",
              "<style scoped>\n",
              "    .dataframe tbody tr th:only-of-type {\n",
              "        vertical-align: middle;\n",
              "    }\n",
              "\n",
              "    .dataframe tbody tr th {\n",
              "        vertical-align: top;\n",
              "    }\n",
              "\n",
              "    .dataframe thead th {\n",
              "        text-align: right;\n",
              "    }\n",
              "</style>\n",
              "<table border=\"1\" class=\"dataframe\">\n",
              "  <thead>\n",
              "    <tr style=\"text-align: right;\">\n",
              "      <th></th>\n",
              "      <th>type</th>\n",
              "      <th>total_seats</th>\n",
              "    </tr>\n",
              "  </thead>\n",
              "  <tbody>\n",
              "    <tr>\n",
              "      <th>0</th>\n",
              "      <td>Bakery</td>\n",
              "      <td>21.773852</td>\n",
              "    </tr>\n",
              "    <tr>\n",
              "      <th>1</th>\n",
              "      <td>Bar</td>\n",
              "      <td>44.767123</td>\n",
              "    </tr>\n",
              "    <tr>\n",
              "      <th>2</th>\n",
              "      <td>Cafe</td>\n",
              "      <td>25.000000</td>\n",
              "    </tr>\n",
              "    <tr>\n",
              "      <th>3</th>\n",
              "      <td>Fast Food</td>\n",
              "      <td>31.837711</td>\n",
              "    </tr>\n",
              "    <tr>\n",
              "      <th>4</th>\n",
              "      <td>Pizza</td>\n",
              "      <td>28.545455</td>\n",
              "    </tr>\n",
              "    <tr>\n",
              "      <th>5</th>\n",
              "      <td>Restaurant</td>\n",
              "      <td>48.048807</td>\n",
              "    </tr>\n",
              "  </tbody>\n",
              "</table>\n",
              "</div>"
            ],
            "text/plain": [
              "         type  total_seats\n",
              "0      Bakery    21.773852\n",
              "1         Bar    44.767123\n",
              "2        Cafe    25.000000\n",
              "3   Fast Food    31.837711\n",
              "4       Pizza    28.545455\n",
              "5  Restaurant    48.048807"
            ]
          },
          "execution_count": 31,
          "metadata": {},
          "output_type": "execute_result"
        }
      ],
      "source": [
        "# Membuat variabel untuk aggregasi jenis usaha makanan berdasarkan rata-rata kursinya\n",
        "avg_chain = df_restaurant.groupby('type').agg({'total_seats':'mean'}).reset_index()\n",
        "avg_chain"
      ]
    },
    {
      "cell_type": "code",
      "execution_count": null,
      "metadata": {
        "id": "7cMitcSs6kOr",
        "outputId": "d5de5ae1-76be-43b5-d894-781207afc573"
      },
      "outputs": [
        {
          "data": {
            "image/png": "[encoded data removed]",
            "text/plain": [
              "<Figure size 720x576 with 1 Axes>"
            ]
          },
          "metadata": {},
          "output_type": "display_data"
        }
      ],
      "source": [
        "# Menampilkan grafik dari variabel aggrergasi rata-rata kursi berdasarkan jenis usaha makanan dengan grafik barplot\n",
        "\n",
        "plt.figure(figsize=(10, 8))\n",
        "ax = sns.barplot(data = avg_chain.sort_values('total_seats', ascending=False), \n",
        "                 x='type', \n",
        "                 y='total_seats')\n",
        "\n",
        "plt.xlabel('Tipe Usaha')\n",
        "plt.ylabel('Rata-rata kursi')\n",
        "plt.title('Rata-rata Kursi Berdasarkan Tipe Usaha Makanan')\n",
        "\n",
        "for p in ax.patches:\n",
        "    ax.annotate(format(p.get_height(), '.2f'), \n",
        "                xy=(p.get_x() + p.get_width() / 2., p.get_height()), \n",
        "                ha = 'center', \n",
        "                va = 'center')\n",
        "\n",
        "plt.show()"
      ]
    },
    {
      "cell_type": "markdown",
      "metadata": {
        "id": "6jn6BXF_6kOs"
      },
      "source": [
        "Kesimpulan:\n",
        "    \n",
        "Bahwa Usaha makanan yang paling banyak kursinya secara berurutan, yaitu:\n",
        "\n",
        "- `Restoran` dengan rata-rata kursi: 48.05\n",
        "- `Bar` dengan rata-rata kursi: 44.77\n",
        "- `Fast` Food dengan rata-rata kursi: 31.84\n",
        "- `Pizza` dengan rata-rata kursi: 28.55\n",
        "- `Cafe` dengan rata-rata kursi: 25.00\n",
        "- `Bakery` dengan rata-rata kursi: 21.77"
      ]
    },
    {
      "cell_type": "markdown",
      "metadata": {
        "id": "6ciDXrYT6kOt"
      },
      "source": [
        "### Pindahkan data nama jalan dari kolom address ke kolom terpisah."
      ]
    },
    {
      "cell_type": "markdown",
      "metadata": {
        "id": "h884c6UC6kOt"
      },
      "source": [
        "Perlu untuk membuat kolom baru yang berisi data nama jalan dari kolom address secara terpisah. Untuk menganalisa lebih lanjut."
      ]
    },
    {
      "cell_type": "code",
      "execution_count": null,
      "metadata": {
        "id": "z1lZsuNX6kOt",
        "outputId": "9123e839-1303-4086-d2a3-4bfa30d92afd"
      },
      "outputs": [
        {
          "data": {
            "text/html": [
              "<div>\n",
              "<style scoped>\n",
              "    .dataframe tbody tr th:only-of-type {\n",
              "        vertical-align: middle;\n",
              "    }\n",
              "\n",
              "    .dataframe tbody tr th {\n",
              "        vertical-align: top;\n",
              "    }\n",
              "\n",
              "    .dataframe thead th {\n",
              "        text-align: right;\n",
              "    }\n",
              "</style>\n",
              "<table border=\"1\" class=\"dataframe\">\n",
              "  <thead>\n",
              "    <tr style=\"text-align: right;\">\n",
              "      <th></th>\n",
              "      <th>id</th>\n",
              "      <th>name</th>\n",
              "      <th>address</th>\n",
              "      <th>chain</th>\n",
              "      <th>type</th>\n",
              "      <th>total_seats</th>\n",
              "      <th>street_name</th>\n",
              "    </tr>\n",
              "  </thead>\n",
              "  <tbody>\n",
              "    <tr>\n",
              "      <th>0</th>\n",
              "      <td>11786</td>\n",
              "      <td>HABITAT COFFEE SHOP</td>\n",
              "      <td>3708 N EAGLE ROCK BLVD</td>\n",
              "      <td>False</td>\n",
              "      <td>Cafe</td>\n",
              "      <td>26</td>\n",
              "      <td>N EAGLE ROCK BLVD</td>\n",
              "    </tr>\n",
              "    <tr>\n",
              "      <th>1</th>\n",
              "      <td>11787</td>\n",
              "      <td>REILLY'S</td>\n",
              "      <td>100 WORLD WAY # 120</td>\n",
              "      <td>False</td>\n",
              "      <td>Restaurant</td>\n",
              "      <td>9</td>\n",
              "      <td>WORLD WAY # 120</td>\n",
              "    </tr>\n",
              "    <tr>\n",
              "      <th>2</th>\n",
              "      <td>11788</td>\n",
              "      <td>STREET CHURROS</td>\n",
              "      <td>6801 HOLLYWOOD BLVD # 253</td>\n",
              "      <td>False</td>\n",
              "      <td>Fast Food</td>\n",
              "      <td>20</td>\n",
              "      <td>HOLLYWOOD BLVD # 253</td>\n",
              "    </tr>\n",
              "    <tr>\n",
              "      <th>3</th>\n",
              "      <td>11789</td>\n",
              "      <td>TRINITI ECHO PARK</td>\n",
              "      <td>1814 W SUNSET BLVD</td>\n",
              "      <td>False</td>\n",
              "      <td>Restaurant</td>\n",
              "      <td>22</td>\n",
              "      <td>W SUNSET BLVD</td>\n",
              "    </tr>\n",
              "    <tr>\n",
              "      <th>4</th>\n",
              "      <td>11790</td>\n",
              "      <td>POLLEN</td>\n",
              "      <td>2100 ECHO PARK AVE</td>\n",
              "      <td>False</td>\n",
              "      <td>Restaurant</td>\n",
              "      <td>20</td>\n",
              "      <td>ECHO PARK AVE</td>\n",
              "    </tr>\n",
              "    <tr>\n",
              "      <th>...</th>\n",
              "      <td>...</td>\n",
              "      <td>...</td>\n",
              "      <td>...</td>\n",
              "      <td>...</td>\n",
              "      <td>...</td>\n",
              "      <td>...</td>\n",
              "      <td>...</td>\n",
              "    </tr>\n",
              "    <tr>\n",
              "      <th>9646</th>\n",
              "      <td>21432</td>\n",
              "      <td>HALL OF JUSTICE</td>\n",
              "      <td>217 W TEMPLE AVE</td>\n",
              "      <td>False</td>\n",
              "      <td>Restaurant</td>\n",
              "      <td>122</td>\n",
              "      <td>W TEMPLE AVE</td>\n",
              "    </tr>\n",
              "    <tr>\n",
              "      <th>9647</th>\n",
              "      <td>21433</td>\n",
              "      <td>FIN-MELROSE</td>\n",
              "      <td>5750 MELROSE AVE</td>\n",
              "      <td>False</td>\n",
              "      <td>Restaurant</td>\n",
              "      <td>93</td>\n",
              "      <td>MELROSE AVE</td>\n",
              "    </tr>\n",
              "    <tr>\n",
              "      <th>9648</th>\n",
              "      <td>21434</td>\n",
              "      <td>JUICY WINGZ</td>\n",
              "      <td>6741 HOLLYWOOD BLVD</td>\n",
              "      <td>True</td>\n",
              "      <td>Fast Food</td>\n",
              "      <td>15</td>\n",
              "      <td>HOLLYWOOD BLVD</td>\n",
              "    </tr>\n",
              "    <tr>\n",
              "      <th>9649</th>\n",
              "      <td>21435</td>\n",
              "      <td>MEDIDATE COFFEE</td>\n",
              "      <td>548 S SPRING ST STE 100</td>\n",
              "      <td>False</td>\n",
              "      <td>Cafe</td>\n",
              "      <td>6</td>\n",
              "      <td>S SPRING ST STE 100</td>\n",
              "    </tr>\n",
              "    <tr>\n",
              "      <th>9650</th>\n",
              "      <td>21436</td>\n",
              "      <td>CAFE SPROUTS</td>\n",
              "      <td>1300 S SAN PEDRO ST STE 111</td>\n",
              "      <td>True</td>\n",
              "      <td>Restaurant</td>\n",
              "      <td>19</td>\n",
              "      <td>S SAN PEDRO ST STE 111</td>\n",
              "    </tr>\n",
              "  </tbody>\n",
              "</table>\n",
              "<p>9648 rows × 7 columns</p>\n",
              "</div>"
            ],
            "text/plain": [
              "         id                 name                      address  chain  \\\n",
              "0     11786  HABITAT COFFEE SHOP       3708 N EAGLE ROCK BLVD  False   \n",
              "1     11787             REILLY'S          100 WORLD WAY # 120  False   \n",
              "2     11788       STREET CHURROS    6801 HOLLYWOOD BLVD # 253  False   \n",
              "3     11789    TRINITI ECHO PARK           1814 W SUNSET BLVD  False   \n",
              "4     11790               POLLEN           2100 ECHO PARK AVE  False   \n",
              "...     ...                  ...                          ...    ...   \n",
              "9646  21432      HALL OF JUSTICE             217 W TEMPLE AVE  False   \n",
              "9647  21433          FIN-MELROSE             5750 MELROSE AVE  False   \n",
              "9648  21434          JUICY WINGZ          6741 HOLLYWOOD BLVD   True   \n",
              "9649  21435      MEDIDATE COFFEE      548 S SPRING ST STE 100  False   \n",
              "9650  21436         CAFE SPROUTS  1300 S SAN PEDRO ST STE 111   True   \n",
              "\n",
              "            type  total_seats             street_name  \n",
              "0           Cafe           26       N EAGLE ROCK BLVD  \n",
              "1     Restaurant            9         WORLD WAY # 120  \n",
              "2      Fast Food           20    HOLLYWOOD BLVD # 253  \n",
              "3     Restaurant           22           W SUNSET BLVD  \n",
              "4     Restaurant           20           ECHO PARK AVE  \n",
              "...          ...          ...                     ...  \n",
              "9646  Restaurant          122            W TEMPLE AVE  \n",
              "9647  Restaurant           93             MELROSE AVE  \n",
              "9648   Fast Food           15          HOLLYWOOD BLVD  \n",
              "9649        Cafe            6     S SPRING ST STE 100  \n",
              "9650  Restaurant           19  S SAN PEDRO ST STE 111  \n",
              "\n",
              "[9648 rows x 7 columns]"
            ]
          },
          "execution_count": 33,
          "metadata": {},
          "output_type": "execute_result"
        }
      ],
      "source": [
        "# Membuat kolom baru untuk memfilter nama jalan\n",
        "df_restaurant['street_name'] = df_restaurant['address'].apply(lambda x: ' '.join(x.split(' ')[1:]))\n",
        "df_restaurant"
      ]
    },
    {
      "cell_type": "markdown",
      "metadata": {
        "id": "MYYMHcrl6kOu"
      },
      "source": [
        "### Buatlah grafik yang menampilkan sepuluh nama jalan terbaik berdasarkan jumlah restoran."
      ]
    },
    {
      "cell_type": "markdown",
      "metadata": {
        "id": "Ucy4ZEFk6kOu"
      },
      "source": [
        "Untuk mengetahui dan menampilkan 10 jalan dengan usaha makanan terbanyak, perli melakukan penghitungan restoran berdasarkan nama jalannya yang sudah ada pada kolom baru."
      ]
    },
    {
      "cell_type": "code",
      "execution_count": null,
      "metadata": {
        "id": "tWGYLfT66kOv",
        "outputId": "612fb7ff-6f93-41f6-fa0c-f37574c59d1a"
      },
      "outputs": [
        {
          "data": {
            "text/html": [
              "<div>\n",
              "<style scoped>\n",
              "    .dataframe tbody tr th:only-of-type {\n",
              "        vertical-align: middle;\n",
              "    }\n",
              "\n",
              "    .dataframe tbody tr th {\n",
              "        vertical-align: top;\n",
              "    }\n",
              "\n",
              "    .dataframe thead th {\n",
              "        text-align: right;\n",
              "    }\n",
              "</style>\n",
              "<table border=\"1\" class=\"dataframe\">\n",
              "  <thead>\n",
              "    <tr style=\"text-align: right;\">\n",
              "      <th></th>\n",
              "      <th>street_name</th>\n",
              "      <th>count</th>\n",
              "    </tr>\n",
              "  </thead>\n",
              "  <tbody>\n",
              "    <tr>\n",
              "      <th>0</th>\n",
              "      <td>1/2 3RD ST</td>\n",
              "      <td>1</td>\n",
              "    </tr>\n",
              "    <tr>\n",
              "      <th>1</th>\n",
              "      <td>1/2 7TH ST</td>\n",
              "      <td>1</td>\n",
              "    </tr>\n",
              "    <tr>\n",
              "      <th>2</th>\n",
              "      <td>1/2 BEVERLY BLVD</td>\n",
              "      <td>3</td>\n",
              "    </tr>\n",
              "    <tr>\n",
              "      <th>3</th>\n",
              "      <td>1/2 CITY TERRACE DR</td>\n",
              "      <td>1</td>\n",
              "    </tr>\n",
              "    <tr>\n",
              "      <th>4</th>\n",
              "      <td>1/2 COLORADO BLVD</td>\n",
              "      <td>1</td>\n",
              "    </tr>\n",
              "    <tr>\n",
              "      <th>...</th>\n",
              "      <td>...</td>\n",
              "      <td>...</td>\n",
              "    </tr>\n",
              "    <tr>\n",
              "      <th>3092</th>\n",
              "      <td>YUCCA ST</td>\n",
              "      <td>3</td>\n",
              "    </tr>\n",
              "    <tr>\n",
              "      <th>3093</th>\n",
              "      <td>Z00 DR</td>\n",
              "      <td>1</td>\n",
              "    </tr>\n",
              "    <tr>\n",
              "      <th>3094</th>\n",
              "      <td>ZONAL AVE</td>\n",
              "      <td>4</td>\n",
              "    </tr>\n",
              "    <tr>\n",
              "      <th>3095</th>\n",
              "      <td>ZOO DR</td>\n",
              "      <td>1</td>\n",
              "    </tr>\n",
              "    <tr>\n",
              "      <th>3096</th>\n",
              "      <td>hollywood BLVD</td>\n",
              "      <td>1</td>\n",
              "    </tr>\n",
              "  </tbody>\n",
              "</table>\n",
              "<p>3097 rows × 2 columns</p>\n",
              "</div>"
            ],
            "text/plain": [
              "              street_name  count\n",
              "0              1/2 3RD ST      1\n",
              "1              1/2 7TH ST      1\n",
              "2        1/2 BEVERLY BLVD      3\n",
              "3     1/2 CITY TERRACE DR      1\n",
              "4       1/2 COLORADO BLVD      1\n",
              "...                   ...    ...\n",
              "3092             YUCCA ST      3\n",
              "3093               Z00 DR      1\n",
              "3094            ZONAL AVE      4\n",
              "3095               ZOO DR      1\n",
              "3096       hollywood BLVD      1\n",
              "\n",
              "[3097 rows x 2 columns]"
            ]
          },
          "execution_count": 34,
          "metadata": {},
          "output_type": "execute_result"
        }
      ],
      "source": [
        "# Menghitung restoran berdasarkan nama jalan\n",
        "\n",
        "street_type = df_restaurant.groupby('street_name').agg({'street_name':'count'})\n",
        "street_type.columns = ['count']\n",
        "street_type = street_type.reset_index()\n",
        "street_type"
      ]
    },
    {
      "cell_type": "code",
      "execution_count": null,
      "metadata": {
        "id": "QHvHVW5g6kOv",
        "outputId": "a768592c-b805-4338-8b89-30970a330ebd"
      },
      "outputs": [
        {
          "data": {
            "text/html": [
              "<div>\n",
              "<style scoped>\n",
              "    .dataframe tbody tr th:only-of-type {\n",
              "        vertical-align: middle;\n",
              "    }\n",
              "\n",
              "    .dataframe tbody tr th {\n",
              "        vertical-align: top;\n",
              "    }\n",
              "\n",
              "    .dataframe thead th {\n",
              "        text-align: right;\n",
              "    }\n",
              "</style>\n",
              "<table border=\"1\" class=\"dataframe\">\n",
              "  <thead>\n",
              "    <tr style=\"text-align: right;\">\n",
              "      <th></th>\n",
              "      <th>street_name</th>\n",
              "      <th>count</th>\n",
              "    </tr>\n",
              "  </thead>\n",
              "  <tbody>\n",
              "    <tr>\n",
              "      <th>2691</th>\n",
              "      <td>W SUNSET BLVD</td>\n",
              "      <td>296</td>\n",
              "    </tr>\n",
              "    <tr>\n",
              "      <th>2622</th>\n",
              "      <td>W PICO BLVD</td>\n",
              "      <td>288</td>\n",
              "    </tr>\n",
              "    <tr>\n",
              "      <th>582</th>\n",
              "      <td>HOLLYWOOD BLVD</td>\n",
              "      <td>167</td>\n",
              "    </tr>\n",
              "    <tr>\n",
              "      <th>2837</th>\n",
              "      <td>WILSHIRE BLVD</td>\n",
              "      <td>161</td>\n",
              "    </tr>\n",
              "    <tr>\n",
              "      <th>1705</th>\n",
              "      <td>S VERMONT AVE</td>\n",
              "      <td>148</td>\n",
              "    </tr>\n",
              "    <tr>\n",
              "      <th>1918</th>\n",
              "      <td>SANTA MONICA BLVD</td>\n",
              "      <td>146</td>\n",
              "    </tr>\n",
              "    <tr>\n",
              "      <th>2170</th>\n",
              "      <td>W 3RD ST</td>\n",
              "      <td>145</td>\n",
              "    </tr>\n",
              "    <tr>\n",
              "      <th>147</th>\n",
              "      <td>BEVERLY BLVD</td>\n",
              "      <td>135</td>\n",
              "    </tr>\n",
              "    <tr>\n",
              "      <th>1295</th>\n",
              "      <td>S FIGUEROA ST</td>\n",
              "      <td>134</td>\n",
              "    </tr>\n",
              "    <tr>\n",
              "      <th>755</th>\n",
              "      <td>MELROSE AVE</td>\n",
              "      <td>128</td>\n",
              "    </tr>\n",
              "  </tbody>\n",
              "</table>\n",
              "</div>"
            ],
            "text/plain": [
              "            street_name  count\n",
              "2691      W SUNSET BLVD    296\n",
              "2622        W PICO BLVD    288\n",
              "582      HOLLYWOOD BLVD    167\n",
              "2837      WILSHIRE BLVD    161\n",
              "1705      S VERMONT AVE    148\n",
              "1918  SANTA MONICA BLVD    146\n",
              "2170           W 3RD ST    145\n",
              "147        BEVERLY BLVD    135\n",
              "1295      S FIGUEROA ST    134\n",
              "755         MELROSE AVE    128"
            ]
          },
          "execution_count": 35,
          "metadata": {},
          "output_type": "execute_result"
        }
      ],
      "source": [
        "# Membuat untuk 10 nama jalan dengan jumlah usaha makan terbanyak\n",
        "top_10 = street_type.sort_values(by='count', ascending=False).head(10)\n",
        "top_10"
      ]
    },
    {
      "cell_type": "code",
      "execution_count": null,
      "metadata": {
        "id": "_yCAEWb56kOv",
        "outputId": "48d7a4e9-9d50-45be-ef6e-8b879f3168f2"
      },
      "outputs": [
        {
          "data": {
            "image/png": "[encoded data removed]",
            "text/plain": [
              "<Figure size 936x504 with 1 Axes>"
            ]
          },
          "metadata": {},
          "output_type": "display_data"
        }
      ],
      "source": [
        "# Membuat diagram untuk 10 nama jalan dengan jumlah usaha makan terbanyak\n",
        "\n",
        "# Membuat ukuran grafiknya\n",
        "plt.figure(figsize=(13, 7))\n",
        "# Membuat barplot dengan seaborn\n",
        "ax = sns.barplot(data = top_10, \n",
        "                 x='street_name', \n",
        "                 y='count',\n",
        "                 color='b')\n",
        "\n",
        "# Menambahkan label untuk X, Y, dan Judul Grafik\n",
        "plt.xlabel('Nama Jalan')\n",
        "plt.ylabel('Jumlah Usaha Makanan')\n",
        "plt.title('10 Nama Jalan yang Mempunyai Jumlah Usaha Makanan Terbanyak', fontsize=16)\n",
        "# Membuat tampilan untuk angka berdasarkan barplot\n",
        "for p in ax.patches:\n",
        "    ax.annotate(format(p.get_height(), '.1f'), \n",
        "                xy=(p.get_x() + p.get_width() / 2., p.get_height()), \n",
        "                ha = 'center', \n",
        "                va = 'center', \n",
        "                xytext = (0, 10), \n",
        "                textcoords = 'offset points')\n",
        "# label untuk X dibuat miring 45 derajat\n",
        "plt.xticks(rotation=45)\n",
        "# Menampilkan grafik\n",
        "plt.show()"
      ]
    },
    {
      "cell_type": "markdown",
      "metadata": {
        "id": "zRAgAOZ36kOw"
      },
      "source": [
        "Kesimpulan:\n",
        "\n",
        "Adapun 10 nama jalan dengan jumlah usaha makanan terbanyak di LA berdasarkan urutan, yaitu:\n",
        "\n",
        "- `W SUNSET BLVD` dengan jumlah usaha makanan sebanyak: 296\n",
        "- `W PICO BLVD` dengan jumlah usaha makanan sebanyak: 288\n",
        "- `HOLLYWOOD BLVD` dengan jumlah usaha makanan sebanyak: 167\n",
        "- `WULSHIRE BLVD` dengan jumlah usaha makanan sebanyak: 161\n",
        "- `S VERMONT AVE` dengan jumlah usaha makanan sebanyak: 148\n",
        "- `SANTA MONICA BLVD` dengan jumlah usaha makanan sebanyak: 146\n",
        "- `W 3RD ST` dengan jumlah usaha makanan sebanyak: 145\n",
        "- `BEVERLY BLVD` dengan jumlah usaha makanan sebanyak: 135\n",
        "- `S FIGUEROA ST` dengan jumlah usaha makanan sebanyak: 134\n",
        "- `MEROSE AVE` dengan jumlah usaha makanan sebanyak: 128"
      ]
    },
    {
      "cell_type": "markdown",
      "metadata": {
        "id": "-tViuw3s6kOx"
      },
      "source": [
        "### Temukan jumlah jalan yang hanya memiliki satu restoran."
      ]
    },
    {
      "cell_type": "markdown",
      "metadata": {
        "id": "PCZMch3S6kOx"
      },
      "source": [
        "untuk menemukan jumlah jalan yang hanya memliki satu usaha makanan, perlu identifikasi nama jalan yang hanya mempunyai 1 usaha makanan saja dari varibael diatas sebelumnya."
      ]
    },
    {
      "cell_type": "code",
      "execution_count": null,
      "metadata": {
        "id": "d1p15_Aa6kOx",
        "outputId": "9c588008-55fc-49ff-e86d-dec5b91c34b0"
      },
      "outputs": [
        {
          "data": {
            "text/html": [
              "<div>\n",
              "<style scoped>\n",
              "    .dataframe tbody tr th:only-of-type {\n",
              "        vertical-align: middle;\n",
              "    }\n",
              "\n",
              "    .dataframe tbody tr th {\n",
              "        vertical-align: top;\n",
              "    }\n",
              "\n",
              "    .dataframe thead th {\n",
              "        text-align: right;\n",
              "    }\n",
              "</style>\n",
              "<table border=\"1\" class=\"dataframe\">\n",
              "  <thead>\n",
              "    <tr style=\"text-align: right;\">\n",
              "      <th></th>\n",
              "      <th>street_name</th>\n",
              "      <th>count</th>\n",
              "    </tr>\n",
              "  </thead>\n",
              "  <tbody>\n",
              "    <tr>\n",
              "      <th>0</th>\n",
              "      <td>1/2 3RD ST</td>\n",
              "      <td>1</td>\n",
              "    </tr>\n",
              "    <tr>\n",
              "      <th>1</th>\n",
              "      <td>1/2 7TH ST</td>\n",
              "      <td>1</td>\n",
              "    </tr>\n",
              "    <tr>\n",
              "      <th>2</th>\n",
              "      <td>1/2 CITY TERRACE DR</td>\n",
              "      <td>1</td>\n",
              "    </tr>\n",
              "    <tr>\n",
              "      <th>3</th>\n",
              "      <td>1/2 COLORADO BLVD</td>\n",
              "      <td>1</td>\n",
              "    </tr>\n",
              "    <tr>\n",
              "      <th>4</th>\n",
              "      <td>1/2 E 2ND ST</td>\n",
              "      <td>1</td>\n",
              "    </tr>\n",
              "    <tr>\n",
              "      <th>...</th>\n",
              "      <td>...</td>\n",
              "      <td>...</td>\n",
              "    </tr>\n",
              "    <tr>\n",
              "      <th>2476</th>\n",
              "      <td>YALE ST</td>\n",
              "      <td>1</td>\n",
              "    </tr>\n",
              "    <tr>\n",
              "      <th>2477</th>\n",
              "      <td>YORK BLVD # B</td>\n",
              "      <td>1</td>\n",
              "    </tr>\n",
              "    <tr>\n",
              "      <th>2478</th>\n",
              "      <td>Z00 DR</td>\n",
              "      <td>1</td>\n",
              "    </tr>\n",
              "    <tr>\n",
              "      <th>2479</th>\n",
              "      <td>ZOO DR</td>\n",
              "      <td>1</td>\n",
              "    </tr>\n",
              "    <tr>\n",
              "      <th>2480</th>\n",
              "      <td>hollywood BLVD</td>\n",
              "      <td>1</td>\n",
              "    </tr>\n",
              "  </tbody>\n",
              "</table>\n",
              "<p>2481 rows × 2 columns</p>\n",
              "</div>"
            ],
            "text/plain": [
              "              street_name  count\n",
              "0              1/2 3RD ST      1\n",
              "1              1/2 7TH ST      1\n",
              "2     1/2 CITY TERRACE DR      1\n",
              "3       1/2 COLORADO BLVD      1\n",
              "4            1/2 E 2ND ST      1\n",
              "...                   ...    ...\n",
              "2476              YALE ST      1\n",
              "2477        YORK BLVD # B      1\n",
              "2478               Z00 DR      1\n",
              "2479               ZOO DR      1\n",
              "2480       hollywood BLVD      1\n",
              "\n",
              "[2481 rows x 2 columns]"
            ]
          },
          "execution_count": 37,
          "metadata": {},
          "output_type": "execute_result"
        }
      ],
      "source": [
        "# Memfilter usaha makanan yang hanya 1 nama jalan dengan jumlah 1 usaha makanan\n",
        "only_one = street_type.query('count == 1').reset_index(drop=True)\n",
        "only_one"
      ]
    },
    {
      "cell_type": "code",
      "execution_count": null,
      "metadata": {
        "id": "8O6cz_Nm6kOy",
        "outputId": "30e74191-344e-43dc-fa91-d10d46a1f222"
      },
      "outputs": [
        {
          "name": "stdout",
          "output_type": "stream",
          "text": [
            "Jumlah jalan yang hanya ada 1 usaha makanan di LA sebanyak: 2481\n"
          ]
        }
      ],
      "source": [
        "print('Jumlah jalan yang hanya ada 1 usaha makanan di LA sebanyak: {}'.format(len(only_one)))"
      ]
    },
    {
      "cell_type": "markdown",
      "metadata": {
        "id": "0_S-_q4j6kOy"
      },
      "source": [
        "### Untuk jalan yang dihuni oleh banyak restoran, perhatikan distribusi jumlah kursinya. Tren apa yang bisa Anda amati?"
      ]
    },
    {
      "cell_type": "code",
      "execution_count": null,
      "metadata": {
        "id": "yjLU7D8t6kOy",
        "outputId": "0be84017-c6e2-49b9-b92e-692a2c55dbb0"
      },
      "outputs": [
        {
          "data": {
            "text/html": [
              "<div>\n",
              "<style scoped>\n",
              "    .dataframe tbody tr th:only-of-type {\n",
              "        vertical-align: middle;\n",
              "    }\n",
              "\n",
              "    .dataframe tbody tr th {\n",
              "        vertical-align: top;\n",
              "    }\n",
              "\n",
              "    .dataframe thead th {\n",
              "        text-align: right;\n",
              "    }\n",
              "</style>\n",
              "<table border=\"1\" class=\"dataframe\">\n",
              "  <thead>\n",
              "    <tr style=\"text-align: right;\">\n",
              "      <th></th>\n",
              "      <th>id</th>\n",
              "      <th>name</th>\n",
              "      <th>address</th>\n",
              "      <th>chain</th>\n",
              "      <th>type</th>\n",
              "      <th>total_seats</th>\n",
              "      <th>street_name</th>\n",
              "    </tr>\n",
              "  </thead>\n",
              "  <tbody>\n",
              "    <tr>\n",
              "      <th>0</th>\n",
              "      <td>11786</td>\n",
              "      <td>HABITAT COFFEE SHOP</td>\n",
              "      <td>3708 N EAGLE ROCK BLVD</td>\n",
              "      <td>False</td>\n",
              "      <td>Cafe</td>\n",
              "      <td>26</td>\n",
              "      <td>N EAGLE ROCK BLVD</td>\n",
              "    </tr>\n",
              "    <tr>\n",
              "      <th>1</th>\n",
              "      <td>11787</td>\n",
              "      <td>REILLY'S</td>\n",
              "      <td>100 WORLD WAY # 120</td>\n",
              "      <td>False</td>\n",
              "      <td>Restaurant</td>\n",
              "      <td>9</td>\n",
              "      <td>WORLD WAY # 120</td>\n",
              "    </tr>\n",
              "    <tr>\n",
              "      <th>2</th>\n",
              "      <td>11788</td>\n",
              "      <td>STREET CHURROS</td>\n",
              "      <td>6801 HOLLYWOOD BLVD # 253</td>\n",
              "      <td>False</td>\n",
              "      <td>Fast Food</td>\n",
              "      <td>20</td>\n",
              "      <td>HOLLYWOOD BLVD # 253</td>\n",
              "    </tr>\n",
              "    <tr>\n",
              "      <th>3</th>\n",
              "      <td>11789</td>\n",
              "      <td>TRINITI ECHO PARK</td>\n",
              "      <td>1814 W SUNSET BLVD</td>\n",
              "      <td>False</td>\n",
              "      <td>Restaurant</td>\n",
              "      <td>22</td>\n",
              "      <td>W SUNSET BLVD</td>\n",
              "    </tr>\n",
              "    <tr>\n",
              "      <th>4</th>\n",
              "      <td>11790</td>\n",
              "      <td>POLLEN</td>\n",
              "      <td>2100 ECHO PARK AVE</td>\n",
              "      <td>False</td>\n",
              "      <td>Restaurant</td>\n",
              "      <td>20</td>\n",
              "      <td>ECHO PARK AVE</td>\n",
              "    </tr>\n",
              "  </tbody>\n",
              "</table>\n",
              "</div>"
            ],
            "text/plain": [
              "      id                 name                    address  chain        type  \\\n",
              "0  11786  HABITAT COFFEE SHOP     3708 N EAGLE ROCK BLVD  False        Cafe   \n",
              "1  11787             REILLY'S        100 WORLD WAY # 120  False  Restaurant   \n",
              "2  11788       STREET CHURROS  6801 HOLLYWOOD BLVD # 253  False   Fast Food   \n",
              "3  11789    TRINITI ECHO PARK         1814 W SUNSET BLVD  False  Restaurant   \n",
              "4  11790               POLLEN         2100 ECHO PARK AVE  False  Restaurant   \n",
              "\n",
              "   total_seats           street_name  \n",
              "0           26     N EAGLE ROCK BLVD  \n",
              "1            9       WORLD WAY # 120  \n",
              "2           20  HOLLYWOOD BLVD # 253  \n",
              "3           22         W SUNSET BLVD  \n",
              "4           20         ECHO PARK AVE  "
            ]
          },
          "execution_count": 39,
          "metadata": {},
          "output_type": "execute_result"
        }
      ],
      "source": [
        "df_restaurant.head()"
      ]
    },
    {
      "cell_type": "code",
      "execution_count": null,
      "metadata": {
        "id": "fC8eJfyX6kOz",
        "outputId": "85d3c989-e6df-41f0-879e-0274341e6b7a"
      },
      "outputs": [
        {
          "data": {
            "text/html": [
              "<div>\n",
              "<style scoped>\n",
              "    .dataframe tbody tr th:only-of-type {\n",
              "        vertical-align: middle;\n",
              "    }\n",
              "\n",
              "    .dataframe tbody tr th {\n",
              "        vertical-align: top;\n",
              "    }\n",
              "\n",
              "    .dataframe thead th {\n",
              "        text-align: right;\n",
              "    }\n",
              "</style>\n",
              "<table border=\"1\" class=\"dataframe\">\n",
              "  <thead>\n",
              "    <tr style=\"text-align: right;\">\n",
              "      <th></th>\n",
              "      <th>street_name</th>\n",
              "      <th>count</th>\n",
              "    </tr>\n",
              "  </thead>\n",
              "  <tbody>\n",
              "    <tr>\n",
              "      <th>2691</th>\n",
              "      <td>W SUNSET BLVD</td>\n",
              "      <td>296</td>\n",
              "    </tr>\n",
              "    <tr>\n",
              "      <th>2622</th>\n",
              "      <td>W PICO BLVD</td>\n",
              "      <td>288</td>\n",
              "    </tr>\n",
              "    <tr>\n",
              "      <th>582</th>\n",
              "      <td>HOLLYWOOD BLVD</td>\n",
              "      <td>167</td>\n",
              "    </tr>\n",
              "    <tr>\n",
              "      <th>2837</th>\n",
              "      <td>WILSHIRE BLVD</td>\n",
              "      <td>161</td>\n",
              "    </tr>\n",
              "    <tr>\n",
              "      <th>1705</th>\n",
              "      <td>S VERMONT AVE</td>\n",
              "      <td>148</td>\n",
              "    </tr>\n",
              "    <tr>\n",
              "      <th>1918</th>\n",
              "      <td>SANTA MONICA BLVD</td>\n",
              "      <td>146</td>\n",
              "    </tr>\n",
              "    <tr>\n",
              "      <th>2170</th>\n",
              "      <td>W 3RD ST</td>\n",
              "      <td>145</td>\n",
              "    </tr>\n",
              "    <tr>\n",
              "      <th>147</th>\n",
              "      <td>BEVERLY BLVD</td>\n",
              "      <td>135</td>\n",
              "    </tr>\n",
              "    <tr>\n",
              "      <th>1295</th>\n",
              "      <td>S FIGUEROA ST</td>\n",
              "      <td>134</td>\n",
              "    </tr>\n",
              "    <tr>\n",
              "      <th>755</th>\n",
              "      <td>MELROSE AVE</td>\n",
              "      <td>128</td>\n",
              "    </tr>\n",
              "  </tbody>\n",
              "</table>\n",
              "</div>"
            ],
            "text/plain": [
              "            street_name  count\n",
              "2691      W SUNSET BLVD    296\n",
              "2622        W PICO BLVD    288\n",
              "582      HOLLYWOOD BLVD    167\n",
              "2837      WILSHIRE BLVD    161\n",
              "1705      S VERMONT AVE    148\n",
              "1918  SANTA MONICA BLVD    146\n",
              "2170           W 3RD ST    145\n",
              "147        BEVERLY BLVD    135\n",
              "1295      S FIGUEROA ST    134\n",
              "755         MELROSE AVE    128"
            ]
          },
          "execution_count": 40,
          "metadata": {},
          "output_type": "execute_result"
        }
      ],
      "source": [
        "top_10"
      ]
    },
    {
      "cell_type": "markdown",
      "metadata": {
        "id": "Ymvf56PM6kOz"
      },
      "source": [
        "Untuk mengetahui tren distribusi jumlah kursinya dari 10 nama jalan tersebut, perlu memfilter data dari data utama berdasarkan 10 nama jalan tersebut. Setelah itu akan dilihat dengan grafik distribusi."
      ]
    },
    {
      "cell_type": "code",
      "execution_count": null,
      "metadata": {
        "id": "DDDu9PMT6kO0",
        "outputId": "a10c21b2-ff4a-48d1-a67a-7dadb162d6df"
      },
      "outputs": [
        {
          "data": {
            "text/html": [
              "<div>\n",
              "<style scoped>\n",
              "    .dataframe tbody tr th:only-of-type {\n",
              "        vertical-align: middle;\n",
              "    }\n",
              "\n",
              "    .dataframe tbody tr th {\n",
              "        vertical-align: top;\n",
              "    }\n",
              "\n",
              "    .dataframe thead th {\n",
              "        text-align: right;\n",
              "    }\n",
              "</style>\n",
              "<table border=\"1\" class=\"dataframe\">\n",
              "  <thead>\n",
              "    <tr style=\"text-align: right;\">\n",
              "      <th></th>\n",
              "      <th>id</th>\n",
              "      <th>name</th>\n",
              "      <th>address</th>\n",
              "      <th>chain</th>\n",
              "      <th>type</th>\n",
              "      <th>total_seats</th>\n",
              "      <th>street_name</th>\n",
              "    </tr>\n",
              "  </thead>\n",
              "  <tbody>\n",
              "    <tr>\n",
              "      <th>3</th>\n",
              "      <td>11789</td>\n",
              "      <td>TRINITI ECHO PARK</td>\n",
              "      <td>1814 W SUNSET BLVD</td>\n",
              "      <td>False</td>\n",
              "      <td>Restaurant</td>\n",
              "      <td>22</td>\n",
              "      <td>W SUNSET BLVD</td>\n",
              "    </tr>\n",
              "    <tr>\n",
              "      <th>10</th>\n",
              "      <td>11796</td>\n",
              "      <td>EL POLLO LOCO</td>\n",
              "      <td>5319 W SUNSET BLVD</td>\n",
              "      <td>True</td>\n",
              "      <td>Restaurant</td>\n",
              "      <td>38</td>\n",
              "      <td>W SUNSET BLVD</td>\n",
              "    </tr>\n",
              "    <tr>\n",
              "      <th>16</th>\n",
              "      <td>11802</td>\n",
              "      <td>HMS BOUNTY</td>\n",
              "      <td>3357 WILSHIRE BLVD</td>\n",
              "      <td>False</td>\n",
              "      <td>Restaurant</td>\n",
              "      <td>147</td>\n",
              "      <td>WILSHIRE BLVD</td>\n",
              "    </tr>\n",
              "    <tr>\n",
              "      <th>18</th>\n",
              "      <td>11804</td>\n",
              "      <td>MURAKAMI</td>\n",
              "      <td>7160 MELROSE AVE</td>\n",
              "      <td>False</td>\n",
              "      <td>Restaurant</td>\n",
              "      <td>139</td>\n",
              "      <td>MELROSE AVE</td>\n",
              "    </tr>\n",
              "    <tr>\n",
              "      <th>22</th>\n",
              "      <td>11808</td>\n",
              "      <td>CAMY'S GRILL</td>\n",
              "      <td>3339 WILSHIRE BLVD</td>\n",
              "      <td>False</td>\n",
              "      <td>Restaurant</td>\n",
              "      <td>39</td>\n",
              "      <td>WILSHIRE BLVD</td>\n",
              "    </tr>\n",
              "    <tr>\n",
              "      <th>...</th>\n",
              "      <td>...</td>\n",
              "      <td>...</td>\n",
              "      <td>...</td>\n",
              "      <td>...</td>\n",
              "      <td>...</td>\n",
              "      <td>...</td>\n",
              "      <td>...</td>\n",
              "    </tr>\n",
              "    <tr>\n",
              "      <th>9625</th>\n",
              "      <td>21411</td>\n",
              "      <td>EAT THIS CAFE</td>\n",
              "      <td>6545 SANTA MONICA BLVD</td>\n",
              "      <td>False</td>\n",
              "      <td>Restaurant</td>\n",
              "      <td>41</td>\n",
              "      <td>SANTA MONICA BLVD</td>\n",
              "    </tr>\n",
              "    <tr>\n",
              "      <th>9628</th>\n",
              "      <td>21414</td>\n",
              "      <td>KIFF KAFE</td>\n",
              "      <td>12217 W PICO BLVD</td>\n",
              "      <td>False</td>\n",
              "      <td>Restaurant</td>\n",
              "      <td>29</td>\n",
              "      <td>W PICO BLVD</td>\n",
              "    </tr>\n",
              "    <tr>\n",
              "      <th>9630</th>\n",
              "      <td>21416</td>\n",
              "      <td>SALVATORE'S ON MELROSE</td>\n",
              "      <td>7356 MELROSE AVE</td>\n",
              "      <td>False</td>\n",
              "      <td>Restaurant</td>\n",
              "      <td>101</td>\n",
              "      <td>MELROSE AVE</td>\n",
              "    </tr>\n",
              "    <tr>\n",
              "      <th>9647</th>\n",
              "      <td>21433</td>\n",
              "      <td>FIN-MELROSE</td>\n",
              "      <td>5750 MELROSE AVE</td>\n",
              "      <td>False</td>\n",
              "      <td>Restaurant</td>\n",
              "      <td>93</td>\n",
              "      <td>MELROSE AVE</td>\n",
              "    </tr>\n",
              "    <tr>\n",
              "      <th>9648</th>\n",
              "      <td>21434</td>\n",
              "      <td>JUICY WINGZ</td>\n",
              "      <td>6741 HOLLYWOOD BLVD</td>\n",
              "      <td>True</td>\n",
              "      <td>Fast Food</td>\n",
              "      <td>15</td>\n",
              "      <td>HOLLYWOOD BLVD</td>\n",
              "    </tr>\n",
              "  </tbody>\n",
              "</table>\n",
              "<p>1748 rows × 7 columns</p>\n",
              "</div>"
            ],
            "text/plain": [
              "         id                    name                 address  chain  \\\n",
              "3     11789       TRINITI ECHO PARK      1814 W SUNSET BLVD  False   \n",
              "10    11796           EL POLLO LOCO      5319 W SUNSET BLVD   True   \n",
              "16    11802              HMS BOUNTY      3357 WILSHIRE BLVD  False   \n",
              "18    11804                MURAKAMI        7160 MELROSE AVE  False   \n",
              "22    11808            CAMY'S GRILL      3339 WILSHIRE BLVD  False   \n",
              "...     ...                     ...                     ...    ...   \n",
              "9625  21411           EAT THIS CAFE  6545 SANTA MONICA BLVD  False   \n",
              "9628  21414               KIFF KAFE       12217 W PICO BLVD  False   \n",
              "9630  21416  SALVATORE'S ON MELROSE        7356 MELROSE AVE  False   \n",
              "9647  21433             FIN-MELROSE        5750 MELROSE AVE  False   \n",
              "9648  21434             JUICY WINGZ     6741 HOLLYWOOD BLVD   True   \n",
              "\n",
              "            type  total_seats        street_name  \n",
              "3     Restaurant           22      W SUNSET BLVD  \n",
              "10    Restaurant           38      W SUNSET BLVD  \n",
              "16    Restaurant          147      WILSHIRE BLVD  \n",
              "18    Restaurant          139        MELROSE AVE  \n",
              "22    Restaurant           39      WILSHIRE BLVD  \n",
              "...          ...          ...                ...  \n",
              "9625  Restaurant           41  SANTA MONICA BLVD  \n",
              "9628  Restaurant           29        W PICO BLVD  \n",
              "9630  Restaurant          101        MELROSE AVE  \n",
              "9647  Restaurant           93        MELROSE AVE  \n",
              "9648   Fast Food           15     HOLLYWOOD BLVD  \n",
              "\n",
              "[1748 rows x 7 columns]"
            ]
          },
          "execution_count": 41,
          "metadata": {},
          "output_type": "execute_result"
        }
      ],
      "source": [
        "# Memfilter data untuk tren distribusi jumlah tempat duduk berdasarkan 10 jalan dengan usaha makanan terbanyak\n",
        "seats_dis_for_top_10 = df_restaurant.query('(street_name == \"W SUNSET BLVD\") | (street_name == \"W PICO BLVD\") | (street_name == \"HOLLYWOOD BLVD\") | (street_name == \"WILSHIRE BLVD\") | (street_name == \"S VERMONT AVE\") | (street_name == \"SANTA MONICA BLVD\") | (street_name == \"W 3RD ST\") | (street_name == \"BEVERLY BLVD\") | (street_name == \"S FIGUEROA ST\") | (street_name == \"MELROSE AVE\")')\n",
        "seats_dis_for_top_10"
      ]
    },
    {
      "cell_type": "code",
      "execution_count": null,
      "metadata": {
        "id": "dJS335UV6kO0",
        "outputId": "940fe7b5-ac8b-4405-8949-6bb0a9772c9a"
      },
      "outputs": [
        {
          "data": {
            "image/png": "[encoded data removed]",
            "text/plain": [
              "<Figure size 936x576 with 1 Axes>"
            ]
          },
          "metadata": {},
          "output_type": "display_data"
        }
      ],
      "source": [
        "# Melihat tren distribusi kursinya\n",
        "plt.figure(figsize=(13,8))\n",
        "sns.distplot(seats_dis_for_top_10['total_seats'])\n",
        "plt.title('Tren Distribusi Jumlah Kursi Berdasarkan 10 Jalan Dengan Usaha Makanan Terbanyak', fontsize=16)\n",
        "plt.show()"
      ]
    },
    {
      "cell_type": "markdown",
      "metadata": {
        "id": "KoEVPlrX6kO1"
      },
      "source": [
        "kesimpulan:\n",
        "\n",
        "Bahwa trend distribusi untuk jumlah kursi dari 10 nama jalan tersebut 50 kursi atau dibawah 50 kursi."
      ]
    },
    {
      "cell_type": "markdown",
      "metadata": {
        "id": "APH1mKE26kO2"
      },
      "source": [
        "## Kesimpulan & Rekomendasi"
      ]
    },
    {
      "cell_type": "markdown",
      "metadata": {
        "id": "WJuj7cdK6kO3"
      },
      "source": [
        "### Kesimpulan"
      ]
    },
    {
      "cell_type": "markdown",
      "metadata": {
        "id": "QjyG9Yyw6kO3"
      },
      "source": [
        "Usaha jenis Restoran sangat mendominasi sebesar 75%, sementara yang tertinggi kedua yaitu Fast Food sebesar 11%. Sisanya untuk Bakert, Bar, Cafe, dan Pizza berdara di bawah 10% untuk di kota LA. Bahwa usaha yang tidak melakukan chain lebih sebesar 61,9% dibanding yang melakukan chain sebesar 38,1%. Usaha makanan yang dimana biasanya menggunakan chain yaitu usaha yang dimana menu makanannya bisa di `take away` hal itu bisa di liat pada grafiknya bahwa urutan pertama yaitu bakery, cafe, fast food, pizza, restaurant, bar.\n",
        "\n",
        "Bahwa untuk ciri-ciri usaha yang menggunakan chain bahwa penggunaan tempat duduk lebih sedikit dibanding yang tidak menggunakan chain. Tetapi, untuk usaha makanan seperti `Fast Food` dan `Cafe` lebih banyak tempat duduk untuk yang menggunakan chain dari pada yang tidak menggunakan chain, hal ini dapat dibuktikan dengan grafik diatas. Baik untuk usaha yang tempat duduknya dibawah 50 maupun diatas 50.\n",
        "\n",
        "Jumlah jalan yang hanya ada 1 usaha makanan di LA sebanyak 2481. Bahwa trend distribusi untuk jumlah kursi dari 10 nama jalan tersebut 50 kursi atau dibawah 50 kursi.\n",
        "\n",
        "Bahwa Usaha makanan yang paling banyak kursinya secara berurutan, yaitu:\n",
        "- `Restoran` dengan rata-rata kursi: 48 kursi\n",
        "- `Bar` dengan rata-rata kursi: 45 kursi\n",
        "- `Fast` Food dengan rata-rata kursi: 32 kursi\n",
        "- `Pizza` dengan rata-rata kursi: 29 kursi\n",
        "- `Cafe` dengan rata-rata kursi: 25 kursi\n",
        "- `Bakery` dengan rata-rata kursi: 22 kursi\n",
        "\n",
        "Adapun 10 nama jalan dengan jumlah usaha makanan terbanyak di LA berdasarkan urutan, yaitu:\n",
        "- `W SUNSET BLVD` dengan jumlah usaha makanan sebanyak: 296\n",
        "- `W PICO BLVD` dengan jumlah usaha makanan sebanyak: 288\n",
        "- `HOLLYWOOD BLVD` dengan jumlah usaha makanan sebanyak: 167\n",
        "- `WULSHIRE BLVD` dengan jumlah usaha makanan sebanyak: 161\n",
        "- `S VERMONT AVE` dengan jumlah usaha makanan sebanyak: 148\n",
        "- `SANTA MONICA BLVD` dengan jumlah usaha makanan sebanyak: 146\n",
        "- `W 3RD ST` dengan jumlah usaha makanan sebanyak: 145\n",
        "- `BEVERLY BLVD` dengan jumlah usaha makanan sebanyak: 135\n",
        "- `S FIGUEROA ST` dengan jumlah usaha makanan sebanyak: 134\n",
        "- `MEROSE AVE` dengan jumlah usaha makanan sebanyak: 128"
      ]
    },
    {
      "cell_type": "markdown",
      "metadata": {
        "id": "pyzVBZ3b6kO4"
      },
      "source": [
        "### Rekomendasi"
      ]
    },
    {
      "cell_type": "markdown",
      "metadata": {
        "id": "wqVJ6Ro96kO4"
      },
      "source": [
        "Setelah menganalisa berbagai temuan dari data-data diatas bahwa kami merekomendasikan usaha `Restoran` dengan konsep pelayanan robot dengan kondisi yang potensional mendapatkan keuntungan yang besar dengan usaha `non-rantai`, karena dengan basis usaha non-rantai tidak terikat aturan-aturan seperti usaha `rantai` dan memaksimalkan kreatifitas dalam usahanya. Untuk usahanya dibuat khusus untuk `dine in` atau makan di tempat dan kurangin porsi untuk `take away` karena konsepnya akan menggunakan robot sebagai daya tarik usaha makanan tersebut. \n",
        "\n",
        "Kursi untuk tempat usahanya sebiaknya kisaran 40-50 kursi untuk memaksimalkan konsep robot sebagai pelayanannya agar dapat memanjakan dan membuat lebih nyaman untuk para konsumennya. Dan untuk lokasinya berada di salah satu nama jalan dengan kondisi usaha makanan terbanyak. Alasannya karena jalan-jalan tersebut menjadi pusat usaha makanan, dan banyak juga orang-orang yang datang untuk pergi menikmati kuliner karena 10 nama jalan tersebut sudah terkenal akan usaha makanan yang banyak dan beragam."
      ]
    },
    {
      "cell_type": "markdown",
      "metadata": {
        "id": "guphcHcd6kO4"
      },
      "source": [
        "Link Presentasi PPT : https://docs.google.com/presentation/d/1l8eCkt0tQpODE2nsr4fL5eCHctcVcN7NobRqm-hvrzg/edit?usp=sharing\n",
        "\n",
        "Link Presentasi PDF : https://drive.google.com/file/d/14GVG6ARuwHE4TYZgcUPjO2c9HVMWqnJi/view?usp=share_link"
      ]
    },
    {
      "cell_type": "markdown",
      "metadata": {
        "id": "HVMfOnME6kO5"
      },
      "source": [
        "<div class=\"alert alert-block alert-success\">\n",
        "\n",
        "# General comments #1\n",
        "<b>Reviewer's comment</b> <a class=\"tocSkip\"></a> \n",
        "\n",
        "Good Job Ariq! Sebagian besar kamu telah menyelesaikan project ini dengan baik dan tidak ada revisi ya!\n",
        "    \n",
        "Keep going Ariq, you are doing very well!\n",
        "    \n",
        "\n",
        "</div>"
      ]
    }
  ],
  "metadata": {
    "kernelspec": {
      "display_name": "Python 3 (ipykernel)",
      "language": "python",
      "name": "python3"
    },
    "language_info": {
      "codemirror_mode": {
        "name": "ipython",
        "version": 3
      },
      "file_extension": ".py",
      "mimetype": "text/x-python",
      "name": "python",
      "nbconvert_exporter": "python",
      "pygments_lexer": "ipython3",
      "version": "3.9.5"
    },
    "toc": {
      "base_numbering": 1,
      "nav_menu": {},
      "number_sections": true,
      "sideBar": true,
      "skip_h1_title": true,
      "title_cell": "Table of Contents",
      "title_sidebar": "Contents",
      "toc_cell": false,
      "toc_position": {
        "height": "calc(100% - 180px)",
        "left": "10px",
        "top": "150px",
        "width": "255.4px"
      },
      "toc_section_display": true,
      "toc_window_display": false
    },
    "colab": {
      "provenance": []
    }
  },
  "nbformat": 4,
  "nbformat_minor": 0
}