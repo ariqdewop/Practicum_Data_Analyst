{
  "cells": [
    {
      "cell_type": "markdown",
      "metadata": {
        "id": "Lt5MrAdT3bjC"
      },
      "source": [
        "# Daftar Isi\n",
        "\n",
        "- [Daftar Isi](#daftar_isi)\n",
        "- [Pendahuluan](#pendahuluan)\n",
        "- [Pengantar Proyek](#pengantar_proyek)\n",
        "- [Tujuan Proyek](#tujuan_proyek)\n",
        "- [Tahapan Proyek](#tahapan_proyek)\n",
        "- [Memuat seluruh Library dan Membaca filenya](#memuat_membaca)\n",
        "    - [Memuat Seluruh Library](#memuat_library)\n",
        "    - [Memuat Informasi data](#memuat_informasi)\n",
        "        - [Memuat informasi data untuk taxi company](#tax_company)\n",
        "        - [Memuat informasi data untuk perjalan pada tujuan chicago](#dropoff_chicago)\n",
        "        - [Memuat informasi data untuk perjalan pada waktu dan cuaca](#weather_condition)\n",
        "- [Pra-Pemrosesan Data](#)\n",
        "    - [Memperbaiki data yang salah untuk tabel chicago](#)\n",
        "    - [Melihat dan menganailisa nilai duplikasi pada data tabel perjalanan, kondisi cuaca, dan waktu](#)\n",
        "    - [Melihat persebaran nilai pada data tabel perjalanan, kondisi cuaca, dan waktu](#)\n",
        "- [Analisis Data Eksplorasi](#)\n",
        "    - [Mengidentifikasi 10 wilayah teratas yang dijadikan sebagai titik pengantaran](#)\n",
        "    - [Menampilkan Grafik](#)\n",
        "        - [Membuat dan menampilkan grafik perusahaan taksi & jumlah perjalanan](#)\n",
        "        - [Membuat dan menampilkan grafik 10 wilayah teratas yang dijadikan sebagai titik pengantaran](#)\n",
        "- [Uji Hipotesis](#)\n",
        "- [Ringkasan & Kesimpulan](#)\n",
        "    - [Ringkasan](#)\n",
        "    - [Kesimpulan](#)"
      ]
    },
    {
      "cell_type": "markdown",
      "metadata": {
        "id": "jPZ4qxR83bjF"
      },
      "source": [
        "# Pendahuluan\n",
        "\n",
        "Setiap kali kita melakukan penelitian, kita perlu merumuskan hipotesis yang kemudian dapat kita uji. Terkadang kita menerima hipotesis ini; tetapi terkadang kita juga menolaknya. Untuk membuat keputusan yang tepat, sebuah bisnis harus dapat memahami apakah asumsi yang dibuatnya benar atau tidak.\n",
        "\n",
        "Dalam proyek ini, diminta untuk menemukan pola pada informasi yang berhubungan dampak faktor eksternal terhadap perjalan dengan preferensi penumpang. Serta menggunakan basis data untuk menganalisa data dari kompetitor dan menguji hipotesis terkait pengaruh cuaca terhadap frekuensi perjalanan."
      ]
    },
    {
      "cell_type": "markdown",
      "metadata": {
        "id": "cK5CSeWt3bjG"
      },
      "source": [
        "# Pengantar Proyek\n",
        "\n",
        "Anda bekerja sebagai seorang analis untuk Zuber, sebuah perusahaan berbagi tumpangan (ride-sharing) baru yang diluncurkan di Chicago. Tugas Anda adalah untuk menemukan pola pada informasi yang tersedia. Anda ingin memahami preferensi penumpang dan dampak faktor eksternal terhadap perjalanan.\n",
        "\n",
        "Dengan menggunakan basis data, Anda akan menganalisis data dari kompetitor dan menguji hipotesis terkait pengaruh cuaca terhadap frekuensi perjalanan."
      ]
    },
    {
      "cell_type": "markdown",
      "metadata": {
        "id": "tAWz1sxg3bjH"
      },
      "source": [
        "# Tujuan Proyek\n",
        "\n",
        "Proyek ini ditujukan untuk menemukan pola pada informasi yang berhubungan dampak faktor eksternal terhadap perjalan dengan preferensi penumpang. Serta menguji hipotesis terkait pengaruh cuaca terhadap frekuensi perjalanan dengan data dari komptetitor."
      ]
    },
    {
      "cell_type": "markdown",
      "metadata": {
        "id": "gpc3IVMf3bjH"
      },
      "source": [
        "# Tahapan Proyek\n",
        "\n",
        "Pertama-tama, melakukan analisa basis data dari web `https://code.s3.yandex.net/data-analyst-eng/chicago_weather_2017.html` untuk eksplorasi dan uji hipotesis sesuai permintaan pada SQL (dilakukan sebelum pyhton secara terpisah) untuk menemukan pola data yang diinginkan.\n",
        "\n",
        "Data tentang suatu pola dalam perjalan di chicago hasil query pada SQL disimpan dalam berkas `project_sql_result_01.csv` dan berkas `project_sql_result_04.csv`. Tidak ada informasi tentang kualitas data, jadi perlu memeriksanya lebih dahulu untuk membuat grafik terhadap perjalanannya dan membuat kesimpulan.\n",
        "\n",
        "Dan hasil query pada SQL disimpan dalam berkas `project_sql_result_07.csv` digunakan untuk hipotesis terkait perjalan cuaca ke bandara dan kondisi cuaca saat perjalan berlangsung."
      ]
    },
    {
      "cell_type": "markdown",
      "metadata": {
        "id": "awhL-QKy3bjK"
      },
      "source": [
        "## Memuat seluruh Library dan Membaca filenya"
      ]
    },
    {
      "cell_type": "markdown",
      "metadata": {
        "id": "gEyLxJdX3bjL"
      },
      "source": [
        "### Memuat seluruh Library"
      ]
    },
    {
      "cell_type": "code",
      "execution_count": null,
      "metadata": {
        "id": "9l8CbR0C3bjM"
      },
      "outputs": [],
      "source": [
        "# Membuat semua Libary\n",
        "import pandas as pd, numpy as np\n",
        "# Memuat Data Visualisasi\n",
        "import matplotlib.pyplot as plt, seaborn as sns\n",
        "# Membuat Uji Statistik\n",
        "import scipy.stats as st\n",
        "# Menyembunyikan warning\n",
        "import warnings"
      ]
    },
    {
      "cell_type": "code",
      "execution_count": null,
      "metadata": {
        "id": "YZIqz2oS3bjP"
      },
      "outputs": [],
      "source": [
        "# Membuat set kolom untuk kolom bisa dibaca jika panjang\n",
        "pd.set_option('display.max_columns', 100)\n",
        "# Membuat warning untuk di abaikan dan disembunyikan\n",
        "warnings.filterwarnings('ignore')"
      ]
    },
    {
      "cell_type": "markdown",
      "metadata": {
        "id": "LTsh6UPL3bjP"
      },
      "source": [
        "Karena dataset-nya ada 3, maka untuk pengecekan kualitas data setiap masing-masing dataset perlu dilakukan secara satu per satu agar bisa dilakukan proses selanjutnya."
      ]
    },
    {
      "cell_type": "code",
      "execution_count": null,
      "metadata": {
        "id": "4uvC9O-Q3bjS"
      },
      "outputs": [],
      "source": [
        "# Memuat file sql result 1 menjadi taxi company\n",
        "taxi_company = pd.read_csv('/datasets/project_sql_result_01.csv')"
      ]
    },
    {
      "cell_type": "code",
      "execution_count": null,
      "metadata": {
        "id": "dCy_qiKr3bjT"
      },
      "outputs": [],
      "source": [
        "# Memuat file sql result 4 menjadi chicago\n",
        "chicago_destination = pd.read_csv('/datasets/project_sql_result_04.csv')"
      ]
    },
    {
      "cell_type": "code",
      "execution_count": null,
      "metadata": {
        "id": "B2NOT7aK3bjT"
      },
      "outputs": [],
      "source": [
        "# Memuat file sql result 7 menjadi trip weather duration\n",
        "trip_weather_duration = pd.read_csv('/datasets/project_sql_result_07.csv')"
      ]
    },
    {
      "cell_type": "markdown",
      "metadata": {
        "id": "UKOU3LEO3bjV"
      },
      "source": [
        "### Memuat informasi data"
      ]
    },
    {
      "cell_type": "markdown",
      "metadata": {
        "id": "an4jS_Tq3bjV"
      },
      "source": [
        "#### Memuat informasi data untuk taxi company"
      ]
    },
    {
      "cell_type": "code",
      "execution_count": null,
      "metadata": {
        "id": "10E7E3g33bjW",
        "outputId": "d560f962-bd89-420b-8fae-cc8cf53fa3dd"
      },
      "outputs": [
        {
          "data": {
            "text/html": [
              "<div>\n",
              "<style scoped>\n",
              "    .dataframe tbody tr th:only-of-type {\n",
              "        vertical-align: middle;\n",
              "    }\n",
              "\n",
              "    .dataframe tbody tr th {\n",
              "        vertical-align: top;\n",
              "    }\n",
              "\n",
              "    .dataframe thead th {\n",
              "        text-align: right;\n",
              "    }\n",
              "</style>\n",
              "<table border=\"1\" class=\"dataframe\">\n",
              "  <thead>\n",
              "    <tr style=\"text-align: right;\">\n",
              "      <th></th>\n",
              "      <th>company_name</th>\n",
              "      <th>trips_amount</th>\n",
              "    </tr>\n",
              "  </thead>\n",
              "  <tbody>\n",
              "    <tr>\n",
              "      <th>0</th>\n",
              "      <td>Flash Cab</td>\n",
              "      <td>19558</td>\n",
              "    </tr>\n",
              "    <tr>\n",
              "      <th>1</th>\n",
              "      <td>Taxi Affiliation Services</td>\n",
              "      <td>11422</td>\n",
              "    </tr>\n",
              "    <tr>\n",
              "      <th>2</th>\n",
              "      <td>Medallion Leasing</td>\n",
              "      <td>10367</td>\n",
              "    </tr>\n",
              "    <tr>\n",
              "      <th>3</th>\n",
              "      <td>Yellow Cab</td>\n",
              "      <td>9888</td>\n",
              "    </tr>\n",
              "    <tr>\n",
              "      <th>4</th>\n",
              "      <td>Taxi Affiliation Service Yellow</td>\n",
              "      <td>9299</td>\n",
              "    </tr>\n",
              "    <tr>\n",
              "      <th>...</th>\n",
              "      <td>...</td>\n",
              "      <td>...</td>\n",
              "    </tr>\n",
              "    <tr>\n",
              "      <th>59</th>\n",
              "      <td>4053 - 40193 Adwar H. Nikola</td>\n",
              "      <td>7</td>\n",
              "    </tr>\n",
              "    <tr>\n",
              "      <th>60</th>\n",
              "      <td>2733 - 74600 Benny Jona</td>\n",
              "      <td>7</td>\n",
              "    </tr>\n",
              "    <tr>\n",
              "      <th>61</th>\n",
              "      <td>5874 - 73628 Sergey Cab Corp.</td>\n",
              "      <td>5</td>\n",
              "    </tr>\n",
              "    <tr>\n",
              "      <th>62</th>\n",
              "      <td>2241 - 44667 - Felman Corp</td>\n",
              "      <td>3</td>\n",
              "    </tr>\n",
              "    <tr>\n",
              "      <th>63</th>\n",
              "      <td>3556 - 36214 RC Andrews Cab</td>\n",
              "      <td>2</td>\n",
              "    </tr>\n",
              "  </tbody>\n",
              "</table>\n",
              "<p>64 rows × 2 columns</p>\n",
              "</div>"
            ],
            "text/plain": [
              "                       company_name  trips_amount\n",
              "0                         Flash Cab         19558\n",
              "1         Taxi Affiliation Services         11422\n",
              "2                 Medallion Leasing         10367\n",
              "3                        Yellow Cab          9888\n",
              "4   Taxi Affiliation Service Yellow          9299\n",
              "..                              ...           ...\n",
              "59     4053 - 40193 Adwar H. Nikola             7\n",
              "60          2733 - 74600 Benny Jona             7\n",
              "61    5874 - 73628 Sergey Cab Corp.             5\n",
              "62       2241 - 44667 - Felman Corp             3\n",
              "63      3556 - 36214 RC Andrews Cab             2\n",
              "\n",
              "[64 rows x 2 columns]"
            ]
          },
          "execution_count": 6,
          "metadata": {},
          "output_type": "execute_result"
        }
      ],
      "source": [
        "# Melihat data pada tabel taxi company\n",
        "taxi_company"
      ]
    },
    {
      "cell_type": "code",
      "execution_count": null,
      "metadata": {
        "id": "V-YhSJDM3bjX",
        "outputId": "344c68a3-4abf-493b-a87b-6960de1458ec"
      },
      "outputs": [
        {
          "name": "stdout",
          "output_type": "stream",
          "text": [
            "<class 'pandas.core.frame.DataFrame'>\n",
            "RangeIndex: 64 entries, 0 to 63\n",
            "Data columns (total 2 columns):\n",
            " #   Column        Non-Null Count  Dtype \n",
            "---  ------        --------------  ----- \n",
            " 0   company_name  64 non-null     object\n",
            " 1   trips_amount  64 non-null     int64 \n",
            "dtypes: int64(1), object(1)\n",
            "memory usage: 1.1+ KB\n"
          ]
        }
      ],
      "source": [
        "# Melihat informasi keseluruhan pada tabel taxi company\n",
        "taxi_company.info()"
      ]
    },
    {
      "cell_type": "code",
      "execution_count": null,
      "metadata": {
        "id": "mtKuf9uk3bjY",
        "outputId": "d526704a-b9a3-48db-a9f6-3f71030c200c"
      },
      "outputs": [
        {
          "data": {
            "text/plain": [
              "company_name    0\n",
              "trips_amount    0\n",
              "dtype: int64"
            ]
          },
          "execution_count": 8,
          "metadata": {},
          "output_type": "execute_result"
        }
      ],
      "source": [
        "# Melihat jumlah nilai yang hilang untuk semua kolom\n",
        "taxi_company.isna().sum()"
      ]
    },
    {
      "cell_type": "code",
      "execution_count": null,
      "metadata": {
        "id": "VKFZepon3bjZ",
        "outputId": "e465ed64-22e3-4e19-e268-77716b85b466"
      },
      "outputs": [
        {
          "data": {
            "text/plain": [
              "0"
            ]
          },
          "execution_count": 9,
          "metadata": {},
          "output_type": "execute_result"
        }
      ],
      "source": [
        "# Melihat jumlah nilai yang duplikasi pada tabel taxi company\n",
        "taxi_company.duplicated().sum()"
      ]
    },
    {
      "cell_type": "markdown",
      "metadata": {
        "id": "mg5Y9uhz3bjc"
      },
      "source": [
        "Setelah melihat semua informasi yang diperlukan, maka dapat disimpulkan untuk beberapa poin:\n",
        "\n",
        "- tidak mempunyai masalah untuk kolom.\n",
        "- tidak mempunyai masalah untuk tipe data.\n",
        "- tidak mempunyai masalah untuk nilai hilang.\n",
        "- tidak mempunyai masalah untuk duplikasi."
      ]
    },
    {
      "cell_type": "markdown",
      "metadata": {
        "id": "mOo0WLPO3bjd"
      },
      "source": [
        "#### Memuat informasi data untuk perjalan pada tujuan chicago"
      ]
    },
    {
      "cell_type": "code",
      "execution_count": null,
      "metadata": {
        "id": "OzWj80Op3bje",
        "outputId": "f040b486-4e90-4b26-9591-0a5f78136830"
      },
      "outputs": [
        {
          "data": {
            "text/html": [
              "<div>\n",
              "<style scoped>\n",
              "    .dataframe tbody tr th:only-of-type {\n",
              "        vertical-align: middle;\n",
              "    }\n",
              "\n",
              "    .dataframe tbody tr th {\n",
              "        vertical-align: top;\n",
              "    }\n",
              "\n",
              "    .dataframe thead th {\n",
              "        text-align: right;\n",
              "    }\n",
              "</style>\n",
              "<table border=\"1\" class=\"dataframe\">\n",
              "  <thead>\n",
              "    <tr style=\"text-align: right;\">\n",
              "      <th></th>\n",
              "      <th>dropoff_location_name</th>\n",
              "      <th>average_trips</th>\n",
              "    </tr>\n",
              "  </thead>\n",
              "  <tbody>\n",
              "    <tr>\n",
              "      <th>0</th>\n",
              "      <td>Loop</td>\n",
              "      <td>10727.466667</td>\n",
              "    </tr>\n",
              "    <tr>\n",
              "      <th>1</th>\n",
              "      <td>River North</td>\n",
              "      <td>9523.666667</td>\n",
              "    </tr>\n",
              "    <tr>\n",
              "      <th>2</th>\n",
              "      <td>Streeterville</td>\n",
              "      <td>6664.666667</td>\n",
              "    </tr>\n",
              "    <tr>\n",
              "      <th>3</th>\n",
              "      <td>West Loop</td>\n",
              "      <td>5163.666667</td>\n",
              "    </tr>\n",
              "    <tr>\n",
              "      <th>4</th>\n",
              "      <td>O'Hare</td>\n",
              "      <td>2546.900000</td>\n",
              "    </tr>\n",
              "    <tr>\n",
              "      <th>...</th>\n",
              "      <td>...</td>\n",
              "      <td>...</td>\n",
              "    </tr>\n",
              "    <tr>\n",
              "      <th>89</th>\n",
              "      <td>Mount Greenwood</td>\n",
              "      <td>3.137931</td>\n",
              "    </tr>\n",
              "    <tr>\n",
              "      <th>90</th>\n",
              "      <td>Hegewisch</td>\n",
              "      <td>3.117647</td>\n",
              "    </tr>\n",
              "    <tr>\n",
              "      <th>91</th>\n",
              "      <td>Burnside</td>\n",
              "      <td>2.333333</td>\n",
              "    </tr>\n",
              "    <tr>\n",
              "      <th>92</th>\n",
              "      <td>East Side</td>\n",
              "      <td>1.961538</td>\n",
              "    </tr>\n",
              "    <tr>\n",
              "      <th>93</th>\n",
              "      <td>Riverdale</td>\n",
              "      <td>1.800000</td>\n",
              "    </tr>\n",
              "  </tbody>\n",
              "</table>\n",
              "<p>94 rows × 2 columns</p>\n",
              "</div>"
            ],
            "text/plain": [
              "   dropoff_location_name  average_trips\n",
              "0                   Loop   10727.466667\n",
              "1            River North    9523.666667\n",
              "2          Streeterville    6664.666667\n",
              "3              West Loop    5163.666667\n",
              "4                 O'Hare    2546.900000\n",
              "..                   ...            ...\n",
              "89       Mount Greenwood       3.137931\n",
              "90             Hegewisch       3.117647\n",
              "91              Burnside       2.333333\n",
              "92             East Side       1.961538\n",
              "93             Riverdale       1.800000\n",
              "\n",
              "[94 rows x 2 columns]"
            ]
          },
          "execution_count": 10,
          "metadata": {},
          "output_type": "execute_result"
        }
      ],
      "source": [
        "# Melihat data pada tabel daerah penurunan di chicago\n",
        "chicago_destination"
      ]
    },
    {
      "cell_type": "code",
      "execution_count": null,
      "metadata": {
        "id": "LIRr1UsS3bjf",
        "outputId": "c16a4bbf-d32c-4d00-b312-4073d91f80b7"
      },
      "outputs": [
        {
          "name": "stdout",
          "output_type": "stream",
          "text": [
            "<class 'pandas.core.frame.DataFrame'>\n",
            "RangeIndex: 94 entries, 0 to 93\n",
            "Data columns (total 2 columns):\n",
            " #   Column                 Non-Null Count  Dtype  \n",
            "---  ------                 --------------  -----  \n",
            " 0   dropoff_location_name  94 non-null     object \n",
            " 1   average_trips          94 non-null     float64\n",
            "dtypes: float64(1), object(1)\n",
            "memory usage: 1.6+ KB\n"
          ]
        }
      ],
      "source": [
        "# Melihat informasi keseluruhan pada tabel daerah penurunan di chicago\n",
        "chicago_destination.info()"
      ]
    },
    {
      "cell_type": "code",
      "execution_count": null,
      "metadata": {
        "id": "97lqa4ky3bjg",
        "outputId": "d5fdcee0-3f33-4144-fa22-fb274bbfebb9"
      },
      "outputs": [
        {
          "data": {
            "text/plain": [
              "dropoff_location_name    0\n",
              "average_trips            0\n",
              "dtype: int64"
            ]
          },
          "execution_count": 12,
          "metadata": {},
          "output_type": "execute_result"
        }
      ],
      "source": [
        "# Melihat jumlah nilai yang hilang untuk semua kolom daerah penurunan di chicago\n",
        "chicago_destination.isna().sum()"
      ]
    },
    {
      "cell_type": "code",
      "execution_count": null,
      "metadata": {
        "id": "NGafw3dU3bji",
        "outputId": "2eb7c314-484d-4e34-a462-3eb740448408"
      },
      "outputs": [
        {
          "data": {
            "text/plain": [
              "0"
            ]
          },
          "execution_count": 13,
          "metadata": {},
          "output_type": "execute_result"
        }
      ],
      "source": [
        "# Melihat jumlah nilai yang duplikasi pada daerah penurunan di chicago\n",
        "chicago_destination.duplicated().sum()"
      ]
    },
    {
      "cell_type": "markdown",
      "metadata": {
        "id": "S4Dg-RSk3bjj"
      },
      "source": [
        "Setelah melihat semua informasi yang diperlukan, maka dapat disimpulkan untuk beberapa poin:\n",
        "\n",
        "- tidak mempunyai masalah untuk kolom.\n",
        "- mempunyai masalah untuk tipe data pada kolom `average_trips`, karena average yang dimaksud adalah jumlah perjalanan (satuan perjalanan), bukan total perjalanan yang ditempuh (bukan dalam bentuk km atau mile).\n",
        "- tidak mempunyai masalah untuk nilai hilang.\n",
        "- tidak mempunyai masalah untuk duplikasi."
      ]
    },
    {
      "cell_type": "markdown",
      "metadata": {
        "id": "WQSCr6l23bjk"
      },
      "source": [
        "#### Memuat informasi data untuk perjalan pada waktu dan cuaca"
      ]
    },
    {
      "cell_type": "code",
      "execution_count": null,
      "metadata": {
        "id": "p-UYKH9E3bjl",
        "outputId": "c1c85bd5-e8a3-4bc7-bc6e-34d2bbd0273f"
      },
      "outputs": [
        {
          "data": {
            "text/html": [
              "<div>\n",
              "<style scoped>\n",
              "    .dataframe tbody tr th:only-of-type {\n",
              "        vertical-align: middle;\n",
              "    }\n",
              "\n",
              "    .dataframe tbody tr th {\n",
              "        vertical-align: top;\n",
              "    }\n",
              "\n",
              "    .dataframe thead th {\n",
              "        text-align: right;\n",
              "    }\n",
              "</style>\n",
              "<table border=\"1\" class=\"dataframe\">\n",
              "  <thead>\n",
              "    <tr style=\"text-align: right;\">\n",
              "      <th></th>\n",
              "      <th>start_ts</th>\n",
              "      <th>weather_conditions</th>\n",
              "      <th>duration_seconds</th>\n",
              "    </tr>\n",
              "  </thead>\n",
              "  <tbody>\n",
              "    <tr>\n",
              "      <th>0</th>\n",
              "      <td>2017-11-25 16:00:00</td>\n",
              "      <td>Good</td>\n",
              "      <td>2410.0</td>\n",
              "    </tr>\n",
              "    <tr>\n",
              "      <th>1</th>\n",
              "      <td>2017-11-25 14:00:00</td>\n",
              "      <td>Good</td>\n",
              "      <td>1920.0</td>\n",
              "    </tr>\n",
              "    <tr>\n",
              "      <th>2</th>\n",
              "      <td>2017-11-25 12:00:00</td>\n",
              "      <td>Good</td>\n",
              "      <td>1543.0</td>\n",
              "    </tr>\n",
              "    <tr>\n",
              "      <th>3</th>\n",
              "      <td>2017-11-04 10:00:00</td>\n",
              "      <td>Good</td>\n",
              "      <td>2512.0</td>\n",
              "    </tr>\n",
              "    <tr>\n",
              "      <th>4</th>\n",
              "      <td>2017-11-11 07:00:00</td>\n",
              "      <td>Good</td>\n",
              "      <td>1440.0</td>\n",
              "    </tr>\n",
              "    <tr>\n",
              "      <th>...</th>\n",
              "      <td>...</td>\n",
              "      <td>...</td>\n",
              "      <td>...</td>\n",
              "    </tr>\n",
              "    <tr>\n",
              "      <th>1063</th>\n",
              "      <td>2017-11-25 11:00:00</td>\n",
              "      <td>Good</td>\n",
              "      <td>0.0</td>\n",
              "    </tr>\n",
              "    <tr>\n",
              "      <th>1064</th>\n",
              "      <td>2017-11-11 10:00:00</td>\n",
              "      <td>Good</td>\n",
              "      <td>1318.0</td>\n",
              "    </tr>\n",
              "    <tr>\n",
              "      <th>1065</th>\n",
              "      <td>2017-11-11 13:00:00</td>\n",
              "      <td>Good</td>\n",
              "      <td>2100.0</td>\n",
              "    </tr>\n",
              "    <tr>\n",
              "      <th>1066</th>\n",
              "      <td>2017-11-11 08:00:00</td>\n",
              "      <td>Good</td>\n",
              "      <td>1380.0</td>\n",
              "    </tr>\n",
              "    <tr>\n",
              "      <th>1067</th>\n",
              "      <td>2017-11-04 16:00:00</td>\n",
              "      <td>Bad</td>\n",
              "      <td>2834.0</td>\n",
              "    </tr>\n",
              "  </tbody>\n",
              "</table>\n",
              "<p>1068 rows × 3 columns</p>\n",
              "</div>"
            ],
            "text/plain": [
              "                 start_ts weather_conditions  duration_seconds\n",
              "0     2017-11-25 16:00:00               Good            2410.0\n",
              "1     2017-11-25 14:00:00               Good            1920.0\n",
              "2     2017-11-25 12:00:00               Good            1543.0\n",
              "3     2017-11-04 10:00:00               Good            2512.0\n",
              "4     2017-11-11 07:00:00               Good            1440.0\n",
              "...                   ...                ...               ...\n",
              "1063  2017-11-25 11:00:00               Good               0.0\n",
              "1064  2017-11-11 10:00:00               Good            1318.0\n",
              "1065  2017-11-11 13:00:00               Good            2100.0\n",
              "1066  2017-11-11 08:00:00               Good            1380.0\n",
              "1067  2017-11-04 16:00:00                Bad            2834.0\n",
              "\n",
              "[1068 rows x 3 columns]"
            ]
          },
          "execution_count": 14,
          "metadata": {},
          "output_type": "execute_result"
        }
      ],
      "source": [
        "# Melihat data pada tabel perjalanan, cuaca, dan waktunya\n",
        "trip_weather_duration"
      ]
    },
    {
      "cell_type": "code",
      "execution_count": null,
      "metadata": {
        "id": "HpRPpSmk3bjl",
        "outputId": "1ed27290-0fc4-4187-ee47-5ae360114410"
      },
      "outputs": [
        {
          "name": "stdout",
          "output_type": "stream",
          "text": [
            "<class 'pandas.core.frame.DataFrame'>\n",
            "RangeIndex: 1068 entries, 0 to 1067\n",
            "Data columns (total 3 columns):\n",
            " #   Column              Non-Null Count  Dtype  \n",
            "---  ------              --------------  -----  \n",
            " 0   start_ts            1068 non-null   object \n",
            " 1   weather_conditions  1068 non-null   object \n",
            " 2   duration_seconds    1068 non-null   float64\n",
            "dtypes: float64(1), object(2)\n",
            "memory usage: 25.2+ KB\n"
          ]
        }
      ],
      "source": [
        "# Melihat informasi keseluruhan perjalanan, cuaca, dan waktunya\n",
        "trip_weather_duration.info()"
      ]
    },
    {
      "cell_type": "code",
      "execution_count": null,
      "metadata": {
        "id": "jLkEH8F43bjm",
        "outputId": "3d6a30d3-a3c1-4f02-b66f-d6b63a6bf0f7"
      },
      "outputs": [
        {
          "data": {
            "text/plain": [
              "start_ts              0\n",
              "weather_conditions    0\n",
              "duration_seconds      0\n",
              "dtype: int64"
            ]
          },
          "execution_count": 16,
          "metadata": {},
          "output_type": "execute_result"
        }
      ],
      "source": [
        "# Melihat jumlah nilai yang hilang untuk semua kolom\n",
        "trip_weather_duration.isna().sum()"
      ]
    },
    {
      "cell_type": "code",
      "execution_count": null,
      "metadata": {
        "id": "mpw6-UZE3bjn",
        "outputId": "e368281e-1aaf-486d-a35b-93ca807b9676"
      },
      "outputs": [
        {
          "data": {
            "text/plain": [
              "197"
            ]
          },
          "execution_count": 17,
          "metadata": {},
          "output_type": "execute_result"
        }
      ],
      "source": [
        "# Melihat jumlah nilai yang duplikasi pada daerah penurunan di chicago\n",
        "trip_weather_duration.duplicated().sum()"
      ]
    },
    {
      "cell_type": "markdown",
      "metadata": {
        "id": "1xxc3Ykw3bjn"
      },
      "source": [
        "Setelah melihat semua informasi yang diperlukan, maka dapat disimpulkan untuk beberapa poin:\n",
        "\n",
        "- tidak mempunyai masalah untuk kolom.\n",
        "- tidak mempunyai masalah untuk tipe data.\n",
        "- tidak mempunyai masalah untuk nilai hilang.\n",
        "- perlu melihat duplikasinya seperti apa, banyak asumsi untuk perjalanan yang sebenarnya bisa jadi kalau data itu tidak duplikasi."
      ]
    },
    {
      "cell_type": "markdown",
      "metadata": {
        "id": "RPlVj6Kn3bjo"
      },
      "source": [
        "Setelah semua tabel data dilihat,dipelajari, dan dianalisa bahwa tabel data hanya mengalami beberapa masalah kecil seperti pada tabel tujuan chicago yang jumlah perjalanannya mempunyai nilai desimal akibat tipe data pada tabel tersebut mengalami permsalahan. Sisanya untuk tabel data taxi company dan waktu cuaca tidak mengalami masalah."
      ]
    },
    {
      "cell_type": "markdown",
      "metadata": {
        "id": "hS9DM4U83bjp"
      },
      "source": [
        "## Pra-Pemrosesan Data"
      ]
    },
    {
      "cell_type": "markdown",
      "metadata": {
        "id": "N34tPRs33bjq"
      },
      "source": [
        "### Memperbaiki data yang salah untuk tabel chicago"
      ]
    },
    {
      "cell_type": "markdown",
      "metadata": {
        "id": "mgbKj14K3bjq"
      },
      "source": [
        "karena ada yang salah untuk kolom `average_trips` pada kolom chicago yang dimana nilainya desimal sehingga membuat datanya menjadi tipe float, maka solusi terbaik untuk memperbaiki data tersebut dengan membulatkan nilai yang desimal ke bilangan keatas semua berapapun nilai desimalnya. Karena tidak mungkin nilai tersebut desimal."
      ]
    },
    {
      "cell_type": "code",
      "execution_count": null,
      "metadata": {
        "id": "0saZP8W23bjr"
      },
      "outputs": [],
      "source": [
        "# Membulatkan nilai desimal dan tipe data pada kolom average_trips ke bilangan keatasnya\n",
        "chicago_destination['average_trips'] = chicago_destination['average_trips'].apply(np.ceil).astype('int')"
      ]
    },
    {
      "cell_type": "code",
      "execution_count": null,
      "metadata": {
        "id": "5cdiYBCl3bjr",
        "outputId": "31aabf75-ea11-4026-8e00-a2faa93e216a"
      },
      "outputs": [
        {
          "data": {
            "text/html": [
              "<div>\n",
              "<style scoped>\n",
              "    .dataframe tbody tr th:only-of-type {\n",
              "        vertical-align: middle;\n",
              "    }\n",
              "\n",
              "    .dataframe tbody tr th {\n",
              "        vertical-align: top;\n",
              "    }\n",
              "\n",
              "    .dataframe thead th {\n",
              "        text-align: right;\n",
              "    }\n",
              "</style>\n",
              "<table border=\"1\" class=\"dataframe\">\n",
              "  <thead>\n",
              "    <tr style=\"text-align: right;\">\n",
              "      <th></th>\n",
              "      <th>dropoff_location_name</th>\n",
              "      <th>average_trips</th>\n",
              "    </tr>\n",
              "  </thead>\n",
              "  <tbody>\n",
              "    <tr>\n",
              "      <th>0</th>\n",
              "      <td>Loop</td>\n",
              "      <td>10728</td>\n",
              "    </tr>\n",
              "    <tr>\n",
              "      <th>1</th>\n",
              "      <td>River North</td>\n",
              "      <td>9524</td>\n",
              "    </tr>\n",
              "    <tr>\n",
              "      <th>2</th>\n",
              "      <td>Streeterville</td>\n",
              "      <td>6665</td>\n",
              "    </tr>\n",
              "    <tr>\n",
              "      <th>3</th>\n",
              "      <td>West Loop</td>\n",
              "      <td>5164</td>\n",
              "    </tr>\n",
              "    <tr>\n",
              "      <th>4</th>\n",
              "      <td>O'Hare</td>\n",
              "      <td>2547</td>\n",
              "    </tr>\n",
              "    <tr>\n",
              "      <th>...</th>\n",
              "      <td>...</td>\n",
              "      <td>...</td>\n",
              "    </tr>\n",
              "    <tr>\n",
              "      <th>89</th>\n",
              "      <td>Mount Greenwood</td>\n",
              "      <td>4</td>\n",
              "    </tr>\n",
              "    <tr>\n",
              "      <th>90</th>\n",
              "      <td>Hegewisch</td>\n",
              "      <td>4</td>\n",
              "    </tr>\n",
              "    <tr>\n",
              "      <th>91</th>\n",
              "      <td>Burnside</td>\n",
              "      <td>3</td>\n",
              "    </tr>\n",
              "    <tr>\n",
              "      <th>92</th>\n",
              "      <td>East Side</td>\n",
              "      <td>2</td>\n",
              "    </tr>\n",
              "    <tr>\n",
              "      <th>93</th>\n",
              "      <td>Riverdale</td>\n",
              "      <td>2</td>\n",
              "    </tr>\n",
              "  </tbody>\n",
              "</table>\n",
              "<p>94 rows × 2 columns</p>\n",
              "</div>"
            ],
            "text/plain": [
              "   dropoff_location_name  average_trips\n",
              "0                   Loop          10728\n",
              "1            River North           9524\n",
              "2          Streeterville           6665\n",
              "3              West Loop           5164\n",
              "4                 O'Hare           2547\n",
              "..                   ...            ...\n",
              "89       Mount Greenwood              4\n",
              "90             Hegewisch              4\n",
              "91              Burnside              3\n",
              "92             East Side              2\n",
              "93             Riverdale              2\n",
              "\n",
              "[94 rows x 2 columns]"
            ]
          },
          "execution_count": 19,
          "metadata": {},
          "output_type": "execute_result"
        }
      ],
      "source": [
        "# mengecek kembali data chicago\n",
        "chicago_destination"
      ]
    },
    {
      "cell_type": "code",
      "execution_count": null,
      "metadata": {
        "id": "uf4SqtH83bjt",
        "outputId": "077397b4-0155-4640-9cbf-4476a93d8096"
      },
      "outputs": [
        {
          "name": "stdout",
          "output_type": "stream",
          "text": [
            "<class 'pandas.core.frame.DataFrame'>\n",
            "RangeIndex: 94 entries, 0 to 93\n",
            "Data columns (total 2 columns):\n",
            " #   Column                 Non-Null Count  Dtype \n",
            "---  ------                 --------------  ----- \n",
            " 0   dropoff_location_name  94 non-null     object\n",
            " 1   average_trips          94 non-null     int64 \n",
            "dtypes: int64(1), object(1)\n",
            "memory usage: 1.6+ KB\n"
          ]
        }
      ],
      "source": [
        "# Mengecek tipe datanya\n",
        "chicago_destination.info()"
      ]
    },
    {
      "cell_type": "markdown",
      "metadata": {
        "id": "rqZzBtJg3bju"
      },
      "source": [
        "Untuk masalah pada tabel data chicago sudah diperbaiki dan siap untuk dilakukan proses selanjutnya. Dan nilainya sudah dibulatkan keatas"
      ]
    },
    {
      "cell_type": "markdown",
      "metadata": {
        "id": "lJQTGBoc3bjw"
      },
      "source": [
        "### Melihat dan menganailisa nilai duplikasi pada data tabel perjalanan, kondisi cuaca, dan waktu"
      ]
    },
    {
      "cell_type": "code",
      "execution_count": null,
      "metadata": {
        "id": "7d_Rxraj3bjy",
        "outputId": "6aa808fb-66ea-4f65-a64e-6b63c9fabbc3"
      },
      "outputs": [
        {
          "data": {
            "text/plain": [
              "197"
            ]
          },
          "execution_count": 21,
          "metadata": {},
          "output_type": "execute_result"
        }
      ],
      "source": [
        "# Melihat jumlah nilai yang duplikasi pada data tabel perjalanan, kondisi cuaca, dan waktu\n",
        "trip_weather_duration.duplicated().sum()"
      ]
    },
    {
      "cell_type": "code",
      "execution_count": null,
      "metadata": {
        "id": "DlR25lEe3bjy",
        "outputId": "05b1341d-3155-4d10-d70e-98b9d57b4df3"
      },
      "outputs": [
        {
          "data": {
            "text/html": [
              "<div>\n",
              "<style scoped>\n",
              "    .dataframe tbody tr th:only-of-type {\n",
              "        vertical-align: middle;\n",
              "    }\n",
              "\n",
              "    .dataframe tbody tr th {\n",
              "        vertical-align: top;\n",
              "    }\n",
              "\n",
              "    .dataframe thead th {\n",
              "        text-align: right;\n",
              "    }\n",
              "</style>\n",
              "<table border=\"1\" class=\"dataframe\">\n",
              "  <thead>\n",
              "    <tr style=\"text-align: right;\">\n",
              "      <th></th>\n",
              "      <th>start_ts</th>\n",
              "      <th>weather_conditions</th>\n",
              "      <th>duration_seconds</th>\n",
              "    </tr>\n",
              "  </thead>\n",
              "  <tbody>\n",
              "    <tr>\n",
              "      <th>62</th>\n",
              "      <td>2017-11-11 06:00:00</td>\n",
              "      <td>Good</td>\n",
              "      <td>1260.0</td>\n",
              "    </tr>\n",
              "    <tr>\n",
              "      <th>74</th>\n",
              "      <td>2017-11-11 08:00:00</td>\n",
              "      <td>Good</td>\n",
              "      <td>1380.0</td>\n",
              "    </tr>\n",
              "    <tr>\n",
              "      <th>76</th>\n",
              "      <td>2017-11-04 09:00:00</td>\n",
              "      <td>Good</td>\n",
              "      <td>1380.0</td>\n",
              "    </tr>\n",
              "    <tr>\n",
              "      <th>117</th>\n",
              "      <td>2017-11-11 07:00:00</td>\n",
              "      <td>Good</td>\n",
              "      <td>1380.0</td>\n",
              "    </tr>\n",
              "    <tr>\n",
              "      <th>119</th>\n",
              "      <td>2017-11-04 14:00:00</td>\n",
              "      <td>Good</td>\n",
              "      <td>3300.0</td>\n",
              "    </tr>\n",
              "    <tr>\n",
              "      <th>...</th>\n",
              "      <td>...</td>\n",
              "      <td>...</td>\n",
              "      <td>...</td>\n",
              "    </tr>\n",
              "    <tr>\n",
              "      <th>1054</th>\n",
              "      <td>2017-11-11 07:00:00</td>\n",
              "      <td>Good</td>\n",
              "      <td>1380.0</td>\n",
              "    </tr>\n",
              "    <tr>\n",
              "      <th>1058</th>\n",
              "      <td>2017-11-25 12:00:00</td>\n",
              "      <td>Good</td>\n",
              "      <td>1440.0</td>\n",
              "    </tr>\n",
              "    <tr>\n",
              "      <th>1062</th>\n",
              "      <td>2017-11-11 06:00:00</td>\n",
              "      <td>Good</td>\n",
              "      <td>1500.0</td>\n",
              "    </tr>\n",
              "    <tr>\n",
              "      <th>1065</th>\n",
              "      <td>2017-11-11 13:00:00</td>\n",
              "      <td>Good</td>\n",
              "      <td>2100.0</td>\n",
              "    </tr>\n",
              "    <tr>\n",
              "      <th>1066</th>\n",
              "      <td>2017-11-11 08:00:00</td>\n",
              "      <td>Good</td>\n",
              "      <td>1380.0</td>\n",
              "    </tr>\n",
              "  </tbody>\n",
              "</table>\n",
              "<p>197 rows × 3 columns</p>\n",
              "</div>"
            ],
            "text/plain": [
              "                 start_ts weather_conditions  duration_seconds\n",
              "62    2017-11-11 06:00:00               Good            1260.0\n",
              "74    2017-11-11 08:00:00               Good            1380.0\n",
              "76    2017-11-04 09:00:00               Good            1380.0\n",
              "117   2017-11-11 07:00:00               Good            1380.0\n",
              "119   2017-11-04 14:00:00               Good            3300.0\n",
              "...                   ...                ...               ...\n",
              "1054  2017-11-11 07:00:00               Good            1380.0\n",
              "1058  2017-11-25 12:00:00               Good            1440.0\n",
              "1062  2017-11-11 06:00:00               Good            1500.0\n",
              "1065  2017-11-11 13:00:00               Good            2100.0\n",
              "1066  2017-11-11 08:00:00               Good            1380.0\n",
              "\n",
              "[197 rows x 3 columns]"
            ]
          },
          "execution_count": 22,
          "metadata": {},
          "output_type": "execute_result"
        }
      ],
      "source": [
        "# Melihat bagaimana nilai duplikasi seperti apa\n",
        "trip_weather_duration.loc[trip_weather_duration.duplicated()]"
      ]
    },
    {
      "cell_type": "markdown",
      "metadata": {
        "id": "j8VKhmDc3bjz"
      },
      "source": [
        "Setelah melihat data yang duplikasi maka, ada penjelasan yang harus dijelaskan sebelum memutuskan solusi seperti apa untuk duplikasinya.\n",
        "\n",
        "Adapun penjelasannya, yaitu:\n",
        "- Bahwa setelah melihat datanya bahwa data tersebut bisa jadi ada beberapa taxi yang melakukan perjalanan dalam tanggal/jam keberangkatan, daerah, kondisi cuaca, dan durasi yang sama untuk segala kondisinya atau sebagian besar kondisinya adalah sama. Karena tidak mungkin sebuah perusahaan taxi hanya mempunyai satu taxi untuk melakukan operasi bisnisnya.\n",
        "\n",
        "Jadi solusi yang saya lakukan berdasarkan analisa dan penjelasannya maka keputusan yang saya ambil adalah 'tidak akan di drop/hapus/dirubah'."
      ]
    },
    {
      "cell_type": "code",
      "execution_count": null,
      "metadata": {
        "id": "l6YGthMH3bjz",
        "outputId": "15749184-ae98-4bb1-cc9b-7d2bb1491eca"
      },
      "outputs": [
        {
          "name": "stdout",
          "output_type": "stream",
          "text": [
            "<class 'pandas.core.frame.DataFrame'>\n",
            "RangeIndex: 1068 entries, 0 to 1067\n",
            "Data columns (total 3 columns):\n",
            " #   Column              Non-Null Count  Dtype  \n",
            "---  ------              --------------  -----  \n",
            " 0   start_ts            1068 non-null   object \n",
            " 1   weather_conditions  1068 non-null   object \n",
            " 2   duration_seconds    1068 non-null   float64\n",
            "dtypes: float64(1), object(2)\n",
            "memory usage: 25.2+ KB\n"
          ]
        }
      ],
      "source": [
        "# Melihat tipe data untuk data tabel perjalanan, kondisi cuaca, dan waktu\n",
        "trip_weather_duration.info()"
      ]
    },
    {
      "cell_type": "markdown",
      "metadata": {
        "id": "Me7cHkNj3bj0"
      },
      "source": [
        "pada kolom `start_ts` tipe datanya adalah object, tetapi seharusnya adalah tipe data waktu. Maka perlu merubah tipe datanya."
      ]
    },
    {
      "cell_type": "code",
      "execution_count": null,
      "metadata": {
        "id": "NIi-6C4y3bj0"
      },
      "outputs": [],
      "source": [
        "# Merubah tipe data untuk kolom start_ts\n",
        "trip_weather_duration['start_ts'] = pd.to_datetime(trip_weather_duration['start_ts'], format='%Y-%m-%d %H:%M:%S')"
      ]
    },
    {
      "cell_type": "code",
      "execution_count": null,
      "metadata": {
        "id": "3N_PLQZk3bj1",
        "outputId": "143070f4-7baf-4bc5-a2a9-c84384924319"
      },
      "outputs": [
        {
          "name": "stdout",
          "output_type": "stream",
          "text": [
            "<class 'pandas.core.frame.DataFrame'>\n",
            "RangeIndex: 1068 entries, 0 to 1067\n",
            "Data columns (total 3 columns):\n",
            " #   Column              Non-Null Count  Dtype         \n",
            "---  ------              --------------  -----         \n",
            " 0   start_ts            1068 non-null   datetime64[ns]\n",
            " 1   weather_conditions  1068 non-null   object        \n",
            " 2   duration_seconds    1068 non-null   float64       \n",
            "dtypes: datetime64[ns](1), float64(1), object(1)\n",
            "memory usage: 25.2+ KB\n"
          ]
        }
      ],
      "source": [
        "# Mengecek kembali untuk tipe datanya\n",
        "trip_weather_duration.info()"
      ]
    },
    {
      "cell_type": "code",
      "execution_count": null,
      "metadata": {
        "id": "i_CgkXOf3bj1",
        "outputId": "5d204f96-b45f-4b6e-ad97-e0cb82893050"
      },
      "outputs": [
        {
          "data": {
            "text/html": [
              "<div>\n",
              "<style scoped>\n",
              "    .dataframe tbody tr th:only-of-type {\n",
              "        vertical-align: middle;\n",
              "    }\n",
              "\n",
              "    .dataframe tbody tr th {\n",
              "        vertical-align: top;\n",
              "    }\n",
              "\n",
              "    .dataframe thead th {\n",
              "        text-align: right;\n",
              "    }\n",
              "</style>\n",
              "<table border=\"1\" class=\"dataframe\">\n",
              "  <thead>\n",
              "    <tr style=\"text-align: right;\">\n",
              "      <th></th>\n",
              "      <th>duration_seconds</th>\n",
              "    </tr>\n",
              "  </thead>\n",
              "  <tbody>\n",
              "    <tr>\n",
              "      <th>count</th>\n",
              "      <td>1068.000000</td>\n",
              "    </tr>\n",
              "    <tr>\n",
              "      <th>mean</th>\n",
              "      <td>2071.731273</td>\n",
              "    </tr>\n",
              "    <tr>\n",
              "      <th>std</th>\n",
              "      <td>769.461125</td>\n",
              "    </tr>\n",
              "    <tr>\n",
              "      <th>min</th>\n",
              "      <td>0.000000</td>\n",
              "    </tr>\n",
              "    <tr>\n",
              "      <th>25%</th>\n",
              "      <td>1438.250000</td>\n",
              "    </tr>\n",
              "    <tr>\n",
              "      <th>50%</th>\n",
              "      <td>1980.000000</td>\n",
              "    </tr>\n",
              "    <tr>\n",
              "      <th>75%</th>\n",
              "      <td>2580.000000</td>\n",
              "    </tr>\n",
              "    <tr>\n",
              "      <th>max</th>\n",
              "      <td>7440.000000</td>\n",
              "    </tr>\n",
              "  </tbody>\n",
              "</table>\n",
              "</div>"
            ],
            "text/plain": [
              "       duration_seconds\n",
              "count       1068.000000\n",
              "mean        2071.731273\n",
              "std          769.461125\n",
              "min            0.000000\n",
              "25%         1438.250000\n",
              "50%         1980.000000\n",
              "75%         2580.000000\n",
              "max         7440.000000"
            ]
          },
          "execution_count": 26,
          "metadata": {},
          "output_type": "execute_result"
        }
      ],
      "source": [
        "# Melihat persebaran data dari describe pada data tabel perjalanan, kondisi cuaca, dan waktu\n",
        "trip_weather_duration.describe()"
      ]
    },
    {
      "cell_type": "markdown",
      "metadata": {
        "id": "3tDysvUz3bj2"
      },
      "source": [
        "tipe data tidak bersamalah karena pada nilai 25% ada data yang perjalannya mempunyai milisecond/mili ddetik."
      ]
    },
    {
      "cell_type": "markdown",
      "metadata": {
        "id": "Ho7xZewU3bj4"
      },
      "source": [
        "### Melihat persebaran nilai pada data tabel perjalanan, kondisi cuaca, dan waktu"
      ]
    },
    {
      "cell_type": "markdown",
      "metadata": {
        "id": "Xeot3cG03bj4"
      },
      "source": [
        "Untuk proses uji hipotesis nanti, maka perlu melihat persebaran nilainya untuk mengidentifikasi apakah ada nilai ekstrim/outlier atau tidak agar nanti pada uji hipotesisnya tidak bermasalah."
      ]
    },
    {
      "cell_type": "code",
      "execution_count": null,
      "metadata": {
        "id": "TW_Ui17r3bj5",
        "outputId": "c6573f07-1a3f-4b54-a38e-22bdb2643a78"
      },
      "outputs": [
        {
          "data": {
            "text/html": [
              "<div>\n",
              "<style scoped>\n",
              "    .dataframe tbody tr th:only-of-type {\n",
              "        vertical-align: middle;\n",
              "    }\n",
              "\n",
              "    .dataframe tbody tr th {\n",
              "        vertical-align: top;\n",
              "    }\n",
              "\n",
              "    .dataframe thead th {\n",
              "        text-align: right;\n",
              "    }\n",
              "</style>\n",
              "<table border=\"1\" class=\"dataframe\">\n",
              "  <thead>\n",
              "    <tr style=\"text-align: right;\">\n",
              "      <th></th>\n",
              "      <th>duration_seconds</th>\n",
              "    </tr>\n",
              "  </thead>\n",
              "  <tbody>\n",
              "    <tr>\n",
              "      <th>count</th>\n",
              "      <td>1068.000000</td>\n",
              "    </tr>\n",
              "    <tr>\n",
              "      <th>mean</th>\n",
              "      <td>2071.731273</td>\n",
              "    </tr>\n",
              "    <tr>\n",
              "      <th>std</th>\n",
              "      <td>769.461125</td>\n",
              "    </tr>\n",
              "    <tr>\n",
              "      <th>min</th>\n",
              "      <td>0.000000</td>\n",
              "    </tr>\n",
              "    <tr>\n",
              "      <th>25%</th>\n",
              "      <td>1438.250000</td>\n",
              "    </tr>\n",
              "    <tr>\n",
              "      <th>50%</th>\n",
              "      <td>1980.000000</td>\n",
              "    </tr>\n",
              "    <tr>\n",
              "      <th>75%</th>\n",
              "      <td>2580.000000</td>\n",
              "    </tr>\n",
              "    <tr>\n",
              "      <th>max</th>\n",
              "      <td>7440.000000</td>\n",
              "    </tr>\n",
              "  </tbody>\n",
              "</table>\n",
              "</div>"
            ],
            "text/plain": [
              "       duration_seconds\n",
              "count       1068.000000\n",
              "mean        2071.731273\n",
              "std          769.461125\n",
              "min            0.000000\n",
              "25%         1438.250000\n",
              "50%         1980.000000\n",
              "75%         2580.000000\n",
              "max         7440.000000"
            ]
          },
          "execution_count": 27,
          "metadata": {},
          "output_type": "execute_result"
        }
      ],
      "source": [
        "# distribusi nilai pada data tabel perjalanan, cuaca, waktu\n",
        "trip_weather_duration.describe()"
      ]
    },
    {
      "cell_type": "code",
      "execution_count": null,
      "metadata": {
        "id": "OhVGDI_X3bj5",
        "outputId": "d910eea2-3706-452f-9df4-79a93873c368"
      },
      "outputs": [
        {
          "data": {
            "text/plain": [
              "<AxesSubplot:xlabel='duration_seconds', ylabel='weather_conditions'>"
            ]
          },
          "execution_count": 28,
          "metadata": {},
          "output_type": "execute_result"
        },
        {
          "data": {
            "image/png": "[encoded data removed]",
            "text/plain": [
              "<Figure size 432x288 with 1 Axes>"
            ]
          },
          "metadata": {
            "needs_background": "light"
          },
          "output_type": "display_data"
        }
      ],
      "source": [
        "# melihat persebaran data dengan boxplot\n",
        "sns.boxplot(data=trip_weather_duration, x='duration_seconds', y='weather_conditions')"
      ]
    },
    {
      "cell_type": "markdown",
      "metadata": {
        "id": "DuUkJqRs3bj5"
      },
      "source": [
        "Untuk kondisi Good dan Bad terdapat nilai ekstrim/outlier, maka perlu dibersihkan nilai outliernya."
      ]
    },
    {
      "cell_type": "code",
      "execution_count": null,
      "metadata": {
        "id": "r4h8TIhA3bj6",
        "outputId": "408e28fc-00e6-4191-90b3-16de84fbe7eb"
      },
      "outputs": [
        {
          "name": "stdout",
          "output_type": "stream",
          "text": [
            "nilai Q1: 1438.25\n",
            "nilai Q3: 2580.0\n",
            "IQR: 1141.75\n",
            "nilai whisker bawah: -274.375\n",
            "nilai whisker atas: 4292.625\n"
          ]
        }
      ],
      "source": [
        "# Membersihkan Outlier atau nilai Ekstrim\n",
        "# Whiskers bawah adalah nilai yang lebih rendah dari kumpulan data yang berada dalam IQR\n",
        "# Whiskers atas adalah nilai yang lebih tinggi dari kumpulan data yang berada dalam IQR \n",
        "\n",
        "Q1 = trip_weather_duration['duration_seconds'].quantile(0.25)\n",
        "Q3 = trip_weather_duration['duration_seconds'].quantile(0.75)\n",
        "IQR = Q3 - Q1\n",
        "lower_whisker = Q1 - (1.5 * IQR)\n",
        "upper_whisker = Q3 + (1.5 * IQR)\n",
        "\n",
        "print('nilai Q1:', Q1)\n",
        "print('nilai Q3:', Q3)\n",
        "print('IQR:', IQR)\n",
        "print('nilai whisker bawah:', lower_whisker)\n",
        "print('nilai whisker atas:', upper_whisker)"
      ]
    },
    {
      "cell_type": "code",
      "execution_count": null,
      "metadata": {
        "id": "0a-4dkn03bj7"
      },
      "outputs": [],
      "source": [
        "# membuat varibel baru yang dimana nilai outlier/ekstrim dihapus\n",
        "trip_weather_duration_without_outlier = trip_weather_duration[(trip_weather_duration['duration_seconds'] >\n",
        "                                                              lower_whisker) & \n",
        "                                                              (trip_weather_duration['duration_seconds'] <\n",
        "                                                               upper_whisker)]"
      ]
    },
    {
      "cell_type": "code",
      "execution_count": null,
      "metadata": {
        "id": "Syf6T0H13bj7",
        "outputId": "563c3625-83b9-4bb5-d5a2-5b36204de23b"
      },
      "outputs": [
        {
          "data": {
            "text/plain": [
              "<AxesSubplot:xlabel='duration_seconds', ylabel='weather_conditions'>"
            ]
          },
          "execution_count": 31,
          "metadata": {},
          "output_type": "execute_result"
        },
        {
          "data": {
            "image/png": "[encoded data removed]",
            "text/plain": [
              "<Figure size 432x288 with 1 Axes>"
            ]
          },
          "metadata": {
            "needs_background": "light"
          },
          "output_type": "display_data"
        }
      ],
      "source": [
        "# melihat persebaran data dengan boxplot dimana outlier/ekstrim kondisi sudah dihapus\n",
        "sns.boxplot(data=trip_weather_duration_without_outlier, x='duration_seconds', y='weather_conditions')"
      ]
    },
    {
      "cell_type": "markdown",
      "metadata": {
        "id": "kReTNw3S3bj8"
      },
      "source": [
        "Setelah dibersihkan untuk nilai outlier / nilai ekstrim bahwa persebaran nilai pada data tersebut jaduh lebih baik dan siap untuk dilakukan proses selanjutnya."
      ]
    },
    {
      "cell_type": "markdown",
      "metadata": {
        "id": "SymNPnOF3bj-"
      },
      "source": [
        "## Analisis Data Eksplorasi"
      ]
    },
    {
      "cell_type": "markdown",
      "metadata": {
        "id": "mIABpBa33bj_"
      },
      "source": [
        "### Mengidentifikasi 10 wilayah teratas yang dijadikan sebagai titik pengantaran"
      ]
    },
    {
      "cell_type": "markdown",
      "metadata": {
        "id": "9DfQU36y3bkA"
      },
      "source": [
        "Perlu mengidentifikasi 10 wilayah teratas dengan cara mengidentifikasi rata-rata pengantaran/penurunan yang mempunyai rata-rata teratas sehingga dapat diketahui wilayahnya. "
      ]
    },
    {
      "cell_type": "code",
      "execution_count": null,
      "metadata": {
        "id": "sCfo1Z5r3bkB"
      },
      "outputs": [],
      "source": [
        "# Membuat variabel untuk mengidentifikasi nila rata-rata penurunan terbesarnya\n",
        "average_trips_top_ten = chicago_destination.sort_values('average_trips', ascending=False).head(10)"
      ]
    },
    {
      "cell_type": "code",
      "execution_count": null,
      "metadata": {
        "id": "_5m13w9u3bkC",
        "outputId": "c532ac15-5f05-48d8-9fb3-e638bb882166"
      },
      "outputs": [
        {
          "data": {
            "text/html": [
              "<div>\n",
              "<style scoped>\n",
              "    .dataframe tbody tr th:only-of-type {\n",
              "        vertical-align: middle;\n",
              "    }\n",
              "\n",
              "    .dataframe tbody tr th {\n",
              "        vertical-align: top;\n",
              "    }\n",
              "\n",
              "    .dataframe thead th {\n",
              "        text-align: right;\n",
              "    }\n",
              "</style>\n",
              "<table border=\"1\" class=\"dataframe\">\n",
              "  <thead>\n",
              "    <tr style=\"text-align: right;\">\n",
              "      <th></th>\n",
              "      <th>dropoff_location_name</th>\n",
              "      <th>average_trips</th>\n",
              "    </tr>\n",
              "  </thead>\n",
              "  <tbody>\n",
              "    <tr>\n",
              "      <th>0</th>\n",
              "      <td>Loop</td>\n",
              "      <td>10728</td>\n",
              "    </tr>\n",
              "    <tr>\n",
              "      <th>1</th>\n",
              "      <td>River North</td>\n",
              "      <td>9524</td>\n",
              "    </tr>\n",
              "    <tr>\n",
              "      <th>2</th>\n",
              "      <td>Streeterville</td>\n",
              "      <td>6665</td>\n",
              "    </tr>\n",
              "    <tr>\n",
              "      <th>3</th>\n",
              "      <td>West Loop</td>\n",
              "      <td>5164</td>\n",
              "    </tr>\n",
              "    <tr>\n",
              "      <th>4</th>\n",
              "      <td>O'Hare</td>\n",
              "      <td>2547</td>\n",
              "    </tr>\n",
              "    <tr>\n",
              "      <th>5</th>\n",
              "      <td>Lake View</td>\n",
              "      <td>2421</td>\n",
              "    </tr>\n",
              "    <tr>\n",
              "      <th>6</th>\n",
              "      <td>Grant Park</td>\n",
              "      <td>2069</td>\n",
              "    </tr>\n",
              "    <tr>\n",
              "      <th>7</th>\n",
              "      <td>Museum Campus</td>\n",
              "      <td>1510</td>\n",
              "    </tr>\n",
              "    <tr>\n",
              "      <th>8</th>\n",
              "      <td>Gold Coast</td>\n",
              "      <td>1365</td>\n",
              "    </tr>\n",
              "    <tr>\n",
              "      <th>9</th>\n",
              "      <td>Sheffield &amp; DePaul</td>\n",
              "      <td>1260</td>\n",
              "    </tr>\n",
              "  </tbody>\n",
              "</table>\n",
              "</div>"
            ],
            "text/plain": [
              "  dropoff_location_name  average_trips\n",
              "0                  Loop          10728\n",
              "1           River North           9524\n",
              "2         Streeterville           6665\n",
              "3             West Loop           5164\n",
              "4                O'Hare           2547\n",
              "5             Lake View           2421\n",
              "6            Grant Park           2069\n",
              "7         Museum Campus           1510\n",
              "8            Gold Coast           1365\n",
              "9    Sheffield & DePaul           1260"
            ]
          },
          "execution_count": 33,
          "metadata": {},
          "output_type": "execute_result"
        }
      ],
      "source": [
        "# Melihat hasilnya\n",
        "average_trips_top_ten"
      ]
    },
    {
      "cell_type": "markdown",
      "metadata": {
        "id": "3Eww-rE43bkC"
      },
      "source": [
        "Setelah melakukan identifikasi untuk melihat nilai rata-rata terbsesar untuk titik penurunan, maka didapatkan daerah-daerah chicago yang menjadi daerah 10 teratas untuk rata-rata titik penurnan terbesar. Adapun daerahnya sesuai urutaran, yaitu:\n",
        "\n",
        "1. Loop\n",
        "2. River North\n",
        "3. Streeterville\n",
        "4. West Loop\n",
        "5. O'Hare\n",
        "6. Lake View\n",
        "7. Grant Park\n",
        "8. Museum Campus\n",
        "9. Gold Coast\n",
        "10. Sheffield & DePaul\n",
        "\n",
        "Dengan nilai teratas yaitu daerah `Loop` yang mempunyai rata-rata sebesar 10.728 dan daerah `Sheffield & DePaul` yang mempunyai rata-rata sebesar 1260 yang menjadi terbawah untuk 10 daerah pada selama bulan November 2017."
      ]
    },
    {
      "cell_type": "markdown",
      "metadata": {
        "id": "-uOu-gr53bkD"
      },
      "source": [
        "### Menampilkan Grafik"
      ]
    },
    {
      "cell_type": "markdown",
      "metadata": {
        "id": "yMm2ztb-3bkE"
      },
      "source": [
        "Diminta menampilkan grafik untuk perusahaan taksi & jumlah perjalanan dan 10 wilayah teratas berdasarkan jumlah pengantaran/penurunan."
      ]
    },
    {
      "cell_type": "markdown",
      "metadata": {
        "id": "1xpiC67p3bkE"
      },
      "source": [
        "#### Membuat dan menampilkan grafik perusahaan taksi & jumlah perjalanan"
      ]
    },
    {
      "cell_type": "markdown",
      "metadata": {
        "id": "Rx2FDyww3bkF"
      },
      "source": [
        "Karena terdapat 64 perusahaan taxi, maka akan mengambil 10 teratas saja untuk menampilkan grafiknya."
      ]
    },
    {
      "cell_type": "code",
      "execution_count": null,
      "metadata": {
        "id": "pQBdMSj13bkF"
      },
      "outputs": [],
      "source": [
        "# Membuat variabel untuk perusaahn taksi & jumlah perjalannya\n",
        "top_10_taxi_company = taxi_company.sort_values('trips_amount', ascending=False).head(10)"
      ]
    },
    {
      "cell_type": "code",
      "execution_count": null,
      "metadata": {
        "id": "NeI45kgw3bkG",
        "outputId": "169cadbd-e6c1-4137-9996-9abeec80eeb1"
      },
      "outputs": [
        {
          "data": {
            "text/html": [
              "<div>\n",
              "<style scoped>\n",
              "    .dataframe tbody tr th:only-of-type {\n",
              "        vertical-align: middle;\n",
              "    }\n",
              "\n",
              "    .dataframe tbody tr th {\n",
              "        vertical-align: top;\n",
              "    }\n",
              "\n",
              "    .dataframe thead th {\n",
              "        text-align: right;\n",
              "    }\n",
              "</style>\n",
              "<table border=\"1\" class=\"dataframe\">\n",
              "  <thead>\n",
              "    <tr style=\"text-align: right;\">\n",
              "      <th></th>\n",
              "      <th>company_name</th>\n",
              "      <th>trips_amount</th>\n",
              "    </tr>\n",
              "  </thead>\n",
              "  <tbody>\n",
              "    <tr>\n",
              "      <th>0</th>\n",
              "      <td>Flash Cab</td>\n",
              "      <td>19558</td>\n",
              "    </tr>\n",
              "    <tr>\n",
              "      <th>1</th>\n",
              "      <td>Taxi Affiliation Services</td>\n",
              "      <td>11422</td>\n",
              "    </tr>\n",
              "    <tr>\n",
              "      <th>2</th>\n",
              "      <td>Medallion Leasing</td>\n",
              "      <td>10367</td>\n",
              "    </tr>\n",
              "    <tr>\n",
              "      <th>3</th>\n",
              "      <td>Yellow Cab</td>\n",
              "      <td>9888</td>\n",
              "    </tr>\n",
              "    <tr>\n",
              "      <th>4</th>\n",
              "      <td>Taxi Affiliation Service Yellow</td>\n",
              "      <td>9299</td>\n",
              "    </tr>\n",
              "    <tr>\n",
              "      <th>5</th>\n",
              "      <td>Chicago Carriage Cab Corp</td>\n",
              "      <td>9181</td>\n",
              "    </tr>\n",
              "    <tr>\n",
              "      <th>6</th>\n",
              "      <td>City Service</td>\n",
              "      <td>8448</td>\n",
              "    </tr>\n",
              "    <tr>\n",
              "      <th>7</th>\n",
              "      <td>Sun Taxi</td>\n",
              "      <td>7701</td>\n",
              "    </tr>\n",
              "    <tr>\n",
              "      <th>8</th>\n",
              "      <td>Star North Management LLC</td>\n",
              "      <td>7455</td>\n",
              "    </tr>\n",
              "    <tr>\n",
              "      <th>9</th>\n",
              "      <td>Blue Ribbon Taxi Association Inc.</td>\n",
              "      <td>5953</td>\n",
              "    </tr>\n",
              "  </tbody>\n",
              "</table>\n",
              "</div>"
            ],
            "text/plain": [
              "                        company_name  trips_amount\n",
              "0                          Flash Cab         19558\n",
              "1          Taxi Affiliation Services         11422\n",
              "2                  Medallion Leasing         10367\n",
              "3                         Yellow Cab          9888\n",
              "4    Taxi Affiliation Service Yellow          9299\n",
              "5          Chicago Carriage Cab Corp          9181\n",
              "6                       City Service          8448\n",
              "7                           Sun Taxi          7701\n",
              "8          Star North Management LLC          7455\n",
              "9  Blue Ribbon Taxi Association Inc.          5953"
            ]
          },
          "execution_count": 35,
          "metadata": {},
          "output_type": "execute_result"
        }
      ],
      "source": [
        "# Menampilkan hasil variabelnya untuk 10 teratas\n",
        "top_10_taxi_company"
      ]
    },
    {
      "cell_type": "code",
      "execution_count": null,
      "metadata": {
        "id": "eDpNubvU3bkG",
        "outputId": "94c8239e-f30e-4e92-f9a6-6900c786cb63"
      },
      "outputs": [
        {
          "data": {
            "image/png": "[encoded data removed]",
            "text/plain": [
              "<Figure size 720x576 with 1 Axes>"
            ]
          },
          "metadata": {
            "needs_background": "light"
          },
          "output_type": "display_data"
        }
      ],
      "source": [
        "# Membuat grafik untuk perusahaan taksi & jumlah perjalanannya\n",
        "plt.figure(figsize=(10,8))\n",
        "sns.barplot(data=top_10_taxi_company, x='trips_amount', y='company_name', orient='h');"
      ]
    },
    {
      "cell_type": "markdown",
      "metadata": {
        "id": "YN5O1KyR3bkH"
      },
      "source": [
        "Setelah membuat grafiknya maka terlihat dengan jelas 10 perusahaan yang mempunyai jumlah perjalanan terbanyak pada tanggal 15-16 Novomber 2017, adapun perusahaaanya yaitu:\n",
        "\n",
        "1. Flash Cab\n",
        "2. Taxi Affiliation Services\n",
        "3. Medallion Leasing\n",
        "4. Yellow Cab\n",
        "5. Taxi Affiliation Service Yellow\n",
        "6. Chicago Carriage Cab Corp\n",
        "7. City Service\n",
        "8. Sun Taxi\n",
        "9. Star North Management LLC\n",
        "10. Blue Ribbon Taxi Association Inc.\n",
        "\n",
        "Dengan nilai terbanyak pada perusahaan `Flas Cab` dengan nilai sebesar 19558 dan perusahaan `Blue Ribbon Taxi Association Inc.` dengan nilai sebesar 5953 dengan nilai paling sedikit untuk 10 perusahaan teratas."
      ]
    },
    {
      "cell_type": "markdown",
      "metadata": {
        "id": "rKj2nLul3bkI"
      },
      "source": [
        "#### Membuat dan menampilkan grafik 10 wilayah teratas yang dijadikan sebagai titik pengantaran"
      ]
    },
    {
      "cell_type": "code",
      "execution_count": null,
      "metadata": {
        "id": "hYeIhBhi3bkJ",
        "outputId": "35a8a3ab-ce7c-44c6-d1b4-4a9a2f046e99"
      },
      "outputs": [
        {
          "data": {
            "text/html": [
              "<div>\n",
              "<style scoped>\n",
              "    .dataframe tbody tr th:only-of-type {\n",
              "        vertical-align: middle;\n",
              "    }\n",
              "\n",
              "    .dataframe tbody tr th {\n",
              "        vertical-align: top;\n",
              "    }\n",
              "\n",
              "    .dataframe thead th {\n",
              "        text-align: right;\n",
              "    }\n",
              "</style>\n",
              "<table border=\"1\" class=\"dataframe\">\n",
              "  <thead>\n",
              "    <tr style=\"text-align: right;\">\n",
              "      <th></th>\n",
              "      <th>dropoff_location_name</th>\n",
              "      <th>average_trips</th>\n",
              "    </tr>\n",
              "  </thead>\n",
              "  <tbody>\n",
              "    <tr>\n",
              "      <th>0</th>\n",
              "      <td>Loop</td>\n",
              "      <td>10728</td>\n",
              "    </tr>\n",
              "    <tr>\n",
              "      <th>1</th>\n",
              "      <td>River North</td>\n",
              "      <td>9524</td>\n",
              "    </tr>\n",
              "    <tr>\n",
              "      <th>2</th>\n",
              "      <td>Streeterville</td>\n",
              "      <td>6665</td>\n",
              "    </tr>\n",
              "    <tr>\n",
              "      <th>3</th>\n",
              "      <td>West Loop</td>\n",
              "      <td>5164</td>\n",
              "    </tr>\n",
              "    <tr>\n",
              "      <th>4</th>\n",
              "      <td>O'Hare</td>\n",
              "      <td>2547</td>\n",
              "    </tr>\n",
              "    <tr>\n",
              "      <th>5</th>\n",
              "      <td>Lake View</td>\n",
              "      <td>2421</td>\n",
              "    </tr>\n",
              "    <tr>\n",
              "      <th>6</th>\n",
              "      <td>Grant Park</td>\n",
              "      <td>2069</td>\n",
              "    </tr>\n",
              "    <tr>\n",
              "      <th>7</th>\n",
              "      <td>Museum Campus</td>\n",
              "      <td>1510</td>\n",
              "    </tr>\n",
              "    <tr>\n",
              "      <th>8</th>\n",
              "      <td>Gold Coast</td>\n",
              "      <td>1365</td>\n",
              "    </tr>\n",
              "    <tr>\n",
              "      <th>9</th>\n",
              "      <td>Sheffield &amp; DePaul</td>\n",
              "      <td>1260</td>\n",
              "    </tr>\n",
              "  </tbody>\n",
              "</table>\n",
              "</div>"
            ],
            "text/plain": [
              "  dropoff_location_name  average_trips\n",
              "0                  Loop          10728\n",
              "1           River North           9524\n",
              "2         Streeterville           6665\n",
              "3             West Loop           5164\n",
              "4                O'Hare           2547\n",
              "5             Lake View           2421\n",
              "6            Grant Park           2069\n",
              "7         Museum Campus           1510\n",
              "8            Gold Coast           1365\n",
              "9    Sheffield & DePaul           1260"
            ]
          },
          "execution_count": 37,
          "metadata": {},
          "output_type": "execute_result"
        }
      ],
      "source": [
        "# Melihat 10 wilayah teratas\n",
        "average_trips_top_ten"
      ]
    },
    {
      "cell_type": "code",
      "execution_count": null,
      "metadata": {
        "id": "4tYexqdI3bkJ",
        "outputId": "6ac6a6ac-938a-4b2c-c824-74471a769122"
      },
      "outputs": [
        {
          "data": {
            "image/png": "[encoded data removed]",
            "text/plain": [
              "<Figure size 720x576 with 1 Axes>"
            ]
          },
          "metadata": {
            "needs_background": "light"
          },
          "output_type": "display_data"
        }
      ],
      "source": [
        "# Membuat grafik untuk perusahaan taksi & jumlah perjalanannya\n",
        "plt.figure(figsize=(10,8))\n",
        "sns.barplot(data=average_trips_top_ten, x='dropoff_location_name', y='average_trips', orient='v')\n",
        "plt.xticks(rotation=45);"
      ]
    },
    {
      "cell_type": "markdown",
      "metadata": {
        "id": "ES-VbP-q3bkK"
      },
      "source": [
        "Setelah membuat grafiknya maka terlihat dengan jelas 10 daerah chicago yang menjadi daerah 10 teratas untuk rata-rata titik penurunan dengan nilai rata-rata terbesar, adapun daerah penurunannya yaitu:\n",
        "\n",
        "1. Loop\n",
        "2. River North\n",
        "3. Streeterville\n",
        "4. West Loop\n",
        "5. O'Hare\n",
        "6. Lake View\n",
        "7. Grant Park\n",
        "8. Museum Campus\n",
        "9. Gold Coast\n",
        "10. Sheffield & DePaul\n",
        "\n",
        "Dengan nilai teratas yaitu daerah `Loop` yang mempunyai rata-rata sebesar 10.728 dan daerah `Sheffield & DePaul` yang mempunyai rata-rata sebesar 1260 yang menjadi terbawah untuk 10 daerah pada selama bulan November 2017."
      ]
    },
    {
      "cell_type": "markdown",
      "metadata": {
        "id": "f0lkifOn3bkL"
      },
      "source": [
        "## Uji Hipotesis"
      ]
    },
    {
      "cell_type": "markdown",
      "metadata": {
        "id": "2N52znlL3bkM"
      },
      "source": [
        "Uji Hipotesis yang dilakukan adalah untuk tabel data perjalanan, cuaca, dan waktunya\n",
        "\n",
        "Dengan nilai kolom-kolom yang ada di data tabel ini:\n",
        "\n",
        "- start_ts — tanggal dan waktu penjemputan\n",
        "- weather_conditions — kondisi cuaca saat perjalanan dimulai\n",
        "- duration_seconds — durasi perjalanan dalam satuan detik"
      ]
    },
    {
      "cell_type": "markdown",
      "metadata": {
        "id": "T1FEmwNi3bkX"
      },
      "source": [
        "Standar yang digunakan untuk Uji-Hipotesis adalah 0.05 (5%). Karena itu merupakan standar terbaik untuk segala sektor dalam menguji hipotesisnya dan kebutuhan juga tidak terlalu mendesak atau penting, tetapi tidak terlalu santai karena digunakan untuk bisnis."
      ]
    },
    {
      "cell_type": "markdown",
      "metadata": {
        "id": "dkKO4N833bkY"
      },
      "source": [
        "Uji Hipotesis(T-test) yang digunakan yaitu \"Uji Hipotesis Persamaan Rata-Rata Dua Populasi\". yang dimana uji ini membandingkan populasi dengan kondisi yang berbeda."
      ]
    },
    {
      "cell_type": "markdown",
      "metadata": {
        "id": "x2fb9Zj03bkZ"
      },
      "source": [
        "Dilakukan juga \"Uji Levene\" yang dimana merupakan uji secara ilmiah untuk membuktikan bahwa nilai varians sama atau tidak. Karena nanti akan berpengaruh kepada uji hipotesis dengan t-test rata-rata dua populasi dengan menentukan variansnya asumsi sama atau tidak untuk dua populasi tersebut."
      ]
    },
    {
      "cell_type": "markdown",
      "metadata": {
        "id": "K5Kg-O1K3bka"
      },
      "source": [
        "Uji Hipotesis yang dilakukan untuk menguji asumsi \"Durasi rata-rata perjalanan dari Loop ke Bandara Internasional O'Hare berubah pada hari-hari Sabtu yang hujan.\" untuk membandingan dengan kondisi bukan hujan.\n",
        "\n",
        "Adapun pernyataan untuk membandingkan hujan atau tidak hujan\n",
        "- Ketika kondisi pada kolom `weather_conditions` adalah `Good` maka artinya tidak hujan.\n",
        "- Ketika kondisi pada kolom `weather_conditions` adalah `Bad` maka artinya hujan.\n",
        "\n",
        "Maka adapun pernyataan untuk uji hipotesisnya, yaitu:"
      ]
    },
    {
      "cell_type": "markdown",
      "metadata": {
        "id": "CJAFmbJm3bka"
      },
      "source": [
        "- **H0** : Perjalanan dari daerah Loop ke Bandara Internasional O'Hare berubah pada hari-hari Sabtu yang hujan adalah **SAMA**.\n",
        "\n",
        "- **H1** : Perjalanan dari daerah Loop ke Bandara Internasional O'Hare berubah pada hari-hari Sabtu yang hujan adalah **TIDAK SAMA**."
      ]
    },
    {
      "cell_type": "code",
      "execution_count": null,
      "metadata": {
        "id": "DwTma5Qf3bkf"
      },
      "outputs": [],
      "source": [
        "# mebuat variabel untuk menetukan hujan dan tidak hujan\n",
        "# Good artinya tidak hujan\n",
        "good_conditions = trip_weather_duration_without_outlier.query('weather_conditions == \"Good\"')\n",
        "\n",
        "# Bad artinya hujan\n",
        "bad_conditions = trip_weather_duration_without_outlier.query('weather_conditions == \"Bad\"')"
      ]
    },
    {
      "cell_type": "code",
      "execution_count": null,
      "metadata": {
        "id": "ykVa43kb3bkg",
        "outputId": "b1301b43-e07d-46d4-b890-e8974fcc5ab5"
      },
      "outputs": [
        {
          "name": "stdout",
          "output_type": "stream",
          "text": [
            "p-value:  0.6196707782686355\n",
            "Tidak bisa tolak H0, artinya bahwa nilai varians antara hujan dan tidak hujan adalah sama.\n"
          ]
        }
      ],
      "source": [
        "# uji varians\n",
        "H0 = 'nilai varians antara hujan dan tidak hujan adalah sama.'\n",
        "H1 = 'nilai varians antara hujan dan tidak hujan adalah tidak sama.'\n",
        "alpha = 0.05\n",
        "\n",
        "p_value_levene = st.levene(good_conditions['duration_seconds'],\n",
        "                           bad_conditions['duration_seconds']).pvalue\n",
        "print('p-value: ', p_value_levene)\n",
        "\n",
        "if (p_value_levene < alpha):\n",
        "    print(f'Tolak H0, artinya bahwa', H1)\n",
        "else:\n",
        "    print(f'Tidak bisa tolak H0, artinya bahwa', H0)"
      ]
    },
    {
      "cell_type": "code",
      "execution_count": null,
      "metadata": {
        "id": "vWojj1ou3bkh",
        "outputId": "e0be815c-612f-4434-91a2-34b348a4b253"
      },
      "outputs": [
        {
          "name": "stdout",
          "output_type": "stream",
          "text": [
            "nilai varian untuk good: 497572.525999469\n",
            "nilai varian untuk bad: 483684.220342686\n"
          ]
        }
      ],
      "source": [
        "# menguji nilai varian secara manual\n",
        "variance_good2 = np.var(good_conditions['duration_seconds'])\n",
        "print(f'nilai varian untuk good:', variance_good2)\n",
        "variance_bad2 = np.var(bad_conditions['duration_seconds'])\n",
        "print(f'nilai varian untuk bad:', variance_bad2)"
      ]
    },
    {
      "cell_type": "code",
      "execution_count": null,
      "metadata": {
        "id": "v9u61c-O3bkj",
        "outputId": "e43ce0e7-7774-4881-edd4-a9df42b8c51f"
      },
      "outputs": [
        {
          "name": "stdout",
          "output_type": "stream",
          "text": [
            "p-value: 1.2430038032744411e-13\n",
            "Tolak H0, artinya bahwa perjalanan dari daerah Loop ke Bandara Internasional O'Hare berubah pada hari-hari Sabtu yang hujan adalah tidak sama.\n"
          ]
        }
      ],
      "source": [
        "# uji hipotesis untuk rata-rata perjalan kondisi bad(hujan) dan good(tidak hujan)\n",
        "H0 = \"perjalanan dari daerah Loop ke Bandara Internasional O'Hare berubah pada hari-hari Sabtu yang hujan adalah sama.\"\n",
        "H1 = \"perjalanan dari daerah Loop ke Bandara Internasional O'Hare berubah pada hari-hari Sabtu yang hujan adalah tidak sama.\"\n",
        "\n",
        "alpha = 0.05\n",
        "results_weather = st.ttest_ind(good_conditions['duration_seconds'], \n",
        "                               bad_conditions['duration_seconds'], equal_var=True).pvalue\n",
        "print('p-value:', results_weather)\n",
        "\n",
        "if (results_weather < alpha):\n",
        "    print(f'Tolak H0, artinya bahwa', H1)\n",
        "else:\n",
        "    print(f'Tidak bisa tolak H0, artinya bahwa', H0)"
      ]
    },
    {
      "cell_type": "markdown",
      "metadata": {
        "id": "dj_oOBbi3bkl"
      },
      "source": [
        "Karena rata-rata perjalanan dari daerah Loop ke Bandara Internasional O'Hare berubah pada hari-hari Sabtu yang hujan adalah tidak sama. Mari buktikan dengan menghitung rata-ratanya untuk kondisi `Good` dan `Bad`."
      ]
    },
    {
      "cell_type": "code",
      "execution_count": null,
      "metadata": {
        "id": "_Nm1pg4b3bkm",
        "outputId": "401032fd-7f22-4eab-bb24-6e528bcb17b3"
      },
      "outputs": [
        {
          "name": "stdout",
          "output_type": "stream",
          "text": [
            "Rata-rata perjalan saat kondisi tidak hujan (Good) adalah: 1979.2661381653454 detik\n",
            "Rata-rata perjalan saat kondisi hujan (Bad) adalah: 2412.9441340782123 detik\n"
          ]
        }
      ],
      "source": [
        "# Melihat rata-rata perjalanan secara manual\n",
        "print(f'Rata-rata perjalan saat kondisi tidak hujan (Good) adalah:', good_conditions['duration_seconds'].mean(), f'detik')\n",
        "print(f'Rata-rata perjalan saat kondisi hujan (Bad) adalah:', bad_conditions['duration_seconds'].mean(), f'detik')"
      ]
    },
    {
      "cell_type": "markdown",
      "metadata": {
        "id": "QPWl5BL83bkn"
      },
      "source": [
        "Kesimpulan : Bahwa Uji-Hipotesis rata-rata perjalanan dari daerah Loop ke Bandara Internasional O'Hare berubah pada hari-hari Sabtu yang hujan adalah berubah dengan dikuatkan untuk penghitungan rata-rata secara manual untuk kondisi tidak hujan (Good) dan kondisi hujan (Bad) secara satu per-satu dan hasilnya adalah tidak sama."
      ]
    },
    {
      "cell_type": "markdown",
      "metadata": {
        "id": "qBarowX53bkq"
      },
      "source": [
        "## Ringkasan & Kesimpulan"
      ]
    },
    {
      "cell_type": "markdown",
      "metadata": {
        "id": "sW7xR3nO3bkr"
      },
      "source": [
        "### Ringkasan"
      ]
    },
    {
      "cell_type": "markdown",
      "metadata": {
        "id": "3r-YtuVj3bks"
      },
      "source": [
        "Untuk menganalisa rata-rata perjalanan untuk 10 wilayah teratas pada titik pengantaran selama bulan November dan 10 perusahaan taksi dengan jumlah perjalanan terbanyak pada tanggal 15-16 Novermber 2017 dilakukan analisa eksplorasi dan pembautan grafik.\n",
        "\n",
        "Untuk menganalisa apakah perjalan dari daerah Loop ke Bandara Internasional O'Hare berubah pada hari-hari Sabtu yang hujan akan terdapat perubahan waktunya maka diperlukan Uji Hipotesis dengan rata-rata dua populasi,"
      ]
    },
    {
      "cell_type": "markdown",
      "metadata": {
        "id": "5IQxg27D3bks"
      },
      "source": [
        "### Kesimpulan"
      ]
    },
    {
      "cell_type": "markdown",
      "metadata": {
        "id": "BykwwiYt3bkt"
      },
      "source": [
        "Bahwa pada rata-rata perjalanan untuk 10 wilayah teratas pada titik pengantaran selama bulan November dengan daerahnya sesuai berurutar, yaitu:\n",
        "\n",
        "- Loop\n",
        "- River North\n",
        "- Streeterville\n",
        "- West Loop\n",
        "- O'Hare\n",
        "- Lake View\n",
        "- Grant Park\n",
        "- Museum Campus\n",
        "- Gold Coast\n",
        "- Sheffield & DePaul\n",
        "\n",
        "Dengan nilai teratas yaitu daerah Loop yang mempunyai rata-rata sebesar 10.728 dan daerah Sheffield & DePaul yang mempunyai rata-rata sebesar 1260 yang menjadi terbawah untuk 10 daerah pada selama bulan November 2017."
      ]
    },
    {
      "cell_type": "markdown",
      "metadata": {
        "id": "PYX9jO3V3bku"
      },
      "source": [
        "Bahwa 10 perusahaan yang mempunyai jumlah perjalanan terbanyak pada tanggal 15-16 Novomber 2017, adapun perusahaaanya secara berutan yaitu:\n",
        "\n",
        "1. Flash Cab\n",
        "2. Taxi Affiliation Services\n",
        "3. Medallion Leasing\n",
        "4. Yellow Cab\n",
        "5. Taxi Affiliation Service Yellow\n",
        "6. Chicago Carriage Cab Corp\n",
        "7. City Service\n",
        "8. Sun Taxi\n",
        "9. Star North Management LLC\n",
        "10. Blue Ribbon Taxi Association Inc.\n",
        "\n",
        "Dengan nilai terbanyak pada perusahaan `Flas Cab` dengan nilai sebesar 19558 dan perusahaan `Blue Ribbon Taxi Association Inc.` dengan nilai sebesar 5953 dengan nilai paling sedikit untuk 10 perusahaan teratas."
      ]
    },
    {
      "cell_type": "markdown",
      "metadata": {
        "id": "nuxFcYuP3bk0"
      },
      "source": [
        "Dari hasil uji hipotesis dengan menggunakan \"Uji Levene\" dan \"Uji Hipotesis Persamaan Rata-Rata Dua Populasi\" untuk menguji rata-rata perjalan daerah Loop ke Bandara Internasional O'Hare berubah pada hari-hari Sabtu dalam kondisi hujan dan tidak hujan ditemukan, bahwa rata-rata perjalanan dari daerah Loop ke Bandara Internasional O'Hare berubah pada hari-hari Sabtu yang hujan mengalami perubahan. "
      ]
    }
  ],
  "metadata": {
    "kernelspec": {
      "display_name": "Python 3 (ipykernel)",
      "language": "python",
      "name": "python3"
    },
    "language_info": {
      "codemirror_mode": {
        "name": "ipython",
        "version": 3
      },
      "file_extension": ".py",
      "mimetype": "text/x-python",
      "name": "python",
      "nbconvert_exporter": "python",
      "pygments_lexer": "ipython3",
      "version": "3.9.5"
    },
    "toc": {
      "base_numbering": 1,
      "nav_menu": {},
      "number_sections": true,
      "sideBar": true,
      "skip_h1_title": true,
      "title_cell": "Table of Contents",
      "title_sidebar": "Contents",
      "toc_cell": false,
      "toc_position": {
        "height": "425px",
        "left": "147px",
        "top": "134.133px",
        "width": "279.4px"
      },
      "toc_section_display": true,
      "toc_window_display": false
    },
    "colab": {
      "provenance": []
    }
  },
  "nbformat": 4,
  "nbformat_minor": 0
}